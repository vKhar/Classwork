{
 "cells": [
  {
   "attachments": {},
   "cell_type": "markdown",
   "metadata": {},
   "source": [
    "### Given a in_order  and a post_order traversal of a binary tree output a pre_order traversal\n",
    "\n",
    "Algorithm:\n",
    "- last node in post_fix list is the root of the tree in the list\n",
    "- find the index of the root in the in_fix list\n",
    "    - nodes on the left of index  is in the left subtree, nodes on the right belongs to the right subtree\n",
    "- right <- recursively obtain the pre_order of the right subtree  \n",
    "(have to recurse on right subtree first because the post_order list is left, right, root\n",
    "- left <- recursively obtain the pre_order of the left subtree \n",
    "- return  [root] + left + right"
   ]
  },
  {
   "cell_type": "code",
   "execution_count": 3,
   "metadata": {},
   "outputs": [],
   "source": [
    "## Assume unique nodes in tree \n",
    "in_fix = [4,\"*\",3,\"-\",-3,\"+\",8,\"/\",5]\n",
    "post_fix = [4,3,\"*\",-3,8,\"+\",5,\"/\",\"-\"]\n",
    "\n",
    "def pre_order(in_fix, post_fix):\n",
    "    if len(in_fix) == 1:\n",
    "        post_fix.pop(-1)\n",
    "        return in_fix\n",
    "    elif len(in_fix) == 0:\n",
    "        return []\n",
    "    else:\n",
    "        root = post_fix.pop(-1)\n",
    "        mid = in_fix.index(root)\n",
    "        right = pre_order(in_fix[mid+1:], post_fix)\n",
    "        left = pre_order(in_fix[:mid], post_fix)\n",
    "        return [root] + left + right"
   ]
  },
  {
   "cell_type": "code",
   "execution_count": 4,
   "metadata": {},
   "outputs": [
    {
     "data": {
      "text/plain": [
       "['-', '*', 4, 3, '/', '+', -3, 8, 5]"
      ]
     },
     "execution_count": 4,
     "metadata": {},
     "output_type": "execute_result"
    }
   ],
   "source": [
    "pre_order(in_fix, post_fix) "
   ]
  },
  {
   "attachments": {},
   "cell_type": "markdown",
   "metadata": {},
   "source": [
    "### Given a pre_order and in_order traversal, output the post_order traversal\n",
    "\n",
    "Algorithm:\n",
    "- same as previous except that the root is obtained from the first node in the pre_fix list"
   ]
  },
  {
   "cell_type": "code",
   "execution_count": 52,
   "metadata": {},
   "outputs": [],
   "source": [
    "in_fix = [4,\"*\",3,\"-\",-3,\"+\",8,\"/\",5]\n",
    "pre_fix = ['-', '*', 4, 3, '/', '+', -3, 8, 5]"
   ]
  },
  {
   "cell_type": "code",
   "execution_count": 36,
   "metadata": {},
   "outputs": [],
   "source": [
    "def post_order (in_fix, pre_fix):\n",
    "    if len(in_fix) == 1:\n",
    "        pre_fix.pop(0)\n",
    "        return in_fix\n",
    "    elif len(in_fix) == 0:\n",
    "        return []\n",
    "    else:\n",
    "        root = pre_fix.pop(0)\n",
    "        mid = in_fix.index(root)\n",
    "        left = post_order( in_fix[:mid], pre_fix)\n",
    "        right = post_order( in_fix[mid+1:], pre_fix)\n",
    "        return left + right + [root]\n"
   ]
  },
  {
   "cell_type": "code",
   "execution_count": 53,
   "metadata": {},
   "outputs": [
    {
     "data": {
      "text/plain": [
       "[4, 3, '*', -3, 8, '+', 5, '/', '-']"
      ]
     },
     "execution_count": 53,
     "metadata": {},
     "output_type": "execute_result"
    }
   ],
   "source": [
    "post_order(in_fix, pre_fix)"
   ]
  },
  {
   "cell_type": "markdown",
   "metadata": {},
   "source": [
    "### Given a pre-order and post_order traversals of a a full binary tree, output the in_order traversal\n",
    "(0 or 2 childs)"
   ]
  },
  {
   "cell_type": "code",
   "execution_count": 86,
   "metadata": {},
   "outputs": [],
   "source": [
    "post_fix = [4,3,\"*\",-3,8,\"+\",5,\"/\",\"-\"]\n",
    "pre_fix  = ['-', '*', 4, 3, '/', '+', -3, 8, 5]"
   ]
  },
  {
   "cell_type": "code",
   "execution_count": 87,
   "metadata": {},
   "outputs": [],
   "source": [
    "def in_order(pre_fix, post_fix):\n",
    "    if len(post_fix) == 1:\n",
    "        pre_fix.pop(0)\n",
    "        return post_fix\n",
    "    elif len(post_fix) == 0:\n",
    "        return []\n",
    "    else:\n",
    "        root = pre_fix.pop(0)\n",
    "        left_root = pre_fix[0]\n",
    "        left_root_index = post_fix.index(left_root)\n",
    "        left = in_order( pre_fix, post_fix[:left_root_index+1])\n",
    "        right = in_order(pre_fix, post_fix[left_root_index+1:-1])\n",
    "        return left + [root] + right"
   ]
  },
  {
   "cell_type": "code",
   "execution_count": 88,
   "metadata": {},
   "outputs": [
    {
     "data": {
      "text/plain": [
       "[4, '*', 3, '-', -3, '+', 8, '/', 5]"
      ]
     },
     "execution_count": 88,
     "metadata": {},
     "output_type": "execute_result"
    }
   ],
   "source": [
    "in_order(pre_fix, post_fix)"
   ]
  }
 ],
 "metadata": {
  "kernelspec": {
   "display_name": "Python 3.6.4 64-bit",
   "language": "python",
   "name": "python3"
  },
  "language_info": {
   "codemirror_mode": {
    "name": "ipython",
    "version": 3
   },
   "file_extension": ".py",
   "mimetype": "text/x-python",
   "name": "python",
   "nbconvert_exporter": "python",
   "pygments_lexer": "ipython3",
   "version": "3.6.4"
  },
  "orig_nbformat": 4,
  "vscode": {
   "interpreter": {
    "hash": "f4e9cda46bb2d9d7fe6ecdff0f8336a934348bf06cb492f2f42f60739b3403b4"
   }
  }
 },
 "nbformat": 4,
 "nbformat_minor": 2
}
