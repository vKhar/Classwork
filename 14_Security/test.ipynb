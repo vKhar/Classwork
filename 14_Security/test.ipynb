{
 "cells": [
  {
   "cell_type": "code",
   "execution_count": 1,
   "metadata": {},
   "outputs": [
    {
     "data": {
      "text/plain": [
       "['g:\\\\My Drive\\\\Classroom\\\\2022_cz2a\\\\Classwork\\\\14_Security',\n",
       " '',\n",
       " 'C:\\\\Python',\n",
       " 'C:\\\\Lib',\n",
       " 'c:\\\\Program Files\\\\Python36\\\\python36.zip',\n",
       " 'c:\\\\Program Files\\\\Python36\\\\DLLs',\n",
       " 'c:\\\\Program Files\\\\Python36\\\\lib',\n",
       " 'c:\\\\Program Files\\\\Python36',\n",
       " 'C:\\\\Users\\\\kharw\\\\AppData\\\\Roaming\\\\Python\\\\Python36\\\\site-packages',\n",
       " 'c:\\\\Program Files\\\\Python36\\\\lib\\\\site-packages',\n",
       " 'c:\\\\Program Files\\\\Python36\\\\lib\\\\site-packages\\\\IPython\\\\extensions',\n",
       " 'C:\\\\Users\\\\kharw\\\\.ipython']"
      ]
     },
     "execution_count": 1,
     "metadata": {},
     "output_type": "execute_result"
    }
   ],
   "source": [
    "import sys\n",
    "sys.path"
   ]
  }
 ],
 "metadata": {
  "kernelspec": {
   "display_name": "Python 3",
   "language": "python",
   "name": "python3"
  },
  "language_info": {
   "codemirror_mode": {
    "name": "ipython",
    "version": 3
   },
   "file_extension": ".py",
   "mimetype": "text/x-python",
   "name": "python",
   "nbconvert_exporter": "python",
   "pygments_lexer": "ipython3",
   "version": "3.6.4"
  },
  "orig_nbformat": 4
 },
 "nbformat": 4,
 "nbformat_minor": 2
}
