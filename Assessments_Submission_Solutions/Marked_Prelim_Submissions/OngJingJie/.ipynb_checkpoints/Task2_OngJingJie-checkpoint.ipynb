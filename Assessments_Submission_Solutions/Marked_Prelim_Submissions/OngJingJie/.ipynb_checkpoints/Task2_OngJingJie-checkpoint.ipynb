{
 "cells": [
  {
   "cell_type": "code",
   "execution_count": 46,
   "metadata": {},
   "outputs": [
    {
     "name": "stdout",
     "output_type": "stream",
     "text": [
      "Interchange B bus stop code is 16009\n",
      "Interchange A bus stop code is 75009\n"
     ]
    }
   ],
   "source": [
    "##Task 2.1\n",
    "\n",
    "f = open(\"ARRIVALS.TXT\")\n",
    "dir1, dir2 = [], [] ##direction 1 and 2\n",
    "for lines in f.readlines()[1:]: ##ignoring headers\n",
    "    bus_stop = lines.strip().split(\",\")\n",
    "    bus_stop = list(map(int, bus_stop[:3])) + [float(bus_stop[3])] + [bus_stop[4]] ##concerts data to relevant data type\n",
    "    if bus_stop[1] == 1:\n",
    "        dir1.append(bus_stop)\n",
    "    else:\n",
    "        dir2.append(bus_stop)\n",
    "        \n",
    "##sort according to stop sequence\n",
    "dir1.sort()\n",
    "dir2.sort()\n",
    "\n",
    "\n",
    "print(f\"Interchange B bus stop code is {dir1[-1][2]}\")\n",
    "print(f\"Interchange A bus stop code is {dir2[-1][2]}\")\n",
    "\n",
    "f.close()"
   ]
  },
  {
   "cell_type": "code",
   "execution_count": 27,
   "metadata": {},
   "outputs": [
    {
     "name": "stdout",
     "output_type": "stream",
     "text": [
      "Direction   Start      End      Total   \n",
      "    1        0500      0627     1H,27M  \n",
      "    2        0600      0730     1H,30M  \n"
     ]
    }
   ],
   "source": [
    "#Task 2.2\n",
    "\n",
    "from datetime import datetime\n",
    "\n",
    "##getting start and end time\n",
    "start_1, end_1 = dir1[0][-1], dir1[-1][-1]\n",
    "start_2, end_2 = dir2[0][-1], dir2[-1][-1]\n",
    "\n",
    "\n",
    "def string_2_time(string):\n",
    "    return datetime.strptime(string, \"%H%M\")\n",
    "\n",
    "#converting time difference to seconds\n",
    "diff_1 = (string_2_time(end_1) - string_2_time(start_1)).seconds\n",
    "diff_2 = (string_2_time(end_2) - string_2_time(start_2)).seconds\n",
    "\n",
    "#finding time diff in hours and minutes\n",
    "hour1, minute1 = diff_1//3600, diff_1//60%60 \n",
    "hour2, minute2 = diff_2//3600, diff_2//60%60 \n",
    "\n",
    "total1 = f\"{hour1}H,{minute1}M\"\n",
    "total2 = f\"{hour2}H,{minute2}M\"\n",
    "\n",
    "\n",
    "print(f\"{'Direction':<10}{'Start':^10}{'End':^10}{'Total':^10}\")\n",
    "print(f\"{'1':^10}{start_1:^10}{end_1:^10}{total1:^10}\")\n",
    "print(f\"{'2':^10}{start_2:^10}{end_2:^10}{total2:^10}\")"
   ]
  },
  {
   "cell_type": "code",
   "execution_count": 29,
   "metadata": {},
   "outputs": [
    {
     "name": "stdout",
     "output_type": "stream",
     "text": [
      "Direction 1\n",
      "76069 to 96289: 4m\n",
      "80219 to 80169: 3m\n",
      "2119 to 3019: 3m\n",
      "3217 to 5649: 3m\n",
      "Direction 2\n",
      "14089 to 14069: 3m\n",
      "80161 to 80211: 4m\n",
      "96281 to 76061: 4m\n"
     ]
    }
   ],
   "source": [
    "##Task 2.3\n",
    "\n",
    "def string_2_time(string):\n",
    "    return datetime.strptime(string, \"%H%M\")\n",
    "\n",
    "def time_diff(time_start, time_end): ##returns time diff in minutes\n",
    "    return (time_end-time_start).seconds//60\n",
    "\n",
    "print(\"Direction 1\")\n",
    "for i in range(len(dir1)-1):\n",
    "    time_taken = time_diff(string_2_time(dir1[i][-1]), string_2_time(dir1[i+1][-1]))\n",
    "    if time_taken>2:\n",
    "        print(f\"{dir1[i][2]} to {dir1[i+1][2]}: {time_taken}m\")\n",
    "\n",
    "print(\"Direction 2\")\n",
    "for i in range(len(dir2)-1):\n",
    "    time_taken = time_diff(string_2_time(dir2[i][-1]), string_2_time(dir2[i+1][-1]))\n",
    "    if time_taken>2:\n",
    "        print(f\"{dir2[i][2]} to {dir2[i+1][2]}: {time_taken}m\")\n"
   ]
  },
  {
   "cell_type": "code",
   "execution_count": 32,
   "metadata": {},
   "outputs": [
    {
     "name": "stdout",
     "output_type": "stream",
     "text": [
      "Distance 1\n",
      "longest distance between two adjacent bus stops is 1.40 km\n",
      "Distance 2\n",
      "longest distance between two adjacent bus stops is 1.60 km\n"
     ]
    }
   ],
   "source": [
    "##Task 2.4\n",
    "\n",
    "max1, max2 = 0,0\n",
    "\n",
    "for i in range(len(dir1)-1):\n",
    "    distance_diff = dir1[i+1][-2]-dir1[i][-2]\n",
    "    if distance_diff>max1:\n",
    "        max1 = distance_diff\n",
    "        \n",
    "for i in range(len(dir2)-1):\n",
    "    distance_diff = dir2[i+1][-2]-dir2[i][-2]\n",
    "    if distance_diff>max2:\n",
    "        max2 = distance_diff\n",
    "\n",
    "print(\"Distance 1\")\n",
    "print(f\"longest distance between two adjacent bus stops is {max1:.2f} km\")\n",
    "print(\"Distance 2\")\n",
    "print(f\"longest distance between two adjacent bus stops is {max2:.2f} km\")"
   ]
  },
  {
   "cell_type": "code",
   "execution_count": 45,
   "metadata": {},
   "outputs": [
    {
     "name": "stdout",
     "output_type": "stream",
     "text": [
      "The time at which the two buses is closest to each other is at 0615 at bus stops 15161 and 15159\n"
     ]
    }
   ],
   "source": [
    "##Task 2.5\n",
    "\n",
    "##making list of the time when each bus is at a bus stop\n",
    "times1, times2 = [], []\n",
    "for stop in dir1:\n",
    "    times1.append(stop[-1])\n",
    "for stop in dir2:\n",
    "    times2.append(stop[-1])\n",
    "    \n",
    "\n",
    "#checking if the other bus is at a bus stop at the same time\n",
    "for i in range(len(times1)):\n",
    "    if times1[i] not in times2:\n",
    "        times1[i] = 0\n",
    "\n",
    "for i in range(len(times2)):\n",
    "    if times2[i] not in times1:\n",
    "        times2[i] = 0\n",
    "        \n",
    "##finding the bus stops where distance is closest\n",
    "bus_stops = [0, 0] ##[dir1, dir2]\n",
    "min_distance = float('inf')\n",
    "time = \"0000\"\n",
    "\n",
    "total_distance = dir1[-1][-2]\n",
    "\n",
    "for i in range(len(times1)):\n",
    "    if times1[i] == 0:\n",
    "        continue\n",
    "    else:\n",
    "        index1, index2 = i, times2.index(times1[i])\n",
    "        distance = abs(dir1[index1][-2]+dir2[index2][-2]-total_distance)\n",
    "        if distance<min_distance:\n",
    "            min_distance = distance\n",
    "            bus_stops = [dir1[index1][2], dir2[index2][2]]\n",
    "            time = times1[i]\n",
    "\n",
    "print(f\"The time at which the two buses is closest to each other is at {time} at bus stops {bus_stops[0]} and {bus_stops[1]}\")"
   ]
  },
  {
   "cell_type": "code",
   "execution_count": null,
   "metadata": {},
   "outputs": [],
   "source": []
  }
 ],
 "metadata": {
  "kernelspec": {
   "display_name": "Python 3",
   "language": "python",
   "name": "python3"
  },
  "language_info": {
   "codemirror_mode": {
    "name": "ipython",
    "version": 3
   },
   "file_extension": ".py",
   "mimetype": "text/x-python",
   "name": "python",
   "nbconvert_exporter": "python",
   "pygments_lexer": "ipython3",
   "version": "3.6.4"
  }
 },
 "nbformat": 4,
 "nbformat_minor": 2
}
