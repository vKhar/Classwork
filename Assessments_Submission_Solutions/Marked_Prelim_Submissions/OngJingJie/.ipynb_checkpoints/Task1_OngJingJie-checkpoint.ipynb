{
 "cells": [
  {
   "cell_type": "code",
   "execution_count": 46,
   "metadata": {},
   "outputs": [],
   "source": [
    "#Task 1.1\n",
    "\n",
    "class Node:\n",
    "    def __init__(self, data):\n",
    "        self.__data = data\n",
    "        self.__next = None #pointer points to None if no next node\n",
    "    def set_next(self, obj):\n",
    "        self.__next = obj\n",
    "    def get_next(self):\n",
    "        return self.__next\n",
    "    def set_data(self, data):\n",
    "        self.__data = data\n",
    "    def get_data(self):\n",
    "        return self.__data\n",
    "    \n",
    "class LinkedList:\n",
    "    def __init__(self):\n",
    "        self.start = None\n",
    "    def is_empty(self):\n",
    "        if self.start == None:\n",
    "            return True\n",
    "        return False\n",
    "    def insert_front(self, data):\n",
    "        new_node = Node(data)\n",
    "        if self.start is not None:\n",
    "            new_node.set_next(self.start)\n",
    "        self.start = new_node\n",
    "    def remove_front(self): ##assume item refers to the data item\n",
    "        if self.is_empty():\n",
    "            return ##returns None if linked list is empty\n",
    "        else:\n",
    "            ret = self.start\n",
    "            self.start = self.start.get_next()\n",
    "            return ret.get_data()\n",
    "    def __repr__(self):\n",
    "        data = []\n",
    "        cur = self.start\n",
    "        while cur is not None:\n",
    "            data.append(cur.get_data())\n",
    "            cur = cur.get_next()\n",
    "        return f\"{data}\"\n",
    "    def get_start_data(self):\n",
    "        if self.is_empty():\n",
    "            return None\n",
    "        else:\n",
    "            return self.start.get_data()\n",
    "        \n",
    "        \n",
    "#l = LinkedList()\n",
    "#print(l.is_empty())\n",
    "#l.insert_front(1)\n",
    "#l.insert_front(2)\n",
    "#l.insert_front(3)\n",
    "#print(l.is_empty())\n",
    "#print(l.remove_front())\n",
    "#print(l)"
   ]
  },
  {
   "cell_type": "code",
   "execution_count": 47,
   "metadata": {},
   "outputs": [
    {
     "name": "stdout",
     "output_type": "stream",
     "text": [
      "None\n",
      "None\n",
      "True\n",
      "False\n",
      "2\n",
      "2\n"
     ]
    }
   ],
   "source": [
    "#Task 1.2\n",
    "\n",
    "class Stack():\n",
    "    def __init__(self):\n",
    "        self.top = LinkedList()\n",
    "    def push(self, item):\n",
    "        self.top.insert_front(item)\n",
    "    def pop(self):\n",
    "        return self.top.remove_front()\n",
    "    def peek(self):\n",
    "        return self.top.get_start_data()\n",
    "    def is_empty(self):\n",
    "        return self.top.is_empty()\n",
    "    "
   ]
  },
  {
   "cell_type": "code",
   "execution_count": null,
   "metadata": {},
   "outputs": [],
   "source": [
    "#Task 1.3\n",
    "\n",
    "stack = Stack()\n",
    "print(stack.peek()) ##expect None\n",
    "print(stack.pop())  ##expect None\n",
    "print(stack.is_empty()) ##expect True\n",
    "stack.push(1)\n",
    "stack.push(2)\n",
    "print(stack.is_empty()) ##expect False\n",
    "print(stack.peek())  ##expect 2\n",
    "print(stack.pop())  ##expect 2"
   ]
  },
  {
   "cell_type": "code",
   "execution_count": 48,
   "metadata": {},
   "outputs": [],
   "source": [
    "##Task 1.4\n",
    "\n",
    "class Queue:\n",
    "    def __init__(self):\n",
    "        self.queue = Stack()\n",
    "        self.counter = 0 ##stores the number of items in the queue\n",
    "    def dequeue(self):\n",
    "        ret = self.queue.pop()\n",
    "        if ret is not None:\n",
    "            self.counter -= 1\n",
    "        return ret\n",
    "    def enqueue(self, data):\n",
    "        if self.queue.is_empty():\n",
    "            self.queue.push(data)\n",
    "        else:\n",
    "            temp = Stack()\n",
    "            for i in range(self.counter):  ##stores all the items from the queue in a temporary stack\n",
    "                temp.push(self.queue.pop())\n",
    "            self.queue.push(data)  ##enqueues the data into a now empty queue\n",
    "            for i in range(self.counter):  ##transfers back all the items from the temporary stack to the queue\n",
    "                self.queue.push(temp.pop())\n",
    "        self.counter += 1\n",
    "    def is_empty(self):\n",
    "        if self.queue.is_empty():\n",
    "            return True\n",
    "        return False\n",
    "\n"
   ]
  },
  {
   "cell_type": "code",
   "execution_count": 49,
   "metadata": {},
   "outputs": [
    {
     "name": "stdout",
     "output_type": "stream",
     "text": [
      "True\n",
      "None\n",
      "1\n",
      "False\n",
      "2\n"
     ]
    }
   ],
   "source": [
    "##Task 1.5\n",
    "\n",
    "queue = Queue()\n",
    "print(queue.is_empty()) ##expect True\n",
    "print(queue.dequeue()) ##expect None\n",
    "queue.enqueue(1)\n",
    "print(queue.dequeue()) ##expect 1\n",
    "queue.enqueue(2)\n",
    "queue.enqueue(3)\n",
    "print(queue.is_empty()) ##expect False\n",
    "print(queue.dequeue()) ##expect 2"
   ]
  },
  {
   "cell_type": "code",
   "execution_count": 50,
   "metadata": {},
   "outputs": [],
   "source": [
    "##Task 1.6\n",
    "\n",
    "class MaxQueue(Queue):\n",
    "    def __init__(self):\n",
    "        super().__init__()\n",
    "    def peek_max(self):\n",
    "        maximum = None\n",
    "        if not self.is_empty(): ##when the queue is not empty\n",
    "            for i in range(self.counter):\n",
    "                data = self.dequeue()\n",
    "                if maximum is None: ##the first data becomes the maximum\n",
    "                    maximum = data\n",
    "                elif data>maximum:\n",
    "                    maximum = data\n",
    "                self.enqueue(data)\n",
    "        return maximum #returns None when queue is empty\n",
    "\n",
    "\n",
    "                \n",
    "#queue = MaxQueue()\n",
    "#print(queue.is_empty()) ##expect True\n",
    "#print(queue.dequeue()) ##expect None\n",
    "#queue.enqueue(1)\n",
    "#print(queue.peek_max()) ##expect 1\n",
    "#print(queue.dequeue()) ##expect 1\n",
    "#queue.enqueue(2)\n",
    "#queue.enqueue(3)\n",
    "#print(queue.peek_max()) ##expect 3\n",
    "#print(queue.is_empty()) ##expect False\n",
    "#print(queue.dequeue()) ##expect 2  "
   ]
  },
  {
   "cell_type": "code",
   "execution_count": null,
   "metadata": {},
   "outputs": [],
   "source": []
  }
 ],
 "metadata": {
  "kernelspec": {
   "display_name": "Python 3",
   "language": "python",
   "name": "python3"
  },
  "language_info": {
   "codemirror_mode": {
    "name": "ipython",
    "version": 3
   },
   "file_extension": ".py",
   "mimetype": "text/x-python",
   "name": "python",
   "nbconvert_exporter": "python",
   "pygments_lexer": "ipython3",
   "version": "3.6.4"
  }
 },
 "nbformat": 4,
 "nbformat_minor": 2
}
