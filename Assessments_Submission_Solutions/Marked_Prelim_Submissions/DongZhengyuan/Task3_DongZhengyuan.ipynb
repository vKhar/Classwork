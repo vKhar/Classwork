{
 "cells": [
  {
   "cell_type": "code",
   "execution_count": null,
   "metadata": {},
   "outputs": [],
   "source": [
    "#Task 3.1\n",
    "def qsort(words:list): #Returns list of tuples. Assume it parses a list of length 1 with n tuples.\n",
    "    if len(words) < 2:\n",
    "        return words\n",
    "    pivot = words[0]\n",
    "    words = words[1:]\n",
    "    #print(words)\n",
    "    left = []\n",
    "    right = []\n",
    "    for w in words:#sort by first index of the tuple\n",
    "        #print(w[0], pivot[0])\n",
    "        if w > pivot:\n",
    "            right.append(w)\n",
    "        else:\n",
    "            left.append(w)\n",
    "    return qsort(left) + [pivot] + qsort(right)\n",
    "\n",
    "print(qsort([(\"Orange\",23),(\"Apple\",121),(\"Mango\",2),(\"Durian\",4)]))"
   ]
  },
  {
   "cell_type": "markdown",
   "metadata": {},
   "source": [
    "- 5m"
   ]
  },
  {
   "cell_type": "code",
   "execution_count": null,
   "metadata": {},
   "outputs": [],
   "source": [
    "#Task 3.2\n",
    "def qsort(words:list): #Returns list of tuples. Assume it parses a list of length 1 with n tuples.\n",
    "    if len(words) < 2:\n",
    "        return words\n",
    "    pivot = words[0]\n",
    "    words = words[1:]\n",
    "    #print(words)\n",
    "    left = []\n",
    "    right = []\n",
    "    for w in words:#sort by first index of the tuple\n",
    "        #print(w[0], pivot[0])\n",
    "        if w > pivot:\n",
    "            right.append(w)\n",
    "        else:\n",
    "            left.append(w)\n",
    "    return qsort(left) + [pivot] + qsort(right)\n",
    "\n",
    "import random\n",
    "largelist = []\n",
    "for n in range(3500): #list of 3000 or more tuples\n",
    "    rng = (random.randint(0,100),random.randint(0,100))\n",
    "    largelist.append(rng)\n",
    "print(qsort([(\"Orange\",23),(\"Apple\",121),(\"Mango\",2),(\"Durian\",4)])) #valid test case\n",
    "print(qsort([()])) #boundry test case\n",
    "print(qsort(largelist)) #invalid test case"
   ]
  },
  {
   "cell_type": "markdown",
   "metadata": {},
   "source": [
    "- invalid case was not produced\n",
    "- 2m"
   ]
  },
  {
   "cell_type": "code",
   "execution_count": null,
   "metadata": {},
   "outputs": [],
   "source": [
    "#Task 3.3\n",
    "f = open(\"WORDS.TXT\",\"r\")\n",
    "wordlist = []\n",
    "index = 1\n",
    "for line in f.readlines():\n",
    "    wordlist.append((line, index))\n",
    "    index += 1\n",
    "    \n",
    "sorted_partial = [] #list of lists\n",
    "while wordlist:\n",
    "    sorted_tmp = qsort(wordlist[:2000])\n",
    "    sorted_partial.append(sorted_tmp)\n",
    "    wordlist = wordlist[2000:]\n",
    "\n",
    "sorted_all = []\n",
    "def merge(A,B):\n",
    "    ret = []\n",
    "    while A and B:\n",
    "        if A[0] > B[0]:\n",
    "            ret.append(A.pop(0))\n",
    "        else:\n",
    "            ret.append(B.pop(0))\n",
    "    return ret + A + B\n",
    "\n",
    "def merge_helper(L):\n",
    "    cur = 0\n",
    "    curList = L[0]\n",
    "    while L:\n",
    "        curList = merge(curList, L[cur+1])\n",
    "        cur += 1\n",
    "    return curList\n",
    "sorted_all = merge_helper(sorted_partial)\n",
    "f.close()"
   ]
  },
  {
   "cell_type": "markdown",
   "metadata": {},
   "source": [
    "- \\n was not removed\n",
    "- line 19 , what order are you sorting on ?!!!\n",
    "- line 28, will your list L ever be empty ?!!!\n",
    "- line 29, you will get index out of range\n",
    "- YOU SHOULD NOT BE MAKING THIS TYPE OF MISTAKE RIGHT NOW!!!\n",
    "- If you are not sure how the while loop works, test it with a simple sorted_partial first, like ```[ [9,99],[1,2],[2,8]]``` or simply use a   ``` for cur in range(1, len(L)) loop !! ```\n",
    "- your Pyhon fundamentals are still VERY weak\n",
    "- 6m"
   ]
  }
 ],
 "metadata": {
  "kernelspec": {
   "display_name": "Python 3",
   "language": "python",
   "name": "python3"
  },
  "language_info": {
   "codemirror_mode": {
    "name": "ipython",
    "version": 3
   },
   "file_extension": ".py",
   "mimetype": "text/x-python",
   "name": "python",
   "nbconvert_exporter": "python",
   "pygments_lexer": "ipython3",
   "version": "3.6.4"
  }
 },
 "nbformat": 4,
 "nbformat_minor": 2
}
