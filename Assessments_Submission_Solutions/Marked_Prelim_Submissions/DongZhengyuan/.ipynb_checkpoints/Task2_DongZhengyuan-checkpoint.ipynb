{
 "cells": [
  {
   "cell_type": "code",
   "execution_count": 15,
   "metadata": {},
   "outputs": [
    {
     "name": "stdout",
     "output_type": "stream",
     "text": [
      "75009\n",
      "16009\n"
     ]
    }
   ],
   "source": [
    "f = open(\"ARRIVALS.TXT\", \"r\")\n",
    "directions = {\"1\": [], \"2\": []}\n",
    "for line in f.readlines()[1:]: #find the 2 bus stops which were visited twice\n",
    "    data = line.strip().split(\",\") #assume only 2 possible directions\n",
    "    #print(data)\n",
    "    if data[1] == '1':\n",
    "        directions[\"1\"].append(data[2])\n",
    "    else:\n",
    "        directions[\"2\"].append(data[2])\n",
    "\n",
    "for code in directions[\"1\"]:\n",
    "    #print(code)\n",
    "    counter = directions[\"2\"].count(code)\n",
    "    if counter > 0:\n",
    "        print(code)\n",
    "\n",
    "f.close()"
   ]
  },
  {
   "cell_type": "code",
   "execution_count": 29,
   "metadata": {},
   "outputs": [
    {
     "name": "stdout",
     "output_type": "stream",
     "text": [
      "Direction Start End Total\n",
      "1 0500 0627 1H,27m\n",
      "2 0600 0730 1H,30m\n"
     ]
    }
   ],
   "source": [
    "#Task 2.2\n",
    "from datetime import datetime\n",
    "f = open(\"ARRIVALS.TXT\", \"r\")\n",
    "directions = {\"1\": [], \"2\": []}\n",
    "for line in f.readlines()[1:]: #find start and end times for both directions\n",
    "    data = line.strip().split(\",\") #assume only 2 possible directions\n",
    "    #print(data)\n",
    "    if data[1] == '1':\n",
    "        directions[\"1\"].append(datetime.strptime(data[4],\"%H%M\"))\n",
    "    else:\n",
    "        directions[\"2\"].append(datetime.strptime(data[4],\"%H%M\"))\n",
    "#Start and end times\n",
    "OneStart = min(directions[\"1\"])\n",
    "OneEnd = max(directions[\"1\"])\n",
    "TwoStart = min(directions[\"2\"])\n",
    "TwoEnd = max(directions[\"2\"])\n",
    "OneTime = f\"{(OneEnd - OneStart).seconds//(60*60)}H,{((OneEnd - OneStart).seconds)%(60*60)//60}m\"\n",
    "TwoTime = f\"{(TwoEnd - TwoStart).seconds//(60*60)}H,{((TwoEnd - TwoStart).seconds)%(60*60)//60}m\"\n",
    "print(\"Direction Start End Total\")\n",
    "print(f\"1 {datetime.strftime(OneStart, '%H%M')} {datetime.strftime(OneEnd, '%H%M')} {OneTime}\")\n",
    "print(f\"2 {datetime.strftime(TwoStart, '%H%M')} {datetime.strftime(TwoEnd, '%H%M')} {TwoTime}\")\n",
    "f.close()"
   ]
  },
  {
   "cell_type": "code",
   "execution_count": 59,
   "metadata": {},
   "outputs": [
    {
     "name": "stdout",
     "output_type": "stream",
     "text": [
      "Direction 1\n",
      "15221 to 16021: 3m\n",
      "02119 to 03019: 3m\n",
      "03217 to 14121: 9m\n",
      "14131 to 15191: 9m\n",
      "Direction 2\n",
      "14089 to 14069: 3m\n",
      "96281 to 76061: 4m\n",
      "80161 to 80211: 4m\n"
     ]
    }
   ],
   "source": [
    "#Task 2.3\n",
    "f = open(\"ARRIVALS.TXT\", \"r\")\n",
    "directions = {\"1\": [], \"2\": []}\n",
    "for line in f.readlines()[1:]:\n",
    "    data = line.strip().split(\",\") #assume only 2 possible directions\n",
    "    #print(data)\n",
    "    if data[1] == '1':\n",
    "        directions[\"1\"].append([data[0],data[2], data[4]])\n",
    "    else:\n",
    "        directions[\"2\"].append([data[0],data[2], data[4]])\n",
    "\n",
    "from datetime import datetime\n",
    "print(\"Direction 1\")\n",
    "cur = 0\n",
    "while cur < len(directions[\"1\"])-1:\n",
    "    sequence = directions[\"1\"][cur]\n",
    "    #print(sequence[0])\n",
    "    #find bus stop adjacent to it, then pop them\n",
    "    adj = 0\n",
    "    for d in directions[\"1\"][1:]:\n",
    "        #first find adjacent stop\n",
    "        if int(d[0]) > int(sequence[0]):\n",
    "            if adj == 0:\n",
    "                adj = d\n",
    "            if int(d[0]) < int(adj[0]):\n",
    "                adj = d\n",
    "    if adj != 0:\n",
    "        timetaken = (datetime.strptime(adj[2], \"%H%M\") - datetime.strptime(sequence[2], \"%H%M\")).seconds\n",
    "        if timetaken > 120:\n",
    "            print(f\"{sequence[1]} to {adj[1]}: {timetaken//60}m\")\n",
    "        #directions[\"1\"].pop(directions[\"1\"].index(adj))\n",
    "        #directions[\"1\"].pop(directions[\"1\"].index(sequence))\n",
    "    cur += 1\n",
    "    #print(directions[\"1\"])\n",
    "    #print(\"next\")\n",
    "\n",
    "print(\"Direction 2\")\n",
    "cur = 0\n",
    "while cur < len(directions[\"2\"])-1:\n",
    "    sequence = directions[\"2\"][cur]\n",
    "    #print(sequence[0])\n",
    "    #find bus stop adjacent to it, then pop them\n",
    "    adj = 0\n",
    "    for d in directions[\"2\"][1:]:\n",
    "        #first find adjacent stop\n",
    "        if int(d[0]) > int(sequence[0]):\n",
    "            if adj == 0:\n",
    "                adj = d\n",
    "            if int(d[0]) < int(adj[0]):\n",
    "                adj = d\n",
    "    if adj != 0:\n",
    "        timetaken = (datetime.strptime(adj[2], \"%H%M\") - datetime.strptime(sequence[2], \"%H%M\")).seconds\n",
    "        if timetaken > 120:\n",
    "            print(f\"{sequence[1]} to {adj[1]}: {timetaken//60}m\")\n",
    "        #directions[\"2\"].pop(directions[\"2\"].index(adj))\n",
    "        #directions[\"2\"].pop(directions[\"2\"].index(sequence))\n",
    "    cur += 1"
   ]
  },
  {
   "cell_type": "code",
   "execution_count": 62,
   "metadata": {},
   "outputs": [
    {
     "name": "stdout",
     "output_type": "stream",
     "text": [
      "Direction 1\n",
      "longest distance between two adjacent bus stops is 1.3999999999999986km\n",
      "Direction 2\n",
      "longest distance between two adjacent bus stops is 1.6000000000000014km\n"
     ]
    }
   ],
   "source": [
    "#Task 2.4\n",
    "f = open(\"ARRIVALS.TXT\", \"r\")\n",
    "directions = {\"1\": [], \"2\": []}\n",
    "for line in f.readlines()[1:]:\n",
    "    data = line.strip().split(\",\") #assume only 2 possible directions\n",
    "    #print(data)\n",
    "    if data[1] == '1':\n",
    "        directions[\"1\"].append([data[0],data[2], data[3]])\n",
    "    else:\n",
    "        directions[\"2\"].append([data[0],data[2], data[3]])\n",
    "        \n",
    "distanceList = []\n",
    "print(\"Direction 1\")\n",
    "cur = 0\n",
    "while cur < len(directions[\"1\"])-1:\n",
    "    sequence = directions[\"1\"][cur]\n",
    "    #print(sequence[0])\n",
    "    #find bus stop adjacent to it, then pop them\n",
    "    adj = 0\n",
    "    for d in directions[\"1\"]:\n",
    "        #first find adjacent stop\n",
    "        if int(d[0]) > int(sequence[0]):\n",
    "            if adj == 0:\n",
    "                adj = d\n",
    "            elif int(d[0]) < int(adj[0]):\n",
    "                adj = d\n",
    "    if adj != 0:\n",
    "        distance = float(adj[2]) - float(sequence[2])\n",
    "        distanceList.append(distance)\n",
    "        #directions[\"1\"].pop(directions[\"1\"].index(adj))\n",
    "        #directions[\"1\"].pop(directions[\"1\"].index(sequence))\n",
    "    cur += 1\n",
    "    #print(directions[\"1\"])\n",
    "    #print(\"next\")\n",
    "curMax = max(distanceList)\n",
    "print(f\"longest distance between two adjacent bus stops is {curMax}km\")\n",
    "    \n",
    "distanceList = []\n",
    "print(\"Direction 2\")\n",
    "cur = 0\n",
    "while cur < len(directions[\"2\"])-1:\n",
    "    sequence = directions[\"2\"][cur]\n",
    "    #print(sequence[0])\n",
    "    #find bus stop adjacent to it, then pop them\n",
    "    adj = 0\n",
    "    for d in directions[\"2\"][1:]:\n",
    "        #first find adjacent stop\n",
    "        if int(d[0]) > int(sequence[0]):\n",
    "            if adj == 0:\n",
    "                adj = d\n",
    "            elif int(d[0]) < int(adj[0]):\n",
    "                adj = d\n",
    "    if adj != 0:\n",
    "        distance = float(adj[2]) - float(sequence[2])\n",
    "        distanceList.append(distance)\n",
    "        #directions[\"2\"].pop(directions[\"2\"].index(adj))\n",
    "        #directions[\"2\"].pop(directions[\"2\"].index(sequence))\n",
    "    #print(directions[\"1\"])\n",
    "    #print(\"next\")\n",
    "    cur += 1\n",
    "curMax = max(distanceList)\n",
    "print(f\"longest distance between two adjacent bus stops is {curMax}km\")"
   ]
  },
  {
   "cell_type": "code",
   "execution_count": null,
   "metadata": {},
   "outputs": [],
   "source": [
    "#Task 2.5\n"
   ]
  }
 ],
 "metadata": {
  "kernelspec": {
   "display_name": "Python 3",
   "language": "python",
   "name": "python3"
  },
  "language_info": {
   "codemirror_mode": {
    "name": "ipython",
    "version": 3
   },
   "file_extension": ".py",
   "mimetype": "text/x-python",
   "name": "python",
   "nbconvert_exporter": "python",
   "pygments_lexer": "ipython3",
   "version": "3.6.4"
  }
 },
 "nbformat": 4,
 "nbformat_minor": 2
}
