{
 "cells": [
  {
   "cell_type": "code",
   "execution_count": null,
   "metadata": {},
   "outputs": [],
   "source": [
    "#Task 4.1\n",
    "from flask import Flask, render_template, request\n",
    "import sqlite3\n",
    "\n",
    "app = Flask(__name__)\n",
    "\n",
    "@app.route(\"/\", methods=[\"GET\"])\n",
    "def root():\n",
    "    try:\n",
    "        con = sqlite3.connect(\"TASK4.db\")\n",
    "        cur = con.cursor()\n",
    "        cur.execute(\"SELECT * FROM Event\")\n",
    "        data = cur.fetchall()\n",
    "    except Exception as e:\n",
    "        print(e)\n",
    "        con.close()\n",
    "        return render_template(\"home.html\")\n",
    "    con.close()\n",
    "    return render_template(\"home.html\", jin_data = data)\n",
    "\n",
    "app.run()"
   ]
  }
 ],
 "metadata": {
  "kernelspec": {
   "display_name": "Python 3",
   "language": "python",
   "name": "python3"
  },
  "language_info": {
   "codemirror_mode": {
    "name": "ipython",
    "version": 3
   },
   "file_extension": ".py",
   "mimetype": "text/x-python",
   "name": "python",
   "nbconvert_exporter": "python",
   "pygments_lexer": "ipython3",
   "version": "3.6.4"
  }
 },
 "nbformat": 4,
 "nbformat_minor": 2
}
