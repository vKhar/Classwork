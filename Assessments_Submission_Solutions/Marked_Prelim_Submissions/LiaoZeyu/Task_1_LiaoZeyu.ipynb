{
 "cells": [
  {
   "cell_type": "code",
   "execution_count": null,
   "metadata": {},
   "outputs": [],
   "source": [
    "##task 1.1\n",
    "class node:\n",
    "    def __init__(self,data):\n",
    "        self.dat=data\n",
    "        self.next=None\n",
    "class linked_list:\n",
    "    def __init__(self):\n",
    "        self.start=None\n",
    "    def is_empty(self):\n",
    "        if self.start==None:\n",
    "            return True\n",
    "        else:\n",
    "            return False\n",
    "    def insert_front(self, data):\n",
    "        if self.start==None:\n",
    "            self.start=node(data)\n",
    "        else:\n",
    "            newStart=node(data)\n",
    "            newStart.next=self.start\n",
    "            self.start=newStart\n",
    "    def remove_front(self):\n",
    "        if self.start==None:\n",
    "            return None\n",
    "        else:\n",
    "            ret=self.start.dat\n",
    "            self.start=self.start.next\n",
    "            return ret\n",
    "    def __repr__(self):\n",
    "        ret=[]\n",
    "        if self.start==None:\n",
    "            return str(ret)\n",
    "        else:\n",
    "            pointer=self.start\n",
    "            while True:\n",
    "                if pointer==None:\n",
    "                    break\n",
    "                else:\n",
    "                    ret.append(pointer.dat)\n",
    "                    pointer=pointer.next\n",
    "            return str(ret)"
   ]
  },
  {
   "cell_type": "code",
   "execution_count": null,
   "metadata": {},
   "outputs": [],
   "source": [
    "##task 1.2\n",
    "class stack:\n",
    "    def __init__(self):\n",
    "        self.top=linked_list()\n",
    "    def push(self, dat):\n",
    "        self.top.insert_front(dat)\n",
    "    def pop(self):\n",
    "        return self.top.remove_front()\n",
    "    def peek(self):\n",
    "        if self.top.start==None:\n",
    "            return None\n",
    "        else:\n",
    "            return self.top.start.dat\n",
    "    def is_empty(self):\n",
    "        self.top.is_empty()"
   ]
  },
  {
   "cell_type": "code",
   "execution_count": null,
   "metadata": {},
   "outputs": [],
   "source": [
    "##task 1.3\n",
    "##invalid case\n",
    "a=stack()\n",
    "print(a.pop())\n",
    "print(a.is_empty())\n",
    "##valid case\n",
    "b=stack()\n",
    "b.push(1)\n",
    "b.push(2)\n",
    "b.push(3)\n",
    "b.push(4)\n",
    "print(b.pop())\n",
    "print(b.peek())\n",
    "##boundary case\n",
    "c=stack()\n",
    "print(c.peek())"
   ]
  },
  {
   "cell_type": "markdown",
   "metadata": {},
   "source": [
    "- line 3 to 5 are not invalid cases!\n",
    "- 1m"
   ]
  },
  {
   "cell_type": "code",
   "execution_count": null,
   "metadata": {},
   "outputs": [],
   "source": [
    "##task 1.4\n",
    "class queue:\n",
    "    def __init__(self):\n",
    "        self.q=stack()\n",
    "    def enqueue(self,data):\n",
    "        stackL=[self.q.pop()]\n",
    "        if stackL[0]==None:\n",
    "            self.q.push(data)\n",
    "        else:\n",
    "            nex=self.q.pop()\n",
    "            while nex!=None:\n",
    "                stackL.append(nex)\n",
    "                nex=self.q.pop()\n",
    "            stackL.append(data)\n",
    "            stackL=stackL[-1::-1]\n",
    "            for i in stackL:\n",
    "                self.q.push(i)\n",
    "    def dequeue(self):\n",
    "        return self.q.pop()"
   ]
  },
  {
   "cell_type": "code",
   "execution_count": null,
   "metadata": {},
   "outputs": [],
   "source": [
    "##task 1.5\n",
    "##valid case\n",
    "v=queue()\n",
    "v.enqueue(1)\n",
    "v.enqueue(2)\n",
    "v.enqueue(3)\n",
    "v.enqueue(4)\n",
    "v.enqueue(5)\n",
    "print(v.dequeue())\n",
    "print(v.dequeue())\n",
    "print(v.dequeue())\n",
    "print(v.dequeue())\n",
    "print(v.dequeue())\n",
    "##invalid case\n",
    "x=queue()\n",
    "print(x.dequeue())\n",
    "##boundary case\n",
    "y=queue()\n",
    "y.enqueue(None)"
   ]
  },
  {
   "cell_type": "markdown",
   "metadata": {},
   "source": [
    "- You cannot use a Python List, -2m for using append and slicing\n",
    "- 4m"
   ]
  },
  {
   "cell_type": "code",
   "execution_count": 10,
   "metadata": {},
   "outputs": [],
   "source": [
    "##task1.6\n",
    "class MaxQueue(queue):\n",
    "    def __init__(self):\n",
    "        super().__init__()\n",
    "    def peek_max(self):\n",
    "        stackL=[self.q.pop()]\n",
    "        if stackL[0]==None:\n",
    "            return None\n",
    "        else:\n",
    "            nex=self.q.pop()\n",
    "            while nex!=None:\n",
    "                stackL.append(nex)\n",
    "                nex=self.q.pop()\n",
    "            maximum=max(stackL)\n",
    "            stackL=stackL[-1::-1]\n",
    "            for i in stackL:\n",
    "                self.q.push(i)\n",
    "            return maximum"
   ]
  },
  {
   "cell_type": "markdown",
   "metadata": {},
   "source": [
    "- 10m"
   ]
  }
 ],
 "metadata": {
  "kernelspec": {
   "display_name": "Python 3",
   "language": "python",
   "name": "python3"
  },
  "language_info": {
   "codemirror_mode": {
    "name": "ipython",
    "version": 3
   },
   "file_extension": ".py",
   "mimetype": "text/x-python",
   "name": "python",
   "nbconvert_exporter": "python",
   "pygments_lexer": "ipython3",
   "version": "3.6.4"
  }
 },
 "nbformat": 4,
 "nbformat_minor": 2
}
