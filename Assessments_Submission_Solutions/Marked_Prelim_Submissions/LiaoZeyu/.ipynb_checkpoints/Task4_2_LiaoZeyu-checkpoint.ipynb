{
 "cells": [
  {
   "cell_type": "code",
   "execution_count": 12,
   "metadata": {},
   "outputs": [],
   "source": [
    "import csv, sqlite3\n",
    "data=list(csv.reader(open(\"ADDITIONS.csv\")))\n",
    "try:\n",
    "    db=sqlite3.connect(\"TASK4.db\")\n",
    "    for i in data:\n",
    "        tmp=list(db.execute(\"SELECT * FROM Event WHERE name=?\", (i[0],)))\n",
    "        db.execute(\"INSERT INTO TimeTable(event_id,date,time,venue) VALUES(?,?,?,?)\",(int(tmp[0][0]),i[2],i[3],i[-1]))\n",
    "    db.commit()\n",
    "except:\n",
    "    db.rollback()\n",
    "finally:\n",
    "    db.close()"
   ]
  },
  {
   "cell_type": "code",
   "execution_count": null,
   "metadata": {},
   "outputs": [],
   "source": []
  }
 ],
 "metadata": {
  "kernelspec": {
   "display_name": "Python 3",
   "language": "python",
   "name": "python3"
  },
  "language_info": {
   "codemirror_mode": {
    "name": "ipython",
    "version": 3
   },
   "file_extension": ".py",
   "mimetype": "text/x-python",
   "name": "python",
   "nbconvert_exporter": "python",
   "pygments_lexer": "ipython3",
   "version": "3.6.4"
  }
 },
 "nbformat": 4,
 "nbformat_minor": 2
}
