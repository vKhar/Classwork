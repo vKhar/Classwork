{
 "cells": [
  {
   "cell_type": "code",
   "execution_count": 137,
   "metadata": {},
   "outputs": [
    {
     "name": "stdout",
     "output_type": "stream",
     "text": [
      "75009\n",
      "16009\n"
     ]
    }
   ],
   "source": [
    "##task 2.1\n",
    "with open(\"ARRIVALS.txt\") as f:\n",
    "    fs=f.readlines()\n",
    "    fs=fs[1:]\n",
    "    for i in range(len(fs)):\n",
    "        fs[i]=fs[i].strip('\\n').split(',')\n",
    "    dir1=[]\n",
    "    dir2=[]\n",
    "    buffer1=[[9999999,None,None,None,None], [-1,None,None,None,None]]\n",
    "    buffer2=[[9999999,None,None,None,None], [-1,None,None,None,None]]\n",
    "    for i in fs:\n",
    "        if i[1]=='1':\n",
    "            dir1.append(i) ##assume it can only be dir 1 or 2\n",
    "            if int(i[0])<int(buffer1[0][0]):\n",
    "                buffer1[0]=i\n",
    "            if int(i[0])>int(buffer1[1][0]):\n",
    "                buffer1[1]=i\n",
    "        else:\n",
    "            dir2.append(i)\n",
    "            if int(i[0])<int(buffer2[0][0]):\n",
    "                buffer2[0]=i\n",
    "            if int(i[0])>int(buffer2[1][0]):\n",
    "                buffer2[1]=i\n",
    "    print(buffer1[0][2])\n",
    "    print(buffer1[1][2])"
   ]
  },
  {
   "cell_type": "code",
   "execution_count": 138,
   "metadata": {},
   "outputs": [
    {
     "name": "stdout",
     "output_type": "stream",
     "text": [
      "Direction Start End  Total\n",
      "   1      0500  0627 1H,27m\n",
      "   2      0600  0730 1H,30m\n"
     ]
    }
   ],
   "source": [
    "##task 2.2\n",
    "from datetime import datetime, timedelta\n",
    "time1=datetime(1, 1, 1, int(buffer1[-1][-1][0:2]), int(buffer1[-1][-1][2:]), 0)-datetime(1, 1, 1, int(buffer1[0][-1][0:2]), int(buffer1[0][-1][2:]), 0)\n",
    "time2=datetime(1, 1, 1, int(buffer2[-1][-1][0:2]), int(buffer2[-1][-1][2:]), 0)-datetime(1, 1, 1, int(buffer2[0][-1][0:2]), int(buffer2[0][-1][2:]), 0)\n",
    "time1=str(time1).split(':')\n",
    "time2=str(time2).split(':')\n",
    "print(\"Direction Start End  Total\")\n",
    "print(f\"   1      {buffer1[0][-1]}  {buffer1[1][-1]} {time1[0]}H,{time1[1]}m\")\n",
    "print(f\"   2      {buffer2[0][-1]}  {buffer2[1][-1]} {time2[0]}H,{time2[1]}m\")"
   ]
  },
  {
   "cell_type": "code",
   "execution_count": 139,
   "metadata": {},
   "outputs": [],
   "source": [
    "##task 2.3\n",
    "def bus_sort(inp):\n",
    "    if len(inp)<2:\n",
    "        return inp\n",
    "    else:\n",
    "        pivot=inp.pop(0)\n",
    "        left=[]\n",
    "        right=[]\n",
    "        for i in inp:\n",
    "            if int(i[0])>int(pivot[0]):\n",
    "                right.append(i)\n",
    "            else:\n",
    "                left.append(i)\n",
    "        return bus_sort(left)+[pivot]+bus_sort(right)"
   ]
  },
  {
   "cell_type": "code",
   "execution_count": 140,
   "metadata": {
    "scrolled": true
   },
   "outputs": [
    {
     "name": "stdout",
     "output_type": "stream",
     "text": [
      "74\n"
     ]
    }
   ],
   "source": [
    "##task 2.3\n",
    "sorted1=bus_sort(dir1) ##run only once after running task 2.1 or else total no. of stops will be wrong\n",
    "sorted2=bus_sort(dir2)\n",
    "print(len(sorted1))"
   ]
  },
  {
   "cell_type": "code",
   "execution_count": 141,
   "metadata": {},
   "outputs": [
    {
     "name": "stdout",
     "output_type": "stream",
     "text": [
      "Direction 1\n",
      "76069 to 96289: 04m\n",
      "80219 to 80169: 03m\n",
      "02119 to 03019: 03m\n",
      "03217 to 05649: 03m\n",
      "Direction 2\n",
      "14089 to 14069: 03m\n",
      "80161 to 80211: 04m\n",
      "96281 to 76061: 04m\n"
     ]
    }
   ],
   "source": [
    "##task 2.3\n",
    "list1=[]\n",
    "list2=[]\n",
    "for i in range(1,len(sorted1)):\n",
    "    timeDelta=datetime(1, 1, 1, int(sorted1[i][-1][0:2]), int(sorted1[i][-1][2:]), 0)-datetime(1, 1, 1, int(sorted1[i-1][-1][0:2]), int(sorted1[i-1][-1][2:]), 0)\n",
    "    if timeDelta>timedelta(0,0,0,0,2):\n",
    "        list1.append(f\"{sorted1[i-1][2]} to {sorted1[i][2]}: {str(timeDelta).split(':')[1]}m\")\n",
    "for i in range(1,len(sorted2)):\n",
    "    timeDelta=datetime(1, 1, 1, int(sorted2[i][-1][0:2]), int(sorted2[i][-1][2:]), 0)-datetime(1, 1, 1, int(sorted2[i-1][-1][0:2]), int(sorted2[i-1][-1][2:]), 0)\n",
    "    if timeDelta>timedelta(0,0,0,0,2):\n",
    "        list2.append(f\"{sorted2[i-1][2]} to {sorted2[i][2]}: {str(timeDelta).split(':')[1]}m\")\n",
    "print(\"Direction 1\")\n",
    "for i in list1:\n",
    "    print(i)\n",
    "print(\"Direction 2\")\n",
    "for i in list2:\n",
    "    print(i)"
   ]
  },
  {
   "cell_type": "code",
   "execution_count": 142,
   "metadata": {},
   "outputs": [
    {
     "name": "stdout",
     "output_type": "stream",
     "text": [
      "Direction 1\n",
      "longest distance between two adjacent bus stops is 1.40 km\n",
      "Direction 2\n",
      "longest distance between two adjacent bus stops is 1.60 km\n"
     ]
    }
   ],
   "source": [
    "##task 2.4\n",
    "maxCumDist=[0, 0]\n",
    "for i in range(1,len(sorted1)):\n",
    "    dist=float(sorted1[i][-2])-float(sorted1[i-1][-2])\n",
    "    if dist>maxCumDist[0]:\n",
    "        maxCumDist[0]=dist\n",
    "for i in range(1,len(sorted2)):\n",
    "    dist=float(sorted2[i][-2])-float(sorted2[i-1][-2])\n",
    "    if dist>maxCumDist[1]:\n",
    "        maxCumDist[1]=dist\n",
    "print(\"Direction 1\")\n",
    "print(f\"longest distance between two adjacent bus stops is {round(maxCumDist[0],2)}0 km\")\n",
    "print(\"Direction 2\")\n",
    "print(f\"longest distance between two adjacent bus stops is {round(maxCumDist[1],2)}0 km\")"
   ]
  },
  {
   "cell_type": "code",
   "execution_count": null,
   "metadata": {},
   "outputs": [],
   "source": []
  },
  {
   "cell_type": "code",
   "execution_count": null,
   "metadata": {},
   "outputs": [],
   "source": []
  }
 ],
 "metadata": {
  "kernelspec": {
   "display_name": "Python 3",
   "language": "python",
   "name": "python3"
  },
  "language_info": {
   "codemirror_mode": {
    "name": "ipython",
    "version": 3
   },
   "file_extension": ".py",
   "mimetype": "text/x-python",
   "name": "python",
   "nbconvert_exporter": "python",
   "pygments_lexer": "ipython3",
   "version": "3.6.4"
  }
 },
 "nbformat": 4,
 "nbformat_minor": 2
}
