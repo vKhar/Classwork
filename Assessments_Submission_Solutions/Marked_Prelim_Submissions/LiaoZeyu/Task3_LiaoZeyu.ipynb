{
 "cells": [
  {
   "cell_type": "code",
   "execution_count": null,
   "metadata": {},
   "outputs": [],
   "source": [
    "##task 3.1\n",
    "def qsort(words):\n",
    "    if len(words)<2:\n",
    "        return words\n",
    "    else:\n",
    "        pivot=words.pop(0)\n",
    "        left=[]\n",
    "        right=[]\n",
    "        for i in words:\n",
    "            if i[0]>pivot[0]:\n",
    "                right.append(i)\n",
    "            else:\n",
    "                left.append(i)\n",
    "        return qsort(left)+[pivot]+qsort(right)"
   ]
  },
  {
   "cell_type": "markdown",
   "metadata": {},
   "source": [
    "-5m"
   ]
  },
  {
   "cell_type": "code",
   "execution_count": null,
   "metadata": {
    "scrolled": true
   },
   "outputs": [],
   "source": [
    "##task 3.2\n",
    "print(qsort([('apple',0),('none',0),('bear',0)])) ##valid\n",
    "print(qsort([])) ##boundary\n",
    "print(qsort([('hi', 7) for i in range(3000)]))##invalid"
   ]
  },
  {
   "cell_type": "markdown",
   "metadata": {},
   "source": [
    "- 3m"
   ]
  },
  {
   "cell_type": "code",
   "execution_count": null,
   "metadata": {},
   "outputs": [],
   "source": [
    "##task 3.3\n",
    "with open('WORDS.txt') as f:\n",
    "    fs=f.readlines()\n",
    "    for i in range(len(fs)):\n",
    "        fs[i]=(fs[i].strip('\\n'), i+1)\n",
    "    sorted_partial=[]\n",
    "    while fs!=[]:\n",
    "        if len(fs)>2899:\n",
    "            sortL=fs[0:2900]\n",
    "            fs=fs[2900:]\n",
    "        else:\n",
    "            sortL=fs\n",
    "            fs=[]\n",
    "        sorted_tmp=qsort(sortL)\n",
    "        sorted_partial.append(sorted_tmp)\n",
    "    def merger(a, b):\n",
    "        ret=[]\n",
    "        while a and b:\n",
    "            if a[0][0]>b[0][0]:\n",
    "                ret.append(b.pop(0))\n",
    "            else:\n",
    "                ret.append(a.pop(0))\n",
    "        return ret+a+b\n",
    "    while len(sorted_partial)>1:\n",
    "        a=sorted_partial.pop(0)\n",
    "        b=sorted_partial.pop(0)\n",
    "        sorted_partial.append(merger(a,b))\n",
    "    sorted_all=sorted_partial[0]"
   ]
  },
  {
   "cell_type": "code",
   "execution_count": null,
   "metadata": {},
   "outputs": [],
   "source": [
    "print(sorted_all)"
   ]
  }
 ],
 "metadata": {
  "kernelspec": {
   "display_name": "Python 3",
   "language": "python",
   "name": "python3"
  },
  "language_info": {
   "codemirror_mode": {
    "name": "ipython",
    "version": 3
   },
   "file_extension": ".py",
   "mimetype": "text/x-python",
   "name": "python",
   "nbconvert_exporter": "python",
   "pygments_lexer": "ipython3",
   "version": "3.6.4"
  }
 },
 "nbformat": 4,
 "nbformat_minor": 2
}
