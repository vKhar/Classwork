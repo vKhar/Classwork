{
 "cells": [
  {
   "cell_type": "code",
   "execution_count": 30,
   "metadata": {},
   "outputs": [],
   "source": [
    "# Task 1.1\n",
    "class Node:\n",
    "    def __init__(self,data):\n",
    "        self.data = data\n",
    "        self.next = None\n",
    "\n",
    "class LinkedList:\n",
    "    def __init__(self):\n",
    "        self.start = None\n",
    "    def __repr__(self):\n",
    "        if self.start == None:\n",
    "            return []\n",
    "        currNode = self.start\n",
    "        ret = []\n",
    "        while currNode.next != None:\n",
    "            currNode = currNode.next\n",
    "            ret.append(currNode.data)\n",
    "        return ret\n",
    "    def is_empty(self):\n",
    "        return self.start == None\n",
    "    def insert_front(self,data):\n",
    "        if self.start == None:\n",
    "            self.start = Node(data)\n",
    "            return\n",
    "        node = Node(data)\n",
    "        node.next = self.start\n",
    "        self.start = node\n",
    "    def remove_front(self):\n",
    "        if self.start == None:\n",
    "            return\n",
    "        ret = self.start\n",
    "        self.start = self.start.next\n",
    "        return ret.data"
   ]
  },
  {
   "cell_type": "code",
   "execution_count": 31,
   "metadata": {},
   "outputs": [],
   "source": [
    "# Task 1.2\n",
    "class Stack:\n",
    "    def __init__(self):\n",
    "        self.top = LinkedList()\n",
    "    def push(self, item):\n",
    "        self.top.insert_front(item)\n",
    "    def pop(self):\n",
    "        return self.top.remove_front()\n",
    "    def peek(self):\n",
    "        return self.top.start.data\n",
    "    def is_empty(self):\n",
    "        return self.top.is_empty()"
   ]
  },
  {
   "cell_type": "code",
   "execution_count": 32,
   "metadata": {},
   "outputs": [
    {
     "name": "stdout",
     "output_type": "stream",
     "text": [
      "4\n",
      "4\n",
      "88\n",
      "2\n"
     ]
    },
    {
     "data": {
      "text/plain": [
       "True"
      ]
     },
     "execution_count": 32,
     "metadata": {},
     "output_type": "execute_result"
    }
   ],
   "source": [
    "# Task 1.3\n",
    "s = Stack()\n",
    "s.push(2)\n",
    "s.push(88)\n",
    "s.push(4)\n",
    "print(s.peek())\n",
    "print(s.pop())\n",
    "print(s.pop())\n",
    "print(s.pop())\n",
    "s.is_empty()"
   ]
  },
  {
   "cell_type": "code",
   "execution_count": 33,
   "metadata": {},
   "outputs": [],
   "source": [
    "# Task 1.4\n",
    "class Queue:\n",
    "    def __init__(self):\n",
    "        self.q = Stack()\n",
    "    def enqueue(self,item):\n",
    "        self.q.push(item)\n",
    "    def dequeue(self):\n",
    "        if self.q.is_empty():\n",
    "            return None\n",
    "        temp = []\n",
    "        while not self.q.is_empty():\n",
    "            temp.append(self.q.pop())\n",
    "        for i in temp[:-1]:\n",
    "            self.q.push(i)\n",
    "        return temp[-1]"
   ]
  },
  {
   "cell_type": "code",
   "execution_count": 36,
   "metadata": {},
   "outputs": [
    {
     "name": "stdout",
     "output_type": "stream",
     "text": [
      "1\n",
      "2\n",
      "None\n"
     ]
    }
   ],
   "source": [
    "# Task 1.5\n",
    "q = Queue()\n",
    "q.enqueue(1)\n",
    "q.enqueue(2)\n",
    "print(q.dequeue())\n",
    "print(q.dequeue())\n",
    "print(q.dequeue())"
   ]
  },
  {
   "cell_type": "code",
   "execution_count": 37,
   "metadata": {},
   "outputs": [],
   "source": [
    "# Task 1.6\n",
    "class MaxQueue(Queue):\n",
    "    def __init__(self):\n",
    "        super().__init__()\n",
    "    def peek_max(self):\n",
    "        if self.q.is_empty():\n",
    "            return None\n",
    "        temp = []\n",
    "        while not self.q.is_empty():\n",
    "            temp.append(self.q.pop())\n",
    "        return max(temp)"
   ]
  },
  {
   "cell_type": "code",
   "execution_count": null,
   "metadata": {},
   "outputs": [],
   "source": []
  }
 ],
 "metadata": {
  "kernelspec": {
   "display_name": "Python 3",
   "language": "python",
   "name": "python3"
  },
  "language_info": {
   "codemirror_mode": {
    "name": "ipython",
    "version": 3
   },
   "file_extension": ".py",
   "mimetype": "text/x-python",
   "name": "python",
   "nbconvert_exporter": "python",
   "pygments_lexer": "ipython3",
   "version": "3.6.4"
  }
 },
 "nbformat": 4,
 "nbformat_minor": 2
}
