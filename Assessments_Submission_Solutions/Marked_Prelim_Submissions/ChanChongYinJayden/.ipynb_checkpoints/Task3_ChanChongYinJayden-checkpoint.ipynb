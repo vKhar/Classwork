{
 "cells": [
  {
   "cell_type": "code",
   "execution_count": 11,
   "metadata": {},
   "outputs": [
    {
     "data": {
      "text/plain": [
       "[('apple', 3), ('orange', 23)]"
      ]
     },
     "execution_count": 11,
     "metadata": {},
     "output_type": "execute_result"
    }
   ],
   "source": [
    "# Task 3.1\n",
    "def qsort(words):\n",
    "    if len(words) < 2:\n",
    "        return words\n",
    "    else:\n",
    "        piv = words[0]\n",
    "        left, right = [], []\n",
    "        for i in words[1:]:\n",
    "            if i[0] < piv[0]:\n",
    "                left.append(i)\n",
    "            else:\n",
    "                right.append(i)\n",
    "        return qsort(left) + [piv] + qsort(right)\n",
    "\n",
    "qsort([(\"orange\",23),(\"apple\",3)])"
   ]
  },
  {
   "cell_type": "code",
   "execution_count": 3,
   "metadata": {},
   "outputs": [
    {
     "name": "stdout",
     "output_type": "stream",
     "text": [
      "['warsaw', 'sensibly', 'dosed', 'chador', 'frowziest', 'hoopoes', 'grub', 'allays', 'idolises', 'yards', 'commanding', 'incurrable', 'mastering', 'lemon', 'reverter', 'hone', 'spirochete', 'curriculum', 'fork', 'encumbrances', 'clams', 'olfactory', 'constituted', 'versified', 'prosecuted', 'washerwoman', 'compilations', 'magnitude', 'neagh', 'practitioner', 'anchormen', 'discoverer', 'variously', 'sow', 'bearsden', 'vend', 'rectangular', 'meteoritic', 'qualitative', 'fulmination', 'habituation', 'ruination', 'x', 'browses', 'gynecologists', 'philology', 'wells', 'saxon', 'doe', 'peppery']\n"
     ]
    }
   ],
   "source": [
    "# Task 3.2\n",
    "with open(\"WORDS.TXT\") as f:\n",
    "    words = f.read().split(\"\\n\")\n",
    "    for line in f:\n",
    "        \n",
    "print(words[:50])"
   ]
  },
  {
   "cell_type": "code",
   "execution_count": null,
   "metadata": {},
   "outputs": [],
   "source": [
    "# Task 3.3\n",
    "with open(\"WORDS.TXT\") as f:\n",
    "    words = []\n",
    "    count = 1\n",
    "    for line in f:\n",
    "        words.append((line.strip(),count))\n",
    "        count += 1\n",
    "        \n",
    "sorted_partial = []\n",
    "while len(words) > 0:\n",
    "    if len(words) < 100:\n",
    "        tmp = words[:]\n",
    "    else:\n",
    "        tmp = words[:100]\n",
    "        words = words[100:]\n",
    "        \n",
    "    sorted_tmp = qsort(tmp)\n",
    "    sorted_partial.append(sorted_tmp)\n",
    "\n",
    "def merge(a,b):\n",
    "    sorted_list = []\n",
    "    while a and b:\n",
    "        if a[0] < b[0]:\n",
    "            sorted_list.append(a.pop())\n",
    "        else:\n",
    "            sorted_list.append(b.pop())\n",
    "    return sorted_list + a + b\n",
    "\n",
    "while len(sorted_partial) > 1:\n",
    "    for i in range(len(sorted_partial),2):\n",
    "        sorted_partial[i] = merge(sorted_partial[i],sorted_partial[i+1])\n"
   ]
  },
  {
   "cell_type": "code",
   "execution_count": null,
   "metadata": {},
   "outputs": [],
   "source": [
    "# Task 3.4\n",
    "def bin_search(sorted_all,word):\n",
    "    l = sorted_all[:]\n",
    "    mid = len(l)//2\n",
    "    if len(l) == 1 and l[0][0] != word:\n",
    "        return None\n",
    "    if l[mid][0] == word:\n",
    "        return l[mid]\n",
    "    elif l[mid][0] <= word:\n",
    "        return bin_search(l[:mid],word)\n",
    "    else:\n",
    "        return bin_search(l[mid:],word)"
   ]
  },
  {
   "cell_type": "code",
   "execution_count": null,
   "metadata": {},
   "outputs": [],
   "source": [
    "# Task 3.5\n",
    "def prefix_search(sorted_all,prefix):\n",
    "    def bin_search(sorted_all,word):\n",
    "        l = sorted_all[:]\n",
    "        mid = len(l)//2\n",
    "        if len(l) == 1 and l[0][0] != word:\n",
    "            return None\n",
    "        if l[mid][0] == word:\n",
    "            return l[mid]\n",
    "        elif l[mid][0] <= word:\n",
    "            return bin_search(l[:mid],word)\n",
    "        else:\n",
    "            return bin_search(l[mid:],word)"
   ]
  },
  {
   "cell_type": "code",
   "execution_count": null,
   "metadata": {},
   "outputs": [],
   "source": [
    "# Task 3.6"
   ]
  }
 ],
 "metadata": {
  "kernelspec": {
   "display_name": "Python 3",
   "language": "python",
   "name": "python3"
  },
  "language_info": {
   "codemirror_mode": {
    "name": "ipython",
    "version": 3
   },
   "file_extension": ".py",
   "mimetype": "text/x-python",
   "name": "python",
   "nbconvert_exporter": "python",
   "pygments_lexer": "ipython3",
   "version": "3.6.4"
  }
 },
 "nbformat": 4,
 "nbformat_minor": 2
}
