{
 "cells": [
  {
   "cell_type": "code",
   "execution_count": 46,
   "metadata": {},
   "outputs": [
    {
     "name": "stdout",
     "output_type": "stream",
     "text": [
      "Interchange A: 75009\n",
      "Interchange B: 16009\n"
     ]
    }
   ],
   "source": [
    "# Task 2.1\n",
    "import csv\n",
    "with open(\"ARRIVALS.TXT\") as f:\n",
    "    reader = csv.reader(f)\n",
    "    data = []\n",
    "    for line in list(reader)[1:]:\n",
    "        data.append([int(line[0]),line[1],line[2],float(line[3]),line[4]])\n",
    "\n",
    "dir1 = []\n",
    "dir2 = []\n",
    "for i in data[1:]:\n",
    "    if i[1] == \"1\":\n",
    "        dir1.append(i)\n",
    "    else:\n",
    "        dir2.append(i)\n",
    "        \n",
    "dir1.sort()\n",
    "dir2.sort()\n",
    "print(f\"Interchange A: {dir1[0][2]}\")\n",
    "print(f\"Interchange B: {dir2[0][2]}\")"
   ]
  },
  {
   "cell_type": "code",
   "execution_count": 83,
   "metadata": {},
   "outputs": [
    {
     "name": "stdout",
     "output_type": "stream",
     "text": [
      "34\n",
      "\n",
      " Direction  Start  End   Total  \n",
      "     1      0500   0627  1H,27m \n",
      "     2      0600   0730  1H,30m \n",
      "\n"
     ]
    }
   ],
   "source": [
    "# Task 2.2\n",
    "\n",
    "from datetime import datetime\n",
    "print(time(6,34).minute)\n",
    "def totalTime(start, end):\n",
    "    # return timedelta(minutes=(int(end)-int(start)))\n",
    "    # return time(int(end[:2]),int(end[2:])) - time(int(start[:2]),int(start[2:]))\n",
    "    diff = datetime(1,1,1,int(end[:2]),int(end[2:]))-datetime(1,1,1,int(start[:2]),int(start[2:]))\n",
    "    mins = diff.seconds/60\n",
    "    hrs = mins//60\n",
    "    mins = mins%60\n",
    "    return f\"{hrs:.0f}H,{mins:.0f}m\"\n",
    "\n",
    "t1 = totalTime(dir1[0][-1], dir1[-1][-1])\n",
    "t2 = totalTime(dir2[0][-1], dir2[-1][-1])\n",
    "\n",
    "outp = f'''\n",
    "{\"Direction\":^11}{\"Start\":^7}{\"End\":^6}{\"Total\":^8}\n",
    "{\"1\":^11}{dir1[0][-1]:^7}{dir1[-1][-1]:^6}{t1:^8}\n",
    "{\"2\":^11}{dir2[0][-1]:^7}{dir2[-1][-1]:^6}{t2:^8}\n",
    "'''\n",
    "print(outp)"
   ]
  },
  {
   "cell_type": "code",
   "execution_count": 90,
   "metadata": {},
   "outputs": [
    {
     "name": "stdout",
     "output_type": "stream",
     "text": [
      "Direction 1:\n",
      "76069 to 96289: 4m\n",
      "80219 to 80169: 3m\n",
      "02119 to 03019: 3m\n",
      "03217 to 05649: 3m\n",
      "\n",
      "Direction 2:\n",
      "14089 to 14069: 3m\n",
      "80161 to 80211: 4m\n",
      "96281 to 76061: 4m\n",
      "\n"
     ]
    }
   ],
   "source": [
    "# Task 2.3\n",
    "from datetime import datetime\n",
    "def adjStops(direction):\n",
    "    times = []\n",
    "    for i in range(len(direction)-1):\n",
    "        end = direction[i+1][-1]\n",
    "        start = direction[i][-1]\n",
    "        time = datetime(1,1,1,int(end[:2]),int(end[2:]))-datetime(1,1,1,int(start[:2]),int(start[2:]))\n",
    "        if time.seconds/60 > 2:\n",
    "            times.append([direction[i][2],direction[i+1][2],time.seconds/60])\n",
    "    outp = \"\"\n",
    "    for i in times:\n",
    "        outp += f\"{i[0]} to {i[1]}: {i[2]:.0f}m\\n\"\n",
    "    return outp\n",
    "\n",
    "print(f\"Direction 1:\\n{adjStops(dir1)}\")\n",
    "print(f\"Direction 2:\\n{adjStops(dir2)}\")"
   ]
  },
  {
   "cell_type": "code",
   "execution_count": 36,
   "metadata": {},
   "outputs": [
    {
     "name": "stdout",
     "output_type": "stream",
     "text": [
      "Direction 1\n",
      "longest distance between two adjacent bus stops is 1.40 km\n",
      "Direction 2\n",
      "longest distance between two adjacent bus stops is 1.60 km\n"
     ]
    }
   ],
   "source": [
    "# Task 2.4\n",
    "def maxDist(direction):\n",
    "    dists = []\n",
    "    for i in range(len(direction)-1):\n",
    "        dist = direction[i+1][3] - direction[i][3]\n",
    "        dists.append(dist)\n",
    "    return max(dists)\n",
    "\n",
    "print(f\"Direction 1\\nlongest distance between two adjacent bus stops is {maxDist(dir1):.2f} km\")\n",
    "print(f\"Direction 2\\nlongest distance between two adjacent bus stops is {maxDist(dir2):.2f} km\")"
   ]
  },
  {
   "cell_type": "code",
   "execution_count": 91,
   "metadata": {},
   "outputs": [
    {
     "name": "stdout",
     "output_type": "stream",
     "text": [
      "31.8\n"
     ]
    }
   ],
   "source": [
    "# Task 2.5\n",
    "\n",
    "def dists(direction):\n",
    "    dists = []\n",
    "    for i in range(len(direction)-1):\n",
    "        dist = direction[i+1][3] - direction[i][3]\n",
    "        dists.append(dist)\n",
    "    return dists\n",
    "\n",
    "def times(direction):\n",
    "    times = []\n",
    "    for i in range(len(direction)-1):\n",
    "        end = direction[i+1][-1]\n",
    "        start = direction[i][-1]\n",
    "        time = datetime(1,1,1,int(end[:2]),int(end[2:]))-datetime(1,1,1,int(start[:2]),int(start[2:]))\n",
    "    times.append([direction[i][2],direction[i+1][2],time])\n",
    "    return times\n",
    "\n",
    "dists1 = dists(dir1)\n",
    "dists2 = dists(dir2)\n",
    "\n",
    "totalDist = sum(dists1)\n",
    "print(totalDist,sum(dists2))"
   ]
  },
  {
   "cell_type": "code",
   "execution_count": null,
   "metadata": {},
   "outputs": [],
   "source": []
  }
 ],
 "metadata": {
  "kernelspec": {
   "display_name": "Python 3",
   "language": "python",
   "name": "python3"
  },
  "language_info": {
   "codemirror_mode": {
    "name": "ipython",
    "version": 3
   },
   "file_extension": ".py",
   "mimetype": "text/x-python",
   "name": "python",
   "nbconvert_exporter": "python",
   "pygments_lexer": "ipython3",
   "version": "3.6.4"
  }
 },
 "nbformat": 4,
 "nbformat_minor": 2
}
