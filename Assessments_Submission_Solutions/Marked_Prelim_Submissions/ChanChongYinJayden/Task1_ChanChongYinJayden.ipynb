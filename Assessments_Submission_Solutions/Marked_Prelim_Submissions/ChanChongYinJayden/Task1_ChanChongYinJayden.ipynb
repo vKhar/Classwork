{
 "cells": [
  {
   "cell_type": "code",
   "execution_count": null,
   "metadata": {},
   "outputs": [],
   "source": [
    "# Task 1.1\n",
    "class Node:\n",
    "    def __init__(self,data):\n",
    "        self.data = data\n",
    "        self.next = None\n",
    "\n",
    "class LinkedList:\n",
    "    def __init__(self):\n",
    "        self.start = None\n",
    "    def __repr__(self):\n",
    "        if self.start == None:\n",
    "            return []\n",
    "        currNode = self.start\n",
    "        ret = []\n",
    "        while currNode.next != None:\n",
    "            currNode = currNode.next\n",
    "            ret.append(currNode.data)\n",
    "        return ret\n",
    "    def is_empty(self):\n",
    "        return self.start == None\n",
    "    def insert_front(self,data):\n",
    "        if self.start == None:\n",
    "            self.start = Node(data)\n",
    "            return\n",
    "        node = Node(data)\n",
    "        node.next = self.start\n",
    "        self.start = node\n",
    "    def remove_front(self):\n",
    "        if self.start == None:\n",
    "            return\n",
    "        ret = self.start\n",
    "        self.start = self.start.next\n",
    "        return ret.data"
   ]
  },
  {
   "cell_type": "markdown",
   "metadata": {},
   "source": [
    "- repr() must return a str\n",
    "- 7m"
   ]
  },
  {
   "cell_type": "code",
   "execution_count": null,
   "metadata": {},
   "outputs": [],
   "source": [
    "# Task 1.2\n",
    "class Stack:\n",
    "    def __init__(self):\n",
    "        self.top = LinkedList()\n",
    "    def push(self, item):\n",
    "        self.top.insert_front(item)\n",
    "    def pop(self):\n",
    "        return self.top.remove_front()\n",
    "    def peek(self):\n",
    "        return self.top.start.data\n",
    "    def is_empty(self):\n",
    "        return self.top.is_empty()"
   ]
  },
  {
   "cell_type": "code",
   "execution_count": null,
   "metadata": {},
   "outputs": [],
   "source": [
    "# Task 1.3\n",
    "s = Stack()\n",
    "s.push(2)\n",
    "s.push(88)\n",
    "s.push(4)\n",
    "print(s.peek())\n",
    "print(s.pop())\n",
    "print(s.pop())\n",
    "print(s.pop())\n",
    "s.is_empty()"
   ]
  },
  {
   "cell_type": "code",
   "execution_count": null,
   "metadata": {},
   "outputs": [],
   "source": [
    "# Task 1.4\n",
    "class Queue:\n",
    "    def __init__(self):\n",
    "        self.q = Stack()\n",
    "    def enqueue(self,item):\n",
    "        self.q.push(item)\n",
    "    def dequeue(self):\n",
    "        if self.q.is_empty():\n",
    "            return None\n",
    "        temp = []\n",
    "        while not self.q.is_empty():\n",
    "            temp.append(self.q.pop())\n",
    "        for i in temp[:-1]:\n",
    "            self.q.push(i)\n",
    "        return temp[-1]"
   ]
  },
  {
   "cell_type": "markdown",
   "metadata": {},
   "source": [
    "- not allowed to use python list -2m for using slicing and append\n",
    "- 4m"
   ]
  },
  {
   "cell_type": "code",
   "execution_count": null,
   "metadata": {},
   "outputs": [],
   "source": [
    "# Task 1.5\n",
    "q = Queue()\n",
    "q.enqueue(1)\n",
    "q.enqueue(2)\n",
    "print(q.dequeue())\n",
    "print(q.dequeue())\n",
    "print(q.dequeue())"
   ]
  },
  {
   "cell_type": "markdown",
   "metadata": {},
   "source": [
    "-1m"
   ]
  },
  {
   "cell_type": "code",
   "execution_count": null,
   "metadata": {},
   "outputs": [],
   "source": [
    "# Task 1.6\n",
    "class MaxQueue(Queue):\n",
    "    def __init__(self):\n",
    "        super().__init__() #[1]\n",
    "    def peek_max(self):\n",
    "        if self.q.is_empty():#[1]\n",
    "            return None\n",
    "        temp = []\n",
    "        while not self.q.is_empty(): #[1]\n",
    "            temp.append(self.q.pop())\n",
    "        return max(temp) #[1]"
   ]
  },
  {
   "cell_type": "markdown",
   "metadata": {},
   "source": [
    "- after peek_max, your queue is empty!\n",
    "- 4m"
   ]
  }
 ],
 "metadata": {
  "kernelspec": {
   "display_name": "Python 3",
   "language": "python",
   "name": "python3"
  },
  "language_info": {
   "codemirror_mode": {
    "name": "ipython",
    "version": 3
   },
   "file_extension": ".py",
   "mimetype": "text/x-python",
   "name": "python",
   "nbconvert_exporter": "python",
   "pygments_lexer": "ipython3",
   "version": "3.6.4"
  }
 },
 "nbformat": 4,
 "nbformat_minor": 2
}
