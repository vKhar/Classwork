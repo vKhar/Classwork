{
 "cells": [
  {
   "cell_type": "code",
   "execution_count": 18,
   "metadata": {},
   "outputs": [
    {
     "name": "stdout",
     "output_type": "stream",
     "text": [
      "[75009, 16009]\n"
     ]
    }
   ],
   "source": [
    "# task 2.1\n",
    "arrivals = pd.read_csv(\"ARRIVALS.TXT\", names = \"StopSequence,Direction,BusStopCode,Distance,ArrivalTime\".split(','), skiprows=1)\n",
    "arrivals['ArrivalTime'] = pd.to_datetime(arrivals['ArrivalTime'], format=\"%H%M\")\n",
    "\n",
    "BusStops = arrivals.groupby('Direction')['BusStopCode'].unique().to_dict()\n",
    "for Direction in BusStops :\n",
    "    BusStops[Direction] = BusStops[Direction].tolist()\n",
    "\n",
    "codes = []\n",
    "for i in BusStops[1]:\n",
    "    if i in BusStops[2]:\n",
    "        codes.append(i)\n",
    "print(codes)"
   ]
  },
  {
   "cell_type": "code",
   "execution_count": 30,
   "metadata": {},
   "outputs": [
    {
     "name": "stdout",
     "output_type": "stream",
     "text": [
      "                          min                 max    Total\n",
      "Direction                                                 \n",
      "1         1900-01-01 05:00:00 1900-01-01 06:27:00 01:27:00\n",
      "2         1900-01-01 06:00:00 1900-01-01 07:30:00 01:30:00\n"
     ]
    }
   ],
   "source": [
    "# task 2.2\n",
    "\n",
    "import pandas as pd\n",
    "from datetime import datetime\n",
    "\n",
    "arrivals = pd.read_csv(\"ARRIVALS.TXT\", names = \"StopSequence,Direction,BusStopCode,Distance,ArrivalTime\".split(','), skiprows=1)\n",
    "arrivals['ArrivalTime'] = pd.to_datetime(arrivals['ArrivalTime'], format=\"%H%M\")\n",
    "max_min = arrivals.groupby('Direction')['ArrivalTime'].agg([min, max])\n",
    "max_min['Total'] = max_min['max']-max_min['min']\n",
    "print(max_min)"
   ]
  },
  {
   "cell_type": "code",
   "execution_count": 7,
   "metadata": {},
   "outputs": [
    {
     "name": "stdout",
     "output_type": "stream",
     "text": [
      "06H,06m\n"
     ]
    }
   ],
   "source": [
    "# task 2.3\n"
   ]
  },
  {
   "cell_type": "code",
   "execution_count": null,
   "metadata": {},
   "outputs": [],
   "source": []
  }
 ],
 "metadata": {
  "kernelspec": {
   "display_name": "Python 3",
   "language": "python",
   "name": "python3"
  },
  "language_info": {
   "codemirror_mode": {
    "name": "ipython",
    "version": 3
   },
   "file_extension": ".py",
   "mimetype": "text/x-python",
   "name": "python",
   "nbconvert_exporter": "python",
   "pygments_lexer": "ipython3",
   "version": "3.6.4"
  }
 },
 "nbformat": 4,
 "nbformat_minor": 2
}
