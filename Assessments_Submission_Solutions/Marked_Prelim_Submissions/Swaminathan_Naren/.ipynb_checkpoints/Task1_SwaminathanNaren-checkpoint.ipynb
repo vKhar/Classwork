{
 "cells": [
  {
   "cell_type": "code",
   "execution_count": 1,
   "metadata": {},
   "outputs": [],
   "source": [
    "# task 1.1\n",
    "class Node :\n",
    "    def __init__(self, data):\n",
    "        self.data = data\n",
    "        self.next = None\n",
    "    def __repr__(self):\n",
    "        return f\"{self.data}\"\n",
    "class LinkedList :\n",
    "    def __init__(self):\n",
    "        self.start = None\n",
    "    def is_empty(self) :\n",
    "        return self.start == None\n",
    "    def insert_front(self, data) :\n",
    "        new_node = Node(data)\n",
    "        if self.is_empty() :\n",
    "            self.start = new_node\n",
    "            new_node.next = None\n",
    "        else :\n",
    "            new_node.next = self.start\n",
    "            self.start = new_node\n",
    "    def remove_front(self):\n",
    "        if self.is_empty() :\n",
    "            return None\n",
    "        ret = self.start\n",
    "        self.start = ret.next\n",
    "        return ret\n",
    "    def __repr__(self):\n",
    "        if self.is_empty():\n",
    "            return \"[]\"\n",
    "        ret = []\n",
    "        tmp = self.start\n",
    "        while tmp :\n",
    "            ret.append(str(tmp))\n",
    "            tmp = tmp.next\n",
    "        ret = \",\".join(ret)\n",
    "        return f\"[{ret}]\""
   ]
  },
  {
   "cell_type": "code",
   "execution_count": 2,
   "metadata": {},
   "outputs": [
    {
     "name": "stdout",
     "output_type": "stream",
     "text": [
      "[8,7,6,5,4,3,2,1,0]\n"
     ]
    }
   ],
   "source": [
    "# test cases\n",
    "ll = LinkedList()\n",
    "for i in range(10):\n",
    "    ll.insert_front(i)\n",
    "\n",
    "ll.remove_front()\n",
    "print(ll)"
   ]
  },
  {
   "cell_type": "code",
   "execution_count": 20,
   "metadata": {},
   "outputs": [],
   "source": [
    "# task 1.2\n",
    "class stack :\n",
    "    def __init__(self):\n",
    "        self.top = LinkedList()\n",
    "    def push(self, item):\n",
    "        self.top.insert_front(item)\n",
    "    def pop(self):\n",
    "        return self.top.remove_front()\n",
    "    def peek(self):\n",
    "        if not self.top.is_empty():\n",
    "            ret = self.top.remove_front() # we need the top element first\n",
    "            self.top.insert_front(ret.data) # we need to insert it back into the top (we are only peeking)\n",
    "            return ret\n",
    "        else :\n",
    "            return None\n",
    "    def is_empty(self):\n",
    "        return self.top.is_empty()\n",
    "    def __repr__(self):\n",
    "        return str(self.top)"
   ]
  },
  {
   "cell_type": "code",
   "execution_count": 21,
   "metadata": {},
   "outputs": [
    {
     "name": "stdout",
     "output_type": "stream",
     "text": [
      "1\n"
     ]
    }
   ],
   "source": [
    "# task 1.3\n",
    "# test case\n",
    "\n",
    "#valid\n",
    "test_stack = stack()\n",
    "test_stack.push(1)\n",
    "test_stack.push(2)\n",
    "test_stack.pop()\n",
    "test_stack.peek()\n",
    "print(test_stack.peek().data)\n",
    "\n",
    "#boundary\n",
    "test_stack = stack()\n",
    "test_stack.push(None)"
   ]
  },
  {
   "cell_type": "code",
   "execution_count": 27,
   "metadata": {},
   "outputs": [],
   "source": [
    "# task 1.4\n",
    "# task 1.4\n",
    "class Queue :\n",
    "    def __init__(self):\n",
    "        self.queue = stack()\n",
    "    def enqueue(self, item):\n",
    "        if self.queue.is_empty():\n",
    "            self.queue.push(item)\n",
    "        else :\n",
    "            tmp= []\n",
    "            while self.queue.peek() != None :\n",
    "                tmp.append(self.queue.pop())\n",
    "            tmp = tmp[::-1]\n",
    "            self.queue.push(item)\n",
    "            for i in tmp :\n",
    "                self.queue.push(i)\n",
    "    def dequeue(self):\n",
    "        return self.queue.pop()\n",
    "    def show(self):\n",
    "        return self.queue"
   ]
  },
  {
   "cell_type": "code",
   "execution_count": 29,
   "metadata": {},
   "outputs": [
    {
     "data": {
      "text/plain": [
       "[3]"
      ]
     },
     "execution_count": 29,
     "metadata": {},
     "output_type": "execute_result"
    }
   ],
   "source": [
    "# task 1.5\n",
    "\n",
    "d = Queue()\n",
    "d.enqueue(1)\n",
    "d.enqueue(2)\n",
    "d.enqueue(3)\n",
    "\n",
    "d.dequeue()\n",
    "d.dequeue()\n",
    "d.show()"
   ]
  },
  {
   "cell_type": "code",
   "execution_count": null,
   "metadata": {},
   "outputs": [],
   "source": [
    "# task 1.6\n",
    "\n",
    "class MaxQueue(Queue):\n",
    "    def __init__(self):\n",
    "        super().__init__(self)\n",
    "    def peak_max(self):\n",
    "        ret = []\n",
    "        while self.queue.peak() != None:\n",
    "            ret.append(self.queue.pop())\n",
    "        for i in ret:\n",
    "            self.enqueue(i)\n",
    "        return max(ret, key =i.data)"
   ]
  }
 ],
 "metadata": {
  "kernelspec": {
   "display_name": "Python 3",
   "language": "python",
   "name": "python3"
  },
  "language_info": {
   "codemirror_mode": {
    "name": "ipython",
    "version": 3
   },
   "file_extension": ".py",
   "mimetype": "text/x-python",
   "name": "python",
   "nbconvert_exporter": "python",
   "pygments_lexer": "ipython3",
   "version": "3.6.4"
  }
 },
 "nbformat": 4,
 "nbformat_minor": 2
}
