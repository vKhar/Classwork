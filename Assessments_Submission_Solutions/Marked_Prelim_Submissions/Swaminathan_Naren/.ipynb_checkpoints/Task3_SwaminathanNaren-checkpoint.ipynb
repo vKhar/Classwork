{
 "cells": [
  {
   "cell_type": "code",
   "execution_count": 1,
   "metadata": {},
   "outputs": [
    {
     "data": {
      "text/plain": [
       "['A', 'M', 'O']"
      ]
     },
     "execution_count": 1,
     "metadata": {},
     "output_type": "execute_result"
    }
   ],
   "source": [
    "# task 3.1\n",
    "def qsort(words:list):\n",
    "    if len(words) < 2:\n",
    "        return words\n",
    "    left = []\n",
    "    right = []\n",
    "    middle = []\n",
    "    pivot = words[0][0]\n",
    "    for word in words :\n",
    "        if word[0] < pivot :\n",
    "            left.append(word)\n",
    "        elif word[0] > pivot :\n",
    "            right.append(word)\n",
    "        else :\n",
    "            middle.append(word)\n",
    "    return qsort(left)+middle+qsort(right)\n",
    "\n",
    "qsort([(\"O\"), (\"A\"), (\"M\")])"
   ]
  },
  {
   "cell_type": "code",
   "execution_count": 2,
   "metadata": {},
   "outputs": [
    {
     "name": "stdout",
     "output_type": "stream",
     "text": [
      "[('warsaw', 2), ('sensibly', 2), ('dosed', 2), ('chador', 2), ('frowziest', 2)]\n",
      "[('chador', 2), ('dosed', 2), ('frowziest', 2), ('sensibly', 2), ('warsaw', 2)]\n",
      "[('hoopoes', 3), ('grub', 3), ('allays', 3), ('idolises', 3), ('yards', 3)]\n",
      "[('allays', 3), ('grub', 3), ('hoopoes', 3), ('idolises', 3), ('yards', 3)]\n",
      "[('commanding', 4), ('incurrable', 4), ('mastering', 4), ('lemon', 4), ('reverter', 4)]\n",
      "[('commanding', 4), ('incurrable', 4), ('lemon', 4), ('mastering', 4), ('reverter', 4)]\n",
      "\n",
      "\n",
      "\n"
     ]
    },
    {
     "name": "stderr",
     "output_type": "stream",
     "text": [
      "IOPub data rate exceeded.\n",
      "The notebook server will temporarily stop sending output\n",
      "to the client in order to avoid crashing it.\n",
      "To change this limit, set the config variable\n",
      "`--NotebookApp.iopub_data_rate_limit`.\n",
      "\n",
      "Current values:\n",
      "NotebookApp.iopub_data_rate_limit=1000000.0 (bytes/sec)\n",
      "NotebookApp.rate_limit_window=3.0 (secs)\n",
      "\n"
     ]
    }
   ],
   "source": [
    "# task 3.2\n",
    "import csv\n",
    "#valid\n",
    "with open(\"WORDS.txt\") as f:\n",
    "    file = f.readlines()\n",
    "test_1 = [(word.strip('\\n'), 2) for word in file[:5]]\n",
    "test_2 = [(word.strip('\\n'), 3) for word in file[5:10]]\n",
    "test_3 = [(word.strip('\\n'), 4) for word in file[10:15]]\n",
    "print(test_1)\n",
    "print(qsort(test_1))\n",
    "print(test_2)\n",
    "print(qsort(test_2))\n",
    "print(test_3)\n",
    "print(qsort(test_3))\n",
    "print(\"\\n\\n\")\n",
    "#invalid\n",
    "test_4 = [[(word.strip('\\n'), 4) for word in file] for i in range(10)]\n",
    "print(test_4)\n",
    "print(qsort(test_4))"
   ]
  },
  {
   "cell_type": "code",
   "execution_count": 5,
   "metadata": {},
   "outputs": [],
   "source": [
    "# task 3.3\n",
    "\n",
    "import pandas as pd\n",
    "\n",
    "def merge(A,B):\n",
    "    ret = []\n",
    "    while len(A) and len(B):\n",
    "        if A[0][0]>B[0][0]:\n",
    "            ret.append(A.pop(0))\n",
    "        else :\n",
    "            ret.append(B.pop(0))\n",
    "    return ret+A+B\n",
    "def merge_lists(arr): # array is list of lists\n",
    "    if len(arr)<2:\n",
    "        return arr\n",
    "    idx = 0\n",
    "    while len(arr) != 1:\n",
    "        arr[0] = merge(arr[0],arr[1])\n",
    "        arr.pop(1)\n",
    "    return arr\n",
    "words = pd.read_csv(\"WORDS.TXT\", names=['Word'])\n",
    "words = pd.Series(words['Word']).tolist()\n",
    "words = [(str(words[idx]), idx) for idx in range(len(words))]\n",
    "\n",
    "sorted_partial = []\n",
    "while len(words) >= 3000:\n",
    "    sorted_tmp = qsort(words[:3000])\n",
    "    sorted_partial.append(sorted_tmp)\n",
    "    words = words[3000:]\n",
    "sorted_partial.append(words)\n",
    "sorted_all = merge_lists(sorted_partial[:])"
   ]
  },
  {
   "cell_type": "code",
   "execution_count": 8,
   "metadata": {},
   "outputs": [
    {
     "name": "stdout",
     "output_type": "stream",
     "text": [
      "84095\n"
     ]
    }
   ],
   "source": [
    "print(len(sorted_all[0]))"
   ]
  },
  {
   "cell_type": "code",
   "execution_count": null,
   "metadata": {},
   "outputs": [],
   "source": []
  }
 ],
 "metadata": {
  "kernelspec": {
   "display_name": "Python 3",
   "language": "python",
   "name": "python3"
  },
  "language_info": {
   "codemirror_mode": {
    "name": "ipython",
    "version": 3
   },
   "file_extension": ".py",
   "mimetype": "text/x-python",
   "name": "python",
   "nbconvert_exporter": "python",
   "pygments_lexer": "ipython3",
   "version": "3.6.4"
  }
 },
 "nbformat": 4,
 "nbformat_minor": 2
}
