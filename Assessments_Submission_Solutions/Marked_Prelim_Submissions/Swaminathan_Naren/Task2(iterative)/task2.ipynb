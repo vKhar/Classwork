{
 "cells": [
  {
   "cell_type": "code",
   "execution_count": 31,
   "metadata": {},
   "outputs": [
    {
     "name": "stdout",
     "output_type": "stream",
     "text": [
      "Direction Start End   Total \n",
      "    1     0500  0627  1H,27m\n",
      "    1     0600  0730  1H,30m\n"
     ]
    }
   ],
   "source": [
    "# task 2.2\n",
    "from datetime import datetime\n",
    "import pandas as pd\n",
    "#reading file\n",
    "\n",
    "direction_1 = []\n",
    "direction_2 = []\n",
    "with open('ARRIVALS.TXT') as f :\n",
    "    arrivals = [line.strip().split(',') for line in f.readlines()[1:]]\n",
    "    for [seq, direction, code, dist, time] in arrivals:\n",
    "        arr = [int(seq), direction, code, float(dist), datetime.strptime(time,'%H%M')]\n",
    "        direction_1.append(arr) if direction=='1' else direction_2.append(arr)\n",
    "\n",
    "print(f\"{'Direction':^9} {'Start':<5} {'End':<5} {'Total':<6}\")\n",
    "\n",
    "min_d1 = min(direction_1, key=lambda record : record[4])[4]\n",
    "max_d1 = max(direction_1, key=lambda record : record[4])[4]\n",
    "hours, minutes = (max_d1-min_d1).seconds//3600, ((max_d1-min_d1).seconds//60)%60 \n",
    "print(f\"{'1':^9} {min_d1.strftime('%H%M') :<5} {max_d1.strftime('%H%M') :<5} {hours}H,{minutes}m\")\n",
    "\n",
    "min_d2 = min(direction_2, key=lambda record : record[4])[4]\n",
    "max_d2 = max(direction_2, key=lambda record : record[4])[4]\n",
    "hours2, minutes2 = (max_d2-min_d2).seconds//3600, ((max_d2-min_d2).seconds//60)%60 \n",
    "print(f\"{'1':^9} {min_d2.strftime('%H%M') :<5} {max_d2.strftime('%H%M') :<5} {hours2}H,{minutes2}m\")"
   ]
  },
  {
   "cell_type": "code",
   "execution_count": 32,
   "metadata": {},
   "outputs": [
    {
     "name": "stdout",
     "output_type": "stream",
     "text": [
      "Direction 1\n",
      "76069 to 96289: 4m\n",
      "80219 to 80169: 3m\n",
      "02119 to 03019: 3m\n",
      "03217 to 05649: 3m\n",
      "Direction 2\n",
      "14089 to 14069: 3m\n",
      "80161 to 80211: 4m\n",
      "96281 to 76061: 4m\n"
     ]
    }
   ],
   "source": [
    "# task 2.3\n",
    "\n",
    "def time_diff(arr : list):\n",
    "    differences = []\n",
    "    for i in range(len(arr)-1):\n",
    "        time_difference = (arr[i+1][4]-arr[i][4]).seconds//60\n",
    "        if time_difference > 2 :\n",
    "            bus_stop1, bus_stop2 = arr[i][2], arr[i+1][2]\n",
    "            differences.append((bus_stop1, bus_stop2, time_difference))\n",
    "    return differences\n",
    "\n",
    "def display(direction, arr:list):\n",
    "    print(f'Direction {direction}')\n",
    "    for record in arr :\n",
    "        print(f\"{record[0]} to {record[1]}: {record[2]}m\")\n",
    "direction_1.sort(key=lambda record : record[0])\n",
    "direction_2.sort(key=lambda record : record[0])\n",
    "\n",
    "time_diff_d1 = time_diff(direction_1)\n",
    "time_diff_d2 = time_diff(direction_2)\n",
    "\n",
    "display(1, time_diff_d1)\n",
    "display(2, time_diff_d2)"
   ]
  },
  {
   "cell_type": "code",
   "execution_count": 33,
   "metadata": {},
   "outputs": [
    {
     "name": "stdout",
     "output_type": "stream",
     "text": [
      "Direction 1\n",
      "longest distance between two adjacent bus stops is 1.40 km\n",
      "Direction 2\n",
      "longest distance between two adjacent bus stops is 1.60 km\n"
     ]
    }
   ],
   "source": [
    "# task 2.4\n",
    "def max_dist_diff(arr:list):\n",
    "    differences=[]\n",
    "    for i in range(len(arr)-1):\n",
    "        differences.append(arr[i+1][3]-arr[i][3])\n",
    "    return max(differences)\n",
    "\n",
    "max_dist_d1 = max_dist_diff(direction_1)\n",
    "max_dist_d2 = max_dist_diff(direction_2)\n",
    "\n",
    "max_dist = [max_dist_d1, max_dist_d2]\n",
    "for i in range(1, 3):\n",
    "    print(f\"Direction {i}\\nlongest distance between two adjacent bus stops is {max_dist[i-1]:.2f} km\")"
   ]
  },
  {
   "cell_type": "code",
   "execution_count": 34,
   "metadata": {},
   "outputs": [
    {
     "name": "stdout",
     "output_type": "stream",
     "text": [
      "The time in which the two buses is closest to each other is at 0615 at bus stops 15161 and 15159\n"
     ]
    }
   ],
   "source": [
    "# task 2.5\n",
    "def min_dist_btwn_bus(arr1 : list, arr2 : list):\n",
    "    distances = []\n",
    "    for i in range(len(arr1)):\n",
    "        for j in range(len(arr2)):\n",
    "            bus_stop1, bus_stop2 = arr1[i][2], arr2[j][2]\n",
    "            time1, time2 = arr1[i][4], arr2[j][4]\n",
    "            distance = abs(31.8-arr1[i][3]-arr2[j][3])\n",
    "            if bus_stop1 != bus_stop2 and time1==time2:\n",
    "                distances.append((bus_stop1, bus_stop2, time1, distance))\n",
    "    return min(distances, key=lambda x : x[-1])\n",
    "\n",
    "bus_stop1,bus_stop2, arrival_time = min_dist_btwn_bus(direction_1,direction_2)[:-1]\n",
    "\n",
    "print(f\"The time in which the two buses is closest to each other is at {arrival_time.strftime('%H%M')} at bus stops {bus_stop1} and {bus_stop2}\")"
   ]
  },
  {
   "cell_type": "code",
   "execution_count": 43,
   "metadata": {},
   "outputs": [
    {
     "name": "stdout",
     "output_type": "stream",
     "text": [
      "The time in which the two buses is closest to each other is at 0615 at bus stops 15161 and 15159\n"
     ]
    }
   ],
   "source": [
    "#task 2.5 with sql\n",
    "\n",
    "import pandas as pd\n",
    "import sqlite3\n",
    "\n",
    "direction_1 = pd.DataFrame(direction_1, columns='StopSequence,Direction,BusStopCode,Distance,ArrivalTime'.split(',')).drop('Direction', axis=1)\n",
    "direction_2 = pd.DataFrame(direction_2, columns='StopSequence,Direction,BusStopCode,Distance,ArrivalTime'.split(',')).drop('Direction', axis=1)\n",
    "\n",
    "con = sqlite3.connect('task2.db')\n",
    "direction_1.to_sql('Direction1', con, if_exists='replace', index=False)\n",
    "direction_2.to_sql('Direction2', con, if_exists='replace', index=False)\n",
    "\n",
    "cursor = con.cursor()\n",
    "cursor.execute(\"\"\"\n",
    "            SELECT * FROM  Direction1 CROSS JOIN Direction2 \n",
    "            WHERE Direction1.BusStopCode != Direction2.BusStopCode AND\n",
    "            Direction1.ArrivalTime = Direction2.ArrivalTime \n",
    "            ORDER BY ABS(31.8 - Direction1.Distance - Direction2.Distance) ASC\"\"\")\n",
    "\n",
    "results = cursor.fetchone()\n",
    "cursor.close()\n",
    "con.close()\n",
    "\n",
    "busstop1, busstop2, time_closest = results[1], results[5], datetime.strptime(results[3], '%Y-%m-%d %H:%M:%S').strftime('%H%M')\n",
    "print(f\"The time in which the two buses is closest to each other is at {time_closest} at bus stops {busstop1} and {busstop2}\")"
   ]
  },
  {
   "cell_type": "code",
   "execution_count": null,
   "metadata": {},
   "outputs": [],
   "source": []
  }
 ],
 "metadata": {
  "kernelspec": {
   "display_name": "Python 3",
   "language": "python",
   "name": "python3"
  },
  "language_info": {
   "codemirror_mode": {
    "name": "ipython",
    "version": 3
   },
   "file_extension": ".py",
   "mimetype": "text/x-python",
   "name": "python",
   "nbconvert_exporter": "python",
   "pygments_lexer": "ipython3",
   "version": "3.11.3"
  },
  "orig_nbformat": 4
 },
 "nbformat": 4,
 "nbformat_minor": 2
}
