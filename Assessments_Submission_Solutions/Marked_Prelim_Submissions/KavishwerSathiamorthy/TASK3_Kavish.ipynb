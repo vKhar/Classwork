{
 "cells": [
  {
   "cell_type": "code",
   "execution_count": null,
   "metadata": {},
   "outputs": [],
   "source": [
    "# Task 3.1\n",
    "\n",
    "def qsort(arr):\n",
    "    if len(arr) < 2:\n",
    "        return arr\n",
    "    else:\n",
    "        higher, lower = [], []\n",
    "        pivot = arr.pop(0)\n",
    "        for item in arr:\n",
    "            if item[0] > pivot[0]:\n",
    "                higher.append(item)\n",
    "            else:\n",
    "                lower.append(item)\n",
    "        return qsort(lower) + [pivot] + qsort(higher)\n",
    "    \n",
    "qsort([(\"Orange\", 2), (\"Apple\", 2)])"
   ]
  },
  {
   "cell_type": "markdown",
   "metadata": {},
   "source": [
    "- 5m"
   ]
  },
  {
   "cell_type": "code",
   "execution_count": null,
   "metadata": {},
   "outputs": [],
   "source": [
    "# Task 3.2\n",
    "import random\n",
    "import string\n",
    "alphabet = string.ascii_lowercase\n",
    "\n",
    "def generate_random(length):\n",
    "    return [(\"\".join([alphabet[random.randint(0, 25)] for i in range(8)]), random.randint(0, 100)) for i in range(length)]\n",
    "\n",
    "print(qsort(generate_random(5))) # Valid\n",
    "print(qsort(generate_random(0))) # Boundary\n",
    "print(qsort(generate_random(100000000))) # Invalid"
   ]
  },
  {
   "cell_type": "markdown",
   "metadata": {},
   "source": [
    "- incorrect invalid case, to break the call stack, the items in the list must either be identical or sorted order, having a very large list may not break the call stack limit\n",
    "- 2m"
   ]
  },
  {
   "cell_type": "code",
   "execution_count": null,
   "metadata": {},
   "outputs": [],
   "source": [
    "# Task 3.3\n",
    "\n",
    "words = []\n",
    "lines = open(\"WORDS.TXT\").read().strip().split(\"\\n\")\n",
    "for index, line in enumerate(lines):\n",
    "    words.append((line.strip(), index+1))\n",
    "\n",
    "batches = [words[index*3000:min((index + 1)*3000, len(words)-1)] for index in range(0, len(words)//3000+1)]\n",
    "sorted_partial = []\n",
    "\n",
    "for batch in batches:\n",
    "    sorted_partial.append(qsort(batch))\n",
    "    \n",
    "def mway_merge(arr):\n",
    "    count = sum([len(subarr) for subarr in arr])\n",
    "    ret = []\n",
    "    while count:\n",
    "        min_index = None\n",
    "        min_value = None\n",
    "        for i in range(len(arr)):\n",
    "            if (min_value is None and len(arr[i]) > 0) or (len(arr[i]) > 0 and arr[i][0][0] < min_value):\n",
    "                min_value = arr[i][0][0]\n",
    "                min_index = i\n",
    "        \n",
    "        data = arr[min_index].pop(0)\n",
    "        ret.append(data)\n",
    "        count -= 1\n",
    "    return ret\n",
    "\n",
    "sorted_all = mway_merge(sorted_partial)\n",
    "print(sorted_all)\n",
    "print(len(sorted_all))"
   ]
  },
  {
   "cell_type": "markdown",
   "metadata": {},
   "source": [
    "- line 8 , the last batch will contain 1 item less, the last slice should be ```[:len(words)]``` instead of ```[:len(words)-1]```\n",
    "- you tend to make small careless mistakes with start, end index values for a range/slice of a list. you either end or stop incorrectly.\n",
    "- 9m"
   ]
  },
  {
   "cell_type": "code",
   "execution_count": null,
   "metadata": {},
   "outputs": [],
   "source": [
    "# Task 3.4\n",
    "\n",
    "def bin_search(sorted_all, word):\n",
    "    lb, ub = 0, len(sorted_all) - 1\n",
    "    while True:\n",
    "        mid = (lb + ub)//2\n",
    "        if ub < lb:\n",
    "            return None\n",
    "        elif sorted_all[mid][0] == word:\n",
    "            return sorted_all[mid][1]\n",
    "        elif word > sorted_all[mid][0]:\n",
    "            lb = mid + 1\n",
    "        elif word < sorted_all[mid][0]:\n",
    "            ub = mid - 1\n",
    "    \n",
    "bin_search(sorted_all, \"addition\")"
   ]
  },
  {
   "cell_type": "code",
   "execution_count": null,
   "metadata": {},
   "outputs": [],
   "source": [
    "sorted_all[26398]"
   ]
  },
  {
   "cell_type": "markdown",
   "metadata": {},
   "source": [
    "- need to return word and line number found (read the question)\n",
    "- 2m"
   ]
  },
  {
   "cell_type": "code",
   "execution_count": null,
   "metadata": {},
   "outputs": [],
   "source": [
    "# Task 3.5\n",
    "\n",
    "def prefix_search(sorted_all, prefix):\n",
    "    ret = []\n",
    "    index = bin_search(sorted_all, prefix)\n",
    "    print(index)\n",
    "    for i in range(0, len(sorted_all)):\n",
    "        if sorted_all[(index + i) % len(sorted_all)][0][:len(prefix)] == prefix:\n",
    "            ret.append(sorted_all[(index + i) % len(sorted_all)])\n",
    "    return ret\n",
    "    \n",
    "prefix_search(sorted_all, \"su\")"
   ]
  },
  {
   "cell_type": "markdown",
   "metadata": {},
   "source": [
    "- your algorithm will not work if the prefix is not found as a word eg \"su\", \"s\", a single letter is also a prefix!\n",
    "- you are doing a linear search in line 7 to 9\n",
    "- 0m"
   ]
  },
  {
   "cell_type": "code",
   "execution_count": null,
   "metadata": {},
   "outputs": [],
   "source": [
    "# Task 3.6\n",
    "\n",
    "def suffix_search():\n",
    "    "
   ]
  },
  {
   "cell_type": "markdown",
   "metadata": {},
   "source": [
    "- 0m"
   ]
  }
 ],
 "metadata": {
  "kernelspec": {
   "display_name": "Python 3",
   "language": "python",
   "name": "python3"
  },
  "language_info": {
   "codemirror_mode": {
    "name": "ipython",
    "version": 3
   },
   "file_extension": ".py",
   "mimetype": "text/x-python",
   "name": "python",
   "nbconvert_exporter": "python",
   "pygments_lexer": "ipython3",
   "version": "3.6.4"
  }
 },
 "nbformat": 4,
 "nbformat_minor": 2
}
