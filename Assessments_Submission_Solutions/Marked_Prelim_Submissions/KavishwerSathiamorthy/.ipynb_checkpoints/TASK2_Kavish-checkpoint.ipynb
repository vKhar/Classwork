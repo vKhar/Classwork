{
 "cells": [
  {
   "cell_type": "code",
   "execution_count": 8,
   "metadata": {},
   "outputs": [
    {
     "name": "stdout",
     "output_type": "stream",
     "text": [
      "Interchange A: 75009\n",
      "Interchange B: 16009\n"
     ]
    }
   ],
   "source": [
    "# Task 2.1\n",
    "\n",
    "import csv\n",
    "\n",
    "data = list(csv.reader(open(\"ARRIVALS.TXT\")))[1:]\n",
    "bus1 = [item for item in data if item[1] == \"1\"]\n",
    "bus2 = [item for item in data if item[1] == \"2\"]\n",
    "\n",
    "for stop in bus1:\n",
    "    stop[0] = int(stop[0])\n",
    "for stop in bus2:\n",
    "    stop[0] = int(stop[0])\n",
    "    \n",
    "bus1 = sorted(bus1, key=lambda x: x[0])\n",
    "bus2 = sorted(bus2, key=lambda x: x[0])\n",
    "\n",
    "print(f\"Interchange A: {bus1[0][2]}\")\n",
    "print(f\"Interchange B: {bus2[0][2]}\")"
   ]
  },
  {
   "cell_type": "code",
   "execution_count": 33,
   "metadata": {},
   "outputs": [
    {
     "name": "stdout",
     "output_type": "stream",
     "text": [
      "Direction   Start    End     Duration\n",
      "   1        0500    0627    1H,27m\n",
      "   2        0600    0730    1H,30m\n"
     ]
    }
   ],
   "source": [
    "# Task 2.2\n",
    "\n",
    "import datetime\n",
    "\n",
    "print(f\"Direction   Start    End     Duration\")\n",
    "\n",
    "# Bus 1\n",
    "start = datetime.datetime.strptime(bus1[0][-1], \"%H%M\")\n",
    "end = datetime.datetime.strptime(bus1[-1][-1], \"%H%M\")\n",
    "duration = (end - start).seconds // 60\n",
    "hours = duration // 60\n",
    "minutes = duration % 60\n",
    "print(f\"   1        {bus1[0][-1]}    {bus1[-1][-1]}    {hours}H,{minutes}m\")\n",
    "\n",
    "# Bus 2\n",
    "start = datetime.datetime.strptime(bus2[0][-1], \"%H%M\")\n",
    "end = datetime.datetime.strptime(bus2[-1][-1], \"%H%M\")\n",
    "duration = (end - start).seconds // 60\n",
    "hours = duration // 60\n",
    "minutes = duration % 60\n",
    "print(f\"   2        {bus2[0][-1]}    {bus2[-1][-1]}    {hours}H,{minutes}m\")\n",
    "\n"
   ]
  },
  {
   "cell_type": "code",
   "execution_count": 42,
   "metadata": {},
   "outputs": [
    {
     "name": "stdout",
     "output_type": "stream",
     "text": [
      "Direction 1\n",
      "76069  to  96289: 4m\n",
      "80219  to  80169: 3m\n",
      "02119  to  03019: 3m\n",
      "03217  to  05649: 3m\n",
      "Direction 2\n",
      "14089  to  14069: 3m\n",
      "80161  to  80211: 4m\n",
      "96281  to  76061: 4m\n"
     ]
    }
   ],
   "source": [
    "# Task 2.3\n",
    "import datetime\n",
    "\n",
    "print(\"Direction 1\")\n",
    "for i in range(1, bus1[-1][0]-1):\n",
    "    end = datetime.datetime.strptime(bus1[i+1][-1], \"%H%M\")\n",
    "    start = datetime.datetime.strptime(bus1[i][-1], \"%H%M\")\n",
    "    if (end - start).seconds > 120:\n",
    "        print(f\"{bus1[i][2]}  to  {bus1[i+1][2]}: {(end - start).seconds // 60}m\")\n",
    "\n",
    "print(\"Direction 2\")\n",
    "for i in range(1, bus2[-1][0]-1):\n",
    "    end = datetime.datetime.strptime(bus2[i+1][-1], \"%H%M\")\n",
    "    start = datetime.datetime.strptime(bus2[i][-1], \"%H%M\")\n",
    "    if (end - start).seconds > 120:\n",
    "        print(f\"{bus2[i][2]}  to  {bus2[i+1][2]}: {(end - start).seconds // 60}m\")"
   ]
  },
  {
   "cell_type": "code",
   "execution_count": 49,
   "metadata": {},
   "outputs": [
    {
     "name": "stdout",
     "output_type": "stream",
     "text": [
      "Direction 1\n",
      "longest distance between two adjacent bus stops is 1.40km\n",
      "Direction 2\n",
      "longest distance between two adjacent bus stops is 1.60km\n"
     ]
    }
   ],
   "source": [
    "# Task 2.4\n",
    "\n",
    "distances = []\n",
    "for i in range(1, bus1[-1][0]-1):\n",
    "    end = float(bus1[i+1][3])\n",
    "    start = float(bus1[i][3])\n",
    "    distances.append(end - start)\n",
    "print(f\"Direction 1\\nlongest distance between two adjacent bus stops is {round(max(distances), 2)}0km\")\n",
    "\n",
    "distances = []\n",
    "for i in range(1, bus2[-1][0]-1):\n",
    "    end = float(bus2[i+1][3])\n",
    "    start = float(bus2[i][3])\n",
    "    distances.append(end - start)\n",
    "print(f\"Direction 2\\nlongest distance between two adjacent bus stops is {round(max(distances), 2)}0km\")\n"
   ]
  },
  {
   "cell_type": "code",
   "execution_count": 91,
   "metadata": {},
   "outputs": [
    {
     "name": "stdout",
     "output_type": "stream",
     "text": [
      "The time at which the two buses is closest to each other is at 0615 at bus stops 61 and 16\n"
     ]
    }
   ],
   "source": [
    "# Task 2.5\n",
    "import math\n",
    "total_distance = float(bus1[-1][3])\n",
    "\n",
    "time_strings = []\n",
    "for hour in range(int(bus1[0][-1][:2]), int(bus1[-1][-1][:2])+1):\n",
    "    for minutes in range(0, 61):\n",
    "        prec_0 = \"0\"*(2-len(str(minutes)))\n",
    "        time_strings.append(f\"0{hour}{prec_0}{minutes}\")\n",
    "\n",
    "distances = []\n",
    "for time in time_strings:\n",
    "    bus1_dist = 0\n",
    "    bus1_stop = 0\n",
    "    bus2_dist = 0\n",
    "    bus2_stop = 0\n",
    "    \n",
    "    for stop in bus1:\n",
    "        if stop[-1] == time:\n",
    "            bus1_dist = float(stop[3])\n",
    "            bus1_stop = stop[0]\n",
    "            break\n",
    "    else:\n",
    "        continue\n",
    "    \n",
    "    for stop in bus2:\n",
    "        if stop[-1] == time:\n",
    "            bus2_dist = float(stop[3])\n",
    "            bus2_stop = stop[0]\n",
    "            break\n",
    "    else:\n",
    "        continue\n",
    "        \n",
    "    distances.append(((total_distance - bus1_dist - bus2_dist)**2, time, bus1_stop, bus2_stop))\n",
    "    \n",
    "minimum = min(distances)\n",
    "print(f\"The time at which the two buses is closest to each other is at {minimum[1]} at bus stops {minimum[2]} and {minimum[3]}\")"
   ]
  }
 ],
 "metadata": {
  "kernelspec": {
   "display_name": "Python 3",
   "language": "python",
   "name": "python3"
  },
  "language_info": {
   "codemirror_mode": {
    "name": "ipython",
    "version": 3
   },
   "file_extension": ".py",
   "mimetype": "text/x-python",
   "name": "python",
   "nbconvert_exporter": "python",
   "pygments_lexer": "ipython3",
   "version": "3.6.4"
  }
 },
 "nbformat": 4,
 "nbformat_minor": 2
}
