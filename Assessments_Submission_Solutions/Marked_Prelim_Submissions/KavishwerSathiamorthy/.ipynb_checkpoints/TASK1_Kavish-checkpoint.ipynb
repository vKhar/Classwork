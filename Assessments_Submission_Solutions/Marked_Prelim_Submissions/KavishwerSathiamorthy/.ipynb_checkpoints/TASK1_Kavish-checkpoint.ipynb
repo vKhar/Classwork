{
 "cells": [
  {
   "cell_type": "code",
   "execution_count": 24,
   "metadata": {},
   "outputs": [],
   "source": [
    "# Task 1.1\n",
    "\n",
    "class Node:\n",
    "    def __init__(self, data):\n",
    "        self.data = data\n",
    "        self.next = None\n",
    "        \n",
    "class LinkedList:\n",
    "    def __init__(self):\n",
    "        self.start = None\n",
    "    def is_empty(self):\n",
    "        return self.start is None\n",
    "    def insert_front(self, value):\n",
    "        node = Node(value)\n",
    "        node.next = self.start\n",
    "        self.start = node\n",
    "    def remove_front(self):\n",
    "        tmp = self.start\n",
    "        self.start = self.start.next\n",
    "        return tmp.data\n",
    "    def __repr__(self):\n",
    "        ret = []\n",
    "        current = self.start\n",
    "        while current is not None:\n",
    "            ret.append(current.data)\n",
    "            current = current.next\n",
    "        return str(ret)"
   ]
  },
  {
   "cell_type": "code",
   "execution_count": 25,
   "metadata": {},
   "outputs": [],
   "source": [
    "# Task 1.2\n",
    "\n",
    "class Stack:\n",
    "    def __init__(self):\n",
    "        self.top = LinkedList()\n",
    "    def push(self, value):\n",
    "        self.top.insert_front(value)\n",
    "    def pop(self):\n",
    "        if self.top.is_empty():\n",
    "            return None\n",
    "        return self.top.remove_front()\n",
    "    def peek(self):\n",
    "        tmp = self.top.remove_front()\n",
    "        self.top.insert_front(tmp)\n",
    "        return tmp\n",
    "    def is_empty(self):\n",
    "        return self.top.is_empty()"
   ]
  },
  {
   "cell_type": "code",
   "execution_count": 26,
   "metadata": {},
   "outputs": [
    {
     "name": "stdout",
     "output_type": "stream",
     "text": [
      "2\n"
     ]
    },
    {
     "ename": "TypeError",
     "evalue": "push() missing 1 required positional argument: 'value'",
     "output_type": "error",
     "traceback": [
      "\u001b[1;31m---------------------------------------------------------------------------\u001b[0m",
      "\u001b[1;31mTypeError\u001b[0m                                 Traceback (most recent call last)",
      "\u001b[1;32m<ipython-input-26-0da3cb7bdba4>\u001b[0m in \u001b[0;36m<module>\u001b[1;34m()\u001b[0m\n\u001b[0;32m     12\u001b[0m \u001b[1;31m# Invalid\u001b[0m\u001b[1;33m\u001b[0m\u001b[1;33m\u001b[0m\u001b[0m\n\u001b[0;32m     13\u001b[0m \u001b[0ms\u001b[0m \u001b[1;33m=\u001b[0m \u001b[0mStack\u001b[0m\u001b[1;33m(\u001b[0m\u001b[1;33m)\u001b[0m\u001b[1;33m\u001b[0m\u001b[0m\n\u001b[1;32m---> 14\u001b[1;33m \u001b[0ms\u001b[0m\u001b[1;33m.\u001b[0m\u001b[0mpush\u001b[0m\u001b[1;33m(\u001b[0m\u001b[1;33m)\u001b[0m \u001b[1;31m# Raises Error\u001b[0m\u001b[1;33m\u001b[0m\u001b[0m\n\u001b[0m",
      "\u001b[1;31mTypeError\u001b[0m: push() missing 1 required positional argument: 'value'"
     ]
    }
   ],
   "source": [
    "# Task 1.3\n",
    "\n",
    "# Valid\n",
    "s = Stack()\n",
    "s.push(2)\n",
    "print(s.pop()) # returns 2\n",
    "\n",
    "# Boundary \n",
    "s = Stack()\n",
    "s.pop() # Returns None\n",
    "\n",
    "# Invalid \n",
    "s = Stack()\n",
    "s.push() # Raises Error"
   ]
  },
  {
   "cell_type": "code",
   "execution_count": 27,
   "metadata": {},
   "outputs": [],
   "source": [
    "# Task 1.4\n",
    "\n",
    "class Queue():\n",
    "    def __init__(self):\n",
    "        self.stack = Stack()\n",
    "    def enqueue(self, item):\n",
    "        new_stack = Stack()\n",
    "        while not self.stack.is_empty():\n",
    "            new_stack.push(self.stack.pop())\n",
    "        new_stack.push(item)\n",
    "        while not new_stack.is_empty():\n",
    "            self.stack.push(new_stack.pop())\n",
    "    def dequeue(self):\n",
    "        if self.stack.is_empty():\n",
    "            return None\n",
    "        return self.stack.pop()"
   ]
  },
  {
   "cell_type": "code",
   "execution_count": 34,
   "metadata": {},
   "outputs": [
    {
     "name": "stdout",
     "output_type": "stream",
     "text": [
      "3\n"
     ]
    },
    {
     "ename": "TypeError",
     "evalue": "enqueue() missing 1 required positional argument: 'item'",
     "output_type": "error",
     "traceback": [
      "\u001b[1;31m---------------------------------------------------------------------------\u001b[0m",
      "\u001b[1;31mTypeError\u001b[0m                                 Traceback (most recent call last)",
      "\u001b[1;32m<ipython-input-34-ea3434e3eb1d>\u001b[0m in \u001b[0;36m<module>\u001b[1;34m()\u001b[0m\n\u001b[0;32m     14\u001b[0m \u001b[1;31m# invalid\u001b[0m\u001b[1;33m\u001b[0m\u001b[1;33m\u001b[0m\u001b[0m\n\u001b[0;32m     15\u001b[0m \u001b[0mq\u001b[0m \u001b[1;33m=\u001b[0m \u001b[0mQueue\u001b[0m\u001b[1;33m(\u001b[0m\u001b[1;33m)\u001b[0m\u001b[1;33m\u001b[0m\u001b[0m\n\u001b[1;32m---> 16\u001b[1;33m \u001b[0mq\u001b[0m\u001b[1;33m.\u001b[0m\u001b[0menqueue\u001b[0m\u001b[1;33m(\u001b[0m\u001b[1;33m)\u001b[0m \u001b[1;31m#raises error\u001b[0m\u001b[1;33m\u001b[0m\u001b[0m\n\u001b[0m",
      "\u001b[1;31mTypeError\u001b[0m: enqueue() missing 1 required positional argument: 'item'"
     ]
    }
   ],
   "source": [
    "# Task 1.5\n",
    "\n",
    "# valid\n",
    "q = Queue()\n",
    "q.enqueue(2)\n",
    "q.enqueue(3)\n",
    "q.dequeue()\n",
    "print(q.dequeue()) #returns 3\n",
    "\n",
    "# boundary \n",
    "q = Queue()\n",
    "q.dequeue() #returns None\n",
    "\n",
    "# invalid \n",
    "q = Queue()\n",
    "q.enqueue() #raises error"
   ]
  },
  {
   "cell_type": "code",
   "execution_count": 36,
   "metadata": {},
   "outputs": [
    {
     "data": {
      "text/plain": [
       "inf"
      ]
     },
     "execution_count": 36,
     "metadata": {},
     "output_type": "execute_result"
    }
   ],
   "source": [
    "# Task 1.6\n",
    "\n",
    "class MaxQueue(Queue):\n",
    "    def __init__(self):\n",
    "        super().__init__()\n",
    "    def peek_max(self):\n",
    "        max_n = -float('inf')\n",
    "        new_stack = Stack()\n",
    "        while not self.stack.is_empty():\n",
    "            data = self.stack.pop()\n",
    "            if data > max_n:\n",
    "                max_n = data\n",
    "            new_stack.push(data)\n",
    "        while not new_stack.is_empty():\n",
    "            self.stack.push(new_stack.pop())\n",
    "        return max_n\n",
    "            \n",
    "m = MaxQueue()\n",
    "m.enqueue(2)\n",
    "m.enqueue(4)\n",
    "m.enqueue(float('inf'))\n",
    "m.peek_max()"
   ]
  },
  {
   "cell_type": "code",
   "execution_count": null,
   "metadata": {},
   "outputs": [],
   "source": []
  }
 ],
 "metadata": {
  "kernelspec": {
   "display_name": "Python 3",
   "language": "python",
   "name": "python3"
  },
  "language_info": {
   "codemirror_mode": {
    "name": "ipython",
    "version": 3
   },
   "file_extension": ".py",
   "mimetype": "text/x-python",
   "name": "python",
   "nbconvert_exporter": "python",
   "pygments_lexer": "ipython3",
   "version": "3.6.4"
  }
 },
 "nbformat": 4,
 "nbformat_minor": 2
}
