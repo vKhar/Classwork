{
 "cells": [
  {
   "cell_type": "code",
   "execution_count": null,
   "metadata": {},
   "outputs": [],
   "source": [
    "# task 3.1\n",
    "\n",
    "def qsort(words):\n",
    "    if len(words) < 2:\n",
    "        return words\n",
    "    else:\n",
    "        pivot = words[0]\n",
    "        left = []\n",
    "        right = []\n",
    "        for i in range(1, len(words)):\n",
    "            if pivot[0] > words[i][0]: # comparing the first element of tuples\n",
    "                left.append(words[i])\n",
    "            else:\n",
    "                right.append(words[i])\n",
    "        return qsort(left) + [pivot] + qsort(right)\n",
    "\n"
   ]
  },
  {
   "cell_type": "markdown",
   "metadata": {},
   "source": [
    "- 5m"
   ]
  },
  {
   "cell_type": "code",
   "execution_count": null,
   "metadata": {},
   "outputs": [],
   "source": [
    "# task 3.2\n",
    "\n",
    "#valid case\n",
    "newlist = [(\"Orange\", 23), (\"Apple\", 121), (\"Mango\", 2), (\"Durian\", 4)]\n",
    "print(qsort(newlist))\n",
    "\n",
    "#boundary case\n",
    "newlist = []\n",
    "print(qsort(newlist))\n",
    "\n",
    "#invalid case due to max call stack exceeded\n",
    "newlist = [(3, 1) for i in range(3001)]\n",
    "print(qsort(newlist))"
   ]
  },
  {
   "cell_type": "markdown",
   "metadata": {},
   "source": [
    "- 2m"
   ]
  },
  {
   "cell_type": "code",
   "execution_count": null,
   "metadata": {},
   "outputs": [],
   "source": [
    "# task 3.3\n",
    "\n",
    "temp_storage = []\n",
    "line_count = 1 # first line is 1\n",
    "sorted_partial = []\n",
    "\n",
    "\n",
    "temp_pointer = 0 #points to the index of the list in sorted_partial that is not yet 3000 in length\n",
    "with open(\"WORDS.TXT\") as f:\n",
    "    for line in f:\n",
    "        temp_storage.append((line.strip(), line_count))\n",
    "        if len(temp_storage) == 2999:\n",
    "            sorted_temp = qsort(temp_storage) # sorts the list with 2999 items inside\n",
    "            sorted_partial.append(sorted_temp)\n",
    "            temp_storage = [] # reset temp\n",
    "        line_count += 1\n",
    "print(sorted_partial)\n",
    "\n",
    "def merge(a, b): # a and b are sorted lists\n",
    "    ret = []\n",
    "    while len(a) and len(b):\n",
    "        if a[0] > b[0]: # compares each item in a and b and appends smaller item to ret, making ret sorted\n",
    "            ret.append(b.pop(0))\n",
    "        else:\n",
    "            ret.append(a.pop(0))\n",
    "    return ret + a + b\n",
    "\n",
    "def m_sort(arr):\n",
    "    if len(arr) < 2:\n",
    "        return arr\n",
    "    else:\n",
    "        mid = len(arr)//2\n",
    "        return merge(m_sort(arr[mid]), m_sort(arr[mid+1]))\n",
    "\n",
    "sorted_all = m_sort(sorted_partial)"
   ]
  },
  {
   "cell_type": "markdown",
   "metadata": {},
   "source": [
    "- after the for loop in line 10 terminates, there are remaining stuff in temp_storage that are < 2999. need to sort and append as well \n",
    "- line 28 -35 why are you just **regurgitating** code again ?!! you still do not understand the concept of merge vs merge_sort !! the last step is to merge a list of sorted list NOT sort it !!!!\n",
    "- line 33, ```sorted_partial``` that you pass in to ```m_sort```, is a list of list, you try to past the middle two list  in the first recursive call. Then, in the next recursive call you are passing the middle two elements of a list (in this case , a tuple), then in the third recursive call, you past the middle two element of a tuple, which is an int?!!! Please think through what you are coding. \n",
    "- for ```m_sort()```, if you give it some thought, you can fix your code without adding any additional lines of code. Hint: ask yourself , what does ```m_sort``` deals with and what does it return? what does ```merge ``` deals with and what does it return ? \n",
    "- 2m"
   ]
  },
  {
   "cell_type": "code",
   "execution_count": null,
   "metadata": {},
   "outputs": [],
   "source": [
    "# task 3.4\n",
    "\n",
    "def bin_search(sorted_all, word):\n",
    "    def b_search(sorted_all, word, lb, rb):\n",
    "        if lb >= rb: # item not found in sorted_all\n",
    "            return None\n",
    "        else:\n",
    "            mid = (rb + lb)//2\n",
    "            if sorted_all[mid][0] == word: # compare first element of tuple to word\n",
    "                return sorted_all[mid]\n",
    "            elif sorted_all[mid][0] > word:\n",
    "                return b_search(sorted_all, word, lb, mid-1)\n",
    "            else:\n",
    "                return b_search(sorted_all, word, mid+1, rb)\n",
    "                \n",
    "    return b_search(sorted_all, word, 0, len(sorted_all))\n"
   ]
  },
  {
   "cell_type": "code",
   "execution_count": null,
   "metadata": {},
   "outputs": [],
   "source": [
    "bin_search([(\"apple\",1),(\"orange\",2)],\"apple\")"
   ]
  },
  {
   "cell_type": "markdown",
   "metadata": {},
   "source": [
    "- can you tell me why the above code doesn't work ??\n",
    "- 2m"
   ]
  },
  {
   "cell_type": "code",
   "execution_count": null,
   "metadata": {},
   "outputs": [],
   "source": [
    "#task 3.5\n",
    "\n",
    "def prefix_search(sorted_all, prefix):\n",
    "    def pre_search(sorted_all, prefix, lb, rb, prefix_list):\n",
    "        if lb > rb: # item not found in sorted_all\n",
    "            return prefix_list\n",
    "        else:\n",
    "            mid = (rb + lb)//2\n",
    "            print(mid)\n",
    "            if prefix == sorted_all[mid][0][:len(prefix)]: # compare prefix of first element of tuple to prefix given\n",
    "                prefix_list.append(sorted_all[mid])\n",
    "                return pre_search(sorted_all, prefix, lb, mid-1, prefix_list)\n",
    "            elif sorted_all[mid][0] > prefix:\n",
    "                return pre_search(sorted_all, prefix, lb, mid-1, prefix_list)\n",
    "            else:\n",
    "                return pre_search(sorted_all, prefix, mid+1, rb, prefix_list)\n",
    "            \n",
    "    return pre_search(sorted_all, prefix, 0, len(sorted_all), [])\n"
   ]
  },
  {
   "cell_type": "markdown",
   "metadata": {},
   "source": [
    "- after you found the first word that matches the prefix, line 12, only search for more words that are lexicographically less than the first word found !\n",
    "- 3m"
   ]
  },
  {
   "cell_type": "code",
   "execution_count": null,
   "metadata": {},
   "outputs": [],
   "source": [
    "# task 3.6\n",
    "\n",
    "def suffix_search(sorted_all, suffix):\n",
    "    def suf_search(sorted_all, suffix, lb, rb, suffix_list):\n",
    "        if lb > rb: # item not found in sorted_all\n",
    "            return suffix_list\n",
    "        else:\n",
    "            mid = (rb + lb)//2\n",
    "            print(mid)\n",
    "            if suffix == sorted_all[mid][0][-len(prefix):]: # compare suffix of first element of tuple to suffix given\n",
    "                suffix_list.append(sorted_all[mid])\n",
    "                return suf_search(sorted_all, suffix, lb, mid-1, suffix_list)\n",
    "            elif sorted_all[mid][0] > prefix:\n",
    "                return suf_search(sorted_all, suffix, lb, mid-1, suffix_list)\n",
    "            else:\n",
    "                return suf_search(sorted_all, suffix, mid+1, rb, suffix_list)\n",
    "            \n",
    "    return suf_search(sorted_all, suffix, 0, len(sorted_all), [])\n",
    "    "
   ]
  },
  {
   "cell_type": "markdown",
   "metadata": {},
   "source": [
    "- you cannot search for suffixes using binary search\n",
    "- 0m"
   ]
  }
 ],
 "metadata": {
  "kernelspec": {
   "display_name": "Python 3",
   "language": "python",
   "name": "python3"
  },
  "language_info": {
   "codemirror_mode": {
    "name": "ipython",
    "version": 3
   },
   "file_extension": ".py",
   "mimetype": "text/x-python",
   "name": "python",
   "nbconvert_exporter": "python",
   "pygments_lexer": "ipython3",
   "version": "3.6.4"
  }
 },
 "nbformat": 4,
 "nbformat_minor": 2
}
