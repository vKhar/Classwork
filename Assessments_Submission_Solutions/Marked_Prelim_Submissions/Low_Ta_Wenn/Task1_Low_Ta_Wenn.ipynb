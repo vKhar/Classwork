{
 "cells": [
  {
   "cell_type": "code",
   "execution_count": null,
   "metadata": {},
   "outputs": [],
   "source": [
    "# task 1.1\n",
    "\n",
    "class Node:\n",
    "    def __init__(self, data):\n",
    "        self.__data = data\n",
    "        self.__next = None\n",
    "    \n",
    "    def get_data(self):\n",
    "        return self.__data\n",
    "    \n",
    "    def set_data(self, newdata):\n",
    "        self.__data = newdata\n",
    "        \n",
    "    def get_next(self):\n",
    "        return self.__next\n",
    "    \n",
    "    def set_next(self, newnext):\n",
    "        self.__next = newnext\n",
    "    \n",
    "    def __repr__(self):\n",
    "        return f\"{self.__data}\"\n",
    "    \n",
    "class LinkedList:\n",
    "    def __init__(self):\n",
    "        self.start = None\n",
    "    \n",
    "    def is_empty(self):\n",
    "        if self.start == None:\n",
    "            return True\n",
    "        else:\n",
    "            return False\n",
    "    \n",
    "    def insert_front(self, data):\n",
    "        new_node = Node(data)\n",
    "        if self.is_empty():\n",
    "            self.start = new_node\n",
    "        else:\n",
    "            new_node.set_next(self.start) #set the initial first node to be new node's next\n",
    "            self.start = new_node #set new node at the starting node\n",
    "        \n",
    "    def remove_front(self):\n",
    "        if self.is_empty():\n",
    "            print(\"linked list is empty\")\n",
    "        else:\n",
    "            ret = self.start\n",
    "            new_start = self.start.get_next()\n",
    "            self.start = new_start\n",
    "            return ret\n",
    "        \n",
    "    def __repr__(self):\n",
    "        if self.is_empty():\n",
    "            return \"[]\"\n",
    "        else:\n",
    "            ret = []\n",
    "            cur = self.start\n",
    "            while cur != None:\n",
    "                ret.append(cur.get_data())\n",
    "                cur = cur.get_next()\n",
    "            return f\"{ret}\"\n",
    "        \n",
    "\n"
   ]
  },
  {
   "cell_type": "markdown",
   "metadata": {},
   "source": [
    "- remove_front should return the data item and not a Node\n",
    "- 7m"
   ]
  },
  {
   "cell_type": "code",
   "execution_count": null,
   "metadata": {},
   "outputs": [],
   "source": [
    "# task 1.2\n",
    "\n",
    "class Stack(LinkedList):\n",
    "    def __init__(self):\n",
    "        super().__init__()\n",
    "        self.top = self.start\n",
    "        \n",
    "    def push(self, item): # item is a Node object\n",
    "        self.insert_front(item.get_data()) #insert_front takes item that is not a Node\n",
    "        \n",
    "    def pop(self):\n",
    "        return self.remove_front()\n",
    "    \n",
    "    def peek(self):\n",
    "        return self.start\n",
    "    \n",
    "    def is_empty(self):\n",
    "        if self.start == None:\n",
    "            return True\n",
    "        else:\n",
    "            return False\n",
    "    "
   ]
  },
  {
   "cell_type": "markdown",
   "metadata": {},
   "source": [
    "-   A stack is not a linked list, a stack uses a linked list!!\n",
    "-   push does not take a node object, when I use a stack, why must I know about a node object\n",
    "- 2m"
   ]
  },
  {
   "cell_type": "code",
   "execution_count": null,
   "metadata": {},
   "outputs": [],
   "source": [
    "# task 1.3\n",
    "\n",
    "new_stack = Stack()\n",
    "new_stack.push(Node(3)) # valid case\n",
    "new_stack.push(Node(4)) # valid case\n",
    "new_stack.pop() # valid case\n",
    "new_stack.pop() \n",
    "new_stack.pop() \n",
    "#print(new_stack)\n",
    "#new_stack.push() # invalid case"
   ]
  },
  {
   "cell_type": "markdown",
   "metadata": {},
   "source": [
    "1m"
   ]
  },
  {
   "cell_type": "code",
   "execution_count": null,
   "metadata": {},
   "outputs": [],
   "source": [
    "# task 1.4\n",
    "\n",
    "class Queue(Stack):\n",
    "    def __init__(self):\n",
    "        super().__init__()\n",
    "        \n",
    "    def enqueue(self, item): # item is a Node object\n",
    "        full_list = []\n",
    "        while not self.is_empty():\n",
    "            full_list.append(self.pop()) #taking out everything from Stack, storing it in full_list temporarily\n",
    "        self.push(item) #adds item into Stack\n",
    "        while len(full_list):\n",
    "            self.push(full_list.pop(-1)) #rest of Node objects initially in Stack gets added back in initial order\n",
    "    \n",
    "    def dequeue(self):\n",
    "        return self.pop() #same function as pop in stack, remove and return first node object\n",
    "        "
   ]
  },
  {
   "cell_type": "markdown",
   "metadata": {},
   "source": [
    "- A Queue is NOT a Stack, how can you push/pop on a queue ?!!!! there is no inheritance (is-a) relationship, when you use a Stack , you have to create a stack in your Queue code. This is a has-a relationship.-1m \n",
    "- You are required to use only Stack!!! -2m for append and pop with a Python list\n",
    "-   3m"
   ]
  },
  {
   "cell_type": "code",
   "execution_count": null,
   "metadata": {},
   "outputs": [],
   "source": [
    "# task 1.5\n",
    "#valid cases\n",
    "q = Queue()\n",
    "node1 = Node(5)\n",
    "node2 = Node(4)\n",
    "node3 = Node(3)\n",
    "q.enqueue(node1)\n",
    "q.enqueue(node2)\n",
    "q.enqueue(node3)\n",
    "print(q.dequeue())\n",
    "print(q)\n"
   ]
  },
  {
   "cell_type": "markdown",
   "metadata": {},
   "source": [
    "1m"
   ]
  },
  {
   "cell_type": "code",
   "execution_count": null,
   "metadata": {},
   "outputs": [],
   "source": [
    "# task 1.6\n",
    "\n",
    "class MaxQueue(Queue):\n",
    "    def __init__(self):\n",
    "        super().__init__()\n",
    "        \n",
    "    def peek_max(self):\n",
    "        if not self.is_empty():\n",
    "            ret = self.start\n",
    "            cur = self.start\n",
    "            while True:\n",
    "                cur = cur.get_next()\n",
    "                if cur == None:\n",
    "                    return ret\n",
    "                elif cur.get_data() > ret.get_data():\n",
    "                    ret = cur\n",
    "# test case\n",
    "#mq = MaxQueue()\n",
    "#mq.enqueue(Node(5))\n",
    "#mq.enqueue(Node(2))\n",
    "#mq.enqueue(Node(19))\n",
    "#mq.enqueue(Node(10))\n",
    "#print(mq.peek_max())\n"
   ]
  },
  {
   "cell_type": "markdown",
   "metadata": {},
   "source": [
    "- why are you traversing a linked list in a queue?!!!!\n",
    "-   0m"
   ]
  }
 ],
 "metadata": {
  "kernelspec": {
   "display_name": "Python 3",
   "language": "python",
   "name": "python3"
  },
  "language_info": {
   "codemirror_mode": {
    "name": "ipython",
    "version": 3
   },
   "file_extension": ".py",
   "mimetype": "text/x-python",
   "name": "python",
   "nbconvert_exporter": "python",
   "pygments_lexer": "ipython3",
   "version": "3.6.4"
  }
 },
 "nbformat": 4,
 "nbformat_minor": 2
}
