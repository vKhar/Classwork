{
 "cells": [
  {
   "cell_type": "code",
   "execution_count": null,
   "metadata": {},
   "outputs": [],
   "source": [
    "#Task 2.1\n",
    "with open('ARRIVALS.TXT','r') as f:\n",
    "    content = f.read().strip().split('\\n')\n",
    "arrivals = [i.split(',') for i in content[1:]]\n",
    "busstopcodes = []\n",
    "for i in arrivals:\n",
    "    if i[0] == '1':\n",
    "        busstopcodes.append(i)\n",
    "for i in busstopcodes:\n",
    "    if i[1] == '1':\n",
    "        print(f\"Interchange A is {i[2]}\")\n",
    "    else:\n",
    "        print(f\"Interchange B is {i[2]}\")\n",
    "    "
   ]
  },
  {
   "cell_type": "markdown",
   "metadata": {},
   "source": [
    "- 3m"
   ]
  },
  {
   "cell_type": "code",
   "execution_count": 6,
   "metadata": {},
   "outputs": [
    {
     "name": "stdout",
     "output_type": "stream",
     "text": [
      "Direction   Start   End      Total\n",
      " 1          0500     0627    1.0H,27.0m\n",
      " 2          0600     0730    1.0H,30.0m\n"
     ]
    }
   ],
   "source": [
    "#Task 2.2\n",
    "#finding time at arrival at interchange B for direction 1\n",
    "from datetime import datetime\n",
    "direction1_starttime = 0\n",
    "direction1_endtime = 0\n",
    "for i in arrivals:\n",
    "    if i[1] == '1' and i[0] == '1':\n",
    "        direction1_starttime = i[-1]\n",
    "    if i[1] == '1' and i[2] == '16009':\n",
    "        direction1_endtime = i[-1]\n",
    "\n",
    "starttime_1 = datetime.strptime(direction1_starttime, '%H%M')\n",
    "endtime_1 = datetime.strptime(direction1_endtime, '%H%M')\n",
    "direction2_starttime = 0\n",
    "direction2_endtime = 0\n",
    "for i in arrivals:\n",
    "    if i[1] == '2' and i[0] == '1':\n",
    "        direction2_starttime = i[-1]\n",
    "    if i[1] == '2' and i[2] == '75009':\n",
    "        direction2_endtime = i[-1]\n",
    "\n",
    "starttime_2 = datetime.strptime(direction2_starttime, '%H%M')\n",
    "endtime_2 = datetime.strptime(direction2_endtime, '%H%M')\n",
    "print(\"Direction   Start   End      Total\")\n",
    "print(f\" 1          {direction1_starttime}     {direction1_endtime}    {(endtime_1 - starttime_1).seconds / 60 // 60}H,{(((endtime_1 - starttime_1).seconds) - ((endtime_1 - starttime_1).seconds / 60 // 60) * 60 * 60) // 60}m\")\n",
    "print(f\" 2          {direction2_starttime}     {direction2_endtime}    {(endtime_2 - starttime_2).seconds / 60 // 60}H,{(((endtime_2 - starttime_2).seconds) - ((endtime_2 - starttime_2).seconds / 60 // 60) * 60 * 60) // 60}m\")        "
   ]
  },
  {
   "cell_type": "code",
   "execution_count": 1,
   "metadata": {},
   "outputs": [
    {
     "name": "stdout",
     "output_type": "stream",
     "text": [
      "20 56\n"
     ]
    }
   ],
   "source": [
    "s = 12256\n",
    "m , s = divmod(s,60)\n",
    "print(m,s)"
   ]
  },
  {
   "cell_type": "markdown",
   "metadata": {},
   "source": [
    "- line 9, 19 , Hardcoding!! -2m\n",
    "- Redundent coding, line 16 to 21 can be done in the previous for loop !!!\n",
    "- line 25, 26: UNREADABLE CODE!!\n",
    "- although your solution is correct, your coding logic and style is simply unacceptable. (-1 from 5)\n",
    "- 3 m"
   ]
  },
  {
   "cell_type": "code",
   "execution_count": 12,
   "metadata": {},
   "outputs": [
    {
     "name": "stdout",
     "output_type": "stream",
     "text": [
      "Direction 1\n",
      "76069 to 96289: 4.0m\n",
      "80219 to 80169: 3.0m\n",
      "02119 to 03019: 3.0m\n",
      "03217 to 05649: 3.0m\n",
      "Direction 2\n",
      "14089 to 14069: 3.0m\n",
      "80161 to 80211: 4.0m\n",
      "96281 to 76061: 4.0m\n"
     ]
    }
   ],
   "source": [
    "#Task 2.3\n",
    "direction1 = []\n",
    "for i in arrivals:\n",
    "    if i[1] == '1':\n",
    "        direction1.append(i)\n",
    "direction2 = []\n",
    "for i in arrivals:\n",
    "    if i[1] == '2':\n",
    "        direction2.append(i)\n",
    "import random\n",
    "def qsort(L):\n",
    "    if len(L) < 2:\n",
    "        return L\n",
    "    index = random.randint(0, len(L)-1)\n",
    "    pivot = L.pop(index)\n",
    "    left = []\n",
    "    right = []\n",
    "    for i in L:\n",
    "        if int(i[0]) > int(pivot[0]):\n",
    "            right.append(i)\n",
    "        else:\n",
    "            left.append(i)\n",
    "    return qsort(left) + [pivot] + qsort(right)\n",
    "direction1 = qsort(direction1)\n",
    "direction2 = qsort(direction2)\n",
    "twomin_1 = []\n",
    "for i in range(len(direction1)):\n",
    "    if i + 1 == len(direction1):\n",
    "        break\n",
    "    starttime = datetime.strptime(direction1[i][-1], '%H%M')\n",
    "    endtime = datetime.strptime(direction1[i+1][-1], '%H%M')\n",
    "    if (endtime - starttime).seconds > 120:\n",
    "        twomin_1.append([direction1[i][2],direction1[i+1][2], (endtime - starttime).seconds / 60])\n",
    "twomin_2 = []\n",
    "for i in range(len(direction2)):\n",
    "    if i + 1 == len(direction2):\n",
    "        break\n",
    "    starttime = datetime.strptime(direction2[i][-1], '%H%M')\n",
    "    endtime = datetime.strptime(direction2[i+1][-1], '%H%M')\n",
    "    if (endtime - starttime).seconds > 120:\n",
    "        twomin_2.append([direction2[i][2],direction2[i+1][2], (endtime - starttime).seconds / 60])\n",
    "print('Direction 1')\n",
    "for i in twomin_1:\n",
    "    print(f\"{i[0]} to {i[1]}: {i[2]}m\")\n",
    "print('Direction 2')\n",
    "for i in twomin_2:\n",
    "    print(f\"{i[0]} to {i[1]}: {i[2]}m\")"
   ]
  },
  {
   "cell_type": "code",
   "execution_count": null,
   "metadata": {},
   "outputs": [],
   "source": [
    "for i in range(0, 11,)"
   ]
  },
  {
   "cell_type": "markdown",
   "metadata": {},
   "source": [
    "- the question did not ask you to code any sorting algorithm !\n",
    "- line 28-29: Do you know how to write a for loop without writing this redundent code!!!?\n",
    "- 4m"
   ]
  },
  {
   "cell_type": "code",
   "execution_count": 13,
   "metadata": {},
   "outputs": [
    {
     "name": "stdout",
     "output_type": "stream",
     "text": [
      "Direction 1\n",
      "longest distance between two adjacent bus stops is 1.4 km\n",
      "Direction 2\n",
      "longest distance between two adjacent bus stops is 1.6 km\n"
     ]
    }
   ],
   "source": [
    "#Task 2.4\n",
    "def max_distance(L):\n",
    "    max = 0\n",
    "    for i in range(len(L)):\n",
    "        if i + 1 == len(L):\n",
    "            break\n",
    "        startdistance = L[i][3]\n",
    "        enddistance = L[i+1][3]\n",
    "        if float(enddistance) - float(startdistance) > max:\n",
    "            max = float(enddistance) - float(startdistance)\n",
    "    return f\"longest distance between two adjacent bus stops is {round(max,2)} km\"\n",
    "print(\"Direction 1\")\n",
    "print(max_distance(direction1))     \n",
    "print(\"Direction 2\")\n",
    "print(max_distance(direction2)) \n"
   ]
  },
  {
   "cell_type": "code",
   "execution_count": 3,
   "metadata": {},
   "outputs": [
    {
     "data": {
      "text/plain": [
       "[(1, 2), (2, 3), (4, 5)]"
      ]
     },
     "execution_count": 3,
     "metadata": {},
     "output_type": "execute_result"
    }
   ],
   "source": [
    "L = [ (1,2), (4,5), (2,3), ] \n",
    "\n",
    "L.sort(key=lambda x: x[1])\n",
    "L"
   ]
  },
  {
   "cell_type": "markdown",
   "metadata": {},
   "source": [
    "- 3m\n",
    " "
   ]
  }
 ],
 "metadata": {
  "kernelspec": {
   "display_name": "Python 3",
   "language": "python",
   "name": "python3"
  },
  "language_info": {
   "codemirror_mode": {
    "name": "ipython",
    "version": 3
   },
   "file_extension": ".py",
   "mimetype": "text/x-python",
   "name": "python",
   "nbconvert_exporter": "python",
   "pygments_lexer": "ipython3",
   "version": "3.6.13"
  }
 },
 "nbformat": 4,
 "nbformat_minor": 2
}
