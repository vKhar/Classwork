{
 "cells": [
  {
   "cell_type": "code",
   "execution_count": null,
   "metadata": {},
   "outputs": [],
   "source": [
    "#Task 1.1\n",
    "class Node():\n",
    "    def __init__(self, data):\n",
    "        self.data = data\n",
    "        self.next = None\n",
    "class linkedlist:\n",
    "    def __init__(self):\n",
    "        self.start = None\n",
    "    def is_empty(self):\n",
    "        if self.start == None:\n",
    "            return True\n",
    "        return False\n",
    "    def insert_front(self,data):\n",
    "        newnode = Node(data)\n",
    "        if self.is_empty():\n",
    "            self.start = newnode\n",
    "            return\n",
    "        newnode.next = self.start\n",
    "        self.start = newnode\n",
    "        return\n",
    "    def remove_front(self):\n",
    "        if self.is_empty():\n",
    "            return\n",
    "        newnode = Node(data)\n",
    "        front = self.start\n",
    "        self.dst\n",
    "        \n",
    "            #Task 1.1\n",
    "class Node():\n",
    "    def __init__(self, data):\n",
    "        self.data = data\n",
    "        self.next = None\n",
    "class linkedlist:\n",
    "    def __init__(self):\n",
    "        self.start = None\n",
    "    def is_empty(self):\n",
    "        if self.start == None:\n",
    "            return True\n",
    "        return False\n",
    "    def insert_front(self,data):\n",
    "        newnode = Node(data)\n",
    "        if self.is_empty():\n",
    "            self.start = newnode\n",
    "            return\n",
    "        newnode.next = self.start\n",
    "        self.start = newnode\n",
    "        return\n",
    "    def remove_front(self):\n",
    "        if self.is_empty():\n",
    "            return\n",
    "        front = self.start\n",
    "        self.start = front.next\n",
    "    def __repr__(self):\n",
    "        if self.is_empty():\n",
    "            return '[]'\n",
    "        cur = self.start\n",
    "        temp= []\n",
    "        while cur:\n",
    "            temp.append(cur.data)\n",
    "        return '[' + ','.join(temp) + ']'\n",
    "LL = linkedlist()\n",
    "LL.insert_front(1)\n",
    "print(LL)"
   ]
  },
  {
   "cell_type": "code",
   "execution_count": null,
   "metadata": {},
   "outputs": [],
   "source": [
    "print('n')"
   ]
  },
  {
   "cell_type": "code",
   "execution_count": null,
   "metadata": {},
   "outputs": [],
   "source": []
  }
 ],
 "metadata": {
  "kernelspec": {
   "display_name": "Python 3",
   "language": "python",
   "name": "python3"
  },
  "language_info": {
   "codemirror_mode": {
    "name": "ipython",
    "version": 3
   },
   "file_extension": ".py",
   "mimetype": "text/x-python",
   "name": "python",
   "nbconvert_exporter": "python",
   "pygments_lexer": "ipython3",
   "version": "3.6.4"
  }
 },
 "nbformat": 4,
 "nbformat_minor": 2
}
