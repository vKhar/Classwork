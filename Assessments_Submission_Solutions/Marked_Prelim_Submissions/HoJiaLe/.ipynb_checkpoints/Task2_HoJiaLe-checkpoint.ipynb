{
 "cells": [
  {
   "cell_type": "code",
   "execution_count": 7,
   "metadata": {},
   "outputs": [
    {
     "name": "stdout",
     "output_type": "stream",
     "text": [
      "Interchange A is 75009\n",
      "Interchange B is 16009\n"
     ]
    }
   ],
   "source": [
    "#Task 2.1\n",
    "with open('ARRIVALS.TXT','r') as f:\n",
    "    content = f.read().strip().split('\\n')\n",
    "arrivals = [i.split(',') for i in content[1:]]\n",
    "busstopcodes = []\n",
    "for i in arrivals:\n",
    "    if i[0] == '1':\n",
    "        busstopcodes.append(i)\n",
    "for i in busstopcodes:\n",
    "    if i[1] == '1':\n",
    "        print(f\"Interchange A is {i[2]}\")\n",
    "    else:\n",
    "        print(f\"Interchange B is {i[2]}\")\n",
    "    "
   ]
  },
  {
   "cell_type": "code",
   "execution_count": 44,
   "metadata": {},
   "outputs": [
    {
     "name": "stdout",
     "output_type": "stream",
     "text": [
      "Direction        Start   End    Total\n",
      " 1    0500 0627 1.0H,27.0m\n",
      " 2    0600 0730 1.0H,30.0m\n"
     ]
    }
   ],
   "source": [
    "#Task 2.2\n",
    "#finding time at arrival at interchange B for direction 1\n",
    "from datetime import datetime\n",
    "direction1_starttime = 0\n",
    "direction1_endtime = 0\n",
    "for i in arrivals:\n",
    "    if i[1] == '1' and i[0] == '1':\n",
    "        direction1_starttime = i[-1]\n",
    "    if i[1] == '1' and i[2] == '16009':\n",
    "        direction1_endtime = i[-1]\n",
    "\n",
    "starttime_1 = datetime.strptime(direction1_starttime, '%H%M')\n",
    "endtime_1 = datetime.strptime(direction1_endtime, '%H%M')\n",
    "direction2_starttime = 0\n",
    "direction2_endtime = 0\n",
    "for i in arrivals:\n",
    "    if i[1] == '2' and i[0] == '1':\n",
    "        direction2_starttime = i[-1]\n",
    "    if i[1] == '2' and i[2] == '75009':\n",
    "        direction2_endtime = i[-1]\n",
    "\n",
    "starttime_2 = datetime.strptime(direction2_starttime, '%H%M')\n",
    "endtime_2 = datetime.strptime(direction2_endtime, '%H%M')\n",
    "print(\"Direction        Start   End    Total\")\n",
    "print(f\" 1    {direction1_starttime} {direction1_endtime} {(endtime_1 - starttime_1).seconds / 60 // 60}H,{(((endtime_1 - starttime_1).seconds) - ((endtime_1 - starttime_1).seconds / 60 // 60) * 60 * 60) // 60}m\")\n",
    "print(f\" 2    {direction2_starttime} {direction2_endtime} {(endtime_2 - starttime_2).seconds / 60 // 60}H,{(((endtime_2 - starttime_2).seconds) - ((endtime_2 - starttime_2).seconds / 60 // 60) * 60 * 60) // 60}m\")        "
   ]
  },
  {
   "cell_type": "markdown",
   "metadata": {},
   "source": [
    "\n",
    " "
   ]
  },
  {
   "cell_type": "code",
   "execution_count": null,
   "metadata": {},
   "outputs": [],
   "source": []
  }
 ],
 "metadata": {
  "kernelspec": {
   "display_name": "Python 3",
   "language": "python",
   "name": "python3"
  },
  "language_info": {
   "codemirror_mode": {
    "name": "ipython",
    "version": 3
   },
   "file_extension": ".py",
   "mimetype": "text/x-python",
   "name": "python",
   "nbconvert_exporter": "python",
   "pygments_lexer": "ipython3",
   "version": "3.6.4"
  }
 },
 "nbformat": 4,
 "nbformat_minor": 2
}
