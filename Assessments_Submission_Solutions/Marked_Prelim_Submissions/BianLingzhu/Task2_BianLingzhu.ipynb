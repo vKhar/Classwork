{
 "cells": [
  {
   "cell_type": "code",
   "execution_count": 14,
   "metadata": {},
   "outputs": [
    {
     "name": "stdout",
     "output_type": "stream",
     "text": [
      "75009\n",
      "16009\n"
     ]
    }
   ],
   "source": [
    "#task 2.1\n",
    "\n",
    "f = open('ARRIVALS.TXT')\n",
    "for line in f:\n",
    "    data = line.strip('/n').split(',')\n",
    "    if data[0] == '1':\n",
    "        print(data[2])\n",
    "        \n",
    "f.close()"
   ]
  },
  {
   "cell_type": "markdown",
   "metadata": {},
   "source": [
    "- line return is \"\\n\" , NOT \"/n\"!!\n",
    "- just use strip(), will strip all white space!!\n"
   ]
  },
  {
   "cell_type": "markdown",
   "metadata": {},
   "source": [
    "- 3m"
   ]
  },
  {
   "cell_type": "code",
   "execution_count": null,
   "metadata": {},
   "outputs": [],
   "source": [
    "f = open('ARRIVALS.TXT')\n",
    "interchanges = []\n",
    "direction1 = []\n",
    "direction2 = []\n",
    "def insertInOrder(arr,data):\n",
    "    for i in range(len(arr)):\n",
    "        if int(arr[i][0]) > int(data[0]):\n",
    "            arr.insert(i,data)\n",
    "            return\n",
    "    arr.append(data)\n",
    "    \n",
    "\n",
    "for line in f:\n",
    "    data = line.strip('\\n').split(',')\n",
    "    if data[1] == '1':\n",
    "        insertInOrder(direction1,data)\n",
    "    elif data[1] == '2':\n",
    "        insertInOrder(direction2,data)\n",
    "\n",
    "\n",
    "\n",
    "\n",
    "\n",
    "print(f'Direction Start End  Total')\n",
    "print(f'1         {direction1[0][4]}  {direction1[-1][4]} 0{int(direction1[-1][4]) - int(direction1[0][4])}')\n",
    "print(f'2         {direction2[0][4]}  {direction2[-1][4]} 0{int(direction2[-1][4]) - int(direction2[0][4])}')"
   ]
  },
  {
   "cell_type": "markdown",
   "metadata": {},
   "source": [
    "- you don't need to write your own sort in this question, can just use the Python sort\n",
    "- I have already discuss in class that for time, you cannot just convert to int and subtract !!! \n",
    "- line 25, 26 hardcoding the output!!!, incorrect output format!\n",
    "- 2m"
   ]
  },
  {
   "cell_type": "code",
   "execution_count": null,
   "metadata": {},
   "outputs": [],
   "source": [
    "int(\"0605\") - int(\"0555\")\n",
    "### THIS IS INCORRECT TIME DIFFERENCE!!!"
   ]
  },
  {
   "cell_type": "code",
   "execution_count": 7,
   "metadata": {},
   "outputs": [
    {
     "name": "stdout",
     "output_type": "stream",
     "text": [
      "[('31', 2), ('1', 2), ('1', 2), ('1', 2), ('8', 2)] [('31', 2), ('1', 2), ('1', 2), ('1', 2), ('8', 2)]\n"
     ]
    }
   ],
   "source": [
    "L = [(\"31\",2),(\"1\",2),(\"1\",2),(\"1\",2) ,(\"8\",2)]\n",
    "sorted_L= sorted(L, key = lambda x: x.age )\n",
    "print(L, sorted_L)"
   ]
  },
  {
   "cell_type": "code",
   "execution_count": null,
   "metadata": {},
   "outputs": [],
   "source": [
    "#task 2.3\n",
    "print('Direction 1')\n",
    "for i in range(len(direction1)-1):\n",
    "    print(f'{direction1[i][2]} to {direction1[i+1][2]}: {int(direction1[i+1][4]) - int(direction1[i][4])}m')\n",
    "\n",
    "print('\\nDirection 2')\n",
    "for i in range(len(direction2)-1):\n",
    "    print(f'{direction2[i][2]} to {direction2[i+1][2]}: {int(direction2[i+1][4]) - int(direction2[i][4])}m')"
   ]
  },
  {
   "cell_type": "markdown",
   "metadata": {},
   "source": [
    "- READ THE QUESTION PROPERLY!!!! I only want > 2 minutes!!\n",
    "- 2m"
   ]
  },
  {
   "cell_type": "code",
   "execution_count": 13,
   "metadata": {},
   "outputs": [
    {
     "name": "stdout",
     "output_type": "stream",
     "text": [
      "Direction 1\n",
      "longest distance between two adjacent bus tops is 1.4km\n",
      "Direction 2\n",
      "longest distance between two adjacent bus tops is 1.6km\n"
     ]
    }
   ],
   "source": [
    "#task 2.4\n",
    "\n",
    "max1 = 0\n",
    "max2 = 0\n",
    "\n",
    "for i in range(len(direction1)-1):\n",
    "    difference = float(direction1[i+1][3]) - float(direction1[i][3])\n",
    "    if difference > max1:\n",
    "        max1 = difference\n",
    "    \n",
    "for i in range(len(direction2)-1):\n",
    "    difference = float(direction2[i+1][3]) - float(direction2[i][3])\n",
    "    if difference > max2:\n",
    "        max2 = difference\n",
    "        \n",
    "print('Direction 1')\n",
    "print(f'longest distance between two adjacent bus tops is {round(max1,2)}km')\n",
    "print('Direction 2')\n",
    "print(f'longest distance between two adjacent bus tops is {round(max2,2)}km')"
   ]
  },
  {
   "cell_type": "markdown",
   "metadata": {},
   "source": [
    "- 3m"
   ]
  },
  {
   "cell_type": "code",
   "execution_count": null,
   "metadata": {},
   "outputs": [],
   "source": []
  }
 ],
 "metadata": {
  "kernelspec": {
   "display_name": "Python 3",
   "language": "python",
   "name": "python3"
  },
  "language_info": {
   "codemirror_mode": {
    "name": "ipython",
    "version": 3
   },
   "file_extension": ".py",
   "mimetype": "text/x-python",
   "name": "python",
   "nbconvert_exporter": "python",
   "pygments_lexer": "ipython3",
   "version": "3.6.13"
  }
 },
 "nbformat": 4,
 "nbformat_minor": 2
}
