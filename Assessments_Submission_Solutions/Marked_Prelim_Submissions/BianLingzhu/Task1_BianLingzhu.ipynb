{
 "cells": [
  {
   "cell_type": "code",
   "execution_count": 3,
   "metadata": {},
   "outputs": [],
   "source": [
    "#task 1.1\n",
    "class Node:\n",
    "    def __init__(self,data):\n",
    "        self.data = data\n",
    "        self.next = None\n",
    "        \n",
    "    #helper for visualising test case\n",
    "    def __repr__(self):\n",
    "        return str(self.data)\n",
    "        \n",
    "class LL:\n",
    "    def __init__(self):\n",
    "        self.start = None\n",
    "        \n",
    "    def get_start(self):\n",
    "        return self.start\n",
    "        \n",
    "    def is_empty(self):\n",
    "        return self.start == None\n",
    "    \n",
    "    def insert_front(self,data):\n",
    "        newNode = Node(data)\n",
    "        \n",
    "        #empty case\n",
    "        if self.is_empty():\n",
    "            self.start = newNode\n",
    "            return\n",
    "        \n",
    "        #insert front\n",
    "        newNode.next = self.start\n",
    "        self.start = newNode\n",
    "        \n",
    "        \n",
    "    def remove_front(self):\n",
    "        #empty, return None\n",
    "        if self.is_empty():\n",
    "            return None\n",
    "        \n",
    "        #delete front\n",
    "        temp = self.start\n",
    "        self.start = self.start.next\n",
    "        return temp\n",
    "    \n",
    "    def __repr__(self):\n",
    "        ret = []\n",
    "        cur = self.start\n",
    "        while cur != None:\n",
    "            ret.append(cur.data)\n",
    "            cur = cur.next\n",
    "        ret.reverse()\n",
    "        return str(ret)"
   ]
  },
  {
   "cell_type": "markdown",
   "metadata": {},
   "source": [
    "- line 50 why do you reverse the linked list order ?\n",
    "- remove_front should return the data item and NOT a Node object\n",
    "- 7m"
   ]
  },
  {
   "cell_type": "code",
   "execution_count": 1,
   "metadata": {},
   "outputs": [],
   "source": [
    "#task 1.2\n",
    "\n",
    "class Stack():\n",
    "    def __init__(self):\n",
    "        self.top = LL()\n",
    "        \n",
    "    def get_top(self):\n",
    "        return self.top\n",
    "        \n",
    "    def push(self,data):\n",
    "        self.top.insert_front(data)\n",
    "        \n",
    "    def pop(self):\n",
    "        return self.top.remove_front()\n",
    "    \n",
    "    def peek(self):\n",
    "        return self.top.get_start()\n",
    "    \n",
    "    def is_empty(self):\n",
    "        return self.top.is_empty()\n",
    "    "
   ]
  },
  {
   "cell_type": "markdown",
   "metadata": {},
   "source": [
    "4m"
   ]
  },
  {
   "cell_type": "code",
   "execution_count": 4,
   "metadata": {},
   "outputs": [
    {
     "data": {
      "text/plain": [
       "2"
      ]
     },
     "execution_count": 4,
     "metadata": {},
     "output_type": "execute_result"
    }
   ],
   "source": [
    "#task 1.3\n",
    "s = Stack()\n",
    "s.push(1)\n",
    "s.push(2)\n",
    "s.pop()\n",
    "#s.peek()\n"
   ]
  },
  {
   "cell_type": "markdown",
   "metadata": {},
   "source": [
    "- there is no output for line 5, only the last line output is shown\n",
    "- 1m"
   ]
  },
  {
   "cell_type": "code",
   "execution_count": null,
   "metadata": {},
   "outputs": [],
   "source": [
    "#task 1.4\n",
    "class Queue(Stack):\n",
    "    def __init__(self):\n",
    "        super().__init__()\n",
    "        \n",
    "    def enqueue(self,data):\n",
    "        newNode = Node(data)\n",
    "        if self.get_top().is_empty():\n",
    "            self.push(data)\n",
    "            return\n",
    "        \n",
    "        cur = self.get_top().get_start()\n",
    "        prev = None\n",
    "        while cur != None:\n",
    "            prev = cur\n",
    "            cur = cur.next\n",
    "        prev.next = newNode\n",
    "        \n",
    "    def dequeue(self):\n",
    "        return self.pop()"
   ]
  },
  {
   "cell_type": "markdown",
   "metadata": {},
   "source": [
    "- A Queue is NOT a Stack, there is no inheritance (is-a) relationship, when you use a Stack , you have to create a stack in your Queue code. This is a has-a relationship. \n",
    "You cannot traverse the linked list to perfrom enqueue, you are breaking the Stack abstraction which the question required you to use!\n",
    "- 1m"
   ]
  },
  {
   "cell_type": "code",
   "execution_count": null,
   "metadata": {},
   "outputs": [],
   "source": [
    "q = Queue()\n",
    "q.enqueue(1)\n",
    "q.enqueue('asdfaf')\n",
    "q.enqueue(2)\n",
    "q.dequeue()\n",
    "\n"
   ]
  },
  {
   "cell_type": "markdown",
   "metadata": {},
   "source": [
    "1m"
   ]
  },
  {
   "cell_type": "code",
   "execution_count": null,
   "metadata": {},
   "outputs": [],
   "source": [
    "#task 1.6\n",
    "class MaxQueue(Queue):\n",
    "    def __init__(self):\n",
    "        super().__init__()\n",
    "        \n",
    "    def peek_max(self):\n",
    "        cur = self.get_top().get_start()\n",
    "        maximum = cur.data\n",
    "        while cur != None:\n",
    "            if cur.data > maximum:\n",
    "                maximum = cur.data\n",
    "                \n",
    "            cur = cur.next\n",
    "        return maximum\n",
    "    \n",
    "m = MaxQueue()\n",
    "m.enqueue(1)\n",
    "m.enqueue(2)\n",
    "m.enqueue(4)\n",
    "m.enqueue(2)\n",
    "m.peek_max()"
   ]
  },
  {
   "cell_type": "markdown",
   "metadata": {},
   "source": [
    "- break abstraction to find max value\n",
    "- line 8 code breaks when empty linked list\n",
    "- 2m"
   ]
  },
  {
   "cell_type": "code",
   "execution_count": null,
   "metadata": {},
   "outputs": [],
   "source": [
    "m = MaxQueue()\n",
    "m.peek_max()\n"
   ]
  }
 ],
 "metadata": {
  "kernelspec": {
   "display_name": "Python 3",
   "language": "python",
   "name": "python3"
  },
  "language_info": {
   "codemirror_mode": {
    "name": "ipython",
    "version": 3
   },
   "file_extension": ".py",
   "mimetype": "text/x-python",
   "name": "python",
   "nbconvert_exporter": "python",
   "pygments_lexer": "ipython3",
   "version": "3.6.4"
  }
 },
 "nbformat": 4,
 "nbformat_minor": 2
}
