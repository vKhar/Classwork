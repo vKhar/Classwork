{
 "cells": [
  {
   "cell_type": "code",
   "execution_count": null,
   "metadata": {},
   "outputs": [],
   "source": [
    "#task 3.1\n",
    "import random\n",
    "\n",
    "def qsort(arr):\n",
    "    if len(arr) < 2:\n",
    "        return arr\n",
    "    index = random.randint(0,len(arr)-1)\n",
    "    arr[0], arr[index] = arr[index], arr[0]\n",
    "    piv = arr[0]\n",
    "    left = []\n",
    "    right = []\n",
    "    \n",
    "    for i in range(1,len(arr)):\n",
    "        if arr[i][0] < piv[0]:\n",
    "            left.append(arr[i])\n",
    "        else:\n",
    "            right.append(arr[i])\n",
    "    return qsort(left) + [piv] + qsort(right)\n",
    "\n",
    "qsort([ ('Orange',24), ('Apple',233), ('banana',24), ('you',233)])"
   ]
  },
  {
   "cell_type": "markdown",
   "metadata": {},
   "source": [
    "- 5m"
   ]
  },
  {
   "cell_type": "code",
   "execution_count": null,
   "metadata": {},
   "outputs": [],
   "source": [
    "#task 3.2\n",
    "\n",
    "#valid\n",
    "qsort([ ('Orange',24), ('Apple',233), ('banana',24), ('you',233)])\n",
    "#boundary\n",
    "qsort([])\n",
    "#invalid\n",
    "invalidArr = []\n",
    "for i in range(30000):\n",
    "    invalidArr.append(('word',4))\n",
    "qsort(invalidArr)\n"
   ]
  },
  {
   "cell_type": "markdown",
   "metadata": {},
   "source": [
    "- please write the test cases so that the output can be verified\n",
    "- 3m"
   ]
  },
  {
   "cell_type": "code",
   "execution_count": null,
   "metadata": {},
   "outputs": [],
   "source": [
    "#task 3.3\n",
    "f = open('WORDS.TXT')\n",
    "tupArr = []\n",
    "line_num = 0\n",
    "for line in f:\n",
    "    data = line.strip('\\n')\n",
    "    tupArr.append((data,line_num))\n",
    "    line_num +=1\n",
    "    \n",
    "sorted_partial = []\n",
    "lb = 0\n",
    "for i in range(0,len(tupArr),3000): #split large arr into 3000 words each and qsort the splitted arrs\n",
    "    sorted_partial.append(qsort(tupArr[lb:i]))\n",
    "    lb = i\n",
    "\n",
    "def merge2(A,B):\n",
    "    ret = []\n",
    "    while A and B:\n",
    "        if A[0] < B[0]:\n",
    "            ret.append(A.pop(0))\n",
    "        else:\n",
    "            ret.append(B.pop(0))\n",
    "    return ret +A+B\n",
    "\n",
    "def merge(arr): #array of arrays\n",
    "    if len(arr) < 2:\n",
    "        return arr[0]\n",
    "    mid = len(arr)//2\n",
    "    return merge2(merge(arr[:mid]),merge(arr[mid:]))\n",
    "\n",
    "sorted_all = merge(sorted_partial)[1]\n",
    "print(sorted_all)"
   ]
  },
  {
   "cell_type": "code",
   "execution_count": 10,
   "metadata": {},
   "outputs": [
    {
     "data": {
      "text/plain": [
       "[[9, 8], [7, 6], [5, 4], [3, 2], [1]]"
      ]
     },
     "execution_count": 10,
     "metadata": {},
     "output_type": "execute_result"
    }
   ],
   "source": [
    "arr = [1,2,3,4,5,6,7,8,9]\n",
    "ret = []\n",
    "while len(arr) > 0:\n",
    "\n",
    "    ret.append(arr[-2:][::-1])\n",
    "    arr = arr[:-2]\n",
    "\n",
    "ret"
   ]
  },
  {
   "cell_type": "code",
   "execution_count": 9,
   "metadata": {},
   "outputs": [
    {
     "data": {
      "text/plain": [
       "[2, 1]"
      ]
     },
     "execution_count": 9,
     "metadata": {},
     "output_type": "execute_result"
    }
   ],
   "source": [
    "arr = [1,2]\n",
    "arr.reverse()\n"
   ]
  },
  {
   "cell_type": "markdown",
   "metadata": {},
   "source": [
    "- line number should start at 1 ! \n",
    "- line 12 , the for loop will only append multiples of 3000 elements into sorted_partial and the first list is empty, your sorted_partial has\n",
    "``` [ [], [0-3000], ..[0-3000] ]``` so you have only 28*3000 = 84000  words in sorted_partial. There are 84095 words in the file [2m]\n",
    "- merge2 is ok [4m]\n",
    "- merge is incorrect\n",
    "- your concept of slicing, range() is still very weak, please revise. I will quiz you on these later.\n",
    "- *6m*"
   ]
  },
  {
   "cell_type": "code",
   "execution_count": null,
   "metadata": {},
   "outputs": [],
   "source": [
    "#task 3.4\n",
    "def bin_search(arr,word):\n",
    "    if len(arr) < 1:\n",
    "        return None\n",
    "    \n",
    "    mid = len(arr)//2\n",
    "    if word == arr[mid][0]:\n",
    "        return arr[mid]\n",
    "    elif word < arr[mid][0]:\n",
    "        return bin_search(arr[:mid],word)\n",
    "    else:\n",
    "        return bin_search(arr[mid+1:],word)\n",
    "    \n",
    "print(bin_search(sorted_all,'acta'))"
   ]
  },
  {
   "cell_type": "markdown",
   "metadata": {},
   "source": [
    "3m"
   ]
  },
  {
   "cell_type": "code",
   "execution_count": null,
   "metadata": {},
   "outputs": [],
   "source": [
    "#task 3.5\n",
    "\n",
    "def prefix_search(arr,word,all_words = []):\n",
    "    wordLength = len(word)\n",
    "    \n",
    "    def new_binsearch(arr,word): #find the word with a prefix\n",
    "        if len(arr) < 1:\n",
    "            return None\n",
    "\n",
    "        mid = len(arr)//2\n",
    "        if word == arr[mid][0][wordLength]:\n",
    "            return arr[mid] \n",
    "        elif word < arr[mid][0]:\n",
    "            return bin_search(arr[:mid],word)\n",
    "        else:\n",
    "            return bin_search(arr[mid+1:],word)\n",
    "    \n",
    "    while True:     #after getting word, remove the word and search again\n",
    "        data = new_binsearch(prefixArr,word)\n",
    "        if data == None:    #no more words to find        \n",
    "            break\n",
    "        all_words.remove(data) #remove item from the prefix arr\n",
    "        all_words.append(data)\n",
    "    \n",
    "    return all_words\n",
    "    \n",
    "prefix_search(sorted_all,'all')"
   ]
  },
  {
   "cell_type": "markdown",
   "metadata": {},
   "source": [
    "- line 11, i think you mean to use [:wordLength] to check pre-fix\n",
    "- line 14, 16 copy and paste wrong function name?!!\n",
    "- line 19, line 22 WHICH array are you using ?!\n",
    "- your code will only work once!!\n",
    "- you have being very careless with which variables/function names you are using. \n",
    "- 1m"
   ]
  },
  {
   "cell_type": "code",
   "execution_count": null,
   "metadata": {},
   "outputs": [],
   "source": [
    "#task 3.6\n",
    "\n",
    "def suffix_search(arr,words,all_words = []):\n",
    "    wordLength = len(word)\n",
    "    for i in range(len(arr)):\n",
    "        if word == arr[i][0][:wordLength]:\n",
    "            all_words.append(word)\n",
    "            \n",
    "    return all_words\n",
    "        \n",
    "    "
   ]
  },
  {
   "cell_type": "markdown",
   "metadata": {},
   "source": [
    "line 6 - you mean [-wordLength:]\n",
    "- PLEASE REVISE YOUR LIST SLICING. You are confused\n",
    "- word OR words ?!!!!\n",
    "- 2m\n"
   ]
  },
  {
   "cell_type": "code",
   "execution_count": null,
   "metadata": {},
   "outputs": [],
   "source": []
  }
 ],
 "metadata": {
  "kernelspec": {
   "display_name": "Python 3",
   "language": "python",
   "name": "python3"
  },
  "language_info": {
   "codemirror_mode": {
    "name": "ipython",
    "version": 3
   },
   "file_extension": ".py",
   "mimetype": "text/x-python",
   "name": "python",
   "nbconvert_exporter": "python",
   "pygments_lexer": "ipython3",
   "version": "3.6.13"
  }
 },
 "nbformat": 4,
 "nbformat_minor": 2
}
