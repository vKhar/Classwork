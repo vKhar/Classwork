{
 "cells": [
  {
   "cell_type": "code",
   "execution_count": null,
   "metadata": {},
   "outputs": [],
   "source": [
    "#Task 2.1\n",
    "with open(\"ARRIVALS.txt\") as f:\n",
    "    file = f.readlines()\n",
    "    data = []\n",
    "    for s in file:\n",
    "        data.append(s.strip())\n",
    "\n",
    "data = data[1:] ##remove header\n",
    "bus_stop_code = []\n",
    "interchange = []\n",
    "for d in data:\n",
    "    d = d.split(\",\")\n",
    "    \n",
    "    if d[2] not in bus_stop_code:\n",
    "        bus_stop_code.append(d[2])\n",
    "    else:\n",
    "        interchange.append(d[2])\n",
    "\n",
    "print(interchange) ##interchange code\n",
    "        \n"
   ]
  },
  {
   "cell_type": "markdown",
   "metadata": {},
   "source": [
    "- 3m"
   ]
  },
  {
   "cell_type": "code",
   "execution_count": null,
   "metadata": {},
   "outputs": [],
   "source": [
    "#Task 2.2 StopSequence,Direction,BusStopCode,Distance,ArrivalTime\n",
    "\n",
    "from datetime import datetime\n",
    "\n",
    "#print(data)\n",
    "d1 = []\n",
    "d2 = []\n",
    "for d in data:\n",
    "    d = d.split(\",\")\n",
    "    if d[1] == \"1\":\n",
    "        d1.append(d)\n",
    "    else:\n",
    "        d2.append(d)\n",
    "        \n",
    "d1 = sorted(d1,key=lambda x:x[4])\n",
    "d2 = sorted(d2,key = lambda x:x[4])\n",
    "diff1 = datetime.strptime(d1[-1][4],\"%H%M\") - datetime.strptime(d1[0][4],\"%H%M\")\n",
    "diff2 =  datetime.strptime(d2[-1][4],\"%H%M\") - datetime.strptime(d2[0][4],\"%H%M\")\n",
    "print(\"Direction Start End Total\")\n",
    "print(f\"1 {d1[0][4]} {d1[-1][4]} {(diff1.seconds // 60) // 60}H,{(diff1.seconds // 60) - (diff1.seconds // 60) // 60 * 60}M\") ##formatting\n",
    "print(f\"2 {d2[0][4]} {d2[-1][4]} {(diff2.seconds // 60) // 60}H,{(diff2.seconds // 60) - (diff2.seconds // 60) // 60 * 60}M\")"
   ]
  },
  {
   "cell_type": "markdown",
   "metadata": {},
   "source": [
    "- 5m"
   ]
  },
  {
   "cell_type": "code",
   "execution_count": null,
   "metadata": {},
   "outputs": [],
   "source": [
    "\n",
    "d1_diff = []\n",
    "for i in range(len(d1)-1):\n",
    "    \n",
    "    if (datetime.strptime(d1[i+1][4],\"%H%M\") - datetime.strptime(d1[i][4],\"%H%M\")).seconds > 120:\n",
    "        d1_diff.append((d1[i],d1[i+1],(datetime.strptime(d1[i+1][4],\"%H%M\") - datetime.strptime(d1[i][4],\"%H%M\")).seconds // 60))\n",
    "    \n",
    "d2_diff = []\n",
    "for i in range(len(d2)-1):\n",
    "    \n",
    "    if (datetime.strptime(d2[i+1][4],\"%H%M\") - datetime.strptime(d2[i][4],\"%H%M\")).seconds > 120:\n",
    "        d2_diff.append((d2[i],d2[i+1],(datetime.strptime(d2[i+1][4],\"%H%M\") - datetime.strptime(d2[i][4],\"%H%M\")).seconds // 60))\n",
    "        \n",
    "print(\"Direction 1\")\n",
    "for i in d1_diff:\n",
    "    print(f\"{i[0][2]} to {i[1][2]} {i[2]}m\")\n",
    "print(\"Direction 2\")\n",
    "for i in d2_diff:\n",
    "    print(f\"{i[0][2]} to {i[1][2]} {i[2]}m\")\n",
    "    "
   ]
  },
  {
   "cell_type": "markdown",
   "metadata": {},
   "source": [
    "- for adjacent busstops, should sort by StopSequence, but for this case, it will give you the same result\n",
    "- 4m"
   ]
  },
  {
   "cell_type": "code",
   "execution_count": null,
   "metadata": {},
   "outputs": [],
   "source": [
    "#Task 2.4\n",
    "longest1 = 0\n",
    "longest2 = 0\n",
    "d1 = sorted(d1,key=lambda x:x[4])\n",
    "d2 = sorted(d2,key = lambda x:x[4])\n",
    "\n",
    "for i in range(len(d1)-1):\n",
    "    \n",
    "    if float(d1[i+1][3]) - float(d1[i][3]) > longest1:\n",
    "        longest1 = float(d1[i+1][3]) - float(d1[i][3])\n",
    "        \n",
    "for i in range(len(d2)-1):\n",
    "    if float(d2[i+1][3]) - float(d2[i][3]) > longest1:\n",
    "        longest2 = float(d2[i+1][3]) - float(d2[i][3])\n",
    "        \n",
    "print(\"Direction 1\")\n",
    "print(f\"longest distance:{round(longest1,2)}\")\n",
    "print(\"Direction 2\")\n",
    "print(f\"longest distance:{round(longest2,2)}\")\n"
   ]
  },
  {
   "cell_type": "markdown",
   "metadata": {},
   "source": [
    "- 3m"
   ]
  },
  {
   "cell_type": "code",
   "execution_count": null,
   "metadata": {},
   "outputs": [],
   "source": [
    "#Task 2.5\n",
    "#StopSequence,Direction,BusStopCode,Distance,ArrivalTime\n",
    "\n",
    "A_B = float(d1[-1][3]) - float(d1[0][3])\n",
    "closest = float(\"inf\")\n",
    "for i in range(len(d1)):\n",
    "    \n",
    "    diff1 = A_B - d1[i][3]\n",
    "    diff2 = A_B - d2[i][3]\n",
    "    total = diff1 + diff2"
   ]
  },
  {
   "cell_type": "markdown",
   "metadata": {},
   "source": [
    "- 0m"
   ]
  }
 ],
 "metadata": {
  "kernelspec": {
   "display_name": "Python 3",
   "language": "python",
   "name": "python3"
  },
  "language_info": {
   "codemirror_mode": {
    "name": "ipython",
    "version": 3
   },
   "file_extension": ".py",
   "mimetype": "text/x-python",
   "name": "python",
   "nbconvert_exporter": "python",
   "pygments_lexer": "ipython3",
   "version": "3.6.4"
  }
 },
 "nbformat": 4,
 "nbformat_minor": 2
}
