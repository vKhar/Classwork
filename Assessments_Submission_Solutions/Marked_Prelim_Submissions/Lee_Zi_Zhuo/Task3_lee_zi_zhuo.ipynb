{
 "cells": [
  {
   "cell_type": "code",
   "execution_count": null,
   "metadata": {},
   "outputs": [],
   "source": [
    "import random\n",
    "def qsort(lst):\n",
    "    if len(lst) < 2:\n",
    "        return lst\n",
    "    else:\n",
    "        ind = random.randint(0,len(lst)-1)\n",
    "        left = []\n",
    "        right = []\n",
    "        pivot = lst.pop(ind)\n",
    "        for i in lst:\n",
    "            if i[0] > pivot[0]:\n",
    "                right.append(i)\n",
    "            else:\n",
    "                left.append(i)\n",
    "        return qsort(left) + [pivot] + qsort(right)\n",
    "    \n",
    "print(qsort([('Orange',23),('Apple',121),('Mango',2),(\"Durian\",4)]))"
   ]
  },
  {
   "cell_type": "markdown",
   "metadata": {},
   "source": [
    "- 5m"
   ]
  },
  {
   "cell_type": "code",
   "execution_count": null,
   "metadata": {},
   "outputs": [],
   "source": [
    "#Task 3.2\n",
    "print(qsort([('Orange',23),('Apple',121),('Mango',2),(\"Durian\",4)])) ##Valid\n",
    "print(qsort([('',0),(' ',2)])) # Boundary\n",
    "##invalid case\n",
    "lst = [(\"ABS\",1) for i in range(3001)]\n",
    "qsort(lst)"
   ]
  },
  {
   "cell_type": "markdown",
   "metadata": {},
   "source": [
    "- 3m"
   ]
  },
  {
   "cell_type": "code",
   "execution_count": null,
   "metadata": {},
   "outputs": [],
   "source": [
    "\n",
    "with open(\"WORDS.TXT\") as f:\n",
    "    words = []\n",
    "    file = f.readlines()\n",
    "    for i in range(len(file)):\n",
    "        words.append((file[i].strip(),i+1))\n",
    "\n",
    "sorted_partial = []\n",
    "while len(words) > 0:\n",
    "    try:\n",
    "        temp = words[:2999]\n",
    "        words = words[2999:]\n",
    "    except:\n",
    "        temp = words\n",
    "        words = []\n",
    "    \n",
    "    sorted_tmp = qsort(temp)\n",
    "    sorted_partial.append(sorted_tmp)\n",
    "    \n",
    "\n",
    "def merge(lst):\n",
    "    sorted_all = []\n",
    "    while len(lst) != 0:\n",
    "        comp = []\n",
    "        for i in range(len(lst)):\n",
    "            try:\n",
    "                comp.append((lst[i][0],i))\n",
    "            except:\n",
    "                pass\n",
    "        \n",
    "        if comp == []:\n",
    "            break\n",
    "        small = qsort(comp)[0]\n",
    "        \n",
    "        lst[small[1]].remove(small[0])\n",
    "        sorted_all.append(small[0])\n",
    "    return sorted_all\n",
    "        \n",
    "sorted_all = merge(sorted_partial)\n",
    "#print(sorted_all)\n",
    "\n",
    "        "
   ]
  },
  {
   "cell_type": "markdown",
   "metadata": {},
   "source": [
    "- 10m\n",
    "- well done!"
   ]
  },
  {
   "cell_type": "code",
   "execution_count": null,
   "metadata": {},
   "outputs": [],
   "source": [
    "#Task 3.4\n",
    "def bin_search(sorted_all,word):\n",
    "    return bin_search_wrap(sorted_all,word,0,len(sorted_all)-1)\n",
    "def bin_search_wrap(lst,word,lb,ub):\n",
    "    if lb > ub:\n",
    "        return None\n",
    "    else:\n",
    "        mid = (lb+ub)//2\n",
    "        if lst[mid][0] == word:\n",
    "            return lst[mid]\n",
    "        else:\n",
    "            if lst[mid][0] > word:\n",
    "                return bin_search_wrap(lst,word,lb,mid-1)\n",
    "            else:\n",
    "                return bin_search_wrap(lst,word,mid+1,ub)\n",
    "    "
   ]
  },
  {
   "cell_type": "markdown",
   "metadata": {},
   "source": [
    "- 3m"
   ]
  },
  {
   "cell_type": "code",
   "execution_count": null,
   "metadata": {},
   "outputs": [],
   "source": [
    "#Task 3.5\n",
    "def prefix_search(sorted_all,prefix):\n",
    "    return prefix_search_wrap(sorted_all,prefix,0,len(sorted_all)-1)\n",
    "def prefix_search_wrap(lst,prefix,lb,ub):\n",
    "    if lb > ub:\n",
    "        return None\n",
    "    else:\n",
    "        mid = (lb+ub)//2\n",
    "        if prefix in lst[mid][0]:\n",
    "            ret = []\n",
    "            count = 0\n",
    "            flag = True\n",
    "            ret.append(lst[mid][0])\n",
    "            while True:\n",
    "                check = 0\n",
    "                count+=1\n",
    "                if prefix in lst[mid+count][0]:\n",
    "                    check += 1\n",
    "                    ret.append(lst[mid+count])\n",
    "                if prefix in lst[mid-count][0]:\n",
    "                    check += 1\n",
    "                    ret.append(lst[mid-count])\n",
    "                if check == 0:\n",
    "                    break\n",
    "                \n",
    "            return ret\n",
    "        else:\n",
    "            if lst[mid][0] > prefix:\n",
    "                return prefix_search_wrap(lst,prefix,lb,mid-1)\n",
    "            else:\n",
    "                return prefix_search_wrap(lst,prefix,mid+1,ub)\n",
    "            "
   ]
  },
  {
   "cell_type": "markdown",
   "metadata": {},
   "source": [
    "- line 13, you append only the word, while the rest of the code append a tuple\n",
    "- line 17, line 20: you are assuming that the list you are searching for the prefix will also contain words that do does not have the prefix to exit the while loop, if the list contains all words that have the pre-fix your code will break with index out of range\n",
    "- you cannot use ```in``` to check if a word is a prefix, a prefix must start at the beggining of the word\n",
    "- 2m\n"
   ]
  },
  {
   "cell_type": "code",
   "execution_count": null,
   "metadata": {},
   "outputs": [],
   "source": [
    "sorted_all = [('', 84096),\n",
    " ('aachen', 69705),\n",
    " ('aardvark', 51498),\n",
    " ('aardvarks', 79560),\n",
    " ('aaron', 18213)]\n",
    "#prefix_search(sorted_all, \"aa\") ## this lst will break your code"
   ]
  },
  {
   "cell_type": "code",
   "execution_count": null,
   "metadata": {},
   "outputs": [],
   "source": [
    "sorted_all = [('', 84096),\n",
    " ('aachen', 69705),\n",
    " ('aardvark', 51498),\n",
    " ('aardvarks', 79560),\n",
    " ('aaron', 18213)]\n",
    "prefix_search(sorted_all, \"va\") ## incorrect result"
   ]
  },
  {
   "cell_type": "code",
   "execution_count": null,
   "metadata": {},
   "outputs": [],
   "source": [
    "\n",
    "#print(bin_search(sorted_all,'arson'))\n",
    "print(prefix_search(sorted_all,'z'))"
   ]
  },
  {
   "cell_type": "markdown",
   "metadata": {},
   "source": []
  },
  {
   "cell_type": "code",
   "execution_count": null,
   "metadata": {},
   "outputs": [],
   "source": [
    "#Task 3.6\n",
    "def suffix_search(lst,suffix): ##linear search\n",
    "    ret = []\n",
    "    for i in lst:\n",
    "        if i[0] == suffix or suffix in i[0][1:]:\n",
    "            ret.append(i[0])\n",
    "            \n",
    "    return ret"
   ]
  },
  {
   "cell_type": "code",
   "execution_count": null,
   "metadata": {},
   "outputs": [],
   "source": [
    "print(suffix_search(sorted_all,'rusty'))"
   ]
  },
  {
   "cell_type": "markdown",
   "metadata": {},
   "source": [
    "- 3m"
   ]
  }
 ],
 "metadata": {
  "kernelspec": {
   "display_name": "Python 3",
   "language": "python",
   "name": "python3"
  },
  "language_info": {
   "codemirror_mode": {
    "name": "ipython",
    "version": 3
   },
   "file_extension": ".py",
   "mimetype": "text/x-python",
   "name": "python",
   "nbconvert_exporter": "python",
   "pygments_lexer": "ipython3",
   "version": "3.6.4"
  }
 },
 "nbformat": 4,
 "nbformat_minor": 2
}
