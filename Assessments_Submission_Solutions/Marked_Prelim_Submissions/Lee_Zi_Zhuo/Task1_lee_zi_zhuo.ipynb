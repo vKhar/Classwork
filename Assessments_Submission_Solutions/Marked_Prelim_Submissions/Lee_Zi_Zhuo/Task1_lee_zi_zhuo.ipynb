{
 "cells": [
  {
   "cell_type": "code",
   "execution_count": null,
   "metadata": {},
   "outputs": [],
   "source": [
    "#Task 1.1\n",
    "class Node:\n",
    "    def __init__(self,data):\n",
    "        self.data = data\n",
    "        self.next = None\n",
    "        \n",
    "class LinkedList:\n",
    "    def __init__(self):\n",
    "        self.start = None\n",
    "        \n",
    "    def get_start(self): ##for 1.2\n",
    "        return self.start\n",
    "    def is_empty(self):\n",
    "        if self.start == None:\n",
    "            return True\n",
    "        else:\n",
    "            return False\n",
    "    def insert_front(self,data):\n",
    "        if self.start == None:\n",
    "            self.start = Node(data)\n",
    "        else:\n",
    "            new_node = Node(data)\n",
    "            new_node.next = self.start\n",
    "            self.start = new_node\n",
    "            \n",
    "    def remove_front(self):\n",
    "        if self.start == None:\n",
    "            return None\n",
    "        else:\n",
    "            \n",
    "            temp = self.start\n",
    "            self.start = self.start.next\n",
    "            return temp.data\n",
    "    def __repr__(self):\n",
    "        if self.is_empty():\n",
    "            return []\n",
    "        ret = []\n",
    "        prev = None\n",
    "        cur = self.start\n",
    "        while cur!= None:\n",
    "            prev = cur\n",
    "            cur = cur.next\n",
    "            ret.append(prev)\n",
    "        return ret\n",
    "        "
   ]
  },
  {
   "cell_type": "markdown",
   "metadata": {},
   "source": [
    "- repr() must return a str!\n",
    "- 7m"
   ]
  },
  {
   "cell_type": "code",
   "execution_count": null,
   "metadata": {},
   "outputs": [],
   "source": [
    "#Task 1.2\n",
    "class Stack:\n",
    "    def __init__(self):\n",
    "        self.top = LinkedList()  ## start of linked list will be the top of stack.\n",
    "    def push(self,obj):\n",
    "        self.top.insert_front(obj)\n",
    "    def pop(self):\n",
    "        return self.top.remove_front()\n",
    "    def peek(self):\n",
    "        return self.top.get_start().data\n",
    "    def is_empty(self):\n",
    "        if self.top.get_start() == None:\n",
    "            return True\n",
    "        else:\n",
    "            return False"
   ]
  },
  {
   "cell_type": "markdown",
   "metadata": {},
   "source": [
    "-   4m"
   ]
  },
  {
   "cell_type": "code",
   "execution_count": null,
   "metadata": {},
   "outputs": [],
   "source": [
    "#Task 1.3\n",
    "St = Stack()\n",
    "St.push(5)\n",
    "St.push(6)\n",
    "print(St.pop())\n",
    "print(St.peek())\n",
    "print(St.pop())\n",
    "\n",
    "print(St.pop())"
   ]
  },
  {
   "cell_type": "markdown",
   "metadata": {},
   "source": [
    "-   1m"
   ]
  },
  {
   "cell_type": "code",
   "execution_count": null,
   "metadata": {},
   "outputs": [],
   "source": [
    "#Task 1.4\n",
    "class Queue:\n",
    "    def __init__(self):\n",
    "        self.arr = Stack() ##Stack will be used as the queue with top of stack being end of queue\n",
    "    def enqueue(self,obj):\n",
    "        self.arr.push(obj)\n",
    "    def dequeue(self):\n",
    "        if self.arr.is_empty():\n",
    "            return None\n",
    "        else:\n",
    "            store = []\n",
    "            prev = None\n",
    "            while True:\n",
    "                \n",
    "                point = self.arr.pop() ## pop out until it reaches front of queue\n",
    "                \n",
    "                if point == None:\n",
    "                    \n",
    "                    for n in store[:-1][::-1]:\n",
    "                        self.arr.push(n)\n",
    "                    return prev\n",
    "                else:\n",
    "                    prev = point\n",
    "                    store.append(point)\n",
    "                    \n"
   ]
  },
  {
   "cell_type": "markdown",
   "metadata": {},
   "source": [
    "- line 19 : same as for n in store [-2::-1]\n",
    "- you cannot use a Python list -2m for using slicing and append\n",
    "- 4m"
   ]
  },
  {
   "cell_type": "code",
   "execution_count": null,
   "metadata": {},
   "outputs": [],
   "source": [
    "Q = Queue()\n",
    "Q.enqueue(5)\n",
    "Q.enqueue(6)\n",
    "Q.enqueue(7)\n",
    "print(Q.dequeue())\n",
    "print(Q.dequeue())\n",
    "print(Q.dequeue())"
   ]
  },
  {
   "cell_type": "markdown",
   "metadata": {},
   "source": [
    "-   1m"
   ]
  },
  {
   "cell_type": "code",
   "execution_count": null,
   "metadata": {},
   "outputs": [],
   "source": [
    "class MaxQueue(Queue):\n",
    "    def __init__(self):\n",
    "        super().__init__()\n",
    "        \n",
    "    def peek_max(self):\n",
    "        if self.arr.is_empty():\n",
    "            return None\n",
    "        else:\n",
    "            store = []\n",
    "            prev = None\n",
    "            while True:\n",
    "                \n",
    "                point = self.arr.pop() ## pop out until it reaches front of queue\n",
    "                \n",
    "                if point == None:\n",
    "                    max_val = max(store)\n",
    "                    for n in store[::-1]:\n",
    "                        self.arr.push(n)\n",
    "                    return max_val\n",
    "                else:\n",
    "                    prev = point\n",
    "                    store.append(point)"
   ]
  },
  {
   "cell_type": "code",
   "execution_count": null,
   "metadata": {},
   "outputs": [],
   "source": [
    "Q = MaxQueue()\n",
    "Q.enqueue(5)\n",
    "Q.enqueue(6)\n",
    "Q.enqueue(7)\n",
    "Q.peek_max()"
   ]
  },
  {
   "cell_type": "markdown",
   "metadata": {},
   "source": [
    "- 10m"
   ]
  }
 ],
 "metadata": {
  "kernelspec": {
   "display_name": "Python 3",
   "language": "python",
   "name": "python3"
  },
  "language_info": {
   "codemirror_mode": {
    "name": "ipython",
    "version": 3
   },
   "file_extension": ".py",
   "mimetype": "text/x-python",
   "name": "python",
   "nbconvert_exporter": "python",
   "pygments_lexer": "ipython3",
   "version": "3.6.4"
  }
 },
 "nbformat": 4,
 "nbformat_minor": 2
}
