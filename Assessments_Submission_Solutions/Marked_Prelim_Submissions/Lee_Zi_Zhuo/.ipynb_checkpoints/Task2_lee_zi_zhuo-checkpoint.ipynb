{
 "cells": [
  {
   "cell_type": "code",
   "execution_count": 6,
   "metadata": {},
   "outputs": [
    {
     "name": "stdout",
     "output_type": "stream",
     "text": [
      "['75009', '16009']\n"
     ]
    }
   ],
   "source": [
    "#Task 2.1\n",
    "with open(\"ARRIVALS.txt\") as f:\n",
    "    file = f.readlines()\n",
    "    data = []\n",
    "    for s in file:\n",
    "        data.append(s.strip())\n",
    "\n",
    "data = data[1:] ##remove header\n",
    "bus_stop_code = []\n",
    "interchange = []\n",
    "for d in data:\n",
    "    d = d.split(\",\")\n",
    "    \n",
    "    if d[2] not in bus_stop_code:\n",
    "        bus_stop_code.append(d[2])\n",
    "    else:\n",
    "        interchange.append(d[2])\n",
    "\n",
    "print(interchange) ##interchange code\n",
    "        \n"
   ]
  },
  {
   "cell_type": "code",
   "execution_count": 25,
   "metadata": {},
   "outputs": [
    {
     "name": "stdout",
     "output_type": "stream",
     "text": [
      "Direction Start End Total\n",
      "1 0500 0627 1H,27M\n",
      "2 0600 0730 1H,30M\n"
     ]
    }
   ],
   "source": [
    "#Task 2.2\n",
    "from datetime import datetime\n",
    "\n",
    "#print(data)\n",
    "d1 = []\n",
    "d2 = []\n",
    "for d in data:\n",
    "    d = d.split(\",\")\n",
    "    if d[1] == \"1\":\n",
    "        d1.append(d)\n",
    "    else:\n",
    "        d2.append(d)\n",
    "        \n",
    "d1 = sorted(d1,key=lambda x:x[4])\n",
    "d2 = sorted(d2,key = lambda x:x[4])\n",
    "diff1 = datetime.strptime(d1[-1][4],\"%H%M\") - datetime.strptime(d1[0][4],\"%H%M\")\n",
    "diff2 =  datetime.strptime(d2[-1][4],\"%H%M\") - datetime.strptime(d2[0][4],\"%H%M\")\n",
    "print(\"Direction Start End Total\")\n",
    "print(f\"1 {d1[0][4]} {d1[-1][4]} {(diff1.seconds // 60) // 60}H,{(diff1.seconds // 60) - (diff1.seconds // 60) // 60 * 60}M\") ##formatting\n",
    "print(f\"2 {d2[0][4]} {d2[-1][4]} {(diff2.seconds // 60) // 60}H,{(diff2.seconds // 60) - (diff2.seconds // 60) // 60 * 60}M\")"
   ]
  },
  {
   "cell_type": "code",
   "execution_count": 42,
   "metadata": {},
   "outputs": [
    {
     "name": "stdout",
     "output_type": "stream",
     "text": [
      "Direction 1\n",
      "76069 to 96289 4m\n",
      "80219 to 80169 3m\n",
      "02119 to 03019 3m\n",
      "03217 to 05649 3m\n",
      "Direction 2\n",
      "14089 to 14069 3m\n",
      "80161 to 80211 4m\n",
      "96281 to 76061 4m\n"
     ]
    }
   ],
   "source": [
    "\n",
    "d1_diff = []\n",
    "for i in range(len(d1)-1):\n",
    "    \n",
    "    if (datetime.strptime(d1[i+1][4],\"%H%M\") - datetime.strptime(d1[i][4],\"%H%M\")).seconds > 120:\n",
    "        d1_diff.append((d1[i],d1[i+1],(datetime.strptime(d1[i+1][4],\"%H%M\") - datetime.strptime(d1[i][4],\"%H%M\")).seconds // 60))\n",
    "    \n",
    "d2_diff = []\n",
    "for i in range(len(d2)-1):\n",
    "    \n",
    "    if (datetime.strptime(d2[i+1][4],\"%H%M\") - datetime.strptime(d2[i][4],\"%H%M\")).seconds > 120:\n",
    "        d2_diff.append((d2[i],d2[i+1],(datetime.strptime(d2[i+1][4],\"%H%M\") - datetime.strptime(d2[i][4],\"%H%M\")).seconds // 60))\n",
    "        \n",
    "print(\"Direction 1\")\n",
    "for i in d1_diff:\n",
    "    print(f\"{i[0][2]} to {i[1][2]} {i[2]}m\")\n",
    "print(\"Direction 2\")\n",
    "for i in d2_diff:\n",
    "    print(f\"{i[0][2]} to {i[1][2]} {i[2]}m\")\n",
    "    "
   ]
  },
  {
   "cell_type": "code",
   "execution_count": 54,
   "metadata": {},
   "outputs": [
    {
     "name": "stdout",
     "output_type": "stream",
     "text": [
      "Direction 1\n",
      "longest distance:1.4\n",
      "Direction 2\n",
      "longest distance:1.6\n"
     ]
    }
   ],
   "source": [
    "#Task 2.4\n",
    "longest1 = 0\n",
    "longest2 = 0\n",
    "d1 = sorted(d1,key=lambda x:x[4])\n",
    "d2 = sorted(d2,key = lambda x:x[4])\n",
    "\n",
    "for i in range(len(d1)-1):\n",
    "    \n",
    "    if float(d1[i+1][3]) - float(d1[i][3]) > longest1:\n",
    "        longest1 = float(d1[i+1][3]) - float(d1[i][3])\n",
    "        \n",
    "for i in range(len(d2)-1):\n",
    "    if float(d2[i+1][3]) - float(d2[i][3]) > longest1:\n",
    "        longest2 = float(d2[i+1][3]) - float(d2[i][3])\n",
    "        \n",
    "print(\"Direction 1\")\n",
    "print(f\"longest distance:{round(longest1,2)}\")\n",
    "print(\"Direction 2\")\n",
    "print(f\"longest distance:{round(longest2,2)}\")\n"
   ]
  },
  {
   "cell_type": "code",
   "execution_count": 62,
   "metadata": {},
   "outputs": [
    {
     "name": "stdout",
     "output_type": "stream",
     "text": [
      "[['1', '2', '16009', '0.0', '0600'], ['2', '2', '16089', '0.4', '0602'], ['3', '2', '16079', '0.7', '0603'], ['4', '2', '16069', '1.0', '0605'], ['7', '2', '16039', '1.7', '0606'], ['6', '2', '16049', '1.5', '0606'], ['5', '2', '16059', '1.3', '0606'], ['8', '2', '16029', '2.0', '0607'], ['9', '2', '16019', '2.5', '0608'], ['10', '2', '16209', '2.7', '0609'], ['12', '2', '15219', '3.2', '0610'], ['11', '2', '15229', '3.0', '0610'], ['13', '2', '15209', '3.6', '0612'], ['14', '2', '15199', '3.9', '0613'], ['15', '2', '15169', '4.4', '0614'], ['17', '2', '15149', '4.9', '0615'], ['16', '2', '15159', '4.6', '0615'], ['18', '2', '14189', '5.3', '0616'], ['19', '2', '14179', '5.6', '0617'], ['20', '2', '14169', '6.0', '0618'], ['21', '2', '14159', '6.5', '0619'], ['22', '2', '14139', '6.9', '0620'], ['23', '2', '14129', '7.4', '0621'], ['24', '2', '14119', '7.7', '0622'], ['25', '2', '14109', '8.4', '0623'], ['26', '2', '14089', '8.8', '0624'], ['27', '2', '14069', '9.6', '0627'], ['28', '2', '05641', '10.2', '0628'], ['29', '2', '03222', '10.6', '0629'], ['30', '2', '03111', '11.3', '0631'], ['31', '2', '03071', '11.6', '0632'], ['32', '2', '03031', '11.9', '0633'], ['33', '2', '03011', '12.5', '0634'], ['34', '2', '02111', '13.1', '0636'], ['35', '2', '80151', '13.8', '0638'], ['36', '2', '80161', '14.5', '0639'], ['37', '2', '80211', '16.1', '0643'], ['38', '2', '80149', '16.7', '0644'], ['39', '2', '81171', '17.3', '0646'], ['40', '2', '81181', '17.8', '0647'], ['41', '2', '81191', '18.2', '0648'], ['42', '2', '82079', '18.7', '0649'], ['43', '2', '92169', '19.2', '0651'], ['44', '2', '92091', '19.7', '0652'], ['45', '2', '92101', '20.0', '0653'], ['46', '2', '92111', '20.2', '0654'], ['47', '2', '92121', '20.7', '0655'], ['48', '2', '92131', '21.2', '0657'], ['49', '2', '92141', '21.6', '0658'], ['50', '2', '92151', '21.8', '0659'], ['51', '2', '93051', '22.1', '0700'], ['52', '2', '93061', '22.5', '0701'], ['53', '2', '93071', '22.9', '0702'], ['54', '2', '93081', '23.3', '0704'], ['55', '2', '93091', '23.6', '0705'], ['56', '2', '94011', '24.0', '0706'], ['57', '2', '94021', '24.4', '0707'], ['58', '2', '94031', '24.7', '0708'], ['59', '2', '94041', '25.1', '0709'], ['60', '2', '94051', '25.5', '0710'], ['61', '2', '94061', '26.0', '0712'], ['62', '2', '94071', '26.5', '0713'], ['63', '2', '85021', '26.9', '0714'], ['64', '2', '85031', '27.3', '0715'], ['65', '2', '85041', '27.5', '0716'], ['66', '2', '85051', '27.9', '0717'], ['67', '2', '85061', '28.2', '0718'], ['68', '2', '85081', '28.4', '0719'], ['69', '2', '85071', '28.7', '0720'], ['70', '2', '96101', '29.1', '0721'], ['71', '2', '96281', '29.5', '0722'], ['72', '2', '76061', '30.8', '0726'], ['73', '2', '76051', '31.3', '0728'], ['74', '2', '75009', '31.8', '0730']]\n"
     ]
    },
    {
     "ename": "TypeError",
     "evalue": "unsupported operand type(s) for -: 'float' and 'str'",
     "output_type": "error",
     "traceback": [
      "\u001b[1;31m---------------------------------------------------------------------------\u001b[0m",
      "\u001b[1;31mTypeError\u001b[0m                                 Traceback (most recent call last)",
      "\u001b[1;32m<ipython-input-62-4e029c9a6329>\u001b[0m in \u001b[0;36m<module>\u001b[1;34m()\u001b[0m\n\u001b[0;32m      4\u001b[0m \u001b[0mprint\u001b[0m\u001b[1;33m(\u001b[0m\u001b[0md2\u001b[0m\u001b[1;33m)\u001b[0m\u001b[1;33m\u001b[0m\u001b[0m\n\u001b[0;32m      5\u001b[0m \u001b[1;32mfor\u001b[0m \u001b[0mi\u001b[0m \u001b[1;32min\u001b[0m \u001b[0md1\u001b[0m\u001b[1;33m:\u001b[0m\u001b[1;33m\u001b[0m\u001b[0m\n\u001b[1;32m----> 6\u001b[1;33m     \u001b[0mdiff1\u001b[0m \u001b[1;33m=\u001b[0m \u001b[0mA_B\u001b[0m \u001b[1;33m-\u001b[0m \u001b[0mi\u001b[0m\u001b[1;33m[\u001b[0m\u001b[1;36m3\u001b[0m\u001b[1;33m]\u001b[0m\u001b[1;33m\u001b[0m\u001b[0m\n\u001b[0m\u001b[0;32m      7\u001b[0m     \u001b[0mdiff2\u001b[0m \u001b[1;33m=\u001b[0m \u001b[1;32mNone\u001b[0m\u001b[1;33m\u001b[0m\u001b[0m\n",
      "\u001b[1;31mTypeError\u001b[0m: unsupported operand type(s) for -: 'float' and 'str'"
     ]
    }
   ],
   "source": [
    "#Task 2.5\n",
    "\n",
    "A_B = float(d1[-1][3]) - float(d1[0][3])\n",
    "closest = float(\"inf\")\n",
    "for i in range(len(d1)):\n",
    "    \n",
    "    diff1 = A_B - d1[i][3]\n",
    "    diff2 = A_B - d2[i][3]\n",
    "    total = diff1 + diff2"
   ]
  },
  {
   "cell_type": "code",
   "execution_count": null,
   "metadata": {},
   "outputs": [],
   "source": []
  }
 ],
 "metadata": {
  "kernelspec": {
   "display_name": "Python 3",
   "language": "python",
   "name": "python3"
  },
  "language_info": {
   "codemirror_mode": {
    "name": "ipython",
    "version": 3
   },
   "file_extension": ".py",
   "mimetype": "text/x-python",
   "name": "python",
   "nbconvert_exporter": "python",
   "pygments_lexer": "ipython3",
   "version": "3.6.4"
  }
 },
 "nbformat": 4,
 "nbformat_minor": 2
}
