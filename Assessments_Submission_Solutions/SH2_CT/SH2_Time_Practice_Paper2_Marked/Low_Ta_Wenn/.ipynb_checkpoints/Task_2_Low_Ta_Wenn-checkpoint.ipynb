{
 "cells": [
  {
   "cell_type": "code",
   "execution_count": 18,
   "metadata": {},
   "outputs": [],
   "source": [
    "# task 2.1\n",
    "\n",
    "class HashTable:\n",
    "    def __init__(self, size):\n",
    "        self.size = size\n",
    "        self.arr = [None for i in range(size)]\n",
    "        \n",
    "    def hasher(self, key):\n",
    "        sum = 0\n",
    "        for i in range(0, len(key)-1):\n",
    "            sum += ord(key[i])*(i+1)\n",
    "        return sum%self.size\n",
    "    \n",
    "    def insert(self, key, value):\n",
    "        index = self.hasher(key)\n",
    "        if self.arr[index] == None:\n",
    "            self.arr[index] = (key, value)\n",
    "            return True\n",
    "        else:\n",
    "            cur = (index + 1)%self.size\n",
    "            while cur != index:\n",
    "                if self.arr[cur] == None:\n",
    "                    self.arr[cur] = (key, value)\n",
    "                    return True\n",
    "                else:\n",
    "                    cur = (cur + 1)%self.size\n",
    "            return False\n",
    "    \n",
    "    def find(self, key):\n",
    "        index = self.hasher(key)\n",
    "        if self.arr[index] == None:\n",
    "            return None\n",
    "        else:\n",
    "            if self.arr[index][0] == key:\n",
    "                return self.arr[index]\n",
    "            else:\n",
    "                cur = (index + 1)%self.size\n",
    "                while cur != index:\n",
    "                    if self.arr[cur][0] == key:\n",
    "                        return self.arr[cur]\n",
    "                    else:\n",
    "                        cur = (cur + 1)%self.size\n",
    "                return False\n",
    "    def __repr__(self):\n",
    "        ret = []\n",
    "        for i in range(self.size):\n",
    "            ret.append(f\"{i}:{self.arr[i]}\")\n",
    "        return str(ret)\n",
    "    \n",
    "    "
   ]
  },
  {
   "cell_type": "code",
   "execution_count": 19,
   "metadata": {},
   "outputs": [
    {
     "name": "stdout",
     "output_type": "stream",
     "text": [
      "[\"0:('ai.net', 'sky net')\", \"1:('www.co', 'web')\", \"2:('sch.org', 'school')\"]\n",
      "('www.co', 'web')\n",
      "('ai.net', 'sky net')\n"
     ]
    }
   ],
   "source": [
    "# task 2.2\n",
    "\n",
    "hash_table = HashTable(3)\n",
    "hash_table.insert(\"www.co\", \"web\")\n",
    "hash_table.insert(\"sch.org\", \"school\")\n",
    "hash_table.insert(\"ai.net\", \"sky net\")\n",
    "print(hash_table)\n",
    "print(hash_table.find(\"www.co\"))\n",
    "print(hash_table.find(\"ai.net\"))"
   ]
  },
  {
   "cell_type": "code",
   "execution_count": 47,
   "metadata": {},
   "outputs": [
    {
     "name": "stdout",
     "output_type": "stream",
     "text": [
      "[\"0:[('ai.net', 'sky net'), None]\", \"1:[('www.co', 'web'), [('sch.org', 'school'), [('ai.net', 'sky net'), None]]]\", \"2:[('sch.org', 'school'), [('ai.net', 'sky net'), None]]\"]\n",
      "('www.co', 'web')\n",
      "('ai.net', 'sky net')\n",
      "['www.co', 'sch.org', 'ai.net']\n"
     ]
    }
   ],
   "source": [
    "# task 2.3\n",
    "class OrderedHashTable(HashTable):\n",
    "    def __init__(self, size):\n",
    "        super().__init__(size)\n",
    "        self.head = -1\n",
    "        \n",
    "    def insert(self, key, value):\n",
    "        index = self.hasher(key)\n",
    "        if self.arr[index] == None:\n",
    "            if self.head == -1:\n",
    "                self.head = index\n",
    "                self.arr[index] = [(key, value), None]\n",
    "            else:\n",
    "                self.arr[index] = [(key, value), None]\n",
    "                prev = self.arr[self.head]\n",
    "                cur = self.arr[self.head][1]\n",
    "                while cur != None:\n",
    "                    prev = cur\n",
    "                    cur = cur[1]\n",
    "                prev[1] = self.arr[index]\n",
    "            return True\n",
    "        else:\n",
    "            cur = (index + 1)%self.size\n",
    "            while cur != index:\n",
    "                if self.arr[cur] == None:\n",
    "                    self.arr[cur] = [(key, value), None]\n",
    "                    prev = self.arr[self.head]\n",
    "                    n_cur = self.arr[self.head][1]\n",
    "                    while n_cur != None:\n",
    "                        prev = n_cur\n",
    "                        n_cur = n_cur[1]\n",
    "                    prev[1] = self.arr[cur]\n",
    "                    return True\n",
    "                else:\n",
    "                    cur = (cur + 1)%self.size\n",
    "            return False\n",
    "    \n",
    "    def find(self, key):\n",
    "        index = self.hasher(key)\n",
    "        if self.arr[index] == None:\n",
    "            return None\n",
    "        else:\n",
    "            if self.arr[index][0][0] == key:\n",
    "                return self.arr[index][0]\n",
    "            else:\n",
    "                cur = (index + 1)%self.size\n",
    "                while cur != index:\n",
    "                    if self.arr[cur][0][0] == key:\n",
    "                        return self.arr[cur][0]\n",
    "                    else:\n",
    "                        cur = (cur + 1)%self.size\n",
    "                return False\n",
    "    \n",
    "    def keys(self):\n",
    "        ret = []\n",
    "        prev = self.arr[self.head]\n",
    "        cur = self.arr[self.head][1]\n",
    "        while cur != None:\n",
    "            ret.append(prev[0][0])\n",
    "            prev = cur\n",
    "            cur = cur[1]\n",
    "        ret.append(prev[0][0])\n",
    "        return ret\n",
    "        \n",
    "hash_table = OrderedHashTable(3)\n",
    "hash_table.insert(\"www.co\", \"web\")\n",
    "hash_table.insert(\"sch.org\", \"school\")\n",
    "hash_table.insert(\"ai.net\", \"sky net\")\n",
    "print(hash_table)\n",
    "print(hash_table.find(\"www.co\"))\n",
    "print(hash_table.find(\"ai.net\"))\n",
    "print(hash_table.keys())"
   ]
  },
  {
   "cell_type": "code",
   "execution_count": 48,
   "metadata": {},
   "outputs": [
    {
     "name": "stdout",
     "output_type": "stream",
     "text": [
      "['www.hi.cc', 'ppp.me', 'njc.sch']\n"
     ]
    }
   ],
   "source": [
    "# task 2.4\n",
    "hash_table = OrderedHashTable(3)\n",
    "hash_table.insert(\"www.hi.cc\", \"Hello World\")\n",
    "hash_table.insert(\"ppp.me\", \"test site\")\n",
    "hash_table.insert(\"njc.sch\", \"school\")\n",
    "print(hash_table.keys())"
   ]
  },
  {
   "cell_type": "code",
   "execution_count": 59,
   "metadata": {},
   "outputs": [
    {
     "name": "stdout",
     "output_type": "stream",
     "text": [
      "['0:[(\\'cmn.com\\', \\'<html>CMN the only real news </html>\\'), [(\\'njc.sch.sg\\', \\'Service with Honour\\'), [(\\'chit.chat.org\\', \\'<b>Talking AI &lt; <b>\\'), [(\\'farm.net\\', \\'\"apple,oranges,pears\"\\'), [(\\'tt.t\\', \\'test\\'), None]]]]]', '1:[(\\'chit.chat.org\\', \\'<b>Talking AI &lt; <b>\\'), [(\\'farm.net\\', \\'\"apple,oranges,pears\"\\'), [(\\'tt.t\\', \\'test\\'), None]]]', '2:[(\\'farm.net\\', \\'\"apple,oranges,pears\"\\'), [(\\'tt.t\\', \\'test\\'), None]]', \"3:[('tt.t', 'test'), None]\", '4:None', '5:[(\\'njc.sch.sg\\', \\'Service with Honour\\'), [(\\'chit.chat.org\\', \\'<b>Talking AI &lt; <b>\\'), [(\\'farm.net\\', \\'\"apple,oranges,pears\"\\'), [(\\'tt.t\\', \\'test\\'), None]]]]']\n"
     ]
    },
    {
     "data": {
      "text/plain": [
       "('farm.net', '\"apple,oranges,pears\"')"
      ]
     },
     "execution_count": 59,
     "metadata": {},
     "output_type": "execute_result"
    }
   ],
   "source": [
    "# task 2.5\n",
    "\n",
    "def load_cache(ht):\n",
    "    lines = []\n",
    "    with open(\"CACHE.TXT\") as f:\n",
    "        for line in f:\n",
    "            lines.append(line.strip())\n",
    "    for i in range(len(lines)):\n",
    "        key = lines[i][:lines[i].index(\",\")]\n",
    "        value = lines[i][lines[i].index(\",\")+1:]\n",
    "        ht.insert(key, value)\n",
    "\n",
    "ht = OrderedHashTable(6)\n",
    "load_cache(ht)\n",
    "print(ht)\n",
    "\n",
    "def browse(url, cache):\n",
    "    search = cache.find(url)\n",
    "    if search != False:\n",
    "        return search\n",
    "    else:\n",
    "        lines = []\n",
    "        with open(\"INTERNET.TXT\") as f:\n",
    "            for line in f:\n",
    "                lines.append(line.strip().split(\",\"))\n",
    "        for line in lines:\n",
    "            if line[0] == url:\n",
    "                return line\n",
    "        return \"404 NOT FOUND\"\n",
    "\n",
    "browse(\"farm.net\", ht)\n",
    "\n",
    "def history(cache):\n",
    "    \n",
    "def clear_cache(cache):\n",
    "    \n"
   ]
  }
 ],
 "metadata": {
  "kernelspec": {
   "display_name": "Python 3",
   "language": "python",
   "name": "python3"
  },
  "language_info": {
   "codemirror_mode": {
    "name": "ipython",
    "version": 3
   },
   "file_extension": ".py",
   "mimetype": "text/x-python",
   "name": "python",
   "nbconvert_exporter": "python",
   "pygments_lexer": "ipython3",
   "version": "3.6.4"
  }
 },
 "nbformat": 4,
 "nbformat_minor": 2
}
