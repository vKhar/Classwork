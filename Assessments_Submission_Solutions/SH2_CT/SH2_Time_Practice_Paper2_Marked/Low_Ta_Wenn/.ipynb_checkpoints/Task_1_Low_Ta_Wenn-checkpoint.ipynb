{
 "cells": [
  {
   "cell_type": "code",
   "execution_count": 34,
   "metadata": {},
   "outputs": [],
   "source": [
    "#task 1.1\n",
    "def hex2str(num):\n",
    "    hex_index = {\"41\":\"A\", \"42\":\"B\", \"43\":\"C\", \"2c\":\",\", \"31\":\"1\", \"35\":\"5\", \"0a\":\"\\n\"}\n",
    "    dec_index = {\"65\":\"A\", \"66\":\"B\", \"67\":\"C\", \"44\":\",\", \"49\":\"1\", \"53\":\"5\", \"10\":\"\\n\"}\n",
    "    ret = \"\"\n",
    "    while len(num) > 0:\n",
    "        conv = num[:2]\n",
    "        if conv in hex_index:\n",
    "            ret += hex_index[conv]\n",
    "        elif int(conv,16) in dec_index:\n",
    "            ret += dec_index[int(conv, 16)]\n",
    "        num = num[2:]\n",
    "    return ret\n"
   ]
  },
  {
   "cell_type": "code",
   "execution_count": 39,
   "metadata": {},
   "outputs": [
    {
     "name": "stdout",
     "output_type": "stream",
     "text": [
      "1,A\n",
      ",AC\n",
      ",\n",
      ",B\n",
      "5,B\n",
      ",B\n",
      ",CA\n",
      ",A\n",
      ",\n",
      "1,\n",
      "11,A\n",
      "1,\n",
      "1,\n",
      "1,A\n",
      "15,\n",
      "1,C\n",
      "1,A\n",
      "1,CA\n",
      "1,A\n",
      ",CA\n",
      "1,A\n",
      ",C\n",
      ",C\n",
      ",\n",
      "5,\n",
      ",\n",
      ",\n",
      ",\n",
      ",AA\n",
      ",AC\n",
      "1,A\n",
      ",A\n",
      ",\n",
      ",ACA\n",
      "5,CA\n",
      ",CA\n",
      ",CA\n",
      "\n"
     ]
    }
   ],
   "source": [
    "# task 1.2\n",
    "\n",
    "items_lines = []\n",
    "with open(\"ITEMS.TXT\") as f:\n",
    "    for line in f:\n",
    "        items_lines.append(line.strip().split())\n",
    "\n",
    "decoded_items = hex2str(items_lines[0][0])\n",
    "decoded_items.split(\",\")\n",
    "print(decoded_items)"
   ]
  },
  {
   "cell_type": "code",
   "execution_count": null,
   "metadata": {},
   "outputs": [],
   "source": []
  }
 ],
 "metadata": {
  "kernelspec": {
   "display_name": "Python 3",
   "language": "python",
   "name": "python3"
  },
  "language_info": {
   "codemirror_mode": {
    "name": "ipython",
    "version": 3
   },
   "file_extension": ".py",
   "mimetype": "text/x-python",
   "name": "python",
   "nbconvert_exporter": "python",
   "pygments_lexer": "ipython3",
   "version": "3.6.4"
  }
 },
 "nbformat": 4,
 "nbformat_minor": 2
}
