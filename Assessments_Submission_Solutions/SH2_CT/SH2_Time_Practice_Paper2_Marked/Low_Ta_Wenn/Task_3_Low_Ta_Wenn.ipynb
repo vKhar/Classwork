{
 "cells": [
  {
   "cell_type": "code",
   "execution_count": null,
   "metadata": {},
   "outputs": [],
   "source": [
    "# task 3.1\n",
    "\n",
    "def inplace_merge(A, start, mid, end):\n",
    "    left = start\n",
    "    right = mid \n",
    "    while left < right and right < end:\n",
    "        if A[left] <= A[right]:\n",
    "            left = left + 1\n",
    "        else:\n",
    "            index = right\n",
    "            tmp = A[right]\n",
    "            while index > left:\n",
    "                A[index] = A[index-1]\n",
    "                index = index - 1\n",
    "            A[left] = tmp\n",
    "            right += 1\n",
    "    return A\n"
   ]
  },
  {
   "attachments": {},
   "cell_type": "markdown",
   "metadata": {},
   "source": [
    "line 5 : Do you understand what the code does ?\n",
    "- [0]"
   ]
  },
  {
   "cell_type": "code",
   "execution_count": null,
   "metadata": {},
   "outputs": [],
   "source": [
    "# valid\n",
    "A = [1,3,5,7,2,4,6,]\n",
    "inplace_merge(A,0,3,6)\n",
    "A"
   ]
  },
  {
   "cell_type": "code",
   "execution_count": null,
   "metadata": {},
   "outputs": [],
   "source": [
    "# task 3.2\n",
    "print(inplace_merge([2,4,6,1,3,5], 0, 3, 6)) # valid case\n",
    "print(inplace_merge([], 0, 0, 0)) # boundary case\n",
    "print(inplace_merge(\"o\", \"a\", 0, 0)) # invalid case"
   ]
  },
  {
   "attachments": {},
   "cell_type": "markdown",
   "metadata": {},
   "source": [
    "- line 3 is a invalid case\n",
    "- [0]"
   ]
  },
  {
   "cell_type": "code",
   "execution_count": null,
   "metadata": {},
   "outputs": [],
   "source": [
    "# task 3.3\n",
    "def merge_sort_helper(A, start, end):\n",
    "    if start >= end:\n",
    "        return A\n",
    "    else:\n",
    "        print(A)\n",
    "        merge_sort_helper(inplace_merge(A, start, end//2, end), start+1, end)\n",
    "        \n",
    "def merge_sort(A, start, end):\n",
    "    start = 0\n",
    "    end = len(A)-1\n",
    "    merge_sort_helper(A, start, end)\n"
   ]
  },
  {
   "attachments": {},
   "cell_type": "markdown",
   "metadata": {},
   "source": [
    "[0]"
   ]
  },
  {
   "cell_type": "code",
   "execution_count": null,
   "metadata": {},
   "outputs": [],
   "source": [
    "# task 3.4\n",
    "\n",
    "merge_sort([5,4,6,8,2,1], 0, 6)\n",
    "merge_sort([], 0, 0)\n",
    "merge_sort([4,3], \"string\", \"q\")"
   ]
  },
  {
   "attachments": {},
   "cell_type": "markdown",
   "metadata": {},
   "source": [
    "- merge_sort only has 1 argument !\n",
    "- [0]\n",
    "\n",
    "Total 0/11"
   ]
  }
 ],
 "metadata": {
  "kernelspec": {
   "display_name": "Python 3",
   "language": "python",
   "name": "python3"
  },
  "language_info": {
   "codemirror_mode": {
    "name": "ipython",
    "version": 3
   },
   "file_extension": ".py",
   "mimetype": "text/x-python",
   "name": "python",
   "nbconvert_exporter": "python",
   "pygments_lexer": "ipython3",
   "version": "3.6.4"
  }
 },
 "nbformat": 4,
 "nbformat_minor": 2
}
