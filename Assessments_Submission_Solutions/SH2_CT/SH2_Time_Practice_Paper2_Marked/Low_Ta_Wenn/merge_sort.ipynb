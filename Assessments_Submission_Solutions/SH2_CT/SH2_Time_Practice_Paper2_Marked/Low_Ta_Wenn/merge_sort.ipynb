{
 "cells": [
  {
   "cell_type": "code",
   "execution_count": 1,
   "metadata": {},
   "outputs": [],
   "source": [
    "def merge(A:list,B:list):\n",
    "    ret = []\n",
    "\n",
    "    while A and B:\n",
    "        if A[0] < B[0]:\n",
    "            ret.append( A.pop(0))\n",
    "        else:\n",
    "            ret.append(B.pop(0))\n",
    "    return ret + A + B\n",
    "\n",
    "def merge_sort(L):\n",
    "    if len(L) < 2:\n",
    "        return L\n",
    "    mid = len(L)//2\n",
    "    tmp1 = merge_sort( L[:mid])\n",
    "    tmp2 = merge_sort(L[mid:])\n",
    "    return merge(tmp1, tmp2)\n",
    "\n"
   ]
  },
  {
   "cell_type": "code",
   "execution_count": 3,
   "metadata": {},
   "outputs": [
    {
     "name": "stdout",
     "output_type": "stream",
     "text": [
      "[7, 37, 72, 15, 53]\n",
      "[7, 15, 37, 53, 72]\n"
     ]
    }
   ],
   "source": [
    "import random\n",
    "L = [random.randint(1,99) for _ in range(5)]\n",
    "print(L)\n",
    "print( merge_sort(L))"
   ]
  }
 ],
 "metadata": {
  "kernelspec": {
   "display_name": "Python 3",
   "language": "python",
   "name": "python3"
  },
  "language_info": {
   "codemirror_mode": {
    "name": "ipython",
    "version": 3
   },
   "file_extension": ".py",
   "mimetype": "text/x-python",
   "name": "python",
   "nbconvert_exporter": "python",
   "pygments_lexer": "ipython3",
   "version": "3.6.4"
  },
  "orig_nbformat": 4
 },
 "nbformat": 4,
 "nbformat_minor": 2
}
