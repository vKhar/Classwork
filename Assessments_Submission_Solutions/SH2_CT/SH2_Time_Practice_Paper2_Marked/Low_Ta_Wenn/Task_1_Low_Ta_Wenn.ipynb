{
 "cells": [
  {
   "cell_type": "code",
   "execution_count": null,
   "metadata": {},
   "outputs": [],
   "source": [
    "#task 1.1\n",
    "def hex2str(num):\n",
    "    hex_index = {\"41\":\"A\", \"42\":\"B\", \"43\":\"C\", \"2c\":\",\", \"31\":\"1\", \"35\":\"5\", \"0a\":\"\\n\"}\n",
    "    dec_index = {\"65\":\"A\", \"66\":\"B\", \"67\":\"C\", \"44\":\",\", \"49\":\"1\", \"53\":\"5\", \"10\":\"\\n\"}\n",
    "    ret = \"\"\n",
    "    while len(num) > 0:\n",
    "        conv = num[:2]\n",
    "        if conv in hex_index:\n",
    "            ret += hex_index[conv]\n",
    "        elif int(conv,16) in dec_index:\n",
    "            ret += dec_index[int(conv, 16)]\n",
    "        num = num[2:]\n",
    "    return ret\n"
   ]
  },
  {
   "attachments": {},
   "cell_type": "markdown",
   "metadata": {},
   "source": [
    "- You do not understand what you are suppose to do !!!\n",
    "- [0m]"
   ]
  },
  {
   "cell_type": "code",
   "execution_count": null,
   "metadata": {},
   "outputs": [],
   "source": [
    "# task 1.2\n",
    "\n",
    "items_lines = []\n",
    "with open(\"ITEMS.TXT\") as f:\n",
    "    for line in f:\n",
    "        items_lines.append(line.strip().split())\n",
    "\n",
    "decoded_items = hex2str(items_lines[0][0])\n",
    "decoded_items.split(\",\")\n",
    "print(decoded_items)"
   ]
  },
  {
   "attachments": {},
   "cell_type": "markdown",
   "metadata": {},
   "source": [
    "-   [0m]"
   ]
  },
  {
   "cell_type": "markdown",
   "metadata": {},
   "source": [
    "Total\n",
    "\n",
    "0/26"
   ]
  }
 ],
 "metadata": {
  "kernelspec": {
   "display_name": "Python 3",
   "language": "python",
   "name": "python3"
  },
  "language_info": {
   "codemirror_mode": {
    "name": "ipython",
    "version": 3
   },
   "file_extension": ".py",
   "mimetype": "text/x-python",
   "name": "python",
   "nbconvert_exporter": "python",
   "pygments_lexer": "ipython3",
   "version": "3.6.4"
  }
 },
 "nbformat": 4,
 "nbformat_minor": 2
}
