{
 "cells": [
  {
   "cell_type": "code",
   "execution_count": 2,
   "metadata": {},
   "outputs": [],
   "source": [
    "#Task 3.1\n",
    "\n",
    "def inplace_merge(A, start, mid, end):\n",
    "    left = start\n",
    "    right = mid+1\n",
    "    while left<right and right<=end:\n",
    "        if A[left]<=A[right]:\n",
    "            left = left+1\n",
    "        else:\n",
    "            index = right\n",
    "            tmp = A[right]\n",
    "            while index>left:\n",
    "                A[index] = A[index-1]\n",
    "                index = index-1\n",
    "            A[index]=tmp\n",
    "            right = right+1\n",
    "            left = left +1"
   ]
  },
  {
   "cell_type": "code",
   "execution_count": 10,
   "metadata": {},
   "outputs": [
    {
     "name": "stdout",
     "output_type": "stream",
     "text": [
      "[6, 6, 11, 17, 27, 28, 31, 32, 34, 48, 7, 9, 11, 17, 18, 18, 29, 34, 44, 49]\n",
      "[6, 6, 7, 9, 11, 11, 17, 17, 18, 18, 27, 28, 29, 31, 32, 34, 34, 44, 48, 49]\n",
      "[1, 1, 1, 1, 1, 1, 1, 1, 1, 1, 1, 1, 1, 1, 1, 1, 1, 1, 1, 1]\n",
      "[1, 1, 1, 1, 1, 1, 1, 1, 1, 1, 1, 1, 1, 1, 1, 1, 1, 1, 1, 1]\n",
      "[None, None, None, None, None, None, None, None, None, None, None, None, None, None, None, None, None, None, None, 'a']\n"
     ]
    }
   ],
   "source": [
    "#Task 3.2\n",
    "\n",
    "\n",
    "#Valid Case\n",
    "\n",
    "import random\n",
    "\n",
    "num_list = [random.randint(1, 50) for _ in range(10)]\n",
    "num_list2 = [random.randint(1, 50) for _ in range(10)]\n",
    "num_list.sort()\n",
    "num_list2.sort()\n",
    "test_case = num_list+num_list2\n",
    "print(test_case)\n",
    "inplace_merge(test_case, 0, 9, 19)\n",
    "print(test_case)\n",
    "\n",
    "\n",
    "#Boundary Case\n",
    "\n",
    "test2 = [1 for _ in range(20)]\n",
    "print(test2)\n",
    "inplace_merge(test2, 0, 9, 19)\n",
    "print(test2)\n",
    "\n",
    "\n",
    "\n",
    "#Invalid Case\n",
    "\n",
    "test3 = [None for _ in range(19)]+[\"a\"]\n",
    "print(test3)\n",
    "#inplace_merge(test3, 0, 9, 19) ##will have error\n",
    "#print(test3)"
   ]
  },
  {
   "cell_type": "code",
   "execution_count": 47,
   "metadata": {},
   "outputs": [],
   "source": [
    "#Task 3.3\n",
    "\n",
    "def merge_sort_helper(A, start, end):\n",
    "    if start >= end:\n",
    "        return\n",
    "    if end>0:\n",
    "        if A[end-1]>A[end]:##checks the element at end and the one before if, swaps them if order is wrong\n",
    "            A[end-1], A[end] = A[end], A[end-1] \n",
    "            if end != len(A)-1: ##prevents index error when end is the last index in the array\n",
    "                return merge_sort_helper(A, start, end+1)\n",
    "    return merge_sort_helper(A, start, end-1)\n",
    "\n",
    "def merge_sort(A):\n",
    "    start = 0\n",
    "    end = len(A)-1\n",
    "    return merge_sort_helper(A, start, end)"
   ]
  },
  {
   "cell_type": "code",
   "execution_count": 48,
   "metadata": {},
   "outputs": [
    {
     "name": "stdout",
     "output_type": "stream",
     "text": [
      "[8, 10, 15, 16, 17, 24, 29, 36, 45, 46, 1, 2, 3, 4, 5, 10, 12, 15, 38, 46]\n",
      "[1, 2, 3, 4, 5, 8, 10, 10, 12, 15, 15, 16, 17, 24, 29, 36, 38, 45, 46, 46]\n",
      "[1, 1, 1, 1, 1, 1, 1, 1, 1, 1, 1, 1, 1, 1, 1, 1, 1, 1, 1, 1]\n",
      "[1, 1, 1, 1, 1, 1, 1, 1, 1, 1, 1, 1, 1, 1, 1, 1, 1, 1, 1, 1]\n",
      "[None, None, None, None, None, None, None, None, None, None, None, None, None, None, None, None, None, None, None, 'a']\n"
     ]
    }
   ],
   "source": [
    "#Task 3.4\n",
    "\n",
    "\n",
    "#Valid Case\n",
    "\n",
    "import random\n",
    "\n",
    "num_list = [random.randint(1, 50) for _ in range(10)]\n",
    "num_list2 = [random.randint(1, 50) for _ in range(10)]\n",
    "num_list.sort()\n",
    "num_list2.sort()\n",
    "test_case = num_list+num_list2\n",
    "print(test_case)\n",
    "merge_sort(test_case)\n",
    "print(test_case)\n",
    "\n",
    "\n",
    "#Boundary Case\n",
    "\n",
    "test2 = [1 for _ in range(20)]\n",
    "print(test2)\n",
    "merge_sort(test2)\n",
    "print(test2)\n",
    "\n",
    "\n",
    "\n",
    "#Invalid Case\n",
    "\n",
    "test3 = [None for _ in range(19)]+[\"a\"]\n",
    "print(test3)\n",
    "#merge_sort(test3) ##will have error\n",
    "#print(test3)"
   ]
  },
  {
   "cell_type": "code",
   "execution_count": null,
   "metadata": {},
   "outputs": [],
   "source": []
  }
 ],
 "metadata": {
  "kernelspec": {
   "display_name": "Python 3",
   "language": "python",
   "name": "python3"
  },
  "language_info": {
   "codemirror_mode": {
    "name": "ipython",
    "version": 3
   },
   "file_extension": ".py",
   "mimetype": "text/x-python",
   "name": "python",
   "nbconvert_exporter": "python",
   "pygments_lexer": "ipython3",
   "version": "3.6.4"
  }
 },
 "nbformat": 4,
 "nbformat_minor": 2
}
