{
 "cells": [
  {
   "cell_type": "code",
   "execution_count": 46,
   "metadata": {},
   "outputs": [
    {
     "name": "stdout",
     "output_type": "stream",
     "text": [
      "ABC,1,15\n",
      "\n"
     ]
    }
   ],
   "source": [
    "#Task 1.1\n",
    "\n",
    "def hex2Str(hex_str):\n",
    "    ret = ''\n",
    "    for i in range(len(hex_str)//2):\n",
    "        ret += chr(int(hex_str[:2], 16)) ##converts hexadecimal to decimal then to string for each pair of characters in the string\n",
    "        hex_str = hex_str[2:]\n",
    "    return ret\n",
    "\n",
    "print(hex2Str(\"4142432C312C31350a\"))"
   ]
  },
  {
   "cell_type": "code",
   "execution_count": 47,
   "metadata": {},
   "outputs": [
    {
     "name": "stdout",
     "output_type": "stream",
     "text": [
      "{'1': 'DAGGER', '2': 'MACE', '3': 'SLING', '4': 'BOW', '5': '+2 BOW', '6': '+4 BOW', '7': 'EXOTIC WEAPON', '8': 'AXE', '9': 'SWORD', '10': '2H SWORD', '11': '+2 AXE', '12': '+2 SWORD', '13': 'GLOVES', '14': '+4 AXE', '15': '+4 SWORD', '16': 'CLOTH', '17': 'LEATHER', '18': 'CHAIN', '19': 'PLATE', '20': '+2 CHAIN', '21': '+2 PLATE', '22': 'EXOTIC', '23': 'TORCHES', '24': 'KEYS', '25': 'GEMS', '26': 'POWDER', '27': 'HORSE', '28': 'FOOD', '29': 'MARK OF SNAKE', '30': 'MARK OF FORCE', '31': 'MARK OF FIRE', '32': 'MARK OF KINGS', '33': 'LORD OF TIME', '34': 'DEATH CARD', '35': 'SOL CARD', '36': 'LOVE CARD', '37': 'MOONS CARD'}\n"
     ]
    }
   ],
   "source": [
    "#Task 1.2\n",
    "\n",
    "f = open(\"ITEMS.TXT\")\n",
    "data = hex2Str(f.read()).split(\"\\n\")[:-1] ##the last item is just an empty string from the last \\n so we remove it\n",
    "f.close()\n",
    "item_dic = {}\n",
    "for item in data:\n",
    "    item_data = item.split(\",\")\n",
    "    item_dic[item_data[0]]=item_data[1]\n",
    "\n",
    "print(item_dic)"
   ]
  },
  {
   "cell_type": "code",
   "execution_count": 48,
   "metadata": {},
   "outputs": [
    {
     "name": "stdout",
     "output_type": "stream",
     "text": [
      "[{'name': 'Aragon', 'class': 'Ranger', 'str': '20', 'dex': '25', 'int': '20', 'xp': '76525', 'items': [{'id': '15', 'name': '+4 SWORD'}, {'id': '5', 'name': '+2 BOW'}, {'id': '20', 'name': '+2 CHAIN'}, {'id': '23', 'name': 'TORCHES'}, {'id': '24', 'name': 'KEYS'}, {'id': '28', 'name': 'FOOD'}, {'id': '27', 'name': 'HORSE'}]}, {'name': 'Freya', 'class': 'Fighter', 'str': '30', 'dex': '15', 'int': '15', 'xp': '65270', 'items': [{'id': '10', 'name': '2H SWORD'}, {'id': '21', 'name': '+2 PLATE'}, {'id': '27', 'name': 'HORSE'}, {'id': '30', 'name': 'MARK OF FORCE'}, {'id': '32', 'name': 'MARK OF KINGS'}]}, {'name': 'Loki', 'class': 'Mage', 'str': '15', 'dex': '25', 'int': '25', 'xp': '91435', 'items': [{'id': '7', 'name': 'EXOTIC WEAPON'}, {'id': '22', 'name': 'EXOTIC'}, {'id': '25', 'name': 'GEMS'}, {'id': '26', 'name': 'POWDER'}, {'id': '27', 'name': 'HORSE'}, {'id': '29', 'name': 'MARK OF SNAKE'}, {'id': '33', 'name': 'LORD OF TIME'}, {'id': '34', 'name': 'DEATH CARD'}]}, {'name': 'Bane', 'class': 'Deathknight', 'str': '25', 'dex': '25', 'int': '15', 'xp': '59250', 'items': [{'id': '15', 'name': '+4 SWORD'}, {'id': '21', 'name': '+2 PLATE'}, {'id': '27', 'name': 'HORSE'}, {'id': '37', 'name': 'MOONS CARD'}]}]\n"
     ]
    }
   ],
   "source": [
    "#Task 1.3\n",
    "\n",
    "f = open(\"CHARACTERS.TXT\")\n",
    "data = hex2Str(f.read()).split(\"\\n\")[:-1]\n",
    "f.close()\n",
    "\n",
    "chr_data_list = []\n",
    "for i in range(0,len(data),2): ##we will read the data in pairs again\n",
    "    chr_data = data[i].split(\",\") ##the character data\n",
    "    chr_data_list.append({\"name\":chr_data[0],\n",
    "                          \"class\":chr_data[1],\n",
    "                          \"str\":chr_data[2],\n",
    "                          \"dex\":chr_data[3],\n",
    "                          \"int\":chr_data[4],\n",
    "                          \"xp\":chr_data[5],\n",
    "                          \"items\":[]})\n",
    "    chr_item_data = data[i+1].split(\",\") ##the item data\n",
    "    for item_id in chr_item_data:\n",
    "        chr_data_list[-1][\"items\"].append({\"id\":item_id,\"name\":item_dic[item_id]})\n",
    "    \n",
    "print(chr_data_list)"
   ]
  },
  {
   "cell_type": "code",
   "execution_count": 50,
   "metadata": {},
   "outputs": [
    {
     "data": {
      "text/plain": [
       "<pymongo.results.InsertManyResult at 0x153ccc53408>"
      ]
     },
     "execution_count": 50,
     "metadata": {},
     "output_type": "execute_result"
    }
   ],
   "source": [
    "#Task 1.4\n",
    "\n",
    "import pymongo\n",
    "\n",
    "client = pymongo.MongoClient(\"localhost\", 27017)\n",
    "db = client[\"Characters\"]\n",
    "db.drop_collection(\"Overwatch\") ##to prevent creating further copies of the documents if the code is run multiple times\n",
    "coll = db[\"Overwatch\"]\n",
    "\n",
    "coll.insert_many(chr_data_list)\n",
    "\n",
    "#for doc in coll.find():\n",
    "#    print(doc)"
   ]
  },
  {
   "cell_type": "code",
   "execution_count": 52,
   "metadata": {},
   "outputs": [
    {
     "name": "stdout",
     "output_type": "stream",
     "text": [
      "Aragon\n",
      "Bane\n"
     ]
    }
   ],
   "source": [
    "#Task 1.5\n",
    "\n",
    "import pymongo\n",
    "\n",
    "client = pymongo.MongoClient(\"localhost\", 27017)\n",
    "db = client[\"Characters\"]\n",
    "coll = db[\"Overwatch\"]\n",
    "\n",
    "for doc in coll.find(): ##col.find() is a pymongo query\n",
    "    if {'id': '15', 'name': '+4 SWORD'} in doc[\"items\"]:\n",
    "        print(doc[\"name\"])"
   ]
  },
  {
   "cell_type": "code",
   "execution_count": 62,
   "metadata": {},
   "outputs": [
    {
     "name": "stdout",
     "output_type": "stream",
     "text": [
      "{'_id': ObjectId('6466c41e4ad16b2d68d1477e'), 'name': b'U+03EEU+0394U+03A8', 'class': 'Ranger', 'str': '20', 'dex': '25', 'int': '20', 'xp': '76525', 'items': [{'id': '15', 'name': '+4 SWORD'}, {'id': '5', 'name': '+2 BOW'}, {'id': '20', 'name': '+2 CHAIN'}, {'id': '23', 'name': 'TORCHES'}, {'id': '24', 'name': 'KEYS'}, {'id': '28', 'name': 'FOOD'}, {'id': '27', 'name': 'HORSE'}]}\n",
      "{'_id': ObjectId('6466c41e4ad16b2d68d1477f'), 'name': 'Freya', 'class': 'Fighter', 'str': '30', 'dex': '15', 'int': '15', 'xp': '65270', 'items': [{'id': '10', 'name': '2H SWORD'}, {'id': '21', 'name': '+2 PLATE'}, {'id': '27', 'name': 'HORSE'}, {'id': '30', 'name': 'MARK OF FORCE'}, {'id': '32', 'name': 'MARK OF KINGS'}]}\n",
      "{'_id': ObjectId('6466c41e4ad16b2d68d14780'), 'name': 'Loki', 'class': 'Mage', 'str': '15', 'dex': '25', 'int': '25', 'xp': '91435', 'items': [{'id': '7', 'name': 'EXOTIC WEAPON'}, {'id': '22', 'name': 'EXOTIC'}, {'id': '25', 'name': 'GEMS'}, {'id': '26', 'name': 'POWDER'}, {'id': '27', 'name': 'HORSE'}, {'id': '29', 'name': 'MARK OF SNAKE'}, {'id': '33', 'name': 'LORD OF TIME'}, {'id': '34', 'name': 'DEATH CARD'}]}\n",
      "{'_id': ObjectId('6466c41e4ad16b2d68d14781'), 'name': 'Bane', 'class': 'Deathknight', 'str': '25', 'dex': '25', 'int': '15', 'xp': '59250', 'items': [{'id': '15', 'name': '+4 SWORD'}, {'id': '21', 'name': '+2 PLATE'}, {'id': '27', 'name': 'HORSE'}, {'id': '37', 'name': 'MOONS CARD'}]}\n"
     ]
    }
   ],
   "source": [
    "#Task 1.6\n",
    "\n",
    "import pymongo\n",
    "\n",
    "client = pymongo.MongoClient(\"localhost\", 27017)\n",
    "db = client[\"Characters\"]\n",
    "coll = db[\"Overwatch\"]\n",
    "\n",
    "query = {\"$set\":{\"name\":\"U+03EE\".encode()+\"U+0394\".encode()+\"U+03A8\".encode()}}\n",
    "criteria = {\"name\":\"Aragon\"}\n",
    "\n",
    "coll.update_one(criteria, query)\n",
    "\n",
    "#for doc in coll.find():\n",
    "#    print(doc)"
   ]
  },
  {
   "cell_type": "code",
   "execution_count": null,
   "metadata": {},
   "outputs": [],
   "source": []
  }
 ],
 "metadata": {
  "kernelspec": {
   "display_name": "Python 3",
   "language": "python",
   "name": "python3"
  },
  "language_info": {
   "codemirror_mode": {
    "name": "ipython",
    "version": 3
   },
   "file_extension": ".py",
   "mimetype": "text/x-python",
   "name": "python",
   "nbconvert_exporter": "python",
   "pygments_lexer": "ipython3",
   "version": "3.6.4"
  }
 },
 "nbformat": 4,
 "nbformat_minor": 2
}
