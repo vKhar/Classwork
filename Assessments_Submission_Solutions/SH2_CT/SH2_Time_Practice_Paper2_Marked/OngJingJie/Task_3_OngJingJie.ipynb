{
 "cells": [
  {
   "cell_type": "code",
   "execution_count": 1,
   "metadata": {},
   "outputs": [],
   "source": [
    "#Task 3.1\n",
    "\n",
    "def inplace_merge(A, start, mid, end):\n",
    "    left = start\n",
    "    right = mid+1\n",
    "    while left<right and right<=end:\n",
    "        if A[left]<=A[right]:\n",
    "            left = left+1\n",
    "        else:\n",
    "            index = right\n",
    "            tmp = A[right]\n",
    "            while index>left:\n",
    "                A[index] = A[index-1]\n",
    "                index = index-1\n",
    "            A[index]=tmp\n",
    "            right = right+1\n",
    "            left = left +1"
   ]
  },
  {
   "attachments": {},
   "cell_type": "markdown",
   "metadata": {},
   "source": [
    "[3]"
   ]
  },
  {
   "cell_type": "code",
   "execution_count": null,
   "metadata": {},
   "outputs": [],
   "source": [
    "#Task 3.2\n",
    "\n",
    "\n",
    "#Valid Case\n",
    "\n",
    "import random\n",
    "\n",
    "num_list = [random.randint(1, 50) for _ in range(10)]\n",
    "num_list2 = [random.randint(1, 50) for _ in range(10)]\n",
    "num_list.sort()\n",
    "num_list2.sort()\n",
    "test_case = num_list+num_list2\n",
    "print(test_case)\n",
    "inplace_merge(test_case, 0, 9, 19)\n",
    "print(test_case)\n",
    "\n",
    "\n",
    "#Boundary Case\n",
    "\n",
    "test2 = [1 for _ in range(20)]\n",
    "print(test2)\n",
    "inplace_merge(test2, 0, 9, 19)\n",
    "print(test2)\n",
    "\n",
    "\n",
    "\n",
    "#Invalid Case\n",
    "\n",
    "test3 = [None for _ in range(19)]+[\"a\"]\n",
    "print(test3)\n",
    "#inplace_merge(test3, 0, 9, 19) ##will have error\n",
    "#print(test3)"
   ]
  },
  {
   "attachments": {},
   "cell_type": "markdown",
   "metadata": {},
   "source": [
    "[2]"
   ]
  },
  {
   "cell_type": "code",
   "execution_count": null,
   "metadata": {},
   "outputs": [],
   "source": [
    "#Task 3.3\n",
    "\n",
    "def merge_sort_helper(A, start, end):\n",
    "    if start >= end:\n",
    "        return\n",
    "    if end>0:\n",
    "        if A[end-1]>A[end]:##checks the element at end and the one before if, swaps them if order is wrong\n",
    "            A[end-1], A[end] = A[end], A[end-1] \n",
    "            if end != len(A)-1: ##prevents index error when end is the last index in the array\n",
    "                return merge_sort_helper(A, start, end+1)\n",
    "    return merge_sort_helper(A, start, end-1)\n",
    "\n",
    "def merge_sort(A):\n",
    "    start = 0\n",
    "    end = len(A)-1\n",
    "    return merge_sort_helper(A, start, end)"
   ]
  },
  {
   "cell_type": "code",
   "execution_count": 2,
   "metadata": {},
   "outputs": [],
   "source": [
    "#Task 3.3\n",
    "\n",
    "def merge_sort_helper(A, start, end):\n",
    "    if start >= end:\n",
    "        return\n",
    "    mid = (start + end) //2\n",
    "    merge_sort_helper(A, start, mid)\n",
    "    merge_sort_helper(A, mid+1, end)\n",
    "    inplace_merge(A,start, mid, end)\n",
    "\n",
    "def merge_sort(A):\n",
    "    start = 0\n",
    "    end = len(A)-1\n",
    "    return merge_sort_helper(A, start, end)"
   ]
  },
  {
   "cell_type": "code",
   "execution_count": 11,
   "metadata": {},
   "outputs": [
    {
     "name": "stdout",
     "output_type": "stream",
     "text": [
      "[11, 21, 79, 42, 25]\n",
      "[11, 21, 25, 42, 79]\n"
     ]
    }
   ],
   "source": [
    "import random\n",
    "L = [random.randint(1,99) for _ in range(5)]\n",
    "print(L)\n",
    "merge_sort(L)\n",
    "print(L)"
   ]
  },
  {
   "cell_type": "code",
   "execution_count": null,
   "metadata": {},
   "outputs": [],
   "source": [
    "imp"
   ]
  },
  {
   "attachments": {},
   "cell_type": "markdown",
   "metadata": {},
   "source": [
    "- did not make use of inplace_merge\n",
    "- This is not a merge sort, this is a form of recursive bubble sort\n",
    "- [2]"
   ]
  },
  {
   "cell_type": "code",
   "execution_count": null,
   "metadata": {},
   "outputs": [],
   "source": [
    "#Valid cases\n",
    "import random\n",
    "A = [random.randint(1,20) for _ in range(20)]\n",
    "merge_sort(A)\n",
    "print(A)"
   ]
  },
  {
   "cell_type": "code",
   "execution_count": null,
   "metadata": {},
   "outputs": [],
   "source": [
    "#Task 3.4\n",
    "\n",
    "\n",
    "#Valid Case\n",
    "\n",
    "import random\n",
    "\n",
    "num_list = [random.randint(1, 50) for _ in range(10)]\n",
    "num_list2 = [random.randint(1, 50) for _ in range(10)]\n",
    "num_list.sort()\n",
    "num_list2.sort()\n",
    "test_case = num_list+num_list2\n",
    "print(test_case)\n",
    "merge_sort(test_case)\n",
    "print(test_case)\n",
    "\n",
    "\n",
    "#Boundary Case\n",
    "\n",
    "test2 = [1 for _ in range(20)]\n",
    "print(test2)\n",
    "merge_sort(test2)\n",
    "print(test2)\n",
    "\n",
    "\n",
    "\n",
    "#Invalid Case\n",
    "\n",
    "test3 = [None for _ in range(19)]+[\"a\"]\n",
    "print(test3)\n",
    "#merge_sort(test3) ##will have error\n",
    "#print(test3)"
   ]
  },
  {
   "attachments": {},
   "cell_type": "markdown",
   "metadata": {},
   "source": [
    "- [2]\n",
    "\n",
    "Total 9/11"
   ]
  }
 ],
 "metadata": {
  "kernelspec": {
   "display_name": "Python 3",
   "language": "python",
   "name": "python3"
  },
  "language_info": {
   "codemirror_mode": {
    "name": "ipython",
    "version": 3
   },
   "file_extension": ".py",
   "mimetype": "text/x-python",
   "name": "python",
   "nbconvert_exporter": "python",
   "pygments_lexer": "ipython3",
   "version": "3.6.4"
  }
 },
 "nbformat": 4,
 "nbformat_minor": 2
}
