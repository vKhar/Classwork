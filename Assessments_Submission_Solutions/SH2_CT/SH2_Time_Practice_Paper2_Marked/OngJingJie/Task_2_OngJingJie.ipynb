{
 "cells": [
  {
   "cell_type": "code",
   "execution_count": null,
   "metadata": {},
   "outputs": [],
   "source": [
    "#Task 2.1\n",
    "\n",
    "class HashTable:\n",
    "    def __init__(self, n):\n",
    "        self.arr = [None for _ in range(n)]\n",
    "        self.size = n\n",
    "    def hasher(self, key):\n",
    "        total = 0 ##don't want to overwrite the inbuilt sum function\n",
    "        for i in range(len(key)):\n",
    "            total += ord(key[i])*(i+1)\n",
    "        return total%self.size\n",
    "    def insert(self, key, value):\n",
    "        index = self.hasher(key)\n",
    "        data = (key, value)\n",
    "        if self.arr[index] == None:\n",
    "            self.arr[index] = data\n",
    "            return True\n",
    "        else:\n",
    "            pointer = (index+1)%self.size\n",
    "            while pointer!=index:\n",
    "                if self.arr[pointer] == None:\n",
    "                    self.arr[pointer] = data\n",
    "                    return True\n",
    "                pointer = (pointer+1)%self.size\n",
    "            return False\n",
    "    def find(self, key):\n",
    "        index = self.hasher(key)\n",
    "        if self.arr[index] == None:\n",
    "            pass\n",
    "        elif self.arr[index][0] == key:\n",
    "            return self.arr[index][1]\n",
    "        pointer = (index+1)%self.size\n",
    "        while pointer!=index:\n",
    "            if self.arr[pointer] == None:\n",
    "                pass\n",
    "            elif self.arr[pointer][0] == key:\n",
    "                return self.arr[pointer][1]\n",
    "            pointer = (pointer+1)%self.size\n",
    "        return None\n",
    "    def __repr__(self):\n",
    "        ret = []\n",
    "        for i in range(self.size):\n",
    "            ret.append(f\"{i}:{self.arr[i]}\")\n",
    "        return str(ret)\n"
   ]
  },
  {
   "attachments": {},
   "cell_type": "markdown",
   "metadata": {},
   "source": [
    "\n",
    "- question says return the object stored in the hash table, you store a tuple in the hash table, but you return the second item in the tuple -1m\n",
    "- [16]"
   ]
  },
  {
   "cell_type": "code",
   "execution_count": null,
   "metadata": {},
   "outputs": [],
   "source": [
    "#Task 2.2\n",
    "\n",
    "\n",
    "table = HashTable(3)\n",
    "table.insert(\"www.co\",\"web\")\n",
    "table.insert(\"sch.org\",\"school\")\n",
    "table.insert(\"ai.net\",\"sky net\")\n",
    "print(table)\n",
    "print(table.find(\"www.co\"))\n",
    "print(table.find(\"iai.net\"))"
   ]
  },
  {
   "attachments": {},
   "cell_type": "markdown",
   "metadata": {},
   "source": [
    "[2]"
   ]
  },
  {
   "cell_type": "code",
   "execution_count": null,
   "metadata": {},
   "outputs": [],
   "source": [
    "#Task 2.3\n",
    "\n",
    "class Node:\n",
    "    def __init__(self, data):\n",
    "        self.pointer = -1\n",
    "        self.data = data\n",
    "\n",
    "class OrderedHashTable(HashTable):\n",
    "    def __init__(self, n):\n",
    "        self.arr = [Node(None) for _ in range(n)]\n",
    "        self.head = -1 ##first occupied node\n",
    "        self.tail = -1 ##last occupied node\n",
    "        self.size = n\n",
    "    def update_pointer(self, index):\n",
    "        if self.head == -1:\n",
    "            self.head = index\n",
    "            self.tail = index\n",
    "        else:\n",
    "            self.arr[self.tail].pointer = index\n",
    "            self.tail = index\n",
    "    def insert(self, key, value):\n",
    "        index = self.hasher(key)\n",
    "        data = (key, value)\n",
    "        if self.arr[index].data == None:\n",
    "            self.arr[index].data = data\n",
    "            self.update_pointer(index)\n",
    "            return True\n",
    "        else:\n",
    "            pointer = (index+1)%self.size\n",
    "            while pointer!=index:\n",
    "                if self.arr[pointer].data == None:\n",
    "                    self.arr[pointer].data = data\n",
    "                    self.update_pointer(index)\n",
    "                    return True\n",
    "                pointer = (pointer+1)%self.size\n",
    "            return False\n",
    "    def find(self, key): #fix this\n",
    "        index = self.hasher(key)\n",
    "        if self.arr[index].data == None:\n",
    "            pass\n",
    "        elif self.arr[index].data[0] == key:\n",
    "            return self.arr[index].data[1]\n",
    "        pointer = (index+1)%self.size\n",
    "        while pointer!=index:\n",
    "            if self.arr[pointer].data == None:\n",
    "                pass\n",
    "            elif self.arr[pointer].data[0] == key:\n",
    "                return self.arr[pointer].data[1]\n",
    "            pointer = (pointer+1)%self.size\n",
    "        return None\n",
    "    def __repr__(self):\n",
    "        ret = []\n",
    "        for i in range(self.size):\n",
    "            ret.append(f\"{i}:{self.arr[i].data}\")\n",
    "        return str(ret)\n",
    "    def keys(self):\n",
    "        ret = []\n",
    "        cur = self.head\n",
    "        while cur != -1:\n",
    "            ret.append(self.arr[cur].data[0])\n",
    "            cur = self.arr[cur].pointer\n",
    "        return ret"
   ]
  },
  {
   "attachments": {},
   "cell_type": "markdown",
   "metadata": {},
   "source": [
    "- did not init base class -1m\n",
    "- [9]"
   ]
  },
  {
   "cell_type": "code",
   "execution_count": null,
   "metadata": {},
   "outputs": [],
   "source": [
    "#Task 2.4\n",
    "\n",
    "hashT = OrderedHashTable(10)\n",
    "hashT.insert(\"www.hi.cc\",\"Hello World\")\n",
    "hashT.insert(\"ppp.me\",'test site')\n",
    "hashT.insert(\"njc.sch\",\"school\")\n",
    "hashT.keys()"
   ]
  },
  {
   "attachments": {},
   "cell_type": "markdown",
   "metadata": {},
   "source": [
    "[1]"
   ]
  },
  {
   "cell_type": "code",
   "execution_count": null,
   "metadata": {},
   "outputs": [],
   "source": [
    "#Task 2.5\n",
    "\n",
    "def load_cache(ht):\n",
    "    f = open(\"CACHE.TXT\")\n",
    "    data = f.read().split(\"\\n\")\n",
    "    f.close()\n",
    "    for stuff in data:\n",
    "        list1 = stuff.split(\",\")\n",
    "        ht.insert(list1[0], list1[1])\n",
    "    \n",
    "\n",
    "a = OrderedHashTable(6)\n",
    "load_cache(a)\n",
    "print(a)\n",
    "\n",
    "def browse(url, cache):\n",
    "    if cache.find(url):\n",
    "        return cache.find(url)\n",
    "    else:\n",
    "        f = open(\"INTERNET.TXT\")\n",
    "        lines = f.read().split(\"\\n\")\n",
    "        f.close()\n",
    "        if data in lines:\n",
    "            return data\n",
    "        return \"404 NOT FOUND\"\n",
    "print(browse(\"farm.net\"))\n",
    "\n",
    "def history(cache):\n",
    "    return\n",
    "\n",
    "def clear_cache(cache):\n",
    "    cache.arr = [Node(None) for _ in range(cache.size)]"
   ]
  },
  {
   "attachments": {},
   "cell_type": "markdown",
   "metadata": {},
   "source": [
    "[6]\n",
    "\n",
    "Total 34/40"
   ]
  }
 ],
 "metadata": {
  "kernelspec": {
   "display_name": "Python 3",
   "language": "python",
   "name": "python3"
  },
  "language_info": {
   "codemirror_mode": {
    "name": "ipython",
    "version": 3
   },
   "file_extension": ".py",
   "mimetype": "text/x-python",
   "name": "python",
   "nbconvert_exporter": "python",
   "pygments_lexer": "ipython3",
   "version": "3.6.4"
  }
 },
 "nbformat": 4,
 "nbformat_minor": 2
}
