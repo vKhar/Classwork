{
 "cells": [
  {
   "cell_type": "code",
   "execution_count": 16,
   "metadata": {},
   "outputs": [],
   "source": [
    "#Task 2.1\n",
    "class HashTable:\n",
    "    def __init__(self,n):\n",
    "        self.arr = [None for _ in range(n)]\n",
    "    def hasher(self, key):\n",
    "        sum = 0\n",
    "        for i in range(0,len(key)):\n",
    "            sum += ord(key[i]) * (i+1)\n",
    "        return sum % len(self.arr)\n",
    "    def insert(self, key, value):\n",
    "        try:\n",
    "            index = self.hasher(key)\n",
    "            if self.arr[index] == None: self.arr[index] = (key,value)\n",
    "            else:\n",
    "                old_index = index\n",
    "                index += 1\n",
    "                while self.arr[index] != None and index != old_index:\n",
    "                    index += 1\n",
    "                    index = index % len(self.arr)\n",
    "                if index == old_index: return False\n",
    "                self.arr[index] = (key,value)\n",
    "            return True\n",
    "        except:\n",
    "            return False\n",
    "    def find(self,key):\n",
    "        index = self.hasher(key)\n",
    "        if self.arr[index] == None or self.arr[index][0] != key:\n",
    "            old_index = index\n",
    "            index += 1\n",
    "            while self.arr[index][0] != key and index != old_index:\n",
    "                index += 1\n",
    "                index = index % len(self.arr)\n",
    "            if index == old_index: return None\n",
    "            return self.arr[index]\n",
    "        else:\n",
    "            return self.arr[index]\n",
    "    def __repr__(self):\n",
    "        res = \"[\"\n",
    "        for i in range(len(self.arr)):\n",
    "            res += f\"{i}:{self.arr[i]},\"\n",
    "        res += \"]\"\n",
    "        return res"
   ]
  },
  {
   "cell_type": "code",
   "execution_count": 18,
   "metadata": {},
   "outputs": [
    {
     "name": "stdout",
     "output_type": "stream",
     "text": [
      "[0:('sch.org', 'school'),1:('www.co', 'web'),2:('ai.net', 'sky net'),]\n",
      "('www.co', 'web')\n",
      "('ai.net', 'sky net')\n"
     ]
    }
   ],
   "source": [
    "#Task 2.2\n",
    "hashTable = HashTable(3)\n",
    "hashTable.insert(\"www.co\",\"web\")\n",
    "hashTable.insert(\"sch.org\",\"school\")\n",
    "hashTable.insert(\"ai.net\",\"sky net\")\n",
    "print(hashTable)\n",
    "print(hashTable.find(\"www.co\"))\n",
    "print(hashTable.find(\"ai.net\"))"
   ]
  },
  {
   "cell_type": "code",
   "execution_count": 56,
   "metadata": {},
   "outputs": [],
   "source": [
    "#Task 2.3\n",
    "class Node:\n",
    "    def __init__(self,value):\n",
    "        self.value = value\n",
    "        self.next = -1\n",
    "    def __repr__(self):\n",
    "        return f\"{self.value}\"\n",
    "class LinkedList:\n",
    "    def __init__(self):\n",
    "        self.head = -1\n",
    "    def insert(self,index):\n",
    "        new_node = Node(index)\n",
    "        if self.head == -1:\n",
    "            self.head = new_node\n",
    "        elif self.head.next == -1:\n",
    "            self.head.next = new_node\n",
    "        else:\n",
    "            cur = self.head.next\n",
    "            while cur.next != -1:\n",
    "                cur = cur.next\n",
    "            cur.next = new_node\n",
    "    def traverse(self):\n",
    "        res = []\n",
    "        if self.head == -1:\n",
    "            return res\n",
    "        elif self.head.next == -1:\n",
    "            return [self.head]\n",
    "        else:\n",
    "            res = [self.head.value]\n",
    "            cur = self.head.next\n",
    "            while cur.next != -1:\n",
    "                res.append(cur.value)\n",
    "                cur = cur.next\n",
    "            res.append(cur.value)\n",
    "            return res\n",
    "class OrderedHashTable(HashTable):\n",
    "    #assume keys cannot be deleted \n",
    "    \n",
    "    def __init__(self,n):\n",
    "        super().__init__(n)\n",
    "        self.keys_ll = LinkedList()\n",
    "    def insert(self,key,value):\n",
    "        x = super().insert(key,value)\n",
    "        if x == True:\n",
    "            self.keys_ll.insert(key)\n",
    "        return x\n",
    "    def keys(self):\n",
    "        res = self.keys_ll.traverse()\n",
    "        return res\n",
    "\n",
    "            "
   ]
  },
  {
   "cell_type": "code",
   "execution_count": 57,
   "metadata": {},
   "outputs": [
    {
     "name": "stdout",
     "output_type": "stream",
     "text": [
      "[0:('sch.org', 'school'),1:('www.co', 'web'),2:('ai.net', 'sky net'),]\n",
      "('www.co', 'web')\n",
      "('ai.net', 'sky net')\n",
      "['www.co', 'sch.org', 'ai.net']\n"
     ]
    }
   ],
   "source": [
    "#Task 2.4\n",
    "hashTable = OrderedHashTable(3)\n",
    "hashTable.insert(\"www.co\",\"web\")\n",
    "hashTable.insert(\"sch.org\",\"school\")\n",
    "hashTable.insert(\"ai.net\",\"sky net\")\n",
    "print(hashTable)\n",
    "print(hashTable.find(\"www.co\"))\n",
    "print(hashTable.find(\"ai.net\"))\n",
    "print(hashTable.keys())"
   ]
  },
  {
   "cell_type": "code",
   "execution_count": 72,
   "metadata": {},
   "outputs": [],
   "source": [
    "#Task 2.5\n",
    "#Task 2.5a\n",
    "def load_cache(hash_table):\n",
    "    with open(\"CACHE.TXT\") as f:\n",
    "        cache = f.readlines()\n",
    "    for line in cache:\n",
    "#         print(line)\n",
    "        tmp = line.strip().split(',')\n",
    "        rest = ','.join(tmp[1:])\n",
    "        final_pair = (tmp[0],rest)\n",
    "#         print(final_pair)\n",
    "        hash_table.insert(final_pair[0],final_pair[1])\n",
    "    return\n",
    "\n"
   ]
  },
  {
   "cell_type": "code",
   "execution_count": 73,
   "metadata": {},
   "outputs": [
    {
     "name": "stdout",
     "output_type": "stream",
     "text": [
      "[0:None,1:('cmn.com', '<html>CMN the only real news </html>'),2:('chit.chat.org', '<b>Talking AI &lt; <b>'),3:('njc.sch.sg', 'Service with Honour'),4:('tt.t', 'test'),5:('farm.net', '\"apple,oranges,pears\"'),]\n"
     ]
    }
   ],
   "source": [
    "#Task 2.5b\n",
    "hashTable = OrderedHashTable(6)\n",
    "load_cache(hashTable)\n",
    "print(hashTable)\n",
    "\n"
   ]
  },
  {
   "cell_type": "code",
   "execution_count": 74,
   "metadata": {},
   "outputs": [],
   "source": [
    "#Task 2.5c\n",
    "def browse(url, cache):\n",
    "    res = cache.find(url)\n",
    "    if res != None: return res[1]\n",
    "    else:\n",
    "        with open(\"INTERNET.TXT\") as f:\n",
    "            data = f.readlines()\n",
    "        for line in data:\n",
    "            tmp = line.strip().split(',')\n",
    "            if url == tmp[0]: return tmp[1]\n",
    "        return \"404 URL NOT FOUND\"\n",
    "\n"
   ]
  },
  {
   "cell_type": "code",
   "execution_count": 75,
   "metadata": {},
   "outputs": [
    {
     "name": "stdout",
     "output_type": "stream",
     "text": [
      "\"apple,oranges,pears\"\n"
     ]
    }
   ],
   "source": [
    "#Task 2.5d\n",
    "print(browse(\"farm.net\",hashTable))\n",
    "\n"
   ]
  },
  {
   "cell_type": "code",
   "execution_count": 76,
   "metadata": {},
   "outputs": [
    {
     "name": "stdout",
     "output_type": "stream",
     "text": [
      "['tt.t', 'farm.net', 'chit.chat.org', 'njc.sch.sg', 'cmn.com']\n"
     ]
    }
   ],
   "source": [
    "#Task 2.5e\n",
    "def history(cache):\n",
    "    res = cache.keys()\n",
    "    res.reverse()\n",
    "    return res\n",
    "\n",
    "print(history(hashTable))\n",
    "\n"
   ]
  },
  {
   "cell_type": "code",
   "execution_count": 77,
   "metadata": {},
   "outputs": [
    {
     "name": "stdout",
     "output_type": "stream",
     "text": [
      "[0:None,1:None,2:None,3:None,4:None,5:None,]\n"
     ]
    }
   ],
   "source": [
    "#Tawsk 2.5f\n",
    "def clear_cache(cache):\n",
    "    cache = OrderedHashTable(len(cache.arr))\n",
    "    return cache\n",
    "print(clear_cache(hashTable))"
   ]
  },
  {
   "cell_type": "code",
   "execution_count": null,
   "metadata": {},
   "outputs": [],
   "source": []
  }
 ],
 "metadata": {
  "kernelspec": {
   "display_name": "Python 3",
   "language": "python",
   "name": "python3"
  },
  "language_info": {
   "codemirror_mode": {
    "name": "ipython",
    "version": 3
   },
   "file_extension": ".py",
   "mimetype": "text/x-python",
   "name": "python",
   "nbconvert_exporter": "python",
   "pygments_lexer": "ipython3",
   "version": "3.6.4"
  }
 },
 "nbformat": 4,
 "nbformat_minor": 2
}
