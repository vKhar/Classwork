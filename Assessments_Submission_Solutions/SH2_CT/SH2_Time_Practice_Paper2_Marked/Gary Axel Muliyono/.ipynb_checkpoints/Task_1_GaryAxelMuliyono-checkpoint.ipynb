{
 "cells": [
  {
   "cell_type": "code",
   "execution_count": 4,
   "metadata": {},
   "outputs": [
    {
     "data": {
      "text/plain": [
       "'ABC,1,15\\n'"
      ]
     },
     "execution_count": 4,
     "metadata": {},
     "output_type": "execute_result"
    }
   ],
   "source": [
    "#Task 1.1\n",
    "def hex2str(s):\n",
    "    final = \"\"\n",
    "    for i in range(0,len(s),2):\n",
    "        tmp = s[i:i+2]\n",
    "        converted = int(tmp,16)\n",
    "        tmpchr = chr(converted)\n",
    "        final = final + tmpchr\n",
    "    return final\n",
    "\n",
    "hex2str(\"4142432C312C31350a\")"
   ]
  },
  {
   "cell_type": "code",
   "execution_count": 27,
   "metadata": {},
   "outputs": [
    {
     "name": "stdout",
     "output_type": "stream",
     "text": [
      "{'1': 'DAGGER', '2': 'MACE', '3': 'SLING', '4': 'BOW', '5': '+2 BOW', '6': '+4 BOW', '7': 'EXOTIC WEAPON', '8': 'AXE', '9': 'SWORD', '10': '2H SWORD', '11': '+2 AXE', '12': '+2 SWORD', '13': 'GLOVES', '14': '+4 AXE', '15': '+4 SWORD', '16': 'CLOTH', '17': 'LEATHER', '18': 'CHAIN', '19': 'PLATE', '20': '+2 CHAIN', '21': '+2 PLATE', '22': 'EXOTIC', '23': 'TORCHES', '24': 'KEYS', '25': 'GEMS', '26': 'POWDER', '27': 'HORSE', '28': 'FOOD', '29': 'MARK OF SNAKE', '30': 'MARK OF FORCE', '31': 'MARK OF FIRE', '32': 'MARK OF KINGS', '33': 'LORD OF TIME', '34': 'DEATH CARD', '35': 'SOL CARD', '36': 'LOVE CARD', '37': 'MOONS CARD'}\n"
     ]
    }
   ],
   "source": [
    "#Task 1.2\n",
    "with open(\"ITEMS.TXT\") as f:\n",
    "    items_data = f.read()\n",
    "items_data = hex2str(items_data).strip().split('\\n')\n",
    "for i in range(len(items_data)):\n",
    "    items_data[i] = items_data[i].split(',')\n",
    "items_dict = {}\n",
    "for item in items_data:\n",
    "    items_dict[item[0]] = item[1]\n",
    "print(items_dict)"
   ]
  },
  {
   "cell_type": "code",
   "execution_count": 25,
   "metadata": {},
   "outputs": [
    {
     "name": "stdout",
     "output_type": "stream",
     "text": [
      "['Aragon', 'Ranger', '20', '25', '20', '76525', ['15', '5', '20', '23', '24', '28', '27']]\n",
      "['Freya', 'Fighter', '30', '15', '15', '65270', ['10', '21', '27', '30', '32']]\n",
      "['Loki', 'Mage', '15', '25', '25', '91435', ['7', '22', '25', '26', '27', '29', '33', '34']]\n",
      "['Bane', 'Deathknight', '25', '25', '15', '59250', ['15', '21', '27', '37']]\n"
     ]
    }
   ],
   "source": [
    "#Task 1.3\n",
    "with open(\"CHARACTERS.TXT\") as f:\n",
    "    characters_data = f.read()\n",
    "characters_data = hex2str(characters_data).strip().split('\\n')\n",
    "\n",
    "for i in range(0,len(characters_data),2):\n",
    "    characters_data[i] = characters_data[i].split(',')\n",
    "    characters_data[i] = characters_data[i] + [characters_data[i+1].split(',')]\n",
    "\n",
    "f_characters_data = []\n",
    "for i in range(0,len(characters_data),2):   \n",
    "    f_characters_data += characters_data[i:i+1]\n",
    "\n",
    "for person in f_characters_data:\n",
    "    print(person)"
   ]
  },
  {
   "cell_type": "code",
   "execution_count": 29,
   "metadata": {},
   "outputs": [],
   "source": [
    "#Task 1.4\n",
    "import pymongo\n",
    "conn = pymongo.MongoClient('127.0.0.1',27017)\n",
    "conn['Overwatch'].drop_collection('Characters')\n",
    "coll = conn['Overwatch']['Characters']\n",
    "for person in f_characters_data:\n",
    "    items_full = []\n",
    "    for item in person[6]:\n",
    "        items_full.append({\"id\":item,\"name\":items_dict[item]})\n",
    "    coll.insert_one({\n",
    "        \"name\":person[0],\n",
    "        \"class\":person[1],\n",
    "        \"str\":person[2],\n",
    "        \"dex\":person[3],\n",
    "        \"int\":person[4],\n",
    "        \"xp\":person[5],\n",
    "        \"items\":items_full\n",
    "    }\n",
    "    )"
   ]
  },
  {
   "cell_type": "code",
   "execution_count": 32,
   "metadata": {},
   "outputs": [
    {
     "name": "stdout",
     "output_type": "stream",
     "text": [
      "Aragon\n",
      "Bane\n"
     ]
    }
   ],
   "source": [
    "#Task 1.5\n",
    "conn = pymongo.MongoClient('127.0.0.1',27017)\n",
    "coll = conn['Overwatch']['Characters']\n",
    "query = {\n",
    "    \"items.name\":{\"$in\":[\"+4 SWORD\"]}\n",
    "}\n",
    "projection = {\n",
    "    \"_id\":0,\n",
    "    \"name\":1\n",
    "}\n",
    "res = list(coll.find(query,projection))\n",
    "for person in res:\n",
    "    print(person['name'])"
   ]
  },
  {
   "cell_type": "code",
   "execution_count": 40,
   "metadata": {},
   "outputs": [
    {
     "name": "stdout",
     "output_type": "stream",
     "text": [
      "03EE\n",
      "0394\n",
      "03A8\n"
     ]
    }
   ],
   "source": [
    "#Task 1.6\n",
    "conn = pymongo.MongoClient('127.0.0.1',27017)\n",
    "coll = conn['Overwatch']['Characters']\n",
    "query = {\n",
    "    \"name\":\"Aragon\"\n",
    "}\n",
    "res = coll.find_one(query)\n",
    "alias = [\"03EE\",\"0394\",\"03A8\"]\n",
    "for thing in alias:\n",
    "    print(thing.format('utf-8'))"
   ]
  },
  {
   "cell_type": "code",
   "execution_count": null,
   "metadata": {},
   "outputs": [],
   "source": []
  }
 ],
 "metadata": {
  "kernelspec": {
   "display_name": "Python 3",
   "language": "python",
   "name": "python3"
  },
  "language_info": {
   "codemirror_mode": {
    "name": "ipython",
    "version": 3
   },
   "file_extension": ".py",
   "mimetype": "text/x-python",
   "name": "python",
   "nbconvert_exporter": "python",
   "pygments_lexer": "ipython3",
   "version": "3.6.4"
  }
 },
 "nbformat": 4,
 "nbformat_minor": 2
}
