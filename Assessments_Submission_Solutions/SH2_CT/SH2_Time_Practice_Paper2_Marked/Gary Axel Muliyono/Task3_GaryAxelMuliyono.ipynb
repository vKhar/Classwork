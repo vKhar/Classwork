{
 "cells": [
  {
   "cell_type": "code",
   "execution_count": null,
   "metadata": {},
   "outputs": [],
   "source": [
    "#Task 3.1\n",
    "def inplace_merge(A, start, mid, end):\n",
    "    left = start\n",
    "    right = mid + 1\n",
    "    while left < right and right <= end:\n",
    "        if A[left] <= A[right]:\n",
    "            left = left+1\n",
    "        else:\n",
    "            index = right\n",
    "            tmp = A[right]\n",
    "            while index > left:\n",
    "                A[index] = A[index-1]\n",
    "                index = index - 1\n",
    "            A[index] = tmp\n",
    "            left += 1\n",
    "            right += 1\n",
    "    return A\n",
    "inplace_merge([2,4,6,8,1,3,5],0,3,6)\n"
   ]
  },
  {
   "attachments": {},
   "cell_type": "markdown",
   "metadata": {},
   "source": [
    "[3]"
   ]
  },
  {
   "cell_type": "code",
   "execution_count": null,
   "metadata": {},
   "outputs": [],
   "source": [
    "import random\n",
    "#valid case\n",
    "def sorted_random(alr=[]):\n",
    "    res = []\n",
    "    while len(res) < 5:\n",
    "        tmp = random.randint(1,10)\n",
    "        if tmp not in res and tmp not in alr:\n",
    "            res.append(tmp)\n",
    "    res.sort()\n",
    "    return res\n",
    "A = sorted_random()\n",
    "B = sorted_random(A)\n",
    "print(A)\n",
    "print(B)\n",
    "print(inplace_merge(A+B,0,4,9))\n",
    "\n",
    "A = sorted_random()\n",
    "B = sorted_random(A)\n",
    "print(A)\n",
    "print(B)\n",
    "print(inplace_merge(A+B,0,4,9))\n",
    "\n",
    "#boundary case\n",
    "A = []\n",
    "B = []\n",
    "print(inplace_merge(A+B,0,0,0))\n",
    "\n",
    "#invalid case\n",
    "print(inplace_merge(\"hello\"))"
   ]
  },
  {
   "attachments": {},
   "cell_type": "markdown",
   "metadata": {},
   "source": [
    "- line 24 - 26 is am invalid case\n",
    "- [1]"
   ]
  },
  {
   "cell_type": "code",
   "execution_count": null,
   "metadata": {},
   "outputs": [],
   "source": [
    "#Task 3.3\n",
    "def merge_sort_helper(A, start, end):\n",
    "    if start >= end:\n",
    "        return\n",
    "    width = 1\n",
    "    startx = start\n",
    "    while width < len(A):\n",
    "        while startx < len(A):\n",
    "            midx = min(startx + width,len(A)-1)\n",
    "            endx = min(startx + width * 2,len(A)-1)\n",
    "            A[startx:endx] = inplace_merge(A,startx,midx,endx)\n",
    "            startx += 1\n",
    "        width *= 2\n",
    "    return A\n",
    "\n",
    "def merge_sort(A):\n",
    "    start = 0\n",
    "    end = len(A)-1\n",
    "    merge_sort_helper(A,start,end)"
   ]
  },
  {
   "attachments": {},
   "cell_type": "markdown",
   "metadata": {},
   "source": [
    "- NOT recursive\n",
    "- the base case is to merge sub-arrays of size 2, while loop is incorrect\n",
    "- [0]"
   ]
  },
  {
   "cell_type": "code",
   "execution_count": null,
   "metadata": {},
   "outputs": [],
   "source": [
    "#Valid cases\n",
    "import random\n",
    "A = [random.randint(1,20) for _ in range(20)]\n",
    "merge_sort(A)\n",
    "print(A)"
   ]
  },
  {
   "cell_type": "code",
   "execution_count": null,
   "metadata": {},
   "outputs": [],
   "source": [
    "#Boundary\n",
    "import random\n",
    "A = [1]\n",
    "merge_sort(A)\n",
    "print(A)"
   ]
  },
  {
   "cell_type": "code",
   "execution_count": null,
   "metadata": {},
   "outputs": [],
   "source": [
    "#Valid cases\n",
    "import random\n",
    "A = [random.randint(1,20) for _ in range(20)]\n",
    "merge_sort(A)\n",
    "print(A)"
   ]
  },
  {
   "cell_type": "code",
   "execution_count": null,
   "metadata": {},
   "outputs": [],
   "source": [
    "#Task 3.4\n",
    "#valid case\n",
    "import random\n",
    "A = []\n",
    "while len(A)<10:\n",
    "    tmp = random.randint(1,10)\n",
    "    if tmp not in A:\n",
    "        A.append(tmp)\n",
    "print(A)\n",
    "print(merge_sort(A))\n",
    "\n",
    "#boundary case\n",
    "print(merge_sort([]))\n",
    "\n",
    "#invalid case\n",
    "print(merge_sort(\"DDD\"))"
   ]
  },
  {
   "attachments": {},
   "cell_type": "markdown",
   "metadata": {},
   "source": [
    "[2]\n",
    "\n",
    "Total 7/11"
   ]
  }
 ],
 "metadata": {
  "kernelspec": {
   "display_name": "Python 3",
   "language": "python",
   "name": "python3"
  },
  "language_info": {
   "codemirror_mode": {
    "name": "ipython",
    "version": 3
   },
   "file_extension": ".py",
   "mimetype": "text/x-python",
   "name": "python",
   "nbconvert_exporter": "python",
   "pygments_lexer": "ipython3",
   "version": "3.6.4"
  }
 },
 "nbformat": 4,
 "nbformat_minor": 2
}
