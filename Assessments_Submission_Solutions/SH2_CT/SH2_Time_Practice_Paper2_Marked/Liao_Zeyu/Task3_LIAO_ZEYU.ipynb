{
 "cells": [
  {
   "cell_type": "code",
   "execution_count": null,
   "metadata": {},
   "outputs": [],
   "source": [
    "##3.1\n",
    "def inplace_merge(A, start, mid, end):\n",
    "    left=start\n",
    "    right=mid\n",
    "    while left<right and right<=end:\n",
    "        if A[left]<=A[right]:\n",
    "            left=left+1\n",
    "        else:\n",
    "            index=right\n",
    "            tmp=A[right]\n",
    "            while index>left:\n",
    "                A[index]=A[index-1]\n",
    "                index=index-1\n",
    "            right=right+1\n",
    "    return A"
   ]
  },
  {
   "attachments": {},
   "cell_type": "markdown",
   "metadata": {},
   "source": [
    "- [1]"
   ]
  },
  {
   "cell_type": "code",
   "execution_count": null,
   "metadata": {},
   "outputs": [],
   "source": [
    "##3.2\n",
    "print(inplace_merge([1,3,5,7,2,4,6,8],0, 4, 7))\n",
    "print(inplace_merge([],0, 0, 0))\n",
    "print(inplace_merge([1,2,3,4,5,6,7],0, 0, 0))"
   ]
  },
  {
   "attachments": {},
   "cell_type": "markdown",
   "metadata": {},
   "source": [
    "- line 3 is an invalid case, in an empty list there is no start, mid or end indexes\n",
    "- [1]"
   ]
  },
  {
   "cell_type": "code",
   "execution_count": null,
   "metadata": {},
   "outputs": [],
   "source": [
    "#3.3\n",
    "def merge_sort_helper(A, start, end):\n",
    "    if start==end:\n",
    "        return A\n",
    "    else:\n",
    "        mid=end//2\n",
    "        inplace_merge((merge_sort_helper(A[0:mid+1], 0, (len(A[0:mid+1])-1))+merge_sort_helper(A[mid+1:], 0, (len(A[mid+1:])-1))), mid, start, end)\n",
    "def merge_sort(A):\n",
    "    start=0\n",
    "    end=len(A)-1\n",
    "    merge_sort_helper(A, start, end)"
   ]
  },
  {
   "attachments": {},
   "cell_type": "markdown",
   "metadata": {},
   "source": [
    "[0]"
   ]
  },
  {
   "cell_type": "code",
   "execution_count": null,
   "metadata": {},
   "outputs": [],
   "source": [
    "##3.4\n",
    "merge_sort([6,7,3,2,7])\n",
    "merge_sort([1])\n",
    "merger_sort('1')"
   ]
  },
  {
   "attachments": {},
   "cell_type": "markdown",
   "metadata": {},
   "source": [
    "- test cases does not show result\n",
    "- [0]\n",
    "\n",
    "Total 2/11"
   ]
  }
 ],
 "metadata": {
  "kernelspec": {
   "display_name": "Python 3",
   "language": "python",
   "name": "python3"
  },
  "language_info": {
   "codemirror_mode": {
    "name": "ipython",
    "version": 3
   },
   "file_extension": ".py",
   "mimetype": "text/x-python",
   "name": "python",
   "nbconvert_exporter": "python",
   "pygments_lexer": "ipython3",
   "version": "3.6.4"
  }
 },
 "nbformat": 4,
 "nbformat_minor": 2
}
