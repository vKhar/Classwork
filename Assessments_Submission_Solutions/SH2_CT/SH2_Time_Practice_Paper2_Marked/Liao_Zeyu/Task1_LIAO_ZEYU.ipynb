{
 "cells": [
  {
   "attachments": {},
   "cell_type": "markdown",
   "metadata": {},
   "source": [
    "##### YOU DID NOT INDICATE THE TASK NUMBER FOR YOUR SUBMISSION!!!"
   ]
  },
  {
   "cell_type": "code",
   "execution_count": null,
   "metadata": {},
   "outputs": [],
   "source": [
    "import string\n",
    "def hex2Str(hex_str):\n",
    "    ret=[]\n",
    "    ret1=''\n",
    "    for i in range(len(hex_str)):\n",
    "        if i%2!=0:\n",
    "            ret.append(int(hex_str[i-1:i+1], 16))\n",
    "    for i in ret:\n",
    "        ret1=ret1+chr(i)\n",
    "    return ret1"
   ]
  },
  {
   "attachments": {},
   "cell_type": "markdown",
   "metadata": {},
   "source": [
    "- [4m]"
   ]
  },
  {
   "cell_type": "code",
   "execution_count": null,
   "metadata": {
    "scrolled": true
   },
   "outputs": [],
   "source": [
    "with open(\"ITEMS.txt\") as f:\n",
    "    fs=f.read()\n",
    "    rawDat=hex2Str(fs)\n",
    "    itemList=rawDat.split(\"\\n\")[0:-1]\n",
    "    print(itemList)"
   ]
  },
  {
   "attachments": {},
   "cell_type": "markdown",
   "metadata": {},
   "source": [
    "- A list of string is not efficient to be access DIRECTLY!\n",
    "- [3m]"
   ]
  },
  {
   "cell_type": "code",
   "execution_count": null,
   "metadata": {},
   "outputs": [],
   "source": [
    "with open(\"CHARACTERS.txt\") as f:\n",
    "    fs=f.read()\n",
    "    rawDat=hex2Str(fs)\n",
    "    itemList=rawDat.split(\"\\n\")[0:-1]\n",
    "    new=[]\n",
    "    for i in range(len(itemList)):\n",
    "        if i%2!=0:\n",
    "            tmp=itemList[i-1].split(',')+itemList[i].split(',')\n",
    "            print(tmp)\n",
    "            new.append(tmp)\n",
    "    print(new)"
   ]
  },
  {
   "attachments": {},
   "cell_type": "markdown",
   "metadata": {},
   "source": [
    "- [9m]"
   ]
  },
  {
   "cell_type": "code",
   "execution_count": null,
   "metadata": {},
   "outputs": [],
   "source": [
    "import pymongo\n",
    "db=pymongo.MongoClient('localhost', 27017)['Overwatch']['Characters']\n",
    "for i in new:\n",
    "    tmp={\"name\":i[0]\n",
    "         \"class\":i[1]\n",
    "         \"str\":i[2]\n",
    "         \"dex\":i[3]\n",
    "         \"int\":i[4]\n",
    "         \"xp\":i[5]\n",
    "         \n",
    "        \n",
    "    }"
   ]
  },
  {
   "attachments": {},
   "cell_type": "markdown",
   "metadata": {},
   "source": [
    "-   [0m]\n",
    "- 1.5,1.6 [0m]\n",
    "\n",
    "Total\n",
    "\n",
    "16/26"
   ]
  }
 ],
 "metadata": {
  "kernelspec": {
   "display_name": "Python 3",
   "language": "python",
   "name": "python3"
  },
  "language_info": {
   "codemirror_mode": {
    "name": "ipython",
    "version": 3
   },
   "file_extension": ".py",
   "mimetype": "text/x-python",
   "name": "python",
   "nbconvert_exporter": "python",
   "pygments_lexer": "ipython3",
   "version": "3.6.4"
  }
 },
 "nbformat": 4,
 "nbformat_minor": 2
}
