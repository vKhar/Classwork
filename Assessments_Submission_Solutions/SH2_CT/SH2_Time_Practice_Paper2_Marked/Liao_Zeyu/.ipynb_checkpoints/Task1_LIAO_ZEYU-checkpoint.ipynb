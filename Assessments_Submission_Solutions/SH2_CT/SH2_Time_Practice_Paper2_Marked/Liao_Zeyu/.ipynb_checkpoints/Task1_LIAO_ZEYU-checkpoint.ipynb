{
 "cells": [
  {
   "cell_type": "code",
   "execution_count": 40,
   "metadata": {},
   "outputs": [],
   "source": [
    "import string\n",
    "def hex2Str(hex_str):\n",
    "    ret=[]\n",
    "    ret1=''\n",
    "    for i in range(len(hex_str)):\n",
    "        if i%2!=0:\n",
    "            ret.append(int(hex_str[i-1:i+1], 16))\n",
    "    for i in ret:\n",
    "        ret1=ret1+chr(i)\n",
    "    return ret1"
   ]
  },
  {
   "cell_type": "code",
   "execution_count": 46,
   "metadata": {
    "scrolled": true
   },
   "outputs": [
    {
     "name": "stdout",
     "output_type": "stream",
     "text": [
      "['1,DAGGER', '2,MACE', '3,SLING', '4,BOW', '5,+2 BOW', '6,+4 BOW', '7,EXOTIC WEAPON', '8,AXE', '9,SWORD', '10,2H SWORD', '11,+2 AXE', '12,+2 SWORD', '13,GLOVES', '14,+4 AXE', '15,+4 SWORD', '16,CLOTH', '17,LEATHER', '18,CHAIN', '19,PLATE', '20,+2 CHAIN', '21,+2 PLATE', '22,EXOTIC', '23,TORCHES', '24,KEYS', '25,GEMS', '26,POWDER', '27,HORSE', '28,FOOD', '29,MARK OF SNAKE', '30,MARK OF FORCE', '31,MARK OF FIRE', '32,MARK OF KINGS', '33,LORD OF TIME', '34,DEATH CARD', '35,SOL CARD', '36,LOVE CARD', '37,MOONS CARD']\n"
     ]
    }
   ],
   "source": [
    "with open(\"ITEMS.txt\") as f:\n",
    "    fs=f.read()\n",
    "    rawDat=hex2Str(fs)\n",
    "    itemList=rawDat.split(\"\\n\")[0:-1]\n",
    "    print(itemList)"
   ]
  },
  {
   "cell_type": "code",
   "execution_count": 54,
   "metadata": {},
   "outputs": [
    {
     "name": "stdout",
     "output_type": "stream",
     "text": [
      "['Aragon', 'Ranger', '20', '25', '20', '76525', '15', '5', '20', '23', '24', '28', '27']\n",
      "['Freya', 'Fighter', '30', '15', '15', '65270', '10', '21', '27', '30', '32']\n",
      "['Loki', 'Mage', '15', '25', '25', '91435', '7', '22', '25', '26', '27', '29', '33', '34']\n",
      "['Bane', 'Deathknight', '25', '25', '15', '59250', '15', '21', '27', '37']\n",
      "[['Aragon', 'Ranger', '20', '25', '20', '76525', '15', '5', '20', '23', '24', '28', '27'], ['Freya', 'Fighter', '30', '15', '15', '65270', '10', '21', '27', '30', '32'], ['Loki', 'Mage', '15', '25', '25', '91435', '7', '22', '25', '26', '27', '29', '33', '34'], ['Bane', 'Deathknight', '25', '25', '15', '59250', '15', '21', '27', '37']]\n"
     ]
    }
   ],
   "source": [
    "with open(\"CHARACTERS.txt\") as f:\n",
    "    fs=f.read()\n",
    "    rawDat=hex2Str(fs)\n",
    "    itemList=rawDat.split(\"\\n\")[0:-1]\n",
    "    new=[]\n",
    "    for i in range(len(itemList)):\n",
    "        if i%2!=0:\n",
    "            tmp=itemList[i-1].split(',')+itemList[i].split(',')\n",
    "            print(tmp)\n",
    "            new.append(tmp)\n",
    "    print(new)"
   ]
  },
  {
   "cell_type": "code",
   "execution_count": 61,
   "metadata": {},
   "outputs": [
    {
     "data": {
      "text/plain": [
       "[]"
      ]
     },
     "execution_count": 61,
     "metadata": {},
     "output_type": "execute_result"
    }
   ],
   "source": [
    "import pymongo\n",
    "db=pymongo.MongoClient('localhost', 27017)['Overwatch']['Characters']\n",
    "for i in new:\n",
    "    tmp={\"name\":i[0]\n",
    "         \"class\":i[1]\n",
    "         \"str\":i[2]\n",
    "         \"dex\":i[3]\n",
    "         \"int\":i[4]\n",
    "         \"xp\":i[5]\n",
    "         \n",
    "        \n",
    "    }"
   ]
  },
  {
   "cell_type": "code",
   "execution_count": null,
   "metadata": {},
   "outputs": [],
   "source": []
  }
 ],
 "metadata": {
  "kernelspec": {
   "display_name": "Python 3",
   "language": "python",
   "name": "python3"
  },
  "language_info": {
   "codemirror_mode": {
    "name": "ipython",
    "version": 3
   },
   "file_extension": ".py",
   "mimetype": "text/x-python",
   "name": "python",
   "nbconvert_exporter": "python",
   "pygments_lexer": "ipython3",
   "version": "3.6.4"
  }
 },
 "nbformat": 4,
 "nbformat_minor": 2
}
