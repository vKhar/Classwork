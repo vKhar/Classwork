{
 "cells": [
  {
   "cell_type": "code",
   "execution_count": 1,
   "metadata": {},
   "outputs": [],
   "source": [
    "#2.1\n",
    "class HashTable:\n",
    "    def __init__(self, n):\n",
    "        self.arr=[None for i in range(n)]\n",
    "        self.size=n\n",
    "    def hasher(self, key):\n",
    "        sum=0\n",
    "        for i in range(len(key)):\n",
    "            sum+=ord(key[i])*(i+1)\n",
    "        return sum%self.size\n",
    "    def insert(self, key, value):\n",
    "        if self.arr[self.hasher(key)]==None:\n",
    "            self.arr[self.hasher(key)]=(key, value)\n",
    "        else:\n",
    "            probe=self.hasher(key)+1\n",
    "            while probe%self.size!=self.hasher(key):\n",
    "                if self.arr[probe%self.size]==None:\n",
    "                    self.arr[probe%self.size]=(key, value)\n",
    "                    return True\n",
    "                else:\n",
    "                    probe+1\n",
    "            return False\n",
    "    def find(self, key):\n",
    "        if self.arr[self.hasher(key)][0]==key:\n",
    "            return self.arr[self.hasher(key)][1]\n",
    "        else:\n",
    "            probe=self.hasher(key)+1\n",
    "            while probe%self.size!=self.hasher(key):\n",
    "                if self.arr[probe%self.size][0]==key:\n",
    "                    return self.arr[probe%self.size][1]\n",
    "                else:\n",
    "                    probe+1\n",
    "            return None\n",
    "    def __repr__(self):\n",
    "        ret='['\n",
    "        for i in range(len(self.arr)):\n",
    "            ret+=f\"{i}:{self.arr[i]}, \"\n",
    "        ret=ret+']'\n",
    "        return ret"
   ]
  },
  {
   "cell_type": "code",
   "execution_count": 2,
   "metadata": {},
   "outputs": [
    {
     "name": "stdout",
     "output_type": "stream",
     "text": [
      "[0:('sch.org', 'school'), 1:('www.co', 'web'), 2:('ai.net', 'sky net'), ]\n",
      "web\n",
      "sky net\n"
     ]
    }
   ],
   "source": [
    "#2.2\n",
    "table=HashTable(3)\n",
    "table.insert('www.co', 'web')\n",
    "table.insert('sch.org', 'school')\n",
    "table.insert('ai.net', 'sky net')\n",
    "print(table)\n",
    "print(table.find('www.co'))\n",
    "print(table.find('ai.net'))"
   ]
  },
  {
   "cell_type": "code",
   "execution_count": 3,
   "metadata": {},
   "outputs": [],
   "source": [
    "#2.3\n",
    "class OrderedHashTable(HashTable):\n",
    "    def __init__(self, n):\n",
    "        self.arr=[None for i in range(n)]\n",
    "        self.size=n\n",
    "        self.head=-1\n",
    "    def insert(self, key, value):\n",
    "        if self.arr[self.hasher(key)]==None:\n",
    "            self.arr[self.hasher(key)]=(key, value, None)\n",
    "            if self.head==-1:\n",
    "                self.head=self.hasher(key)\n",
    "            else:\n",
    "                start=self.head\n",
    "                while start!=None:\n",
    "                    last=start\n",
    "                    start=self.arr[start][2]\n",
    "                a=list(self.arr[last])\n",
    "                a[2]=self.hasher(key)\n",
    "                self.arr[last]=tuple(a)\n",
    "        else:\n",
    "            probe=self.hasher(key)+1\n",
    "            while probe%self.size!=self.hasher(key):\n",
    "                if self.arr[probe%self.size]==None:\n",
    "                    self.arr[probe%self.size]=(key, value, None)\n",
    "                    if self.head==-1:\n",
    "                        self.head=probe%self.size\n",
    "                    else:\n",
    "                        start=self.head\n",
    "                        while start!=None:\n",
    "                            last=start\n",
    "                            start=self.arr[start][2]\n",
    "                        a=list(self.arr[last])\n",
    "                        a[2]=probe%self.size\n",
    "                        self.arr[last]=tuple(a)\n",
    "                    return True\n",
    "                else:\n",
    "                    probe+1\n",
    "            return False\n",
    "    def keys(self):\n",
    "        ret=[]\n",
    "        start=self.head\n",
    "        while start!=None:\n",
    "            ret.append(self.arr[start][0])\n",
    "            start=self.arr[start][2]\n",
    "        return ret"
   ]
  },
  {
   "cell_type": "code",
   "execution_count": 4,
   "metadata": {
    "scrolled": true
   },
   "outputs": [
    {
     "name": "stdout",
     "output_type": "stream",
     "text": [
      "['www.hi.cc', 'ppp.me', 'njc.sch']\n"
     ]
    }
   ],
   "source": [
    "#2.4\n",
    "hashT=OrderedHashTable(10)\n",
    "hashT.insert('www.hi.cc', 'Hello World')\n",
    "hashT.insert('ppp.me', 'test site')\n",
    "hashT.insert('njc.sch', 'school')\n",
    "print(hashT.keys())"
   ]
  },
  {
   "cell_type": "code",
   "execution_count": 5,
   "metadata": {},
   "outputs": [],
   "source": [
    "def load_cache(ht):\n",
    "    with open(\"CACHE.txt\") as f:\n",
    "        content=f.readlines()\n",
    "        cleaned=[]\n",
    "        for i in content:\n",
    "            data=i.strip().split(',')\n",
    "            cleaned.append(data)\n",
    "        print(cleaned)\n",
    "        for i in cleaned:\n",
    "            print('1')\n",
    "            ht.insert(i[0], i[1])\n",
    "            print(ht)"
   ]
  },
  {
   "cell_type": "code",
   "execution_count": null,
   "metadata": {
    "scrolled": true
   },
   "outputs": [
    {
     "name": "stdout",
     "output_type": "stream",
     "text": [
      "[['cmn.com', '<html>CMN the only real news </html>'], ['njc.sch.sg', 'Service with Honour'], ['chit.chat.org', '<b>Talking AI &lt; <b>'], ['farm.net', '\"apple', 'oranges', 'pears\"'], ['tt.t', 'test']]\n",
      "1\n",
      "[0:None, 1:('cmn.com', '<html>CMN the only real news </html>', None), 2:None, 3:None, 4:None, 5:None, ]\n",
      "1\n",
      "[0:None, 1:('cmn.com', '<html>CMN the only real news </html>', 3), 2:None, 3:('njc.sch.sg', 'Service with Honour', None), 4:None, 5:None, ]\n",
      "1\n",
      "[0:None, 1:('cmn.com', '<html>CMN the only real news </html>', 3), 2:('chit.chat.org', '<b>Talking AI &lt; <b>', None), 3:('njc.sch.sg', 'Service with Honour', 2), 4:None, 5:None, ]\n",
      "1\n",
      "[0:None, 1:('cmn.com', '<html>CMN the only real news </html>', 3), 2:('chit.chat.org', '<b>Talking AI &lt; <b>', 5), 3:('njc.sch.sg', 'Service with Honour', 2), 4:None, 5:('farm.net', '\"apple', None), ]\n",
      "1\n"
     ]
    }
   ],
   "source": [
    "table=OrderedHashTable(6)\n",
    "load_cache(table)\n",
    "print(table)"
   ]
  },
  {
   "cell_type": "code",
   "execution_count": null,
   "metadata": {},
   "outputs": [],
   "source": []
  }
 ],
 "metadata": {
  "kernelspec": {
   "display_name": "Python 3",
   "language": "python",
   "name": "python3"
  },
  "language_info": {
   "codemirror_mode": {
    "name": "ipython",
    "version": 3
   },
   "file_extension": ".py",
   "mimetype": "text/x-python",
   "name": "python",
   "nbconvert_exporter": "python",
   "pygments_lexer": "ipython3",
   "version": "3.6.4"
  }
 },
 "nbformat": 4,
 "nbformat_minor": 2
}
