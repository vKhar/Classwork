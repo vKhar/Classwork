{
 "cells": [
  {
   "cell_type": "code",
   "execution_count": null,
   "metadata": {},
   "outputs": [],
   "source": [
    "## Task 2.1\n",
    "class HashTable :\n",
    "    def __init__(self, n) :\n",
    "        self.n = [None for _ in range(n)]\n",
    "    def hasher(self, key) :\n",
    "        sum = 0\n",
    "        for i in range(len(key)) :\n",
    "            sum += ord(key[i])*(i+1)\n",
    "        return sum%len(self.n)\n",
    "    def insert(self, key, value) :\n",
    "        index = self.hasher(key)\n",
    "        if self.n[index] == None :\n",
    "            self.n[index] = (key,value)\n",
    "        else :\n",
    "            i = (index+1)%len(self.n)\n",
    "            while i != index :\n",
    "                if self.n[i] == None :\n",
    "                    self.n[i] = (key, value)\n",
    "                    return True\n",
    "                i = (i+1)%len(self.n)\n",
    "            return False\n",
    "    def __repr__(self) :\n",
    "        ret = ''\n",
    "        for i in range(len(self.n)) :\n",
    "            if self.n[i] != self.n[-1] :\n",
    "                ret += f\"{i} : {self.n[i]} , \"\n",
    "            else :\n",
    "                ret += f\"{i} : {self.n[i]}\"\n",
    "        return \"[\" + ret + \"]\""
   ]
  },
  {
   "attachments": {},
   "cell_type": "markdown",
   "metadata": {},
   "source": [
    "- line 25 - 28: you can just truncate the last ',' using ret[:-1]\n",
    "- find ? -6m\n",
    "- [11]"
   ]
  },
  {
   "cell_type": "code",
   "execution_count": null,
   "metadata": {},
   "outputs": [],
   "source": [
    "## task 2.2\n",
    "hh = HashTable(13)\n",
    "hh.insert('www.co', 'web')\n",
    "hh.insert('sch.org','school')\n",
    "hh.insert('ai.net','sky net')\n",
    "print(hh)"
   ]
  },
  {
   "attachments": {},
   "cell_type": "markdown",
   "metadata": {},
   "source": [
    "[1]"
   ]
  },
  {
   "cell_type": "code",
   "execution_count": null,
   "metadata": {},
   "outputs": [],
   "source": [
    "# task 2.3\n",
    "class Node :\n",
    "    def __init__(self, data) :\n",
    "        self.data = data\n",
    "        self.next = -1\n",
    "    def __repr__(self) :\n",
    "        return f\"{self.data}\"\n",
    "\n",
    "class OrderedHashTable(HashTable) :\n",
    "    def __init__(self, n) :\n",
    "        super().__init__(n)\n",
    "        self.head = -1\n",
    "    def keys(self) :\n",
    "        ret = []\n",
    "        tmp = self.head\n",
    "        while tmp.next != -1 :\n",
    "            ret.append(tmp)\n",
    "            tmp = tmp.next\n",
    "        ret.append(tmp)\n",
    "        return ret\n",
    "    def insert(self, key, value) :\n",
    "        index = self.hasher(key)\n",
    "        if self.n[index] == None :\n",
    "            self.n[index] = (key,value)\n",
    "            if self.head == -1 :\n",
    "                self.head = Node(self.n[index])\n",
    "            else :\n",
    "                tmp = self.head\n",
    "                while tmp.next != -1 :\n",
    "                    tmp = tmp.next\n",
    "                tmp.next = Node(self.n[index])\n",
    "            return True\n",
    "        else :\n",
    "            i = (index+1)%len(self.n)\n",
    "            while i != index :\n",
    "                if self.n[i] == None :\n",
    "                    self.n[i] = (key, value)\n",
    "                    if self.head == -1 :\n",
    "                        self.head = Node(self.n[i])\n",
    "                    else :\n",
    "                        tmp = self.head\n",
    "                        while tmp.next != -1 :\n",
    "                            tmp = tmp.next\n",
    "                        tmp.next = Node(self.n[i])\n",
    "                        tmp.next.next = -1\n",
    "                    return True\n",
    "                i = (i+1)%len(self.n)\n",
    "            return False\n",
    "        \n",
    "        "
   ]
  },
  {
   "attachments": {},
   "cell_type": "markdown",
   "metadata": {},
   "source": [
    "- line 45 is not necessary, already init in Node()\n",
    "- keys() is supposed to returned only the keys not the tuples -1m\n",
    "- [9]"
   ]
  },
  {
   "cell_type": "code",
   "execution_count": null,
   "metadata": {},
   "outputs": [],
   "source": [
    "# task 2.4\n",
    "hh1 = OrderedHashTable(13)\n",
    "hh1.insert('www.co', 'web')\n",
    "hh1.insert('sch.org','school')\n",
    "hh1.insert('ai.net','sky net')\n",
    "hh1.keys()"
   ]
  },
  {
   "attachments": {},
   "cell_type": "markdown",
   "metadata": {},
   "source": [
    "[1]"
   ]
  },
  {
   "cell_type": "code",
   "execution_count": null,
   "metadata": {},
   "outputs": [],
   "source": [
    "# task 2.5\n",
    "\n",
    "#a\n",
    "import csv\n",
    "def load_cache(ht) :\n",
    "    cache = list(csv.reader(open(\"CACHE.txt\",\"r\")))\n",
    "    for line in cache :\n",
    "        ht.insert(line[0],line[1])\n",
    "    return \"Loaded Cache!\"\n",
    "\n",
    "#b\n",
    "hashtable = OrderedHashTable(6)\n",
    "load_cache(hashtable)\n",
    "print(hashtable)\n",
    "\n",
    "#c\n",
    "\n",
    "def browse(url, cache) :\n",
    "    list_cache = list(cache.keys())\n",
    "    found = False\n",
    "    for i in list_cache :\n",
    "        if i.data[0] == url :\n",
    "            found = True\n",
    "            return i.data[1]\n",
    "    if found == False :\n",
    "        internet = csv.reader(open(\"INTERNET.TXT\",\"r\"))\n",
    "        for i in internet :\n",
    "            if i[0]==url :\n",
    "                cache.insert(i[0],i[1])\n",
    "                return i[1]\n",
    "        return \"404 NOT FOUND\"\n",
    "    \n",
    "\n",
    "#d\n",
    "browse(\"farm.net\", hashtable)\n",
    "\n",
    "\n",
    "#f\n",
    "def clear_cache(cache) :\n",
    "    cache = OrderedHashTable(len(cache.n))\n",
    "    return cache\n",
    "\n",
    "clear_cache(hashtable)"
   ]
  },
  {
   "cell_type": "code",
   "execution_count": null,
   "metadata": {},
   "outputs": [],
   "source": [
    "browse(\"farm.net\", hashtable)"
   ]
  },
  {
   "cell_type": "code",
   "execution_count": null,
   "metadata": {},
   "outputs": [],
   "source": [
    "hashtable = OrderedHashTable(6)\n",
    "load_cache(hashtable)\n",
    "print(hashtable)"
   ]
  },
  {
   "attachments": {},
   "cell_type": "markdown",
   "metadata": {},
   "source": [
    "#a [2]\n",
    "\n",
    "#b [1]\n",
    "\n",
    "#c [4]\n",
    "\n",
    "- line 19 , keys() alreday returned a list !?\n",
    "- why do you need a found variable when you already return after found ??!!\n",
    "#d [1]\n",
    "\n",
    "#e [0]\n",
    "\n",
    "#f [0]\n",
    "- you need to assign hashtable to the return value of clear_cache()\n",
    "- [7]\n",
    "\n",
    "Total 29/40\n"
   ]
  }
 ],
 "metadata": {
  "kernelspec": {
   "display_name": "Python 3",
   "language": "python",
   "name": "python3"
  },
  "language_info": {
   "codemirror_mode": {
    "name": "ipython",
    "version": 3
   },
   "file_extension": ".py",
   "mimetype": "text/x-python",
   "name": "python",
   "nbconvert_exporter": "python",
   "pygments_lexer": "ipython3",
   "version": "3.6.4"
  }
 },
 "nbformat": 4,
 "nbformat_minor": 2
}
