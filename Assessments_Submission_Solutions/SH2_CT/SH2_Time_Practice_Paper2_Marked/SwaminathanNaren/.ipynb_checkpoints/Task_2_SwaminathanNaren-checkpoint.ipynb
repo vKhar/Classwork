{
 "cells": [
  {
   "cell_type": "code",
   "execution_count": 89,
   "metadata": {},
   "outputs": [],
   "source": [
    "## Task 2.1\n",
    "class HashTable :\n",
    "    def __init__(self, n) :\n",
    "        self.n = [None for _ in range(n)]\n",
    "    def hasher(self, key) :\n",
    "        sum = 0\n",
    "        for i in range(len(key)) :\n",
    "            sum += ord(key[i])*(i+1)\n",
    "        return sum%len(self.n)\n",
    "    def insert(self, key, value) :\n",
    "        index = self.hasher(key)\n",
    "        if self.n[index] == None :\n",
    "            self.n[index] = (key,value)\n",
    "        else :\n",
    "            i = (index+1)%len(self.n)\n",
    "            while i != index :\n",
    "                if self.n[i] == None :\n",
    "                    self.n[i] = (key, value)\n",
    "                    return True\n",
    "                i = (i+1)%len(self.n)\n",
    "            return False\n",
    "    def __repr__(self) :\n",
    "        ret = ''\n",
    "        for i in range(len(self.n)) :\n",
    "            if self.n[i] != self.n[-1] :\n",
    "                ret += f\"{i} : {self.n[i]} , \"\n",
    "            else :\n",
    "                ret += f\"{i} : {self.n[i]}\"\n",
    "        return \"[\" + ret + \"]\""
   ]
  },
  {
   "cell_type": "code",
   "execution_count": 90,
   "metadata": {},
   "outputs": [
    {
     "name": "stdout",
     "output_type": "stream",
     "text": [
      "[0 : ('sch.org', 'school') , 1 : ('www.co', 'web') , 2 : ('ai.net', 'sky net')]\n"
     ]
    }
   ],
   "source": [
    "## task 2.2\n",
    "hh = HashTable(3)\n",
    "hh.insert('www.co', 'web')\n",
    "hh.insert('sch.org','school')\n",
    "hh.insert('ai.net','sky net')\n",
    "print(hh)"
   ]
  },
  {
   "cell_type": "code",
   "execution_count": 94,
   "metadata": {},
   "outputs": [],
   "source": [
    "# task 2.3\n",
    "class Node :\n",
    "    def __init__(self, data) :\n",
    "        self.data = data\n",
    "        self.next = -1\n",
    "    def __repr__(self) :\n",
    "        return f\"{self.data}\"\n",
    "\n",
    "class OrderedHashTable(HashTable) :\n",
    "    def __init__(self, n) :\n",
    "        super().__init__(n)\n",
    "        self.head = -1\n",
    "    def keys(self) :\n",
    "        ret = []\n",
    "        tmp = self.head\n",
    "        while tmp.next != -1 :\n",
    "            ret.append(tmp)\n",
    "            tmp = tmp.next\n",
    "        ret.append(tmp)\n",
    "        return ret\n",
    "    def insert(self, key, value) :\n",
    "        index = self.hasher(key)\n",
    "        if self.n[index] == None :\n",
    "            self.n[index] = (key,value)\n",
    "            if self.head == -1 :\n",
    "                self.head = Node(self.n[index])\n",
    "            else :\n",
    "                tmp = self.head\n",
    "                while tmp.next != -1 :\n",
    "                    tmp = tmp.next\n",
    "                tmp.next = Node(self.n[index])\n",
    "            return True\n",
    "        else :\n",
    "            i = (index+1)%len(self.n)\n",
    "            while i != index :\n",
    "                if self.n[i] == None :\n",
    "                    self.n[i] = (key, value)\n",
    "                    if self.head == -1 :\n",
    "                        self.head = Node(self.n[i])\n",
    "                    else :\n",
    "                        tmp = self.head\n",
    "                        while tmp.next != -1 :\n",
    "                            tmp = tmp.next\n",
    "                        tmp.next = Node(self.n[i])\n",
    "                        tmp.next.next = -1\n",
    "                    return True\n",
    "                i = (i+1)%len(self.n)\n",
    "            return False\n",
    "        \n",
    "        "
   ]
  },
  {
   "cell_type": "code",
   "execution_count": 95,
   "metadata": {},
   "outputs": [
    {
     "data": {
      "text/plain": [
       "[('www.co', 'web'), ('sch.org', 'school'), ('ai.net', 'sky net')]"
      ]
     },
     "execution_count": 95,
     "metadata": {},
     "output_type": "execute_result"
    }
   ],
   "source": [
    "# task 2.4\n",
    "hh1 = OrderedHashTable(3)\n",
    "hh1.insert('www.co', 'web')\n",
    "hh1.insert('sch.org','school')\n",
    "hh1.insert('ai.net','sky net')\n",
    "hh1.keys()"
   ]
  },
  {
   "cell_type": "code",
   "execution_count": 107,
   "metadata": {},
   "outputs": [
    {
     "name": "stdout",
     "output_type": "stream",
     "text": [
      "[0 : None , 1 : ('cmn.com', '<html>CMN the only real news </html>') , 2 : ('chit.chat.org', '<b>Talking AI &lt; <b>') , 3 : ('njc.sch.sg', 'Service with Honour') , 4 : ('tt.t', 'test') , 5 : ('farm.net', 'apple,oranges,pears')]\n"
     ]
    },
    {
     "data": {
      "text/plain": [
       "[0 : None1 : None2 : None3 : None4 : None5 : None]"
      ]
     },
     "execution_count": 107,
     "metadata": {},
     "output_type": "execute_result"
    }
   ],
   "source": [
    "# task 2.5\n",
    "\n",
    "#a\n",
    "import csv\n",
    "def load_cache(ht) :\n",
    "    cache = list(csv.reader(open(\"CACHE.txt\",\"r\")))\n",
    "    for line in cache :\n",
    "        ht.insert(line[0],line[1])\n",
    "    return \"Loaded Cache!\"\n",
    "\n",
    "#b\n",
    "hashtable = OrderedHashTable(6)\n",
    "load_cache(hashtable)\n",
    "print(hashtable)\n",
    "\n",
    "#c\n",
    "\n",
    "def browse(url, cache) :\n",
    "    list_cache = list(cache.keys())\n",
    "    found = False\n",
    "    for i in list_cache :\n",
    "        if i.data[0] == url :\n",
    "            found = True\n",
    "            return i.data[1]\n",
    "    if found == False :\n",
    "        internet = csv.reader(open(\"INTERNET.TXT\",\"r\"))\n",
    "        for i in internet :\n",
    "            if i[0]==url :\n",
    "                cache.insert(i[0],i[1])\n",
    "                return i[1]\n",
    "        return \"404 NOT FOUND\"\n",
    "    \n",
    "\n",
    "#d\n",
    "browse(\"farm.net\", hashtable)\n",
    "\n",
    "\n",
    "#f\n",
    "def clear_cache(cache) :\n",
    "    cache = OrderedHashTable(len(cache.n))\n",
    "    return cache\n",
    "\n",
    "clear_cache(hashtable)"
   ]
  },
  {
   "cell_type": "code",
   "execution_count": 75,
   "metadata": {},
   "outputs": [
    {
     "name": "stdout",
     "output_type": "stream",
     "text": [
      "[('cmn.com', '<html>CMN the only real news </html>'), ('njc.sch.sg', 'Service with Honour'), ('chit.chat.org', '<b>Talking AI &lt; <b>'), ('farm.net', 'apple,oranges,pears'), ('tt.t', 'test')]\n",
      "None\n"
     ]
    }
   ],
   "source": [
    "hashtable = OrderedHashTable(6)\n",
    "load_cache(hashtable)\n",
    "print(hashtable)"
   ]
  },
  {
   "cell_type": "code",
   "execution_count": null,
   "metadata": {},
   "outputs": [],
   "source": []
  }
 ],
 "metadata": {
  "kernelspec": {
   "display_name": "Python 3",
   "language": "python",
   "name": "python3"
  },
  "language_info": {
   "codemirror_mode": {
    "name": "ipython",
    "version": 3
   },
   "file_extension": ".py",
   "mimetype": "text/x-python",
   "name": "python",
   "nbconvert_exporter": "python",
   "pygments_lexer": "ipython3",
   "version": "3.6.4"
  }
 },
 "nbformat": 4,
 "nbformat_minor": 2
}
