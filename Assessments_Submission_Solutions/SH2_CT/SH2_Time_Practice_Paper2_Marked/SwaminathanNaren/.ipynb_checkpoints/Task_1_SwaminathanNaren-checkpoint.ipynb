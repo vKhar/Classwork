{
 "cells": [
  {
   "cell_type": "code",
   "execution_count": 55,
   "metadata": {},
   "outputs": [
    {
     "data": {
      "text/plain": [
       "'ABC,1,15\\n'"
      ]
     },
     "execution_count": 55,
     "metadata": {},
     "output_type": "execute_result"
    }
   ],
   "source": [
    "## Task 1.1\n",
    "\n",
    "hex2str = {}\n",
    "for i in range(ord(\"z\")+1) :## assume no characters with ascii value above ord(\"z\") is present\n",
    "    if len(str(hex(i)[2:])) == 1:\n",
    "        hex2str[f\"0{str(hex(i)[2:])}\"] = i\n",
    "    else :\n",
    "        hex2str[f\"{str(hex(i)[2:])}\"] = i\n",
    "\n",
    "def hex2Str(hex_str) :\n",
    "    ret = \"\"\n",
    "    for charindex in range(0,len(hex_str), 2) :\n",
    "        ret += chr(hex2str[f\"{hex_str[charindex]}{hex_str[charindex+1]}\"])\n",
    "    return ret\n",
    "\n",
    "hex2Str(\"4142432c312c31350a\")"
   ]
  },
  {
   "cell_type": "code",
   "execution_count": 86,
   "metadata": {},
   "outputs": [
    {
     "name": "stdout",
     "output_type": "stream",
     "text": [
      "1 DAGGER\n",
      "2 MACE\n",
      "3 SLING\n",
      "4 BOW\n",
      "5 +2 BOW\n",
      "6 +4 BOW\n",
      "7 EXOTIC WEAPON\n",
      "8 AXE\n",
      "9 SWORD\n",
      "10 2H SWORD\n",
      "11 +2 AXE\n",
      "12 +2 SWORD\n",
      "13 GLOVES\n",
      "14 +4 AXE\n",
      "15 +4 SWORD\n",
      "16 CLOTH\n",
      "17 LEATHER\n",
      "18 CHAIN\n",
      "19 PLATE\n",
      "20 +2 CHAIN\n",
      "21 +2 PLATE\n",
      "22 EXOTIC\n",
      "23 TORCHES\n",
      "24 KEYS\n",
      "25 GEMS\n",
      "26 POWDER\n",
      "27 HORSE\n",
      "28 FOOD\n",
      "29 MARK OF SNAKE\n",
      "30 MARK OF FORCE\n",
      "31 MARK OF FIRE\n",
      "32 MARK OF KINGS\n",
      "33 LORD OF TIME\n",
      "34 DEATH CARD\n",
      "35 SOL CARD\n",
      "36 LOVE CARD\n",
      "37 MOONS CARD\n"
     ]
    }
   ],
   "source": [
    "## task 1.2\n",
    "\n",
    "\n",
    "file = open(\"ITEMS.TXT\",\"r\")\n",
    "itemsinfile = hex2Str(file.read()).split('\\n')\n",
    "file.close()\n",
    "\n",
    "items = {}\n",
    "\n",
    "for i in itemsinfile :\n",
    "    if len(i.split(',')) == 2:\n",
    "        items[i.split(',')[0]] = i.split(',')[-1]\n",
    "\n",
    "for item in items :\n",
    "    print(item, items[item])"
   ]
  },
  {
   "cell_type": "code",
   "execution_count": 115,
   "metadata": {},
   "outputs": [
    {
     "name": "stdout",
     "output_type": "stream",
     "text": [
      "     Name        Class Str Dex Int     XP                            Items\n",
      "0  Aragon       Ranger  20  25  20  76525      [15, 5, 20, 23, 24, 28, 27]\n",
      "1   Freya      Fighter  30  15  15  65270             [10, 21, 27, 30, 32]\n",
      "2    Loki         Mage  15  25  25  91435  [7, 22, 25, 26, 27, 29, 33, 34]\n",
      "3    Bane  Deathknight  25  25  15  59250                 [15, 21, 27, 37]\n"
     ]
    }
   ],
   "source": [
    "#task1.3\n",
    "import pandas as pd\n",
    "file = open(\"CHARACTERS.TXT\",\"r\")\n",
    "charinfile = hex2Str(file.read())#.split('\\n')\n",
    "file.close()\n",
    "\n",
    "characters = {\"Name\" : [],\n",
    "             \"Class\" : [],\n",
    "             \"Str\" : [],\n",
    "             \"Dex\" : [],\n",
    "             \"Int\" : [],\n",
    "             \"XP\" : [],\n",
    "             \"Items\": []}\n",
    "\n",
    "for i in range(0, len(charinfile.split('\\n')),2) :    \n",
    "    char_attributes = charinfile.split('\\n')[i:i+2]#.split(',')\n",
    "    if len(char_attributes) > 1 :\n",
    "        char = char_attributes[0].split(',')\n",
    "        characters['Name'].append(f\"{char[0]}\")\n",
    "        characters['Class'].append(char[1])\n",
    "        characters['Str'].append(char[2])\n",
    "        characters['Dex'].append(char[3])\n",
    "        characters['Int'].append(char[4])\n",
    "        characters['XP'].append(char[5])\n",
    "        characters['Items'].append(char_attributes[1].split(','))\n",
    "\n",
    "character_data = pd.DataFrame(characters)\n",
    "print(character_data)\n"
   ]
  },
  {
   "cell_type": "code",
   "execution_count": 116,
   "metadata": {},
   "outputs": [],
   "source": [
    "import pymongo\n",
    "db = pymongo.MongoClient('localhost', 27017)"
   ]
  },
  {
   "cell_type": "code",
   "execution_count": null,
   "metadata": {},
   "outputs": [],
   "source": []
  }
 ],
 "metadata": {
  "kernelspec": {
   "display_name": "Python 3",
   "language": "python",
   "name": "python3"
  },
  "language_info": {
   "codemirror_mode": {
    "name": "ipython",
    "version": 3
   },
   "file_extension": ".py",
   "mimetype": "text/x-python",
   "name": "python",
   "nbconvert_exporter": "python",
   "pygments_lexer": "ipython3",
   "version": "3.6.4"
  }
 },
 "nbformat": 4,
 "nbformat_minor": 2
}
