{
 "cells": [
  {
   "cell_type": "code",
   "execution_count": null,
   "metadata": {},
   "outputs": [],
   "source": [
    "#task 3.1\n",
    "def inplaceMerge(A, start, mid, end):\n",
    "    left = start\n",
    "    right = mid+1\n",
    "    \n",
    "    while left<right and right <= end:\n",
    "        if A[left] <= A[right]:\n",
    "            left += 1\n",
    "        else:\n",
    "            index = right\n",
    "            tmp = A[right]\n",
    "            while index > left:\n",
    "                A[index],A[index-1] = A[index -1],A[index]\n",
    "                index -= 1\n",
    "            left +=1\n",
    "            right +=1\n",
    "    return A\n",
    "def inplaceMergeWrapper(A):\n",
    "    return inplaceMerge(A,0,len(A)//2-1,len(A)-1)\n",
    "                \n",
    "            "
   ]
  },
  {
   "attachments": {},
   "cell_type": "markdown",
   "metadata": {},
   "source": [
    "- line 13 not the same as pseudo code \n",
    "- [2]"
   ]
  },
  {
   "cell_type": "code",
   "execution_count": null,
   "metadata": {},
   "outputs": [],
   "source": [
    "#task 3.2\n",
    "\n",
    "#valid\n",
    "print(inplaceMergeWrapper([1,3,5,7,2,4,6,8]))\n",
    "print(inplaceMergeWrapper([8,1]))\n",
    "#boundary\n",
    "print(inplaceMergeWrapper([]))\n",
    "#invalid\n",
    "print(inplaceMergeWrapper(2))"
   ]
  },
  {
   "attachments": {},
   "cell_type": "markdown",
   "metadata": {},
   "source": [
    "- line 7 is a invalid case\n",
    "- [1]"
   ]
  },
  {
   "cell_type": "code",
   "execution_count": null,
   "metadata": {},
   "outputs": [],
   "source": [
    "#task 3.3\n",
    "def mergeSortHelper(A,start,end):\n",
    "    if start >= end:\n",
    "        return\n",
    "    \n",
    "    \n",
    "    \n",
    "def mergeSort(A):\n",
    "    start = 0\n",
    "    end = len(A)-1\n",
    "    mergeSortHelper(A,start,end)"
   ]
  },
  {
   "attachments": {},
   "cell_type": "markdown",
   "metadata": {},
   "source": [
    "[0]\n",
    "\n",
    "3.4\n",
    "\n",
    "[0]\n",
    "\n",
    "Total\n",
    "4/11"
   ]
  }
 ],
 "metadata": {
  "kernelspec": {
   "display_name": "Python 3",
   "language": "python",
   "name": "python3"
  },
  "language_info": {
   "codemirror_mode": {
    "name": "ipython",
    "version": 3
   },
   "file_extension": ".py",
   "mimetype": "text/x-python",
   "name": "python",
   "nbconvert_exporter": "python",
   "pygments_lexer": "ipython3",
   "version": "3.6.4"
  }
 },
 "nbformat": 4,
 "nbformat_minor": 2
}
