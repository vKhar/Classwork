{
 "cells": [
  {
   "cell_type": "code",
   "execution_count": null,
   "metadata": {},
   "outputs": [],
   "source": [
    "#Task 2.1\n",
    "import random\n",
    "class HashTable:\n",
    "    def __init__(self,n):\n",
    "        self.arr = [None for i in range(n)]\n",
    "        self.size = n\n",
    "    \n",
    "    def hasher(self,key):\n",
    "        summ = 0\n",
    "        for i in range(len(key)-1):\n",
    "            summ += ord(key[i]) * (i+1) #uh welp sry\n",
    "        return summ%self.size\n",
    "    \n",
    "    def insert(self,key,val):\n",
    "        index = self.hasher(key)\n",
    "        data = (key,val)\n",
    "        for i in range(self.size):\n",
    "            if self.arr[index] == None:\n",
    "                self.arr[index] = data\n",
    "                return True\n",
    "            index = (index+1)%self.size\n",
    "        return False\n",
    "    \n",
    "    def find(self,key):\n",
    "        index =self.hasher(key)\n",
    "        for i in range(self.size):\n",
    "            if self.arr[index][0] == key:\n",
    "                return self.arr[index]\n",
    "            index = (index+1)%self.size\n",
    "        return None\n",
    "    \n",
    "    def __repr__(self):\n",
    "        ret = []\n",
    "        for i in range(self.size):\n",
    "            ret.append(f\"{i}:{self.arr[i]}\")\n",
    "        return str(ret)\n",
    "    \n",
    "                \n",
    "                \n",
    "            "
   ]
  },
  {
   "attachments": {},
   "cell_type": "markdown",
   "metadata": {},
   "source": [
    "- line 10: why range(len(key)-1) ?!! -1m\n",
    "- line 27 : what if self.arr[index] is None ?!! -1m\n",
    "- [15m]"
   ]
  },
  {
   "cell_type": "code",
   "execution_count": null,
   "metadata": {},
   "outputs": [],
   "source": [
    "#Task 2.2\n",
    "ht = HashTable(3)\n",
    "ht.insert(\"www.co\",\"web\")\n",
    "ht.insert(\"sch.org\",\"school\")\n",
    "ht.insert(\"ai.net\",\"sky net\")\n",
    "print(ht)\n",
    "print(ht.find(\"www.co\"))\n",
    "print(ht.find(\"ai.net\"))"
   ]
  },
  {
   "attachments": {},
   "cell_type": "markdown",
   "metadata": {},
   "source": [
    "- [2m]"
   ]
  },
  {
   "cell_type": "code",
   "execution_count": null,
   "metadata": {},
   "outputs": [],
   "source": [
    "#Task 2.3\n",
    "\n",
    "def OrderedHashTable(HashTable):\n",
    "    def __init__(self,n):\n",
    "        super().__init__(n)\n",
    "        self.head = -1\n",
    "        self.prev = None #index of previous\n",
    "        \n",
    "    def insert(self,key,val):\n",
    "        index = self.hasher(key)\n",
    "        data = [(key,val),-1] #data[1] is the index of the next data\n",
    "        if self.head == -1:\n",
    "            self.head = index\n",
    "            self.prev = index\n",
    "            \n",
    "        for i in range(self.size):\n",
    "            if self.arr[index] == None:\n",
    "                self.arr[self.prev][1] = index  \n",
    "                self.arr[index] = data\n",
    "                self.prev = index\n",
    "                return True\n",
    "            index = (index+1)%self.size\n",
    "        return False\n",
    "    \n",
    "    def keys():\n",
    "        ret = []\n",
    "        cur = self.head\n",
    "        while cur != -1:\n",
    "            ret.append(self.arr[cur][0][1])\n",
    "            cur = self.arr[cur][1]\n",
    "        return ret\n",
    "    \n",
    "    def find(self,key):\n",
    "        index =self.hasher(key)\n",
    "        for i in range(self.size):\n",
    "            if self.arr[index][0][0] == key:\n",
    "                return self.arr[index]\n",
    "            index = (index+1)%self.size\n",
    "        return None\n",
    "        \n",
    "    \n",
    "    def __repr__(self):\n",
    "        ret = []\n",
    "        for i in range(self.size):\n",
    "            ret.append(f\"{i}:{self.arr[i][0]}\")\n",
    "        return str(ret)"
   ]
  },
  {
   "attachments": {},
   "cell_type": "markdown",
   "metadata": {},
   "source": [
    "- OrderedHashTableis a class!!!! -1m\n",
    "- your self.prev is actually the tail not previous!\n",
    "- insert is very messy , you should seperate the code for inserting into hash table from the code to insert into linked list\n",
    "    - your empty slots in the array is None, you will be indexing a None value!! \n",
    "    - -3m\n",
    "\n",
    "- line 45 : indexing None values -1m\n",
    "- [4m]"
   ]
  },
  {
   "cell_type": "code",
   "execution_count": null,
   "metadata": {},
   "outputs": [],
   "source": [
    "ht1 = OrderedHashTable(4)\n",
    "print(ht1)\n",
    "ht1.insert(\"www.co\",\"web\")\n",
    "ht1.insert(\"sch.org\",\"school\")\n",
    "ht1.insert(\"ai.net\",\"sky net\")\n",
    "print(ht1)\n"
   ]
  },
  {
   "attachments": {},
   "cell_type": "markdown",
   "metadata": {},
   "source": [
    "-   no keys()\n",
    "-   [0m]"
   ]
  },
  {
   "cell_type": "code",
   "execution_count": null,
   "metadata": {},
   "outputs": [],
   "source": [
    "#Task 2.5\n",
    "def load_cache(ht):\n",
    "    f = open('CACHE.txt')\n",
    "    cache = []\n",
    "    for line in f:\n",
    "        data = line.strip().split(',')\n",
    "        if len(data) > 2:\n",
    "            data = data[:1] + [\",\".join(data[1:])]\n",
    "        cache.append(data)\n",
    "        \n",
    "    for i in cache:\n",
    "        ht.insert(i[0],i[1])\n",
    "    \n",
    "ht2 = OrderedHashTable(6)\n",
    "load_cache(ht2)\n",
    "print(ht2)\n",
    "\n",
    "def browse(url,cache):\n",
    "    if cache.find(url) == None:\n",
    "        f = open('internet.txt')\n",
    "        internet = []\n",
    "        for line in f:\n",
    "            data = line.strip().split(',')\n",
    "            if len(data) > 2:\n",
    "                data = data[:1] + [\",\".join(data[1:])]\n",
    "            internet.append(data)\n",
    "        for i in range(len(internet)):\n",
    "            if internet[i][0] == url:\n",
    "                cache.insert(internet[i][0],internet[i][1])\n",
    "                return internet[i][1]\n",
    "        return \"404 NOT FOUND\"\n",
    "    else:\n",
    "        return cache.find(url)[1]\n",
    "    \n",
    "    \n",
    "print(browse(farm.net,ht2))\n",
    "\n"
   ]
  },
  {
   "attachments": {},
   "cell_type": "markdown",
   "metadata": {},
   "source": [
    "-   can be done in 1 loop -1m\n",
    "-   line 33 , return wrong element, your data is [(),index] now -1m\n",
    "-   no clear cache , no history\n",
    "-   [5m]"
   ]
  },
  {
   "attachments": {},
   "cell_type": "markdown",
   "metadata": {},
   "source": [
    "Total\n",
    "\n",
    "26/40"
   ]
  }
 ],
 "metadata": {
  "kernelspec": {
   "display_name": "Python 3",
   "language": "python",
   "name": "python3"
  },
  "language_info": {
   "codemirror_mode": {
    "name": "ipython",
    "version": 3
   },
   "file_extension": ".py",
   "mimetype": "text/x-python",
   "name": "python",
   "nbconvert_exporter": "python",
   "pygments_lexer": "ipython3",
   "version": "3.6.4"
  }
 },
 "nbformat": 4,
 "nbformat_minor": 2
}
