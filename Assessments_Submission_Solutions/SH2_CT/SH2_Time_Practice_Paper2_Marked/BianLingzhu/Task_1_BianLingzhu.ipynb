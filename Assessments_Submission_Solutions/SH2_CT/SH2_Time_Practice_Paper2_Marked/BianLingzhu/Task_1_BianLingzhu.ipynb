{
 "cells": [
  {
   "cell_type": "code",
   "execution_count": null,
   "metadata": {},
   "outputs": [],
   "source": [
    "\n",
    "def hex2Str(string):\n",
    "    data = []\n",
    "    while len(string) > 1:\n",
    "        data.append(string[:2])\n",
    "        string = string[2:]\n",
    "    ret = ''\n",
    "    for i in data:\n",
    "        ret += ascii(i) #imagine that this converts\n",
    "    return ret\n",
    "    \n",
    "    \n",
    "    \n",
    "hex2Str('425636363454')\n",
    "print(ascii(hex(4165)))\n"
   ]
  },
  {
   "attachments": {},
   "cell_type": "markdown",
   "metadata": {},
   "source": [
    "- what is the quick refernce for ?!!!\n",
    "- [2m]"
   ]
  },
  {
   "cell_type": "code",
   "execution_count": null,
   "metadata": {},
   "outputs": [],
   "source": [
    "#Task 1.2\n",
    "f = open('ITEMS.TXT')\n",
    "itms = []\n",
    "for line in f:\n",
    "    string = hex2Str(line)\n",
    "itms = string.strip().split(',')\n",
    "print(itms)\n",
    "f.close()\n",
    "\n",
    "    "
   ]
  },
  {
   "attachments": {},
   "cell_type": "markdown",
   "metadata": {},
   "source": [
    "- There is only 1 line in f!!!\n",
    "- [0m]"
   ]
  },
  {
   "cell_type": "code",
   "execution_count": null,
   "metadata": {},
   "outputs": [],
   "source": [
    "#TASK 1.3\n",
    "\n",
    "f = open(\"CHARACTERS.TXT\")\n",
    "for line in f:\n",
    "    string = hex2Str(line)\n",
    "chars = string.split(\"\\n\")\n",
    "for i in chars:\n",
    "    i = i.strip().split(',')\n",
    "    \n",
    "print(chars)\n",
    "\n",
    "    \n"
   ]
  },
  {
   "attachments": {},
   "cell_type": "markdown",
   "metadata": {},
   "source": [
    "- what are you doing with i ?!!!\n",
    "- [0m]"
   ]
  },
  {
   "cell_type": "code",
   "execution_count": null,
   "metadata": {},
   "outputs": [],
   "source": [
    "#Task 1.4\n",
    "from pymongo import MongoClient\n",
    "client = MongoClient('localhost',27017)\n",
    "db = client['Overwatch']\n",
    "col1 = db['Characters']\n",
    "col1.insert_one({\n",
    "    'name':str(chars[0][0]),\n",
    "    'class':str(chars[0][1]),\n",
    "    'str':str(chars[0][2]),\n",
    "    'dex':str(chars[0][3]),\n",
    "    'int':str(chars[0][4]),\n",
    "    'xp':str(chars[0][5]),\n",
    "})\n",
    "\n"
   ]
  },
  {
   "attachments": {},
   "cell_type": "markdown",
   "metadata": {},
   "source": [
    "-   [0m]\n",
    "- 1.5, 1.6 [0m]"
   ]
  },
  {
   "attachments": {},
   "cell_type": "markdown",
   "metadata": {},
   "source": [
    "Total\n",
    "\n",
    "- 2/26\n",
    "\n",
    "It is very disapointing to see this type of coding at this time"
   ]
  }
 ],
 "metadata": {
  "kernelspec": {
   "display_name": "Python 3",
   "language": "python",
   "name": "python3"
  },
  "language_info": {
   "codemirror_mode": {
    "name": "ipython",
    "version": 3
   },
   "file_extension": ".py",
   "mimetype": "text/x-python",
   "name": "python",
   "nbconvert_exporter": "python",
   "pygments_lexer": "ipython3",
   "version": "3.6.4"
  }
 },
 "nbformat": 4,
 "nbformat_minor": 2
}
