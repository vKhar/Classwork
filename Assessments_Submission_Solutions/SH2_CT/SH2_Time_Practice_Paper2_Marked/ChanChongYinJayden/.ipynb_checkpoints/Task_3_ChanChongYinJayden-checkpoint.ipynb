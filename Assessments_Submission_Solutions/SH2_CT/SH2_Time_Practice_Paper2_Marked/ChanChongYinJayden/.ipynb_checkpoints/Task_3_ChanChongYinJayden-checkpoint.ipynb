{
 "cells": [
  {
   "cell_type": "code",
   "execution_count": 8,
   "metadata": {},
   "outputs": [
    {
     "name": "stdout",
     "output_type": "stream",
     "text": [
      "[1, 2, 3, 4, 5, 6, 8]\n"
     ]
    }
   ],
   "source": [
    "# Task 3.1\n",
    "def inplace_merge(A,start,mid,end):\n",
    "    left = start\n",
    "    right = mid + 1\n",
    "    while left < right and right <= end:\n",
    "        if A[left] <= A[right]:\n",
    "            left += 1\n",
    "        else:\n",
    "            index = right\n",
    "            tmp = A[right]\n",
    "            while index > left:\n",
    "                A[index] = A[index-1]\n",
    "                index -= 1\n",
    "            A[index] = tmp\n",
    "            left = index + 1\n",
    "            right += 1\n",
    "\n",
    "A = [2,4,6,8,1,3,5]\n",
    "inplace_merge(A,0,3,6)\n",
    "print(A)"
   ]
  },
  {
   "cell_type": "code",
   "execution_count": 10,
   "metadata": {},
   "outputs": [
    {
     "name": "stdout",
     "output_type": "stream",
     "text": [
      "[0, 1, 3, 6, 7, 10, 22, 32, 99]\n",
      "[1, 1, 1, 1, 1, 1]\n"
     ]
    },
    {
     "ename": "TypeError",
     "evalue": "'<=' not supported between instances of 'int' and 'str'",
     "output_type": "error",
     "traceback": [
      "\u001b[1;31m---------------------------------------------------------------------------\u001b[0m",
      "\u001b[1;31mTypeError\u001b[0m                                 Traceback (most recent call last)",
      "\u001b[1;32m<ipython-input-10-2d91fef7dd8e>\u001b[0m in \u001b[0;36m<module>\u001b[1;34m()\u001b[0m\n\u001b[0;32m      8\u001b[0m \u001b[0minplace_merge\u001b[0m\u001b[1;33m(\u001b[0m\u001b[0mt2\u001b[0m\u001b[1;33m,\u001b[0m\u001b[1;36m0\u001b[0m\u001b[1;33m,\u001b[0m\u001b[1;36m3\u001b[0m\u001b[1;33m,\u001b[0m\u001b[1;36m5\u001b[0m\u001b[1;33m)\u001b[0m\u001b[1;33m\u001b[0m\u001b[0m\n\u001b[0;32m      9\u001b[0m \u001b[0mprint\u001b[0m\u001b[1;33m(\u001b[0m\u001b[0mt2\u001b[0m\u001b[1;33m)\u001b[0m\u001b[1;33m\u001b[0m\u001b[0m\n\u001b[1;32m---> 10\u001b[1;33m \u001b[0minplace_merge\u001b[0m\u001b[1;33m(\u001b[0m\u001b[0mt3\u001b[0m\u001b[1;33m,\u001b[0m\u001b[1;36m0\u001b[0m\u001b[1;33m,\u001b[0m\u001b[1;36m1\u001b[0m\u001b[1;33m,\u001b[0m\u001b[1;36m2\u001b[0m\u001b[1;33m)\u001b[0m\u001b[1;33m\u001b[0m\u001b[0m\n\u001b[0m\u001b[0;32m     11\u001b[0m \u001b[0mprint\u001b[0m\u001b[1;33m(\u001b[0m\u001b[0mt3\u001b[0m\u001b[1;33m)\u001b[0m\u001b[1;33m\u001b[0m\u001b[0m\n",
      "\u001b[1;32m<ipython-input-8-f50c02bd7351>\u001b[0m in \u001b[0;36minplace_merge\u001b[1;34m(A, start, mid, end)\u001b[0m\n\u001b[0;32m      4\u001b[0m     \u001b[0mright\u001b[0m \u001b[1;33m=\u001b[0m \u001b[0mmid\u001b[0m \u001b[1;33m+\u001b[0m \u001b[1;36m1\u001b[0m\u001b[1;33m\u001b[0m\u001b[0m\n\u001b[0;32m      5\u001b[0m     \u001b[1;32mwhile\u001b[0m \u001b[0mleft\u001b[0m \u001b[1;33m<\u001b[0m \u001b[0mright\u001b[0m \u001b[1;32mand\u001b[0m \u001b[0mright\u001b[0m \u001b[1;33m<=\u001b[0m \u001b[0mend\u001b[0m\u001b[1;33m:\u001b[0m\u001b[1;33m\u001b[0m\u001b[0m\n\u001b[1;32m----> 6\u001b[1;33m         \u001b[1;32mif\u001b[0m \u001b[0mA\u001b[0m\u001b[1;33m[\u001b[0m\u001b[0mleft\u001b[0m\u001b[1;33m]\u001b[0m \u001b[1;33m<=\u001b[0m \u001b[0mA\u001b[0m\u001b[1;33m[\u001b[0m\u001b[0mright\u001b[0m\u001b[1;33m]\u001b[0m\u001b[1;33m:\u001b[0m\u001b[1;33m\u001b[0m\u001b[0m\n\u001b[0m\u001b[0;32m      7\u001b[0m             \u001b[0mleft\u001b[0m \u001b[1;33m+=\u001b[0m \u001b[1;36m1\u001b[0m\u001b[1;33m\u001b[0m\u001b[0m\n\u001b[0;32m      8\u001b[0m         \u001b[1;32melse\u001b[0m\u001b[1;33m:\u001b[0m\u001b[1;33m\u001b[0m\u001b[0m\n",
      "\u001b[1;31mTypeError\u001b[0m: '<=' not supported between instances of 'int' and 'str'"
     ]
    }
   ],
   "source": [
    "# Task 3.2\n",
    "t1 = [1,3,6,22,0,7,10,32,99] # valid test case\n",
    "t2 = [1,1,1,1,1,1] # boundary test case\n",
    "t3 = [3,5,\"abcd\"] # error test case\n",
    "\n",
    "inplace_merge(t1,0,3,8)\n",
    "print(t1)\n",
    "inplace_merge(t2,0,3,5)\n",
    "print(t2)\n",
    "inplace_merge(t3,0,1,2)\n",
    "print(t3)"
   ]
  },
  {
   "cell_type": "code",
   "execution_count": null,
   "metadata": {},
   "outputs": [],
   "source": [
    "# Task 3.3\n",
    "def merge_sort_helper(A,start,end):\n",
    "    if start >= end:\n",
    "        return\n",
    "    merge_sort_helper(A,start,end)\n",
    "    \n",
    "def merge_sort(A):\n",
    "    start = 0\n",
    "    end = len(A)-1\n",
    "    return merge_sort_helper(A,start,end)"
   ]
  },
  {
   "cell_type": "code",
   "execution_count": null,
   "metadata": {},
   "outputs": [],
   "source": [
    "# Task 3.4\n",
    "t1 = [3,6,0,7,10,1,99,36] # valid test case\n",
    "t2 = [1,1,1,1,1,1] # boundary test case\n",
    "t3 = [5,\"abcd\",4] # error test case\n",
    "\n",
    "merge_sort(t1)\n",
    "print(t1)\n",
    "merge_sort(t2)\n",
    "print(t2)\n",
    "merge_sort(t3)\n",
    "print(t3)"
   ]
  }
 ],
 "metadata": {
  "kernelspec": {
   "display_name": "Python 3",
   "language": "python",
   "name": "python3"
  },
  "language_info": {
   "codemirror_mode": {
    "name": "ipython",
    "version": 3
   },
   "file_extension": ".py",
   "mimetype": "text/x-python",
   "name": "python",
   "nbconvert_exporter": "python",
   "pygments_lexer": "ipython3",
   "version": "3.6.4"
  }
 },
 "nbformat": 4,
 "nbformat_minor": 2
}
