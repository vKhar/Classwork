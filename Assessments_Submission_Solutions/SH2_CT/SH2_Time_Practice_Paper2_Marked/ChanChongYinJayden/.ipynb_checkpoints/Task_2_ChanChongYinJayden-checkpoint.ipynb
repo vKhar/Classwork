{
 "cells": [
  {
   "cell_type": "code",
   "execution_count": 13,
   "metadata": {},
   "outputs": [],
   "source": [
    "# Task 2.1\n",
    "class HashTable:\n",
    "    def __init__(self, n):\n",
    "        self.arr = [None for _ in range(n)]\n",
    "        self.size = n\n",
    "    \n",
    "    def __repr__(self):\n",
    "        ret = \"\"\n",
    "        for i in enumerate(self.arr):\n",
    "            ret += f\"{i[0]}:{i[1]}, \"\n",
    "        return ret[:-2]\n",
    "        \n",
    "    def hasher(self, key):\n",
    "        sum = 0\n",
    "        for i in range(len(key)):\n",
    "            sum += ord(key[i]) * (i+1)\n",
    "        return sum%self.size\n",
    "    \n",
    "    def insert(self, key, value):\n",
    "        index = self.hasher(key)\n",
    "        newIndex = index\n",
    "        while self.arr[newIndex] != None:\n",
    "            newIndex += 1\n",
    "            if newIndex == index:\n",
    "                return False\n",
    "            elif newIndex > self.size-1:\n",
    "                newIndex = 0\n",
    "        self.arr[newIndex] = (key,value)\n",
    "        return True\n",
    "    \n",
    "    def find(self, key):\n",
    "        index = self.hasher(key)\n",
    "        newIndex = index\n",
    "        while self.arr[newIndex][0] != key:\n",
    "            newIndex += 1\n",
    "            if newIndex == index:\n",
    "                return None\n",
    "            elif newIndex > self.size-1:\n",
    "                newIndex = 0\n",
    "        return self.arr[newIndex]"
   ]
  },
  {
   "cell_type": "code",
   "execution_count": 15,
   "metadata": {},
   "outputs": [
    {
     "name": "stdout",
     "output_type": "stream",
     "text": [
      "0:('sch.org', 'school'), 1:('www.co', 'web'), 2:('ai.net', 'sky net')\n",
      "('www.co', 'web')\n",
      "('ai.net', 'sky net')\n"
     ]
    }
   ],
   "source": [
    "# Task 2.2\n",
    "ht = HashTable(3)\n",
    "for item in ((\"www.co\",\"web\"),(\"sch.org\",\"school\"),(\"ai.net\",\"sky net\")):\n",
    "    ht.insert(item[0],item[1])\n",
    "print(ht)\n",
    "print(ht.find(\"www.co\"))\n",
    "print(ht.find(\"ai.net\"))"
   ]
  },
  {
   "cell_type": "code",
   "execution_count": 33,
   "metadata": {},
   "outputs": [],
   "source": [
    "# Task 2.3\n",
    "class Node:\n",
    "    def __init__(self,index):\n",
    "        self.index = index\n",
    "        self.next = -1\n",
    "\n",
    "class OrderedHashTable(HashTable):\n",
    "    def __init__(self,n):\n",
    "        super().__init__(n)\n",
    "        self.head = -1\n",
    "        \n",
    "    def insert(self, key, value):\n",
    "        index = self.hasher(key)\n",
    "        newIndex = index\n",
    "        while self.arr[newIndex] != None:\n",
    "            newIndex += 1\n",
    "            if newIndex == index:\n",
    "                return False\n",
    "            elif newIndex > self.size-1:\n",
    "                newIndex = 0\n",
    "        self.arr[newIndex] = (key,value)\n",
    "        if self.head == -1:\n",
    "            self.head = Node(newIndex)\n",
    "        else:\n",
    "            currNode = self.head\n",
    "            while currNode.next != -1:\n",
    "                currNode = currNode.next\n",
    "            currNode.next = Node(newIndex)\n",
    "        return True\n",
    "    \n",
    "    def keys(self):\n",
    "        if self.head == -1:\n",
    "            return -1\n",
    "        keys = [self.head.index]\n",
    "        currNode = self.head\n",
    "        while currNode.next != -1:\n",
    "            currNode = currNode.next\n",
    "            keys.append(currNode.index)\n",
    "        return [self.arr[k][0] for k in keys]\n",
    "        "
   ]
  },
  {
   "cell_type": "code",
   "execution_count": 34,
   "metadata": {},
   "outputs": [
    {
     "data": {
      "text/plain": [
       "['www.hi.cc', 'ppp.me', 'njc.sch']"
      ]
     },
     "execution_count": 34,
     "metadata": {},
     "output_type": "execute_result"
    }
   ],
   "source": [
    "# Task 2.4\n",
    "hashT = OrderedHashTable(10)\n",
    "hashT.insert(\"www.hi.cc\",\"Hello World\")\n",
    "hashT.insert(\"ppp.me\",\"test site\")\n",
    "hashT.insert(\"njc.sch\",\"school\")\n",
    "hashT.keys()"
   ]
  },
  {
   "cell_type": "code",
   "execution_count": 42,
   "metadata": {},
   "outputs": [
    {
     "name": "stdout",
     "output_type": "stream",
     "text": [
      "0:None, 1:('cmn.com', '<html>CMN the only real news </html>'), 2:('chit.chat.org', '<b>Talking AI &lt; <b>'), 3:('njc.sch.sg', 'Service with Honour'), 4:('tt.t', 'test'), 5:('farm.net', 'apple,oranges,pears')\n"
     ]
    },
    {
     "data": {
      "text/plain": [
       "('farm.net', 'apple,oranges,pears')"
      ]
     },
     "execution_count": 42,
     "metadata": {},
     "output_type": "execute_result"
    }
   ],
   "source": [
    "# Task 2.5\n",
    "import csv\n",
    "def load_cache(ht):\n",
    "    with open(\"CACHE.TXT\") as f:\n",
    "        reader = csv.reader(f)\n",
    "        for i in list(reader):\n",
    "            ht.insert(i[0],i[1])\n",
    "\n",
    "def browse(url,cache):\n",
    "    result = cache.find(url)\n",
    "    if result:\n",
    "        return result[1]\n",
    "    with open(\"INTERNET.TXT\") as f:\n",
    "        reader = csv.reader(f)\n",
    "        for i in list(reader):\n",
    "            if i[0] == url:\n",
    "                return i[1]\n",
    "\n",
    "def history(cache):\n",
    "    return reversed(cache.keys())\n",
    "\n",
    "def clear_cache(cache):\n",
    "    cache.arr = []\n",
    "\n",
    "ht = OrderedHashTable(6)\n",
    "load_cache(ht)\n",
    "print(ht)\n",
    "\n",
    "browse(\"farm.net\",ht)"
   ]
  },
  {
   "cell_type": "code",
   "execution_count": null,
   "metadata": {},
   "outputs": [],
   "source": []
  }
 ],
 "metadata": {
  "kernelspec": {
   "display_name": "Python 3",
   "language": "python",
   "name": "python3"
  },
  "language_info": {
   "codemirror_mode": {
    "name": "ipython",
    "version": 3
   },
   "file_extension": ".py",
   "mimetype": "text/x-python",
   "name": "python",
   "nbconvert_exporter": "python",
   "pygments_lexer": "ipython3",
   "version": "3.6.4"
  }
 },
 "nbformat": 4,
 "nbformat_minor": 2
}
