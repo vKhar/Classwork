{
 "cells": [
  {
   "cell_type": "code",
   "execution_count": 1,
   "metadata": {},
   "outputs": [
    {
     "name": "stdout",
     "output_type": "stream",
     "text": [
      "ABC,1,15\n",
      "\n"
     ]
    }
   ],
   "source": [
    "# Task 1.1\n",
    "def hex2Str(hex_str:str):\n",
    "    cvStr = \"\"\n",
    "    for i in range(0,len(hex_str),2):\n",
    "        cvStr += chr(int(hex_str[i:i+2],16))\n",
    "    return cvStr\n",
    "\n",
    "print(hex2Str(\"4142432C312C31350a\"))"
   ]
  },
  {
   "attachments": {},
   "cell_type": "markdown",
   "metadata": {},
   "source": [
    "- [4m]"
   ]
  },
  {
   "cell_type": "code",
   "execution_count": 2,
   "metadata": {},
   "outputs": [
    {
     "name": "stdout",
     "output_type": "stream",
     "text": [
      "{'1': 'DAGGER', '2': 'MACE', '3': 'SLING', '4': 'BOW', '5': '+2 BOW', '6': '+4 BOW', '7': 'EXOTIC WEAPON', '8': 'AXE', '9': 'SWORD', '10': '2H SWORD', '11': '+2 AXE', '12': '+2 SWORD', '13': 'GLOVES', '14': '+4 AXE', '15': '+4 SWORD', '16': 'CLOTH', '17': 'LEATHER', '18': 'CHAIN', '19': 'PLATE', '20': '+2 CHAIN', '21': '+2 PLATE', '22': 'EXOTIC', '23': 'TORCHES', '24': 'KEYS', '25': 'GEMS', '26': 'POWDER', '27': 'HORSE', '28': 'FOOD', '29': 'MARK OF SNAKE', '30': 'MARK OF FORCE', '31': 'MARK OF FIRE', '32': 'MARK OF KINGS', '33': 'LORD OF TIME', '34': 'DEATH CARD', '35': 'SOL CARD', '36': 'LOVE CARD', '37': 'MOONS CARD'}\n"
     ]
    }
   ],
   "source": [
    "# Task 1.2\n",
    "with open(\"ITEMS.TXT\") as f:\n",
    "    contents = hex2Str(f.read()).split(\"\\n\")[:-1]\n",
    "\n",
    "items = {}\n",
    "for i in contents:\n",
    "    num, name = i.split(\",\")\n",
    "    items[num] = name\n",
    "    \n",
    "print(items)"
   ]
  },
  {
   "attachments": {},
   "cell_type": "markdown",
   "metadata": {},
   "source": [
    "- [5m]"
   ]
  },
  {
   "cell_type": "code",
   "execution_count": 3,
   "metadata": {},
   "outputs": [
    {
     "name": "stdout",
     "output_type": "stream",
     "text": [
      "[{'name': 'Aragon', 'class': 'Ranger', 'str': '20', 'dex': '25', 'int': '20', 'xp': '76525', 'items': ['15', '5', '20', '23', '24', '28', '27']}, {'name': 'Freya', 'class': 'Fighter', 'str': '30', 'dex': '15', 'int': '15', 'xp': '65270', 'items': ['10', '21', '27', '30', '32']}, {'name': 'Loki', 'class': 'Mage', 'str': '15', 'dex': '25', 'int': '25', 'xp': '91435', 'items': ['7', '22', '25', '26', '27', '29', '33', '34']}, {'name': 'Bane', 'class': 'Deathknight', 'str': '25', 'dex': '25', 'int': '15', 'xp': '59250', 'items': ['15', '21', '27', '37']}]\n"
     ]
    }
   ],
   "source": [
    "# Task 1.3\n",
    "with open(\"CHARACTERS.TXT\") as f:\n",
    "    contents = hex2Str(f.read()).split(\"\\n\")[:-1]\n",
    "\n",
    "chars = []\n",
    "for i in range(0,len(contents),2):\n",
    "    stats = contents[i].split(\",\")\n",
    "    chItems = contents[i+1].split(\",\")\n",
    "    chars.append({\"name\":stats[0],\"class\":stats[1],\"str\":stats[2],\"dex\":stats[3],\"int\":stats[4],\"xp\":stats[5],\"items\":chItems})\n",
    "print(chars)\n",
    "    "
   ]
  },
  {
   "attachments": {},
   "cell_type": "markdown",
   "metadata": {},
   "source": [
    "- [9m]"
   ]
  },
  {
   "cell_type": "code",
   "execution_count": 7,
   "metadata": {},
   "outputs": [
    {
     "name": "stdout",
     "output_type": "stream",
     "text": [
      "{'_id': ObjectId('646ae6a9fe8c7f1b00f5c953'), 'name': 'Aragon', 'class': 'Ranger', 'str': '20', 'dex': '25', 'int': '20', 'xp': '76525', 'items': [{'id': '15', 'name': '+4 SWORD'}, {'id': '5', 'name': '+2 BOW'}, {'id': '20', 'name': '+2 CHAIN'}, {'id': '23', 'name': 'TORCHES'}, {'id': '24', 'name': 'KEYS'}, {'id': '28', 'name': 'FOOD'}, {'id': '27', 'name': 'HORSE'}]}\n",
      "{'_id': ObjectId('646ae6aafe8c7f1b00f5c954'), 'name': 'Freya', 'class': 'Fighter', 'str': '30', 'dex': '15', 'int': '15', 'xp': '65270', 'items': [{'id': '10', 'name': '2H SWORD'}, {'id': '21', 'name': '+2 PLATE'}, {'id': '27', 'name': 'HORSE'}, {'id': '30', 'name': 'MARK OF FORCE'}, {'id': '32', 'name': 'MARK OF KINGS'}]}\n",
      "{'_id': ObjectId('646ae6aafe8c7f1b00f5c955'), 'name': 'Loki', 'class': 'Mage', 'str': '15', 'dex': '25', 'int': '25', 'xp': '91435', 'items': [{'id': '7', 'name': 'EXOTIC WEAPON'}, {'id': '22', 'name': 'EXOTIC'}, {'id': '25', 'name': 'GEMS'}, {'id': '26', 'name': 'POWDER'}, {'id': '27', 'name': 'HORSE'}, {'id': '29', 'name': 'MARK OF SNAKE'}, {'id': '33', 'name': 'LORD OF TIME'}, {'id': '34', 'name': 'DEATH CARD'}]}\n",
      "{'_id': ObjectId('646ae6aafe8c7f1b00f5c956'), 'name': 'Bane', 'class': 'Deathknight', 'str': '25', 'dex': '25', 'int': '15', 'xp': '59250', 'items': [{'id': '15', 'name': '+4 SWORD'}, {'id': '21', 'name': '+2 PLATE'}, {'id': '27', 'name': 'HORSE'}, {'id': '37', 'name': 'MOONS CARD'}]}\n"
     ]
    }
   ],
   "source": [
    "# Task 1.4\n",
    "from pymongo import MongoClient\n",
    "client = MongoClient('localhost',27017)\n",
    "#client.drop_database(\"Overwatch\")\n",
    "db = client[\"Overwatch\"]\n",
    "coll = db[\"Characters\"]\n",
    "\n",
    "for ch in chars:\n",
    "    newItems = []\n",
    "    newCh = ch\n",
    "    for j in ch[\"items\"]:\n",
    "        item2 = {\"id\":j,\"name\":items[j]}\n",
    "        newItems.append(item2)\n",
    "    newCh[\"items\"] = newItems\n",
    "    coll.insert_one(newCh)\n",
    "\n",
    "for i in coll.find():\n",
    "    print(i)"
   ]
  },
  {
   "attachments": {},
   "cell_type": "markdown",
   "metadata": {},
   "source": [
    "- [3m]"
   ]
  },
  {
   "cell_type": "code",
   "execution_count": 8,
   "metadata": {},
   "outputs": [
    {
     "name": "stdout",
     "output_type": "stream",
     "text": [
      "Aragon\n",
      "Bane\n"
     ]
    }
   ],
   "source": [
    "# Task 1.5\n",
    "from pymongo import MongoClient\n",
    "client = MongoClient('localhost',27017)\n",
    "db = client[\"Overwatch\"]\n",
    "coll = db[\"Characters\"]\n",
    "\n",
    "for i in coll.find({\"items\":{\"id\":\"15\",\"name\":\"+4 SWORD\"}},{\"name\":1,\"_id\":0}):\n",
    "    print(i[\"name\"])"
   ]
  },
  {
   "attachments": {},
   "cell_type": "markdown",
   "metadata": {},
   "source": [
    "- [3m]"
   ]
  },
  {
   "cell_type": "code",
   "execution_count": 9,
   "metadata": {},
   "outputs": [
    {
     "name": "stdout",
     "output_type": "stream",
     "text": [
      "{'_id': ObjectId('646ae6a9fe8c7f1b00f5c953'), 'name': 'Aragon', 'class': 'Ranger', 'str': '20', 'dex': '25', 'int': '20', 'xp': '76525', 'items': [{'id': '15', 'name': '+4 SWORD'}, {'id': '5', 'name': '+2 BOW'}, {'id': '20', 'name': '+2 CHAIN'}, {'id': '23', 'name': 'TORCHES'}, {'id': '24', 'name': 'KEYS'}, {'id': '28', 'name': 'FOOD'}, {'id': '27', 'name': 'HORSE'}], 'alias': 'ϮΔΨ'}\n"
     ]
    }
   ],
   "source": [
    "# Task 1.6\n",
    "from pymongo import MongoClient\n",
    "client = MongoClient('localhost',27017)\n",
    "db = client[\"Overwatch\"]\n",
    "coll = db[\"Characters\"]\n",
    "\n",
    "coll.update_one({\"name\":\"Aragon\"},{\"$set\":{\"alias\":\"\\u03EE\\u0394\\u03A8\"}})\n",
    "print(coll.find({\"name\":\"Aragon\"})[0])"
   ]
  },
  {
   "attachments": {},
   "cell_type": "markdown",
   "metadata": {},
   "source": [
    "- [2m]\n",
    "\n",
    "Total\n",
    "\n",
    "- 26/26"
   ]
  }
 ],
 "metadata": {
  "kernelspec": {
   "display_name": "Python 3",
   "language": "python",
   "name": "python3"
  },
  "language_info": {
   "codemirror_mode": {
    "name": "ipython",
    "version": 3
   },
   "file_extension": ".py",
   "mimetype": "text/x-python",
   "name": "python",
   "nbconvert_exporter": "python",
   "pygments_lexer": "ipython3",
   "version": "3.6.4"
  }
 },
 "nbformat": 4,
 "nbformat_minor": 2
}
