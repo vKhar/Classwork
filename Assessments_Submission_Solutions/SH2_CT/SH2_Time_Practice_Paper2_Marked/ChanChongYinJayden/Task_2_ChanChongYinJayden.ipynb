{
 "cells": [
  {
   "cell_type": "code",
   "execution_count": null,
   "metadata": {},
   "outputs": [],
   "source": [
    "# Task 2.1\n",
    "class HashTable:\n",
    "    def __init__(self, n):\n",
    "        self.arr = [None for _ in range(n)]\n",
    "        self.size = n\n",
    "    \n",
    "    def __repr__(self):\n",
    "        ret = \"\"\n",
    "        for i in enumerate(self.arr):\n",
    "            ret += f\"{i[0]}:{i[1]}, \"\n",
    "        return ret[:-2]\n",
    "        \n",
    "    def hasher(self, key):\n",
    "        sum = 0\n",
    "        for i in range(len(key)):\n",
    "            sum += ord(key[i]) * (i+1)\n",
    "        return sum%self.size\n",
    "    \n",
    "    def insert(self, key, value):\n",
    "        index = self.hasher(key)\n",
    "        newIndex = index\n",
    "        while self.arr[newIndex] != None:\n",
    "            newIndex += 1\n",
    "            if newIndex == index:\n",
    "                return False\n",
    "            elif newIndex > self.size-1:\n",
    "                newIndex = 0\n",
    "        self.arr[newIndex] = (key,value)\n",
    "        return True\n",
    "    \n",
    "    def find(self, key):\n",
    "        index = self.hasher(key)\n",
    "        newIndex = index\n",
    "        while self.arr[newIndex][0] != key:\n",
    "            newIndex += 1\n",
    "            if newIndex == index:\n",
    "                return None\n",
    "            elif newIndex > self.size-1:\n",
    "                newIndex = 0\n",
    "        return self.arr[newIndex]"
   ]
  },
  {
   "attachments": {},
   "cell_type": "markdown",
   "metadata": {},
   "source": [
    "- line 34 -  self.arr[newIndex] can be None!! below code will break -1m\n",
    "- [16m]"
   ]
  },
  {
   "cell_type": "code",
   "execution_count": null,
   "metadata": {},
   "outputs": [],
   "source": [
    "# Task 2.2\n",
    "ht = HashTable(3)\n",
    "print(ht)\n",
    "print(ht.find(\"www.co\"))\n",
    "print(ht.find(\"ai.net\"))"
   ]
  },
  {
   "cell_type": "code",
   "execution_count": 5,
   "metadata": {},
   "outputs": [
    {
     "name": "stdout",
     "output_type": "stream",
     "text": [
      "0:('sch.org', 'school'), 1:('www.co', 'web'), 2:('ai.net', 'sky net')\n",
      "('www.co', 'web')\n",
      "('ai.net', 'sky net')\n"
     ]
    }
   ],
   "source": [
    "# Task 2.2\n",
    "ht = HashTable(3)\n",
    "for item in ((\"www.co\",\"web\"),(\"sch.org\",\"school\"),(\"ai.net\",\"sky net\")):\n",
    "    ht.insert(item[0],item[1])\n",
    "print(ht)\n",
    "print(ht.find(\"www.co\"))\n",
    "print(ht.find(\"ai.net\"))"
   ]
  },
  {
   "attachments": {},
   "cell_type": "markdown",
   "metadata": {},
   "source": [
    "-   [2m]"
   ]
  },
  {
   "cell_type": "code",
   "execution_count": null,
   "metadata": {},
   "outputs": [],
   "source": [
    "# Task 2.3\n",
    "class Node:\n",
    "    def __init__(self,index):\n",
    "        self.index = index\n",
    "        self.next = -1\n",
    "\n",
    "class OrderedHashTable(HashTable):\n",
    "    def __init__(self,n):\n",
    "        super().__init__(n)\n",
    "        self.head = -1\n",
    "        \n",
    "    def insert(self, key, value):\n",
    "        index = self.hasher(key)\n",
    "        newIndex = index\n",
    "        while self.arr[newIndex] != None:\n",
    "            newIndex += 1\n",
    "            if newIndex == index:\n",
    "                return False\n",
    "            elif newIndex > self.size-1:\n",
    "                newIndex = 0\n",
    "        self.arr[newIndex] = (key,value)\n",
    "        if self.head == -1:\n",
    "            self.head = Node(newIndex)\n",
    "        else:\n",
    "            currNode = self.head\n",
    "            while currNode.next != -1:\n",
    "                currNode = currNode.next\n",
    "            currNode.next = Node(newIndex)\n",
    "        return True\n",
    "    \n",
    "    def keys(self):\n",
    "        if self.head == -1:\n",
    "            return -1\n",
    "        keys = [self.head.index]\n",
    "        currNode = self.head\n",
    "        while currNode.next != -1:\n",
    "            currNode = currNode.next\n",
    "            keys.append(currNode.index)\n",
    "        return [self.arr[k][0] for k in keys]\n",
    "        "
   ]
  },
  {
   "attachments": {},
   "cell_type": "markdown",
   "metadata": {},
   "source": [
    "-   [10m]"
   ]
  },
  {
   "cell_type": "code",
   "execution_count": null,
   "metadata": {},
   "outputs": [],
   "source": [
    "# Task 2.4\n",
    "hashT = OrderedHashTable(10)\n",
    "hashT.insert(\"www.hi.cc\",\"Hello World\")\n",
    "hashT.insert(\"ppp.me\",\"test site\")\n",
    "hashT.insert(\"njc.sch\",\"school\")\n",
    "hashT.keys()"
   ]
  },
  {
   "attachments": {},
   "cell_type": "markdown",
   "metadata": {},
   "source": [
    "-   [1]"
   ]
  },
  {
   "cell_type": "code",
   "execution_count": null,
   "metadata": {},
   "outputs": [],
   "source": [
    "# Task 2.5\n",
    "import csv\n",
    "def load_cache(ht):\n",
    "    with open(\"CACHE.TXT\") as f:\n",
    "        reader = csv.reader(f)\n",
    "        for i in list(reader):\n",
    "            ht.insert(i[0],i[1])\n",
    "\n",
    "def browse(url,cache):\n",
    "    result = cache.find(url)\n",
    "    if result:\n",
    "        return result[1]\n",
    "    with open(\"INTERNET.TXT\") as f:\n",
    "        reader = csv.reader(f)\n",
    "        for i in list(reader):\n",
    "            if i[0] == url:\n",
    "                return i[1]\n",
    "\n",
    "def history(cache):\n",
    "    return reversed(cache.keys())\n",
    "\n",
    "def clear_cache(cache):\n",
    "    cache.arr = []\n",
    "\n",
    "ht = OrderedHashTable(6)\n",
    "load_cache(ht)\n",
    "print(ht)\n",
    "\n",
    "browse(\"farm.net\",ht)"
   ]
  },
  {
   "attachments": {},
   "cell_type": "markdown",
   "metadata": {},
   "source": [
    "- browse(), did not load url into cache when found in INTERNET and return 404 when not found -2m\n",
    "- clear_cache(), you will not be able to use the cache anymore, see below  -1m\n",
    "- [7m]"
   ]
  },
  {
   "cell_type": "code",
   "execution_count": null,
   "metadata": {},
   "outputs": [],
   "source": [
    "clear_cache(ht)\n",
    "browse(\"answers.all\",ht)"
   ]
  },
  {
   "attachments": {},
   "cell_type": "markdown",
   "metadata": {},
   "source": [
    "Total\n",
    "\n",
    "36/40\n"
   ]
  }
 ],
 "metadata": {
  "kernelspec": {
   "display_name": "Python 3",
   "language": "python",
   "name": "python3"
  },
  "language_info": {
   "codemirror_mode": {
    "name": "ipython",
    "version": 3
   },
   "file_extension": ".py",
   "mimetype": "text/x-python",
   "name": "python",
   "nbconvert_exporter": "python",
   "pygments_lexer": "ipython3",
   "version": "3.6.4"
  }
 },
 "nbformat": 4,
 "nbformat_minor": 2
}
