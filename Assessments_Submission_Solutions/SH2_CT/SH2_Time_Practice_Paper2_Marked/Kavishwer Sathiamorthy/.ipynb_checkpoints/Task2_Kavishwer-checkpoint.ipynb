{
 "cells": [
  {
   "cell_type": "code",
   "execution_count": 66,
   "metadata": {},
   "outputs": [],
   "source": [
    "# Task 2.1\n",
    "\n",
    "class HashTable:\n",
    "    def __init__(self, n):\n",
    "        self.buffer = [None for i in range(n)]\n",
    "        self.n = n\n",
    "    def _hasher(self, key):\n",
    "        sum = 0\n",
    "        for i in range(0, len(key)):\n",
    "            sum += ord(key[i]) * (i+1)\n",
    "        return sum % self.n   \n",
    "    def insert(self, key, value):\n",
    "        index = self._hasher(key)\n",
    "        for i in range(0, self.n):\n",
    "            if self.buffer[(index + i) % self.n] is None:\n",
    "                self.buffer[(index + i) % self.n] = (key, value)\n",
    "                return True\n",
    "        else:\n",
    "            return False\n",
    "    def find(self, key):\n",
    "        index = self._hasher(key)\n",
    "        for i in range(0, self.n):\n",
    "            if self.buffer[(index + i) % self.n] is not None and self.buffer[(index + i) % self.n][0] == key:\n",
    "                return self.buffer[(index + i) % self.n][1]\n",
    "        else:\n",
    "            return None\n",
    "    def __repr__(self):\n",
    "        ret = \"[\"\n",
    "        for i in range(self.n):\n",
    "            ret += str(i) + \": \" + str(self.buffer[i]) + \", \"\n",
    "        return ret[:-1] + \"]\"\n",
    "        "
   ]
  },
  {
   "cell_type": "code",
   "execution_count": 67,
   "metadata": {},
   "outputs": [
    {
     "name": "stdout",
     "output_type": "stream",
     "text": [
      "[0: ('sch.org', 'school'), 1: ('www.co', 'web'), 2: ('ai.net', 'sky net'),]\n",
      "web\n",
      "sky net\n"
     ]
    }
   ],
   "source": [
    "# Task 2.2\n",
    "\n",
    "ht = HashTable(3)\n",
    "ht.insert(\"www.co\", \"web\")\n",
    "ht.insert(\"sch.org\", \"school\")\n",
    "ht.insert(\"ai.net\", \"sky net\")\n",
    "print(ht)\n",
    "print(ht.find(\"www.co\"))\n",
    "print(ht.find(\"ai.net\"))"
   ]
  },
  {
   "cell_type": "code",
   "execution_count": 91,
   "metadata": {},
   "outputs": [],
   "source": [
    "# Task 2.3\n",
    "\n",
    "class OrderedHashTable(HashTable):\n",
    "    def __init__(self, n):\n",
    "        super().__init__(n)\n",
    "        self.head = -1\n",
    "        self.order_linked_list = [-1 for i in range(n)]\n",
    "        # This linked List is an array based linked list where the content of each index corresponds to the index of the next item of the hash table\n",
    "    def update_order(self, index):\n",
    "        if self.head == -1:\n",
    "            self.head = index\n",
    "            return\n",
    "        current = self.head\n",
    "        while self.order_linked_list[current] != -1:\n",
    "            current = self.order_linked_list[current]\n",
    "        self.order_linked_list[current] = index\n",
    "    def keys(self):\n",
    "        ret = []\n",
    "        current = self.head\n",
    "        while current != -1:\n",
    "            ret.append(self.buffer[current][0])\n",
    "            current = self.order_linked_list[current]\n",
    "        return ret\n",
    "    def insert(self, key, value):\n",
    "        index = self._hasher(key)\n",
    "        for i in range(0, self.n):\n",
    "            if self.buffer[(index + i) % self.n] is None:\n",
    "                self.buffer[(index + i) % self.n] = (key, value)\n",
    "                self.update_order((index + i) % self.n)\n",
    "                return True\n",
    "        else:\n",
    "            return False\n",
    "    def reset(self):\n",
    "        self.head = -1\n",
    "        self.order_linked_list = [-1 for i in range(self.n)]\n",
    "        self.buffer = [None for i in range(self.n)]"
   ]
  },
  {
   "cell_type": "code",
   "execution_count": 69,
   "metadata": {},
   "outputs": [
    {
     "data": {
      "text/plain": [
       "['www.hi.cc', 'ppp.me', 'njc.sch']"
      ]
     },
     "execution_count": 69,
     "metadata": {},
     "output_type": "execute_result"
    }
   ],
   "source": [
    "# Task 2.4\n",
    "\n",
    "oht = OrderedHashTable(5)\n",
    "oht.insert(\"www.hi.cc\", \"Hello World\")\n",
    "oht.insert(\"ppp.me\", \"test site\")\n",
    "oht.insert(\"njc.sch\", \"school\")\n",
    "oht.keys()"
   ]
  },
  {
   "cell_type": "code",
   "execution_count": 93,
   "metadata": {},
   "outputs": [
    {
     "name": "stdout",
     "output_type": "stream",
     "text": [
      "[0: None, 1: ('cmn.com', '<html>CMN the only real news </html>'), 2: ('chit.chat.org', '<b>Talking AI &lt; <b>'), 3: ('njc.sch.sg', 'Service with Honour'), 4: ('tt.t', 'test'), 5: ('farm.net', '\"apple'),]\n"
     ]
    },
    {
     "data": {
      "text/plain": [
       "'There is No answers'"
      ]
     },
     "execution_count": 93,
     "metadata": {},
     "output_type": "execute_result"
    }
   ],
   "source": [
    "def load_cache(ht) -> None:\n",
    "    urls = open(\"../Resources/CACHE.TXT\").read().strip().split(\"\\n\")\n",
    "    urls = [url.split(\",\") for url in urls]\n",
    "    for url in urls:\n",
    "        ht.insert(url[0], url[1])\n",
    "\n",
    "def browse(url, cache):\n",
    "    if cache.find(url) is not None:\n",
    "        return cache.find(url)\n",
    "    contents = open(\"../Resources/INTERNET.TXT\").read().strip().split(\"\\n\")\n",
    "    for content in contents:\n",
    "        if url in content:\n",
    "            keypair = content.split(\",\")\n",
    "            cache.insert(keypair[0], keypair[1])\n",
    "            return keypair[1]\n",
    "    else:\n",
    "        return \"404 Not Found\"\n",
    "\n",
    "def history(cache):\n",
    "    history = cache.keys()\n",
    "    history.reverse()\n",
    "    return history\n",
    "\n",
    "def clear_cache(cache):\n",
    "    cache.reset()\n",
    "    # I implemented .reset() as a method as accessing the buffer directly from the external code can lead to confusion and somewhat\n",
    "    # defeats the point of OOP\n",
    "    \n",
    "\n",
    "oht = OrderedHashTable(6)\n",
    "load_cache(oht)\n",
    "print(oht)\n",
    "browse(\"answers.all\", oht)\n",
    "clear_cache(oht)"
   ]
  }
 ],
 "metadata": {
  "kernelspec": {
   "display_name": "Python 3",
   "language": "python",
   "name": "python3"
  },
  "language_info": {
   "codemirror_mode": {
    "name": "ipython",
    "version": 3
   },
   "file_extension": ".py",
   "mimetype": "text/x-python",
   "name": "python",
   "nbconvert_exporter": "python",
   "pygments_lexer": "ipython3",
   "version": "3.6.4"
  }
 },
 "nbformat": 4,
 "nbformat_minor": 2
}
