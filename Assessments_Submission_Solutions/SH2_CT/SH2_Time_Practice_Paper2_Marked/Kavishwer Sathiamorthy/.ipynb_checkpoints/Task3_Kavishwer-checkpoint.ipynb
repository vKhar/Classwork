{
 "cells": [
  {
   "cell_type": "code",
   "execution_count": 10,
   "metadata": {},
   "outputs": [
    {
     "name": "stdout",
     "output_type": "stream",
     "text": [
      "[0, 3, 7, 9, 10, 10, 0, 2, 5, 8, 10, 10]\n"
     ]
    },
    {
     "data": {
      "text/plain": [
       "[0, 0, 2, 3, 5, 7, 8, 9, 10, 10, 10, 10]"
      ]
     },
     "execution_count": 10,
     "metadata": {},
     "output_type": "execute_result"
    }
   ],
   "source": [
    "# Task 3.1\n",
    "import random \n",
    "\n",
    "def inplace_merge(A, start, mid, end):\n",
    "    left = start\n",
    "    right = mid + 1\n",
    "    \n",
    "    while left < right and right <= end:\n",
    "        if A[left] <= A[right]:\n",
    "            left = left + 1\n",
    "        else:\n",
    "            index = right\n",
    "            tmp = A[right]\n",
    "            while index > left:\n",
    "                A[index] = A[index - 1]\n",
    "                index = index - 1\n",
    "            A[index] = tmp\n",
    "            right += 1\n",
    "    return A"
   ]
  },
  {
   "cell_type": "code",
   "execution_count": 15,
   "metadata": {},
   "outputs": [
    {
     "name": "stdout",
     "output_type": "stream",
     "text": [
      "[10, 1, 0, 3, 9, 4, 10, 3, 0, 8, 8, 3]\n",
      "[10, 1, 0, 3, 9, 4, 10, 3, 0, 8, 8, 3]\n",
      "[]\n",
      "[]\n",
      "[1, 1, 3, 5, 9, 9, 0, 2, 4, 4, 7, 7]\n",
      "[0, 1, 1, 2, 3, 4, 4, 5, 7, 7, 9, 9]\n"
     ]
    }
   ],
   "source": [
    "# Task 3.2\n",
    "\n",
    "# Invalid\n",
    "a = [random.randint(0, 10) for _ in range(6)]\n",
    "b = [random.randint(0, 10) for _ in range(6)]\n",
    "print(a+b)\n",
    "print(inplace_merge(a + b, 0, 5, 11))\n",
    "\n",
    "# Boundary\n",
    "a = []\n",
    "print(a)\n",
    "print(inplace_merge(a, 0, 0, 0))\n",
    "\n",
    "# Valid\n",
    "a = [random.randint(0, 10) for _ in range(6)]\n",
    "b = [random.randint(0, 10) for _ in range(6)]\n",
    "a.sort(), b.sort()\n",
    "print(a+b)\n",
    "print(inplace_merge(a + b, 0, 5, 11))"
   ]
  },
  {
   "cell_type": "code",
   "execution_count": 28,
   "metadata": {},
   "outputs": [
    {
     "name": "stdout",
     "output_type": "stream",
     "text": [
      "[1, 2, 3, 5, 6, 8, 0, 2, 2, 4, 8, 9]\n"
     ]
    },
    {
     "data": {
      "text/plain": [
       "[5, 9, 2, 2, 8, 4, 1, 3, 6, 0, 2, 8]"
      ]
     },
     "execution_count": 28,
     "metadata": {},
     "output_type": "execute_result"
    }
   ],
   "source": [
    "# Task 2.3\n",
    "\n",
    "def merge_sort_helper(A, start, end):\n",
    "    if start >= end:\n",
    "        return\n",
    "    else:\n",
    "        index = end\n",
    "        tmp = A[end]\n",
    "        while index > start:\n",
    "            A[index] = A[index - 1]\n",
    "            index = index - 1\n",
    "        A[index] = tmp\n",
    "        end -= 1\n",
    "        merge_sort_helper(A, start, end)\n",
    "\n",
    "\n",
    "def merge_sort(A):\n",
    "    start = 0\n",
    "    end = len(A) - 1\n",
    "    merge_sort_helper(A, start, end)\n",
    "    \n",
    "a = [random.randint(0, 10) for _ in range(6)]\n",
    "b = [random.randint(0, 10) for _ in range(6)]\n",
    "a.sort(), b.sort()\n",
    "print(a+b)\n",
    "c = a+b\n",
    "merge_sort(c)\n",
    "c"
   ]
  },
  {
   "cell_type": "code",
   "execution_count": null,
   "metadata": {},
   "outputs": [],
   "source": []
  }
 ],
 "metadata": {
  "kernelspec": {
   "display_name": "Python 3",
   "language": "python",
   "name": "python3"
  },
  "language_info": {
   "codemirror_mode": {
    "name": "ipython",
    "version": 3
   },
   "file_extension": ".py",
   "mimetype": "text/x-python",
   "name": "python",
   "nbconvert_exporter": "python",
   "pygments_lexer": "ipython3",
   "version": "3.6.4"
  }
 },
 "nbformat": 4,
 "nbformat_minor": 2
}
