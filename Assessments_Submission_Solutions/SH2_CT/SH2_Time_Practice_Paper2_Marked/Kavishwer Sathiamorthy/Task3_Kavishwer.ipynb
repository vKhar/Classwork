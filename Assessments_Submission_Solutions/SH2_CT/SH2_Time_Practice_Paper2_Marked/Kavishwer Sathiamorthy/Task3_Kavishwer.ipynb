{
 "cells": [
  {
   "cell_type": "code",
   "execution_count": null,
   "metadata": {},
   "outputs": [],
   "source": [
    "# Task 3.1\n",
    "import random \n",
    "\n",
    "def inplace_merge(A, start, mid, end):\n",
    "    left = start\n",
    "    right = mid + 1\n",
    "    \n",
    "    while left < right and right <= end:\n",
    "        if A[left] <= A[right]:\n",
    "            left = left + 1\n",
    "        else:\n",
    "            index = right\n",
    "            tmp = A[right]\n",
    "            while index > left:\n",
    "                A[index] = A[index - 1]\n",
    "                index = index - 1\n",
    "            A[index] = tmp\n",
    "            right += 1\n",
    "    return A"
   ]
  },
  {
   "attachments": {},
   "cell_type": "markdown",
   "metadata": {},
   "source": [
    "[3]"
   ]
  },
  {
   "cell_type": "code",
   "execution_count": null,
   "metadata": {},
   "outputs": [],
   "source": [
    "# Task 3.2\n",
    "\n",
    "# Invalid\n",
    "a = [random.randint(0, 10) for _ in range(6)]\n",
    "b = [random.randint(0, 10) for _ in range(6)]\n",
    "print(a+b)\n",
    "print(inplace_merge(a + b, 0, 5, 11))\n",
    "\n",
    "# Boundary\n",
    "a = []\n",
    "print(a)\n",
    "print(inplace_merge(a, 0, 0, 0))\n",
    "\n",
    "# Valid\n",
    "a = [random.randint(0, 10) for _ in range(6)]\n",
    "b = [random.randint(0, 10) for _ in range(6)]\n",
    "a.sort(), b.sort()\n",
    "print(a+b)\n",
    "print(inplace_merge(a + b, 0, 5, 11))"
   ]
  },
  {
   "attachments": {},
   "cell_type": "markdown",
   "metadata": {},
   "source": [
    "- line 10 - 12 is an invalid case\n",
    "- [1]"
   ]
  },
  {
   "cell_type": "code",
   "execution_count": null,
   "metadata": {},
   "outputs": [],
   "source": [
    "# Task 2.3\n",
    "\n",
    "def merge_sort_helper(A, start, end):\n",
    "    if start >= end:\n",
    "        return\n",
    "    else:\n",
    "        index = end\n",
    "        tmp = A[end]\n",
    "        while index > start:\n",
    "            A[index] = A[index - 1]\n",
    "            index = index - 1\n",
    "        A[index] = tmp\n",
    "        end -= 1\n",
    "        merge_sort_helper(A, start, end)\n",
    "\n",
    "\n",
    "def merge_sort(A):\n",
    "    start = 0\n",
    "    end = len(A) - 1\n",
    "    merge_sort_helper(A, start, end)\n",
    "    \n",
    "a = [random.randint(0, 10) for _ in range(6)]\n",
    "b = [random.randint(0, 10) for _ in range(6)]\n",
    "a.sort(), b.sort()\n",
    "print(a+b)\n",
    "c = a+b\n",
    "merge_sort(c)\n",
    "c"
   ]
  },
  {
   "attachments": {},
   "cell_type": "markdown",
   "metadata": {},
   "source": [
    "- why are you using the built-in sort(), this is NOT merge sort\n",
    "- [0]"
   ]
  },
  {
   "attachments": {},
   "cell_type": "markdown",
   "metadata": {},
   "source": [
    "3.4\n",
    "\n",
    "[0]\n",
    "\n",
    "Total 4/11"
   ]
  }
 ],
 "metadata": {
  "kernelspec": {
   "display_name": "Python 3",
   "language": "python",
   "name": "python3"
  },
  "language_info": {
   "codemirror_mode": {
    "name": "ipython",
    "version": 3
   },
   "file_extension": ".py",
   "mimetype": "text/x-python",
   "name": "python",
   "nbconvert_exporter": "python",
   "pygments_lexer": "ipython3",
   "version": "3.6.4"
  }
 },
 "nbformat": 4,
 "nbformat_minor": 2
}
