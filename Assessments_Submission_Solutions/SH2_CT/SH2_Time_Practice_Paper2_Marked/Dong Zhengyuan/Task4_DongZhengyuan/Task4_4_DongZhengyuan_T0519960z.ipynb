{
 "cells": [
  {
   "cell_type": "code",
   "execution_count": null,
   "metadata": {},
   "outputs": [],
   "source": [
    "from flask import Flask, render_template, redirect, request\n",
    "import sqlite3\n",
    "\n",
    "app = Flask(__name__)\n",
    "con = sqlite3.connect(\"uni.db\")\n",
    "@app.route(\"/\", methods=[\"GET\"])\n",
    "def root():\n",
    "    return render_template(\"homepage.html\")\n",
    "\n",
    "@app.route(\"/\", methods=[\"POST\"])\n",
    "def calcUAS(): #assume user inputs valid data\n",
    "    try:\n",
    "        UAS = 0\n",
    "        Grades = ['A','B','C','D','E','S','U']\n",
    "        H2Scores = [20,17.5,15,12.5,10,5,0]\n",
    "        H1Scores = [10,8.75,7.5,6.35,5,3.5,0]\n",
    "        UAS += H1Scores[Grades.index(request.form[\"GP\"])] + H1Scores[Grades.index(request.form[\"PW\"])] + H2Scores[Grades.index(request.form[\"First\"])] + H2Scores[Grades.index(request.form[\"Second\"])] + H2Scores[Grades.index(request.form[\"Third\"])] + H1Scores[Grades.index(request.form[\"Fourth\"])]\n",
    "        print(\"UAS calculated\")\n",
    "        return redirect(f\"/result/{UAS}\")\n",
    "    except Exception as e:\n",
    "        print(str(e))\n",
    "        return redirect(\"/\")\n",
    "\n",
    "@app.route(\"/result/<score>\", methods=[\"GET\"])\n",
    "def displayResult(score):\n",
    "    print(score)\n",
    "    cur = con.cursor()\n",
    "    #available = list(cur.execute(\"SELECT UAS.Name, UAS.Course FROM UAS WHERE ? >= UAS.Cutoff\", [60]))\n",
    "    available = list(cur.execute(\"SELECT UAS.Name, UAS.Course FROM UAS WHERE ? >= UAS.Cutoff\", [score]))\n",
    "\n",
    "    return render_template(\"resultTable.html\", data = available)\n",
    "\n",
    "app.run()\n",
    "con.close()"
   ]
  },
  {
   "attachments": {},
   "cell_type": "markdown",
   "metadata": {},
   "source": [
    "- Why did you hardcode the score ??\n",
    "- [4]\n",
    "- WHY DID YOU NOT FOLLOW INSTRUCTIONS, .py files are to be submitted NOT .ipynb, the examiner can simply give you 0 for not finding the .py files!!!\n",
    "\n",
    "\n",
    "Total\n",
    "15/20"
   ]
  }
 ],
 "metadata": {
  "kernelspec": {
   "display_name": "Python 3",
   "language": "python",
   "name": "python3"
  },
  "language_info": {
   "codemirror_mode": {
    "name": "ipython",
    "version": 3
   },
   "file_extension": ".py",
   "mimetype": "text/x-python",
   "name": "python",
   "nbconvert_exporter": "python",
   "pygments_lexer": "ipython3",
   "version": "3.6.4"
  }
 },
 "nbformat": 4,
 "nbformat_minor": 2
}
