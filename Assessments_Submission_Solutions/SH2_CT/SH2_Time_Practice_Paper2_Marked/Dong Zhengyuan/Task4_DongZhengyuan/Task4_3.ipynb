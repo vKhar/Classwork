{
 "cells": [
  {
   "cell_type": "code",
   "execution_count": null,
   "metadata": {},
   "outputs": [],
   "source": [
    "#Task4.3\n",
    "import csv, sqlite3\n",
    "uni = list(csv.reader(open(\"IGP.CSV\",\"r\")))\n",
    "con = sqlite3.connect(\"uni.db\")\n",
    "cur = con.cursor()\n",
    "for u in uni:\n",
    "    cur.execute(\"INSERT INTO UAS(Name,Course,Cutoff) VALUES(?,?,?)\",tuple(u))\n",
    "con.commit()\n",
    "con.close()"
   ]
  },
  {
   "cell_type": "code",
   "execution_count": null,
   "metadata": {},
   "outputs": [],
   "source": [
    "import csv, sqlite3\n",
    "uni = list(csv.reader(open(\"IGP.CSV\",\"r\")))\n",
    "con = sqlite3.connect(\"uni.db\")\n",
    "cur = con.cursor()\n",
    "print(list(cur.execute(\"SELECT UAS.Name, UAS.Course FROM UAS WHERE ? >= UAS.Cutoff\", [80])))"
   ]
  },
  {
   "cell_type": "code",
   "execution_count": null,
   "metadata": {},
   "outputs": [],
   "source": [
    "[3]"
   ]
  }
 ],
 "metadata": {
  "kernelspec": {
   "display_name": "Python 3",
   "language": "python",
   "name": "python3"
  },
  "language_info": {
   "codemirror_mode": {
    "name": "ipython",
    "version": 3
   },
   "file_extension": ".py",
   "mimetype": "text/x-python",
   "name": "python",
   "nbconvert_exporter": "python",
   "pygments_lexer": "ipython3",
   "version": "3.6.4"
  }
 },
 "nbformat": 4,
 "nbformat_minor": 2
}
