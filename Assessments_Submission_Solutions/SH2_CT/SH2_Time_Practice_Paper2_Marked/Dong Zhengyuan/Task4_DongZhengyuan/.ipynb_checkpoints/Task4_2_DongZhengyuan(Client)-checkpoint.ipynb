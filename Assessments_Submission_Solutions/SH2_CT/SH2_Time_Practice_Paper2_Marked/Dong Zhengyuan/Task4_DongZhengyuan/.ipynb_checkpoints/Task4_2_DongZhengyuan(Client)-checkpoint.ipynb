{
 "cells": [
  {
   "cell_type": "code",
   "execution_count": null,
   "metadata": {},
   "outputs": [
    {
     "name": "stdout",
     "output_type": "stream",
     "text": [
      "GP Grade:A\n",
      "PW Grade:A\n",
      "1st H2 Grade:A\n",
      "2nd H2 Grade:A\n",
      "3rd H2 Grade:A\n",
      "H1 Grade/Lowest H2 subject gradeA\n"
     ]
    }
   ],
   "source": [
    "#Task4.2\n",
    "#Client\n",
    "from socket import socket\n",
    "\n",
    "gp = input(\"GP Grade:\") #asuume client inputs grades as capital letters\n",
    "pw = input(\"PW Grade:\")\n",
    "H2_1 = input(\"1st H2 Grade:\")\n",
    "H2_2 = input(\"2nd H2 Grade:\")\n",
    "H2_3 = input(\"3rd H2 Grade:\")\n",
    "H1 = input(\"H1 Grade/Lowest H2 subject grade\")\n",
    "\n",
    "s = socket()\n",
    "s.connect((\"127.0.0.1\", 9999))\n",
    "s.sendall(f\"{gp},{pw},{H2_1},{H2_2},{H2_3},{H1}\".encode() + b\"\\n\")\n",
    "UAS = s.recv(1024)\n",
    "print(f\"UAS:{UAS.decode()}\")\n",
    "s.close()"
   ]
  },
  {
   "cell_type": "code",
   "execution_count": null,
   "metadata": {},
   "outputs": [],
   "source": []
  }
 ],
 "metadata": {
  "kernelspec": {
   "display_name": "Python 3",
   "language": "python",
   "name": "python3"
  },
  "language_info": {
   "codemirror_mode": {
    "name": "ipython",
    "version": 3
   },
   "file_extension": ".py",
   "mimetype": "text/x-python",
   "name": "python",
   "nbconvert_exporter": "python",
   "pygments_lexer": "ipython3",
   "version": "3.6.4"
  }
 },
 "nbformat": 4,
 "nbformat_minor": 2
}
