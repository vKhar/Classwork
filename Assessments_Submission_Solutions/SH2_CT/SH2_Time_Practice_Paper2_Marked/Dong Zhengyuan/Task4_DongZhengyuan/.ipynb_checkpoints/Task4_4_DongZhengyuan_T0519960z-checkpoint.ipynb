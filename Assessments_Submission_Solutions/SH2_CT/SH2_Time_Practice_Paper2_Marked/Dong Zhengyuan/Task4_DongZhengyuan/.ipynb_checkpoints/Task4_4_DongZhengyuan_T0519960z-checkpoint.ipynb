{
 "cells": [
  {
   "cell_type": "code",
   "execution_count": null,
   "metadata": {},
   "outputs": [
    {
     "name": "stderr",
     "output_type": "stream",
     "text": [
      " * Running on http://127.0.0.1:5000/ (Press CTRL+C to quit)\n",
      "127.0.0.1 - - [19/May/2023 09:43:32] \"\u001b[37mGET / HTTP/1.1\u001b[0m\" 200 -\n",
      "127.0.0.1 - - [19/May/2023 09:46:03] \"\u001b[32mPOST / HTTP/1.1\u001b[0m\" 302 -\n"
     ]
    },
    {
     "name": "stdout",
     "output_type": "stream",
     "text": [
      "UAS calculated\n"
     ]
    },
    {
     "name": "stderr",
     "output_type": "stream",
     "text": [
      "127.0.0.1 - - [19/May/2023 09:46:03] \"\u001b[37mGET /result/90 HTTP/1.1\u001b[0m\" 200 -\n"
     ]
    },
    {
     "name": "stdout",
     "output_type": "stream",
     "text": [
      "90\n"
     ]
    }
   ],
   "source": [
    "from flask import Flask, render_template, redirect, request\n",
    "import sqlite3\n",
    "\n",
    "app = Flask(__name__)\n",
    "con = sqlite3.connect(\"uni.db\")\n",
    "@app.route(\"/\", methods=[\"GET\"])\n",
    "def root():\n",
    "    return render_template(\"homepage.html\")\n",
    "\n",
    "@app.route(\"/\", methods=[\"POST\"])\n",
    "def calcUAS(): #assume user inputs valid data\n",
    "    try:\n",
    "        UAS = 0\n",
    "        Grades = ['A','B','C','D','E','S','U']\n",
    "        H2Scores = [20,17.5,15,12.5,10,5,0]\n",
    "        H1Scores = [10,8.75,7.5,6.35,5,3.5,0]\n",
    "        UAS += H1Scores[Grades.index(request.form[\"GP\"])] + H1Scores[Grades.index(request.form[\"PW\"])] + H2Scores[Grades.index(request.form[\"First\"])] + H2Scores[Grades.index(request.form[\"Second\"])] + H2Scores[Grades.index(request.form[\"Third\"])] + H1Scores[Grades.index(request.form[\"Fourth\"])]\n",
    "        print(\"UAS calculated\")\n",
    "        return redirect(f\"/result/{UAS}\")\n",
    "    except Exception as e:\n",
    "        print(str(e))\n",
    "        return redirect(\"/\")\n",
    "\n",
    "@app.route(\"/result/<score>\", methods=[\"GET\"])\n",
    "def displayResult(score):\n",
    "    print(score)\n",
    "    cur = con.cursor()\n",
    "    available = list(cur.execute(\"SELECT UAS.Name, UAS.Course FROM UAS WHERE ? >= UAS.Cutoff\", [80]))\n",
    "    return render_template(\"resultTable.html\", data = available)\n",
    "\n",
    "app.run()\n",
    "con.close()"
   ]
  },
  {
   "cell_type": "code",
   "execution_count": null,
   "metadata": {},
   "outputs": [],
   "source": []
  }
 ],
 "metadata": {
  "kernelspec": {
   "display_name": "Python 3",
   "language": "python",
   "name": "python3"
  },
  "language_info": {
   "codemirror_mode": {
    "name": "ipython",
    "version": 3
   },
   "file_extension": ".py",
   "mimetype": "text/x-python",
   "name": "python",
   "nbconvert_exporter": "python",
   "pygments_lexer": "ipython3",
   "version": "3.6.4"
  }
 },
 "nbformat": 4,
 "nbformat_minor": 2
}
