{
 "cells": [
  {
   "cell_type": "code",
   "execution_count": 3,
   "metadata": {},
   "outputs": [],
   "source": [
    "#Task4.3\n",
    "import csv, sqlite3\n",
    "uni = list(csv.reader(open(\"IGP.CSV\",\"r\")))\n",
    "con = sqlite3.connect(\"uni.db\")\n",
    "cur = con.cursor()\n",
    "for u in uni:\n",
    "    cur.execute(\"INSERT INTO UAS(Name,Course,Cutoff) VALUES(?,?,?)\",tuple(u))\n",
    "con.commit()\n",
    "con.close()"
   ]
  },
  {
   "cell_type": "code",
   "execution_count": 16,
   "metadata": {},
   "outputs": [
    {
     "ename": "SyntaxError",
     "evalue": "unexpected EOF while parsing (<ipython-input-16-5312ca55610f>, line 5)",
     "output_type": "error",
     "traceback": [
      "\u001b[1;36m  File \u001b[1;32m\"<ipython-input-16-5312ca55610f>\"\u001b[1;36m, line \u001b[1;32m5\u001b[0m\n\u001b[1;33m    print(list(cur.execute(\"SELECT UAS.Name, UAS.Course FROM UAS WHERE ? >= UAS.Cutoff\", [80]))\u001b[0m\n\u001b[1;37m                                                                                               ^\u001b[0m\n\u001b[1;31mSyntaxError\u001b[0m\u001b[1;31m:\u001b[0m unexpected EOF while parsing\n"
     ]
    }
   ],
   "source": [
    "import csv, sqlite3\n",
    "uni = list(csv.reader(open(\"IGP.CSV\",\"r\")))\n",
    "con = sqlite3.connect(\"uni.db\")\n",
    "cur = con.cursor()\n",
    "print(list(cur.execute(\"SELECT UAS.Name, UAS.Course FROM UAS WHERE ? >= UAS.Cutoff\", [80])))"
   ]
  },
  {
   "cell_type": "code",
   "execution_count": null,
   "metadata": {},
   "outputs": [],
   "source": []
  }
 ],
 "metadata": {
  "kernelspec": {
   "display_name": "Python 3",
   "language": "python",
   "name": "python3"
  },
  "language_info": {
   "codemirror_mode": {
    "name": "ipython",
    "version": 3
   },
   "file_extension": ".py",
   "mimetype": "text/x-python",
   "name": "python",
   "nbconvert_exporter": "python",
   "pygments_lexer": "ipython3",
   "version": "3.6.4"
  }
 },
 "nbformat": 4,
 "nbformat_minor": 2
}
