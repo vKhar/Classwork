{
 "cells": [
  {
   "cell_type": "code",
   "execution_count": null,
   "metadata": {},
   "outputs": [],
   "source": [
    "#Task 1.1\n",
    "import string\n",
    "def hex2Str(hex_str:str):\n",
    "    ret = \"\"\n",
    "    stringMap = []\n",
    "    for char in string.digits + string.ascii_letters:\n",
    "        stringMap.append(char)\n",
    "    print(stringMap)\n",
    "    for i in range(len(hex_str)):\n",
    "        print(hex_str[i].lower())\n",
    "        ret += stringMap.index(f'{hex_str[i].lower()}')#*(16**(len(hex_str)-1-i))\n",
    "    return ret\n",
    "print(hex2Str(\"4142432C312C31350a\"))"
   ]
  },
  {
   "attachments": {},
   "cell_type": "markdown",
   "metadata": {},
   "source": [
    "???\n",
    "- What does your code do ? \n",
    "- What do you want to do ?\n",
    "- Do you know what you need to do ?\n",
    "- [0m]\n",
    "\n",
    "Total\n",
    "\n",
    "0/26"
   ]
  },
  {
   "cell_type": "code",
   "execution_count": null,
   "metadata": {},
   "outputs": [],
   "source": []
  }
 ],
 "metadata": {
  "kernelspec": {
   "display_name": "Python 3",
   "language": "python",
   "name": "python3"
  },
  "language_info": {
   "codemirror_mode": {
    "name": "ipython",
    "version": 3
   },
   "file_extension": ".py",
   "mimetype": "text/x-python",
   "name": "python",
   "nbconvert_exporter": "python",
   "pygments_lexer": "ipython3",
   "version": "3.6.4"
  }
 },
 "nbformat": 4,
 "nbformat_minor": 2
}
