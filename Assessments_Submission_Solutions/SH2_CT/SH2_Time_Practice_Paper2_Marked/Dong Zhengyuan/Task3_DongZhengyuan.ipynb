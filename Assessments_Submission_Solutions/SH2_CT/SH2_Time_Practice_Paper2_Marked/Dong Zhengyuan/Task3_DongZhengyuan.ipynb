{
 "cells": [
  {
   "cell_type": "code",
   "execution_count": null,
   "metadata": {},
   "outputs": [],
   "source": [
    "#Task 3.1\n",
    "def inplace_merge(A,start,mid,end):\n",
    "    left = start\n",
    "    right = mid+1\n",
    "    while left < right and right <= end:\n",
    "        if A[left] <= A[right]:\n",
    "            left += 1\n",
    "        else:\n",
    "            index = right\n",
    "            tmp = A[right]\n",
    "            while index > left:\n",
    "                A[index],A[index-1] = A[index-1],A[index]\n",
    "                index -= 1\n",
    "            #missing code\n",
    "            right += 1\n",
    "        #print(A, left, right)\n"
   ]
  },
  {
   "attachments": {},
   "cell_type": "markdown",
   "metadata": {},
   "source": [
    "- line 12 : code not the same as in pseudocode\n",
    "- [2]"
   ]
  },
  {
   "cell_type": "code",
   "execution_count": null,
   "metadata": {},
   "outputs": [],
   "source": [
    "#Task 3.2\n",
    "def inplace_merge(A,start,mid,end):\n",
    "    left = start\n",
    "    right = mid+1\n",
    "    while left < right and right <= end:\n",
    "        if A[left] <= A[right]:\n",
    "            left += 1\n",
    "        else:\n",
    "            index = right\n",
    "            tmp = A[right]\n",
    "            while index > left:\n",
    "                A[index],A[index-1] = A[index-1],A[index]\n",
    "                index -= 1\n",
    "            #missing code\n",
    "            right += 1\n",
    "        #print(A, left, right)\n",
    "\n",
    "#Valid Test case, returns [1, 2, 3, 4, 5, 6, 8]\n",
    "A = [2,4,6,8,1,3,5]\n",
    "print(A)\n",
    "inplace_merge(A,0,3,6)\n",
    "print(A)\n",
    "\n",
    "#Boundary Test case, returns []\n",
    "A = []\n",
    "print(A)\n",
    "inplace_merge(A,0,0,0)\n",
    "print(A)\n",
    "\n",
    "#Invalid Test case, returns TypeError\n",
    "A = [None,1,True]\n",
    "print(A)\n",
    "inplace_merge(A,0,1,2)\n",
    "print(A)"
   ]
  },
  {
   "attachments": {},
   "cell_type": "markdown",
   "metadata": {},
   "source": [
    "- line 25 - 28 is a invalid case\n",
    "- [1]"
   ]
  },
  {
   "cell_type": "code",
   "execution_count": null,
   "metadata": {},
   "outputs": [],
   "source": [
    "#Task 3.3\n",
    "def merge_sort_helper(A,start,end):\n",
    "    if start >= end:\n",
    "        return\n",
    "    else:\n",
    "        left\n",
    "        if A[left] <= A[right]\n",
    "\n",
    "def merge_sort(A):\n",
    "    start = 0\n",
    "    end = len(A)-1\n",
    "    return merge_sort_helper(A,start,end)\n",
    "\n",
    "A = [2,4,6,8,1,3,5]\n",
    "print(A)\n",
    "merge_sort(A)\n",
    "print(A)\n"
   ]
  },
  {
   "attachments": {},
   "cell_type": "markdown",
   "metadata": {},
   "source": [
    "[0]\n",
    "\n",
    "3.4\n",
    "\n",
    "[0]\n",
    "\n",
    "Total\n",
    "3/11"
   ]
  }
 ],
 "metadata": {
  "kernelspec": {
   "display_name": "Python 3",
   "language": "python",
   "name": "python3"
  },
  "language_info": {
   "codemirror_mode": {
    "name": "ipython",
    "version": 3
   },
   "file_extension": ".py",
   "mimetype": "text/x-python",
   "name": "python",
   "nbconvert_exporter": "python",
   "pygments_lexer": "ipython3",
   "version": "3.6.4"
  }
 },
 "nbformat": 4,
 "nbformat_minor": 2
}
