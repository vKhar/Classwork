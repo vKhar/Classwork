{
 "cells": [
  {
   "cell_type": "code",
   "execution_count": null,
   "metadata": {},
   "outputs": [],
   "source": []
  },
  {
   "cell_type": "code",
   "execution_count": null,
   "metadata": {},
   "outputs": [
    {
     "name": "stdout",
     "output_type": "stream",
     "text": [
      "listening for connection\n",
      "['A', 'A', 'A', 'A', 'A', 'A']\n",
      "UAS:90\n"
     ]
    }
   ],
   "source": [
    "#Server\n",
    "from socket import socket\n",
    "\n",
    "listenS = socket()\n",
    "listenS.bind((\"127.0.0.1\",9999))\n",
    "listenS.listen()\n",
    "print(\"listening for connection\")\n",
    "while True:\n",
    "    clientS, address = listenS.accept()\n",
    "    msg = clientS.recv(4096)\n",
    "    recieved = msg.decode().strip().split(\",\")\n",
    "    print(recieved)\n",
    "    if recieved == \"Close\":\n",
    "        clientS.close()\n",
    "        listenS.close()\n",
    "        break\n",
    "    else:\n",
    "        UAS = 0\n",
    "        Grades = ['A','B','C','D','E','S','U']  #asuume client inputs grades as capital letters\n",
    "        H2Scores = [20,17.5,15,12.5,10,5,0]\n",
    "        H1Scores = [10,8.75,7.5,6.35,5,3.5,0]\n",
    "        UAS += H1Scores[Grades.index(recieved[0])] + H1Scores[Grades.index(recieved[1])] + H2Scores[Grades.index(recieved[2])] + H2Scores[Grades.index(recieved[3])] + H2Scores[Grades.index(recieved[4])] + H1Scores[Grades.index(recieved[5])]\n",
    "        print(f\"UAS:{UAS}\")\n",
    "        clientS.sendall(str(UAS).encode())\n",
    "        clientS.close()"
   ]
  },
  {
   "cell_type": "code",
   "execution_count": null,
   "metadata": {},
   "outputs": [],
   "source": []
  }
 ],
 "metadata": {
  "kernelspec": {
   "display_name": "Python 3",
   "language": "python",
   "name": "python3"
  },
  "language_info": {
   "codemirror_mode": {
    "name": "ipython",
    "version": 3
   },
   "file_extension": ".py",
   "mimetype": "text/x-python",
   "name": "python",
   "nbconvert_exporter": "python",
   "pygments_lexer": "ipython3",
   "version": "3.6.4"
  }
 },
 "nbformat": 4,
 "nbformat_minor": 2
}
