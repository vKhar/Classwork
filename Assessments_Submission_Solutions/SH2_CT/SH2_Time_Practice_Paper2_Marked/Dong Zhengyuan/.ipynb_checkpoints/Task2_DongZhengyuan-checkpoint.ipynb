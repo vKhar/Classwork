{
 "cells": [
  {
   "cell_type": "code",
   "execution_count": null,
   "metadata": {},
   "outputs": [],
   "source": [
    "#Task 2.1\n",
    "class HashTable:\n",
    "    def __init__(self,n:int):\n",
    "        self._size = n\n",
    "        self._a = [None for _ in range(n)]\n",
    "    def hasher(self, key:str):\n",
    "        total = 0\n",
    "        for i in range(len(key)):\n",
    "            total += ord(key[i])*(i+1)\n",
    "        return total%self._size\n",
    "    def insert(self, key:str,value): #returns boolean, linear probing\n",
    "        index = hasher(key)\n",
    "        while index < self._size:\n",
    "            if self._a[index] == None: #if empty\n",
    "                self._a[index] = (key, value)\n",
    "                return True\n",
    "            index += 1\n",
    "        return False\n",
    "    def find(self, key:str):\n",
    "        return self._a[hasher(key)][1]\n",
    "    def __repr__(self):\n",
    "        ret = []\n",
    "        for i in range(self._size):\n",
    "            ret.append(f\"{i}:{self._a[i]}\")\n",
    "        return \",\".join(ret)\n",
    "        "
   ]
  },
  {
   "cell_type": "code",
   "execution_count": 6,
   "metadata": {},
   "outputs": [
    {
     "name": "stdout",
     "output_type": "stream",
     "text": [
      "0:('sch.org', 'school'),1:('www.co', 'web'),2:('ai.net', 'sky net')\n",
      "web\n",
      "sky net\n"
     ]
    }
   ],
   "source": [
    "#Task 2.2\n",
    "class HashTable:\n",
    "    def __init__(self,n:int):\n",
    "        self._size = n\n",
    "        self._a = [None for _ in range(n)]\n",
    "    def hasher(self, key:str):\n",
    "        total = 0\n",
    "        for i in range(len(key)):\n",
    "            total += ord(key[i])*(i+1)\n",
    "        return total%self._size\n",
    "    def insert(self, key:str,value): #returns boolean, linear probing\n",
    "        index = self.hasher(key)\n",
    "        while index < self._size:\n",
    "            if self._a[index] == None: #if empty\n",
    "                self._a[index] = (key, value)\n",
    "                return True\n",
    "            index += 1\n",
    "        return False\n",
    "    def find(self, key:str):\n",
    "        for i in range(self._size):\n",
    "            if self._a[i][0] == key:\n",
    "                return self._a[i][1]\n",
    "        return None\n",
    "    def __repr__(self):\n",
    "        ret = []\n",
    "        for i in range(self._size):\n",
    "            ret.append(f\"{i}:{self._a[i]}\")\n",
    "        return \",\".join(ret)\n",
    "\n",
    "h = HashTable(3)\n",
    "h.insert(\"www.co\",\"web\")\n",
    "h.insert(\"sch.org\",\"school\")\n",
    "h.insert(\"ai.net\",\"sky net\")\n",
    "print(h)\n",
    "print(h.find(\"www.co\"))\n",
    "print(h.find(\"ai.net\"))"
   ]
  },
  {
   "cell_type": "code",
   "execution_count": 35,
   "metadata": {},
   "outputs": [
    {
     "name": "stdout",
     "output_type": "stream",
     "text": [
      "None\n",
      "www.hi.cc\n",
      "www.hi.cc\n",
      "www.hi.cc\n",
      "www.hi.cc\n",
      "www.hi.cc\n",
      "www.hi.cc\n",
      "www.hi.cc\n",
      "www.hi.cc\n",
      "www.hi.cc\n",
      "www.hi.cc\n",
      "www.hi.cc\n",
      "None\n"
     ]
    }
   ],
   "source": [
    "#Task 2.3\n",
    "class Node:\n",
    "    def __init__(self,key):#public attributes as its attributes are used in the ordered hash table\n",
    "        self.key = key\n",
    "        self.next = None\n",
    "    def __repr__(self):\n",
    "        return self.key\n",
    "\n",
    "class OrderedHashTable(HashTable):\n",
    "    def __init__(self,n):\n",
    "        super().__init__(n)\n",
    "        self._root = None\n",
    "        self._head = -1\n",
    "    def insert(self, key:str,value): #returns boolean, linear probing\n",
    "        index = self.hasher(key)\n",
    "        if self._head == -1:\n",
    "            self._head = 0\n",
    "            newNode = Node(key)\n",
    "            self._root = newNode\n",
    "        else:\n",
    "            pointer = 0\n",
    "            node = self._root\n",
    "            newNode = Node(key)\n",
    "            while pointer < self._size:\n",
    "                print(node)\n",
    "                if not node.next: #not None\n",
    "                    node.next = newNode\n",
    "                    break\n",
    "                pointer += 1\n",
    "        while index < self._size:\n",
    "            if self._a[index] == None: #if empty\n",
    "                self._a[index] = (key, value)\n",
    "                return True\n",
    "            index += 1\n",
    "        return False\n",
    "    def keys(self):\n",
    "        ret = []\n",
    "        if self._head == -1:\n",
    "            return self._root\n",
    "        else:\n",
    "            pointer = 0\n",
    "            current = self._root\n",
    "            while pointer < self._size:\n",
    "                ret.append(current)\n",
    "                #print(node)\n",
    "                if current.next: #not None\n",
    "                    current = current.next\n",
    "                else:\n",
    "                    break\n",
    "                pointer += 1\n",
    "\n",
    "#Task 2.4\n",
    "h = OrderedHashTable(10)\n",
    "h.insert(\"www.hi.cc\",\"Hello World\")\n",
    "print(h.keys())\n",
    "h.insert(\"ppp.me\",\"text site\")\n",
    "h.insert(\"njc.sch\",\"school\")\n",
    "print(h.keys())"
   ]
  },
  {
   "cell_type": "code",
   "execution_count": 25,
   "metadata": {},
   "outputs": [
    {
     "name": "stdout",
     "output_type": "stream",
     "text": [
      "[www.hi.cc, ppp.me, ppp.me, ppp.me, ppp.me, ppp.me, ppp.me, ppp.me, ppp.me, ppp.me]\n"
     ]
    }
   ],
   "source": []
  },
  {
   "cell_type": "code",
   "execution_count": null,
   "metadata": {},
   "outputs": [],
   "source": []
  }
 ],
 "metadata": {
  "kernelspec": {
   "display_name": "Python 3",
   "language": "python",
   "name": "python3"
  },
  "language_info": {
   "codemirror_mode": {
    "name": "ipython",
    "version": 3
   },
   "file_extension": ".py",
   "mimetype": "text/x-python",
   "name": "python",
   "nbconvert_exporter": "python",
   "pygments_lexer": "ipython3",
   "version": "3.6.4"
  }
 },
 "nbformat": 4,
 "nbformat_minor": 2
}
