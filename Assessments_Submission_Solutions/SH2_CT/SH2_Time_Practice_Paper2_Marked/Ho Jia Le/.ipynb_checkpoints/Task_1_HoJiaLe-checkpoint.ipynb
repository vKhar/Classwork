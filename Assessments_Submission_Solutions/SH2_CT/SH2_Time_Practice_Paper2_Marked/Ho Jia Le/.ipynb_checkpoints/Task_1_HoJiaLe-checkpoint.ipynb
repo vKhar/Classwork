{
 "cells": [
  {
   "cell_type": "code",
   "execution_count": 23,
   "metadata": {},
   "outputs": [
    {
     "data": {
      "text/plain": [
       "'ABC,1,15\\n'"
      ]
     },
     "execution_count": 23,
     "metadata": {},
     "output_type": "execute_result"
    }
   ],
   "source": [
    "#Task 1.1\n",
    "def hex2Str(hex): \n",
    "    hexlist = {'a':10, 'b': 11,'c':12,'d':13,'e':14 ,'f':15,'A':10, 'B': 11,'C':12,'D':13,'E':14 ,'F':15}\n",
    "    hex = list(hex)\n",
    "    temp = []\n",
    "    for i in range(1,len(hex),2):\n",
    "        temp.append(hex[i-1] + hex[i])\n",
    "    ret = []\n",
    "    for i in temp:\n",
    "        num = 0\n",
    "        if i[0] in hexlist:\n",
    "            num += hexlist[i[0]]*16\n",
    "        else:\n",
    "            num += int(i[0])*16\n",
    "        if i[1] in hexlist:\n",
    "            num += hexlist[i[1]]\n",
    "        else:\n",
    "            num += int(i[1])\n",
    "        ret.append(chr(num))     \n",
    "    return ''.join(ret)\n",
    "hex2Str('4142432C312C31350a')"
   ]
  },
  {
   "cell_type": "code",
   "execution_count": 39,
   "metadata": {},
   "outputs": [
    {
     "name": "stdout",
     "output_type": "stream",
     "text": [
      "[<__main__.item object at 0x00000188087A3390>, <__main__.item object at 0x00000188087A3240>, <__main__.item object at 0x00000188087A35F8>, <__main__.item object at 0x00000188087A3630>, <__main__.item object at 0x00000188087A0128>, <__main__.item object at 0x00000188087A0BE0>, <__main__.item object at 0x00000188087A0710>, <__main__.item object at 0x00000188087A0B70>, <__main__.item object at 0x00000188087A0E10>, <__main__.item object at 0x00000188087A05C0>, <__main__.item object at 0x00000188087A0470>, <__main__.item object at 0x00000188087A00F0>, <__main__.item object at 0x00000188087A0208>, <__main__.item object at 0x00000188087A0A90>, <__main__.item object at 0x00000188087A0860>, <__main__.item object at 0x00000188087A0898>, <__main__.item object at 0x00000188087A0780>, <__main__.item object at 0x00000188087A0908>, <__main__.item object at 0x00000188087A0940>, <__main__.item object at 0x00000188087A0C18>, <__main__.item object at 0x00000188087A0E48>, <__main__.item object at 0x000001880870AFD0>, <__main__.item object at 0x000001880879F320>, <__main__.item object at 0x000001880879F278>, <__main__.item object at 0x000001880879F160>, <__main__.item object at 0x000001880879F0B8>, <__main__.item object at 0x000001880879F9B0>, <__main__.item object at 0x000001880879FA58>, <__main__.item object at 0x000001880879FAC8>, <__main__.item object at 0x000001880879FB38>, <__main__.item object at 0x000001880879FBA8>, <__main__.item object at 0x000001880879FC18>, <__main__.item object at 0x000001880879FC88>, <__main__.item object at 0x000001880879FCF8>, <__main__.item object at 0x000001880879FD68>, <__main__.item object at 0x000001880879FDD8>, <__main__.item object at 0x000001880879FE48>]\n"
     ]
    }
   ],
   "source": [
    "#Task 2.2\n",
    "class item:\n",
    "    def __init__(self, id, name):\n",
    "        self.id = id\n",
    "        self.name = name\n",
    "with open(\"ITEMS.TXT\") as f:\n",
    "    decoded = hex2Str(f.read().strip())\n",
    "    decoded = decoded.split('\\n')\n",
    "    itemlist = []\n",
    "    for i in decoded[:-1]:\n",
    "        temp = i.split(',')\n",
    "        itemlist.append(item(temp[0],temp[1]))\n",
    "    print(itemlist)\n"
   ]
  },
  {
   "cell_type": "code",
   "execution_count": 43,
   "metadata": {},
   "outputs": [
    {
     "name": "stdout",
     "output_type": "stream",
     "text": [
      "[<__main__.Character object at 0x00000188087C50F0>, <__main__.Character object at 0x00000188087C55C0>, <__main__.Character object at 0x00000188087CACC0>, <__main__.Character object at 0x00000188087CAE80>]\n"
     ]
    }
   ],
   "source": [
    "#Task 1.3\n",
    "class Character:\n",
    "    def __init__(self, name, classtype, strength, dex, intel, xp, items):\n",
    "        self.name = name\n",
    "        self.classtype = classtype\n",
    "        self.strength = strength\n",
    "        self.dex = dex\n",
    "        self.intel = intel\n",
    "        self.xp = xp\n",
    "        self.items = items\n",
    "with open(\"CHARACTERS.TXT\") as f:\n",
    "    content = (hex2Str(f.read()))\n",
    "    content = content.split('\\n')\n",
    "    content = content[:-1]\n",
    "    characters = []\n",
    "    for i in range(0,len(content),2):\n",
    "        stats = content[i].split(',')\n",
    "        charitems = content[i+1].split(',')\n",
    "        characters.append(Character(stats[0],stats[1],stats[2],stats[3],stats[4],stats[5],charitems))\n"
   ]
  },
  {
   "cell_type": "code",
   "execution_count": null,
   "metadata": {},
   "outputs": [],
   "source": [
    "#Task 1.4\n",
    "import pymongo\n",
    "db = pymongo.MongoClient('localhost',27017)\n",
    "db = db.get_database('Overwatch')\n",
    "coll = db.get_collection('Characters')\n",
    "for x in characters:\n",
    "    charitems = x.items\n",
    "    retitems = []\n",
    "    for i in charitems:\n",
    "        item = {}\n",
    "        for j in itemlist:\n",
    "            if j.id == i:\n",
    "                item['id'] = j.id\n",
    "                item['name'] = j.name\n",
    "        retitems.append(item)\n",
    "    data = {'name': x.name, 'class': x.classtype, 'str': x.strength, 'dex':x.dex, 'int': x.intel, 'xp':x.xp,'items': retitems}\n",
    "    coll.insert_one(data)\n",
    "\n",
    "    "
   ]
  },
  {
   "cell_type": "code",
   "execution_count": null,
   "metadata": {},
   "outputs": [],
   "source": []
  }
 ],
 "metadata": {
  "kernelspec": {
   "display_name": "Python 3",
   "language": "python",
   "name": "python3"
  },
  "language_info": {
   "codemirror_mode": {
    "name": "ipython",
    "version": 3
   },
   "file_extension": ".py",
   "mimetype": "text/x-python",
   "name": "python",
   "nbconvert_exporter": "python",
   "pygments_lexer": "ipython3",
   "version": "3.6.4"
  }
 },
 "nbformat": 4,
 "nbformat_minor": 2
}
