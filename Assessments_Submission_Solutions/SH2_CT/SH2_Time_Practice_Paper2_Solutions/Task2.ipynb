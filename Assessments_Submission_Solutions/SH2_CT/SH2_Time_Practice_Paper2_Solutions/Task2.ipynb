{
 "cells": [
  {
   "cell_type": "code",
   "execution_count": null,
   "metadata": {},
   "outputs": [],
   "source": [
    "# Task 2.1 [2,2,2,6,5]\n",
    "class HashTable:\n",
    "    def __init__(self,n): # [2]\n",
    "        self.array = [None for _ in range(n)]\n",
    "        self.size = n\n",
    "\n",
    "    def hash(self, key): #[2]\n",
    "        return (sum([ord(key[i])* (i+1) for i in range(len(key))])) % self.size\n",
    "\n",
    "    def __repr__(self): #[2]\n",
    "        ret=[]\n",
    "        for i, data in enumerate(self.array):\n",
    "            ret.append(f\"{i}:{data}\")\n",
    "        return f\"{ret}\"\n",
    "\n",
    "    def find(self, key:str)->tuple:\n",
    "        index = self.hash(key) #[1]\n",
    "        if self.array[index] and self.array[index][0] == key: # need to test for None before indexing\n",
    "            return self.array[index] #[1], returns the tuple\n",
    "        else:\n",
    "            ## linear probing\n",
    "            i = (index+1)%self.size #[1]\n",
    "            while i != index: #[1]\n",
    "                if self.array[i] and self.array[i][0] == key: #[1]\n",
    "                    return self.array[i]\n",
    "                else:\n",
    "                    i = (i+1)%self.size #[1]\n",
    "            else:\n",
    "                return None\n",
    "\n",
    "        \n",
    "    def insert(self, key:str, value:object)->bool : \n",
    "        index = self.hash(key) #[1]\n",
    "        if self.array[index] == None: #[1]\n",
    "            self.array[index] = (key, value)\n",
    "            return True\n",
    "        else:\n",
    "            ## linear probing\n",
    "            i = (index + 1)%self.size #[1]\n",
    "            while i != index:\n",
    "                if self.array[i] == None: #[1]\n",
    "                    self.array[i] = (key, value)\n",
    "                    return True\n",
    "                else:\n",
    "                    i = (i+1)%self.size #[1]\n",
    "            else:\n",
    "                return False\n"
   ]
  },
  {
   "cell_type": "code",
   "execution_count": 12,
   "metadata": {},
   "outputs": [
    {
     "name": "stdout",
     "output_type": "stream",
     "text": [
      "[\"0:('sch.org', 'school')\", \"1:('www.co', 'web')\", \"2:('at.net', 'sky net')\"]\n"
     ]
    },
    {
     "data": {
      "text/plain": [
       "('at.net', 'sky net')"
      ]
     },
     "execution_count": 12,
     "metadata": {},
     "output_type": "execute_result"
    }
   ],
   "source": [
    "## Task 2.2\n",
    "ht = HashTable(3)\n",
    "ht.insert(\"www.co\", \"web\")\n",
    "ht.insert(\"sch.org\", \"school\")\n",
    "ht.insert(\"at.net\", \"sky net\")\n",
    "ht.insert(\"xxx\", \"xxx\")\n",
    "print(ht)\n",
    "ht.find(\"at.net\")\n"
   ]
  },
  {
   "cell_type": "code",
   "execution_count": null,
   "metadata": {},
   "outputs": [],
   "source": [
    "## Task 2.3\n",
    "## The code shows a insert front on the linked list with O(1)\n",
    "## IF insert back is implemented it will be O(n) [-1]\n",
    "\n",
    "class Node:\n",
    "## need not use a Node object, can just use a tuple with (key,value,next) #\n",
    "## if a Node object is used, need to modify find()\n",
    "    def __init__(self, data=None):\n",
    "        self.data = data\n",
    "        self.next = None \n",
    "    def __repr__(self):\n",
    "        return f\"<{self.data}:{self.next}>\"\n",
    "\n",
    "class OrderedHashTable(HashTable): ## Hybrid hash table and linked list [2,4,4]\n",
    "\n",
    "    def __init__(self,n):\n",
    "        super().__init__(n) #[1]\n",
    "        self.head = -1 #[1] -1, None can be used as terminator\n",
    " \n",
    "    def keys(self):\n",
    "        ret=[]\n",
    "        cur = self.head #[1]\n",
    "        while cur != -1: #[1]\n",
    "            ret.append(self.array[cur][0])\n",
    "            cur = self.array[cur][2] #[1]\n",
    "        return ret[::-1] #[1] correct order\n",
    "        \n",
    "    def insert(self, key:str, value:object)->bool : \n",
    "        ## insert at the front of linked list do not need to modify the next pointer of the previous node\n",
    "        index = self.hash(key)\n",
    "        if self.array[index] == None:\n",
    "            ## insert in front of link list \n",
    "            self.array[index] = (key,value,self.head) # [1] Modified to include next pointer\n",
    "            self.head = index #[1] \n",
    "            return True\n",
    "        else:\n",
    "            ## linear probing\n",
    "            i = (index + 1)%self.size\n",
    "            while i != index:\n",
    "                if self.array[i] == None:\n",
    "                    self.array[i] = (key,value,self.head) #[1]\n",
    "                    self.head = i #[1]\n",
    "                    return True\n",
    "                else:\n",
    "                    i = (i+1)%self.size\n",
    "            else:\n",
    "                return False"
   ]
  },
  {
   "cell_type": "code",
   "execution_count": null,
   "metadata": {},
   "outputs": [],
   "source": [
    "# Task 2.4 [1]\n",
    "ht = OrderedHashTable(3)\n",
    "ht.insert(\"www.hp.com\", \"hp is good\")\n",
    "ht.insert(\"www.chatbot.org\", \"I am AI\")\n",
    "ht.insert(\"njc.schools.gov.sg\", \"Service with Honour\")\n",
    "print(ht, ht.head)\n",
    "ht.keys()"
   ]
  },
  {
   "cell_type": "code",
   "execution_count": null,
   "metadata": {},
   "outputs": [],
   "source": [
    "## Task 2.5 load_cache () without csv reader\n",
    "ht = OrderedHashTable(8)\n",
    "f = open(\"CACHE.TXT\",\"r\")\n",
    "for line in f:\n",
    "    line = line.strip().split(\",\")\n",
    "    if len(line) > 2:\n",
    "        s = \",\".join(line[1:]).strip('\"')\n",
    "        line[1] = s\n",
    "    ht.insert(line[0],line[1])"
   ]
  },
  {
   "cell_type": "code",
   "execution_count": null,
   "metadata": {},
   "outputs": [],
   "source": [
    "## Task 2.5\n",
    "import csv\n",
    "\n",
    "def load_cache(cache): #[2]\n",
    "    csv_reader = csv.reader (open(\"CACHE.TXT\",\"r\"))\n",
    "    for line in csv_reader:\n",
    "        #print(line)\n",
    "        cache.insert(line[0],line[1])\n",
    "\n",
    "def browse(url:str, cache: OrderedHashTable)->str: #[4]\n",
    "    ret = cache.find(url)\n",
    "    if  ret == None:\n",
    "        ## access internet\n",
    "        internet = csv.reader( open(\"INTERNET.TXT\", \"r\")) #[1]\n",
    "        for stuff in internet: #[1]\n",
    "            if stuff[0] == url:\n",
    "                cache.insert(stuff[0], stuff[1]) #[1]\n",
    "                return stuff[1] #[1], return stuff, return \"404\", return ret\n",
    "        else:\n",
    "            return \"404 NOT FOUND\"\n",
    "    else:\n",
    "        return ret[1]\n",
    "\n",
    "def history(cache: OrderedHashTable)->list: #[1]\n",
    "    ret = cache.keys()\n",
    "    return ret[::-1]\n",
    "\n",
    "def clear_cache(cache): #[1]\n",
    "    return OrderedHashTable(cache.size)\n",
    "\n"
   ]
  },
  {
   "cell_type": "code",
   "execution_count": null,
   "metadata": {},
   "outputs": [],
   "source": [
    "#Task 2.5\n",
    "cache = OrderedHashTable(6)\n",
    "load_cache(cache)\n",
    "print(cache) #[1m]\n",
    "print(browse('farm.net',cache)) #[1m]\n",
    "#cache = clear_cache(cache)\n"
   ]
  },
  {
   "cell_type": "code",
   "execution_count": null,
   "metadata": {},
   "outputs": [],
   "source": [
    "cache = clear_cache(cache)\n",
    "print(browse('ri.ir',cache))\n",
    "print(browse('chatgpt.org',cache))\n",
    "print(browse('tuition.free',cache))\n",
    "print(cache)\n",
    "print(history(cache))"
   ]
  },
  {
   "attachments": {},
   "cell_type": "markdown",
   "metadata": {},
   "source": [
    "_____"
   ]
  },
  {
   "cell_type": "code",
   "execution_count": null,
   "metadata": {},
   "outputs": [],
   "source": [
    "#Task 2.3 LingZhu Corrected\n",
    "\n",
    "class OrderedHashTable(HashTable): ## corected\n",
    "    def __init__(self,n):\n",
    "        super().__init__(n)\n",
    "        self.head = -1\n",
    "        self.prev = None #index of previous\n",
    "        \n",
    "    def insert(self,key,val):\n",
    "        index = self.hasher(key)\n",
    "        data = [(key,val),-1] #data[1] is the index of the next data\n",
    "\n",
    "        for i in range(self.size):\n",
    "            if self.arr[index] == None:\n",
    "                self.arr[index] = data\n",
    "\n",
    "                ## linked list stuff\n",
    "                if self.head == -1:\n",
    "                    self.head = index\n",
    "                    self.prev = index\n",
    "                else:\n",
    "                    self.arr[self.prev][1] = index  \n",
    "                    self.prev = index\n",
    "                    \n",
    "                return True\n",
    "            index = (index+1)%self.size\n",
    "        return False\n",
    "    \n",
    "    def keys(self):\n",
    "        ret = []\n",
    "        cur = self.head\n",
    "        while cur != -1:\n",
    "            ret.append(self.arr[cur][0][1])\n",
    "            cur = self.arr[cur][1]\n",
    "        return ret\n",
    "    \n",
    "    def find(self,key):\n",
    "        index =self.hasher(key)\n",
    "        for i in range(self.size):\n",
    "            if self.arr[index][0][0] == key:\n",
    "                return self.arr[index]\n",
    "            index = (index+1)%self.size\n",
    "        return None\n",
    "        \n",
    "    "
   ]
  },
  {
   "attachments": {},
   "cell_type": "markdown",
   "metadata": {},
   "source": [
    "____\n",
    "#### Common Mistakes\n",
    "\n",
    "\n",
    "- passing in a reference to a list to a function"
   ]
  },
  {
   "cell_type": "code",
   "execution_count": 19,
   "metadata": {},
   "outputs": [
    {
     "name": "stdout",
     "output_type": "stream",
     "text": [
      "['0:None', \"1:('cmn.com', '<html>CMN the only real news </html>', -1)\", \"2:('chit.chat.org', '<b>Talking AI &lt; <b>', 3)\", \"3:('njc.sch.sg', 'Service with Honour', 1)\", \"4:('tt.t', 'test', 5)\", \"5:('farm.net', 'apple,oranges,pears', 2)\"]\n",
      "['0:None', \"1:('cmn.com', '<html>CMN the only real news </html>', -1)\", \"2:('chit.chat.org', '<b>Talking AI &lt; <b>', 3)\", \"3:('njc.sch.sg', 'Service with Honour', 1)\", \"4:('tt.t', 'test', 5)\", \"5:('farm.net', 'apple,oranges,pears', 2)\"]\n"
     ]
    }
   ],
   "source": [
    "hashtable = OrderedHashTable(6)\n",
    "load_cache(hashtable)\n",
    "print(hashtable)\n",
    "def clear_cache(cache) :\n",
    "    cache = OrderedHashTable(len(cache.array))\n",
    "    return cache\n",
    "\n",
    "clear_cache(hashtable)\n",
    "print(hashtable)"
   ]
  },
  {
   "cell_type": "code",
   "execution_count": 14,
   "metadata": {},
   "outputs": [
    {
     "name": "stdout",
     "output_type": "stream",
     "text": [
      "['a', 'b', 'c']\n",
      "['a', 'b', 'c']\n"
     ]
    }
   ],
   "source": [
    "ret = [\"a\",\"b\",\"c\"]\n",
    "\n",
    "def return_it(ret):\n",
    "    ret = [] ## vs ret = []\n",
    "\n",
    "print(ret)\n",
    "return_it(ret)\n",
    "print(ret)"
   ]
  },
  {
   "attachments": {},
   "cell_type": "markdown",
   "metadata": {},
   "source": [
    "-   indexing a None"
   ]
  },
  {
   "cell_type": "code",
   "execution_count": null,
   "metadata": {},
   "outputs": [],
   "source": [
    "import random\n",
    "array = [None for _ in range(10)]\n",
    "for i in random.sample(range(10),5):\n",
    "    array[i] = (f\"Tim{i}\", 10+i)\n",
    "\n",
    "for person in array:\n",
    "    if person and person[0] == \"Tom\":\n",
    "        print(\"found\")\n",
    "else:\n",
    "    print(\"Not here\")"
   ]
  },
  {
   "cell_type": "code",
   "execution_count": null,
   "metadata": {},
   "outputs": [],
   "source": []
  }
 ],
 "metadata": {
  "kernelspec": {
   "display_name": "Python 3",
   "language": "python",
   "name": "python3"
  },
  "language_info": {
   "codemirror_mode": {
    "name": "ipython",
    "version": 3
   },
   "file_extension": ".py",
   "mimetype": "text/x-python",
   "name": "python",
   "nbconvert_exporter": "python",
   "pygments_lexer": "ipython3",
   "version": "3.6.4"
  },
  "orig_nbformat": 4,
  "vscode": {
   "interpreter": {
    "hash": "b149ba615515c9ec6719835bf72ba4a036d1526aa57fa533d4f86333c39ad666"
   }
  }
 },
 "nbformat": 4,
 "nbformat_minor": 2
}
