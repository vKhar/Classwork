{
 "cells": [
  {
   "cell_type": "code",
   "execution_count": null,
   "metadata": {},
   "outputs": [],
   "source": [
    "#Task 1.1 [4]\n",
    "def hex2Str(hex_line:str)->str:\n",
    "    ret = \"\"\n",
    "    ## hex_line is a string of hexa digits\n",
    "    ## a pair of hexa digits makes up 1 ascii - character\n",
    "    while hex_line: # loop till end of str [1]\n",
    "        hex_str = hex_line[:2] # extract a pair of hex digits [1]\n",
    "        ret += chr(int(hex_str,16)) # append to character str [1]\n",
    "        hex_line = hex_line[2:] ## truncate hex str [1]\n",
    "    return ret\n"
   ]
  },
  {
   "cell_type": "code",
   "execution_count": null,
   "metadata": {},
   "outputs": [],
   "source": [
    "hex2Str(\"417261676f6e2c52616e6765722c32302c32352c32302c37363532350a\")"
   ]
  },
  {
   "cell_type": "code",
   "execution_count": null,
   "metadata": {},
   "outputs": [],
   "source": [
    "#Task 1.2 [5] \n",
    "## assume Items ID are unique\n",
    "f = open(\"ITEMS_HEX.TXT\", \"r\")\n",
    "fw =open(\"ITEMS_DECODED.TXT\",\"w\")\n",
    "items_lookup = {}\n",
    "file_str = hex2Str (f.read()) # convert hex to char [1]\n",
    "for line in file_str.split('\\n')[:-1]: # iterate each line, except for last line[1]\n",
    "    data = line.split(\",\") # [1] strip(), split line into columns\n",
    "    items_lookup[data[0]] = data[1] # store as list of list/tuple, dict. item id and names must be stored[2]\n",
    "    fw.write(f\"{data[0]},{data[1]}\\n\")\n",
    "f.close()\n",
    "fw.close()\n",
    "\n",
    "print(items_lookup)\n"
   ]
  },
  {
   "cell_type": "code",
   "execution_count": null,
   "metadata": {},
   "outputs": [],
   "source": [
    " # Task 1.3 [9]\n",
    "f = open(\"CHARACTERS_HEX.TXT\", \"r\")\n",
    "fw = open(\"CHARS_DECODED.TXT\",\"w\")\n",
    "file_str = hex2Str(f.read()) # convert to chars [1]\n",
    "lines = file_str.split(\"\\n\")[:-1] # split into lines [1]\n",
    "f.close()\n",
    "characters = [] #[1] ds for collection\n",
    "\n",
    "for i in range(0,len(lines),2): ##loop to read alternate line\n",
    "    # able to retrieve 2 lines during each iteration [2]\n",
    "    char_obj = {} ## data structure to store attributes of each character [1]\n",
    "    char_list = lines[i].split(\",\") # [1]add line 1 attributes to ds\n",
    "    char_obj[\"name\"] = char_list[0]\n",
    "    char_obj[\"class\"] = char_list[1]\n",
    "    char_obj[\"str\"] = char_list[2]\n",
    "    char_obj[\"dex\"] = char_list[3]\n",
    "    char_obj[\"int\"] = char_list[4]\n",
    "    char_obj[\"xp\"] = char_list[5]\n",
    "    fw.write(f\"{lines[i]}\\n\")\n",
    "    fw.write(f\"{lines[i+1]}\\n\")\n",
    "    \n",
    "    item_ids = lines[i+1].split(\",\") # [1] ds for item ids\n",
    "    char_obj[\"items\"] = [ { \"id\":id ,\"name\": items_lookup[id] } for id in item_ids] # [1] add line 2 attributes to ds\n",
    "    characters.append(char_obj)\n",
    "fw.close()\n",
    "f.close()\n",
    "print(characters)"
   ]
  },
  {
   "cell_type": "code",
   "execution_count": null,
   "metadata": {},
   "outputs": [],
   "source": [
    "import pymongo\n",
    "client = pymongo.MongoClient('localhost', 27017)\n",
    "client.drop_database('Overwatch')"
   ]
  },
  {
   "cell_type": "code",
   "execution_count": null,
   "metadata": {},
   "outputs": [],
   "source": [
    "# Task 1.4 [3]\n",
    "import pymongo\n",
    "\n",
    "col = pymongo.MongoClient('localhost', 27017)['Overwatch']['Characters'] #[1]\n",
    "col.insert_many(characters) \n",
    "# each doc for 1 character must have all line 1 attributes [1]\n",
    "# items embedded in doc as an array  [1]\n"
   ]
  },
  {
   "cell_type": "code",
   "execution_count": null,
   "metadata": {},
   "outputs": [],
   "source": [
    "# Task 1.5 [3]\n",
    "import pymongo\n",
    "col = pymongo.MongoClient('localhost', 27017)['Overwatch']['Characters']\n",
    "query = {\"items.name\":\"+4 SWORD\"} #[1]\n",
    "projection = {\"_id\":0, \"name\":1} #[1]\n",
    "list (col.find(query, projection)) #[1]"
   ]
  },
  {
   "cell_type": "code",
   "execution_count": null,
   "metadata": {},
   "outputs": [],
   "source": [
    "# Task 1.6 [2]\n",
    "import pymongo\n",
    "col = pymongo.MongoClient('localhost', 27017)['Overwatch']['Characters']\n",
    "query = {\"name\":\"Aragon\"} #[1]\n",
    "update = {\"$set\": {\"name\": \"Aragon\\u03ee\\u0394\\u03a8\"}}\n",
    "#update = {\"$set\": {\"alias\": \"\\u03EE\\u0394\\u03a8\"} } #[1]\n",
    "col.update_one(query, update)"
   ]
  },
  {
   "attachments": {},
   "cell_type": "markdown",
   "metadata": {},
   "source": [
    "#### Build your own ascii lookup table"
   ]
  },
  {
   "cell_type": "code",
   "execution_count": null,
   "metadata": {},
   "outputs": [],
   "source": [
    "hex2char={}\n",
    "for i in range(128):\n",
    "    hex2char[f\"{i:02x}\"] = chr(i)\n",
    "\n",
    "def hex2Str(hex_str):\n",
    "    ret=\"\"\n",
    "    for i in range(0, len(hex_str), 2):\n",
    "        ret+=hex2char[hex_str[i:i+2]]\n",
    "    return ret\n"
   ]
  },
  {
   "cell_type": "code",
   "execution_count": null,
   "metadata": {},
   "outputs": [],
   "source": [
    "hex2Str(\"417261676f6e2c52616e6765722c32302c32352c32302c37363532350a\")"
   ]
  },
  {
   "cell_type": "code",
   "execution_count": null,
   "metadata": {},
   "outputs": [],
   "source": [
    "## convert to decimal integer\n",
    "import string\n",
    "map = string.digits + string.ascii_lowercase\n",
    "def dec(s:str, base:int)->int:\n",
    "    ret = 0\n",
    "    for digit in s:\n",
    "        ret = ret * base + map.index(digit)\n",
    "    return ret\n",
    "        "
   ]
  },
  {
   "cell_type": "code",
   "execution_count": null,
   "metadata": {},
   "outputs": [],
   "source": [
    "#task1.3 Naren\n",
    "import pandas as pd\n",
    "file = open(\"CHARACTERS_HEX.TXT\",\"r\")\n",
    "charinfile = hex2Str(file.read())#.split('\\n')\n",
    "file.close()\n",
    "\n",
    "characters = {\"Name\" : [],\n",
    "             \"Class\" : [],\n",
    "             \"Str\" : [],\n",
    "             \"Dex\" : [],\n",
    "             \"Int\" : [],\n",
    "             \"XP\" : [],\n",
    "             \"Items\": []}\n",
    "\n",
    "for i in range(0, len(charinfile.split('\\n')),2) :    \n",
    "    char_attributes = charinfile.split('\\n')[i:i+2]#.split(',')\n",
    "    if len(char_attributes) > 1 :\n",
    "        char = char_attributes[0].split(',')\n",
    "        characters['Name'].append(f\"{char[0]}\")\n",
    "        characters['Class'].append(char[1])\n",
    "        characters['Str'].append(char[2])\n",
    "        characters['Dex'].append(char[3])\n",
    "        characters['Int'].append(char[4])\n",
    "        characters['XP'].append(char[5])\n",
    "        items = char_attributes[1].split(',')\n",
    "        characters[\"Items\"].append(\n",
    "            list(zip(items,map(lambda x: items_lookup[x],items)))\n",
    "        )\n",
    "        #characters['Items'].append(char_attributes[1].split(','))\n",
    "\n",
    "character_data = pd.DataFrame(characters)\n",
    "\n"
   ]
  },
  {
   "cell_type": "code",
   "execution_count": null,
   "metadata": {},
   "outputs": [],
   "source": [
    "tuple(zip([1,2,3],[\"apple\",\"orange\",\"pear\"]))"
   ]
  }
 ],
 "metadata": {
  "kernelspec": {
   "display_name": "Python 3",
   "language": "python",
   "name": "python3"
  },
  "language_info": {
   "codemirror_mode": {
    "name": "ipython",
    "version": 3
   },
   "file_extension": ".py",
   "mimetype": "text/x-python",
   "name": "python",
   "nbconvert_exporter": "python",
   "pygments_lexer": "ipython3",
   "version": "3.6.4"
  },
  "orig_nbformat": 4,
  "vscode": {
   "interpreter": {
    "hash": "f4e9cda46bb2d9d7fe6ecdff0f8336a934348bf06cb492f2f42f60739b3403b4"
   }
  }
 },
 "nbformat": 4,
 "nbformat_minor": 2
}
