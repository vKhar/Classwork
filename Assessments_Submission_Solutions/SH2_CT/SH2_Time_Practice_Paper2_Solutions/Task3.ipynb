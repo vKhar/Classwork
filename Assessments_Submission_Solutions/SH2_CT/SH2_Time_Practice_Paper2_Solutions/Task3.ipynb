{
 "cells": [
  {
   "cell_type": "code",
   "execution_count": null,
   "metadata": {},
   "outputs": [],
   "source": [
    "import random\n",
    "A = [ random.randint(1,99) for _ in range(17)]\n",
    "print(A)"
   ]
  },
  {
   "attachments": {},
   "cell_type": "markdown",
   "metadata": {},
   "source": [
    "##### inplace merge\n",
    "given an array A,lb,ub,mid, where \n",
    "    - A[lb:mid] is a sorted left sub-array\n",
    "    - A[mid:ub] is a sorted right sub array"
   ]
  },
  {
   "cell_type": "code",
   "execution_count": null,
   "metadata": {},
   "outputs": [],
   "source": [
    "def inplace_merge(A,lb,mid,ub):\n",
    "    left = lb\n",
    "    right = mid + 1\n",
    "    while left < right and right <= ub: \n",
    "        if A[left] <= A[right]:\n",
    "            left+=1\n",
    "        else:\n",
    "            ## shift left array to the right for 1st element in right array\n",
    "            index = right\n",
    "            tmp = A[right]\n",
    "            while index > left:\n",
    "                A[index] = A[index-1]\n",
    "                index -=1\n",
    "            A[left] = tmp\n",
    "            right+=1\n",
    "            left+=1\n",
    "        "
   ]
  },
  {
   "cell_type": "code",
   "execution_count": null,
   "metadata": {},
   "outputs": [],
   "source": [
    "# valid\n",
    "A = [1,3,5,7,2,4,6,]\n",
    "inplace_merge(A,0,3,6)\n",
    "A"
   ]
  },
  {
   "cell_type": "code",
   "execution_count": null,
   "metadata": {},
   "outputs": [],
   "source": [
    "# Boundary\n",
    "A = [2,5]\n",
    "inplace_merge(A,0,0,1)\n",
    "A"
   ]
  },
  {
   "cell_type": "code",
   "execution_count": null,
   "metadata": {},
   "outputs": [],
   "source": [
    "# Boundary\n",
    "A = [9]\n",
    "inplace_merge(A,0,0,0)\n",
    "A"
   ]
  },
  {
   "cell_type": "code",
   "execution_count": null,
   "metadata": {},
   "outputs": [],
   "source": [
    "# Invalid\n",
    "A = []\n",
    "inplace_merge(A,0,0,0)\n",
    "A"
   ]
  },
  {
   "cell_type": "code",
   "execution_count": null,
   "metadata": {},
   "outputs": [],
   "source": [
    "##recursive inplace merge sort\n",
    "def merge_sort(A):\n",
    "    def _merge_sort(A,lb,ub):\n",
    "        if lb >= ub:\n",
    "            return\n",
    "        mid = (lb+ub)//2\n",
    "        _merge_sort(A,lb,mid)\n",
    "        _merge_sort(A,mid+1,ub)\n",
    "        inplace_merge(A,lb,mid,ub)\n",
    "    _merge_sort(A,0, len(A)-1)"
   ]
  },
  {
   "cell_type": "code",
   "execution_count": null,
   "metadata": {},
   "outputs": [],
   "source": [
    "#Valid cases\n",
    "import random\n",
    "A = [random.randint(1,20) for _ in range(20)]\n",
    "merge_sort(A)\n",
    "print(A)"
   ]
  },
  {
   "cell_type": "code",
   "execution_count": null,
   "metadata": {},
   "outputs": [],
   "source": [
    "#Boundary\n",
    "import random\n",
    "A = [1]\n",
    "merge_sort(A)\n",
    "print(A)"
   ]
  },
  {
   "cell_type": "code",
   "execution_count": null,
   "metadata": {},
   "outputs": [],
   "source": [
    "#Boundary\n",
    "import random\n",
    "A = []\n",
    "merge_sort(A)\n",
    "print(A)"
   ]
  },
  {
   "cell_type": "code",
   "execution_count": null,
   "metadata": {},
   "outputs": [],
   "source": [
    "# Invalid\n",
    "import random\n",
    "A = [1,(2,1)]\n",
    "merge_sort(A)\n",
    "print(A)"
   ]
  },
  {
   "attachments": {},
   "cell_type": "markdown",
   "metadata": {},
   "source": [
    "-- Jing Jie's \"New\" sort algorithm"
   ]
  },
  {
   "cell_type": "code",
   "execution_count": 23,
   "metadata": {},
   "outputs": [],
   "source": [
    "#Task 3.3\n",
    "\n",
    "def merge_sort_helper(A, start, end):\n",
    "    if start >= end:\n",
    "        return\n",
    "    if end>0:\n",
    "        if A[end-1]>A[end]:##checks the element at end and the one before if, swaps them if order is wrong\n",
    "            A[end-1], A[end] = A[end], A[end-1] \n",
    "            if end != len(A)-1: ##prevents index error when end is the last index in the array\n",
    "                return merge_sort_helper(A, start, end+1)\n",
    "    return merge_sort_helper(A, start, end-1)\n",
    "\n",
    "def merge_sort(A):\n",
    "    start = 0\n",
    "    end = len(A)-1\n",
    "    return merge_sort_helper(A, start, end)"
   ]
  },
  {
   "cell_type": "code",
   "execution_count": 43,
   "metadata": {},
   "outputs": [],
   "source": [
    "## Iterative version\n",
    "def jj_sort(A):\n",
    "    start = 0\n",
    "    end = len(A)-1\n",
    "    while start < end :\n",
    "        while end > 0:\n",
    "            if A[end-1] > A[end]:\n",
    "                A[end-1], A[end] = A[end], A[end-1]\n",
    "                if end != len(A)-1:\n",
    "                    end +=1\n",
    "                    continue\n",
    "            end -= 1\n"
   ]
  },
  {
   "cell_type": "code",
   "execution_count": 44,
   "metadata": {},
   "outputs": [
    {
     "name": "stdout",
     "output_type": "stream",
     "text": [
      "[3, 7, 13, 39, 47, 48, 49, 53, 62, 77]\n"
     ]
    }
   ],
   "source": [
    "import random\n",
    "A = random.sample(range(1,99), 10)\n",
    "#A = list( range(99,1,-1))\n",
    "jj_sort(A)\n",
    "print(A)"
   ]
  }
 ],
 "metadata": {
  "kernelspec": {
   "display_name": "Python 3.6.4 64-bit",
   "language": "python",
   "name": "python3"
  },
  "language_info": {
   "codemirror_mode": {
    "name": "ipython",
    "version": 3
   },
   "file_extension": ".py",
   "mimetype": "text/x-python",
   "name": "python",
   "nbconvert_exporter": "python",
   "pygments_lexer": "ipython3",
   "version": "3.6.4"
  },
  "orig_nbformat": 4,
  "vscode": {
   "interpreter": {
    "hash": "f4e9cda46bb2d9d7fe6ecdff0f8336a934348bf06cb492f2f42f60739b3403b4"
   }
  }
 },
 "nbformat": 4,
 "nbformat_minor": 2
}
