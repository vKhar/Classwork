{
 "cells": [
  {
   "cell_type": "code",
   "execution_count": 14,
   "metadata": {},
   "outputs": [],
   "source": [
    "# Task 1\n",
    "class Node():\n",
    "    def __init__(self,data):\n",
    "        self.data = data\n",
    "        self.next = None\n",
    "    def __repr__(self):\n",
    "        return f\"{self.data}\"\n",
    "\n",
    "class LinkedList():\n",
    "    def __init__(self):\n",
    "        self.start = None\n",
    "\n",
    "    def __repr__(self):\n",
    "        if self.start == None:\n",
    "            return \"\"\n",
    "        cur = self.start\n",
    "        rep = \"\"\n",
    "        while cur != None:\n",
    "            rep += str(cur.data)+\", \"\n",
    "            cur = cur.next\n",
    "        return f\"[{rep[:-2]}]\"\n",
    "\n",
    "    def insert_front(self,data):\n",
    "        node = Node(data)\n",
    "        if self.start == None:\n",
    "            self.start = node\n",
    "            return\n",
    "        node.next = self.start\n",
    "        self.start = node\n",
    "    \n",
    "    def insert_back(self,data):\n",
    "        node = Node(data)\n",
    "        if self.start == None:\n",
    "            self.start = node\n",
    "            return\n",
    "        cur = self.start\n",
    "        while cur.next:\n",
    "            cur = cur.next\n",
    "        cur.next = node\n",
    "\n",
    "    def remove_front(self):\n",
    "        if self.start == None:\n",
    "            return None\n",
    "        ret = self.start\n",
    "        self.start = self.start.next\n",
    "        return ret\n",
    "    \n",
    "    def remove_back(self):\n",
    "        if self.start == None:\n",
    "            return None\n",
    "        if self.start.next == None:\n",
    "            ret = self.start\n",
    "            self.start = None\n",
    "            return ret\n",
    "        cur = self.start\n",
    "        prev = None\n",
    "        while cur.next:\n",
    "            prev = cur\n",
    "            cur = cur.next\n",
    "        prev.next = None\n",
    "        return cur"
   ]
  },
  {
   "cell_type": "code",
   "execution_count": 3,
   "metadata": {},
   "outputs": [
    {
     "name": "stdout",
     "output_type": "stream",
     "text": [
      "[3, 2, 4]\n",
      "3\n",
      "4\n",
      "[2]\n",
      "2\n",
      "None\n"
     ]
    }
   ],
   "source": [
    "# Test cases for task 1\n",
    "ll = LinkedList()\n",
    "ll.insert_front(2)\n",
    "ll.insert_front(3)\n",
    "ll.insert_back(4)\n",
    "print(ll)\n",
    "print(ll.remove_front())\n",
    "print(ll.remove_back())\n",
    "print(ll)\n",
    "        \n",
    "print(ll.remove_front())\n",
    "print(ll.remove_front())"
   ]
  },
  {
   "attachments": {},
   "cell_type": "markdown",
   "metadata": {},
   "source": [
    "- 10/10"
   ]
  },
  {
   "cell_type": "code",
   "execution_count": 5,
   "metadata": {},
   "outputs": [],
   "source": [
    "# Task 2\n",
    "class Item:\n",
    "    def __init__(self,data,colour):\n",
    "        self.data = data\n",
    "        self.colour = colour\n",
    "    def __repr__(self):\n",
    "        return f\"({self.data}, {self.colour})\"\n",
    "\n",
    "class PriorityStack:\n",
    "    def __init__(self):\n",
    "        self.arr = LinkedList()\n",
    "    \n",
    "    def __repr__(self):\n",
    "        return f\"{self.arr}\"\n",
    "    \n",
    "    def push(self,item):\n",
    "        self.arr.insert_front(item)\n",
    "\n",
    "    def pop(self):\n",
    "        toAdd = []\n",
    "        poppedNode = self.arr.remove_front()\n",
    "        if poppedNode == None:\n",
    "            return None\n",
    "        poppedItem = poppedNode.data\n",
    "        while True:\n",
    "            if poppedNode == None:\n",
    "                poppedItem = toAdd.pop()\n",
    "                break\n",
    "            poppedItem = poppedNode.data\n",
    "            if poppedItem.colour.lower() == \"red\":\n",
    "                break\n",
    "            toAdd.append(poppedItem)\n",
    "            poppedNode = self.arr.remove_front()\n",
    "            \n",
    "        if len(toAdd) > 0:\n",
    "            toAdd.reverse()\n",
    "            for item in toAdd:\n",
    "                self.arr.insert_front(item)\n",
    "\n",
    "        return poppedItem"
   ]
  },
  {
   "cell_type": "code",
   "execution_count": 11,
   "metadata": {},
   "outputs": [
    {
     "name": "stdout",
     "output_type": "stream",
     "text": [
      "(lmn, GREEN) (xyz, GREEN) None None None\n"
     ]
    }
   ],
   "source": [
    "## Task 2 Test Cases\n",
    "ps = PriorityStack()\n",
    "#ps.push(Item(123,\"RED\"))\n",
    "#ps.push(Item(456,\"RED\"))\n",
    "ps.push(Item('lmn',\"GREEN\"))\n",
    "ps.push(Item('xyz',\"GREEN\"))\n",
    "print(\n",
    "ps.pop(),\n",
    "ps.pop(),\n",
    "ps.pop(),\n",
    "ps.pop(),\n",
    "ps.pop()\n",
    ")"
   ]
  },
  {
   "attachments": {},
   "cell_type": "markdown",
   "metadata": {},
   "source": [
    "## Feedback\n",
    "- pop() is incorrect, see test case above\n",
    "- 4/8"
   ]
  },
  {
   "cell_type": "code",
   "execution_count": 47,
   "metadata": {},
   "outputs": [
    {
     "name": "stdout",
     "output_type": "stream",
     "text": [
      "print:  [(2, green), (2, red)]\n",
      "(2, red)\n",
      "print:  [(2, green)]\n",
      "(2, green)\n",
      "print:  \n",
      "None\n",
      "print:  \n"
     ]
    }
   ],
   "source": [
    "# Test cases for task 2\n",
    "s = PriorityStack()\n",
    "s.push(Item(2,'red'))\n",
    "s.push(Item(2,'green'))\n",
    "print(\"print:  \", end=\"\")\n",
    "print(s)\n",
    "print(s.pop())\n",
    "print(\"print:  \", end=\"\")\n",
    "print(s)\n",
    "print(s.pop())\n",
    "print(\"print:  \", end=\"\")\n",
    "print(s)\n",
    "print(s.pop())\n",
    "print(\"print:  \", end=\"\")\n",
    "print(s)"
   ]
  },
  {
   "cell_type": "code",
   "execution_count": 44,
   "metadata": {},
   "outputs": [
    {
     "data": {
      "text/plain": [
       "True"
      ]
     },
     "execution_count": 44,
     "metadata": {},
     "output_type": "execute_result"
    }
   ],
   "source": [
    "# Task 3\n",
    "class HashTable:\n",
    "    def __init__(self,size):\n",
    "        self.size = size\n",
    "        self.arr = [None for _ in range(size)]\n",
    "            \n",
    "    def hash(self,value):\n",
    "        return sum([ord(char) for char in value])%self.size\n",
    "    \n",
    "    def insert(self,obj):\n",
    "        try:\n",
    "            index = self.hash(obj)\n",
    "            if self.arr[index] == None:\n",
    "                self.arr[index] = obj\n",
    "            elif type(self.arr[index]) == LinkedList:\n",
    "                self.arr[index].insert_back(obj)\n",
    "            else:\n",
    "                temp = self.arr[index]\n",
    "                self.arr[index] = LinkedList()\n",
    "                self.arr[index].insert_back(temp)\n",
    "                self.arr[index].insert_back(obj)\n",
    "            return True\n",
    "        except:\n",
    "            return False\n",
    "    \n",
    "    def remove(self,obj):\n",
    "        index = self.hash(obj)\n",
    "        if self.arr[index] == None:\n",
    "            return False\n",
    "        elif self.arr[index] == obj:\n",
    "            self.arr[index] = None\n",
    "            return True\n",
    "        elif type(self.arr[index]) == LinkedList:\n",
    "            toAdd = []\n",
    "            ll = self.arr[index]\n",
    "            cur = ll.remove_front()\n",
    "            while True:  \n",
    "                if cur == None:\n",
    "                    found = False\n",
    "                    break\n",
    "                elif cur == obj:\n",
    "                    found = True\n",
    "                    break\n",
    "                toAdd.append(cur)\n",
    "                cur = ll.remove_front()\n",
    "            if found:\n",
    "                for i in toAdd:\n",
    "                    ll.insert_back(i)\n",
    "                return True\n",
    "            else:\n",
    "                return False"
   ]
  },
  {
   "cell_type": "code",
   "execution_count": 18,
   "metadata": {},
   "outputs": [],
   "source": [
    "# Task 3 modified by adding a repr to display hash table\n",
    "class HashTable:\n",
    "    def __init__(self,size):\n",
    "        self.size = size\n",
    "        self.arr = [None for _ in range(size)]\n",
    "            \n",
    "    def hash(self,value):\n",
    "        return sum([ord(char) for char in value])%self.size\n",
    "    \n",
    "    def insert(self,obj):\n",
    "        try:\n",
    "            index = self.hash(obj)\n",
    "            if self.arr[index] == None:\n",
    "                self.arr[index] = obj\n",
    "            elif type(self.arr[index]) == LinkedList:\n",
    "                self.arr[index].insert_back(obj)\n",
    "            else:\n",
    "                temp = self.arr[index]\n",
    "                self.arr[index] = LinkedList()\n",
    "                self.arr[index].insert_back(temp)\n",
    "                self.arr[index].insert_back(obj)\n",
    "            return True\n",
    "        except:\n",
    "            return False\n",
    "    \n",
    "    def remove(self,obj):\n",
    "        index = self.hash(obj)\n",
    "        if self.arr[index] == None:\n",
    "            return False\n",
    "        elif self.arr[index] == obj:\n",
    "            self.arr[index] = None\n",
    "            return True\n",
    "        elif type(self.arr[index]) == LinkedList:\n",
    "            toAdd = []\n",
    "            ll = self.arr[index]\n",
    "            cur = ll.remove_front()\n",
    "            while True:  \n",
    "                if cur == None:\n",
    "                    found = False\n",
    "                    break\n",
    "                elif cur == obj:\n",
    "                    found = True\n",
    "                    break\n",
    "                toAdd.append(cur)\n",
    "                cur = ll.remove_front()\n",
    "            if found:\n",
    "                for i in toAdd:\n",
    "                    ll.insert_back(i)\n",
    "                return True\n",
    "            else:\n",
    "                return False\n",
    "    def __repr__(self):\n",
    "        ret = []\n",
    "        for ll in self.arr:\n",
    "            if type(ll) == str:\n",
    "                ret.append(ll)\n",
    "            elif ll  == None:\n",
    "                ret.append(None)\n",
    "            else:\n",
    "                ret.append(ll)\n",
    "        return f\"{ret}\""
   ]
  },
  {
   "cell_type": "code",
   "execution_count": 28,
   "metadata": {},
   "outputs": [
    {
     "name": "stdout",
     "output_type": "stream",
     "text": [
      "[[abc, xyz], [d, bcb, __], 'bdcb']\n"
     ]
    }
   ],
   "source": [
    "### Test cases for Task 3\n",
    "ht = HashTable(3)\n",
    "ht.insert(\"abc\")\n",
    "ht.insert(\"d\")\n",
    "ht.insert(\"xyz\")\n",
    "ht.insert(\"bdcb\")\n",
    "ht.insert(\"bcb\")\n",
    "ht.insert(\"__\")\n",
    "print(ht)"
   ]
  },
  {
   "cell_type": "code",
   "execution_count": 29,
   "metadata": {},
   "outputs": [
    {
     "name": "stdout",
     "output_type": "stream",
     "text": [
      "[, [d, bcb, __], 'bdcb']\n"
     ]
    }
   ],
   "source": [
    "ht.remove(\"a0bc\")\n",
    "##ht.remove('bcb')\n",
    "#ht.remove('bdcb')\n",
    "print(ht)"
   ]
  },
  {
   "attachments": {},
   "cell_type": "markdown",
   "metadata": {},
   "source": [
    "#### feedback\n",
    "- for your insert, you don't have to check for None, obj and LinkedList,\n",
    "just initialise the array to LinkedList and insert_back into it\n",
    "\n",
    "- remove does not work , it removes the entire linked list instead of an item inside the Linked List, and it does to transfer back the items properly\n",
    "\n",
    "- 5/10"
   ]
  }
 ],
 "metadata": {
  "kernelspec": {
   "display_name": "Python 3",
   "language": "python",
   "name": "python3"
  },
  "language_info": {
   "codemirror_mode": {
    "name": "ipython",
    "version": 3
   },
   "file_extension": ".py",
   "mimetype": "text/x-python",
   "name": "python",
   "nbconvert_exporter": "python",
   "pygments_lexer": "ipython3",
   "version": "3.10.8"
  },
  "orig_nbformat": 4,
  "vscode": {
   "interpreter": {
    "hash": "b149ba615515c9ec6719835bf72ba4a036d1526aa57fa533d4f86333c39ad666"
   }
  }
 },
 "nbformat": 4,
 "nbformat_minor": 2
}
