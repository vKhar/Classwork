{
  "cells": [
    {
      "cell_type": "code",
      "execution_count": null,
      "metadata": {
        "id": "rUZQJllJj4xe"
      },
      "outputs": [],
      "source": [
        "class Node:\n",
        "    def __init__(self, data):\n",
        "        self.data = data\n",
        "        self.next = None\n",
        "    def __repr__(self):\n",
        "       return f\"{self.data}\"\n",
        "\n",
        "class LinkedList:\n",
        "    def __init__(self):\n",
        "        self.head = None\n",
        "\n",
        "    def insert_front(self, data):\n",
        "        new_node = Node(data)\n",
        "        if not self.head:\n",
        "            self.head = new_node\n",
        "            return\n",
        "        new_node.next = self.head\n",
        "        self.head = new_node\n",
        "\n",
        "    def insert_back(self, data):\n",
        "        new_node = Node(data)\n",
        "        if self.head == None:\n",
        "            self.head = new_node\n",
        "            return\n",
        "        prev = None\n",
        "        cur = self.head\n",
        "        while cur != None:\n",
        "            prev = cur\n",
        "            cur = cur.next\n",
        "        prev.next = new_node\n",
        "\n",
        "    def delete_front(self):\n",
        "        if self.head:\n",
        "            rem = self.head\n",
        "            if self.head.next:\n",
        "                self.head = self.head.next\n",
        "            else:\n",
        "                self.head = None\n",
        "            return rem\n",
        "        else:\n",
        "            return \"Nothing to delete\"\n",
        "\n",
        "    def delete_back(self):\n",
        "        cur = self.head\n",
        "        if cur:\n",
        "            if cur.next:\n",
        "                prev = None\n",
        "                while cur.next:\n",
        "                    prev = cur\n",
        "                    cur = cur.next\n",
        "                rem = prev.next\n",
        "                prev.next = None\n",
        "                return rem\n",
        "            else:\n",
        "                rem = self.head\n",
        "                self.head = None\n",
        "                return rem\n",
        "        else:\n",
        "            return \"Nothing to delete\"\n",
        "            \n",
        "    def __repr__(self):\n",
        "        cur = self.head\n",
        "        ret = \"\"\n",
        "        while cur:\n",
        "            ret += str(cur) + \", \"\n",
        "            cur = cur.next\n",
        "        return (\"[\" + ret[:-2] + \"]\")"
      ]
    },
    {
      "cell_type": "code",
      "execution_count": null,
      "metadata": {},
      "outputs": [],
      "source": [
        "#task 1 test cases\n",
        "LL = LinkedList()\n",
        "LL.insert_back(8)\n",
        "LL.insert_back(10)\n",
        "LL.insert_front(4)\n",
        "LL.insert_front(2)\n",
        "print(LL)\n",
        "print(LL.delete_front())\n",
        "print(LL.delete_back())\n",
        "print(LL)"
      ]
    },
    {
      "attachments": {},
      "cell_type": "markdown",
      "metadata": {},
      "source": [
        "- When the exact names of the methods are given use them, UNLESS YOU ARE JUST regurgitating from memory \n",
        "- 9/10"
      ]
    },
    {
      "cell_type": "code",
      "execution_count": null,
      "metadata": {
        "id": "lkF2eq4AlYtK"
      },
      "outputs": [],
      "source": [
        "class PriorityStack:\n",
        "    def __init__(self):\n",
        "        self.red = LinkedList()\n",
        "        self.green = LinkedList()\n",
        "        \n",
        "    def push(self, item, color):\n",
        "        if color == \"RED\":\n",
        "            self.red.insert_front(item)\n",
        "        else:\n",
        "            self.green.insert_front(item)\n",
        "            \n",
        "    def pop(self):\n",
        "        if self.red.head:\n",
        "            return self.red.remove_front().data\n",
        "        elif self.green.head:\n",
        "            return self.green.remove_front().data\n",
        "        else:\n",
        "            return None"
      ]
    },
    {
      "cell_type": "code",
      "execution_count": null,
      "metadata": {},
      "outputs": [],
      "source": [
        "## Task 2 Test Cases\n",
        "ps = PriorityStack()\n",
        "ps.push('abc',\"GREEN\")\n",
        "ps.push(123,\"RED\")\n",
        "ps.push(456,\"RED\")\n",
        "ps.push('lmn',\"GREEN\")\n",
        "ps.push('xyz',\"GREEN\")\n",
        "print(\n",
        "ps.pop(),\n",
        "ps.pop(),\n",
        "ps.pop(),\n",
        "ps.pop(),\n",
        "ps.pop()\n",
        ")"
      ]
    },
    {
      "attachments": {},
      "cell_type": "markdown",
      "metadata": {},
      "source": [
        "- YOU ARE NOT SUPPOSE TO USE the head attribute in the Linked List\n",
        "- CAN YOU PLEASE OPEN YOUR EYES AND READ THE QUESTION PROPERLY!!!\n",
        "    - push has only 1 argument to it!!\n",
        "- Can you explain why in this question you use remove_xxx and your solution in task 1 is delete_xxx ??!!!\n",
        "- 7/8"
      ]
    },
    {
      "cell_type": "code",
      "execution_count": null,
      "metadata": {
        "id": "RVLtYUU4mXqg"
      },
      "outputs": [],
      "source": [
        "class HashTable:\n",
        "    def __init__(self, n):\n",
        "        self.size = n\n",
        "        self.buckets = [LinkedList() for _ in range(n)]\n",
        "\n",
        "    def hash_function(self, string):\n",
        "      ascii_sum = 0\n",
        "      for i in string :\n",
        "        ascii_sum += ord(i)\n",
        "      return ascii_sum % self.n\n",
        "\n",
        "    def insert(self, string):\n",
        "        index = self.hash_function(string)\n",
        "        bucket = self.buckets[index]\n",
        "        bucket.insert_front(string)\n",
        "        return True\n",
        "\n",
        "    def remove(self, string):\n",
        "        index = self.hash_function(string)\n",
        "        bucket = self.buckets[index]\n",
        "        if bucket.is_empty():\n",
        "            return False\n",
        "        node = bucket.remove_front()\n",
        "        while node is not None and node.value != string:\n",
        "            node = bucket.remove_front()\n",
        "        if node is None:\n",
        "            return False\n",
        "        return True\n",
        "class HashTable:\n",
        "    def __init__(self, n):\n",
        "        self.buckets = [LinkedList() for _ in range(size)]\n",
        "        self.size = n\n",
        "    def isEmpty(self):\n",
        "      for i in self.arr:\n",
        "        if i != None:\n",
        "          return False\n",
        "        return True\n",
        "        \n",
        "    def hash_function(self, string):\n",
        "      ascii_sum = 0\n",
        "      for i in string :\n",
        "        ascii_sum += ord(i)\n",
        "      return ascii_sum % self.size\n",
        "    \n",
        "    def insert(self, obj):\n",
        "        index = self.hash_function(obj)\n",
        "        if self.buckets[index] == None :\n",
        "          self.buckets[index].insert_front(obj)\n",
        "          return True\n",
        "        else :\n",
        "          i = (index+1)%self.size\n",
        "          while i!= index :\n",
        "            if self.buckets[index] == None :\n",
        "              self._buckets[index].insert_front(obj)\n",
        "              return True\n",
        "            else :\n",
        "              i = (i+1)%self.size\n",
        "          return False\n",
        "    def remove(self, obj):\n",
        "        index = self.hash_function(obj)\n",
        "        bucket = self.buckets[index]\n",
        "        if bucket.isEmpty():\n",
        "            return False\n",
        "        node = bucket.remove_front()\n",
        "        while node is not None and node.value != string:\n",
        "            node = bucket.remove_front()\n",
        "        if node is None:\n",
        "            return False\n",
        "        return True\n"
      ]
    },
    {
      "attachments": {},
      "cell_type": "markdown",
      "metadata": {},
      "source": [
        "- WHY IS THERE 2 Hash Table ??@@!!\n",
        "- AGAIN READ THE QUESTION!!!\n",
        "- 0/10"
      ]
    }
  ],
  "metadata": {
    "colab": {
      "provenance": []
    },
    "kernelspec": {
      "display_name": "Python 3",
      "language": "python",
      "name": "python3"
    },
    "language_info": {
      "codemirror_mode": {
        "name": "ipython",
        "version": 3
      },
      "file_extension": ".py",
      "mimetype": "text/x-python",
      "name": "python",
      "nbconvert_exporter": "python",
      "pygments_lexer": "ipython3",
      "version": "3.10.8"
    },
    "vscode": {
      "interpreter": {
        "hash": "b149ba615515c9ec6719835bf72ba4a036d1526aa57fa533d4f86333c39ad666"
      }
    }
  },
  "nbformat": 4,
  "nbformat_minor": 0
}
