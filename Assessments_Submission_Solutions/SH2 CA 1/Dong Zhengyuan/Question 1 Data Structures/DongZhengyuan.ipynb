{
 "cells": [
  {
   "cell_type": "code",
   "execution_count": 1,
   "id": "88fc7bce",
   "metadata": {},
   "outputs": [],
   "source": [
    "#Task 1\n",
    "class Node:\n",
    "    def __init__(self,data):\n",
    "        self.data = data\n",
    "        self.next = None\n",
    "    def __repr__(self):\n",
    "        return f\"{self.data}\"\n",
    "class LL:\n",
    "    def __init__(self):\n",
    "        self.root = None\n",
    "    def insert_front(self,data):\n",
    "        new_node = Node(data)\n",
    "        if not self.root:\n",
    "            self.root = new_node\n",
    "            return\n",
    "        cur = self.root\n",
    "        self.root = new_node\n",
    "        self.root.next = cur\n",
    "        return\n",
    "    def insert_back(self,data):\n",
    "        new_node = Node(data)\n",
    "        if not self.root:\n",
    "            self.root = new_node\n",
    "            return\n",
    "        cur = self.root\n",
    "        prev = None\n",
    "        while cur:\n",
    "            prev = cur\n",
    "            cur = cur.next\n",
    "        prev.next = new_node\n",
    "    def remove_front(self):\n",
    "        deleted = self.root\n",
    "        if not self.root:\n",
    "            return None\n",
    "        elif not self.root.next:\n",
    "            self.root = None\n",
    "        cur = self.root.next\n",
    "        self.root = cur\n",
    "        return deleted\n",
    "    def remove_back(self):\n",
    "        cur = self.root\n",
    "        prev = None\n",
    "        while cur.next:\n",
    "            prev = cur\n",
    "            cur = cur.next\n",
    "        deleted = cur\n",
    "        prev.next = None\n",
    "        return deleted\n",
    "    def __repr__(self):\n",
    "        cur = self.root\n",
    "        ret = \"\"\n",
    "        while cur:\n",
    "            if cur:\n",
    "                ret += f\"{cur},\"\n",
    "            cur = cur.next\n",
    "        return ret\n"
   ]
  },
  {
   "cell_type": "code",
   "execution_count": 4,
   "id": "ff3f25d9",
   "metadata": {},
   "outputs": [
    {
     "name": "stdout",
     "output_type": "stream",
     "text": [
      "2,4,8,10,\n",
      "2\n",
      "10\n",
      "4,8,\n"
     ]
    }
   ],
   "source": [
    "#task 1 test cases\n",
    "ll = LL()\n",
    "ll.insert_back(8)\n",
    "ll.insert_back(10)\n",
    "ll.insert_front(4)\n",
    "ll.insert_front(2)\n",
    "print(ll)\n",
    "print(ll.remove_front())\n",
    "print(ll.remove_back())\n",
    "print(ll)\n"
   ]
  },
  {
   "attachments": {},
   "cell_type": "markdown",
   "id": "2373d3e5",
   "metadata": {},
   "source": [
    "- 10/10"
   ]
  },
  {
   "cell_type": "code",
   "execution_count": 5,
   "id": "3e0a4f89",
   "metadata": {},
   "outputs": [],
   "source": [
    "#Task 2\n",
    "class priorityStack(LL):\n",
    "    def __init__(self):\n",
    "        self.root = None\n",
    "    def push(self,item:str): #assume item is a string including \"RED\" or \"GREEN\"\n",
    "        if \"RED\" in item:\n",
    "            return self.insert_front(item) #RED is popped out first\n",
    "        elif \"GREEN\" in item:\n",
    "            return self.insert_back(item)\n",
    "    def pop(self):\n",
    "        if not self.root:\n",
    "            return None\n",
    "        else:\n",
    "            return self.remove_front()"
   ]
  },
  {
   "cell_type": "code",
   "execution_count": 7,
   "id": "fd956dbd",
   "metadata": {},
   "outputs": [
    {
     "data": {
      "text/plain": [
       "GREEN1"
      ]
     },
     "execution_count": 7,
     "metadata": {},
     "output_type": "execute_result"
    }
   ],
   "source": [
    "s = priorityStack()\n",
    "s.push(\"GREEN1\")\n",
    "s.push(\"GREEN2\")\n",
    "s.pop()"
   ]
  },
  {
   "attachments": {},
   "cell_type": "markdown",
   "id": "acf867dd",
   "metadata": {},
   "source": [
    "### Feedback\n",
    "- item should not be a str but a new class with data and color code\n",
    "- your pop is wrong!!\n",
    "- 2/8"
   ]
  },
  {
   "cell_type": "code",
   "execution_count": 8,
   "id": "937995d6",
   "metadata": {},
   "outputs": [
    {
     "ename": "SyntaxError",
     "evalue": "invalid syntax (3646091182.py, line 2)",
     "output_type": "error",
     "traceback": [
      "\u001b[1;36m  Cell \u001b[1;32mIn [8], line 2\u001b[1;36m\u001b[0m\n\u001b[1;33m    def HashTable:\u001b[0m\n\u001b[1;37m                 ^\u001b[0m\n\u001b[1;31mSyntaxError\u001b[0m\u001b[1;31m:\u001b[0m invalid syntax\n"
     ]
    }
   ],
   "source": [
    "#Task 3\n",
    "def HashTable:\n",
    "    def __init__(self,size):\n",
    "        self.arr = LL()\n",
    "        self.size = size\n",
    "    def Hash(self,char):\n",
    "        total = 0\n",
    "        for i in char:\n",
    "            total += ord(i)\n",
    "        return total%self.size\n",
    "    def insert(self,obj):\n",
    "        index = self.Hash(obj)\n",
    "        if len(str(self.arr).split(\",\")) <= self.size:#if arr is not full\n",
    "            self.arr.insert_back(obj)\n",
    "            return True\n",
    "        else:\n",
    "            return False\n",
    "    def remove(self,obj):\n",
    "        index = self.Hash(obj)\n",
    "        a = str(self.arr).split(\",\")\n",
    "        new_arr = LL()\n",
    "        deleted = False\n",
    "        for i in range(len(a)):\n",
    "            item = self.arr.remove_back()\n",
    "            if index == self.Hash(item): #delete that specific value at i\n",
    "                for j in new_arr:\n",
    "                    self.arr.insert_back(j)\n",
    "                deleted = True\n",
    "            new_arr.insert_front(item) #inserts back removed items\n",
    "        return deleted"
   ]
  },
  {
   "attachments": {},
   "cell_type": "markdown",
   "id": "860b01d5",
   "metadata": {},
   "source": [
    "#### Feedback\n",
    "- do you rememeber your OOP ???!!!\n",
    "- Please revise your Hash Table!!!!\n",
    "- First you try to turn a hash table  into a Linked List!!\n",
    "- AND THEN  TRYING TO force the LinkedList into a str !!!! THIS IS PURE BRUTE FORCE !!!\n",
    "- When the question ask for a Hash Table, you jolly well implement a Hash Table !!!\n",
    "- 0/10 \n",
    "\n",
    "***IF YOU ARE JUST MEMORISING CODE without understanding any of the data structures YOU ARE IN DEEP DEEP TROUBLE. Please consult if you DON'T UNDERSTAND***"
   ]
  }
 ],
 "metadata": {
  "kernelspec": {
   "display_name": "Python 3",
   "language": "python",
   "name": "python3"
  },
  "language_info": {
   "codemirror_mode": {
    "name": "ipython",
    "version": 3
   },
   "file_extension": ".py",
   "mimetype": "text/x-python",
   "name": "python",
   "nbconvert_exporter": "python",
   "pygments_lexer": "ipython3",
   "version": "3.10.8"
  },
  "vscode": {
   "interpreter": {
    "hash": "b149ba615515c9ec6719835bf72ba4a036d1526aa57fa533d4f86333c39ad666"
   }
  }
 },
 "nbformat": 4,
 "nbformat_minor": 5
}
