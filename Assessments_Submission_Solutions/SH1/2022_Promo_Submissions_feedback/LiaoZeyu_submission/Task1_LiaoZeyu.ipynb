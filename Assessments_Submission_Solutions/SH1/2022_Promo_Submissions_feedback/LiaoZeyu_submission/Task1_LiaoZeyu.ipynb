{
 "cells": [
  {
   "cell_type": "code",
   "execution_count": null,
   "metadata": {},
   "outputs": [],
   "source": [
    "##Task 1.1\n",
    "class Matrix:\n",
    "    def __init__(self,m,n):\n",
    "        if type(m)==int and type(n)==int:\n",
    "            self.__row_count=m\n",
    "            self.__column_count=n\n",
    "            self.__buffer=[]\n",
    "            for i in range(m):\n",
    "                self.__buffer.append([None for _ in range(n)])\n",
    "        else:\n",
    "            print('inputs must be of integer data type!')\n",
    "    def get_buffer(self):\n",
    "        return self.__buffer\n",
    "    def get_dimension(self):\n",
    "        return (self.__row_count, self.__column_count)\n",
    "    def get_value(self, row, column):\n",
    "        try:\n",
    "            if type(row)==int and type(column)==int:\n",
    "                if column>0 and row>0:\n",
    "                    return self.__buffer[row-1][column-1]\n",
    "                else:\n",
    "                    print('row and column must have a value of at least 1')\n",
    "            else:\n",
    "                print('inputs must be of integer data type!')\n",
    "        except:\n",
    "            print('row or column out of range')\n",
    "    def get_row(self, row):\n",
    "        try:\n",
    "            if type(row)==int:\n",
    "                if row>0:\n",
    "                    return self.__buffer[row-1]\n",
    "                else:\n",
    "                    print('row must have a value of at least 1')\n",
    "            else:\n",
    "                print('inputs must be of integer data type!')\n",
    "        except:\n",
    "            print('row out of range')\n",
    "    def get_column(self, column):\n",
    "        try:\n",
    "            if type(column)==int:\n",
    "                if column>0:\n",
    "                    ret=[]\n",
    "                    for i in self.__buffer:\n",
    "                        ret.append(i[column-1])\n",
    "                    return ret\n",
    "                else:\n",
    "                    print('column must have a value of at least 1')\n",
    "            else:\n",
    "                print('inputs must be of integer data type!')\n",
    "        except:\n",
    "            print('column out of range')\n",
    "    def set_value(self, row, column, value):\n",
    "        try:\n",
    "            if type(row)==int and type(column)==int and type(value)==int:\n",
    "                if column>0 and row>0:\n",
    "                    self.__buffer[row-1][column-1]=value\n",
    "                else:\n",
    "                    print('row and column must have a value of at least 1')\n",
    "            else:\n",
    "                print('inputs must be of integer data type!')\n",
    "        except:\n",
    "            print('column or row out of range')\n",
    "    def set_row(self, row, vector):\n",
    "        try:\n",
    "            if type(row)==int and type(vector)==list:\n",
    "                if len(vector)==len(self.__buffer[0]):\n",
    "                    if row>0:\n",
    "                        vectorInt=True\n",
    "                        for i in vector:\n",
    "                            if type(i)!=int:\n",
    "                                vectorInt=False\n",
    "                        if vectorInt==True:\n",
    "                            for i in range(len(self.__buffer[row-1])):\n",
    "                                try:\n",
    "                                    self.__buffer[row-1][i]=vector[i]\n",
    "                                except:\n",
    "                                    break\n",
    "                        else:\n",
    "                            print('values in vector must be integer')\n",
    "                    else:\n",
    "                        print('row must have a value of at least 1')\n",
    "                else:\n",
    "                    print('vector must have same number of elements as row length')\n",
    "            else:\n",
    "                print('row must be a integer and vector must be a list')\n",
    "        except:\n",
    "            print('row out of range')\n",
    "    def set_column(self, column, vector): \n",
    "        try:\n",
    "            if type(column)==int and type(vector)==list:\n",
    "                if len(vector)==len(self.__buffer):\n",
    "                    if column>0:\n",
    "                        vectorInt=True\n",
    "                        for i in vector:\n",
    "                            if type(i)!=int:\n",
    "                                vectorInt=False\n",
    "                        if vectorInt==True:\n",
    "                            for i in range(len(self.__buffer)):\n",
    "                                try:\n",
    "                                    self.__buffer[i][column-1]=vector[i]\n",
    "                                except:\n",
    "                                    break\n",
    "                        else:\n",
    "                            print('values in vector must be integer')\n",
    "                    else:\n",
    "                        print('column must have a value of at least 1')\n",
    "                else:\n",
    "                    print('column must be a integer and vector must be a list')\n",
    "            else:\n",
    "                print('vector must have same number of elements as column size')\n",
    "        except:\n",
    "            print('column out of range')\n",
    "    def __repr__(self):\n",
    "        retStr='['\n",
    "        retStr=f\"{retStr}\\n\"\n",
    "        for i in self.__buffer:\n",
    "            temp=''\n",
    "            for x in i:\n",
    "                temp=temp+str(x)+' '\n",
    "            retStr=retStr+f\"{temp}\\n\"\n",
    "        retStr=retStr+']'\n",
    "        return retStr"
   ]
  },
  {
   "cell_type": "code",
   "execution_count": null,
   "metadata": {
    "scrolled": true
   },
   "outputs": [],
   "source": [
    "##Task 1.2\n",
    "one=Matrix(2,2)\n",
    "one.set_row(1,[1,2])\n",
    "one.set_row(2,[3,4])\n",
    "print(one)\n",
    "two=Matrix(1, 3)\n",
    "two.set_column(1, [5])\n",
    "two.set_value(1,2,6)\n",
    "two.set_value(1,3,7)\n",
    "print(two)\n",
    "three=Matrix(3,1)\n",
    "three.set_column(1, [9,8,7])\n",
    "print(three)\n",
    "four=Matrix(0,0)\n",
    "print(four)\n",
    "five=Matrix(2,2)\n",
    "five.set_row(1,[1,2])\n",
    "five.set_value(2,1,3)\n",
    "print(five)"
   ]
  },
  {
   "cell_type": "code",
   "execution_count": 4,
   "metadata": {},
   "outputs": [],
   "source": [
    "##Task 1.3\n",
    "def dot_product(A, B):\n",
    "    try:\n",
    "        if len(A)==len(B):\n",
    "            ret=0\n",
    "            for i in range(len(A)):\n",
    "                ret+=A[i]*B[i]\n",
    "            return ret\n",
    "        else:\n",
    "            print('matrices must have same dimension')\n",
    "    except:\n",
    "        print('wrong data format')"
   ]
  },
  {
   "cell_type": "code",
   "execution_count": 5,
   "metadata": {
    "scrolled": true
   },
   "outputs": [
    {
     "data": {
      "text/plain": [
       "933"
      ]
     },
     "execution_count": 5,
     "metadata": {},
     "output_type": "execute_result"
    }
   ],
   "source": [
    "##Task 1.4\n",
    "dot_product([11,13,5], [21,44,26])"
   ]
  },
  {
   "cell_type": "code",
   "execution_count": 6,
   "metadata": {},
   "outputs": [],
   "source": [
    "def transpose(A):\n",
    "    buff=A.get_buffer()\n",
    "    B=(A.get)"
   ]
  },
  {
   "cell_type": "markdown",
   "metadata": {},
   "source": [
    "```\n",
    "1.5 0\n",
    "1.6 0"
   ]
  }
 ],
 "metadata": {
  "kernelspec": {
   "display_name": "Python 3.6.4 64-bit",
   "language": "python",
   "name": "python3"
  },
  "language_info": {
   "codemirror_mode": {
    "name": "ipython",
    "version": 3
   },
   "file_extension": ".py",
   "mimetype": "text/x-python",
   "name": "python",
   "nbconvert_exporter": "python",
   "pygments_lexer": "ipython3",
   "version": "3.6.4"
  },
  "vscode": {
   "interpreter": {
    "hash": "f4e9cda46bb2d9d7fe6ecdff0f8336a934348bf06cb492f2f42f60739b3403b4"
   }
  }
 },
 "nbformat": 4,
 "nbformat_minor": 2
}
