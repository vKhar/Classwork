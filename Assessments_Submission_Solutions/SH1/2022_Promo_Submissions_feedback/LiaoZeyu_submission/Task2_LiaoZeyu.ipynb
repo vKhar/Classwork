{
 "cells": [
  {
   "cell_type": "code",
   "execution_count": 1,
   "metadata": {
    "scrolled": true
   },
   "outputs": [],
   "source": [
    "##Task 2.1\n",
    "def throw2score(throw):\n",
    "    if throw=='X':\n",
    "        return 10\n",
    "    else:\n",
    "        return int(throw) ##convert to int\n",
    "def calc_score(throws): ##assume the input is valid\n",
    "    total_score=0\n",
    "    for frame in range(0,10):\n",
    "        frame_score=0\n",
    "        if throws[0]=='X':\n",
    "            frame_score=10+throw2score(throws[1])+throw2score(throws[2])\n",
    "            throws=throws[1:]\n",
    "        else:\n",
    "            frame_score=throw2score(throws[0])+throw2score(throws[1])\n",
    "            if frame_score==10:\n",
    "                frame_score=frame_score+throw2score(throws[2])\n",
    "            throws=throws[2:]\n",
    "        total_score=total_score+frame_score\n",
    "    return total_score"
   ]
  },
  {
   "cell_type": "markdown",
   "metadata": {},
   "source": [
    "```\n",
    "2.2 0\n",
    "2.3 0\n",
    "2.4 0"
   ]
  },
  {
   "cell_type": "markdown",
   "metadata": {},
   "source": []
  }
 ],
 "metadata": {
  "kernelspec": {
   "display_name": "Python 3.6.4 64-bit",
   "language": "python",
   "name": "python3"
  },
  "language_info": {
   "codemirror_mode": {
    "name": "ipython",
    "version": 3
   },
   "file_extension": ".py",
   "mimetype": "text/x-python",
   "name": "python",
   "nbconvert_exporter": "python",
   "pygments_lexer": "ipython3",
   "version": "3.6.4"
  },
  "vscode": {
   "interpreter": {
    "hash": "f4e9cda46bb2d9d7fe6ecdff0f8336a934348bf06cb492f2f42f60739b3403b4"
   }
  }
 },
 "nbformat": 4,
 "nbformat_minor": 2
}
