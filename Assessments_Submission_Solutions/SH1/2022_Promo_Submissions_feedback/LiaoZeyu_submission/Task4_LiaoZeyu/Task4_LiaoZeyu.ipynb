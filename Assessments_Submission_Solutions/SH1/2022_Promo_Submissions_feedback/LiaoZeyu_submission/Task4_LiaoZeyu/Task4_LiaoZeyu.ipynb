{
 "cells": [
  {
   "cell_type": "code",
   "execution_count": 1,
   "metadata": {
    "scrolled": false
   },
   "outputs": [],
   "source": [
    "##Task 4.2\n",
    "import sqlite3\n",
    "try:\n",
    "    db=sqlite3.connect(\"Task4.db\")\n",
    "    with open(\"../country.txt\") as f:\n",
    "        for i in f:\n",
    "            i=i.strip()\n",
    "            i-i.split(',')\n",
    "            db.execute('INSERT INTO Country(\"CountryName\",\"CaptainID\") VALUES(?, 0)', (i[0],))\n",
    "    db.commit()\n",
    "except:\n",
    "    db.rollback()\n",
    "finally:\n",
    "    db.close()"
   ]
  },
  {
   "cell_type": "markdown",
   "metadata": {},
   "source": [
    "```\n",
    "4.4 0"
   ]
  }
 ],
 "metadata": {
  "kernelspec": {
   "display_name": "Python 3.6.4 64-bit",
   "language": "python",
   "name": "python3"
  },
  "language_info": {
   "codemirror_mode": {
    "name": "ipython",
    "version": 3
   },
   "file_extension": ".py",
   "mimetype": "text/x-python",
   "name": "python",
   "nbconvert_exporter": "python",
   "pygments_lexer": "ipython3",
   "version": "3.6.4"
  },
  "vscode": {
   "interpreter": {
    "hash": "f4e9cda46bb2d9d7fe6ecdff0f8336a934348bf06cb492f2f42f60739b3403b4"
   }
  }
 },
 "nbformat": 4,
 "nbformat_minor": 2
}
