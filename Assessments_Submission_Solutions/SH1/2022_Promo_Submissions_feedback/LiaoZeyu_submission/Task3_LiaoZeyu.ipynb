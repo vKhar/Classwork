{
 "cells": [
  {
   "cell_type": "code",
   "execution_count": null,
   "metadata": {
    "scrolled": true
   },
   "outputs": [],
   "source": [
    "##Task 3.1\n",
    "import string\n",
    "def hex2dec(n):\n",
    "    map=string.digits+string.ascii_lowercase\n",
    "    ret=0\n",
    "    for i in range(len(n)):\n",
    "        ret+=map.index(n[i])*(16**(len(n)-1-i))\n",
    "    return ret"
   ]
  },
  {
   "cell_type": "code",
   "execution_count": null,
   "metadata": {},
   "outputs": [],
   "source": [
    "##Task 3.2\n",
    "with open(\"HEX_SCORE.txt\") as f:\n",
    "    playerList=[]\n",
    "    for i in f:\n",
    "        i=i.strip()\n",
    "        append=[]\n",
    "        i=i.split(',')\n",
    "        score=0\n",
    "        for x in i[2:]:\n",
    "            score+=hex2dec(x)\n",
    "        playerList.append([i[0], i[1], score])\n",
    "for i in range(len(playerList)-1):\n",
    "    swap=False\n",
    "    for x in range(len(playerList)-i-1):\n",
    "        if playerList[x][2]<playerList[x+1][2]:\n",
    "            playerList[x][2], playerList[x+1][2]=playerList[x+1][2], playerList[x][2]\n",
    "            swap=True\n",
    "    if swap==False:\n",
    "        break\n",
    "print('Rank       ID        Score')\n",
    "for i in range(len(playerList)):\n",
    "    print(f\" {i+1}      {playerList[i][0]}     {playerList[i][2]}\")"
   ]
  },
  {
   "cell_type": "markdown",
   "metadata": {},
   "source": [
    "```\n",
    "line 16, why are you swapping the score instead of the whole list ??"
   ]
  },
  {
   "cell_type": "code",
   "execution_count": 7,
   "metadata": {
    "scrolled": true
   },
   "outputs": [
    {
     "name": "stdout",
     "output_type": "stream",
     "text": [
      "Country      Num. Players     Score\n",
      "  SIN              5           1594\n",
      "  IND              4           1539\n",
      "  MAS              3           1438\n",
      "  TPE              3           1506\n",
      "  KOR              2           1509\n",
      "  MAC              3           1440\n"
     ]
    }
   ],
   "source": [
    "##Task 3.3\n",
    "countryDict={}\n",
    "for i in playerList:\n",
    "    if i[1] not in countryDict.keys():\n",
    "        countryDict[i[1]]=[1, i[2]]\n",
    "    else:\n",
    "        countryDict[i[1]][0]+=1\n",
    "        countryDict[i[1]][1]+=i[2]\n",
    "print('Country      Num. Players     Score')\n",
    "for i in countryDict.keys():\n",
    "    info=countryDict[i]\n",
    "    print(f\"  {i}              {info[0]}           {info[1]//info[0]}\")"
   ]
  },
  {
   "cell_type": "code",
   "execution_count": null,
   "metadata": {},
   "outputs": [],
   "source": []
  }
 ],
 "metadata": {
  "kernelspec": {
   "display_name": "Python 3.6.4 64-bit",
   "language": "python",
   "name": "python3"
  },
  "language_info": {
   "codemirror_mode": {
    "name": "ipython",
    "version": 3
   },
   "file_extension": ".py",
   "mimetype": "text/x-python",
   "name": "python",
   "nbconvert_exporter": "python",
   "pygments_lexer": "ipython3",
   "version": "3.6.4"
  },
  "vscode": {
   "interpreter": {
    "hash": "f4e9cda46bb2d9d7fe6ecdff0f8336a934348bf06cb492f2f42f60739b3403b4"
   }
  }
 },
 "nbformat": 4,
 "nbformat_minor": 2
}
