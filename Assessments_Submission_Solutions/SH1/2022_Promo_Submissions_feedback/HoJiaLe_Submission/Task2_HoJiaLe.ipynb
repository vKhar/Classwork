{
 "cells": [
  {
   "cell_type": "code",
   "execution_count": null,
   "metadata": {},
   "outputs": [],
   "source": [
    "#Task 2.1\n",
    "def throw2score(throw):\n",
    "    if throw = 'X':\n",
    "        return 10\n",
    "    else: \n",
    "        return int(throw)\n",
    "def calc_score(throws):\n",
    "    total_score = 0:\n",
    "    for i in range(len(throws)):\n",
    "        frame_score = 0\n",
    "        if throws[i] = 'X':\n",
    "            frame_score = 10 + sum(throws[i+1]) + sum(throws[i+2])\n",
    "            throws.pop(0)\n",
    "        else:\n",
    "            frame_score = sum(throws[i]) + sum(throws[i+1])\n",
    "            if frame_score = 10:\n",
    "                frame_score += sum(throws[i+1])\n",
    "            throws.pop(0)\n",
    "            throws.pop(0)\n",
    "        total_score += frame_score\n",
    "    return total_score\n",
    "                    \n"
   ]
  },
  {
   "cell_type": "markdown",
   "metadata": {},
   "source": [
    "#### Mutating a list while traversing through it !!! line 9, 13,18,19\n",
    "#### == line 11, 16\n",
    "```\n",
    "\n",
    "2.2 0\n",
    "2.3 0\n",
    "2.4 0\n",
    "2.5 0"
   ]
  }
 ],
 "metadata": {
  "kernelspec": {
   "display_name": "Python 3",
   "language": "python",
   "name": "python3"
  },
  "language_info": {
   "codemirror_mode": {
    "name": "ipython",
    "version": 3
   },
   "file_extension": ".py",
   "mimetype": "text/x-python",
   "name": "python",
   "nbconvert_exporter": "python",
   "pygments_lexer": "ipython3",
   "version": "3.6.4"
  }
 },
 "nbformat": 4,
 "nbformat_minor": 2
}
