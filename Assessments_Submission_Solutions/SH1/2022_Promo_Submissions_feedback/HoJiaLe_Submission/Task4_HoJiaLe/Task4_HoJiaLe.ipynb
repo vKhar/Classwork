{
 "cells": [
  {
   "cell_type": "code",
   "execution_count": null,
   "metadata": {},
   "outputs": [],
   "source": [
    "#Task4.1\n",
    "import sqlite3\n",
    "def entercountry():\n",
    "    lines = [i.strip().split(',') for i in open(\"COUNTRY.txt\",'r').readlines()]\n",
    "    conn = sqlite3.connect(\"Task4.db\")\n",
    "    c = conn.cursor()\n",
    "    with conn:\n",
    "        for i in lines:\n",
    "            c.execute(f\"INSERT INTO Country (CountryCode, CountryName) VALUES ('{i[1]}','{i[0]}')\")\n",
    "entercountry()"
   ]
  },
  {
   "cell_type": "code",
   "execution_count": null,
   "metadata": {},
   "outputs": [],
   "source": [
    "#Task 4.4\n",
    "from flask import request, render_template, Flask\n",
    "app = Flask(__name__)\n",
    "@app.route('/')\n",
    "def render_form():\n",
    "    render_template('form.html')\n",
    "@app.route('/', method = ['POST'])\n",
    "def get_form():\n",
    "    name = request.form['name']\n",
    "    countrycode = request.form['countrycode']\n",
    "    gender = request.form['gender']\n",
    "    birthdate = request.form['birthdate']\n",
    "    conn = sqlite3.connect(\"Task4.db\")\n",
    "    c = conn.cursor()\n",
    "    with conn:\n",
    "        c.execute(f\"INSERT INTO Player (Name,CountryCode,Gender,DateOfBirth) VALUES ('{name}','{countrycode}','{gender}','{birthdate}')\")\n",
    "app.run()"
   ]
  },
  {
   "cell_type": "markdown",
   "metadata": {},
   "source": [
    "## wrong decorator line 7 \n",
    "## SQL INJECTION line 16\n",
    "## NO exception handling\n",
    "## NO return \n",
    "## NO submit in form\n"
   ]
  }
 ],
 "metadata": {
  "kernelspec": {
   "display_name": "Python 3.6.4 64-bit",
   "language": "python",
   "name": "python3"
  },
  "language_info": {
   "codemirror_mode": {
    "name": "ipython",
    "version": 3
   },
   "file_extension": ".py",
   "mimetype": "text/x-python",
   "name": "python",
   "nbconvert_exporter": "python",
   "pygments_lexer": "ipython3",
   "version": "3.6.4"
  },
  "vscode": {
   "interpreter": {
    "hash": "f4e9cda46bb2d9d7fe6ecdff0f8336a934348bf06cb492f2f42f60739b3403b4"
   }
  }
 },
 "nbformat": 4,
 "nbformat_minor": 2
}
