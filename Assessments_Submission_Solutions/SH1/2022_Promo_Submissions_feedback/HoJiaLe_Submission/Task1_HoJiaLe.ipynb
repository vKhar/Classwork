{
 "cells": [
  {
   "cell_type": "code",
   "execution_count": null,
   "metadata": {},
   "outputs": [],
   "source": [
    "#Task 1.1\n",
    "class Matrix:\n",
    "    def __init__(self,buffer,row_count,column_count):\n",
    "        self.__buffer = buffer\n",
    "        for i in range(row_count):\n",
    "            temp = []\n",
    "            for x in range(column_count):\n",
    "                temp.append(None)\n",
    "            self.__buffer.append(temp)\n",
    "        self.__row_count = row_count\n",
    "        self.__column_count = column_count\n",
    "    def __repr__(self):\n",
    "        try:\n",
    "            for i in range(len(self.__buffer)):\n",
    "                for j in range(len(self.__buffer[i])):\n",
    "                    if self.__buffer[i][j] == None:\n",
    "                        self.__buffer[i][j] = \"None\"\n",
    "            print('[')\n",
    "            for i in self.__buffer:\n",
    "                print(' '.join(i))\n",
    "            print(']')\n",
    "\n",
    "        except:\n",
    "            return None\n",
    "    def get_value(self,row,column):\n",
    "        return self.__buffer[row][column]\n",
    "    def get_dimension(self):\n",
    "        return (self.__row_count, self.__column_count)\n",
    "    def get_row(self,row):\n",
    "        return self.__buffer[row-1]\n",
    "    def get_column(self,column):\n",
    "        temp = []\n",
    "        for i in self.__buffer:\n",
    "            temp.append(i[column-1])\n",
    "        return temp\n",
    "    def set_value(self,column,row,value):\n",
    "        try:\n",
    "            self.__buffer[row-1][column-1] = value\n",
    "        except:\n",
    "            return(\"INVALID SETTING\")\n",
    "    def set_row(self,row,vector):\n",
    "        try:\n",
    "            for i in range(len(self.__buffer[row-1])):\n",
    "                self.__buffer[row-1][i] = vector[i]\n",
    "        except:\n",
    "            return(\"INVALID SETTING\")\n",
    "    def set_column(self,column,vector):\n",
    "        try:\n",
    "            count = 0\n",
    "            for i in self.__buffer:\n",
    "                i[column-1] = vector[count]\n",
    "                count = count + 1\n",
    "        except:\n",
    "            return(\"INVALID SETTING\")\n",
    "    def get_buffer(self):\n",
    "        return self.__buffer\n"
   ]
  },
  {
   "cell_type": "code",
   "execution_count": null,
   "metadata": {},
   "outputs": [],
   "source": [
    "#Task 1.2\n",
    "m1 = Matrix([],2,2)\n",
    "m1.set_column(1,['1','3'])\n",
    "m1.set_column(2,[\"2\",'4'])\n",
    "print(m1)\n",
    "m2 = Matrix([],1,3)\n",
    "m2.set_row(1,['5','6','7'])\n",
    "print(m2)\n",
    "m3 = Matrix([],3,1)\n",
    "m3.set_column(1,[\"9\",\"8\",\"7\"])\n",
    "print(m3)\n",
    "m4 = Matrix([],0,0)\n",
    "print(m4)\n",
    "m5 = Matrix([],0,0)\n",
    "m5.set_row(1,[\"1\",'2'])\n",
    "m5.set_row(2,[\"3\"])\n",
    "\n"
   ]
  },
  {
   "cell_type": "code",
   "execution_count": null,
   "metadata": {},
   "outputs": [],
   "source": [
    "#Task 1.3\n",
    "def dot_product(A,B):\n",
    "    if A.get_dimension() != B.get_dimension():\n",
    "        return(\"INVALID MATRIXES\")\n",
    "    else:\n",
    "        ret = 0\n",
    "        for i in range(len(A.get_buffer())):\n",
    "            ret += int(A.get_buffer()[i][0]) * int(B.get_buffer()[i][0])\n",
    "        return ret\n",
    "\n"
   ]
  },
  {
   "cell_type": "code",
   "execution_count": 9,
   "metadata": {},
   "outputs": [
    {
     "data": {
      "text/plain": [
       "933"
      ]
     },
     "execution_count": 9,
     "metadata": {},
     "output_type": "execute_result"
    }
   ],
   "source": [
    "#Task 1.4\n",
    "m1 = Matrix([],3,1)\n",
    "m1.set_column(1,['11','13','5'])\n",
    "m2 = Matrix([],3,1)\n",
    "m2.set_column(1,['21','44','26'])\n",
    "dot_product(m1,m2)"
   ]
  },
  {
   "cell_type": "markdown",
   "metadata": {},
   "source": [
    "```\n",
    "1.5 0\n",
    "1.6 0\n",
    "```"
   ]
  }
 ],
 "metadata": {
  "kernelspec": {
   "display_name": "Python 3.6.4 64-bit",
   "language": "python",
   "name": "python3"
  },
  "language_info": {
   "codemirror_mode": {
    "name": "ipython",
    "version": 3
   },
   "file_extension": ".py",
   "mimetype": "text/x-python",
   "name": "python",
   "nbconvert_exporter": "python",
   "pygments_lexer": "ipython3",
   "version": "3.6.4"
  },
  "vscode": {
   "interpreter": {
    "hash": "f4e9cda46bb2d9d7fe6ecdff0f8336a934348bf06cb492f2f42f60739b3403b4"
   }
  }
 },
 "nbformat": 4,
 "nbformat_minor": 2
}
