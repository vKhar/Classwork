{
 "cells": [
  {
   "cell_type": "code",
   "execution_count": 33,
   "metadata": {},
   "outputs": [],
   "source": [
    "class Matrix:\n",
    "    def __init__(self, m, n):\n",
    "        if type(m)==int and type(n)==int:\n",
    "            self.__buffer = [[None for _ in range(n)] for _ in range(m)]\n",
    "            self.__row_count = m\n",
    "            self.__column_count = n\n",
    "        else:\n",
    "            return \"m an n must be integers\"\n",
    "    def get_dimension(self):\n",
    "        return [self.__row_count, self.__column_count]\n",
    "    def get_value(self, row, column):\n",
    "        if type(row)!= int or type(column)!= int:\n",
    "            return \"row and column must be integers\"\n",
    "        elif row>self.__row_count or column>self.__column_count:\n",
    "            return \"row and column not within range\"\n",
    "        return self.__buffer[row-1][column-1]\n",
    "    def get_row(self, row):\n",
    "        if type(row)!= int:\n",
    "            return \"row must be integer\"\n",
    "        elif row>self.__row_count:\n",
    "            return \"row not within range\"\n",
    "        return self.__buffer[row-1]\n",
    "    def get_column(self, column):\n",
    "        if type(column)!= int:\n",
    "            return \"column must be integer\"\n",
    "        #elif row>self.__column_count:\n",
    "        elif column>self.__column_count:\n",
    "            return \"column not within range\"\n",
    "        ret = []\n",
    "        for rows in self.__buffer:\n",
    "            ret.append(rows[column-1])\n",
    "        return ret\n",
    "    def set_value(self, row, column, value):\n",
    "        if type(row)!=int or type(column)!=int:\n",
    "            return \"row and column must be integer\"\n",
    "        elif row>self.__row_count or column>self.__column_count:\n",
    "            return \"row and column not within range\"\n",
    "        for i in range(len(value)):\n",
    "            if type(value[i])!=int:\n",
    "                return \"all values must be int\"\n",
    "        self.__buffer[row-1][column-1] = value\n",
    "    def set_row(self, row, value):\n",
    "        if type(row)!= int:\n",
    "            return \"row must be integer\"\n",
    "        elif row>self.__row_count:\n",
    "            return \"row not within range\"\n",
    "        elif len(value)!=self.__column_count:\n",
    "            return \"not correct length\"\n",
    "        for i in range(len(value)):\n",
    "            if type(value[i])!=int:\n",
    "                return \"all values must be int\"\n",
    "        self.__buffer[row-1] = value\n",
    "    def set_column(self, column, value):\n",
    "        if type(column)!= int:\n",
    "            return \"column must be integer\"\n",
    "        elif column>self.__column_count:\n",
    "            return \"column not within range\"\n",
    "        elif len(value)!=self.__row_count:\n",
    "            return \"not correct length\"\n",
    "        for i in range(len(value)):\n",
    "            if type(value[i])!=int:\n",
    "                return \"all values must be int\"\n",
    "        for i in range(len(value)):\n",
    "            self.__buffer[i][column-1] = value[i]\n",
    "    def __repr__(self):\n",
    "        ret = \"\\n[\\n\"\n",
    "        for rows in self.__buffer:\n",
    "            for row in rows:\n",
    "                ret += f\"{str(row)} \" \n",
    "            ret += \"\\n\"\n",
    "        ret+= \"]\"\n",
    "        return ret"
   ]
  },
  {
   "cell_type": "markdown",
   "metadata": {},
   "source": [
    "```\n",
    "Validation code can be modular and put in a helper function/method"
   ]
  },
  {
   "cell_type": "code",
   "execution_count": 34,
   "metadata": {},
   "outputs": [
    {
     "name": "stdout",
     "output_type": "stream",
     "text": [
      "\n",
      "[\n",
      "1 2 \n",
      "3 4 \n",
      "] \n",
      "[\n",
      "5 6 7 \n",
      "] \n",
      "[\n",
      "9 \n",
      "8 \n",
      "7 \n",
      "] \n",
      "[\n",
      "] \n",
      "[\n",
      "]\n"
     ]
    }
   ],
   "source": [
    "##Task 1.2\n",
    "\n",
    "matrix1 = Matrix(2, 2)\n",
    "matrix1.set_row(1, [1, 2])\n",
    "matrix1.set_row(2, [3, 4])\n",
    "\n",
    "matrix2 = Matrix(1, 3)\n",
    "matrix2.set_row(1, [5, 6, 7])\n",
    "\n",
    "matrix3 = Matrix(3, 1)\n",
    "matrix3.set_column(1, [9, 8, 7])\n",
    "\n",
    "matrix4 = Matrix(0, 0)\n",
    "\n",
    "matrix5 = Matrix(2, 2)\n",
    "matrix5.set_row(1, [1, 2])\n",
    "matrix5.set_row(2, [3])\n",
    "\n",
    "print(matrix1, matrix2, matrix3, matrix4, matrix4)"
   ]
  },
  {
   "cell_type": "markdown",
   "metadata": {},
   "source": [
    "```\n",
    "matrix5 is invalid and should not be printed"
   ]
  },
  {
   "cell_type": "code",
   "execution_count": 35,
   "metadata": {},
   "outputs": [
    {
     "name": "stdout",
     "output_type": "stream",
     "text": [
      "\n",
      "[\n",
      "1 2 \n",
      "None None \n",
      "]\n"
     ]
    }
   ],
   "source": [
    "print(matrix5)"
   ]
  },
  {
   "cell_type": "code",
   "execution_count": 36,
   "metadata": {},
   "outputs": [],
   "source": [
    "##Task 1.3\n",
    "\n",
    "def dot_product(a, b): ##assume a and b same length\n",
    "    ret = 0\n",
    "    for i in range(len(a)):\n",
    "        ret += a[i]*b[i]\n",
    "    return ret"
   ]
  },
  {
   "cell_type": "code",
   "execution_count": 37,
   "metadata": {},
   "outputs": [
    {
     "data": {
      "text/plain": [
       "933"
      ]
     },
     "execution_count": 37,
     "metadata": {},
     "output_type": "execute_result"
    }
   ],
   "source": [
    "##Task 1.4\n",
    "\n",
    "dot_product([11, 13, 5], [21, 44, 26])"
   ]
  },
  {
   "cell_type": "code",
   "execution_count": 41,
   "metadata": {},
   "outputs": [],
   "source": [
    "##Task 1.5\n",
    "\n",
    "def transpose(A):\n",
    "    newMatrix = Matrix(A.get_dimension()[1], A.get_dimension()[0])\n",
    "    for i in range((A.get_dimension()[1])):\n",
    "        newMatrix.set_row(i, A.get_row([i+1]))\n",
    "    return newMatrix"
   ]
  },
  {
   "cell_type": "markdown",
   "metadata": {},
   "source": [
    "```\n",
    "line 6, should be set_row(i+1, A.get_column(i+1)), pass in a list into get_row()\n"
   ]
  },
  {
   "cell_type": "code",
   "execution_count": null,
   "metadata": {},
   "outputs": [],
   "source": [
    "##Task 1.6\n",
    "\n",
    "def M_multiply(A, B):\n",
    "    m = A.get_dimension()[0]\n",
    "    n = A.get_dimension()[1]\n",
    "    p = B.get_dimension()[1]\n",
    "    new_matrix = Matrix(m, p)\n",
    "    for row in range(m):\n",
    "        new_row = []\n",
    "        row_from_A = A.get_row(row)\n",
    "        for col in range(p):\n",
    "            col_from_B = B.get_column(col)\n",
    "    return new_matrix"
   ]
  },
  {
   "cell_type": "markdown",
   "metadata": {},
   "source": [
    "```\n",
    "- get_row(row+1), get_column(col+1)\n",
    "- result ?\n"
   ]
  },
  {
   "cell_type": "code",
   "execution_count": 57,
   "metadata": {},
   "outputs": [],
   "source": [
    "##Task 1.6 corrected solution\n",
    "\n",
    "def M_multiply(A, B):\n",
    "    m = A.get_dimension()[0]\n",
    "    n = A.get_dimension()[1]\n",
    "    p = B.get_dimension()[1]\n",
    "    new_matrix = Matrix(m, p)\n",
    "    for row in range(m):\n",
    "        new_row = []\n",
    "        row_from_A = A.get_row(row+1) #\n",
    "        for col in range(p):\n",
    "            col_from_B = B.get_column(col+1) # [-1]\n",
    "            new_row.append( dot_product(row_from_A, col_from_B) ) #[-1]\n",
    "        new_matrix.set_row(row+1,new_row) #[-1]\n",
    "    return new_matrix"
   ]
  },
  {
   "cell_type": "code",
   "execution_count": null,
   "metadata": {},
   "outputs": [],
   "source": []
  }
 ],
 "metadata": {
  "kernelspec": {
   "display_name": "Python 3.6.4 64-bit",
   "language": "python",
   "name": "python3"
  },
  "language_info": {
   "codemirror_mode": {
    "name": "ipython",
    "version": 3
   },
   "file_extension": ".py",
   "mimetype": "text/x-python",
   "name": "python",
   "nbconvert_exporter": "python",
   "pygments_lexer": "ipython3",
   "version": "3.6.4"
  },
  "vscode": {
   "interpreter": {
    "hash": "f4e9cda46bb2d9d7fe6ecdff0f8336a934348bf06cb492f2f42f60739b3403b4"
   }
  }
 },
 "nbformat": 4,
 "nbformat_minor": 2
}
