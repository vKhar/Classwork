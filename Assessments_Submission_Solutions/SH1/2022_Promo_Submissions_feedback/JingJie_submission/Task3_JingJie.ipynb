{
 "cells": [
  {
   "cell_type": "code",
   "execution_count": null,
   "metadata": {},
   "outputs": [],
   "source": [
    "##Task 3.1\n",
    "\n",
    "def hex_to_den(hex_num): ##Assume input is a hexadecimal string\n",
    "    alphabet = '0123456789abcdef'\n",
    "    ret = 0\n",
    "    for i in range(len(hex_num)):\n",
    "        ret += alphabet.index(hex_num[i])*16**(len(hex_num)-1-i)\n",
    "    return ret"
   ]
  },
  {
   "cell_type": "code",
   "execution_count": 4,
   "metadata": {},
   "outputs": [
    {
     "name": "stdout",
     "output_type": "stream",
     "text": [
      "Rank     ID    Score\n",
      "  1  Player175  1734\n",
      "  2  Player299  1724\n",
      "  3  Player173  1723\n",
      "  4  Player168  1678\n",
      "  5  Player166  1670\n",
      "  6  Player213  1609\n",
      "  7  Player193  1558\n",
      "  8  Player305  1535\n",
      "  9  Player189  1519\n",
      " 10  Player102  1499\n",
      " 11  Player170  1475\n",
      " 12  Player231  1466\n",
      " 13  Player233  1454\n",
      " 14  Player232  1431\n",
      " 15  Player285  1426\n",
      " 16  Player287  1400\n",
      " 17  Player136  1394\n",
      " 18  Player157  1375\n",
      " 19  Player113  1362\n",
      " 20  Player245  1270\n"
     ]
    }
   ],
   "source": [
    "##Task 3.2\n",
    "\n",
    "f = open(\"HEX_SCORES.TXT\")\n",
    "lines = f.readlines()\n",
    "data = []\n",
    "for line in lines:\n",
    "    data.append(line.strip().split(\",\"))\n",
    "    \n",
    "##Computing total score\n",
    "for i in range(len(data)):\n",
    "    total_score = 0\n",
    "    for j in range(2, 8):\n",
    "        total_score += hex_to_den(data[i][j])\n",
    "    data[i].append(total_score)\n",
    "    \n",
    "##Bubble sort\n",
    "for i in range(len(data)-1):\n",
    "    swap = False\n",
    "    for j in range(len(data)-1-i):\n",
    "        if data[j][8]<data[j+1][8]:\n",
    "            data[j], data[j+1] = data[j+1], data[j]\n",
    "            swap = True\n",
    "    if swap == False:\n",
    "        break\n",
    "\n",
    "print(f\"{'Rank':<5}{'ID':^10}{'Score':>5}\")\n",
    "for i in range(len(data)):\n",
    "    print(f\"{i+1:^5}{data[i][0]:<10}{data[i][8]:>5}\")\n",
    "    "
   ]
  },
  {
   "cell_type": "code",
   "execution_count": 5,
   "metadata": {},
   "outputs": [
    {
     "name": "stdout",
     "output_type": "stream",
     "text": [
      "Country Num.Players Score\n",
      "  SIN        5       1594\n",
      "  IND        4       1539\n",
      "  MAS        3       1438\n",
      "  TPE        3       1506\n",
      "  KOR        2       1509\n",
      "  MAC        3       1440\n"
     ]
    }
   ],
   "source": [
    "##Task 3.3\n",
    "\n",
    "\n",
    "part_dic = {}\n",
    "for i in range(len(data)):\n",
    "    if data[i][1] not in part_dic:\n",
    "        part_dic[data[i][1]] = [1, data[i][8]]\n",
    "    else:\n",
    "        part_dic[data[i][1]][0]+=1\n",
    "        part_dic[data[i][1]][1] += data[i][8]\n",
    "\n",
    "print(f\"{'Country':^7}{'Num.Players':^13}{'Score':^5}\")\n",
    "for countries in part_dic:\n",
    "    print(f\"{countries:^7}{part_dic[countries][0]:^13}{int(part_dic[countries][1]/part_dic[countries][0]):>5}\")"
   ]
  },
  {
   "cell_type": "code",
   "execution_count": null,
   "metadata": {},
   "outputs": [],
   "source": []
  }
 ],
 "metadata": {
  "kernelspec": {
   "display_name": "Python 3.6.4 64-bit",
   "language": "python",
   "name": "python3"
  },
  "language_info": {
   "codemirror_mode": {
    "name": "ipython",
    "version": 3
   },
   "file_extension": ".py",
   "mimetype": "text/x-python",
   "name": "python",
   "nbconvert_exporter": "python",
   "pygments_lexer": "ipython3",
   "version": "3.6.4"
  },
  "vscode": {
   "interpreter": {
    "hash": "f4e9cda46bb2d9d7fe6ecdff0f8336a934348bf06cb492f2f42f60739b3403b4"
   }
  }
 },
 "nbformat": 4,
 "nbformat_minor": 2
}
