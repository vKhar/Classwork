{
 "cells": [
  {
   "cell_type": "code",
   "execution_count": null,
   "metadata": {},
   "outputs": [],
   "source": [
    "##Task 2.1\n",
    "\n",
    "def throw2score(throw): ##Assume input is valid\n",
    "    if throw == \"X\":\n",
    "        return 10\n",
    "    else:\n",
    "        return int(throw)\n",
    "\n",
    "def calc_score(throws): ##Assume input is valid\n",
    "    total_score = 0\n",
    "    for frame in range(10):\n",
    "        frame_score = 0\n",
    "        if throws[0] == \"X\":\n",
    "            frame_score = 10 + throw2score(throws[1]) + throw2score(throws[2])\n",
    "            throws = throws[1:]\n",
    "        else:\n",
    "            frame_score = throw2score(throws[0]) + throw2score(throws[1])\n",
    "            if frame_score == 10:\n",
    "                frame_score += throw2score(throws[2])\n",
    "            throws = throws[2:]\n",
    "        total_score+=frame_score\n",
    "    return total_score"
   ]
  },
  {
   "cell_type": "code",
   "execution_count": null,
   "metadata": {},
   "outputs": [],
   "source": [
    "print(\n",
    "    calc_score(\"X737291XXX2364733\"),\n",
    "calc_score(\"0580X05X6405819150\"),\n",
    "calc_score(\"XXXX91X002282XXX\")\n",
    ")"
   ]
  },
  {
   "cell_type": "code",
   "execution_count": null,
   "metadata": {},
   "outputs": [],
   "source": [
    "##Task 2.2\n",
    "\n",
    "def throw2score(throw): ##Assume input is valid\n",
    "    if throw == \"X\":\n",
    "        return 10\n",
    "    else:\n",
    "        return int(throw)\n",
    "\n",
    "def write_score(throws, player_name): ##Assume input is valid\n",
    "    score_pin_record = []\n",
    "    total_score = 0\n",
    "    for frame in range(10):\n",
    "        frame_score = 0\n",
    "        if throws[0] == \"X\":\n",
    "            frame_score = 10 + throw2score(throws[1]) + throw2score(throws[2])\n",
    "            if frame != 9:\n",
    "                score_pin_record.append([\"X\"])\n",
    "            else:\n",
    "                score_pin_record.append([f\"{throws[0]}|{throws[1]}|{throws[2]}\"])\n",
    "            throws = throws[1:]\n",
    "        else:\n",
    "            frame_score = throw2score(throws[0]) + throw2score(throws[1])\n",
    "            if frame_score == 10 and frame == 9:\n",
    "                score_pin_record.append([f\"{throws[0]}|{throws[1]}|{throws[2]}\"])\n",
    "            else:\n",
    "                score_pin_record.append([f\"{throws[0]}|{throws[1]}\"])\n",
    "            if frame_score == 10:\n",
    "                frame_score += throw2score(throws[2])\n",
    "            throws = throws[2:]\n",
    "        total_score+=frame_score\n",
    "        score_pin_record[-1] = score_pin_record[-1] + [frame_score, total_score]\n",
    "    \n",
    "    f = open(f\"SCORE_{player_name}.TXT\", \"w\")\n",
    "    f.write(f\"{player_name} Scoresheet\")\n",
    "    f.write(\"\\n\")\n",
    "    \n",
    "    f.write(f\"{'Frame':<12}\")\n",
    "    for i in range(10):\n",
    "        f.write(f\"{i:^5}\")\n",
    "    f.write(\"\\n\")\n",
    "    \n",
    "    f.write(f\"{'Pins hit':<12}\")\n",
    "    for i in range(10):\n",
    "        f.write(f\"[{score_pin_record[i][0]:^3}]\")\n",
    "    f.write(\"\\n\")\n",
    "    \n",
    "    f.write(f\"{'FrameScore':<12}\")\n",
    "    for i in range(10):\n",
    "        f.write(f\"{score_pin_record[i][1]:^5}\")\n",
    "    f.write(\"\\n\")\n",
    "    \n",
    "    f.write(f\"{'Cum. Score':<12}\")\n",
    "    for i in range(10):\n",
    "        f.write(f\"{score_pin_record[i][2]:^5}\")\n",
    "    f.close()\n",
    "    return"
   ]
  },
  {
   "cell_type": "code",
   "execution_count": null,
   "metadata": {},
   "outputs": [],
   "source": [
    "##Task 2.3\n",
    "\n",
    "\n",
    "write_score(\"X737291XXX2364733\", \"Player 1\")\n",
    "write_score(\"0580X05X6405819150\", \"Player 2\")\n",
    "write_score(\"XXXX91X002282XXX\", \"Player 3\")"
   ]
  },
  {
   "cell_type": "code",
   "execution_count": null,
   "metadata": {},
   "outputs": [],
   "source": [
    "##Task 2.4\n",
    "\n",
    "def valid_check(throws, frame): \n",
    "    if frame == 11 and len(throws) == 0:\n",
    "        return True\n",
    "    elif frame > 10 and len(throws)!=0:\n",
    "        return False\n",
    "    else:\n",
    "        if throws[0] == 'X':\n",
    "            if frame != 10:\n",
    "                return valid_check(throws[1:], frame+1)\n",
    "            else:\n",
    "                if len(throws) == 3 and ((throws[2].isdecimal()==True and throws[1].isdecimal()==True) or (throws[2]=='X' and throws[1]=='X')):\n",
    "                    return valid_check(throws[3:], frame+1)\n",
    "                else:\n",
    "                    return False\n",
    "        elif throws[0].isdecimal() == True:\n",
    "            if throws[1].isdecimal() == True:\n",
    "                if frame == 10 and int(throws[0])+int(throws[1])==10:\n",
    "                        if len(throws)==3 and (throws[2].isdecimal()==True or throws[2]=='X'):\n",
    "                            return valid_check(throws[3:], frame+1)\n",
    "                        else:\n",
    "                            return False\n",
    "                else:\n",
    "                    return valid_check(throws[2:], frame+1)\n",
    "        return False\n",
    "    \n",
    "def validate(throws):\n",
    "    return valid_check(throws, 1)"
   ]
  },
  {
   "cell_type": "code",
   "execution_count": null,
   "metadata": {},
   "outputs": [],
   "source": [
    "##Task 2.5\n",
    "\n",
    "##Valid Case\n",
    "print(validate(\"XX9XXX90XXX8z3\"))\n",
    "\n",
    "##Boundary Case\n",
    "print(validate(\"XXXXXXXXXXXX\"))\n",
    "\n",
    "##Invalid Case\n",
    "print(validate(1))"
   ]
  },
  {
   "cell_type": "code",
   "execution_count": 17,
   "metadata": {},
   "outputs": [
    {
     "name": "stdout",
     "output_type": "stream",
     "text": [
      "False False True False\n"
     ]
    }
   ],
   "source": [
    "print(\n",
    "    \tvalidate(\"XX90XXX90XXX8\"),\n",
    "        validate(\"XX90XXX90XXX\") ,\n",
    "        validate(\"XX90XXX90XXX80\"),\n",
    "        validate(\"Xz90XXX90XXX80\") \n",
    ")\n",
    "\n"
   ]
  }
 ],
 "metadata": {
  "kernelspec": {
   "display_name": "Python 3.6.4 64-bit",
   "language": "python",
   "name": "python3"
  },
  "language_info": {
   "codemirror_mode": {
    "name": "ipython",
    "version": 3
   },
   "file_extension": ".py",
   "mimetype": "text/x-python",
   "name": "python",
   "nbconvert_exporter": "python",
   "pygments_lexer": "ipython3",
   "version": "3.6.4"
  },
  "vscode": {
   "interpreter": {
    "hash": "f4e9cda46bb2d9d7fe6ecdff0f8336a934348bf06cb492f2f42f60739b3403b4"
   }
  }
 },
 "nbformat": 4,
 "nbformat_minor": 2
}
