{
 "cells": [
  {
   "cell_type": "code",
   "execution_count": 8,
   "metadata": {},
   "outputs": [
    {
     "data": {
      "text/plain": [
       "300"
      ]
     },
     "execution_count": 8,
     "metadata": {},
     "output_type": "execute_result"
    }
   ],
   "source": [
    "##Task 2.1\n",
    "\n",
    "def throw2score(throw): ##Assume input is valid\n",
    "    if throw == \"X\":\n",
    "        return 10\n",
    "    else:\n",
    "        return int(throw)\n",
    "\n",
    "def calc_score(throws): ##Assume input is valid\n",
    "    total_score = 0\n",
    "    for frame in range(10):\n",
    "        frame_score = 0\n",
    "        if throws[0] == \"X\":\n",
    "            frame_score = 10 + throw2score(throws[1]) + throw2score(throws[2])\n",
    "            throws = throws[1:]\n",
    "        else:\n",
    "            frame_score = throw2score(throws[0]) + throw2score(throws[1])\n",
    "            if frame_score == 10:\n",
    "                frame_score += throw2score(throws[2])\n",
    "            throws = throws[2:]\n",
    "        total_score+=frame_score\n",
    "    return total_score"
   ]
  },
  {
   "cell_type": "code",
   "execution_count": 37,
   "metadata": {},
   "outputs": [],
   "source": [
    "##Task 2.2\n",
    "\n",
    "def throw2score(throw): ##Assume input is valid\n",
    "    if throw == \"X\":\n",
    "        return 10\n",
    "    else:\n",
    "        return int(throw)\n",
    "\n",
    "def write_score(throws, player_name): ##Assume input is valid\n",
    "    score_pin_record = []\n",
    "    total_score = 0\n",
    "    for frame in range(10):\n",
    "        frame_score = 0\n",
    "        if throws[0] == \"X\":\n",
    "            frame_score = 10 + throw2score(throws[1]) + throw2score(throws[2])\n",
    "            if frame != 9:\n",
    "                score_pin_record.append([\"X\"])\n",
    "            else:\n",
    "                score_pin_record.append([f\"{throws[0]}|{throws[1]}|{throws[2]}\"])\n",
    "            throws = throws[1:]\n",
    "        else:\n",
    "            frame_score = throw2score(throws[0]) + throw2score(throws[1])\n",
    "            if frame_score == 10 and frame == 9:\n",
    "                score_pin_record.append([f\"{throws[0]}|{throws[1]}|{throws[2]}\"])\n",
    "            else:\n",
    "                score_pin_record.append([f\"{throws[0]}|{throws[1]}\"])\n",
    "            if frame_score == 10:\n",
    "                frame_score += throw2score(throws[2])\n",
    "            throws = throws[2:]\n",
    "        total_score+=frame_score\n",
    "        score_pin_record[-1] = score_pin_record[-1] + [frame_score, total_score]\n",
    "    \n",
    "    f = open(f\"SCORE_{player_name}.TXT\", \"w\")\n",
    "    f.write(f\"{player_name} Scoresheet\")\n",
    "    f.write(\"\\n\")\n",
    "    \n",
    "    f.write(f\"{'Frame':<12}\")\n",
    "    for i in range(10):\n",
    "        f.write(f\"{i:^5}\")\n",
    "    f.write(\"\\n\")\n",
    "    \n",
    "    f.write(f\"{'Pins hit':<12}\")\n",
    "    for i in range(10):\n",
    "        f.write(f\"[{score_pin_record[i][0]:^3}]\")\n",
    "    f.write(\"\\n\")\n",
    "    \n",
    "    f.write(f\"{'FrameScore':<12}\")\n",
    "    for i in range(10):\n",
    "        f.write(f\"{score_pin_record[i][1]:^5}\")\n",
    "    f.write(\"\\n\")\n",
    "    \n",
    "    f.write(f\"{'Cum. Score':<12}\")\n",
    "    for i in range(10):\n",
    "        f.write(f\"{score_pin_record[i][2]:^5}\")\n",
    "    f.close()\n",
    "    return"
   ]
  },
  {
   "cell_type": "code",
   "execution_count": 39,
   "metadata": {},
   "outputs": [],
   "source": [
    "##Task 2.3\n",
    "\n",
    "\n",
    "write_score(\"X737291XXX2364733\", \"Player 1\")\n",
    "write_score(\"0580X05X6405819150\", \"Player 2\")\n",
    "write_score(\"XXXX91X002282XXX\", \"Player 3\")"
   ]
  },
  {
   "cell_type": "code",
   "execution_count": 50,
   "metadata": {},
   "outputs": [],
   "source": [
    "##Task 2.4\n",
    "\n",
    "def valid_check(throws, frame): \n",
    "    if frame == 11 and len(throws) == 0:\n",
    "        return True\n",
    "    elif frame > 10 and len(throws)!=0:\n",
    "        return False\n",
    "    else:\n",
    "        if throws[0] == 'X':\n",
    "            if frame != 10:\n",
    "                return valid_check(throws[1:], frame+1)\n",
    "            else:\n",
    "                if len(throws) == 3 and ((throws[2].isdecimal()==True and throws[1].isdecimal()==True) or (throws[2]=='X' and throws[1]=='X')):\n",
    "                    return valid_check(throws[3:], frame+1)\n",
    "                else:\n",
    "                    return False\n",
    "        elif throws[0].isdecimal() == True:\n",
    "            if throws[1].isdecimal() == True:\n",
    "                if frame == 10 and int(throws[0])+int(throws[1])==10:\n",
    "                        if len(throws)==3 and (throws[2].isdecimal()==True or throws[2]=='X'):\n",
    "                            return valid_check(throws[3:], frame+1)\n",
    "                        else:\n",
    "                            return False\n",
    "                else:\n",
    "                    return valid_check(throws[2:], frame+1)\n",
    "        return False\n",
    "    \n",
    "def validate(throws):\n",
    "    return valid_check(throws, 1)"
   ]
  },
  {
   "cell_type": "code",
   "execution_count": 53,
   "metadata": {},
   "outputs": [
    {
     "name": "stdout",
     "output_type": "stream",
     "text": [
      "False\n",
      "True\n"
     ]
    },
    {
     "ename": "TypeError",
     "evalue": "'int' object is not subscriptable",
     "output_type": "error",
     "traceback": [
      "\u001b[1;31m---------------------------------------------------------------------------\u001b[0m",
      "\u001b[1;31mTypeError\u001b[0m                                 Traceback (most recent call last)",
      "\u001b[1;32m<ipython-input-53-a2b328f57622>\u001b[0m in \u001b[0;36m<module>\u001b[1;34m()\u001b[0m\n\u001b[0;32m      8\u001b[0m \u001b[1;33m\u001b[0m\u001b[0m\n\u001b[0;32m      9\u001b[0m \u001b[1;31m##Invalid Case\u001b[0m\u001b[1;33m\u001b[0m\u001b[1;33m\u001b[0m\u001b[0m\n\u001b[1;32m---> 10\u001b[1;33m \u001b[0mprint\u001b[0m\u001b[1;33m(\u001b[0m\u001b[0mvalidate\u001b[0m\u001b[1;33m(\u001b[0m\u001b[1;36m1\u001b[0m\u001b[1;33m)\u001b[0m\u001b[1;33m)\u001b[0m\u001b[1;33m\u001b[0m\u001b[0m\n\u001b[0m",
      "\u001b[1;32m<ipython-input-50-835c8bcf61ec>\u001b[0m in \u001b[0;36mvalidate\u001b[1;34m(throws)\u001b[0m\n\u001b[0;32m     27\u001b[0m \u001b[1;33m\u001b[0m\u001b[0m\n\u001b[0;32m     28\u001b[0m \u001b[1;32mdef\u001b[0m \u001b[0mvalidate\u001b[0m\u001b[1;33m(\u001b[0m\u001b[0mthrows\u001b[0m\u001b[1;33m)\u001b[0m\u001b[1;33m:\u001b[0m\u001b[1;33m\u001b[0m\u001b[0m\n\u001b[1;32m---> 29\u001b[1;33m     \u001b[1;32mreturn\u001b[0m \u001b[0mvalid_check\u001b[0m\u001b[1;33m(\u001b[0m\u001b[0mthrows\u001b[0m\u001b[1;33m,\u001b[0m \u001b[1;36m1\u001b[0m\u001b[1;33m)\u001b[0m\u001b[1;33m\u001b[0m\u001b[0m\n\u001b[0m",
      "\u001b[1;32m<ipython-input-50-835c8bcf61ec>\u001b[0m in \u001b[0;36mvalid_check\u001b[1;34m(throws, frame)\u001b[0m\n\u001b[0;32m      7\u001b[0m         \u001b[1;32mreturn\u001b[0m \u001b[1;32mFalse\u001b[0m\u001b[1;33m\u001b[0m\u001b[0m\n\u001b[0;32m      8\u001b[0m     \u001b[1;32melse\u001b[0m\u001b[1;33m:\u001b[0m\u001b[1;33m\u001b[0m\u001b[0m\n\u001b[1;32m----> 9\u001b[1;33m         \u001b[1;32mif\u001b[0m \u001b[0mthrows\u001b[0m\u001b[1;33m[\u001b[0m\u001b[1;36m0\u001b[0m\u001b[1;33m]\u001b[0m \u001b[1;33m==\u001b[0m \u001b[1;34m'X'\u001b[0m\u001b[1;33m:\u001b[0m\u001b[1;33m\u001b[0m\u001b[0m\n\u001b[0m\u001b[0;32m     10\u001b[0m             \u001b[1;32mif\u001b[0m \u001b[0mframe\u001b[0m \u001b[1;33m!=\u001b[0m \u001b[1;36m10\u001b[0m\u001b[1;33m:\u001b[0m\u001b[1;33m\u001b[0m\u001b[0m\n\u001b[0;32m     11\u001b[0m                 \u001b[1;32mreturn\u001b[0m \u001b[0mvalid_check\u001b[0m\u001b[1;33m(\u001b[0m\u001b[0mthrows\u001b[0m\u001b[1;33m[\u001b[0m\u001b[1;36m1\u001b[0m\u001b[1;33m:\u001b[0m\u001b[1;33m]\u001b[0m\u001b[1;33m,\u001b[0m \u001b[0mframe\u001b[0m\u001b[1;33m+\u001b[0m\u001b[1;36m1\u001b[0m\u001b[1;33m)\u001b[0m\u001b[1;33m\u001b[0m\u001b[0m\n",
      "\u001b[1;31mTypeError\u001b[0m: 'int' object is not subscriptable"
     ]
    }
   ],
   "source": [
    "##Task 2.5\n",
    "\n",
    "##Valid Case\n",
    "print(validate(\"XX9XXX90XXX8z3\"))\n",
    "\n",
    "##Boundary Case\n",
    "print(validate(\"XXXXXXXXXXXX\"))\n",
    "\n",
    "##Invalid Case\n",
    "print(validate(1))"
   ]
  },
  {
   "cell_type": "code",
   "execution_count": null,
   "metadata": {},
   "outputs": [],
   "source": []
  }
 ],
 "metadata": {
  "kernelspec": {
   "display_name": "Python 3",
   "language": "python",
   "name": "python3"
  },
  "language_info": {
   "codemirror_mode": {
    "name": "ipython",
    "version": 3
   },
   "file_extension": ".py",
   "mimetype": "text/x-python",
   "name": "python",
   "nbconvert_exporter": "python",
   "pygments_lexer": "ipython3",
   "version": "3.6.4"
  }
 },
 "nbformat": 4,
 "nbformat_minor": 2
}
