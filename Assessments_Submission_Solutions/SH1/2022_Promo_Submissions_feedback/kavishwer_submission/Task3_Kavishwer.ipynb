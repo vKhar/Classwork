{
 "cells": [
  {
   "cell_type": "code",
   "execution_count": 1,
   "metadata": {},
   "outputs": [
    {
     "data": {
      "text/plain": [
       "2801"
      ]
     },
     "execution_count": 1,
     "metadata": {},
     "output_type": "execute_result"
    }
   ],
   "source": [
    "import string\n",
    "def hex2denary(hex):\n",
    "    total = 0\n",
    "    map = string.digits + \"abcdef\"\n",
    "    for i in range(len(hex)):\n",
    "        total += map.index(hex[i].lower()) * 16 ** (len(hex)-i-1)\n",
    "    return total\n",
    "\n",
    "hex2denary(\"AF1\")"
   ]
  },
  {
   "cell_type": "code",
   "execution_count": 3,
   "metadata": {},
   "outputs": [
    {
     "name": "stdout",
     "output_type": "stream",
     "text": [
      "Rank     ID     Score\n",
      "0   Player175  1734\n",
      "1   Player299  1724\n",
      "2   Player173  1723\n",
      "3   Player168  1678\n",
      "4   Player166  1670\n",
      "5   Player213  1609\n",
      "6   Player193  1558\n",
      "7   Player305  1535\n",
      "8   Player189  1519\n",
      "9   Player102  1499\n",
      "10   Player170  1475\n",
      "11   Player231  1466\n",
      "12   Player233  1454\n",
      "13   Player232  1431\n",
      "14   Player285  1426\n",
      "15   Player287  1400\n",
      "16   Player136  1394\n",
      "17   Player157  1375\n",
      "18   Player113  1362\n",
      "19   Player245  1270\n"
     ]
    }
   ],
   "source": [
    "data = open(\"Promo_files/HEX_SCORES.txt\").read().strip().split(\"\\n\")\n",
    "dict = []\n",
    "\n",
    "def score_calc(a):\n",
    "    total = 0\n",
    "    for i in a:\n",
    "        total += hex2denary(i)\n",
    "    return total\n",
    "    \n",
    "for i, player in enumerate(data):\n",
    "    player_arr = player.split(\",\")\n",
    "    dict.append((player_arr[0], score_calc(player_arr[2:]), player_arr[1]))\n",
    "    \n",
    "for i in range(len(dict)):\n",
    "    for j in range(len(dict)-1):\n",
    "        if dict[j][1] < dict[j+1][1]:\n",
    "            dict[j], dict[j+1] = dict[j+1], dict[j]\n",
    "            \n",
    "print(f\"Rank     ID     Score\")\n",
    "for i in range(len(dict)):\n",
    "    print(f\"{i}   {dict[i][0]}  {dict[i][1]}\")\n"
   ]
  },
  {
   "cell_type": "code",
   "execution_count": 4,
   "metadata": {},
   "outputs": [
    {
     "name": "stdout",
     "output_type": "stream",
     "text": [
      "Country     Num.Players     Score\n",
      "SIN   5  1595\n",
      "IND   4  1539\n",
      "MAS   3  1438\n",
      "TPE   3  1506\n",
      "KOR   2  1509\n",
      "MAC   3  1440\n"
     ]
    }
   ],
   "source": [
    "#Task 3.3\n",
    "dict2 = {}\n",
    "for datum in dict:\n",
    "    if datum[2] in dict2:\n",
    "        dict2[datum[2]][0] = ((dict2[datum[2]][0] * dict2[datum[2]][1]) + datum[1]) / (dict2[datum[2]][1] + 1)\n",
    "        dict2[datum[2]][1] = dict2[datum[2]][1] + 1\n",
    "    else:\n",
    "        dict2[datum[2]] = [datum[1], 1]\n",
    "\n",
    "print(f\"Country     Num.Players     Score\")\n",
    "for i in dict2:\n",
    "    dict2[i][0] = round(dict2[i][0])\n",
    "    print(f\"{i}   {dict2[i][1]}  {dict2[i][0]}\")\n",
    "    \n",
    "        \n"
   ]
  },
  {
   "cell_type": "code",
   "execution_count": null,
   "metadata": {},
   "outputs": [],
   "source": []
  }
 ],
 "metadata": {
  "kernelspec": {
   "display_name": "Python 3.6.4 64-bit",
   "language": "python",
   "name": "python3"
  },
  "language_info": {
   "codemirror_mode": {
    "name": "ipython",
    "version": 3
   },
   "file_extension": ".py",
   "mimetype": "text/x-python",
   "name": "python",
   "nbconvert_exporter": "python",
   "pygments_lexer": "ipython3",
   "version": "3.6.4"
  },
  "vscode": {
   "interpreter": {
    "hash": "f4e9cda46bb2d9d7fe6ecdff0f8336a934348bf06cb492f2f42f60739b3403b4"
   }
  }
 },
 "nbformat": 4,
 "nbformat_minor": 2
}
