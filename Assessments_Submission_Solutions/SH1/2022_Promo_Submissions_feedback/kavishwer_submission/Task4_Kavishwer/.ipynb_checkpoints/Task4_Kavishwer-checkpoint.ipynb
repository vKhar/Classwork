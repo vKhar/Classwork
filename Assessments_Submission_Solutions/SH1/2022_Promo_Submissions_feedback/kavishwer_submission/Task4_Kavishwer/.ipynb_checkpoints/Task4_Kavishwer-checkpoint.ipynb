{
 "cells": [
  {
   "cell_type": "code",
   "execution_count": 7,
   "metadata": {},
   "outputs": [],
   "source": [
    "#Task 4.2\n",
    "import sqlite3\n",
    "data = open(\"COUNTRY.TXT\").read().strip().split(\"\\n\")\n",
    "db = sqlite3.connect(\"Task4.db\")\n",
    "for datum in data:\n",
    "    split_datum = datum.split(\",\")\n",
    "    db.execute(\"INSERT INTO `Country` (CountryCode, CountryName) VALUES (?, ?)\", (split_datum[1], split_datum[0]))\n",
    "db.commit()\n",
    "db.close()"
   ]
  },
  {
   "cell_type": "code",
   "execution_count": null,
   "metadata": {},
   "outputs": [
    {
     "name": "stderr",
     "output_type": "stream",
     "text": [
      " * Running on http://127.0.0.1:5000/ (Press CTRL+C to quit)\n",
      "127.0.0.1 - - [13/Sep/2022 10:52:27] \"\u001b[37mGET / HTTP/1.1\u001b[0m\" 200 -\n",
      "127.0.0.1 - - [13/Sep/2022 10:52:33] \"\u001b[32mPOST /form HTTP/1.1\u001b[0m\" 302 -\n",
      "127.0.0.1 - - [13/Sep/2022 10:52:33] \"\u001b[37mGET / HTTP/1.1\u001b[0m\" 200 -\n"
     ]
    }
   ],
   "source": [
    "#Task 4.4\n",
    "import sqlite3\n",
    "from flask import Flask, render_template, request, redirect\n",
    "\n",
    "app = Flask(__name__)\n",
    "@app.route(\"/\", methods=[\"GET\"])\n",
    "def index():\n",
    "    return render_template(\"form.html\")\n",
    "    \n",
    "@app.route(\"/form\", methods=[\"POST\"])\n",
    "def form():\n",
    "    data = request.form\n",
    "    db = sqlite3.connect(\"Task4.db\")\n",
    "    db.execute(\"INSERT INTO `Player` (Name, CountryCode, Gender, DateOfBirth) VALUES (?, ?, ?, ?)\", (data['name'], data['code'], data['gender'], data['birthdate']))\n",
    "    db.commit()\n",
    "    db.close()\n",
    "    return redirect(\"/\")\n",
    "\n",
    "app.run()"
   ]
  },
  {
   "cell_type": "code",
   "execution_count": null,
   "metadata": {},
   "outputs": [],
   "source": []
  }
 ],
 "metadata": {
  "kernelspec": {
   "display_name": "Python 3",
   "language": "python",
   "name": "python3"
  },
  "language_info": {
   "codemirror_mode": {
    "name": "ipython",
    "version": 3
   },
   "file_extension": ".py",
   "mimetype": "text/x-python",
   "name": "python",
   "nbconvert_exporter": "python",
   "pygments_lexer": "ipython3",
   "version": "3.6.4"
  }
 },
 "nbformat": 4,
 "nbformat_minor": 2
}
