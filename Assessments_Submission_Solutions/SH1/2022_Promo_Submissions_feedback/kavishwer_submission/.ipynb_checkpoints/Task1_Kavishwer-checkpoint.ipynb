{
 "cells": [
  {
   "cell_type": "code",
   "execution_count": 24,
   "metadata": {},
   "outputs": [],
   "source": [
    "#Task 1\n",
    "class Matrix:\n",
    "    def __init__(self, m, n):\n",
    "        self.__buffer = [ [ None for _ in range(n) ] for _ in range(m)]\n",
    "        self.__row_count = m\n",
    "        self.__column_count = n\n",
    "    def get_dimension(self):\n",
    "        return [self.__row_count, self.__column_count]\n",
    "    def get_value(self, row, column):\n",
    "        return self.__buffer[row][column]\n",
    "    def get_row(self, row):\n",
    "        return self.__buffer[row-1]\n",
    "    def get_column(self, column):\n",
    "        return [self.__buffer[row][column-1] for row in self.__buffer]\n",
    "    def set_value(self, row, column, value):\n",
    "        self.__buffer[row][column] = value\n",
    "    def set_row(self, row, vector):\n",
    "        if len(vector) != self.__column_count:\n",
    "            raise Exception\n",
    "        self.__buffer[row-1] = vector\n",
    "    def set_column(self, column, vector):\n",
    "        if len(vector) != self.__row_count:\n",
    "            raise Exception\n",
    "        for i in range(len(self.__buffer)):\n",
    "            self.__buffer[i][column-1] = vector[i]\n",
    "    def __repr__(self):\n",
    "        string = \"[\\n\"\n",
    "        for row in self.__buffer:\n",
    "            string = string + \" \".join([ str(i) for i in row ]) + \"\\n\"\n",
    "        string = string + \"]\"\n",
    "        return string\n",
    "        "
   ]
  },
  {
   "cell_type": "code",
   "execution_count": 25,
   "metadata": {},
   "outputs": [
    {
     "name": "stdout",
     "output_type": "stream",
     "text": [
      "[\n",
      "1 2\n",
      "3 4\n",
      "]\n",
      "[\n",
      "5 6 7\n",
      "]\n",
      "[\n",
      "9\n",
      "8\n",
      "7\n",
      "]\n",
      "[\n",
      "]\n"
     ]
    },
    {
     "ename": "Exception",
     "evalue": "",
     "output_type": "error",
     "traceback": [
      "\u001b[1;31m---------------------------------------------------------------------------\u001b[0m",
      "\u001b[1;31mException\u001b[0m                                 Traceback (most recent call last)",
      "\u001b[1;32m<ipython-input-25-6613e34be4f9>\u001b[0m in \u001b[0;36m<module>\u001b[1;34m()\u001b[0m\n\u001b[0;32m     18\u001b[0m \u001b[0mmatrix5\u001b[0m \u001b[1;33m=\u001b[0m \u001b[0mMatrix\u001b[0m\u001b[1;33m(\u001b[0m\u001b[1;36m2\u001b[0m\u001b[1;33m,\u001b[0m\u001b[1;36m2\u001b[0m\u001b[1;33m)\u001b[0m\u001b[1;33m\u001b[0m\u001b[0m\n\u001b[0;32m     19\u001b[0m \u001b[0mmatrix5\u001b[0m\u001b[1;33m.\u001b[0m\u001b[0mset_row\u001b[0m\u001b[1;33m(\u001b[0m\u001b[1;36m1\u001b[0m\u001b[1;33m,\u001b[0m \u001b[1;33m[\u001b[0m\u001b[1;36m1\u001b[0m\u001b[1;33m,\u001b[0m\u001b[1;36m2\u001b[0m\u001b[1;33m]\u001b[0m\u001b[1;33m)\u001b[0m\u001b[1;33m\u001b[0m\u001b[0m\n\u001b[1;32m---> 20\u001b[1;33m \u001b[0mmatrix5\u001b[0m\u001b[1;33m.\u001b[0m\u001b[0mset_row\u001b[0m\u001b[1;33m(\u001b[0m\u001b[1;36m2\u001b[0m\u001b[1;33m,\u001b[0m \u001b[1;33m[\u001b[0m\u001b[1;36m3\u001b[0m\u001b[1;33m]\u001b[0m\u001b[1;33m)\u001b[0m\u001b[1;33m\u001b[0m\u001b[0m\n\u001b[0m\u001b[0;32m     21\u001b[0m \u001b[0mprint\u001b[0m\u001b[1;33m(\u001b[0m\u001b[0mmatrix5\u001b[0m\u001b[1;33m)\u001b[0m\u001b[1;33m\u001b[0m\u001b[0m\n",
      "\u001b[1;32m<ipython-input-24-c2c3999e995a>\u001b[0m in \u001b[0;36mset_row\u001b[1;34m(self, row, vector)\u001b[0m\n\u001b[0;32m     17\u001b[0m     \u001b[1;32mdef\u001b[0m \u001b[0mset_row\u001b[0m\u001b[1;33m(\u001b[0m\u001b[0mself\u001b[0m\u001b[1;33m,\u001b[0m \u001b[0mrow\u001b[0m\u001b[1;33m,\u001b[0m \u001b[0mvector\u001b[0m\u001b[1;33m)\u001b[0m\u001b[1;33m:\u001b[0m\u001b[1;33m\u001b[0m\u001b[0m\n\u001b[0;32m     18\u001b[0m         \u001b[1;32mif\u001b[0m \u001b[0mlen\u001b[0m\u001b[1;33m(\u001b[0m\u001b[0mvector\u001b[0m\u001b[1;33m)\u001b[0m \u001b[1;33m!=\u001b[0m \u001b[0mself\u001b[0m\u001b[1;33m.\u001b[0m\u001b[0m__column_count\u001b[0m\u001b[1;33m:\u001b[0m\u001b[1;33m\u001b[0m\u001b[0m\n\u001b[1;32m---> 19\u001b[1;33m             \u001b[1;32mraise\u001b[0m \u001b[0mException\u001b[0m\u001b[1;33m\u001b[0m\u001b[0m\n\u001b[0m\u001b[0;32m     20\u001b[0m         \u001b[0mself\u001b[0m\u001b[1;33m.\u001b[0m\u001b[0m__buffer\u001b[0m\u001b[1;33m[\u001b[0m\u001b[0mrow\u001b[0m\u001b[1;33m-\u001b[0m\u001b[1;36m1\u001b[0m\u001b[1;33m]\u001b[0m \u001b[1;33m=\u001b[0m \u001b[0mvector\u001b[0m\u001b[1;33m\u001b[0m\u001b[0m\n\u001b[0;32m     21\u001b[0m     \u001b[1;32mdef\u001b[0m \u001b[0mset_column\u001b[0m\u001b[1;33m(\u001b[0m\u001b[0mself\u001b[0m\u001b[1;33m,\u001b[0m \u001b[0mcolumn\u001b[0m\u001b[1;33m,\u001b[0m \u001b[0mvector\u001b[0m\u001b[1;33m)\u001b[0m\u001b[1;33m:\u001b[0m\u001b[1;33m\u001b[0m\u001b[0m\n",
      "\u001b[1;31mException\u001b[0m: "
     ]
    }
   ],
   "source": [
    "#Task 1.2\n",
    "matrix1 = Matrix(2,2)\n",
    "matrix1.set_row(1, [1,2])\n",
    "matrix1.set_row(2, [3,4])\n",
    "print(matrix1)\n",
    "\n",
    "matrix2 = Matrix(1,3)\n",
    "matrix2.set_row(1, [5,6,7])\n",
    "print(matrix2)\n",
    "\n",
    "matrix3 = Matrix(3, 1)\n",
    "matrix3.set_column(1, [9,8,7])\n",
    "print(matrix3)\n",
    "\n",
    "matrix4 = Matrix(0,0)\n",
    "print(matrix4)\n",
    "\n",
    "matrix5 = Matrix(2,2)\n",
    "matrix5.set_row(1, [1,2])\n",
    "matrix5.set_row(2, [3])\n",
    "print(matrix5)"
   ]
  },
  {
   "cell_type": "code",
   "execution_count": 26,
   "metadata": {},
   "outputs": [],
   "source": [
    "#Task 1.3\n",
    "def dot_product(a, b):\n",
    "    if len(a) != len(b):\n",
    "        print(\"Not the same dimensions\")\n",
    "        return\n",
    "    else:\n",
    "        sum = 0\n",
    "        for i in range(len(a)):\n",
    "            sum += a[i]*b[i]\n",
    "        return sum"
   ]
  },
  {
   "cell_type": "code",
   "execution_count": 27,
   "metadata": {},
   "outputs": [
    {
     "data": {
      "text/plain": [
       "933"
      ]
     },
     "execution_count": 27,
     "metadata": {},
     "output_type": "execute_result"
    }
   ],
   "source": [
    "#Task 1.4\n",
    "dot_product([11, 13, 5], [21, 44, 26])"
   ]
  },
  {
   "cell_type": "code",
   "execution_count": 28,
   "metadata": {},
   "outputs": [
    {
     "data": {
      "text/plain": [
       "[\n",
       "1 3\n",
       "2 4\n",
       "]"
      ]
     },
     "execution_count": 28,
     "metadata": {},
     "output_type": "execute_result"
    }
   ],
   "source": [
    "#Task 1.5\n",
    "def transpose(a):\n",
    "    d = a.get_dimension()\n",
    "    new_matrix = Matrix(d[1], d[0])\n",
    "    for i in range(d[0]):\n",
    "        new_matrix.set_column(i+1, a.get_row(i+1))\n",
    "    return new_matrix\n",
    "\n",
    "transpose(matrix1)"
   ]
  },
  {
   "cell_type": "code",
   "execution_count": null,
   "metadata": {},
   "outputs": [],
   "source": [
    "#Task 1.6\n",
    "def multiply(a, b):\n",
    "    m = a.get_dimension()[0]\n",
    "    n = a.get_dimension()[1]\n",
    "    p = b.get_dimension()[1]\n",
    "    \n",
    "    new_matrix = Matrix(m, p)\n",
    "    for row\n",
    "    \n",
    "#incomplete, sry"
   ]
  }
 ],
 "metadata": {
  "kernelspec": {
   "display_name": "Python 3",
   "language": "python",
   "name": "python3"
  },
  "language_info": {
   "codemirror_mode": {
    "name": "ipython",
    "version": 3
   },
   "file_extension": ".py",
   "mimetype": "text/x-python",
   "name": "python",
   "nbconvert_exporter": "python",
   "pygments_lexer": "ipython3",
   "version": "3.6.4"
  }
 },
 "nbformat": 4,
 "nbformat_minor": 2
}
