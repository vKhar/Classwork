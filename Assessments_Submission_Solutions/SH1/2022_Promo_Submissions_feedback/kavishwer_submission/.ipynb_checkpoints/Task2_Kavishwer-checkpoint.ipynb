{
 "cells": [
  {
   "cell_type": "code",
   "execution_count": 81,
   "metadata": {},
   "outputs": [
    {
     "data": {
      "text/plain": [
       "168"
      ]
     },
     "execution_count": 81,
     "metadata": {},
     "output_type": "execute_result"
    }
   ],
   "source": [
    "#Task 2.1\n",
    "def throw2score(throw):\n",
    "    if throw == \"X\":\n",
    "        return 10\n",
    "    else:\n",
    "        return int(throw)\n",
    "\n",
    "def calc_score(throws):\n",
    "    total_score = 0\n",
    "    for frame in range(10):\n",
    "        frame_score = 0\n",
    "        if throws[0] == \"X\":\n",
    "            frame_score = 10 + throw2score(throws[1]) + throw2score(throws[2])\n",
    "            throws = throws[1:]\n",
    "        else:\n",
    "            frame_score = throw2score(throws[0]) + throw2score(throws[1])\n",
    "            if frame_score == 10:\n",
    "                frame_score += throw2score(throws[2])\n",
    "            throws = throws[2:]\n",
    "        total_score = frame_score + total_score\n",
    "    return total_score\n",
    "\n",
    "calc_score(\"X737291XXX2364733\")"
   ]
  },
  {
   "cell_type": "code",
   "execution_count": 82,
   "metadata": {},
   "outputs": [
    {
     "data": {
      "text/plain": [
       "(['20', '37', '46', '66', '96', '118', '133', '138', '155', '168'],\n",
       " ['20', '17', '9', '20', '30', '22', '15', '5', '17', '13'],\n",
       " '[ X ][ 7 | 3 ][ 7 | 2 ][ 9 | 1 ][ X ][ X ][ X ][ 2 | 3 ][ 6 | 4 ][7 | 3 | 3]')"
      ]
     },
     "execution_count": 82,
     "metadata": {},
     "output_type": "execute_result"
    }
   ],
   "source": [
    "#Task 2.2\n",
    "def calc_score_2(throws, player_name):\n",
    "    total_score = 0\n",
    "    pins_string = \"\"\n",
    "    cum_score_arr = []\n",
    "    frame_score_arr = []\n",
    "    skip = False\n",
    "    frame = 1\n",
    "    for index, item in enumerate(throws):\n",
    "        if skip:\n",
    "            skip = False\n",
    "            continue\n",
    "        if frame != 10:\n",
    "            if item == \"X\":\n",
    "                pins_string += \"[ X ]\"\n",
    "                frame += 1\n",
    "            else:\n",
    "                pins_string += f\"[ {throws[index]} | {throws[index+1]} ]\"\n",
    "                skip = True\n",
    "                frame += 1\n",
    "        else:\n",
    "            remaining = list(throws[index:])\n",
    "            pins_string += \"[\" + \" | \".join(remaining) + \"]\"\n",
    "            break\n",
    "        \n",
    "    for frame in range(10):\n",
    "        frame_score = 0\n",
    "        if throws[0] == \"X\":\n",
    "            frame_score = 10 + throw2score(throws[1]) + throw2score(throws[2])\n",
    "            throws = throws[1:]\n",
    "        else:\n",
    "            frame_score = throw2score(throws[0]) + throw2score(throws[1])\n",
    "            if frame_score == 10:\n",
    "                frame_score += throw2score(throws[2])\n",
    "            throws = throws[2:]\n",
    "        total_score = frame_score + total_score\n",
    "        frame_score_arr.append(str(frame_score))\n",
    "        cum_score_arr.append(str(total_score))\n",
    "        \n",
    "    f = open(f\"SCORE_{player_name}.TXT\", \"w\")\n",
    "    string = f\"{player_name} Scoresheet\\n\"\n",
    "    string += \"Frame   \" + \"1   2   3   4   5   6   7   8   9   10\\n\"\n",
    "    string += \"Pins Hi   \" + pins_string + \"\\n\"\n",
    "    string += \"Framescore   \" + \"  \".join(frame_score_arr) + \"\\n\"\n",
    "    string += \"Cum. Score   \" + \"  \".join(cum_score_arr) + \"\\n\"\n",
    "    f.write(string)\n",
    "    f.close()\n",
    "    return cum_score_arr, frame_score_arr, pins_string\n",
    "\n",
    "calc_score_2(\"X737291XXX2364733\", \"Player 1\")"
   ]
  },
  {
   "cell_type": "code",
   "execution_count": 83,
   "metadata": {},
   "outputs": [
    {
     "data": {
      "text/plain": [
       "(['30', '60', '89', '109', '129', '139', '139', '143', '163', '193'],\n",
       " ['30', '30', '29', '20', '20', '10', '0', '4', '20', '30'],\n",
       " '[ X ][ X ][ X ][ X ][ 9 | 1 ][ X ][ 0 | 0 ][ 2 | 2 ][ 8 | 2 ][X | X | X]')"
      ]
     },
     "execution_count": 83,
     "metadata": {},
     "output_type": "execute_result"
    }
   ],
   "source": [
    "#Task 2.3\n",
    "calc_score_2(\"0580X05X6405819150\", \"Player 2\")\n",
    "calc_score_2(\"XXXX91X002282XXX\", \"Player 3\")"
   ]
  },
  {
   "cell_type": "code",
   "execution_count": 84,
   "metadata": {},
   "outputs": [],
   "source": [
    "#Task 2.4\n",
    "def validate(throws, frame):\n",
    "    if len(throws) <= 2:\n",
    "        if frame < 9 or throws[0] == \"X\" or int(throws[0]) + int(throws[1]) == 10:\n",
    "            return False\n",
    "        else:\n",
    "            return True\n",
    "    elif len(throws) == 3:\n",
    "        if frame == 9 and ( throws[0] == \"X\" or int(throws[0]) + int(throws[1]) == 10 ):\n",
    "            return True\n",
    "        else:\n",
    "            return False\n",
    "    else:\n",
    "        frame += 1\n",
    "        if throws[0] == \"X\":\n",
    "            return validate(throws[1:], frame)\n",
    "        elif throws[0].isdigit() and throws[1].isdigit() and  int(throws[0]) + int(throws[1]) <= 10:\n",
    "            return validate(throws[2:], frame)\n",
    "        else:\n",
    "            return False"
   ]
  },
  {
   "cell_type": "code",
   "execution_count": 80,
   "metadata": {},
   "outputs": [
    {
     "data": {
      "text/plain": [
       "False"
      ]
     },
     "execution_count": 80,
     "metadata": {},
     "output_type": "execute_result"
    }
   ],
   "source": [
    "#Task 2.5\n",
    "#Valid\n",
    "validate(\"X737291XXX2364733\", 0)\n",
    "#Boundary\n",
    "validate(\"00000000000000000000\", 0)\n",
    "#Invalid\n",
    "validate(\"X737291XXX2364\", 0)"
   ]
  },
  {
   "cell_type": "code",
   "execution_count": null,
   "metadata": {},
   "outputs": [],
   "source": []
  }
 ],
 "metadata": {
  "kernelspec": {
   "display_name": "Python 3",
   "language": "python",
   "name": "python3"
  },
  "language_info": {
   "codemirror_mode": {
    "name": "ipython",
    "version": 3
   },
   "file_extension": ".py",
   "mimetype": "text/x-python",
   "name": "python",
   "nbconvert_exporter": "python",
   "pygments_lexer": "ipython3",
   "version": "3.6.4"
  }
 },
 "nbformat": 4,
 "nbformat_minor": 2
}
