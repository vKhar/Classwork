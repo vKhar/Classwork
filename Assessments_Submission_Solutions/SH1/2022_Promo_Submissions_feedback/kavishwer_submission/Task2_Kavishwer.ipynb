{
 "cells": [
  {
   "cell_type": "code",
   "execution_count": null,
   "metadata": {},
   "outputs": [],
   "source": [
    "#Task 2.1\n",
    "def throw2score(throw):\n",
    "    if throw == \"X\":\n",
    "        return 10\n",
    "    else:\n",
    "        return int(throw)\n",
    "\n",
    "def calc_score(throws):\n",
    "    total_score = 0\n",
    "    for frame in range(10):\n",
    "        frame_score = 0\n",
    "        if throws[0] == \"X\":\n",
    "            frame_score = 10 + throw2score(throws[1]) + throw2score(throws[2])\n",
    "            throws = throws[1:]\n",
    "        else:\n",
    "            frame_score = throw2score(throws[0]) + throw2score(throws[1])\n",
    "            if frame_score == 10:\n",
    "                frame_score += throw2score(throws[2])\n",
    "            throws = throws[2:]\n",
    "        total_score = frame_score + total_score\n",
    "    return total_score\n",
    "\n",
    "calc_score(\"X737291XXX2364733\")"
   ]
  },
  {
   "cell_type": "code",
   "execution_count": null,
   "metadata": {},
   "outputs": [],
   "source": [
    "print(\n",
    "calc_score(\"X737291XXX2364733\"),\n",
    "calc_score(\"0580X05X6405819150\"),\n",
    "calc_score(\"XXXX91X002282XXX\")\n",
    ")"
   ]
  },
  {
   "cell_type": "code",
   "execution_count": null,
   "metadata": {},
   "outputs": [],
   "source": [
    "#Task 2.2\n",
    "def calc_score_2(throws, player_name):\n",
    "    total_score = 0\n",
    "    pins_string = \"\"\n",
    "    cum_score_arr = []\n",
    "    frame_score_arr = []\n",
    "    skip = False\n",
    "    frame = 1\n",
    "    for index, item in enumerate(throws):\n",
    "        if skip:\n",
    "            skip = False\n",
    "            continue\n",
    "        if frame != 10:\n",
    "            if item == \"X\":\n",
    "                pins_string += \"[ X ]\"\n",
    "                frame += 1\n",
    "            else:\n",
    "                pins_string += f\"[ {throws[index]} | {throws[index+1]} ]\"\n",
    "                skip = True\n",
    "                frame += 1\n",
    "        else:\n",
    "            remaining = list(throws[index:])\n",
    "            pins_string += \"[\" + \" | \".join(remaining) + \"]\"\n",
    "            break\n",
    "        \n",
    "    for frame in range(10):\n",
    "        frame_score = 0\n",
    "        if throws[0] == \"X\":\n",
    "            frame_score = 10 + throw2score(throws[1]) + throw2score(throws[2])\n",
    "            throws = throws[1:]\n",
    "        else:\n",
    "            frame_score = throw2score(throws[0]) + throw2score(throws[1])\n",
    "            if frame_score == 10:\n",
    "                frame_score += throw2score(throws[2])\n",
    "            throws = throws[2:]\n",
    "        total_score = frame_score + total_score\n",
    "        frame_score_arr.append(str(frame_score))\n",
    "        cum_score_arr.append(str(total_score))\n",
    "        \n",
    "    f = open(f\"SCORE_{player_name}.TXT\", \"w\")\n",
    "    string = f\"{player_name} Scoresheet\\n\"\n",
    "    string += \"Frame   \" + \"1   2   3   4   5   6   7   8   9   10\\n\"\n",
    "    string += \"Pins Hi   \" + pins_string + \"\\n\"\n",
    "    string += \"Framescore   \" + \"  \".join(frame_score_arr) + \"\\n\"\n",
    "    string += \"Cum. Score   \" + \"  \".join(cum_score_arr) + \"\\n\"\n",
    "    f.write(string)\n",
    "    f.close()\n",
    "    return cum_score_arr, frame_score_arr, pins_string\n",
    "\n",
    "calc_score_2(\"X737291XXX2364733\", \"Player 1\")"
   ]
  },
  {
   "cell_type": "markdown",
   "metadata": {},
   "source": [
    "``` \n",
    "Can be done in 1 for loop"
   ]
  },
  {
   "cell_type": "code",
   "execution_count": null,
   "metadata": {},
   "outputs": [],
   "source": [
    "#Task 2.3\n",
    "calc_score_2(\"0580X05X6405819150\", \"Player 2\")\n",
    "calc_score_2(\"XXXX91X002282XXX\", \"Player 3\")"
   ]
  },
  {
   "cell_type": "code",
   "execution_count": null,
   "metadata": {},
   "outputs": [],
   "source": [
    "#Task 2.4\n",
    "def validate(throws, frame):\n",
    "    if len(throws) <= 2:\n",
    "        if frame < 9 or throws[0] == \"X\" or int(throws[0]) + int(throws[1]) == 10:\n",
    "            return False\n",
    "        else:\n",
    "            return True\n",
    "    elif len(throws) == 3:\n",
    "        if frame == 9 and ( throws[0] == \"X\" or int(throws[0]) + int(throws[1]) == 10 ):\n",
    "            return True\n",
    "        else:\n",
    "            return False\n",
    "    else:\n",
    "        frame += 1\n",
    "        if throws[0] == \"X\":\n",
    "            return validate(throws[1:], frame)\n",
    "        elif throws[0].isdigit() and throws[1].isdigit() and  int(throws[0]) + int(throws[1]) <= 10:\n",
    "            return validate(throws[2:], frame)\n",
    "        else:\n",
    "            return False"
   ]
  },
  {
   "cell_type": "code",
   "execution_count": 20,
   "metadata": {},
   "outputs": [
    {
     "data": {
      "text/plain": [
       "False"
      ]
     },
     "execution_count": 20,
     "metadata": {},
     "output_type": "execute_result"
    }
   ],
   "source": [
    "#Task 2.5\n",
    "#Valid\n",
    "#validate(\"X737291XXX2364733\", 0)\n",
    "#Boundary\n",
    "#validate(\"00000000000000000000\", 0)\n",
    "#Invalid\n",
    "validate(\"X737291XXX2364\", 0)"
   ]
  },
  {
   "cell_type": "code",
   "execution_count": 13,
   "metadata": {},
   "outputs": [
    {
     "name": "stdout",
     "output_type": "stream",
     "text": [
      "True True False False\n"
     ]
    }
   ],
   "source": [
    "print(\n",
    "validate(\"XXXX91X00228291X\",0),\n",
    "validate(\"XXXX91X00228290\",0),\n",
    "validate(\"XXXX91X00228291\",0),\n",
    "validate(\"XXXX91\",0)  \n",
    ")"
   ]
  },
  {
   "cell_type": "code",
   "execution_count": 15,
   "metadata": {},
   "outputs": [
    {
     "name": "stdout",
     "output_type": "stream",
     "text": [
      "False False True False\n"
     ]
    }
   ],
   "source": [
    "print(\n",
    "    \tvalidate(\"XX90XXX90XXX8\",0),\n",
    "        validate(\"XX90XXX90XXX\",0) ,\n",
    "        validate(\"XX90XXX90XXX80\",0),\n",
    "        validate(\"Xz90XXX90XXX80\",0) \n",
    ")"
   ]
  }
 ],
 "metadata": {
  "kernelspec": {
   "display_name": "Python 3.6.4 64-bit",
   "language": "python",
   "name": "python3"
  },
  "language_info": {
   "codemirror_mode": {
    "name": "ipython",
    "version": 3
   },
   "file_extension": ".py",
   "mimetype": "text/x-python",
   "name": "python",
   "nbconvert_exporter": "python",
   "pygments_lexer": "ipython3",
   "version": "3.6.4"
  },
  "vscode": {
   "interpreter": {
    "hash": "f4e9cda46bb2d9d7fe6ecdff0f8336a934348bf06cb492f2f42f60739b3403b4"
   }
  }
 },
 "nbformat": 4,
 "nbformat_minor": 2
}
