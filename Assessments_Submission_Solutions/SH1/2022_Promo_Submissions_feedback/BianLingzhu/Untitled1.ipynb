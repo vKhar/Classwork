{
 "cells": [
  {
   "cell_type": "code",
   "execution_count": 5,
   "metadata": {},
   "outputs": [
    {
     "name": "stdout",
     "output_type": "stream",
     "text": [
      "['Australia', 'AUS']\n",
      "['Cambodia', 'KHM']\n",
      "['China', 'CHN']\n",
      "['Indonesia', 'IND']\n",
      "['South Korea', 'KOR']\n",
      "['Macao', 'MAC']\n",
      "['Malaysia', 'MAS']\n",
      "['New Zealand', 'NZL']\n",
      "['Singapore', 'SIN']\n",
      "['Taiwan', 'TPE']\n"
     ]
    }
   ],
   "source": [
    "import sqlite3\n",
    "\n",
    "def openDB(db):\n",
    "    con = sqlite3.connect(db)\n",
    "    con.row_factory = sqlite3.Row\n",
    "    return con\n",
    "\n",
    "try:\n",
    "    con = openDB('BowlingComp.db')\n",
    "    f = open('COUNTRY.TXT')\n",
    "    f = f.readlines()\n",
    "    for line in f:\n",
    "        line = line.strip().split(',')\n",
    "        con.execute('INSERT INTO Country(CountryName,CountryCode) VALUES (?,?)',(line[0],line[1]))  \n",
    "    con.commit\n",
    "finally:\n",
    "    con.close"
   ]
  },
  {
   "cell_type": "code",
   "execution_count": null,
   "metadata": {},
   "outputs": [],
   "source": []
  }
 ],
 "metadata": {
  "kernelspec": {
   "display_name": "Python 3.6.4 64-bit",
   "language": "python",
   "name": "python3"
  },
  "language_info": {
   "codemirror_mode": {
    "name": "ipython",
    "version": 3
   },
   "file_extension": ".py",
   "mimetype": "text/x-python",
   "name": "python",
   "nbconvert_exporter": "python",
   "pygments_lexer": "ipython3",
   "version": "3.6.4"
  },
  "vscode": {
   "interpreter": {
    "hash": "f4e9cda46bb2d9d7fe6ecdff0f8336a934348bf06cb492f2f42f60739b3403b4"
   }
  }
 },
 "nbformat": 4,
 "nbformat_minor": 2
}
