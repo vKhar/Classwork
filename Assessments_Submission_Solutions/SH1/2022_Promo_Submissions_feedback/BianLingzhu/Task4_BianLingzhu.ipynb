{
 "cells": [
  {
   "cell_type": "code",
   "execution_count": null,
   "metadata": {},
   "outputs": [],
   "source": [
    "#Task4_1_BianLingzhu.sql\n",
    "\n",
    "sql_str1 = 'CREATE TABLE IF NOT EXISTS `Player` (\\\n",
    "\t`PlayerID`\tINTEGER NOT NULL PRIMARY KEY AUTOINCREMENT,\\\n",
    "\t`Name`\tTEXT NOT NULL,\\\n",
    "\t`CountryCode`\tTEXT NOT NULL,\\\n",
    "\t`Gender`\tTEXT NOT NULL,\\\n",
    "\t`DateOfBirth`\tTEXT NOT NULL\\\n",
    ")'\n",
    "\n",
    "sql_str2 = 'CREATE TABLE IF NOT EXISTS `Country` (\\\n",
    "\t`CountryCode`\tTEXT NOT NULL,\\\n",
    "\t`CountryName`\tTEXT NOT NULL,\\\n",
    "\t`CaptainPlayerID`\tINTEGER,\\\n",
    "\tFOREIGN KEY(`CaptainPlayerID`) REFERENCES `Player`(`PlayerID`),\\\n",
    "\tPRIMARY KEY(`CountryCode`)\\\n",
    ");'\n",
    "\n",
    "sql_str3 = 'CREATE TABLE `Game` (\\\n",
    "\t`GameID`\tINTEGER NOT NULL PRIMARY KEY AUTOINCREMENT,\\\n",
    "\t`PlayerID`\tINTEGER NOT NULL,\\\n",
    "\t`DatePlayed`\tTEXT,\\\n",
    "\t`StartTime`\tTEXT,\\\n",
    "\t`Score`\tTEXT,\\\n",
    "\tFOREIGN KEY(`PlayerID`) REFERENCES `Player`(`PlayerID`)\\\n",
    ");'"
   ]
  },
  {
   "cell_type": "code",
   "execution_count": null,
   "metadata": {},
   "outputs": [],
   "source": []
  },
  {
   "cell_type": "code",
   "execution_count": 1,
   "metadata": {},
   "outputs": [],
   "source": [
    "#Task 4.2\n",
    "import sqlite3\n",
    "\n",
    "def openDB(db):\n",
    "    con = sqlite3.connect(db)\n",
    "    con.row_factory = sqlite3.Row\n",
    "    return con\n",
    "\n",
    "try:\n",
    "    con = openDB('BowlingComp.db')\n",
    "    f = open('COUNTRY.TXT')\n",
    "    f = f.readlines()\n",
    "    for line in f:\n",
    "        line = line.strip().split(',')\n",
    "        con.execute('INSERT INTO Country(CountryName,CountryCode) VALUES (?,?)',(line[0],line[1]))  \n",
    "    con.commit\n",
    "finally:\n",
    "    con.close"
   ]
  },
  {
   "cell_type": "code",
   "execution_count": 3,
   "metadata": {},
   "outputs": [
    {
     "ename": "OperationalError",
     "evalue": "database is locked",
     "output_type": "error",
     "traceback": [
      "\u001b[1;31m---------------------------------------------------------------------------\u001b[0m",
      "\u001b[1;31mOperationalError\u001b[0m                          Traceback (most recent call last)",
      "\u001b[1;32m<ipython-input-3-e96e9dbb6c96>\u001b[0m in \u001b[0;36m<module>\u001b[1;34m()\u001b[0m\n\u001b[0;32m     13\u001b[0m \u001b[1;32mfor\u001b[0m \u001b[0mline\u001b[0m \u001b[1;32min\u001b[0m \u001b[0mf\u001b[0m\u001b[1;33m:\u001b[0m\u001b[1;33m\u001b[0m\u001b[0m\n\u001b[0;32m     14\u001b[0m     \u001b[0mline\u001b[0m \u001b[1;33m=\u001b[0m \u001b[0mline\u001b[0m\u001b[1;33m.\u001b[0m\u001b[0mstrip\u001b[0m\u001b[1;33m(\u001b[0m\u001b[1;33m)\u001b[0m\u001b[1;33m.\u001b[0m\u001b[0msplit\u001b[0m\u001b[1;33m(\u001b[0m\u001b[1;34m','\u001b[0m\u001b[1;33m)\u001b[0m\u001b[1;33m\u001b[0m\u001b[0m\n\u001b[1;32m---> 15\u001b[1;33m     \u001b[0mcon\u001b[0m\u001b[1;33m.\u001b[0m\u001b[0mexecute\u001b[0m\u001b[1;33m(\u001b[0m\u001b[1;34m'INSERT INTO Country(CountryName,CountryCode) VALUES (?,?)'\u001b[0m\u001b[1;33m,\u001b[0m\u001b[1;33m(\u001b[0m\u001b[0mline\u001b[0m\u001b[1;33m[\u001b[0m\u001b[1;36m0\u001b[0m\u001b[1;33m]\u001b[0m\u001b[1;33m,\u001b[0m\u001b[0mline\u001b[0m\u001b[1;33m[\u001b[0m\u001b[1;36m1\u001b[0m\u001b[1;33m]\u001b[0m\u001b[1;33m)\u001b[0m\u001b[1;33m)\u001b[0m\u001b[1;33m\u001b[0m\u001b[0m\n\u001b[0m\u001b[0;32m     16\u001b[0m \u001b[0mcon\u001b[0m\u001b[1;33m.\u001b[0m\u001b[0mcommit\u001b[0m\u001b[1;33m(\u001b[0m\u001b[1;33m)\u001b[0m\u001b[1;33m\u001b[0m\u001b[0m\n\u001b[0;32m     17\u001b[0m \u001b[1;33m\u001b[0m\u001b[0m\n",
      "\u001b[1;31mOperationalError\u001b[0m: database is locked"
     ]
    }
   ],
   "source": [
    "#Task 4.2\n",
    "import sqlite3\n",
    "\n",
    "def openDB(db):\n",
    "    con = sqlite3.connect(db)\n",
    "    con.row_factory = sqlite3.Row\n",
    "    return con\n",
    "\n",
    "\n",
    "con = openDB('BowlingComp.db')\n",
    "f = open('COUNTRY.TXT')\n",
    "f = f.readlines()\n",
    "for line in f:\n",
    "    line = line.strip().split(',')\n",
    "    con.execute('INSERT INTO Country(CountryName,CountryCode) VALUES (?,?)',(line[0],line[1]))  \n",
    "con.commit()\n",
    "\n",
    "con.close()"
   ]
  },
  {
   "cell_type": "code",
   "execution_count": null,
   "metadata": {},
   "outputs": [],
   "source": [
    "#Task4_2_BianLingzhu.sql\n",
    "\n",
    "sql_str4 = 'SELECT Name,SUM(Score),COUNT(Game.PlayerID) FROM\\\n",
    "Player INNER JOIN Game ON Player.PlayerID = Game.PlayerID '"
   ]
  },
  {
   "cell_type": "code",
   "execution_count": null,
   "metadata": {},
   "outputs": [],
   "source": [
    "#Task 4.4\n",
    "\n",
    "from flask import Flask, render_template, redirect, request\n",
    "\n",
    "app = (__name__)\n",
    "\n",
    "@app.route('/', method = ['POST'])\n",
    "def root():\n",
    "    \n",
    "@app.route('/submit', method = ['POST'])\n",
    "def submitroot():\n",
    "    try:\n",
    "        con = openDB('BowlingComp.db')\n",
    "        \n",
    "    finally:\n",
    "        con.close\n",
    "    return render_template(xxx.html,)"
   ]
  }
 ],
 "metadata": {
  "kernelspec": {
   "display_name": "Python 3.6.4 64-bit",
   "language": "python",
   "name": "python3"
  },
  "language_info": {
   "codemirror_mode": {
    "name": "ipython",
    "version": 3
   },
   "file_extension": ".py",
   "mimetype": "text/x-python",
   "name": "python",
   "nbconvert_exporter": "python",
   "pygments_lexer": "ipython3",
   "version": "3.6.4"
  },
  "vscode": {
   "interpreter": {
    "hash": "f4e9cda46bb2d9d7fe6ecdff0f8336a934348bf06cb492f2f42f60739b3403b4"
   }
  }
 },
 "nbformat": 4,
 "nbformat_minor": 2
}
