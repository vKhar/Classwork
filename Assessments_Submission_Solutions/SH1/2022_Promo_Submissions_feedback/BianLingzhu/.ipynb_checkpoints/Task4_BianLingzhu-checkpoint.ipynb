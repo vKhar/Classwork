{
 "cells": [
  {
   "cell_type": "code",
   "execution_count": null,
   "metadata": {},
   "outputs": [],
   "source": [
    "sql_str = 'CREATE TABLE `Player` (\\\n",
    "\t`PlayerID`\tINTEGER NOT NULL PRIMARY KEY AUTOINCREMENT,\\\n",
    "\t`Name`\tTEXT NOT NULL,\\\n",
    "\t`CountryCode`\tTEXT NOT NULL,\\\n",
    "\t`Gender`\tTEXT NOT NULL,\\\n",
    "\t`DateOfBirth`\tTEXT NOT NULL\\\n",
    ")'"
   ]
  },
  {
   "cell_type": "code",
   "execution_count": null,
   "metadata": {},
   "outputs": [],
   "source": [
    "sql_str = 'CREATE TABLE `Country` (\\\n",
    "\t`CountryCode`\tTEXT NOT NULL,\\\n",
    "\t`CountryName`\tTEXT NOT NULL,\\\n",
    "\t`CaptainPlayerID`\tINTEGER NOT NULL,\\\n",
    "\tFOREIGN KEY(`CaptainPlayerID`) REFERENCES `Player`(`PlayerID`),\\\n",
    "\tPRIMARY KEY(`CountryCode`)\\\n",
    ");'"
   ]
  },
  {
   "cell_type": "code",
   "execution_count": null,
   "metadata": {},
   "outputs": [],
   "source": []
  }
 ],
 "metadata": {
  "kernelspec": {
   "display_name": "Python 3",
   "language": "python",
   "name": "python3"
  },
  "language_info": {
   "codemirror_mode": {
    "name": "ipython",
    "version": 3
   },
   "file_extension": ".py",
   "mimetype": "text/x-python",
   "name": "python",
   "nbconvert_exporter": "python",
   "pygments_lexer": "ipython3",
   "version": "3.6.4"
  }
 },
 "nbformat": 4,
 "nbformat_minor": 2
}
