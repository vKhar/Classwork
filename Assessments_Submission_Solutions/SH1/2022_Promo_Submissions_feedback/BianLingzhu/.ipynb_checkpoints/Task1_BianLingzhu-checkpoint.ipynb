{
 "cells": [
  {
   "cell_type": "code",
   "execution_count": 16,
   "metadata": {},
   "outputs": [],
   "source": [
    "#Task 1.1\n",
    "class Matrix():\n",
    "    def __init__(self,r,c):\n",
    "        self.__row_count = r\n",
    "        self.__column_count = c\n",
    "        self.__buffer = []\n",
    "        for i in range(r-1):\n",
    "            for i in range(c-1):\n",
    "                self.__buffer = self.__buffer + [None]\n",
    "                \n",
    "    def get_value(self,r,c):\n",
    "        if r<1 or c<1:\n",
    "            return \"Error:Values input must be more than 0\"\n",
    "        else:\n",
    "            index = (c-1)*r + (r-1)\n",
    "            return self.__buffer[index]\n",
    "        \n",
    "    def get_row(self,r):\n",
    "        if r<1:\n",
    "            return \"Error:Values input must be more than 0\"\n",
    "        else:\n",
    "            return self.__buffer[(r-1)*self.__column_count:((r-1)*self.__column_count)+r]\n",
    "    \n",
    "    def get_column(self,c):\n",
    "        if c<1:\n",
    "            return \"Error:Values input must be more than 0\"\n",
    "        else:\n",
    "            col=[]\n",
    "            for i in range(c-1):\n",
    "                col = col + [self.__buffer[(i*self.__column_count)+c]]\n",
    "            return col\n",
    "    \n",
    "    def get_dimension(self):\n",
    "        return (self.__row_count, self.__column_count)\n",
    "    \n",
    "    def set_value(self,r,c,v):\n",
    "        if r<1 or c<1:\n",
    "            return \"Error:Values input must be more than 0\"\n",
    "        else:\n",
    "            index = (c-1)*r + (r-1)\n",
    "            self.__buffer[index] = v\n",
    "            return self.__buffer[index]\n",
    "    \n",
    "    def set_row(self,r,v):\n",
    "        row = self.get_row(r)\n",
    "        try:\n",
    "            for i in range(len(row)-1):\n",
    "                row[i] = v[i]\n",
    "            return row\n",
    "        except:\n",
    "            return \"Invalid row\"\n",
    "    \n",
    "    def set_column(self,c,v):\n",
    "        col = self.get_column(c)\n",
    "        try:\n",
    "            for i in range(len(row)-1):\n",
    "                col[i] = v[i]\n",
    "            return col\n",
    "        except:\n",
    "            return \"Invalid column\"\n",
    "    \n",
    "    def __repr__(self):\n",
    "        string = ''\n",
    "        for i in range(len(self.__buffer)):\n",
    "            string = string + str(self.__buffer[i])   \n",
    "        return string\n",
    "            \n",
    "            "
   ]
  },
  {
   "cell_type": "code",
   "execution_count": 17,
   "metadata": {},
   "outputs": [
    {
     "name": "stdout",
     "output_type": "stream",
     "text": [
      "None\n",
      "\n",
      "\n",
      "\n",
      "None\n"
     ]
    }
   ],
   "source": [
    "#Task 1.2\n",
    "test1 = Matrix(2,2)\n",
    "test1.set_row(1,[1,3])\n",
    "test1.set_row(2,[2,4])\n",
    "\n",
    "test2 = Matrix(1,3)\n",
    "test2.set_row(1,[5,6,7])\n",
    "\n",
    "test3 = Matrix(3,1)\n",
    "test3.set_column(1,[9,8,7])\n",
    "\n",
    "test4 = Matrix(0,0)\n",
    "\n",
    "test5 = Matrix(2,2)\n",
    "test5.set_row(1,[1,2])\n",
    "test5.set_row(2,[3])\n",
    "\n",
    "print(test1)\n",
    "print(test2)\n",
    "print(test3)\n",
    "print(test4)\n",
    "print(test5)"
   ]
  },
  {
   "cell_type": "code",
   "execution_count": null,
   "metadata": {},
   "outputs": [],
   "source": []
  },
  {
   "cell_type": "code",
   "execution_count": null,
   "metadata": {},
   "outputs": [],
   "source": []
  }
 ],
 "metadata": {
  "kernelspec": {
   "display_name": "Python 3",
   "language": "python",
   "name": "python3"
  },
  "language_info": {
   "codemirror_mode": {
    "name": "ipython",
    "version": 3
   },
   "file_extension": ".py",
   "mimetype": "text/x-python",
   "name": "python",
   "nbconvert_exporter": "python",
   "pygments_lexer": "ipython3",
   "version": "3.6.4"
  }
 },
 "nbformat": 4,
 "nbformat_minor": 2
}
