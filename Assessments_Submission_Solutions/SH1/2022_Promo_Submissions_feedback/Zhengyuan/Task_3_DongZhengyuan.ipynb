{
 "cells": [
  {
   "cell_type": "code",
   "execution_count": null,
   "metadata": {},
   "outputs": [],
   "source": [
    "#Task 3.1\n",
    "import string\n",
    "def hex_10(s:str,k):\n",
    "    ret = 0\n",
    "    map = string.digits + string.ascii_lowercase\n",
    "    for i in range(len(s)):\n",
    "        ret = map.index(s[i].lower())*(k**(len(s)-1-i)) + ret\n",
    "    return ret"
   ]
  },
  {
   "cell_type": "code",
   "execution_count": null,
   "metadata": {
    "scrolled": true
   },
   "outputs": [],
   "source": [
    "#Task 3.2\n",
    "try:\n",
    "    f = open(\"HEX_SCORES.TXT\", \"r\")\n",
    "    lines = f.readlines()\n",
    "    playerList = []\n",
    "    players = {}\n",
    "    scores = []\n",
    "    for line in lines:\n",
    "        playerList.append(line.strip().split(\",\"))\n",
    "    for i in playerList: #i is a list\n",
    "        total = 0\n",
    "        for j in i[2:]:\n",
    "            total += hex_10(j,16)\n",
    "        players[f\"{i[0]}\"] = [total,i[1]] #total score, country\n",
    "        scores.append(total)\n",
    "\n",
    "    def bubble(A):\n",
    "        for i in range(len(A)-1):\n",
    "            swap = False\n",
    "            for j in range(len(A)-1-i):\n",
    "                if A[j] > A[j+1]:\n",
    "                    A[j], A[j+1] = A[j+1], A[j]\n",
    "                    swap = True\n",
    "            if swap == False:\n",
    "                break\n",
    "            return A\n",
    "    scores = bubble(scores)\n",
    "\n",
    "    ret = []\n",
    "    for j in scores:\n",
    "        for i in players:\n",
    "            if players[f\"{i}\"][0] == j:\n",
    "                ret.append([i,j])\n",
    "\n",
    "    print(\"Rank, ID, Score\")\n",
    "    for i in range(len(ret)):\n",
    "        print(f\"{i+1},{ret[i][0]},{ret[i][1]}\")\n",
    "except Exception as e:\n",
    "    print(str(e))\n",
    "finally:\n",
    "    f.close()"
   ]
  },
  {
   "cell_type": "markdown",
   "metadata": {},
   "source": [
    "```\n",
    "You just need 1 for loop to process the input from file\n",
    "bubble sort is wrong."
   ]
  },
  {
   "cell_type": "code",
   "execution_count": 16,
   "metadata": {},
   "outputs": [
    {
     "name": "stdout",
     "output_type": "stream",
     "text": [
      "Country, Num.Players, Score\n",
      "KOR, 2, 1509\n",
      "IND, 4, 1539\n",
      "MAS, 3, 1438\n",
      "SIN, 5, 1594\n",
      "TPE, 3, 1506\n",
      "MAC, 3, 1440\n"
     ]
    }
   ],
   "source": [
    "#Task 3.3\n",
    "countryScores = {}\n",
    "countryList = []\n",
    "for i in playerList:\n",
    "    if i[1] not in countryList:\n",
    "        countryList.append(i[1])\n",
    "\n",
    "for i in countryList:\n",
    "    countryScores[f\"{i}\"] = 0\n",
    "    numberOfPlayers = 0\n",
    "    avg = 0\n",
    "    for j in players:\n",
    "        if i == players[f\"{j}\"][1]: #if country is the same\n",
    "            countryScores[f\"{i}\"] += players[f\"{j}\"][0] #total country score\n",
    "            numberOfPlayers += 1\n",
    "    if (countryScores[f\"{i}\"]):\n",
    "        avg = (countryScores[f\"{i}\"])//numberOfPlayers\n",
    "    countryScores[f\"{i}\"] = [numberOfPlayers, avg]\n",
    "\n",
    "print(\"Country, Num.Players, Score\")\n",
    "for i in countryScores:\n",
    "    no = countryScores[f\"{i}\"][0]\n",
    "    average = countryScores[f\"{i}\"][1]\n",
    "    if average > 0:\n",
    "        print(f\"{i}, {no}, {average}\")"
   ]
  },
  {
   "cell_type": "markdown",
   "metadata": {},
   "source": [
    "```\n",
    "Again, you can just use 1 for loop for processsing"
   ]
  },
  {
   "cell_type": "code",
   "execution_count": null,
   "metadata": {},
   "outputs": [],
   "source": []
  }
 ],
 "metadata": {
  "kernelspec": {
   "display_name": "Python 3.6.4 64-bit",
   "language": "python",
   "name": "python3"
  },
  "language_info": {
   "codemirror_mode": {
    "name": "ipython",
    "version": 3
   },
   "file_extension": ".py",
   "mimetype": "text/x-python",
   "name": "python",
   "nbconvert_exporter": "python",
   "pygments_lexer": "ipython3",
   "version": "3.6.4"
  },
  "vscode": {
   "interpreter": {
    "hash": "f4e9cda46bb2d9d7fe6ecdff0f8336a934348bf06cb492f2f42f60739b3403b4"
   }
  }
 },
 "nbformat": 4,
 "nbformat_minor": 2
}
