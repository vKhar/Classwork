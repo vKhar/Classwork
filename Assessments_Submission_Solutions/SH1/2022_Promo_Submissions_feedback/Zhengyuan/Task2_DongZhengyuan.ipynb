{
 "cells": [
  {
   "cell_type": "code",
   "execution_count": null,
   "metadata": {},
   "outputs": [],
   "source": [
    "#Task 1.2\n",
    "def throw2score(throw:str):\n",
    "    if throw = \"X\":\n",
    "        return int(throw)\n",
    "def calc_score(throws:str):\n",
    "    total_score = 0\n",
    "    for frame in range(1,11):\n",
    "        frame_score = 0\n",
    "        if throws[0] = \"X\":\n",
    "            frame_score = 10 + throw2score(throws[1]) + throw2score(throws[2])\n",
    "            throws = throws[1:]\n",
    "        else:\n",
    "            frame_score = throw2score(throws[0]) + throw2score(throws[1])\n",
    "            if frame_score == 10:\n",
    "                frame_score = frame_score + throw2score(throws[3])\n",
    "            throws = throws[2:]\n",
    "        total_score = total_score + frame_score\n",
    "    return total_score"
   ]
  },
  {
   "cell_type": "markdown",
   "metadata": {},
   "source": [
    "```\n",
    "Don't even bother to correct syntax errro!!\n"
   ]
  },
  {
   "cell_type": "code",
   "execution_count": null,
   "metadata": {},
   "outputs": [],
   "source": [
    "#Task 2.2\n",
    "def calc_scorefile(throws:str,name:str):\n",
    "    total_score = 0\n",
    "    frame_scores = \"\"\n",
    "    total_scores = \"\"\n",
    "    for frame in range(1,11):\n",
    "        frame_score = 0\n",
    "        if throws[0] = \"X\":\n",
    "            frame_score = 10 + throw2score(throws[1]) + throw2score(throws[2])\n",
    "            throws = throws[1:]\n",
    "        else:\n",
    "            frame_score = throw2score(throws[0]) + throw2score(throws[1])\n",
    "            if frame_score == 10:\n",
    "                frame_score = frame_score + throw2score(throws[3])\n",
    "            throws = throws[2:]\n",
    "        frame_scores += str(frame_score)\n",
    "        total_score = total_score + frame_score\n",
    "        total_scores += str(total_score)\n",
    "    try:\n",
    "        f = open(f\"SCORE_{name}.TXT\",\"w\")\n",
    "        ret = \"\"\n",
    "        ret = f\"{name} Scoresheet\\nFrame {throws}\\nPins Hit\"\n",
    "        total = 0\n",
    "        spare = False\n",
    "        for i in throws:\n",
    "            if i = \"X\":\n",
    "                ret += \"[X]\"\n",
    "                total = 0\n",
    "                spare = False\n",
    "            elif total == 10:\n",
    "                ret += \"]\"\n",
    "                \n",
    "                total = 0\n",
    "            elif total == 0:\n",
    "                ret += f\"[{i}|\"\n",
    "                total += int(i)\n",
    "            else:\n",
    "                ret += f\"{i}|\"\n",
    "                total += int(i)\n",
    "        ret += f\"\\nFrameScore {frame_scores}\\nCum. Score {total_scores}\"\n",
    "        f.write(f\"ret\")\n",
    "        f.close()\n",
    "    except Exception as e:\n",
    "        print(str(e))"
   ]
  },
  {
   "cell_type": "markdown",
   "metadata": {},
   "source": [
    "```\n",
    "why are you opening the same file inside the for loop and overiting it!!???\n",
    "VERY WRONG LOGIC!!"
   ]
  },
  {
   "cell_type": "code",
   "execution_count": null,
   "metadata": {},
   "outputs": [],
   "source": [
    "#Task 2.3\n",
    "calc_scorefile(\"X737291XXX23647\",\"Player 1\")\n",
    "calc_scorefile(\"0580X05X6405819150\",\"Player 2\")\n",
    "calc_scorefile(\"XXXX91X002282XXX\", \"Player 3\")"
   ]
  },
  {
   "cell_type": "markdown",
   "metadata": {},
   "source": [
    "```\n",
    "2.4 0\n",
    "2.5 0"
   ]
  },
  {
   "cell_type": "markdown",
   "metadata": {},
   "source": []
  }
 ],
 "metadata": {
  "kernelspec": {
   "display_name": "Python 3.6.4 64-bit",
   "language": "python",
   "name": "python3"
  },
  "language_info": {
   "codemirror_mode": {
    "name": "ipython",
    "version": 3
   },
   "file_extension": ".py",
   "mimetype": "text/x-python",
   "name": "python",
   "nbconvert_exporter": "python",
   "pygments_lexer": "ipython3",
   "version": "3.6.4"
  },
  "vscode": {
   "interpreter": {
    "hash": "f4e9cda46bb2d9d7fe6ecdff0f8336a934348bf06cb492f2f42f60739b3403b4"
   }
  }
 },
 "nbformat": 4,
 "nbformat_minor": 2
}
