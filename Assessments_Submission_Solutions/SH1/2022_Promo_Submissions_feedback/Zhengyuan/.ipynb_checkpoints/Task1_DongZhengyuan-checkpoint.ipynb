{
 "cells": [
  {
   "cell_type": "code",
   "execution_count": 77,
   "metadata": {},
   "outputs": [],
   "source": [
    "#Task 1.1\n",
    "class Matrix:\n",
    "    def __init__(self,m:int,n:int):\n",
    "        self.__buffer = []\n",
    "        self.__row_count = m\n",
    "        self.__column_count = n\n",
    "        for i in range(m):\n",
    "            self.__buffer.append([])\n",
    "            for j in range(n):\n",
    "                self.__buffer[i].append(None)\n",
    "    def get_rowCount(self):\n",
    "        return self.__row_count\n",
    "    def get_columnCount(self):\n",
    "        return self.__column_count\n",
    "    def get_buffer(self):\n",
    "        return self.__buffer\n",
    "    def set_rowCount(self,row:int):\n",
    "        self.__row_count = row\n",
    "    def set_columnCount(self,column:int):\n",
    "        self.__column_count = column\n",
    "    def set_buffer(self,buffer:list): #assume user will always set \"buffer\" as a 2d array\n",
    "        self.__buffer = buffer\n",
    "    def get_value(self,row:int,column:int):\n",
    "        if self.__buffer:\n",
    "            return self.__buffer[row-1][column-1]\n",
    "        else:\n",
    "            return \"The value does not exist in the matrix\"\n",
    "    def get_row(self,row:int):\n",
    "        if self.__buffer:\n",
    "            return self.__buffer[row-1]\n",
    "        else:\n",
    "            return \"The row does not exist in the matrix\"\n",
    "    def get_column(self,column:int):\n",
    "        if self.__buffer:\n",
    "            ret = []\n",
    "            for i in range(self.__row_count):\n",
    "                ret.append(self.__buffer[i][column-1])\n",
    "            return ret\n",
    "        else:\n",
    "            return \"The column does not exist in the matrix\"\n",
    "    def get_dimension(self):\n",
    "        return [self.__row_count,self.__column_count]\n",
    "    def set_value(self,column:int,row:int,value):\n",
    "        if self.__buffer:\n",
    "            self.__buffer[row-1][column-1] = value\n",
    "        else:\n",
    "            return \"The location you wish to insert the value in does not exist in the matrix\"\n",
    "    def set_row(self,row:int,vector:list):\n",
    "        if self.__buffer:\n",
    "            self.__buffer[row-1] = vector\n",
    "        else:\n",
    "            return \"The row does not exist in the matrix\"\n",
    "    def set_column(self,column:int,vector:list):\n",
    "        if self.__buffer:\n",
    "            for i in range(self.__row_count):\n",
    "                self.__buffer[i][column-1] = vector[i]\n",
    "        else:\n",
    "            return \"The column does not exist in the matrix\"\n",
    "    def __repr__(self):\n",
    "        ret = \"[\\n\"\n",
    "        for i in self.__buffer:\n",
    "            for j in i:\n",
    "                ret += f\" {str(j)}\"\n",
    "            if self.__buffer.index(i) < len(self.__buffer):\n",
    "                ret += \"\\n\"\n",
    "        ret +=\"\\n]\"\n",
    "        if \"None\" in ret:\n",
    "            return \"Invalid matrix\"\n",
    "        else:\n",
    "            return ret\n",
    "        "
   ]
  },
  {
   "cell_type": "code",
   "execution_count": 78,
   "metadata": {},
   "outputs": [
    {
     "name": "stdout",
     "output_type": "stream",
     "text": [
      "[\n",
      " 1 2\n",
      " 3 4\n",
      "\n",
      "]\n",
      "[\n",
      " 9\n",
      " 8\n",
      " 7\n",
      "\n",
      "]\n",
      "Invalid matrix\n"
     ]
    }
   ],
   "source": [
    "#Task 1.2\n",
    "m1 = Matrix(0,0)\n",
    "#print(m1)\n",
    "m2 = Matrix(1,3)\n",
    "m2.set_row(1,[5,6,7])\n",
    "#print(m2)\n",
    "m3 = Matrix(2,2)\n",
    "m3.set_column(1,[1,3])\n",
    "m3.set_column(2,[2,4])\n",
    "print(m3)\n",
    "m4 = Matrix(3,1)\n",
    "m4.set_column(1,[9,8,7])\n",
    "print(m4)\n",
    "m5 = Matrix(2,2)\n",
    "m5.set_row(1,[1,2])\n",
    "m5.set_row(1,[1,])\n",
    "print(m5)"
   ]
  },
  {
   "cell_type": "code",
   "execution_count": 79,
   "metadata": {},
   "outputs": [],
   "source": [
    "#Task 1.3\n",
    "def dot_product(A:list,B:list):\n",
    "    if len(A) == len(B):\n",
    "        ret = 0\n",
    "        for i in range(len(A)):\n",
    "            ret += A[i]*B[i]\n",
    "        return ret\n",
    "    else:\n",
    "        return \"Invalid input\""
   ]
  },
  {
   "cell_type": "code",
   "execution_count": 80,
   "metadata": {},
   "outputs": [
    {
     "name": "stdout",
     "output_type": "stream",
     "text": [
      "933\n"
     ]
    }
   ],
   "source": [
    "#Task 1.4\n",
    "l1 = [11,13,5]\n",
    "l2 = [21,44,26]\n",
    "print(dot_product(l1,l2))"
   ]
  },
  {
   "cell_type": "code",
   "execution_count": 81,
   "metadata": {},
   "outputs": [],
   "source": [
    "#Task 1.5\n",
    "def transpose(A): #A is a matrix\n",
    "    matrix = Matrix(A.get_rowCount(),A.get_columnCount())\n",
    "    for i in range(1,A.get_rowCount()+1):\n",
    "        maxtrix.set_column(i,A.get_row(i))\n",
    "    return matrix"
   ]
  },
  {
   "cell_type": "code",
   "execution_count": null,
   "metadata": {},
   "outputs": [],
   "source": [
    "#Task 1.6"
   ]
  }
 ],
 "metadata": {
  "kernelspec": {
   "display_name": "Python 3",
   "language": "python",
   "name": "python3"
  },
  "language_info": {
   "codemirror_mode": {
    "name": "ipython",
    "version": 3
   },
   "file_extension": ".py",
   "mimetype": "text/x-python",
   "name": "python",
   "nbconvert_exporter": "python",
   "pygments_lexer": "ipython3",
   "version": "3.6.4"
  }
 },
 "nbformat": 4,
 "nbformat_minor": 2
}
