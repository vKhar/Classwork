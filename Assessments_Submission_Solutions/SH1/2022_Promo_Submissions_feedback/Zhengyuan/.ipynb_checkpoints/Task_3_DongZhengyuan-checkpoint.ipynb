{
 "cells": [
  {
   "cell_type": "code",
   "execution_count": 120,
   "metadata": {},
   "outputs": [],
   "source": [
    "#Task 3.1\n",
    "import string\n",
    "def hex_10(s:str,k):\n",
    "    ret = 0\n",
    "    map = string.digits + string.ascii_lowercase\n",
    "    for i in range(len(s)):\n",
    "        ret = map.index(s[i].lower())*(k**(len(s)-1-i)) + ret\n",
    "    return ret"
   ]
  },
  {
   "cell_type": "code",
   "execution_count": 121,
   "metadata": {
    "scrolled": true
   },
   "outputs": [
    {
     "name": "stdout",
     "output_type": "stream",
     "text": [
      "Rank, ID, Score\n",
      "1,Player113,1362\n",
      "2,Player136,1394\n",
      "3,Player157,1375\n",
      "4,Player102,1499\n",
      "5,Player166,1670\n",
      "6,Player170,1475\n",
      "7,Player168,1678\n",
      "8,Player173,1723\n",
      "9,Player189,1519\n",
      "10,Player193,1558\n",
      "11,Player213,1609\n",
      "12,Player231,1466\n",
      "13,Player232,1431\n",
      "14,Player233,1454\n",
      "15,Player245,1270\n",
      "16,Player285,1426\n",
      "17,Player287,1400\n",
      "18,Player299,1724\n",
      "19,Player305,1535\n",
      "20,Player175,1734\n"
     ]
    }
   ],
   "source": [
    "#Task 3.2\n",
    "try:\n",
    "    f = open(\"HEX_SCORES.TXT\", \"r\")\n",
    "    lines = f.readlines()\n",
    "    playerList = []\n",
    "    players = {}\n",
    "    scores = []\n",
    "    for line in lines:\n",
    "        playerList.append(line.strip().split(\",\"))\n",
    "    for i in playerList: #i is a list\n",
    "        total = 0\n",
    "        for j in i[2:]:\n",
    "            total += hex_10(j,16)\n",
    "        players[f\"{i[0]}\"] = [total,i[1]] #total score, country\n",
    "        scores.append(total)\n",
    "\n",
    "    def bubble(A):\n",
    "        for i in range(len(A)-1):\n",
    "            swap = False\n",
    "            for j in range(len(A)-1-i):\n",
    "                if A[j] > A[j+1]:\n",
    "                    A[j], A[j+1] = A[j+1], A[j]\n",
    "                    swap = True\n",
    "            if swap == False:\n",
    "                break\n",
    "            return A\n",
    "    scores = bubble(scores)\n",
    "\n",
    "    ret = []\n",
    "    for j in scores:\n",
    "        for i in players:\n",
    "            if players[f\"{i}\"][0] == j:\n",
    "                ret.append([i,j])\n",
    "\n",
    "    print(\"Rank, ID, Score\")\n",
    "    for i in range(len(ret)):\n",
    "        print(f\"{i+1},{ret[i][0]},{ret[i][1]}\")\n",
    "except Exception as e:\n",
    "    print(str(e))\n",
    "finally:\n",
    "    f.close()"
   ]
  },
  {
   "cell_type": "code",
   "execution_count": 122,
   "metadata": {},
   "outputs": [
    {
     "name": "stdout",
     "output_type": "stream",
     "text": [
      "Country, Num.Players, Score\n",
      "KOR, 2, 1509\n",
      "IND, 4, 1539\n",
      "MAS, 3, 1438\n",
      "SIN, 5, 1594\n",
      "TPE, 3, 1506\n",
      "MAC, 3, 1440\n"
     ]
    }
   ],
   "source": [
    "#Task 3.3\n",
    "countryScores = {}\n",
    "countryList = []\n",
    "for i in playerList:\n",
    "    if i[1] not in countryList:\n",
    "        countryList.append(i[1])\n",
    "\n",
    "for i in countryList:\n",
    "    countryScores[f\"{i}\"] = 0\n",
    "    numberOfPlayers = 0\n",
    "    avg = 0\n",
    "    for j in players:\n",
    "        if i == players[f\"{j}\"][1]: #if country is the same\n",
    "            countryScores[f\"{i}\"] += players[f\"{j}\"][0] #total country score\n",
    "            numberOfPlayers += 1\n",
    "    if (countryScores[f\"{i}\"]):\n",
    "        avg = (countryScores[f\"{i}\"])//numberOfPlayers\n",
    "    countryScores[f\"{i}\"] = [numberOfPlayers, avg]\n",
    "\n",
    "print(\"Country, Num.Players, Score\")\n",
    "for i in countryScores:\n",
    "    no = countryScores[f\"{i}\"][0]\n",
    "    average = countryScores[f\"{i}\"][1]\n",
    "    if average > 0:\n",
    "        print(f\"{i}, {no}, {average}\")"
   ]
  },
  {
   "cell_type": "code",
   "execution_count": null,
   "metadata": {},
   "outputs": [],
   "source": []
  }
 ],
 "metadata": {
  "kernelspec": {
   "display_name": "Python 3",
   "language": "python",
   "name": "python3"
  },
  "language_info": {
   "codemirror_mode": {
    "name": "ipython",
    "version": 3
   },
   "file_extension": ".py",
   "mimetype": "text/x-python",
   "name": "python",
   "nbconvert_exporter": "python",
   "pygments_lexer": "ipython3",
   "version": "3.6.4"
  }
 },
 "nbformat": 4,
 "nbformat_minor": 2
}
