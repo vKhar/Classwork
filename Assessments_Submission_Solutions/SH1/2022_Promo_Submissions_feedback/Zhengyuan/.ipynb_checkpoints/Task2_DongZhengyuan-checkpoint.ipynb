{
 "cells": [
  {
   "cell_type": "code",
   "execution_count": 3,
   "metadata": {},
   "outputs": [
    {
     "ename": "SyntaxError",
     "evalue": "invalid syntax (<ipython-input-3-1366b8823931>, line 3)",
     "output_type": "error",
     "traceback": [
      "\u001b[1;36m  File \u001b[1;32m\"<ipython-input-3-1366b8823931>\"\u001b[1;36m, line \u001b[1;32m3\u001b[0m\n\u001b[1;33m    if throw = \"X\":\u001b[0m\n\u001b[1;37m             ^\u001b[0m\n\u001b[1;31mSyntaxError\u001b[0m\u001b[1;31m:\u001b[0m invalid syntax\n"
     ]
    }
   ],
   "source": [
    "#Task 1.2\n",
    "def throw2score(throw:str):\n",
    "    if throw = \"X\":\n",
    "        return int(throw)\n",
    "def calc_score(throws:str):\n",
    "    total_score = 0\n",
    "    for frame in range(1,11):\n",
    "        frame_score = 0\n",
    "        if throws[0] = \"X\":\n",
    "            frame_score = 10 + throw2score(throws[1]) + throw2score(throws[2])\n",
    "            throws = throws[1:]\n",
    "        else:\n",
    "            frame_score = throw2score(throws[0]) + throw2score(throws[1])\n",
    "            if frame_score == 10:\n",
    "                frame_score = frame_score + throw2score(throws[3])\n",
    "            throws = throws[2:]\n",
    "        total_score = total_score + frame_score\n",
    "    return total_score"
   ]
  },
  {
   "cell_type": "code",
   "execution_count": null,
   "metadata": {},
   "outputs": [],
   "source": [
    "#Task 2.2\n",
    "def calc_scorefile(throws:str,name:str):\n",
    "    total_score = 0\n",
    "    frame_scores = \"\"\n",
    "    total_scores = \"\"\n",
    "    for frame in range(1,11):\n",
    "        frame_score = 0\n",
    "        if throws[0] = \"X\":\n",
    "            frame_score = 10 + throw2score(throws[1]) + throw2score(throws[2])\n",
    "            throws = throws[1:]\n",
    "        else:\n",
    "            frame_score = throw2score(throws[0]) + throw2score(throws[1])\n",
    "            if frame_score == 10:\n",
    "                frame_score = frame_score + throw2score(throws[3])\n",
    "            throws = throws[2:]\n",
    "        frame_scores += str(frame_score)\n",
    "        total_score = total_score + frame_score\n",
    "        total_scores += str(total_score)\n",
    "    try:\n",
    "        f = open(f\"SCORE_{name}.TXT\",\"w\")\n",
    "        ret = \"\"\n",
    "        ret = f\"{name} Scoresheet\\nFrame {throws}\\nPins Hit\"\n",
    "        total = 0\n",
    "        spare = False\n",
    "        for i in throws:\n",
    "            if i = \"X\":\n",
    "                ret += \"[X]\"\n",
    "                total = 0\n",
    "                spare = False\n",
    "            elif total == 10:\n",
    "                ret += \"]\"\n",
    "                \n",
    "                total = 0\n",
    "            elif total == 0:\n",
    "                ret += f\"[{i}|\"\n",
    "                total += int(i)\n",
    "            else:\n",
    "                ret += f\"{i}|\"\n",
    "                total += int(i)\n",
    "        ret += f\"\\nFrameScore {frame_scores}\\nCum. Score {total_scores}\"\n",
    "        f.write(f\"ret\")\n",
    "        f.close()\n",
    "    except Exception as e:\n",
    "        print(str(e))"
   ]
  },
  {
   "cell_type": "code",
   "execution_count": null,
   "metadata": {},
   "outputs": [],
   "source": [
    "#Task 2.3\n",
    "calc_scorefile(\"X737291XXX23647\",\"Player 1\")\n",
    "calc_scorefile(\"0580X05X6405819150\",\"Player 2\")\n",
    "calc_scorefile(\"XXXX91X002282XXX\", \"Player 3\")"
   ]
  }
 ],
 "metadata": {
  "kernelspec": {
   "display_name": "Python 3",
   "language": "python",
   "name": "python3"
  },
  "language_info": {
   "codemirror_mode": {
    "name": "ipython",
    "version": 3
   },
   "file_extension": ".py",
   "mimetype": "text/x-python",
   "name": "python",
   "nbconvert_exporter": "python",
   "pygments_lexer": "ipython3",
   "version": "3.6.4"
  }
 },
 "nbformat": 4,
 "nbformat_minor": 2
}
