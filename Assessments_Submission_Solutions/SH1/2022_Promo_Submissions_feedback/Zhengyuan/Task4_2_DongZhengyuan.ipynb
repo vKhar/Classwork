{
 "cells": [
  {
   "cell_type": "code",
   "execution_count": null,
   "metadata": {},
   "outputs": [],
   "source": [
    "import sqlite3\n",
    "con = sqlite3.connect(\"Task4.db\")\n",
    "f = open(\"COUNTRY.TXT\",\"r\")\n",
    "lines = f.readlines()\n",
    "countryList = []\n",
    "for line in lines:\n",
    "    countryList.append(line.strip().split(\",\"))\n",
    "for i in countryList:\n",
    "    cur = con.execute(\"INSERT INTO Country(CountryCode,CountryName) VALUES(?,?)\",(i[1],i[0]))\n",
    "con.close()"
   ]
  },
  {
   "cell_type": "code",
   "execution_count": null,
   "metadata": {},
   "outputs": [],
   "source": [
    "from flask import Flask, request, render_template, redirect\n",
    "import sqlite3\n",
    "\n",
    "app = Flask(__name__)\n",
    "@app.route(\"/\", methods=[\"GET\"])\n",
    "def root():\n",
    "    return render_template(\"Task4_2_DongZhengyuan.html\")\n",
    "\n",
    "@app.route(\"/\", methods=[\"POST\"])\n",
    "def form():\n",
    "    try:\n",
    "        playerID = request.form[\"playerID\"]\n",
    "        countryCode = request.form[\"countryCode\"]\n",
    "        gender = request.form[\"gender\"]\n",
    "        DOB = request.form[\"DOB\"]\n",
    "        name = request.form[\"name\"]\n",
    "        con = sqlite3.connect(\"Task4.db\")\n",
    "        cur = con.execute(\"INSERT INTO Player(PlayerID,CountryCode,Gender,DateOfBirth,Name) VALUES(?,?,?,?,?)\",(playerID,countryCode,gender,DOB,name))\n",
    "        con.close()\n",
    "    except Exception as e:\n",
    "        print(str(e))\n",
    "    finally:\n",
    "        return redirect(\"/\")\n",
    "\n",
    "app.run()"
   ]
  },
  {
   "cell_type": "code",
   "execution_count": null,
   "metadata": {},
   "outputs": [],
   "source": [
    "## Corrected\n",
    "from flask import Flask, request, render_template, redirect\n",
    "import sqlite3\n",
    "\n",
    "app = Flask(__name__)\n",
    "@app.route(\"/\", methods=[\"GET\"])\n",
    "def root():\n",
    "    return render_template(\"Task4_2_DongZhengyuan.html\")\n",
    "\n",
    "@app.route(\"/\", methods=[\"POST\"])\n",
    "def form():\n",
    "    try:\n",
    "        playerID = request.form[\"playerID\"]\n",
    "        countryCode = request.form[\"countryCode\"]\n",
    "        gender = request.form[\"gender\"]\n",
    "        DOB = request.form[\"DOB\"]\n",
    "        name = request.form[\"name\"]\n",
    "        con = sqlite3.connect(\"Task4.db\")\n",
    "        cur = con.execute(\"INSERT INTO Player(PlayerID,CountryCode,Gender,DateOfBirth,Name) VALUES(?,?,?,?,?)\",(playerID,countryCode,gender,DOB,name))\n",
    "        con.commit()\n",
    "        con.close()\n",
    "    except Exception as e:\n",
    "        print(str(e))\n",
    "    finally:\n",
    "        return redirect(\"/\")\n",
    "\n",
    "app.run()"
   ]
  },
  {
   "cell_type": "code",
   "execution_count": null,
   "metadata": {},
   "outputs": [],
   "source": []
  }
 ],
 "metadata": {
  "kernelspec": {
   "display_name": "Python 3.6.4 64-bit",
   "language": "python",
   "name": "python3"
  },
  "language_info": {
   "codemirror_mode": {
    "name": "ipython",
    "version": 3
   },
   "file_extension": ".py",
   "mimetype": "text/x-python",
   "name": "python",
   "nbconvert_exporter": "python",
   "pygments_lexer": "ipython3",
   "version": "3.6.4"
  },
  "vscode": {
   "interpreter": {
    "hash": "f4e9cda46bb2d9d7fe6ecdff0f8336a934348bf06cb492f2f42f60739b3403b4"
   }
  }
 },
 "nbformat": 4,
 "nbformat_minor": 2
}
