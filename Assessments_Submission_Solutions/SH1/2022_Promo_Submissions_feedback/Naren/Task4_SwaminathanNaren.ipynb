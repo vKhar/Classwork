{
 "cells": [
  {
   "cell_type": "code",
   "execution_count": 10,
   "metadata": {},
   "outputs": [],
   "source": [
    "import sqlite3\n",
    "con = sqlite3.connect(\"Task4.db\")\n",
    "f = open(\"COUNTRY.txt\",'r')\n",
    "lines = f.readlines()\n",
    "for line in lines :\n",
    "    arr = line.strip().split(\",\")\n",
    "    data = (arr[1],arr[0])\n",
    "    con.execute(\"INSERT INTO [Country] VALUES (?,?)\",data)\n",
    "    con.commit()\n",
    "f.close()\n",
    "con.close()"
   ]
  },
  {
   "cell_type": "markdown",
   "metadata": {},
   "source": [
    "```\n",
    "4.3 0\n",
    "4.4 0"
   ]
  }
 ],
 "metadata": {
  "kernelspec": {
   "display_name": "Python 3",
   "language": "python",
   "name": "python3"
  },
  "language_info": {
   "codemirror_mode": {
    "name": "ipython",
    "version": 3
   },
   "file_extension": ".py",
   "mimetype": "text/x-python",
   "name": "python",
   "nbconvert_exporter": "python",
   "pygments_lexer": "ipython3",
   "version": "3.6.4"
  }
 },
 "nbformat": 4,
 "nbformat_minor": 2
}
