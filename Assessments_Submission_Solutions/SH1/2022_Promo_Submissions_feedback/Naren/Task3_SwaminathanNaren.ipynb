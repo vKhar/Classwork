{
 "cells": [
  {
   "cell_type": "code",
   "execution_count": null,
   "metadata": {},
   "outputs": [],
   "source": [
    "#Task 3.1\n",
    "def hextodenary(n) : #n is a hexadecimal number\n",
    "    hex_str = \"0123456789ABCDEF\"\n",
    "    denary = 0\n",
    "    a = len(n)\n",
    "    for i in str(n) :\n",
    "        denary+= hex_str.index(i.upper())*(16**(a-n.index(i)-1))\n",
    "    return denary\n",
    "hextodenary(\"A\")"
   ]
  },
  {
   "cell_type": "markdown",
   "metadata": {},
   "source": [
    "line 7 : a duplicate digit in n will give you the wrong index"
   ]
  },
  {
   "cell_type": "code",
   "execution_count": null,
   "metadata": {},
   "outputs": [],
   "source": [
    "#Task 3.1 CORRECTED \n",
    "def hextodenary(n) : #n is a hexadecimal number\n",
    "    hex_str = \"0123456789ABCDEF\"\n",
    "    denary = 0\n",
    "    a = len(n)\n",
    "    for i in range(len(n)) :\n",
    "        denary+= hex_str.index(n[i].upper())*(16**(a-1-i))\n",
    "    return denary\n"
   ]
  },
  {
   "cell_type": "code",
   "execution_count": 10,
   "metadata": {},
   "outputs": [
    {
     "name": "stdout",
     "output_type": "stream",
     "text": [
      "[('Player175', 1734, 'SIN'), ('Player299', 1724, 'SIN'), ('Player173', 1723, 'IND'), ('Player168', 1678, 'IND'), ('Player166', 1670, 'MAS'), ('Player213', 1609, 'SIN'), ('Player193', 1558, 'TPE'), ('Player305', 1535, 'TPE'), ('Player189', 1519, 'KOR'), ('Player102', 1499, 'KOR'), ('Player170', 1475, 'SIN'), ('Player231', 1466, 'MAC'), ('Player233', 1454, 'MAC'), ('Player232', 1431, 'SIN'), ('Player285', 1426, 'TPE'), ('Player287', 1400, 'MAC'), ('Player136', 1394, 'IND'), ('Player157', 1375, 'MAS'), ('Player113', 1362, 'IND'), ('Player245', 1270, 'MAS')]\n",
      "Rank      ID    Score   \n",
      "1     Player175  1734    \n",
      "2     Player299  1724    \n",
      "3     Player173  1723    \n",
      "4     Player168  1678    \n",
      "5     Player166  1670    \n",
      "6     Player213  1609    \n",
      "7     Player193  1558    \n",
      "8     Player305  1535    \n",
      "9     Player189  1519    \n",
      "10    Player102  1499    \n",
      "11    Player170  1475    \n",
      "12    Player231  1466    \n",
      "13    Player233  1454    \n",
      "14    Player232  1431    \n",
      "15    Player285  1426    \n",
      "16    Player287  1400    \n",
      "17    Player136  1394    \n",
      "18    Player157  1375    \n",
      "19    Player113  1362    \n",
      "20    Player245  1270    \n"
     ]
    }
   ],
   "source": [
    "#task3.2\n",
    "\n",
    "f=open(\"HEX_SCORES.txt\",\"r\")\n",
    "arr = []\n",
    "lines = f.readlines()\n",
    "for i in lines :\n",
    "    line = i.strip().split(\",\")\n",
    "    arr.append((line[0],hextodenary(line[2])+hextodenary(line[3])+hextodenary(line[4])+hextodenary(line[5])+hextodenary(line[6])+hextodenary(line[7]),line[1]))\n",
    "f.close()\n",
    "for i in range(len(arr)-1) :\n",
    "    swap = False\n",
    "    for j in range(len(arr)-1-i) :\n",
    "        if arr[j][1] < arr[j+1][1] :\n",
    "            arr[j],arr[j+1] = arr[j+1],arr[j]\n",
    "            swap = True\n",
    "    if swap == False :\n",
    "        break\n",
    "print(arr)\n",
    "print(\"{:<8}  {:<4}  {:<8}\".format(\"Rank\",\"ID\",\"Score\"))\n",
    "for i in range(len(arr)) :\n",
    "    print(\"{:<4}  {:<8}  {:<8}\".format(i+1,arr[i][0],arr[i][1]))"
   ]
  },
  {
   "cell_type": "code",
   "execution_count": 11,
   "metadata": {},
   "outputs": [
    {
     "name": "stdout",
     "output_type": "stream",
     "text": [
      "Country Num.Players Score\n",
      "  SIN       5        1595    \n",
      "  IND       4        1539    \n",
      "  MAS       3        1438    \n",
      "  TPE       3        1506    \n",
      "  KOR       2        1509    \n",
      "  MAC       3        1440    \n"
     ]
    }
   ],
   "source": [
    "#task3.3\n",
    "countries = {}\n",
    "for i in arr :\n",
    "    if i[2] not in countries :\n",
    "        countries[i[2]] = [1,i[1]]\n",
    "    else :\n",
    "        countries[i[2]][0] += 1\n",
    "        countries[i[2]][1] += i[1]\n",
    "print(\"{} {} {}\".format(\"Country\",\"Num.Players\",\"Score\"))\n",
    "for j in countries :\n",
    "    print(\"  {:<9} {:<8} {:<8}\".format(j, countries[j][0], round(countries[j][1]/countries[j][0])))"
   ]
  },
  {
   "cell_type": "code",
   "execution_count": null,
   "metadata": {},
   "outputs": [],
   "source": []
  },
  {
   "cell_type": "code",
   "execution_count": null,
   "metadata": {},
   "outputs": [],
   "source": []
  }
 ],
 "metadata": {
  "kernelspec": {
   "display_name": "Python 3.6.4 64-bit",
   "language": "python",
   "name": "python3"
  },
  "language_info": {
   "codemirror_mode": {
    "name": "ipython",
    "version": 3
   },
   "file_extension": ".py",
   "mimetype": "text/x-python",
   "name": "python",
   "nbconvert_exporter": "python",
   "pygments_lexer": "ipython3",
   "version": "3.6.4"
  },
  "vscode": {
   "interpreter": {
    "hash": "f4e9cda46bb2d9d7fe6ecdff0f8336a934348bf06cb492f2f42f60739b3403b4"
   }
  }
 },
 "nbformat": 4,
 "nbformat_minor": 2
}
