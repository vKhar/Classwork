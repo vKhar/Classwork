{
 "cells": [
  {
   "cell_type": "code",
   "execution_count": null,
   "metadata": {},
   "outputs": [],
   "source": [
    "#task1.1\n",
    "class Matrix :\n",
    "    def __init__(self,row_count,column_count) :\n",
    "        self.__rc = row_count\n",
    "        self.__cc = column_count\n",
    "        self.__buffer = [[None for _ in range(column_count)] for _ in range(row_count)]\n",
    "    def constructor(self,row_count,column_count) :\n",
    "        self.__buffer = [[None for _ in range(column_count)] for _ in range(row_count)]\n",
    "    def get_dimension(self) :\n",
    "        return [self.__rc,self.__cc]\n",
    "    def get_value(self,row,column) :\n",
    "        try :\n",
    "            return self.__buffer[row-1][column-1]\n",
    "        except :\n",
    "            return \"Invalid row or column\"\n",
    "    def get_row(self,row) :\n",
    "        return self.__buffer[row-1]\n",
    "    def get_column(self,column) :\n",
    "        column_arr = []\n",
    "        for i in range(len(self.__buffer)):\n",
    "            column_arr.append(self.__buffer[i][column-1])\n",
    "        return column_arr\n",
    "    def set_value(self,column,row,value) :\n",
    "        self.__buffer[row-1][column-1] = str(value)\n",
    "        return self.__buffer\n",
    "    def set_row(self,row,vector) :\n",
    "        for i in range(len(vector)) :\n",
    "            self.__buffer[row-1][i] = str(vector[i]) \n",
    "    def set_column(self,column,vector) :\n",
    "        for i in range(len(vector)) :\n",
    "            self.__buffer[i][column-1] = str(vector[i])\n",
    "    def __repr__(self) :\n",
    "        try :\n",
    "            ret_str = ''\n",
    "            for i in range(len(self.__buffer)) :\n",
    "                ret_str = str(ret_str + f\"{' '.join(self.__buffer[i])}\\n\")\n",
    "            return \"[\\n\" + ret_str + \"]\"\n",
    "        except :\n",
    "            return \"Invalid\"\n"
   ]
  },
  {
   "cell_type": "markdown",
   "metadata": {},
   "source": [
    "```\n",
    "- DO YOU KNOW WHAT A CONSTRUCTOR IS ?!!\n",
    "- WHY do you store the values as strs ?!!!\n",
    "- NO validation checks in setters\n",
    "-line 36 WHY ARE YOU using str() to convert strs ?!!!\n",
    "\n",
    "\n"
   ]
  },
  {
   "cell_type": "code",
   "execution_count": null,
   "metadata": {},
   "outputs": [],
   "source": [
    "#task1.2\n",
    "\n",
    "try1 = Matrix(2,2)\n",
    "try1.set_row(1,[1,2])\n",
    "try1.set_row(2,[3,4])\n",
    "print(try1.__repr__())\n",
    "\n",
    "try2 = Matrix(1,3)\n",
    "try2.set_row(1,[5,6,7])\n",
    "print(try2.__repr__())\n",
    "\n",
    "try3 = Matrix(3,1)\n",
    "try3.set_column(1,[9,8,7])\n",
    "print(try3.__repr__())\n",
    "\n",
    "try4 = Matrix(0,0) \n",
    "print(try4.__repr__())\n",
    "\n",
    "try5 = Matrix(2,2) \n",
    "try5.set_row(1,[1,2])\n",
    "try5.set_value(1,1,3)\n",
    "print(try5.__repr__())"
   ]
  },
  {
   "cell_type": "markdown",
   "metadata": {},
   "source": [
    "```\n",
    "DO YOU KNOW WHAT __repr__() does ???!!!"
   ]
  },
  {
   "cell_type": "code",
   "execution_count": null,
   "metadata": {},
   "outputs": [],
   "source": [
    "#task1.3\n",
    "\n",
    "def dot_product(A,B) :\n",
    "    ret = 0\n",
    "    for i in range(len(A)) :\n",
    "        ret += A[i]*B[i]\n",
    "    return ret\n",
    "dot_product([1,3,5],[2,4,6])"
   ]
  },
  {
   "cell_type": "code",
   "execution_count": null,
   "metadata": {},
   "outputs": [],
   "source": [
    "#task 1.4\n",
    "dot_product([11,13,5],[21,44,26])"
   ]
  },
  {
   "cell_type": "code",
   "execution_count": 10,
   "metadata": {},
   "outputs": [],
   "source": [
    "#task 1.5\n",
    "def transpose(A) :\n",
    "    rows,columns = A.get_dimension()[0],A.get_dimension()[1]\n",
    "    A_t = Matrix(columns,rows)\n",
    "    for i in range(columns) :\n",
    "        new_row = A.get_column(i)\n",
    "        A_t.set_row(i,new_row)\n",
    "    return A_t.__repr__()"
   ]
  },
  {
   "cell_type": "markdown",
   "metadata": {},
   "source": [
    "```\n",
    "should return a Matrix object NOT a str"
   ]
  },
  {
   "cell_type": "code",
   "execution_count": 11,
   "metadata": {},
   "outputs": [
    {
     "data": {
      "text/plain": [
       "'[\\n1 4\\n2 5\\n3 6\\n]'"
      ]
     },
     "execution_count": 11,
     "metadata": {},
     "output_type": "execute_result"
    }
   ],
   "source": [
    "A = Matrix(2,3)\n",
    "A.set_row(1,[1,2,3])\n",
    "A.set_row(2,[4,5,6])\n",
    "transpose(A)"
   ]
  },
  {
   "cell_type": "markdown",
   "metadata": {},
   "source": [
    "```\n",
    "1.6 0"
   ]
  }
 ],
 "metadata": {
  "kernelspec": {
   "display_name": "Python 3.6.4 64-bit",
   "language": "python",
   "name": "python3"
  },
  "language_info": {
   "codemirror_mode": {
    "name": "ipython",
    "version": 3
   },
   "file_extension": ".py",
   "mimetype": "text/x-python",
   "name": "python",
   "nbconvert_exporter": "python",
   "pygments_lexer": "ipython3",
   "version": "3.6.4"
  },
  "vscode": {
   "interpreter": {
    "hash": "f4e9cda46bb2d9d7fe6ecdff0f8336a934348bf06cb492f2f42f60739b3403b4"
   }
  }
 },
 "nbformat": 4,
 "nbformat_minor": 2
}
