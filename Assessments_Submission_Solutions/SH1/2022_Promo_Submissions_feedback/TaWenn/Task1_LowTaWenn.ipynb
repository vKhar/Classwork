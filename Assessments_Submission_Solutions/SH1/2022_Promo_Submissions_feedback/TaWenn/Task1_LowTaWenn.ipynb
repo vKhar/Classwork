{
 "cells": [
  {
   "cell_type": "code",
   "execution_count": 2,
   "metadata": {},
   "outputs": [],
   "source": [
    "#Task 1.1\n",
    "class Matrix:\n",
    "    def __init__(self, m, n):\n",
    "        m_array = []\n",
    "        for i in range(0, m):\n",
    "            m_array.append(None)\n",
    "        n_array = []\n",
    "        for i in range(0, n):\n",
    "            n_array.append(None)\n",
    "        self.__buffer = [m_array, n_array]\n",
    "        self.__row_count = m\n",
    "        self.__column_count=n\n",
    "    def get_dimension(self):\n",
    "        return self.__row_count, self.__column_count\n",
    "    def get_value(self, row, column):\n",
    "        if row <1 or column<1:\n",
    "            return \"Invalid Input\"\n",
    "        else:\n",
    "            return self.__buffer[0][row-1], self.__buffer[1][column-1]\n",
    "    def get_row(self, row):\n",
    "        if row <1:\n",
    "            return \"Invalid Input\"\n",
    "        else:\n",
    "            return self.__buffer[0][row-1]\n",
    "    def get_column(self, column):\n",
    "        if column<1:\n",
    "            return \"Invalid Input\"\n",
    "        else:\n",
    "            return self.__buffer[0][row-1]\n",
    "    def set_value(self, row, column, value):\n",
    "        if row <1 or column<1 or value<1:\n",
    "            return \"Invalid Input\"\n",
    "        else:\n",
    "            self.__buffer[0][row-1] = value\n",
    "            self.__buffer[1][column-1] = value\n",
    "    def set_row(self, row, vector):\n",
    "        if row <1:\n",
    "            return \"Invalid Input\"\n",
    "        else:\n",
    "            self.__buffer[0][row-1] = vector\n",
    "    def set_column(self, column, vector):\n",
    "        if row <1 or column<1:\n",
    "            return \"Invalid Input\"\n",
    "        else:\n",
    "            self.__buffer[1][column-1] = vector\n",
    "    def __repr__(self):\n",
    "        matrix_instance = \"[\"\n",
    "        for i in range(0, self.__row_count):\n",
    "            matrix_instance += str(self.__buffer[0][i])\n",
    "        matrix_instance += \"]\"\n",
    "        return matrix_instance\n",
    "        \n",
    "        \n",
    "\n",
    "        \n",
    "    \n"
   ]
  },
  {
   "cell_type": "code",
   "execution_count": 6,
   "metadata": {},
   "outputs": [
    {
     "name": "stdout",
     "output_type": "stream",
     "text": [
      "[[1, 2][3, 4]]\n"
     ]
    }
   ],
   "source": [
    "#Task 1.2\n",
    "first = Matrix(2,2)\n",
    "first.set_row(1,[1,2])\n",
    "first.set_row(2, [3,4])\n",
    "print(first)\n"
   ]
  },
  {
   "cell_type": "code",
   "execution_count": 7,
   "metadata": {},
   "outputs": [],
   "source": [
    "first.get_column(1)"
   ]
  },
  {
   "cell_type": "code",
   "execution_count": 8,
   "metadata": {},
   "outputs": [],
   "source": [
    "#Task 1.3\n",
    "def dot_product(A, B):\n",
    "    total = A[0] * B[0] + A[1] * B[1] + A[2] * B[2]\n",
    "    return total"
   ]
  },
  {
   "cell_type": "code",
   "execution_count": 9,
   "metadata": {},
   "outputs": [
    {
     "name": "stdout",
     "output_type": "stream",
     "text": [
      "933\n"
     ]
    }
   ],
   "source": [
    "#Task 1.4\n",
    "print(dot_product([11,13,5], [21,44,26]))\n"
   ]
  },
  {
   "cell_type": "code",
   "execution_count": null,
   "metadata": {},
   "outputs": [],
   "source": [
    "#Task 1.5\n",
    "def transpose(A):\n",
    "    Matrix()\n",
    "    return "
   ]
  },
  {
   "cell_type": "code",
   "execution_count": null,
   "metadata": {},
   "outputs": [],
   "source": [
    "#Task 1.6\n",
    "def M_multiply(A, B):\n",
    "    new_matrix = Matrix()\n",
    "    \n"
   ]
  }
 ],
 "metadata": {
  "kernelspec": {
   "display_name": "Python 3.6.4 64-bit",
   "language": "python",
   "name": "python3"
  },
  "language_info": {
   "codemirror_mode": {
    "name": "ipython",
    "version": 3
   },
   "file_extension": ".py",
   "mimetype": "text/x-python",
   "name": "python",
   "nbconvert_exporter": "python",
   "pygments_lexer": "ipython3",
   "version": "3.6.4"
  },
  "vscode": {
   "interpreter": {
    "hash": "f4e9cda46bb2d9d7fe6ecdff0f8336a934348bf06cb492f2f42f60739b3403b4"
   }
  }
 },
 "nbformat": 4,
 "nbformat_minor": 2
}
