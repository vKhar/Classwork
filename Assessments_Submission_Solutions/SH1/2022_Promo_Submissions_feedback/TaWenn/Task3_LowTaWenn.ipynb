{
 "cells": [
  {
   "cell_type": "code",
   "execution_count": null,
   "metadata": {},
   "outputs": [],
   "source": [
    "#Task 3.1\n",
    "def convert(n): # assume n is a string\n",
    "    ret = 0\n",
    "    for i in range(0, len(n)):\n",
    "        ret += \n",
    "    \n",
    "    \n"
   ]
  },
  {
   "cell_type": "code",
   "execution_count": null,
   "metadata": {},
   "outputs": [],
   "source": [
    "#Task 3.2\n",
    "hex_score_list = []\n",
    "with open(\"HEX_SCORES.TXT\") as f:\n",
    "    for i in f:\n",
    "        hex_score_list.append(i.strip().split(\",\"))\n",
    "print(hex_score_list)\n",
    "for i in range(0, len(hex_score_list)):\n",
    "    hex_num = hex_score_list[i][2]   \n",
    "    \n",
    "def bubble_sort_desc(n):\n",
    "    for i in range(0, len(n)):\n",
    "        swap = False\n",
    "        for j in range(0, len(n)-1-i):\n",
    "            if n[j] < n[j+1]:\n",
    "                n[j], n[j+1] = n[j+1], n[j]\n",
    "            swap = True\n",
    "        if swap == False:\n",
    "            break\n",
    "    return n\n"
   ]
  },
  {
   "cell_type": "code",
   "execution_count": null,
   "metadata": {},
   "outputs": [],
   "source": [
    "#Task 3.2 ## corrected\n",
    "hex_score_list = []\n",
    "with open(\"HEX_SCORES.TXT\") as f:\n",
    "    for i in f:\n",
    "        hex_score_list.append(i.strip().split(\",\"))\n",
    "print(hex_score_list)\n",
    "\n",
    "for i in range(0, len(hex_score_list)):\n",
    "    hex_num = hex_score_list[i][2]   \n",
    "    \n",
    "def bubble_sort_desc(n):\n",
    "    for i in range(0, len(n)):\n",
    "        swap = False\n",
    "        for j in range(0, len(n)-1-i):\n",
    "            if n[j] < n[j+1]:\n",
    "                n[j], n[j+1] = n[j+1], n[j]\n",
    "            swap = True\n",
    "        if swap == False:\n",
    "            break\n",
    "    return n\n",
    "\n"
   ]
  },
  {
   "cell_type": "markdown",
   "metadata": {},
   "source": [
    "```\n",
    "line 9 \n",
    "what is hex_num is for ?!!!\n",
    "line 17 !!?? swap will always be True, so what is the use of it ??!!\n",
    "YOU ARE JUST MEMORISING CODE WITHOUT UNDERSTANDING!!\n",
    "```\n",
    "***If You dont have the solution to 3.1, you can use a place holder to convert the values from column 5 to 8 OR just use the built-in int() function***\n"
   ]
  },
  {
   "cell_type": "code",
   "execution_count": null,
   "metadata": {},
   "outputs": [],
   "source": [
    "#Task 3.3\n",
    "def output_format()\n",
    "    "
   ]
  }
 ],
 "metadata": {
  "kernelspec": {
   "display_name": "Python 3.6.4 64-bit",
   "language": "python",
   "name": "python3"
  },
  "language_info": {
   "codemirror_mode": {
    "name": "ipython",
    "version": 3
   },
   "file_extension": ".py",
   "mimetype": "text/x-python",
   "name": "python",
   "nbconvert_exporter": "python",
   "pygments_lexer": "ipython3",
   "version": "3.6.4"
  },
  "vscode": {
   "interpreter": {
    "hash": "f4e9cda46bb2d9d7fe6ecdff0f8336a934348bf06cb492f2f42f60739b3403b4"
   }
  }
 },
 "nbformat": 4,
 "nbformat_minor": 2
}
