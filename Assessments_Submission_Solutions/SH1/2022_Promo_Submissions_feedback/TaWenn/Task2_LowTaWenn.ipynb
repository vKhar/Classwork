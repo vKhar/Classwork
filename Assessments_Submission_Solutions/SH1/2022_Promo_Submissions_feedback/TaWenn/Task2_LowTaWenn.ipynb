{
 "cells": [
  {
   "cell_type": "code",
   "execution_count": null,
   "metadata": {},
   "outputs": [],
   "source": [
    "#Task 2.1\n",
    "def throw2score(throw):\n",
    "    if throw == \"X\":\n",
    "        return 10\n",
    "    else:\n",
    "        return int(throw)\n",
    "\n",
    "def calc_score(throws): #assume throws is valid\n",
    "    total_score = 0\n",
    "    for frame in range(1, 11):\n",
    "        frame_score = 0\n",
    "        if throws[1] == \"X\":\n",
    "            frame_score = 10+ throw2score(throws[2]) + throw2score(throws[3])\n",
    "            throws = throws[1:]\n",
    "        else:\n",
    "            frame_score = throw2score(throws[1]) + throw2score(throws[2])\n",
    "            if frame_score == 10:\n",
    "                frame_score += throw2score(throws[3])\n",
    "            throws = throws[2:]\n",
    "        total_score += frame_score\n",
    "    return total_score\n",
    "\n",
    "    \n",
    "    \n"
   ]
  },
  {
   "cell_type": "markdown",
   "metadata": {},
   "source": [
    "```\n",
    "Wrong indexing on str"
   ]
  },
  {
   "cell_type": "code",
   "execution_count": null,
   "metadata": {},
   "outputs": [],
   "source": [
    "#Task 2.2\n",
    "def score_sheet(player_name, throws): #assume throws is valid\n",
    "    output_header = f\"{player_name} Scoresheet\"\n",
    "    frames = []\n",
    "    all_frame_scores = []\n",
    "    output_pins_hit = \"Pins hit \"\n",
    "    cum_score = []\n",
    "    total_score = 0\n",
    "    for frame in range(1, 11):\n",
    "        frame_score = 0\n",
    "        if throws[0] == \"X\":\n",
    "            frame_score = 10+ throw2score(throws[1]) + throw2score(throws[2])\n",
    "            output_pins_hit += f\"[{throws[0]}] \"\n",
    "            throws = throws[1:]\n",
    "        else:\n",
    "            frame_score = throw2score(throws[0]) + throw2score(throws[1])\n",
    "            if frame_score == 10:\n",
    "                frame_score += throw2score(throws[2])\n",
    "                \n",
    "            output_pins_hit += f\"[{throws[0]}|{throws[1]}] \"\n",
    "            throws = throws[2:]\n",
    "        all_frame_scores.append(frame_score)\n",
    "        total_score += frame_score\n",
    "        cum_score.append(total_score)\n",
    "        \n",
    "    output_frame = \"Frame \"\n",
    "    for i in range(1, 11):\n",
    "        output_frame += str(i) + \" \"\n",
    "    output_cum_score = \"Cum. Score \"\n",
    "    for i in range(0, 10):\n",
    "        output_cum_score += str(cum_score[i]) + \" \"\n",
    "    output_framescore = \"FrameScore \"\n",
    "    for i in range(0, 10):\n",
    "        output_framescore += str(all_frame_scores[i]) + \" \"\n",
    "    f = open(f\"SCORE_{player_name}.TXT\", \"w\")\n",
    "    f.write(output_header)\n",
    "    f.write(output_frame)\n",
    "    f.write(output_pins_hit)\n",
    "    f.write(output_framescore)\n",
    "    f.write(output_cum_score)    \n",
    "    f.close()\n"
   ]
  },
  {
   "cell_type": "markdown",
   "metadata": {},
   "source": [
    "```\n",
    "last frame with a throws of XXX is wrong\n",
    "Can be done with 1 for loop"
   ]
  },
  {
   "cell_type": "code",
   "execution_count": null,
   "metadata": {},
   "outputs": [],
   "source": [
    "#Task 2.3\n",
    "score_sheet(\"Player 1\", \"X737291XXX2364733\")\n",
    "score_sheet(\"Player 2\", \"0580X05X6405819150\")\n",
    "score_sheet(\"Player 3\", \"XXXX91X002282XXX\")"
   ]
  },
  {
   "cell_type": "code",
   "execution_count": null,
   "metadata": {},
   "outputs": [],
   "source": [
    "#Task 2.4\n",
    "def validate(throws):\n",
    "    if len(throws) == 0:\n",
    "        n = True\n",
    "        return n\n",
    "    else:\n",
    "        one_throw = throws[0]\n",
    "        valid_hit = [1,2,3,4,5,6,7,8,9,\"X\"]\n",
    "        if one_throw not in valid_hit: \n",
    "            n = False\n",
    "        if one_throw == \"X\" and len(throws) == 1:\n",
    "            n = False\n",
    "        if one_throw != \"X\" and len(throws) != 1:\n",
    "            if throw2score(throws[1]) + throw2score(one_throw) != 10:\n",
    "                n = False\n",
    "        if len(throws) == 3:\n",
    "            if one_throw == \"X\":\n",
    "                if throw2score(throws[1]) + throw2score(one_throw) != 10:\n",
    "                    n = False\n",
    "                if throws[1] not in valid_hit or throws[2] not in valid_hit: \n",
    "                    n = False \n",
    "            return validate(throws[3:])\n",
    "        return validate(throws[1:])\n",
    "        \n"
   ]
  },
  {
   "cell_type": "code",
   "execution_count": null,
   "metadata": {},
   "outputs": [],
   "source": [
    "validate(\"\")"
   ]
  },
  {
   "cell_type": "markdown",
   "metadata": {},
   "source": [
    "```\n",
    "Why do you continue when there is a false ?\n",
    "Why do you set a value for n and then ignore it ?\n",
    "You code will never generate a False !!\n",
    "\n"
   ]
  },
  {
   "cell_type": "code",
   "execution_count": null,
   "metadata": {},
   "outputs": [],
   "source": [
    "#Task 2.5\n",
    "print(validate(\"XXXX91X00228291X\"))\n"
   ]
  }
 ],
 "metadata": {
  "kernelspec": {
   "display_name": "Python 3.6.4 64-bit",
   "language": "python",
   "name": "python3"
  },
  "language_info": {
   "codemirror_mode": {
    "name": "ipython",
    "version": 3
   },
   "file_extension": ".py",
   "mimetype": "text/x-python",
   "name": "python",
   "nbconvert_exporter": "python",
   "pygments_lexer": "ipython3",
   "version": "3.6.4"
  },
  "vscode": {
   "interpreter": {
    "hash": "f4e9cda46bb2d9d7fe6ecdff0f8336a934348bf06cb492f2f42f60739b3403b4"
   }
  }
 },
 "nbformat": 4,
 "nbformat_minor": 2
}
