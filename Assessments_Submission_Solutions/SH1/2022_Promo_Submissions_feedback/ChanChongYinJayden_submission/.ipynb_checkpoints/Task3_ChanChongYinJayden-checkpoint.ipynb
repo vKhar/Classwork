{
 "cells": [
  {
   "cell_type": "code",
   "execution_count": 7,
   "metadata": {},
   "outputs": [
    {
     "name": "stdout",
     "output_type": "stream",
     "text": [
      "Enter a hex number: ae\n"
     ]
    },
    {
     "data": {
      "text/plain": [
       "174"
      ]
     },
     "execution_count": 7,
     "metadata": {},
     "output_type": "execute_result"
    }
   ],
   "source": [
    "# Task 3.1\n",
    "def cvHexToDen(hexNum):\n",
    "    place = len(hexNum)-1\n",
    "    total = 0\n",
    "    for digit in hexNum:\n",
    "        hexDenMap = {\"a\":10,\"b\":11,\"c\":12,\"d\":13,\"e\":14,\"f\":15}\n",
    "        if digit.isalpha():\n",
    "            total += (hexDenMap[digit.lower()]*(16**place))\n",
    "        else:\n",
    "            total += (int(digit)*(16**place))\n",
    "        place -= 1\n",
    "    return total\n",
    "\n",
    "hexNum = input(\"Enter a hex number: \")\n",
    "cvHexToDen(hexNum)"
   ]
  },
  {
   "cell_type": "code",
   "execution_count": 14,
   "metadata": {},
   "outputs": [
    {
     "name": "stdout",
     "output_type": "stream",
     "text": [
      "Rank   ID    Score\n",
      " 1  Player175 1734\n",
      " 2  Player299 1724\n",
      " 3  Player173 1723\n",
      " 4  Player168 1678\n",
      " 5  Player166 1670\n",
      " 6  Player213 1609\n",
      " 7  Player193 1558\n",
      " 8  Player305 1535\n",
      " 9  Player189 1519\n",
      " 10 Player102 1499\n",
      " 11 Player170 1475\n",
      " 12 Player231 1466\n",
      " 13 Player233 1454\n",
      " 14 Player232 1431\n",
      " 15 Player285 1426\n",
      " 16 Player287 1400\n",
      " 17 Player136 1394\n",
      " 18 Player157 1375\n",
      " 19 Player113 1362\n",
      " 20 Player245 1270\n"
     ]
    }
   ],
   "source": [
    "# Task 3.2\n",
    "players = []\n",
    "with open(\"HEX_SCORES.TXT\") as f:\n",
    "    for line in f:\n",
    "        info = line.strip().split(\",\")\n",
    "        totalScore = 0\n",
    "        for score in info[2:]:\n",
    "            totalScore += cvHexToDen(score)\n",
    "        players.append([info[0],info[1],totalScore])\n",
    "\n",
    "for i in range(len(players)):\n",
    "    for j in range(len(players)-i-1):\n",
    "        if players[j][2] < players[j+1][2]:\n",
    "            players[j], players[j+1] = players[j+1], players[j]\n",
    "\n",
    "print(f\"{'Rank':^4}{'ID':^9}{'Score':>5}\")\n",
    "rank = 1\n",
    "for player in players:\n",
    "    print(f\"{rank:^4}{player[0]:^9}{player[2]:>5}\")\n",
    "    rank += 1"
   ]
  },
  {
   "cell_type": "code",
   "execution_count": 26,
   "metadata": {},
   "outputs": [
    {
     "name": "stdout",
     "output_type": "stream",
     "text": [
      "CountryNum.PlayersScore\n",
      "  SIN      5      1595\n",
      "  IND      4      1539\n",
      "  MAS      3      1438\n",
      "  TPE      3      1506\n",
      "  KOR      2      1509\n",
      "  MAC      3      1440\n"
     ]
    }
   ],
   "source": [
    "# Task 3.3\n",
    "countries = {}\n",
    "for player in players:\n",
    "    if player[1] in countries:\n",
    "        countries[player[1]][0] += 1\n",
    "        countries[player[1]][1] += player[2]\n",
    "    else:\n",
    "        countries[player[1]] = [1,player[2]]\n",
    "\n",
    "print(f\"{'Country':^7}{'Num.Players':^11}{'Score':>5}\")\n",
    "for cont in countries:\n",
    "    ave = round(countries[cont][1] / countries[cont][0])\n",
    "    print(f\"{cont:^7}{countries[cont][0]:^10}{ave:>5}\")"
   ]
  },
  {
   "cell_type": "code",
   "execution_count": null,
   "metadata": {},
   "outputs": [],
   "source": []
  }
 ],
 "metadata": {
  "kernelspec": {
   "display_name": "Python 3",
   "language": "python",
   "name": "python3"
  },
  "language_info": {
   "codemirror_mode": {
    "name": "ipython",
    "version": 3
   },
   "file_extension": ".py",
   "mimetype": "text/x-python",
   "name": "python",
   "nbconvert_exporter": "python",
   "pygments_lexer": "ipython3",
   "version": "3.6.4"
  }
 },
 "nbformat": 4,
 "nbformat_minor": 2
}
