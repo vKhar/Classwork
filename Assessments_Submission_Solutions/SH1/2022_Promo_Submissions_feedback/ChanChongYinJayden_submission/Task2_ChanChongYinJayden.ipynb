{
 "cells": [
  {
   "cell_type": "code",
   "execution_count": 2,
   "metadata": {},
   "outputs": [
    {
     "data": {
      "text/plain": [
       "168"
      ]
     },
     "execution_count": 2,
     "metadata": {},
     "output_type": "execute_result"
    }
   ],
   "source": [
    "# Task 2.1\n",
    "def throw2score(throw):\n",
    "    if throw == \"X\":\n",
    "        return 10\n",
    "    else:\n",
    "        return int(throw)\n",
    "\n",
    "def calc_score(throws):\n",
    "    totalScore = 0\n",
    "    for frame in range(10):\n",
    "        frameScore = 0\n",
    "        if throws[0] == \"X\":\n",
    "            frameScore = 10 + throw2score(throws[1]) + throw2score(throws[2])\n",
    "            throws = throws[1:]\n",
    "        else:\n",
    "            frameScore = throw2score(throws[0]) + throw2score(throws[1])\n",
    "            if frameScore == 10:\n",
    "                frameScore += throw2score(throws[2])\n",
    "            throws = throws[2:]\n",
    "        totalScore += frameScore\n",
    "    return totalScore\n",
    "\n",
    "throws1 = \"X737291XXX2364733\"\n",
    "calc_score(throws)"
   ]
  },
  {
   "cell_type": "code",
   "execution_count": 4,
   "metadata": {},
   "outputs": [],
   "source": [
    "# Task 2.2\n",
    "def write_score(player_name,throws):\n",
    "    totalScore = 0\n",
    "    pinsHit = []\n",
    "    frameScoresL = []\n",
    "    for frame in range(10):\n",
    "        frameScore = 0\n",
    "        if throws[0] == \"X\":\n",
    "            frameScore = 10 + throw2score(throws[1]) + throw2score(throws[2])\n",
    "            if frame == 9 and len(throws) == 3:\n",
    "                th1 = throw2score(throws[1])\n",
    "                th2 = throw2score(throws[2])\n",
    "                if th1 == 10:\n",
    "                    th1 = \"X\"\n",
    "                if th2 == 10:\n",
    "                    th2 = \"X\"\n",
    "                pinsHit.append(f\"[X|{th1}|{th2}]\")\n",
    "            else:\n",
    "                pinsHit.append(\"[ X ]\")\n",
    "            throws = throws[1:]\n",
    "        else:\n",
    "            frameScore = throw2score(throws[0]) + throw2score(throws[1])\n",
    "            if frameScore == 10:\n",
    "                frameScore += throw2score(throws[2])\n",
    "            if frame == 9 and len(throws) == 3:\n",
    "                pinsHit.append(f\"[{throw2score(throws[0])}|{throw2score(throws[1])}|{throw2score(throws[2])}]\")\n",
    "            else:\n",
    "                pinsHit.append(f\"[{throw2score(throws[0])}|{throw2score(throws[1])}]\")\n",
    "            throws = throws[2:]\n",
    "        frameScoresL.append(frameScore)\n",
    "        totalScore += frameScore\n",
    "        \n",
    "    with open(f\"SCORE_{player_name}.TXT\",\"w\") as f:\n",
    "        f.write(f\"{player_name} Scoresheet\\n\")\n",
    "        f.write(f\"{'Frame':<10}\")\n",
    "        for i in range(1,11):\n",
    "            f.write(f\"{i:^5}\")\n",
    "        f.write(f\"\\n{'Pins hit':<10}\")\n",
    "        for i in pinsHit:\n",
    "            f.write(f\"{i:^5}\")\n",
    "        f.write(f\"\\n{'FrameScore':<10}\")\n",
    "        for i in frameScoresL:\n",
    "            f.write(f\"{i:^5}\")\n",
    "        f.write(f\"\\n{'Cum. Score':<10}\")\n",
    "        cumul = 0\n",
    "        for i in frameScoresL:\n",
    "            cumul += i\n",
    "            f.write(f\"{cumul:^5}\")"
   ]
  },
  {
   "cell_type": "code",
   "execution_count": 5,
   "metadata": {},
   "outputs": [],
   "source": [
    "# Task 2.3\n",
    "write_score(\"Player 1\",\"X737291XXX2364733\")\n",
    "write_score(\"Player 2\",\"0580X05X6405819150\")\n",
    "write_score(\"Player 3\",\"XXXX91X002282XXX\")"
   ]
  },
  {
   "cell_type": "code",
   "execution_count": null,
   "metadata": {},
   "outputs": [],
   "source": [
    "# Task 2.4\n",
    "def validate(throws,thrNum=1):\n",
    "    "
   ]
  },
  {
   "cell_type": "markdown",
   "metadata": {},
   "source": [
    "```\n",
    "2.4 0"
   ]
  },
  {
   "cell_type": "markdown",
   "metadata": {},
   "source": []
  }
 ],
 "metadata": {
  "kernelspec": {
   "display_name": "Python 3.6.4 64-bit",
   "language": "python",
   "name": "python3"
  },
  "language_info": {
   "codemirror_mode": {
    "name": "ipython",
    "version": 3
   },
   "file_extension": ".py",
   "mimetype": "text/x-python",
   "name": "python",
   "nbconvert_exporter": "python",
   "pygments_lexer": "ipython3",
   "version": "3.6.4"
  },
  "vscode": {
   "interpreter": {
    "hash": "f4e9cda46bb2d9d7fe6ecdff0f8336a934348bf06cb492f2f42f60739b3403b4"
   }
  }
 },
 "nbformat": 4,
 "nbformat_minor": 2
}
