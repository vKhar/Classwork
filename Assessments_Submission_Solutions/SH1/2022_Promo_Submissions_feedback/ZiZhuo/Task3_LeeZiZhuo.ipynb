{
 "cells": [
  {
   "cell_type": "code",
   "execution_count": null,
   "metadata": {},
   "outputs": [],
   "source": [
    "#TASK 3.1\n",
    "def hexa_denary(s):\n",
    "    ret = 0\n",
    "    \n",
    "    for i in range(len(s)):\n",
    "        if s[i].isdigit():\n",
    "            ret += int(s[i]) * (16 ** (len(s)-i-1))\n",
    "        else:\n",
    "            digit_value = ord(s[i]) - 87\n",
    "            ret += digit_value * (16 ** (len(s)-i-1))\n",
    "    return ret\n",
    "        \n",
    "\n",
    "\n",
    "    "
   ]
  },
  {
   "cell_type": "markdown",
   "metadata": {},
   "source": [
    "```\n",
    "does not work for uppercase hexa digits !!"
   ]
  },
  {
   "cell_type": "code",
   "execution_count": null,
   "metadata": {},
   "outputs": [],
   "source": [
    "hexa_denary(\"F\")"
   ]
  },
  {
   "cell_type": "code",
   "execution_count": 10,
   "metadata": {},
   "outputs": [
    {
     "name": "stdout",
     "output_type": "stream",
     "text": [
      "Rank    ID    Score\n",
      "1 Player299 1724\n",
      "2 Player173 1723\n",
      "3 Player168 1678\n",
      "4 Player166 1670\n",
      "5 Player213 1609\n",
      "6 Player193 1558\n",
      "7 Player305 1535\n",
      "8 Player189 1519\n",
      "9 Player102 1499\n",
      "10 Player170 1475\n",
      "11 Player231 1466\n",
      "12 Player233 1454\n",
      "13 Player232 1431\n",
      "14 Player285 1426\n",
      "15 Player287 1400\n",
      "16 Player136 1394\n",
      "17 Player157 1375\n",
      "18 Player113 1362\n",
      "19 Player245 1270\n"
     ]
    }
   ],
   "source": [
    "#TASK 3.2 ## ASSUME PLAYERS ALWAYS HAVE 6 Scores\n",
    "with open(\"HEX_SCORES.TXT\") as f:\n",
    "    players = []\n",
    "    data = []\n",
    "    lines = f.readlines()\n",
    "    for line in lines:\n",
    "        \n",
    "        line = line.strip()\n",
    "        line = line.split(\",\")\n",
    "        \n",
    "        data.append(line)\n",
    "    f.close()\n",
    "    \n",
    "    for i in range(len(data)):\n",
    "        score = 0\n",
    "        score = hexa_denary(data[i][2]) + hexa_denary(data[i][3]) + hexa_denary(data[i][4]) + hexa_denary(data[i][5]) + hexa_denary(data[i][6]) + hexa_denary(data[i][7])\n",
    "        if data[i][0] not in players:\n",
    "            players.append([data[i][0],score])\n",
    "    \n",
    "    \n",
    "    ##BUBBLE SORT\n",
    "    for i in range(len(players)-1):\n",
    "        for i in range(len(players)-1):\n",
    "            \n",
    "            if players[i][1] < players[i+1][1]:\n",
    "                players[i] , players[i+1] = players[i+1] , players[i]\n",
    "    \n",
    "    print(\"Rank    ID    Score\")\n",
    "    for i in range(1,len(players)):\n",
    "        print(f\"{i} {players[i][0]} {players[i][1]}\")\n",
    "        "
   ]
  },
  {
   "cell_type": "markdown",
   "metadata": {},
   "source": [
    "```\n",
    "Bubble sort  is non-optimum\n",
    "line 29 why start at index 1 ?? \n"
   ]
  },
  {
   "cell_type": "code",
   "execution_count": 11,
   "metadata": {},
   "outputs": [
    {
     "name": "stdout",
     "output_type": "stream",
     "text": [
      "{'KOR': [2, 3018], 'IND': [4, 6157], 'MAS': [3, 4315], 'SIN': [5, 7973], 'TPE': [3, 4519], 'MAC': [3, 4320]}\n",
      "Country Num.Players Score\n",
      "KOR      2       1509\n",
      "IND      4       1539\n",
      "MAS      3       1438\n",
      "SIN      5       1594\n",
      "TPE      3       1506\n",
      "MAC      3       1440\n"
     ]
    }
   ],
   "source": [
    "#TASK 3.3\n",
    "country = {}\n",
    "#print(data)\n",
    "for i in range(len(data)):\n",
    "    score = 0\n",
    "    score = hexa_denary(data[i][2]) + hexa_denary(data[i][3]) + hexa_denary(data[i][4]) + hexa_denary(data[i][5]) + hexa_denary(data[i][6]) + hexa_denary(data[i][7])\n",
    "    if data[i][1] not in country:\n",
    "        country[data[i][1]] = [1 , score]\n",
    "    else:\n",
    "        value = country[data[i][1]]\n",
    "        \n",
    "        value[0] += 1 \n",
    "        value[1] += score\n",
    "        country[data[i][1]] = value\n",
    "    \n",
    "print(country)\n",
    "print(\"Country Num.Players Score\")\n",
    "for k,v in country.items():\n",
    "    print(f\"{k}      {v[0]}       {v[1]//v[0]}\")"
   ]
  },
  {
   "cell_type": "code",
   "execution_count": null,
   "metadata": {},
   "outputs": [],
   "source": []
  }
 ],
 "metadata": {
  "kernelspec": {
   "display_name": "Python 3.6.4 64-bit",
   "language": "python",
   "name": "python3"
  },
  "language_info": {
   "codemirror_mode": {
    "name": "ipython",
    "version": 3
   },
   "file_extension": ".py",
   "mimetype": "text/x-python",
   "name": "python",
   "nbconvert_exporter": "python",
   "pygments_lexer": "ipython3",
   "version": "3.6.4"
  },
  "vscode": {
   "interpreter": {
    "hash": "f4e9cda46bb2d9d7fe6ecdff0f8336a934348bf06cb492f2f42f60739b3403b4"
   }
  }
 },
 "nbformat": 4,
 "nbformat_minor": 2
}
