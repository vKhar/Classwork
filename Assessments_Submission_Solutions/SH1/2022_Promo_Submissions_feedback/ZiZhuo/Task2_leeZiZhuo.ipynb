{
 "cells": [
  {
   "cell_type": "code",
   "execution_count": null,
   "metadata": {},
   "outputs": [],
   "source": [
    "#Task 2.1\n",
    "\n",
    "def throw2score(throw):\n",
    "    if throw == \"X\":\n",
    "        return 10\n",
    "    else:\n",
    "        return int(throw)\n",
    "    \n",
    "def calc_score(throws):\n",
    "    \n",
    "    ##ASSUME VALID INPUT\n",
    "    print(throws)\n",
    "    \n",
    "    total_score = 0\n",
    "    for i in range(1,10):\n",
    "        frame_score = 0\n",
    "        if throws[0] == \"X\":\n",
    "            frame_score = 10 + throw2score(throws[1]) + throw2score(throws[2])\n",
    "            throws = throws[1:]\n",
    "        else:\n",
    "            frame_score = throw2score(throws[0]) + throw2score(throws[1])\n",
    "            if frame_score == 10:\n",
    "                frame_score = frame_score + throw2score(throws[2])\n",
    "            throws = throws[2:]\n",
    "            \n",
    "            \n",
    "        total_score += int(total_score) + frame_score\n",
    "        \n",
    "    return total_score\n",
    "        \n",
    "    \n",
    "calc_score(\"X737291XXX2364733\")\n",
    "    "
   ]
  },
  {
   "cell_type": "markdown",
   "metadata": {},
   "source": [
    "```\n",
    "line 15, How many frames are you iterating over ??!!\n",
    "line 27, DO YOU KNOW WHAT is += ?!!! AND why are you coverting int to int ?!!!!"
   ]
  },
  {
   "cell_type": "code",
   "execution_count": null,
   "metadata": {},
   "outputs": [],
   "source": [
    "#Task 2.1 Corrcted\n",
    "\n",
    "def throw2score(throw):\n",
    "    if throw == \"X\":\n",
    "        return 10\n",
    "    else:\n",
    "        return int(throw)\n",
    "    \n",
    "def calc_score(throws):\n",
    "    \n",
    "    ##ASSUME VALID INPUT\n",
    "\n",
    "    \n",
    "    total_score = 0\n",
    "    for i in range(1,11):\n",
    "        frame_score = 0\n",
    "        if throws[0] == \"X\":\n",
    "            frame_score = 10 + throw2score(throws[1]) + throw2score(throws[2])\n",
    "            throws = throws[1:]\n",
    "        else:\n",
    "            frame_score = throw2score(throws[0]) + throw2score(throws[1])\n",
    "            if frame_score == 10:\n",
    "                frame_score = frame_score + throw2score(throws[2])\n",
    "            throws = throws[2:]\n",
    "            \n",
    "            \n",
    "        total_score = int(total_score) + frame_score\n",
    "        \n",
    "    return total_score\n",
    "        \n",
    "    "
   ]
  },
  {
   "cell_type": "code",
   "execution_count": 5,
   "metadata": {},
   "outputs": [],
   "source": [
    "#Task 2.2\n",
    "def Task2_2(player_name,throws):\n",
    "    with open(f\"Score_{player_name}.txt\",\"w\") as f:\n",
    "        f.write(f\"{player_name} scoresheet \\n\")\n",
    "        f.write(\"Frame\")\n",
    "        for i in range(1,10):\n",
    "            f.write(f\"{i}\")\n",
    "        \n",
    "    f.close()\n"
   ]
  },
  {
   "cell_type": "code",
   "execution_count": null,
   "metadata": {},
   "outputs": [],
   "source": [
    "#Task 2.3\n",
    "Task2_2(\"Alex\",\"X737291XXX2364733\")\n",
    "Task2_2(\"John\",\"X737291XXX2262733\")\n",
    "Task2_2(\"Gabriel\",\"X737291XXX2262733\")"
   ]
  },
  {
   "cell_type": "code",
   "execution_count": null,
   "metadata": {},
   "outputs": [],
   "source": [
    "#Task 2.4\n",
    "def Validate(s):\n",
    "    try:\n",
    "        calc_score(s)\n",
    "        return true\n",
    "    else:\n",
    "        return False\n",
    "    "
   ]
  },
  {
   "cell_type": "code",
   "execution_count": null,
   "metadata": {},
   "outputs": [],
   "source": [
    "#Task 2.5\n",
    "print(Validate(\"X737291XXX2364733\"))\n",
    "print(Validate(\"\"))\n",
    "print(Validate(\"X43234\"))\n"
   ]
  },
  {
   "cell_type": "markdown",
   "metadata": {},
   "source": [
    "```\n",
    "line 3 and line 4 are both invalid cases"
   ]
  }
 ],
 "metadata": {
  "kernelspec": {
   "display_name": "Python 3.6.4 64-bit",
   "language": "python",
   "name": "python3"
  },
  "language_info": {
   "codemirror_mode": {
    "name": "ipython",
    "version": 3
   },
   "file_extension": ".py",
   "mimetype": "text/x-python",
   "name": "python",
   "nbconvert_exporter": "python",
   "pygments_lexer": "ipython3",
   "version": "3.6.4"
  },
  "vscode": {
   "interpreter": {
    "hash": "f4e9cda46bb2d9d7fe6ecdff0f8336a934348bf06cb492f2f42f60739b3403b4"
   }
  }
 },
 "nbformat": 4,
 "nbformat_minor": 2
}
