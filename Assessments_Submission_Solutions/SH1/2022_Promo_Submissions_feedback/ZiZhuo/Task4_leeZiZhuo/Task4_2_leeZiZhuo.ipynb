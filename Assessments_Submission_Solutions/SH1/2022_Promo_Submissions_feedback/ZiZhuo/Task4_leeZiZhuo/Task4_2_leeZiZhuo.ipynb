{
 "cells": [
  {
   "cell_type": "code",
   "execution_count": 1,
   "metadata": {},
   "outputs": [],
   "source": [
    "#Task 4.2\n",
    "import sqlite3\n",
    "with open(\"COUNTRY.TXT\") as f:\n",
    "    data = []\n",
    "    lines = f.readlines()\n",
    "    \n",
    "    for line in lines:\n",
    "        line = line.strip()\n",
    "        line = line.split(\",\")\n",
    "        data.append(line)\n",
    "    f.close()\n",
    "    con = sqlite3.connect(\"Task4.db\")\n",
    "    \n",
    "    try:\n",
    "        for i in range(len(data)):\n",
    "            con.execute(\"INSERT INTO Country(CountryCode,CountryName) Values(?,?)\",[data[i][1],data[i][0]])\n",
    "        con.commit()\n",
    "    finally:\n",
    "        con.close()\n",
    "        \n",
    "        \n",
    "        "
   ]
  },
  {
   "cell_type": "markdown",
   "metadata": {},
   "source": [
    "```\n",
    "2.4 0"
   ]
  }
 ],
 "metadata": {
  "kernelspec": {
   "display_name": "Python 3.6.4 64-bit",
   "language": "python",
   "name": "python3"
  },
  "language_info": {
   "codemirror_mode": {
    "name": "ipython",
    "version": 3
   },
   "file_extension": ".py",
   "mimetype": "text/x-python",
   "name": "python",
   "nbconvert_exporter": "python",
   "pygments_lexer": "ipython3",
   "version": "3.6.4"
  },
  "vscode": {
   "interpreter": {
    "hash": "f4e9cda46bb2d9d7fe6ecdff0f8336a934348bf06cb492f2f42f60739b3403b4"
   }
  }
 },
 "nbformat": 4,
 "nbformat_minor": 2
}
