{
 "cells": [
  {
   "cell_type": "code",
   "execution_count": null,
   "metadata": {},
   "outputs": [],
   "source": [
    "#Task 1.1\n",
    "class Matrix:\n",
    "    def __init__(self,m,n):\n",
    "        self.__m = m\n",
    "        self.__n = n\n",
    "        self.__buffer = [[0 for _ in range(n)] for _ in range(m)]\n",
    "    def get_dimension(self):\n",
    "        return self.__buffer[0:1]\n",
    "    def get_value(self,row,column):\n",
    "        return self.__buffer[row-1][column-1]\n",
    "    def get_row(self,row):\n",
    "        return self.__buffer[row-1]\n",
    "    def get_column(self,column):\n",
    "        ret = []\n",
    "        for i in range(len(self.__buffer)):\n",
    "            ret.append(self.__buffer[i][column-1])\n",
    "        return ret\n",
    "    def set_value(self,row,column,val):\n",
    "        self.__buffer[row-1][column-1] = val\n",
    "        return\n",
    "    def set_column(self,column,val):\n",
    "        for i in range(len(self.__buffer)):\n",
    "            self.__buffer[i][column-1] = val\n",
    "        return\n",
    "    def __repr__(self):\n",
    "        ret = []\n",
    "        for i in range(len(self.__buffer)):\n",
    "            value = str(self.__buffer[i]) + '\\n'\n",
    "            ret.append(value)\n",
    "        ret = ' '.join(ret)\n",
    "        \n",
    "        return ret\n",
    "            \n",
    "        \n",
    "            \n",
    "        \n",
    "        "
   ]
  },
  {
   "cell_type": "markdown",
   "metadata": {},
   "source": [
    "```\n",
    "set_column, value is a array not a scalar value\n",
    "no set_row"
   ]
  },
  {
   "cell_type": "code",
   "execution_count": null,
   "metadata": {},
   "outputs": [],
   "source": [
    "#TASK 1.2\n",
    "M = Matrix(2,2)\n",
    "M.set_value(1,1,1)\n",
    "M.set_value(1,2,2)\n",
    "M.set_value(2,1,3)\n",
    "M.set_value(2,2,4)\n",
    "print(M.__repr__())\n",
    "\n",
    "N = Matrix(1,3)\n",
    "N.set_value(1,1,5)\n",
    "N.set_value(1,2,6)\n",
    "N.set_value(1,3,7)\n",
    "print(N.__repr__())\n"
   ]
  },
  {
   "cell_type": "markdown",
   "metadata": {},
   "source": [
    "```\n",
    "line 7, 13\n",
    "__repr__ is a polymorphed method used when you use print, IT IS NEVER INVOKED DIRECTLY!!"
   ]
  },
  {
   "cell_type": "code",
   "execution_count": null,
   "metadata": {},
   "outputs": [],
   "source": [
    "#Task 1.3\n",
    "def dot_product(A,B):\n",
    "    "
   ]
  },
  {
   "cell_type": "markdown",
   "metadata": {},
   "source": [
    "```\n",
    "1.3 0\n",
    "1.4 0\n",
    "1.5 0\n",
    "1.6 0\n"
   ]
  }
 ],
 "metadata": {
  "kernelspec": {
   "display_name": "Python 3.6.4 64-bit",
   "language": "python",
   "name": "python3"
  },
  "language_info": {
   "codemirror_mode": {
    "name": "ipython",
    "version": 3
   },
   "file_extension": ".py",
   "mimetype": "text/x-python",
   "name": "python",
   "nbconvert_exporter": "python",
   "pygments_lexer": "ipython3",
   "version": "3.6.4"
  },
  "vscode": {
   "interpreter": {
    "hash": "f4e9cda46bb2d9d7fe6ecdff0f8336a934348bf06cb492f2f42f60739b3403b4"
   }
  }
 },
 "nbformat": 4,
 "nbformat_minor": 2
}
