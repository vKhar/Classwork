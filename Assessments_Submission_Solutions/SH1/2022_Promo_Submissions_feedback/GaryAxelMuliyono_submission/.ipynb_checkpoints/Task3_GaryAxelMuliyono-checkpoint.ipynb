{
 "cells": [
  {
   "cell_type": "code",
   "execution_count": 9,
   "metadata": {},
   "outputs": [
    {
     "data": {
      "text/plain": [
       "177"
      ]
     },
     "execution_count": 9,
     "metadata": {},
     "output_type": "execute_result"
    }
   ],
   "source": [
    "#Task 3.1\n",
    "def convert(st):\n",
    "    value = 0\n",
    "    map={'A':10,'B':11,'C':12,'D':13,'E':14,'F':15}\n",
    "    for i in range(1,len(st)+1):\n",
    "        if st[-i].isnumeric():\n",
    "            value += int(st[-i]) * (16**(i-1))\n",
    "        else:\n",
    "            value+= map[st[-i].upper()] * (16**(i-1))\n",
    "    return value\n",
    "convert('b1')"
   ]
  },
  {
   "cell_type": "code",
   "execution_count": 35,
   "metadata": {},
   "outputs": [
    {
     "name": "stdout",
     "output_type": "stream",
     "text": [
      "[('Player102', 1499, 'KOR'), ('Player113', 1362, 'IND'), ('Player136', 1394, 'IND'), ('Player157', 1375, 'MAS'), ('Player166', 1670, 'MAS'), ('Player168', 1678, 'IND'), ('Player170', 1475, 'SIN'), ('Player173', 1723, 'IND'), ('Player175', 1734, 'SIN'), ('Player189', 1519, 'KOR'), ('Player193', 1558, 'TPE'), ('Player213', 1609, 'SIN'), ('Player231', 1466, 'MAC'), ('Player232', 1431, 'SIN'), ('Player233', 1454, 'MAC'), ('Player245', 1270, 'MAS'), ('Player285', 1426, 'TPE'), ('Player287', 1400, 'MAC'), ('Player299', 1724, 'SIN'), ('Player305', 1535, 'TPE')]\n",
      "Rank  ID  Score\n",
      "1 Player175 1734\n",
      "2 Player299 1724\n",
      "3 Player173 1723\n",
      "4 Player168 1678\n",
      "5 Player166 1670\n",
      "6 Player213 1609\n",
      "7 Player193 1558\n",
      "8 Player305 1535\n",
      "9 Player189 1519\n",
      "10 Player102 1499\n",
      "11 Player170 1475\n",
      "12 Player231 1466\n",
      "13 Player233 1454\n",
      "14 Player232 1431\n",
      "15 Player285 1426\n",
      "16 Player287 1400\n",
      "17 Player136 1394\n",
      "18 Player157 1375\n",
      "19 Player113 1362\n",
      "20 Player245 1270\n"
     ]
    }
   ],
   "source": [
    "#Task 3.2\n",
    "data=[]\n",
    "with open(\"HEX_SCORES.TXT\") as f: #with open automatically closes the file after the code below is executed\n",
    "    for line in f:\n",
    "        data.append(line.strip().split(','))\n",
    "final=[]\n",
    "for i in range(len(data)):\n",
    "    temp = 0\n",
    "    for j in range(2,len(data[i])):\n",
    "        #print(convert(data[i][j]))\n",
    "        temp += convert(data[i][j])\n",
    "    final.append((data[i][0],temp,data[i][1]))\n",
    "print(final)\n",
    "for i in range(len(final)-1):\n",
    "    swap = False\n",
    "    for j in range(len(final)-i-1):\n",
    "        if final[-j-1][1] > final[-j-2][1]:\n",
    "            final[-j-1],final[-j-2] = final[-j-2],final[-j-1]\n",
    "            swap = True\n",
    "    if swap == False:\n",
    "        break\n",
    "print(\"Rank  ID  Score\")\n",
    "for i in range(len(final)):\n",
    "    print(i+1,final[i][0],final[i][1])"
   ]
  },
  {
   "cell_type": "code",
   "execution_count": 48,
   "metadata": {},
   "outputs": [
    {
     "name": "stdout",
     "output_type": "stream",
     "text": [
      "Country  Num.Players  Score\n",
      "SIN          5         7973\n",
      "IND          4         6157\n",
      "MAS          3         4315\n",
      "TPE          3         4519\n",
      "KOR          2         3018\n",
      "MAC          3         4320\n"
     ]
    }
   ],
   "source": [
    "#Task 3.3\n",
    "count = {}\n",
    "scorek = {}\n",
    "for line in final:\n",
    "    if line[2] in count:\n",
    "        count[line[2]]+=1\n",
    "        scorek[line[2]]+=line[1]\n",
    "    else:\n",
    "        count[line[2]]=1\n",
    "        scorek[line[2]]=line[1]\n",
    "print(\"Country  Num.Players  Score\")\n",
    "for thing in count:\n",
    "    print(thing,\"        \",count[thing],\"       \",scorek[thing])"
   ]
  },
  {
   "cell_type": "code",
   "execution_count": null,
   "metadata": {},
   "outputs": [],
   "source": []
  }
 ],
 "metadata": {
  "kernelspec": {
   "display_name": "Python 3",
   "language": "python",
   "name": "python3"
  },
  "language_info": {
   "codemirror_mode": {
    "name": "ipython",
    "version": 3
   },
   "file_extension": ".py",
   "mimetype": "text/x-python",
   "name": "python",
   "nbconvert_exporter": "python",
   "pygments_lexer": "ipython3",
   "version": "3.6.4"
  }
 },
 "nbformat": 4,
 "nbformat_minor": 2
}
