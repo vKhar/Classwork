{
 "cells": [
  {
   "cell_type": "code",
   "execution_count": 7,
   "metadata": {},
   "outputs": [],
   "source": [
    "#Task 2.1\n",
    "def throw2score(throw):\n",
    "    if throw == \"X\":\n",
    "        return 10\n",
    "    else:\n",
    "        return int(throw)\n",
    "\n",
    "def calc_score(throws): #assume input is valid\n",
    "    throws=list(throws)\n",
    "    total_score = 0\n",
    "    for frame in range(1,11):\n",
    "        frame_score = int()\n",
    "        if throws[0] == \"X\":\n",
    "            frame_score = 10 + throw2score(throws[1]) + throw2score(throws[2])\n",
    "            throws.pop(0)\n",
    "        else:\n",
    "            frame_score = throw2score(throws[0]) + throw2score(throws[1])\n",
    "            if frame_score == 10:\n",
    "                frame_score += throw2score(throws[2])\n",
    "            throws.pop(0)\n",
    "            throws.pop(0)\n",
    "        total_score+=frame_score\n",
    "    return total_score"
   ]
  },
  {
   "cell_type": "code",
   "execution_count": 8,
   "metadata": {},
   "outputs": [
    {
     "data": {
      "text/plain": [
       "168"
      ]
     },
     "execution_count": 8,
     "metadata": {},
     "output_type": "execute_result"
    }
   ],
   "source": [
    "calc_score(\"X737291XXX2364733\")"
   ]
  },
  {
   "cell_type": "code",
   "execution_count": 30,
   "metadata": {},
   "outputs": [],
   "source": [
    "#Task 2.2\n",
    "def throw2score(throw):\n",
    "    if throw == \"X\":\n",
    "        return 10\n",
    "    else:\n",
    "        return int(throw)\n",
    "\n",
    "def calc_score2(throws,name): #assume input is valid\n",
    "     with open(f\"SCORE_{name}.TXT\",'w') as f:\n",
    "        f.write(name+' Scoresheet\\n')\n",
    "        f.write(\"{:<10}\".format('Frame'))\n",
    "        for i in range(1,11):\n",
    "            f.write(\"{:<10}\".format(i))\n",
    "        f.write('\\n')\n",
    "        f.write(\"{:<10}\".format('Pins hit'))\n",
    "        throws=list(throws)\n",
    "        total_score = 0\n",
    "        desp = (\"{:<10}\".format('FScore'))\n",
    "        dsep = (\"{:<10}\".format('CumScore'))\n",
    "        for frame in range(1,11):\n",
    "            frame_score = int()\n",
    "            piece = \"\"\n",
    "            if throws[0] == \"X\":\n",
    "                frame_score = 10 + throw2score(throws[1]) + throw2score(throws[2])\n",
    "                piece += (\"{:<10}\".format('[ X ]'))\n",
    "                throws.pop(0)\n",
    "            else:\n",
    "                frame_score = throw2score(throws[0]) + throw2score(throws[1])\n",
    "                piece+= (\"{:}\".format(f\"[{throws[0]}|{throws[1]}\"))\n",
    "                if frame_score == 10:\n",
    "                    frame_score += throw2score(throws[2])\n",
    "                if frame==10 and len(throws)==3:\n",
    "                    piece+=(\"{:}\".format(f\"|{throws[2]}\"))\n",
    "                throws.pop(0)\n",
    "                throws.pop(0)\n",
    "                piece+=(\"]\")\n",
    "            total_score+=frame_score\n",
    "            f.write(\"{:<10}\".format(piece))\n",
    "            \n",
    "            desp+=\"{:<10}\".format(frame_score)\n",
    "            dsep+=\"{:<10}\".format(total_score)\n",
    "        f.write('\\n')\n",
    "        f.write(desp)\n",
    "        f.write('\\n')\n",
    "        f.write(dsep)\n",
    "        return total_score"
   ]
  },
  {
   "cell_type": "code",
   "execution_count": 32,
   "metadata": {},
   "outputs": [
    {
     "data": {
      "text/plain": [
       "193"
      ]
     },
     "execution_count": 32,
     "metadata": {},
     "output_type": "execute_result"
    }
   ],
   "source": [
    "#Task 2.3\n",
    "calc_score2(\"X737291XXX2364733\",\"Player 1\")\n",
    "calc_score2(\"0580X05X6405819150\",\"Player 2\")\n",
    "calc_score2(\"XXXX91X002282XXX\",\"Player 3\")"
   ]
  },
  {
   "cell_type": "code",
   "execution_count": 33,
   "metadata": {},
   "outputs": [],
   "source": [
    "#Task 2.4\n",
    "def validate(throws):\n",
    "    for i in throws:\n",
    "        if i.isnumeric() or i=='X':\n",
    "            pass\n",
    "        else:\n",
    "            return False\n",
    "    if throws[-1].isnumeric() and throws[-2].isnumeric():\n",
    "        if int(throws[-2])+int(throws[-1])==10:\n",
    "            return False\n",
    "    if throws[-1]=='X':\n",
    "        return False\n",
    "    temp = list(throws)\n",
    "    for i in range(len(temp)-1):\n",
    "        if temp[i]=='X':\n",
    "            pass\n",
    "        elif temp[i]+temp[i+1]>10:\n",
    "            return False\n",
    "    return True\n",
    "    "
   ]
  },
  {
   "cell_type": "code",
   "execution_count": null,
   "metadata": {},
   "outputs": [],
   "source": [
    "#Task 2.5\n"
   ]
  }
 ],
 "metadata": {
  "kernelspec": {
   "display_name": "Python 3",
   "language": "python",
   "name": "python3"
  },
  "language_info": {
   "codemirror_mode": {
    "name": "ipython",
    "version": 3
   },
   "file_extension": ".py",
   "mimetype": "text/x-python",
   "name": "python",
   "nbconvert_exporter": "python",
   "pygments_lexer": "ipython3",
   "version": "3.6.4"
  }
 },
 "nbformat": 4,
 "nbformat_minor": 2
}
