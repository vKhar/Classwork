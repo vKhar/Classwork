{
 "cells": [
  {
   "cell_type": "code",
   "execution_count": 28,
   "metadata": {},
   "outputs": [],
   "source": [
    "#Task 1.1\n",
    "#print(type(7)==int)\n",
    "class Matrix():\n",
    "    def __init__(self,m,n):\n",
    "        if type(m) == int and type(n) == int:\n",
    "            self.__buffer = [[None for _ in range(n)] for _ in range(m)]\n",
    "            #print(self.__buffer)\n",
    "            self.__column_count = n\n",
    "            self.__row_count = m\n",
    "        else:\n",
    "            print(\"Incorrect format.\")\n",
    "    def get_dimension(self):\n",
    "        return (self.__row_count,self.__column_count)\n",
    "    def get_value(self,row,column):\n",
    "        if type(row) == int and type(column) == int:\n",
    "            return self.__buffer[row-1][column-1]\n",
    "        else:\n",
    "            print(\"Incorrect format.\")\n",
    "    def get_row(self,row):\n",
    "        if type(row) == int:\n",
    "            return self.__buffer[row-1]\n",
    "        else:\n",
    "            print(\"Incorrect format.\")\n",
    "    def get_column(self,column):\n",
    "        if type(column) == int:\n",
    "            ret = []\n",
    "            for i in range(self.__row_count):\n",
    "                ret.append(self.__buffer[i][column-1])\n",
    "            return ret\n",
    "        else:\n",
    "            print(\"Incorrect format.\")\n",
    "    def set_value(self,column,row,value):\n",
    "        if type(row) == int and type(column) == int and type(value)==int:\n",
    "            self.__buffer[row-1][column-1] = value\n",
    "        else:\n",
    "            print(\"Incorrect format.\")\n",
    "    def set_row(self,row,vector):\n",
    "        if type(row) == int and type(vector)==list and int(len(vector))==self.__column_count:\n",
    "            self.__buffer[row-1] = vector\n",
    "        else:\n",
    "            print(\"Incorrect format.\")\n",
    "    def set_column(self,column,vector):\n",
    "        if type(column) == int and type(vector)==list and int(len(vector))==self.__row_count:\n",
    "            for i in range(self.__row_count):\n",
    "                self.__buffer[i][column-1] = vector[i]\n",
    "        else:\n",
    "            print(\"Incorrect format.\")\n",
    "    def __repr__(self):\n",
    "        ret = \"[\\n\"\n",
    "        for i in range(self.__row_count):\n",
    "            for j in range(self.__column_count):\n",
    "                ret+=str(self.__buffer[i][j]) + ' '\n",
    "            ret+='\\n'\n",
    "        ret+=']'\n",
    "        return ret"
   ]
  },
  {
   "cell_type": "code",
   "execution_count": 45,
   "metadata": {},
   "outputs": [
    {
     "name": "stdout",
     "output_type": "stream",
     "text": [
      "[\n",
      "1 2 \n",
      "3 4 \n",
      "]\n",
      "[\n",
      "5 6 7 \n",
      "]\n",
      "[\n",
      "9 \n",
      "8 \n",
      "7 \n",
      "]\n",
      "[\n",
      "]\n",
      "Incorrect format.\n",
      "[\n",
      "1 2 \n",
      "None None \n",
      "]\n"
     ]
    }
   ],
   "source": [
    "#Task 1.2\n",
    "a = Matrix(2,2)\n",
    "a.set_row(1,[1,2])\n",
    "a.set_row(2,[3,4])\n",
    "print(a)\n",
    "\n",
    "b = Matrix(1,3)\n",
    "b.set_row(1,[5,6,7])\n",
    "print(b)\n",
    "\n",
    "c = Matrix(3,1)\n",
    "c.set_column(1,[9,8,7])\n",
    "print(c)\n",
    "\n",
    "d = Matrix(0,0)\n",
    "print(d)\n",
    "\n",
    "e = Matrix(2,2)\n",
    "e.set_row(1,[1,2])\n",
    "e.set_row(2,[3])\n",
    "print(e)"
   ]
  },
  {
   "cell_type": "code",
   "execution_count": 46,
   "metadata": {},
   "outputs": [],
   "source": [
    "#Task 1.3\n",
    "def dot_product(a,b):\n",
    "    ret=0\n",
    "    if type(a) == Matrix:\n",
    "        for i in range(len(a.get_column(1))):\n",
    "            ret+=a.get_value(i+1,1)*b.get_value(i+1,1)\n",
    "    else:\n",
    "        for i in range(len(a)):\n",
    "            ret+=a[i]*b[i]\n",
    "    return ret"
   ]
  },
  {
   "cell_type": "code",
   "execution_count": 31,
   "metadata": {},
   "outputs": [
    {
     "name": "stdout",
     "output_type": "stream",
     "text": [
      "933\n"
     ]
    }
   ],
   "source": [
    "#Task 1.4\n",
    "f = Matrix(3,1)\n",
    "f.set_column(1,[11,13,5])\n",
    "# print(f)\n",
    "# print(f.get_column(1))\n",
    "g = Matrix(3,1)\n",
    "g.set_column(1,[21,44,26])\n",
    "# print(g)\n",
    "print(dot_product(f,g))"
   ]
  },
  {
   "cell_type": "code",
   "execution_count": 37,
   "metadata": {},
   "outputs": [
    {
     "name": "stdout",
     "output_type": "stream",
     "text": [
      "[\n",
      "1 3 \n",
      "2 4 \n",
      "]\n"
     ]
    }
   ],
   "source": [
    "#Task 1.5\n",
    "def transpose(a):\n",
    "    b = Matrix(int(len(a.get_row(0))),int(len(a.get_column(0))))\n",
    "    for i in range(len(a.get_row(0))):\n",
    "        b.set_row(i,a.get_column(i))\n",
    "    return b\n",
    "print(transpose(a))"
   ]
  },
  {
   "cell_type": "code",
   "execution_count": 55,
   "metadata": {},
   "outputs": [
    {
     "data": {
      "text/plain": [
       "[\n",
       "45 \n",
       "]"
      ]
     },
     "execution_count": 55,
     "metadata": {},
     "output_type": "execute_result"
    }
   ],
   "source": [
    "#Task 1.6\n",
    "def M_multiply(a,b):\n",
    "    c,d=(a.get_dimension(),b.get_dimension())\n",
    "#     print(c,d)\n",
    "#     print(a,b)\n",
    "    new_matrix = Matrix(c[0],d[1])\n",
    "    for i in range(c[0]):\n",
    "        new_row = []\n",
    "        row_from_a = Matrix(1,c[1])\n",
    "        row_from_a.set_row(1,a.get_row(i))\n",
    "#         print(row_from_a)\n",
    "        for j in range(d[1]):\n",
    "#             col_from_b = b.get_column(i)\n",
    "            col_from_b = Matrix(d[0],1)\n",
    "            col_from_b.set_column(1,b.get_column(j))\n",
    "#             print(row_from_a,col_from_b)\n",
    "            result = dot_product(row_from_a,transpose(col_from_b))\n",
    "#             print(result)\n",
    "            new_row.append(result)\n",
    "        new_matrix.set_row(i,new_row)\n",
    "    return new_matrix\n",
    "M_multiply(b,c)"
   ]
  },
  {
   "cell_type": "code",
   "execution_count": null,
   "metadata": {},
   "outputs": [],
   "source": []
  }
 ],
 "metadata": {
  "kernelspec": {
   "display_name": "Python 3",
   "language": "python",
   "name": "python3"
  },
  "language_info": {
   "codemirror_mode": {
    "name": "ipython",
    "version": 3
   },
   "file_extension": ".py",
   "mimetype": "text/x-python",
   "name": "python",
   "nbconvert_exporter": "python",
   "pygments_lexer": "ipython3",
   "version": "3.6.4"
  }
 },
 "nbformat": 4,
 "nbformat_minor": 2
}
