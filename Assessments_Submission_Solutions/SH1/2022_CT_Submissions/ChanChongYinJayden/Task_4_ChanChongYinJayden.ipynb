{
 "cells": [
  {
   "cell_type": "code",
   "execution_count": null,
   "metadata": {},
   "outputs": [],
   "source": [
    "# Task 4.1\n",
    "class Staff():\n",
    "    def __init__(self,name,appt,base_salary):\n",
    "        self.name = name\n",
    "        self.appt = appt\n",
    "        self.base_salary = base_salary\n",
    "    def calc_annual_salary(self):\n",
    "        return float(self.base_salary*12)\n",
    "    def __repr__(self):\n",
    "        return f\"{self.name}:{self.appt}:{self.calc_annual_salary()}\""
   ]
  },
  {
   "cell_type": "markdown",
   "metadata": {},
   "source": [
    "- name, appt, bas_salary should be private with getters/setters   \n",
    "3/4"
   ]
  },
  {
   "cell_type": "code",
   "execution_count": null,
   "metadata": {},
   "outputs": [],
   "source": [
    "# Task 4.2\n",
    "class PermStaff(Staff):\n",
    "    def __init__(self,name,appt,base_salary,bonus_rating):\n",
    "        super().__init__(name,appt,base_salary)\n",
    "        self.bonus_rating = bonus_rating\n",
    "    def calc_annual_salary(self):\n",
    "        return float(self.base_salary*12+self.base_salary*12*self.bonus_rating)\n",
    "\n",
    "class CommissionStaff(Staff):\n",
    "    def __init__(self,name,appt,base_salary,commission_rate,revenue_generated):\n",
    "        super().__init__(name,appt,base_salary)\n",
    "        self.commission_rate = commission_rate\n",
    "        self.revenue_generated = revenue_generated\n",
    "    def calc_annual_salary(self):\n",
    "        return float(self.base_salary*12+self.commission_rate*self.revenue_generated)"
   ]
  },
  {
   "cell_type": "markdown",
   "metadata": {},
   "source": [
    "- getters/setters for additional attributes\n",
    "- 3/4"
   ]
  },
  {
   "cell_type": "code",
   "execution_count": null,
   "metadata": {},
   "outputs": [],
   "source": [
    "# Task 4.3\n",
    "staffs = []\n",
    "f = open(\"STAFF.CSV\")\n",
    "for line in f:\n",
    "    Name,Appointment,BaseSalary,BonusRating,CommisionRate,RevenueGenerated = line.strip().split(\",\")\n",
    "    if Name != \"Name\":\n",
    "        if BonusRating:\n",
    "            staffs.append(PermStaff(Name,Appointment,float(int(BaseSalary)),float((BonusRating))))\n",
    "        elif CommisionRate:\n",
    "            staffs.append(CommissionStaff(Name,Appointment,float(int(BaseSalary)),float((CommisionRate)),float((RevenueGenerated))))\n",
    "        else:\n",
    "            staffs.append(Staff(Name,Appointment,float(int(BaseSalary))))\n",
    "f.close()\n",
    "print(staffs)"
   ]
  },
  {
   "cell_type": "markdown",
   "metadata": {},
   "source": [
    "4/4"
   ]
  },
  {
   "cell_type": "code",
   "execution_count": null,
   "metadata": {},
   "outputs": [],
   "source": [
    "# Task 4.5\n",
    "top_earners = []\n",
    "sortdict = {}\n",
    "for staff in staffs:\n",
    "    sortdict[staff.calc_annual_salary()] = staff\n",
    "\n",
    "while len(sortdict) > 0:\n",
    "    top_earners.append(sortdict[max(sortdict)])\n",
    "    sortdict.pop(max(sortdict))\n",
    "    \n",
    "print(top_earners)"
   ]
  },
  {
   "cell_type": "markdown",
   "metadata": {},
   "source": [
    "- Good Job :)\n",
    "\n",
    "4/4"
   ]
  },
  {
   "cell_type": "markdown",
   "metadata": {},
   "source": [
    "# Task 4.6\n",
    "Reusability\n"
   ]
  },
  {
   "cell_type": "markdown",
   "metadata": {},
   "source": [
    "1/6"
   ]
  },
  {
   "cell_type": "markdown",
   "metadata": {},
   "source": [
    "### Total\n",
    "15/22"
   ]
  }
 ],
 "metadata": {
  "interpreter": {
   "hash": "f4e9cda46bb2d9d7fe6ecdff0f8336a934348bf06cb492f2f42f60739b3403b4"
  },
  "kernelspec": {
   "display_name": "Python 3.6.4 64-bit",
   "language": "python",
   "name": "python3"
  },
  "language_info": {
   "codemirror_mode": {
    "name": "ipython",
    "version": 3
   },
   "file_extension": ".py",
   "mimetype": "text/x-python",
   "name": "python",
   "nbconvert_exporter": "python",
   "pygments_lexer": "ipython3",
   "version": "3.6.4"
  }
 },
 "nbformat": 4,
 "nbformat_minor": 2
}
