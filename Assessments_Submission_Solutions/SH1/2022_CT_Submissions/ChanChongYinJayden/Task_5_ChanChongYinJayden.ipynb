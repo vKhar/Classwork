{
 "cells": [
  {
   "cell_type": "markdown",
   "metadata": {},
   "source": [
    "# Task 5.1\n",
    "The three types of error that could occur are syntax errors, logic errors, and runtime errors."
   ]
  },
  {
   "cell_type": "markdown",
   "metadata": {},
   "source": [
    "3/3"
   ]
  },
  {
   "cell_type": "markdown",
   "metadata": {},
   "source": [
    "# Task 5.2\n",
    "In lines 9 and 11, the random indexes of each list is added to the random_index list, but it could add the same indexes more than once and not add all the indexes. From lines 12 to 15, the random indexes from A are first added, then B, which does not make the list truely random. The random_list is also supposed to contain the actual elements from both lists, not their indexes which she has done."
   ]
  },
  {
   "cell_type": "markdown",
   "metadata": {},
   "source": [
    "2/3\n",
    "\n",
    "### Total\n",
    "5/6"
   ]
  }
 ],
 "metadata": {
  "kernelspec": {
   "display_name": "Python 3",
   "language": "python",
   "name": "python3"
  },
  "language_info": {
   "codemirror_mode": {
    "name": "ipython",
    "version": 3
   },
   "file_extension": ".py",
   "mimetype": "text/x-python",
   "name": "python",
   "nbconvert_exporter": "python",
   "pygments_lexer": "ipython3",
   "version": "3.6.4"
  }
 },
 "nbformat": 4,
 "nbformat_minor": 2
}
