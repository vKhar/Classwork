{
 "cells": [
  {
   "cell_type": "code",
   "execution_count": 1,
   "metadata": {},
   "outputs": [],
   "source": [
    "# Task 1.1\n",
    "def generate_digit(num):\n",
    "    posOdd = True\n",
    "    sum1 = 0\n",
    "    for digit in num:\n",
    "        if posOdd:\n",
    "            sum1 += (int(digit)*3)\n",
    "            posOdd = False\n",
    "        else:\n",
    "            sum1 += int(digit)\n",
    "            posOdd = True\n",
    "    return 10 - (sum1 % 10)"
   ]
  },
  {
   "cell_type": "markdown",
   "metadata": {},
   "source": [
    "5/5"
   ]
  },
  {
   "cell_type": "code",
   "execution_count": 2,
   "metadata": {},
   "outputs": [],
   "source": [
    "# Task 1.2\n",
    "done = []\n",
    "f = open(\"7DIGITS_CODE.TXT\")\n",
    "for line in f:\n",
    "    num = line.strip()\n",
    "    done.append(num + str(generate_digit(num)))\n",
    "f.close\n",
    "\n",
    "f2 = open(\"GTIN.TXT\",\"w\")\n",
    "count = 1\n",
    "for num in done:\n",
    "    if count == len(done):\n",
    "        f2.write(num)\n",
    "    else:\n",
    "        f2.write(num+\",\")\n",
    "    count += 1\n",
    "f2.close()"
   ]
  },
  {
   "cell_type": "markdown",
   "metadata": {},
   "source": [
    "4/4"
   ]
  },
  {
   "cell_type": "markdown",
   "metadata": {},
   "source": [
    "# Task 1.3\n",
    "It can help reduce the chances that the number entered by the user is mistyped."
   ]
  },
  {
   "cell_type": "markdown",
   "metadata": {},
   "source": [
    "1/1"
   ]
  },
  {
   "cell_type": "markdown",
   "metadata": {},
   "source": [
    "# Task 1.4\n"
   ]
  },
  {
   "cell_type": "markdown",
   "metadata": {},
   "source": [
    "0/4\n",
    "\n",
    "### Total\n",
    "10/14"
   ]
  },
  {
   "cell_type": "markdown",
   "metadata": {},
   "source": []
  }
 ],
 "metadata": {
  "interpreter": {
   "hash": "f4e9cda46bb2d9d7fe6ecdff0f8336a934348bf06cb492f2f42f60739b3403b4"
  },
  "kernelspec": {
   "display_name": "Python 3.6.4 64-bit",
   "language": "python",
   "name": "python3"
  },
  "language_info": {
   "codemirror_mode": {
    "name": "ipython",
    "version": 3
   },
   "file_extension": ".py",
   "mimetype": "text/x-python",
   "name": "python",
   "nbconvert_exporter": "python",
   "pygments_lexer": "ipython3",
   "version": "3.6.4"
  }
 },
 "nbformat": 4,
 "nbformat_minor": 2
}
