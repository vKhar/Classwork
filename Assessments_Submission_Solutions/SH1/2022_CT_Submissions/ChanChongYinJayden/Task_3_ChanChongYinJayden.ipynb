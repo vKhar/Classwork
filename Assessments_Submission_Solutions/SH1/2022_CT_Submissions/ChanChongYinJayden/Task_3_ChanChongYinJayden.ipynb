{
 "cells": [
  {
   "cell_type": "code",
   "execution_count": null,
   "metadata": {},
   "outputs": [],
   "source": [
    "# Task 3.1\n",
    "players = []\n",
    "f = open(\"NAMES.TXT\")\n",
    "for line in f:\n",
    "    players.append(line.strip())"
   ]
  },
  {
   "cell_type": "markdown",
   "metadata": {},
   "source": [
    "2/2"
   ]
  },
  {
   "cell_type": "code",
   "execution_count": null,
   "metadata": {},
   "outputs": [],
   "source": [
    "# Task 3.2\n",
    "def whoWins(players,m):\n",
    "    playersL = players[:]\n",
    "    lastDead = 0\n",
    "    if m > 0:\n",
    "        while True:\n",
    "            if len(playersL) == 1:\n",
    "                break\n",
    "            toKill = lastDead + m\n",
    "            while toKill > len(playersL)-1:\n",
    "                toKill -= len(playersL)\n",
    "            playersL.pop(toKill)\n",
    "            lastDead = toKill\n",
    "        return playersL[0]\n",
    "    else:\n",
    "        return \"\""
   ]
  },
  {
   "cell_type": "markdown",
   "metadata": {},
   "source": [
    "6/6"
   ]
  },
  {
   "cell_type": "markdown",
   "metadata": {},
   "source": [
    "# Task 3.3\n",
    "White box testing is testing the function while knowing about how the function works (i.e having access to the function works), while black box testing is testing the function while not knowing about how the function works at all."
   ]
  },
  {
   "cell_type": "markdown",
   "metadata": {},
   "source": [
    "2/2"
   ]
  },
  {
   "cell_type": "code",
   "execution_count": null,
   "metadata": {},
   "outputs": [],
   "source": [
    "# Task 3.4\n",
    "print(\"1\")\n",
    "print(whoWins(players,2))\n",
    "print(\"2\")\n",
    "print(whoWins(players,0))\n",
    "print(\"3\")\n",
    "print(whoWins(players,-5))\n",
    "print(\"4\")\n",
    "print(whoWins(players,100))"
   ]
  },
  {
   "cell_type": "markdown",
   "metadata": {},
   "source": [
    "-  Incorrect presentation of test cases , Valid, Boundary, Invalid\n",
    "- you need to re-read the file to test the next case\n",
    "3/5\n",
    "### Total\n",
    "13/15"
   ]
  }
 ],
 "metadata": {
  "interpreter": {
   "hash": "f4e9cda46bb2d9d7fe6ecdff0f8336a934348bf06cb492f2f42f60739b3403b4"
  },
  "kernelspec": {
   "display_name": "Python 3.6.4 64-bit",
   "language": "python",
   "name": "python3"
  },
  "language_info": {
   "codemirror_mode": {
    "name": "ipython",
    "version": 3
   },
   "file_extension": ".py",
   "mimetype": "text/x-python",
   "name": "python",
   "nbconvert_exporter": "python",
   "pygments_lexer": "ipython3",
   "version": "3.6.4"
  }
 },
 "nbformat": 4,
 "nbformat_minor": 2
}
