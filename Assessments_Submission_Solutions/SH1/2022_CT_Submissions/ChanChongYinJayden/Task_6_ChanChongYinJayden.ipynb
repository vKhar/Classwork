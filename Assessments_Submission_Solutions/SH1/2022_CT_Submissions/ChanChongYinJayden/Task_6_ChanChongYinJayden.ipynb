{
 "cells": [
  {
   "cell_type": "code",
   "execution_count": null,
   "metadata": {},
   "outputs": [],
   "source": [
    "# Task 6.1\n",
    "import random\n",
    "n = int(input(\"Range of numbers: \")) # assume positive integer inputted\n",
    "count = 0\n",
    "tableNums = {}\n",
    "while count < 1000:\n",
    "    rnum = random.randint(1,n)\n",
    "    if rnum in tableNums:\n",
    "        tableNums[rnum] += 1\n",
    "    else:\n",
    "        tableNums[rnum] = 1\n",
    "    count += 1\n",
    "\n",
    "print(\"integer\\tfrequency\")\n",
    "\n",
    "for i in range(1,n+1):\n",
    "    try:\n",
    "        freq = tableNums[i]\n",
    "    except:\n",
    "        freq = 0\n",
    "    print(f\"{i}\\t{freq}\")"
   ]
  },
  {
   "cell_type": "markdown",
   "metadata": {},
   "source": [
    "8/8"
   ]
  },
  {
   "cell_type": "code",
   "execution_count": null,
   "metadata": {},
   "outputs": [],
   "source": [
    "# Task 6.2\n",
    "import random\n",
    "n = int(input(\"Range of numbers: \")) # assume positive integer inputted\n",
    "m = int(input(\"No. unique integers: \"))\n",
    "count = 0\n",
    "listN = []\n",
    "while True:\n",
    "    if len(listN) == m:\n",
    "        break\n",
    "    rnum = random.randint(1,n)\n",
    "    if rnum not in listN:\n",
    "        listN.append(rnum)\n",
    "    count += 1\n",
    "\n",
    "print(listN)"
   ]
  },
  {
   "cell_type": "markdown",
   "metadata": {},
   "source": [
    "4/4"
   ]
  },
  {
   "cell_type": "code",
   "execution_count": null,
   "metadata": {},
   "outputs": [],
   "source": [
    "# Task 6.3\n",
    "def shuffle(L):\n",
    "    listN = []\n",
    "    while True:\n",
    "        if len(listN) == len(L):\n",
    "            break\n",
    "        rnum = random.randint(1,n)\n",
    "        if rnum not in listN:\n",
    "            listN.append(rnum)\n",
    "    newL = []\n",
    "    for ind in listN:\n",
    "        newL.append(L(ind))\n",
    "    return newL"
   ]
  },
  {
   "cell_type": "markdown",
   "metadata": {},
   "source": [
    "- line 7 , where does n comes from\n",
    "- you are not returning the contents of L, just generating random integers!\n",
    "- 0/4"
   ]
  },
  {
   "cell_type": "markdown",
   "metadata": {},
   "source": [
    "### Total\n",
    "12/16"
   ]
  },
  {
   "cell_type": "markdown",
   "metadata": {},
   "source": []
  }
 ],
 "metadata": {
  "interpreter": {
   "hash": "f4e9cda46bb2d9d7fe6ecdff0f8336a934348bf06cb492f2f42f60739b3403b4"
  },
  "kernelspec": {
   "display_name": "Python 3.6.4 64-bit",
   "language": "python",
   "name": "python3"
  },
  "language_info": {
   "codemirror_mode": {
    "name": "ipython",
    "version": 3
   },
   "file_extension": ".py",
   "mimetype": "text/x-python",
   "name": "python",
   "nbconvert_exporter": "python",
   "pygments_lexer": "ipython3",
   "version": "3.6.4"
  }
 },
 "nbformat": 4,
 "nbformat_minor": 2
}
