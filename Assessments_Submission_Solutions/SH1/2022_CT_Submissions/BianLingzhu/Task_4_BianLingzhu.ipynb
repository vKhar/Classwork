{
 "cells": [
  {
   "cell_type": "markdown",
   "metadata": {},
   "source": [
    "Task 4.6\n",
    "one principal is inheritance, which allows the reuse of code through creating a subclass so that the \n",
    "derived class can use the attributes and methods from the base class \n",
    "\n",
    "another principal is polymorphism, which allows the derived class to change and override the orignal\n",
    "methods of the base class.\n",
    "\n",
    "the last is encapsulation, which allows for the binding of the class and the its methods to be possible,\n",
    "hide the methods used in the class, and differentiate between public and private attributes"
   ]
  },
  {
   "cell_type": "markdown",
   "metadata": {},
   "source": [
    "6/6"
   ]
  },
  {
   "cell_type": "code",
   "execution_count": 4,
   "metadata": {},
   "outputs": [],
   "source": [
    "class Staff:\n",
    "    def __init__(self, name, appt, base_salary):\n",
    "        self.__name=name\n",
    "        self.__appt=appt\n",
    "        self.__name=name\n",
    "        self.__base_salary=base_salary\n",
    "    \n",
    "    def get_name(self):\n",
    "        return self.__name\n",
    "    def set_name(self,n):\n",
    "        self.__name = n\n",
    "\n",
    "    def get_appt(self):\n",
    "        return self.__appt\n",
    "    def set_appt(self,a):\n",
    "        self.__appt =a\n",
    "\n",
    "    def get_base_salary(self):\n",
    "        return self.__base_salary\n",
    "    \n",
    "    def set_base_salary(self,s):\n",
    "        self.__base_salary = s\n",
    "    \n",
    "    def calc_annual_salary(self):\n",
    "        return self.__base_salary*12\n",
    "    \n",
    "    \n",
    "    def __repr__(self):\n",
    "        return f'{self.__name}:{self.__appt}:{self.__base_salary*12}'\n",
    "    \n"
   ]
  },
  {
   "cell_type": "markdown",
   "metadata": {},
   "source": [
    "4/4"
   ]
  },
  {
   "cell_type": "code",
   "execution_count": 5,
   "metadata": {},
   "outputs": [],
   "source": [
    "#Task 4.2\n",
    "class permStaff(Staff):\n",
    "    def __init__(self, name, appt, base_salary, bonus_rating):\n",
    "        super().__init__(self, name, appt, base_salary)\n",
    "        self.__bonus_rating=bonus_rating\n",
    "    \n",
    "    def get_bonus_rating(self):\n",
    "        return self.__bonus_rating\n",
    "    def set_bonus_rating(self,B):\n",
    "        self.__bonus_rating = B\n",
    "        \n",
    "    def calc_annual_salary(self):\n",
    "        return self.__base_salary*12 + self.__base_salary*12*int(self.__bonus_rating)\n",
    "    \n",
    "class commisionStaff(Staff):\n",
    "    def __init__(self, name, appt, base_salary, commission_rate, revenue_generated):\n",
    "        super().__init__(self, name, appt, base_salary)\n",
    "        self.__commission_rate=commission_rate\n",
    "        self.__revenue_generated=revenue_generated\n",
    "        \n",
    "    def get_commission_rate(self):\n",
    "        return self.__commission_rate\n",
    "    def set_commission_rate(self,c):\n",
    "        self.__commission_rate = c\n",
    "        \n",
    "    def get_revenue_generated(self):\n",
    "        return self.__revenue_generated\n",
    "    def set_revenue_generated(self,r):\n",
    "        self.__revenue_generated = r\n",
    "        \n",
    "    def calc_annual_salary(self):\n",
    "        return self.__base_salary*12 + int(self.__revenue_generated)*int(self.__commission_rate)\n",
    "    "
   ]
  },
  {
   "cell_type": "markdown",
   "metadata": {},
   "source": [
    "- when overriding calc_annual_salary(), you cannot access to the private attributes of the base case, need to use the getters\n",
    "- 3/4"
   ]
  },
  {
   "cell_type": "code",
   "execution_count": null,
   "metadata": {},
   "outputs": [],
   "source": [
    "f = open('BianLingzhu/STAFF.CSV')\n",
    "\n",
    "lines = "
   ]
  },
  {
   "cell_type": "markdown",
   "metadata": {},
   "source": [
    "4.3\n",
    "- 0/4\n",
    "\n",
    "4.5\n",
    " - 0/4\n",
    "\n",
    " ### Total\n",
    " 13/22"
   ]
  }
 ],
 "metadata": {
  "kernelspec": {
   "display_name": "Python 3",
   "language": "python",
   "name": "python3"
  },
  "language_info": {
   "codemirror_mode": {
    "name": "ipython",
    "version": 3
   },
   "file_extension": ".py",
   "mimetype": "text/x-python",
   "name": "python",
   "nbconvert_exporter": "python",
   "pygments_lexer": "ipython3",
   "version": "3.6.4"
  }
 },
 "nbformat": 4,
 "nbformat_minor": 2
}
