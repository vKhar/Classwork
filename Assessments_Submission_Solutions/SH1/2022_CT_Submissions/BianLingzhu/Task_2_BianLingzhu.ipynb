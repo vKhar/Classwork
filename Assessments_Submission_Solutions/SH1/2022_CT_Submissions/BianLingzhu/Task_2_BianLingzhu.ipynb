{
 "cells": [
  {
   "cell_type": "code",
   "execution_count": 1,
   "metadata": {},
   "outputs": [
    {
     "name": "stdout",
     "output_type": "stream",
     "text": [
      "1023\n"
     ]
    }
   ],
   "source": [
    "#Task 2.1\n",
    "\n",
    "def resum(a,r,m):\n",
    "    g_sum = 0\n",
    "    l =[]\n",
    "    if m == 0:\n",
    "        g_sum = a\n",
    "    else:\n",
    "        resum(a,r,m-1)\n",
    "        g_sum += a*r**m-1\n",
    "    return g_sum\n",
    "\n",
    "\n",
    "print(resum(1,2,10))"
   ]
  },
  {
   "cell_type": "markdown",
   "metadata": {},
   "source": [
    "- line 6 , base case should be 1 not 0\n",
    "- line 9 , you need to get the result of the smaller problem then add to the current term, your return value from the recusive function is NEVER use after the recursive call\n",
    "- line 10 , a*r**(m-1) BODMAS arithmetic! \n",
    "- no sequence of terms returned\n",
    "- 3/6, good effort"
   ]
  },
  {
   "cell_type": "markdown",
   "metadata": {},
   "source": [
    "2.2\n",
    "- your trace table is correct because you use the return value of the recursive call to add to the current term then return g_sum\n",
    "- base case is m = 1, return a\n",
    "- 3/4"
   ]
  },
  {
   "cell_type": "markdown",
   "metadata": {},
   "source": [
    "Task 2.3   \n",
    "one advantage is that the iterative approach will not encounter stack overflow when the call stack is too large,\n",
    "which causes the program to stop working, unlike the recursive approach.\n",
    "one disadvantage is that it is less intuitive to code."
   ]
  },
  {
   "cell_type": "markdown",
   "metadata": {},
   "source": [
    "- 2/2"
   ]
  },
  {
   "cell_type": "markdown",
   "metadata": {},
   "source": [
    "### Total\n",
    "8/12"
   ]
  }
 ],
 "metadata": {
  "interpreter": {
   "hash": "f4e9cda46bb2d9d7fe6ecdff0f8336a934348bf06cb492f2f42f60739b3403b4"
  },
  "kernelspec": {
   "display_name": "Python 3.6.4 64-bit",
   "language": "python",
   "name": "python3"
  },
  "language_info": {
   "codemirror_mode": {
    "name": "ipython",
    "version": 3
   },
   "file_extension": ".py",
   "mimetype": "text/x-python",
   "name": "python",
   "nbconvert_exporter": "python",
   "pygments_lexer": "ipython3",
   "version": "3.6.4"
  }
 },
 "nbformat": 4,
 "nbformat_minor": 2
}
