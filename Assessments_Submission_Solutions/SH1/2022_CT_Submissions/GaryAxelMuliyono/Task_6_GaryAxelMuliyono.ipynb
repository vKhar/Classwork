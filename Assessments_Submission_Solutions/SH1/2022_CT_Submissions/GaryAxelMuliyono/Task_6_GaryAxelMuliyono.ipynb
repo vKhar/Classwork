{
 "cells": [
  {
   "cell_type": "code",
   "execution_count": 2,
   "metadata": {},
   "outputs": [
    {
     "name": "stdout",
     "output_type": "stream",
     "text": [
      "integer  frequency\n",
      "   1        258\n",
      "   2        245\n",
      "   3        243\n",
      "   4        254\n"
     ]
    }
   ],
   "source": [
    "# Task 6.1\n",
    "import random\n",
    "n = int(input(\"Input a number: \"))\n",
    "freq_list = [0 for _ in range(0,n+1)]\n",
    "#print(freq_list)\n",
    "for i in range(1000):\n",
    "    temp = random.randint(1,n)\n",
    "    freq_list[temp] += 1\n",
    "#print(freq_list)\n",
    "print(\"integer  frequency\")\n",
    "for i in range(1,n+1):\n",
    "    print(f\"   {i}        {freq_list[i]}\")"
   ]
  },
  {
   "cell_type": "markdown",
   "metadata": {},
   "source": [
    "8/8"
   ]
  },
  {
   "cell_type": "code",
   "execution_count": 3,
   "metadata": {},
   "outputs": [
    {
     "name": "stdout",
     "output_type": "stream",
     "text": [
      "[5, 10, 7, 6, 9]\n"
     ]
    }
   ],
   "source": [
    "# Task 6.2\n",
    "m = int(input(\"Input a number (m): \"))\n",
    "n = int(input(\"Input a number (n): \"))\n",
    "newlist = []\n",
    "is_there = [False for _ in range(0,n+1)]\n",
    "#print(is_there)\n",
    "for i in range(m):\n",
    "    temp = random.randint(1,n)\n",
    "    if is_there[temp] == False:\n",
    "            newlist.append(temp)\n",
    "            is_there[temp] = True\n",
    "    else:\n",
    "        while(is_there[temp] == True):\n",
    "            temp = random.randint(1,n)\n",
    "            if is_there[temp] == False:\n",
    "                newlist.append(temp)\n",
    "                is_there[temp] = True\n",
    "                break\n",
    "print(newlist)\n",
    "        "
   ]
  },
  {
   "cell_type": "markdown",
   "metadata": {},
   "source": [
    "4/4"
   ]
  },
  {
   "cell_type": "code",
   "execution_count": 23,
   "metadata": {},
   "outputs": [
    {
     "name": "stdout",
     "output_type": "stream",
     "text": [
      "[6, 5, 1, 7, 3, 132, 2]\n"
     ]
    }
   ],
   "source": [
    "# Task 6.3\n",
    "def shuffle(L):\n",
    "    length = int(len(L))\n",
    "    order = []\n",
    "    is_there = [False for _ in range(0,length)]\n",
    "    for i in range(length):\n",
    "        temp = random.randint(0,length-1)\n",
    "        if is_there[temp] == False:\n",
    "                order.append(temp)\n",
    "                is_there[temp] = True\n",
    "        else:\n",
    "            while(is_there[temp] == True):\n",
    "                temp = random.randint(0,length-1)\n",
    "                if is_there[temp] == False:\n",
    "                    order.append(temp)\n",
    "                    is_there[temp] = True\n",
    "                    break\n",
    "    newlist = []\n",
    "    for i in range(length):\n",
    "        newlist.append(L[order[i]])\n",
    "    return newlist\n",
    "print(shuffle([7, 132, 6, 1, 3, 2, 5]))"
   ]
  },
  {
   "cell_type": "markdown",
   "metadata": {},
   "source": [
    "4/4\n",
    "### Total\n",
    "16/16"
   ]
  }
 ],
 "metadata": {
  "interpreter": {
   "hash": "f4e9cda46bb2d9d7fe6ecdff0f8336a934348bf06cb492f2f42f60739b3403b4"
  },
  "kernelspec": {
   "display_name": "Python 3.6.4 64-bit",
   "language": "python",
   "name": "python3"
  },
  "language_info": {
   "codemirror_mode": {
    "name": "ipython",
    "version": 3
   },
   "file_extension": ".py",
   "mimetype": "text/x-python",
   "name": "python",
   "nbconvert_exporter": "python",
   "pygments_lexer": "ipython3",
   "version": "3.6.4"
  }
 },
 "nbformat": 4,
 "nbformat_minor": 2
}
