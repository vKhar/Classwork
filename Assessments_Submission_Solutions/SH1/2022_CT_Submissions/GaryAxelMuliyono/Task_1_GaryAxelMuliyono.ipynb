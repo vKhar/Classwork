{
 "cells": [
  {
   "cell_type": "code",
   "execution_count": null,
   "metadata": {},
   "outputs": [],
   "source": [
    "# Task 1.1\n",
    "def generate_digit(s):\n",
    "    length = int(len(s))\n",
    "    sum = 0\n",
    "    for i in range(length):\n",
    "        if i%2 == 0:\n",
    "            sum += int(s[i])\n",
    "        else:\n",
    "            sum += int(s[i]) * 3\n",
    "        #print(sum)\n",
    "    res = sum % 10\n",
    "    return res"
   ]
  },
  {
   "cell_type": "markdown",
   "metadata": {},
   "source": [
    "- leftmost digit position is 1 not 0\n",
    "- incorrect generationof check digit   \n",
    "2/5"
   ]
  },
  {
   "cell_type": "code",
   "execution_count": null,
   "metadata": {},
   "outputs": [],
   "source": [
    "# Task 1.2\n",
    "with open(\"7DIGITS_CODE.TXT\") as f:\n",
    "    data = f\n",
    "    with open(\"GTIN.TXT\", \"w\") as f:\n",
    "        for line in data:\n",
    "            num = line.strip()\n",
    "            f.write(num + str(generate_digit(num)) + \"\\n\")"
   ]
  },
  {
   "cell_type": "markdown",
   "metadata": {},
   "source": [
    "- never close file \n",
    "- incorrect output format   \n",
    "2/4"
   ]
  },
  {
   "cell_type": "markdown",
   "metadata": {},
   "source": [
    "# Task 1.3\n",
    "The check digit can be used to check whether the inputted numbers are possibly valid without the need of accessing a database, thus immediately giving user feedback on wrong inputs before submitting the form."
   ]
  },
  {
   "cell_type": "markdown",
   "metadata": {},
   "source": [
    "1/1"
   ]
  },
  {
   "cell_type": "markdown",
   "metadata": {},
   "source": [
    "# Task 1.4\n",
    "Visual Heirarchy is the positioning and formatting of different elements inside of a web application to show their relative improtance, which can be acheived through use of appropriate colours, sizes, styles, and contrast between different elements.\n",
    "\n",
    "Affordance is giving clues and restrictions on how the user should use the web application such to maximise the number of correct inputs, which can be acheived through the right input elements for each input type."
   ]
  },
  {
   "cell_type": "markdown",
   "metadata": {},
   "source": [
    "4/4\n",
    "\n",
    "### Total\n",
    "9/14"
   ]
  }
 ],
 "metadata": {
  "interpreter": {
   "hash": "f4e9cda46bb2d9d7fe6ecdff0f8336a934348bf06cb492f2f42f60739b3403b4"
  },
  "kernelspec": {
   "display_name": "Python 3.6.4 64-bit",
   "language": "python",
   "name": "python3"
  },
  "language_info": {
   "codemirror_mode": {
    "name": "ipython",
    "version": 3
   },
   "file_extension": ".py",
   "mimetype": "text/x-python",
   "name": "python",
   "nbconvert_exporter": "python",
   "pygments_lexer": "ipython3",
   "version": "3.6.4"
  }
 },
 "nbformat": 4,
 "nbformat_minor": 2
}
