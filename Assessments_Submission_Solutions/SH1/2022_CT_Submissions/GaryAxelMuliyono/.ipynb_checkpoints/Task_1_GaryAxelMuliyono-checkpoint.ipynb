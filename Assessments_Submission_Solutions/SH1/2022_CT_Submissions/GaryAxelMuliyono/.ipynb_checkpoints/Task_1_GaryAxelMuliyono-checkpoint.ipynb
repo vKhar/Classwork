{
 "cells": [
  {
   "cell_type": "code",
   "execution_count": 28,
   "metadata": {},
   "outputs": [],
   "source": [
    "# Task 1.1\n",
    "def generate_digit(s):\n",
    "    length = int(len(s))\n",
    "    sum = 0\n",
    "    for i in range(length):\n",
    "        if i%2 == 0:\n",
    "            sum += int(s[i])\n",
    "        else:\n",
    "            sum += int(s[i]) * 3\n",
    "        #print(sum)\n",
    "    res = sum % 10\n",
    "    return res"
   ]
  },
  {
   "cell_type": "code",
   "execution_count": 29,
   "metadata": {},
   "outputs": [
    {
     "data": {
      "text/plain": [
       "9"
      ]
     },
     "execution_count": 29,
     "metadata": {},
     "output_type": "execute_result"
    }
   ],
   "source": [
    "generate_digit(\"2814307\")"
   ]
  },
  {
   "cell_type": "code",
   "execution_count": 30,
   "metadata": {},
   "outputs": [],
   "source": [
    "# Task 1.2\n",
    "with open(\"7DIGITS_CODE.TXT\") as f:\n",
    "    data = f\n",
    "    with open(\"GTIN.TXT\", \"w\") as f:\n",
    "        for line in data:\n",
    "            num = line.strip()\n",
    "            f.write(num + str(generate_digit(num)) + \"\\n\")"
   ]
  },
  {
   "cell_type": "markdown",
   "metadata": {},
   "source": [
    "# Task 1.3\n",
    "The check digit can be used to check whether the inputted numbers are possibly valid without the need of accessing a database, thus immediately giving user feedback on wrong inputs before submitting the form."
   ]
  },
  {
   "cell_type": "markdown",
   "metadata": {},
   "source": [
    "# Task 1.4\n",
    "Visual Heirarchy is the positioning and formatting of different elements inside of a web application to show their relative improtance, which can be acheived through use of appropriate colours, sizes, styles, and contrast between different elements.\n",
    "\n",
    "Affordance is giving clues and restrictions on how the user should use the web application such to maximise the number of correct inputs, which can be acheived through the right input elements for each input type."
   ]
  }
 ],
 "metadata": {
  "kernelspec": {
   "display_name": "Python 3",
   "language": "python",
   "name": "python3"
  },
  "language_info": {
   "codemirror_mode": {
    "name": "ipython",
    "version": 3
   },
   "file_extension": ".py",
   "mimetype": "text/x-python",
   "name": "python",
   "nbconvert_exporter": "python",
   "pygments_lexer": "ipython3",
   "version": "3.6.4"
  }
 },
 "nbformat": 4,
 "nbformat_minor": 2
}
