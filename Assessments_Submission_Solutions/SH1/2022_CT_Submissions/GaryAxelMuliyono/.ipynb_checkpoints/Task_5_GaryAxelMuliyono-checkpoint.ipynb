{
 "cells": [
  {
   "cell_type": "markdown",
   "metadata": {},
   "source": [
    "# Task 5.1\n",
    "Syntax Error : code violates the rules or grammar of the programming language\n",
    "\n",
    "Static Semantic Error : code technically follows the rules of the language but involves improper use of assignments involving specific types of variables\n",
    "\n",
    "Logic Error : code runs and does not generate runtime error but produces an undesired result"
   ]
  },
  {
   "cell_type": "markdown",
   "metadata": {},
   "source": [
    "# Task 5.2\n",
    "In line 9 and line 11, the range used should not be size_a/size_b and instead size_a-1/size_b-1 as the second argument in the randint operation is also included in the range, which would make a possible index error when later accessing it in line 12 and 14.\n",
    "\n",
    "In line 10, the range used for the for loop must use the variable size_b instead of size_a as the operations following it involve the list B, not A."
   ]
  },
  {
   "cell_type": "code",
   "execution_count": null,
   "metadata": {},
   "outputs": [],
   "source": []
  }
 ],
 "metadata": {
  "kernelspec": {
   "display_name": "Python 3",
   "language": "python",
   "name": "python3"
  },
  "language_info": {
   "codemirror_mode": {
    "name": "ipython",
    "version": 3
   },
   "file_extension": ".py",
   "mimetype": "text/x-python",
   "name": "python",
   "nbconvert_exporter": "python",
   "pygments_lexer": "ipython3",
   "version": "3.6.4"
  }
 },
 "nbformat": 4,
 "nbformat_minor": 2
}
