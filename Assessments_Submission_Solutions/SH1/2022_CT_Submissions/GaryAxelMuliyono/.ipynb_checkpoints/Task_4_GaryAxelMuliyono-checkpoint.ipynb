{
 "cells": [
  {
   "cell_type": "code",
   "execution_count": 49,
   "metadata": {},
   "outputs": [],
   "source": [
    "# Task 4.1\n",
    "class Staff():\n",
    "    def __init__(self,name,appt,base_salary):\n",
    "        self.__name = name\n",
    "        self.__appt = appt\n",
    "        self.__base_salary = float(base_salary)\n",
    "    def calc_annual_salary(self):\n",
    "        return float(self.__base_salary * 12.0)\n",
    "    def __repr__(self):\n",
    "        return f\"<{self.__name}:{self.__appt}:{self.__base_salary}>\"\n",
    "    def get_salary(self):\n",
    "        return self.__base_salary"
   ]
  },
  {
   "cell_type": "code",
   "execution_count": 56,
   "metadata": {},
   "outputs": [],
   "source": [
    "# Task 4.2\n",
    "class PermStaff(Staff):\n",
    "    def __init__(self,name,appt,base_salary,bonus_rating = 0.0):\n",
    "        super().__init__(name,appt,base_salary)\n",
    "        self.__bonus_rating = float(bonus_rating)\n",
    "    def calc_annual_salary(self):\n",
    "        return float(self.get_salary() * 12.0 + self.get_salary() * self.__bonus_rating * 12.0)\n",
    "class CommisionStaff(Staff):\n",
    "    def __init__(self,name,appt,base_salary,commission_rate = 0.005,revenue_generated = 0):\n",
    "        super().__init__(name,appt,base_salary)\n",
    "        self.__commission_rate = float(commission_rate)\n",
    "        self.__revenue_generated = float(revenue_generated)\n",
    "    def calc_annual_salary(self):\n",
    "        return float(self.get_salary() * 12.0 + self.__revenue_generated * self.__commission_rate)\n",
    "    "
   ]
  },
  {
   "cell_type": "code",
   "execution_count": 57,
   "metadata": {},
   "outputs": [
    {
     "name": "stdout",
     "output_type": "stream",
     "text": [
      "[<Amelia Davis:Clerk:3100.0>, <Jessica Martinez:Sales Executive:3500.0>, <Sophie Johnson:Logistics Dept Head:6800.0>, <Emily Smith:Receptionist:3200.0>, <William Johnson:Receptionist:3000.0>, <Joshua Davis:Admin Officer:3200.0>, <Grace Brown:Admin Manager:5900.0>, <Oliver Rodriguez:Vice President:12000.0>, <James Martinez:Sales Dept Head:6800.0>, <Jack Smith:Logistics Executive:4500.0>, <Chloe Miller:Sales Executive:3300.0>]\n"
     ]
    }
   ],
   "source": [
    "# Task 4.3\n",
    "members = []\n",
    "with open(\"STAFF.CSV\") as f:\n",
    "    for line in f:\n",
    "        temp = line.strip().split(',')\n",
    "        if temp[0] == \"Name\": continue\n",
    "        else:\n",
    "            temp[1] = temp[1].strip()\n",
    "            #print(temp)\n",
    "            if temp[3]: members.append(PermStaff(temp[0],temp[1],temp[2],temp[3]))\n",
    "            elif temp[4] or temp[5]: members.append(CommisionStaff(temp[0],temp[1],temp[2],temp[4],temp[5]))\n",
    "            else: members.append(Staff(temp[0],temp[1],temp[2]))\n",
    "print(members)"
   ]
  },
  {
   "cell_type": "code",
   "execution_count": 60,
   "metadata": {},
   "outputs": [
    {
     "name": "stdout",
     "output_type": "stream",
     "text": [
      "[<Chloe Miller:Sales Executive:3300.0>, <Jack Smith:Logistics Executive:4500.0>, <James Martinez:Sales Dept Head:6800.0>, <Oliver Rodriguez:Vice President:12000.0>, <Grace Brown:Admin Manager:5900.0>, <Joshua Davis:Admin Officer:3200.0>, <William Johnson:Receptionist:3000.0>, <Emily Smith:Receptionist:3200.0>, <Sophie Johnson:Logistics Dept Head:6800.0>, <Jessica Martinez:Sales Executive:3500.0>, <Amelia Davis:Clerk:3100.0>]\n"
     ]
    }
   ],
   "source": [
    "# Task 4.4\n",
    "top_earners = []\n",
    "temp_members = members[0:]\n",
    "max = 0\n",
    "length = int(len(temp_members))\n",
    "# assuming that each staff's income is different from all the rest\n",
    "while temp_members:\n",
    "    for y in range(length):\n",
    "        if temp_members[y].calc_annual_salary() > max:\n",
    "            max = temp_members[y].calc_annual_salary()\n",
    "            current_max = y\n",
    "    top_earners.append(temp_members[y])\n",
    "    temp_members.remove(temp_members[y])\n",
    "    length -= 1\n",
    "print(top_earners)\n",
    "        \n",
    "            "
   ]
  },
  {
   "cell_type": "markdown",
   "metadata": {},
   "source": [
    "# Task 4.5\n",
    "Encapsulation : \n",
    "Binding the data and operations that act on that data into a single object and hiding the details of the implementation by using private and public attributes.\n",
    "e.g. calc_annual_salary() is an operation that can only be done to the attributes of base_salary belonging to the Staff class\n",
    "     and the \"__\" prefix of the attributes makes it so that it is only accessible in the class operations and not outside\n",
    "\n",
    "Inheritance : \n",
    "Allows establishment of a is-a relationship between the superclass and the subclass and generalises the behaviour of a set of objects.\n",
    "e.g. PermStaff is a subclass of Staff, where PermStaff inherits the attributes and methods that Staff has\n",
    "\n",
    "Polymorphism : \n",
    "Allows different behaviours for the same method across different types of objects, and allows the subclass' methods to override the superclass' methods.\n",
    "e.g. PermStaff's calc_annual_salary() method overrides Staff's calc_annual_salary() method to add the extra bonuses to the final value\n",
    "\n"
   ]
  }
 ],
 "metadata": {
  "kernelspec": {
   "display_name": "Python 3",
   "language": "python",
   "name": "python3"
  },
  "language_info": {
   "codemirror_mode": {
    "name": "ipython",
    "version": 3
   },
   "file_extension": ".py",
   "mimetype": "text/x-python",
   "name": "python",
   "nbconvert_exporter": "python",
   "pygments_lexer": "ipython3",
   "version": "3.6.4"
  }
 },
 "nbformat": 4,
 "nbformat_minor": 2
}
