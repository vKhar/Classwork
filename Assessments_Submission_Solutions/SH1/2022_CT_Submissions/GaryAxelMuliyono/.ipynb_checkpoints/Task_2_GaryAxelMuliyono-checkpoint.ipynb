{
 "cells": [
  {
   "cell_type": "code",
   "execution_count": 16,
   "metadata": {},
   "outputs": [],
   "source": [
    "# Task 2.1\n",
    "def re_sum(start, ratio, end):\n",
    "    if start == end:\n",
    "        temp = start * ratio**(end-1)\n",
    "        return (temp, f\"{temp} \")\n",
    "    else:\n",
    "        temp = start * ratio**(end-1)\n",
    "        return (temp + re_sum(start, ratio, end-1)[0], re_sum(start, ratio, end-1)[1] + f\"{temp} \")"
   ]
  },
  {
   "cell_type": "code",
   "execution_count": 19,
   "metadata": {},
   "outputs": [
    {
     "name": "stdout",
     "output_type": "stream",
     "text": [
      "1 2 4 8 16 32 64 128 256 512 \n",
      "1023\n"
     ]
    }
   ],
   "source": [
    "g_sum, terms = re_sum(1,2,10)\n",
    "print(terms)\n",
    "print(g_sum)"
   ]
  },
  {
   "cell_type": "markdown",
   "metadata": {},
   "source": [
    "# Task 2.3\n",
    "Advantage : When using a large number for the variable end, there will be no runtime error caused by Stack Overflow as no large amounts of call frames will be created and stored in the call stack, allowing for larger datsets to be used.\n",
    "\n",
    "Disadvantage : The iterative approach requires more precise program code in how many iterations the code run, hence possibly creating a larger margin of error."
   ]
  }
 ],
 "metadata": {
  "kernelspec": {
   "display_name": "Python 3",
   "language": "python",
   "name": "python3"
  },
  "language_info": {
   "codemirror_mode": {
    "name": "ipython",
    "version": 3
   },
   "file_extension": ".py",
   "mimetype": "text/x-python",
   "name": "python",
   "nbconvert_exporter": "python",
   "pygments_lexer": "ipython3",
   "version": "3.6.4"
  }
 },
 "nbformat": 4,
 "nbformat_minor": 2
}
