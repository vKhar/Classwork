{
 "cells": [
  {
   "cell_type": "code",
   "execution_count": null,
   "metadata": {},
   "outputs": [],
   "source": [
    "#Task 2.1\n",
    "sequence =[]\n",
    "def re_sum(a,r,m) :\n",
    "    sequence.append(str(a))\n",
    "    if m == 1 :\n",
    "        return \" \".join(sequence)\n",
    "    else :\n",
    "        m -=1\n",
    "        sequence.append(str(re_sum(a*r,r,m)))\n",
    "        print(sequence)\n",
    "print(re_sum(1,2,3))"
   ]
  },
  {
   "cell_type": "markdown",
   "metadata": {},
   "source": [
    "- incorrect base case\n",
    "- incorrect recusive case\n",
    "- WHY ARE YOU PRINTING THE SEQUENCE in line 10 !!!!\n",
    "- no sum calculation\n",
    "- 0/6"
   ]
  },
  {
   "cell_type": "markdown",
   "metadata": {},
   "source": [
    "Task 2.2\n",
    "- 0/4\n",
    "\n",
    "Task 2.3\n",
    "- 0/2\n",
    "\n",
    "## Total\n",
    "0/12"
   ]
  }
 ],
 "metadata": {
  "kernelspec": {
   "display_name": "Python 3",
   "language": "python",
   "name": "python3"
  },
  "language_info": {
   "codemirror_mode": {
    "name": "ipython",
    "version": 3
   },
   "file_extension": ".py",
   "mimetype": "text/x-python",
   "name": "python",
   "nbconvert_exporter": "python",
   "pygments_lexer": "ipython3",
   "version": "3.6.4"
  }
 },
 "nbformat": 4,
 "nbformat_minor": 2
}
