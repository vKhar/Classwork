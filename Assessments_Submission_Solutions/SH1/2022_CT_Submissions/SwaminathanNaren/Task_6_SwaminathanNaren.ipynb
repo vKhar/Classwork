{
 "cells": [
  {
   "cell_type": "code",
   "execution_count": null,
   "metadata": {},
   "outputs": [],
   "source": [
    "#Task 6.1\n",
    "import random\n",
    "randints = []\n",
    "n = int(input(\"Give ceiling for range of n : \"))\n",
    "for i in range(1000) :\n",
    "    randints.append(random.randint(1,n+1))\n",
    "table = {}\n",
    "for i in range(1,n+1) :\n",
    "    table[i] = f\"        {randints.count(i)}\"\n",
    "output = [\"integer  frequency\"]\n",
    "for i in table :\n",
    "    output.append(f\"   {i}{table[i]}\")\n",
    "for i in output :\n",
    "    print(i)"
   ]
  },
  {
   "cell_type": "markdown",
   "metadata": {},
   "source": [
    "- line 6 randint uses  a closed(inclusive) range\n",
    "- why do you need another output list ??!! you can just print the header and iterate over the dictionary to print\n",
    "- sum of all frequencys does not add up to 1000\n",
    "- 6/8"
   ]
  },
  {
   "cell_type": "code",
   "execution_count": null,
   "metadata": {},
   "outputs": [],
   "source": [
    "#Task 6.2\n",
    "import random\n",
    "random_numbers = []\n",
    "try :\n",
    "    m = int(input())\n",
    "    n = int(input())\n",
    "    if m > n :\n",
    "        print(\"Invalid data\")\n",
    "    else :\n",
    "        for i in range(m):\n",
    "            random_numbers.append(random.randint(1,n+1))\n",
    "except:\n",
    "    print(\"Invalid data\")"
   ]
  },
  {
   "cell_type": "markdown",
   "metadata": {},
   "source": [
    "- line 11, repeated random numbers can be generated\n",
    "- 2/4"
   ]
  },
  {
   "cell_type": "code",
   "execution_count": null,
   "metadata": {},
   "outputs": [],
   "source": [
    "#Task 6.3\n",
    "import random\n",
    "def shuffle(L) :\n",
    "    i = 0\n",
    "    randindex = []\n",
    "    Lduplicate = L[::]\n",
    "    while i in range(len(L)) :\n",
    "        q = (random.randint(0,len(L)-1))\n",
    "        if q not in randindex :\n",
    "            randindex.append(q)\n",
    "            i += 1\n",
    "    for j in range(len(L)) :\n",
    "        L[j] = Lduplicate[randindex[j]]\n",
    "    return L"
   ]
  },
  {
   "cell_type": "markdown",
   "metadata": {},
   "source": [
    "- line 7 do you know what you are doing ??\n",
    "- randindex will not have the same number of elements as in L\n",
    "- 1/6"
   ]
  },
  {
   "cell_type": "markdown",
   "metadata": {},
   "source": [
    "### Total\n",
    "9/16"
   ]
  }
 ],
 "metadata": {
  "interpreter": {
   "hash": "f4e9cda46bb2d9d7fe6ecdff0f8336a934348bf06cb492f2f42f60739b3403b4"
  },
  "kernelspec": {
   "display_name": "Python 3.6.4 64-bit",
   "language": "python",
   "name": "python3"
  },
  "language_info": {
   "codemirror_mode": {
    "name": "ipython",
    "version": 3
   },
   "file_extension": ".py",
   "mimetype": "text/x-python",
   "name": "python",
   "nbconvert_exporter": "python",
   "pygments_lexer": "ipython3",
   "version": "3.6.4"
  }
 },
 "nbformat": 4,
 "nbformat_minor": 2
}
