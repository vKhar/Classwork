{
 "cells": [
  {
   "cell_type": "code",
   "execution_count": 3,
   "metadata": {},
   "outputs": [],
   "source": [
    "#Task 1.1\n",
    "def generate_digit(n):\n",
    "    integer_value = 0\n",
    "    for i in range(len(n)) :\n",
    "        if i%2 == 0 :\n",
    "            integer_value+= (int(n[i])*1)\n",
    "        else :\n",
    "            integer_value+= (int(n[i])*3)\n",
    "    return integer_value%10\n",
    "generate_digit(\"2814307\")\n",
    "\n",
    "#Task 1.2\n",
    "f = open(\"7DIGITS_CODE.TXT\")\n",
    "f2 = open(\"GTIN.TXT\",\"w\")\n",
    "for line in f.readlines() :\n",
    "    GTIN_identifier = f\"{line.strip()}{generate_digit(line.strip())}\"\n",
    "    f2.write(f\"{GTIN_identifier},\")\n",
    "f.close()\n",
    "f2.close()\n",
    "\n",
    "#Task 1.3\n",
    "\n",
    "#Task 1.4"
   ]
  },
  {
   "cell_type": "markdown",
   "metadata": {},
   "source": [
    "- leftmost digit starts at 1 NOT 0\n",
    "- incorrect calculation of check digit\n",
    "- 2/5\n"
   ]
  },
  {
   "cell_type": "markdown",
   "metadata": {},
   "source": [
    "# - WHY ARE THERE 2 copies of Task1.2, which one should I mark ??!!!"
   ]
  },
  {
   "cell_type": "code",
   "execution_count": null,
   "metadata": {},
   "outputs": [],
   "source": [
    "#Task 1.2\n",
    "f = open(\"7DIGITS_CODE.TXT\")\n",
    "f2 = open(\"GTIN.TXT\",\"w\")\n",
    "for line in f.readlines() :\n",
    "    GTIN_identifier = f\"{line.strip()}{generate_digit(line.strip())}\"\n",
    "    f2.write(f\"{GTIN_identifier},\")\n",
    "f.close()\n",
    "f2.close()"
   ]
  },
  {
   "cell_type": "markdown",
   "metadata": {},
   "source": [
    "4/4"
   ]
  },
  {
   "cell_type": "markdown",
   "metadata": {},
   "source": [
    "Task 1.3\n",
    "- 0/1\n",
    "\n",
    "Task 1.4\n",
    "- 0/4\n",
    "\n",
    "### Total\n",
    "6/14"
   ]
  }
 ],
 "metadata": {
  "interpreter": {
   "hash": "f4e9cda46bb2d9d7fe6ecdff0f8336a934348bf06cb492f2f42f60739b3403b4"
  },
  "kernelspec": {
   "display_name": "Python 3.6.4 64-bit",
   "language": "python",
   "name": "python3"
  },
  "language_info": {
   "codemirror_mode": {
    "name": "ipython",
    "version": 3
   },
   "file_extension": ".py",
   "mimetype": "text/x-python",
   "name": "python",
   "nbconvert_exporter": "python",
   "pygments_lexer": "ipython3",
   "version": "3.6.4"
  }
 },
 "nbformat": 4,
 "nbformat_minor": 2
}
