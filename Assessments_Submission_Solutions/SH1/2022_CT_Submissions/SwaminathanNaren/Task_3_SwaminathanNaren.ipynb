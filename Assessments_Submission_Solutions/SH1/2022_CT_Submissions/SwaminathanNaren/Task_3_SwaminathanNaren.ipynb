{
 "cells": [
  {
   "cell_type": "code",
   "execution_count": null,
   "metadata": {},
   "outputs": [],
   "source": [
    "#Task3.1\n",
    "players = []\n",
    "f = open(\"NAMES.TXT\")\n",
    "for name in f.readlines() :\n",
    "    players.append(name.strip())\n",
    "f.close()"
   ]
  },
  {
   "cell_type": "markdown",
   "metadata": {},
   "source": [
    "- 2/2"
   ]
  },
  {
   "cell_type": "code",
   "execution_count": null,
   "metadata": {},
   "outputs": [],
   "source": [
    "#Task 3.2\n",
    "def whoWins(players, m):\n",
    "    person = m\n",
    "    while len(players)>1 :\n",
    "        try :\n",
    "            players.remove(players[person])\n",
    "            person += m\n",
    "        except :\n",
    "            players.remove(players[m%len(players)])\n",
    "            print(players)\n",
    "    return(players[0])\n",
    "whoWins([\"w\",\"e\",\"r\",\"d\",\"a\"],1)"
   ]
  },
  {
   "cell_type": "markdown",
   "metadata": {},
   "source": [
    "Task 3.2\n",
    "- line 7, 9 wrong interpretation of problem, after bomb explodes, the next player starts the game \n",
    "- INCORRECT USE of exception handing\n",
    "- 1/6\n",
    "\n",
    "### TOTAL\n",
    "3/15"
   ]
  },
  {
   "cell_type": "code",
   "execution_count": null,
   "metadata": {},
   "outputs": [],
   "source": [
    "liz = [1,2,3,4]\n",
    "liz.remove(1)\n",
    "print(liz)"
   ]
  },
  {
   "cell_type": "code",
   "execution_count": null,
   "metadata": {},
   "outputs": [],
   "source": [
    "print(10%5)"
   ]
  },
  {
   "cell_type": "markdown",
   "metadata": {},
   "source": [
    "# PLEASE REMOVE ALL DEBUGGING STATEMENTS IN YOUR SUBMISSION !!! AM I SUPPOSE TO MARK THOSE!!!\n",
    "\n",
    "# AGAIN YOU HAVE 2 COPIES!!!"
   ]
  },
  {
   "cell_type": "code",
   "execution_count": null,
   "metadata": {},
   "outputs": [],
   "source": [
    "def whoWins(players, m):\n",
    "    while len(players)>1 :\n",
    "        if len(players)>m :\n",
    "            players.remove(players[m])\n",
    "            print(players)\n",
    "        else :\n",
    "            players.remove(players[m%len(players)])\n",
    "    return players\n",
    "whoWins([\"w\",\"e\",\"r\",\"d\",\"a\"],1)           "
   ]
  }
 ],
 "metadata": {
  "interpreter": {
   "hash": "f4e9cda46bb2d9d7fe6ecdff0f8336a934348bf06cb492f2f42f60739b3403b4"
  },
  "kernelspec": {
   "display_name": "Python 3.6.4 64-bit",
   "language": "python",
   "name": "python3"
  },
  "language_info": {
   "codemirror_mode": {
    "name": "ipython",
    "version": 3
   },
   "file_extension": ".py",
   "mimetype": "text/x-python",
   "name": "python",
   "nbconvert_exporter": "python",
   "pygments_lexer": "ipython3",
   "version": "3.6.4"
  }
 },
 "nbformat": 4,
 "nbformat_minor": 2
}
