{
 "cells": [
  {
   "cell_type": "code",
   "execution_count": null,
   "metadata": {},
   "outputs": [],
   "source": [
    "#Task 4.1\n",
    "class Staff :\n",
    "    def self.__init__(name,appt,base_salary):\n",
    "        self.name = str(name)\n",
    "        self.appt = str(appt)\n",
    "        self.base_salary = float(base_salary)\n",
    "    def get_name(self) :\n",
    "        return str(self.name)\n",
    "    def get_appt(self) :\n",
    "        return str(self.appt)\n",
    "    def get_base_salary(self) :\n",
    "        return float(self.base_salary)\n",
    "    def calc_annual_salary(self) :\n",
    "        return float(get_base_salay*12)\n",
    "    def  __repr__(self) :\n",
    "        return f\"{get_name},{get_appt},{self.calc_annual_salary()}\""
   ]
  },
  {
   "cell_type": "markdown",
   "metadata": {},
   "source": [
    "- INCORRECT constructor !!!! Do you know how to correct the syntax error when you run it ???!!!!\n",
    "- WHY ARE YOU converting str multiple times ?!!!!\n",
    "- line 13, 15 , get_base_salary, etc  are   methods ?!!!!\n",
    "- Why no setters?!!\n",
    "- I DO NOT expect students to lose marks for this question\n",
    "- 1/4"
   ]
  },
  {
   "cell_type": "code",
   "execution_count": null,
   "metadata": {},
   "outputs": [],
   "source": [
    "#Task 4.2\n",
    "class Permstaff(Staff) :\n",
    "    def super().__init__()(name,appt,base_salary,bonus_ratings):\n",
    "        self.bonus_ratings = float(bonus_ratings)\n",
    "    def get_bonus_ratings(self) :\n",
    "        return float(self.bonus_ratings)\n",
    "    def calc_annual_salary(self) :\n",
    "        return get_base_salary*12 + get_base_salary*12*get_bonus_rating"
   ]
  },
  {
   "cell_type": "markdown",
   "metadata": {},
   "source": [
    "- line 3 ??!!\n",
    "- line 8\n",
    "- Where is class CommisionStaff\n",
    "- 0/4"
   ]
  },
  {
   "cell_type": "code",
   "execution_count": null,
   "metadata": {},
   "outputs": [],
   "source": [
    "#Task 4.3\n",
    "list1 = []\n",
    "f = open(\"STAFF.CSV\")\n",
    "for line in f.readlines() :\n",
    "    line = line.strip().split(',')\n",
    "    staff = Staff(line[0],line[1],line[2])\n",
    "    list1.append(staff.__repr__(self))\n",
    "f.close()"
   ]
  },
  {
   "cell_type": "markdown",
   "metadata": {},
   "source": [
    "- line 7 ?!!! YOU ARE SUPPOSE TO CREATE A LIST of Staff objects \n",
    "- DID YOU OPEN AND LOOK AT THE FILE, WHY ARE YOU PROCSSING THE HEADER!!!!   \n",
    "- 1/4"
   ]
  },
  {
   "cell_type": "markdown",
   "metadata": {},
   "source": [
    "4.5\n",
    "- 0/4\n",
    "\n",
    "4.6\n",
    "- 0/6"
   ]
  },
  {
   "cell_type": "markdown",
   "metadata": {},
   "source": [
    "### TOTAL\n",
    "- 2/22"
   ]
  }
 ],
 "metadata": {
  "interpreter": {
   "hash": "f4e9cda46bb2d9d7fe6ecdff0f8336a934348bf06cb492f2f42f60739b3403b4"
  },
  "kernelspec": {
   "display_name": "Python 3.6.4 64-bit",
   "language": "python",
   "name": "python3"
  },
  "language_info": {
   "codemirror_mode": {
    "name": "ipython",
    "version": 3
   },
   "file_extension": ".py",
   "mimetype": "text/x-python",
   "name": "python",
   "nbconvert_exporter": "python",
   "pygments_lexer": "ipython3",
   "version": "3.6.4"
  }
 },
 "nbformat": 4,
 "nbformat_minor": 2
}
