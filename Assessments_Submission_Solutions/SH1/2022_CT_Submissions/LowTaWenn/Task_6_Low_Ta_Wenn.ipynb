{
 "cells": [
  {
   "cell_type": "code",
   "execution_count": null,
   "metadata": {},
   "outputs": [],
   "source": [
    "# Task 6.1\n",
    "import random\n",
    "n = int(input())\n",
    "full_num_list = []\n",
    "num_list = []\n",
    "for i in range(0, 1000):\n",
    "    random_num = random.randint(1, n)\n",
    "    full_num_list.append(random_num)\n",
    "for i in range(1, n+1):\n",
    "    each_num_count = full_num_list.count(i)\n",
    "    num_list.append(each_num_count)\n",
    "print(\"integer frequency\")\n",
    "for i in range(1, n+1):\n",
    "    print(f\"   {i}       {num_list[i-1]}\")\n",
    "    \n",
    "# Task 6.2\n",
    "m = int(input(\"Value of m:\"))\n",
    "n = int(input(\"Value of n:\")) #assume m <= n\n",
    "new_list = []\n",
    "for i in range(0, m):\n",
    "    random_num = random.randint(1, n)\n",
    "    while new_list.count(random_num) > 0:\n",
    "        random_num = random.randint(1, n)\n",
    "    new_list.append(random_num)\n",
    "\n",
    "# Task 6.3\n",
    "def shuffle(L):\n",
    "    random_index_list = []\n",
    "    for i in range(0, len(L)):\n",
    "        random_num = random.randint(0, len(L)-1)\n",
    "        random_index_list.append(random_num)\n",
    "        while random_index_list.count(random_num)>1:\n",
    "            random_num = random.randint(0, len(L))\n",
    "            random_index_list.pop[i]\n",
    "            random_index_list.append(random_num)\n",
    "    return random_index_list\n",
    "print(shuffle([1,2,3]))\n",
    "    \n",
    "    \n"
   ]
  },
  {
   "cell_type": "markdown",
   "metadata": {},
   "source": [
    "Task 6.1\n",
    "- 8/8\n",
    "\n",
    "Task 6.2\n",
    "- 4/4\n",
    "\n",
    "Task 6.3\n",
    " - line 33 random indexes should ne from 0 to len(L)-1\n",
    " - line 34 pop is a method call\n",
    " - you are not returning the contents of L, just indexes\n",
    " - 2/4\n",
    "\n",
    " ### Total\n",
    " 14/16\n"
   ]
  },
  {
   "cell_type": "markdown",
   "metadata": {},
   "source": [
    "##### "
   ]
  }
 ],
 "metadata": {
  "kernelspec": {
   "display_name": "Python 3",
   "language": "python",
   "name": "python3"
  },
  "language_info": {
   "codemirror_mode": {
    "name": "ipython",
    "version": 3
   },
   "file_extension": ".py",
   "mimetype": "text/x-python",
   "name": "python",
   "nbconvert_exporter": "python",
   "pygments_lexer": "ipython3",
   "version": "3.6.4"
  }
 },
 "nbformat": 4,
 "nbformat_minor": 2
}
