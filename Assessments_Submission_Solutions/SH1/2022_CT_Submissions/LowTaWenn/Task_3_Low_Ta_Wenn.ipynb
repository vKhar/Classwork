{
 "cells": [
  {
   "cell_type": "code",
   "execution_count": null,
   "metadata": {},
   "outputs": [],
   "source": [
    "# Task 3.1\n",
    "players = []\n",
    "with open(\"NAMES.TXT\") as f:\n",
    "    for i in f:\n",
    "        players.append(i.strip())\n",
    "        \n",
    "# Task 3.2\n",
    "def whoWins(players, m):\n",
    "    new_num = 0\n",
    "    players = players[::]\n",
    "    while len(players) != 1:\n",
    "        new_num = new_num + m\n",
    "        while new_num >= len(players):\n",
    "            diff = new_num - len(players)\n",
    "            new_num = diff\n",
    "        players.pop(new_num)\n",
    "\n",
    "    return players[0]\n",
    "print(whoWins(players, 10))\n",
    "\n",
    "# Task 3.3\n",
    "# White box testing involves tesing without using the code while black box testing involves testing whether the code works without seeing the code through inputting values and getting the correct output.\n",
    "\n",
    "# Task 3.4\n",
    "#test case 1, valid case\n",
    "print(whoWins(players, 3))\n",
    "#test case 2, valid case\n",
    "print(whoWins(players, 2))\n",
    "#test case 3, boundary case\n",
    "print(whoWins(players, 0))\n",
    "#test case 4, invalid case\n",
    "print(whoWins(players, -3))\n",
    "\n",
    "\n"
   ]
  },
  {
   "cell_type": "markdown",
   "metadata": {},
   "source": [
    "Task 3.1\n",
    "- 2/2\n",
    "\n",
    "Task 3.2\n",
    "- 6/6\n",
    "\n",
    "Task 3.3\n",
    "- how to test the code without using the code ?!!\n",
    "- 1/2\n",
    "\n",
    "Task 3.4\n",
    "- need to read the file again before the next test\n",
    "- 4/5\n",
    "\n",
    "### Total\n",
    "13/15"
   ]
  },
  {
   "cell_type": "markdown",
   "metadata": {},
   "source": []
  }
 ],
 "metadata": {
  "kernelspec": {
   "display_name": "Python 3",
   "language": "python",
   "name": "python3"
  },
  "language_info": {
   "codemirror_mode": {
    "name": "ipython",
    "version": 3
   },
   "file_extension": ".py",
   "mimetype": "text/x-python",
   "name": "python",
   "nbconvert_exporter": "python",
   "pygments_lexer": "ipython3",
   "version": "3.6.4"
  }
 },
 "nbformat": 4,
 "nbformat_minor": 2
}
