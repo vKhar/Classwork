{
 "cells": [
  {
   "cell_type": "code",
   "execution_count": null,
   "metadata": {},
   "outputs": [],
   "source": [
    "# Task 5.1\n",
    "# One type is syntax error\n",
    "# Another type is logic error, as the code he uses does not actually randomise the order of the elements in lists A and B, but randomises from 0 to the length of the lists A and B instead.\n",
    "# Another type is runtime error, which could occur in the for loops that he has written\n",
    "\n",
    "# Task 5.2\n",
    "# Line 9 and line 11, the code randomises from 0 to length of list A and length of list B respectively, which does not meet the requirement of randomising the order of elements in list A and list B\n",
    "# Line 13 and line 15 do not answer the question, as they randomise the lists separately before appending them to the output list, but the questions requires the list to contain all the elements from both lists in a randomised order\n"
   ]
  }
 ],
 "metadata": {
  "kernelspec": {
   "display_name": "Python 3",
   "language": "python",
   "name": "python3"
  },
  "language_info": {
   "codemirror_mode": {
    "name": "ipython",
    "version": 3
   },
   "file_extension": ".py",
   "mimetype": "text/x-python",
   "name": "python",
   "nbconvert_exporter": "python",
   "pygments_lexer": "ipython3",
   "version": "3.6.4"
  }
 },
 "nbformat": 4,
 "nbformat_minor": 2
}
