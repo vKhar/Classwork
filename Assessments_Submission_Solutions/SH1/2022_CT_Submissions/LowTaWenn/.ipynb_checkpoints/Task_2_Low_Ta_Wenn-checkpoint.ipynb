{
 "cells": [
  {
   "cell_type": "code",
   "execution_count": 10,
   "metadata": {},
   "outputs": [
    {
     "name": "stdout",
     "output_type": "stream",
     "text": [
      "(36028797018963968, 2, 0)\n"
     ]
    }
   ],
   "source": [
    "#Task 2.1\n",
    "\n",
    "def re_sum(a, r, m):\n",
    "    if m < 1:\n",
    "        return a, r, m\n",
    "    else:\n",
    "        a = a*r**m\n",
    "        return re_sum(a, r, m-1)\n",
    "\n",
    "print(re_sum(1, 2, 10))\n",
    "\n",
    "    \n",
    "    \n",
    "#Task 2.3\n",
    "# One advantage of using the iterative approach is that it would not run out of space while running the code, for example, if there are too many recursions in the recursive approach, there will be an error, which would not happen using the iterative approach.\n",
    "# One disadvantage of using the iterative appraoch is that the solution may not be as intuitive to solve iteratively, and instead, using the recursion appraoch may be more intuitive.\n",
    "        \n",
    "    \n"
   ]
  },
  {
   "cell_type": "code",
   "execution_count": null,
   "metadata": {},
   "outputs": [],
   "source": []
  }
 ],
 "metadata": {
  "kernelspec": {
   "display_name": "Python 3",
   "language": "python",
   "name": "python3"
  },
  "language_info": {
   "codemirror_mode": {
    "name": "ipython",
    "version": 3
   },
   "file_extension": ".py",
   "mimetype": "text/x-python",
   "name": "python",
   "nbconvert_exporter": "python",
   "pygments_lexer": "ipython3",
   "version": "3.6.4"
  }
 },
 "nbformat": 4,
 "nbformat_minor": 2
}
