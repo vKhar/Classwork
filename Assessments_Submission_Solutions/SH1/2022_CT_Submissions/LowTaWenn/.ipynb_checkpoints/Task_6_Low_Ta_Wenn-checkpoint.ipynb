{
 "cells": [
  {
   "cell_type": "code",
   "execution_count": 14,
   "metadata": {},
   "outputs": [
    {
     "name": "stdout",
     "output_type": "stream",
     "text": [
      "5\n",
      "integer frequency\n",
      "   1       206\n",
      "   2       205\n",
      "   3       180\n",
      "   4       224\n",
      "   5       185\n",
      "Value of m:5\n",
      "Value of n:6\n"
     ]
    },
    {
     "ename": "TypeError",
     "evalue": "'builtin_function_or_method' object is not subscriptable",
     "output_type": "error",
     "traceback": [
      "\u001b[1;31m---------------------------------------------------------------------------\u001b[0m",
      "\u001b[1;31mTypeError\u001b[0m                                 Traceback (most recent call last)",
      "\u001b[1;32m<ipython-input-14-855ffd7d8a9d>\u001b[0m in \u001b[0;36m<module>\u001b[1;34m()\u001b[0m\n\u001b[0;32m     35\u001b[0m             \u001b[0mrandom_index_list\u001b[0m\u001b[1;33m.\u001b[0m\u001b[0mappend\u001b[0m\u001b[1;33m(\u001b[0m\u001b[0mrandom_num\u001b[0m\u001b[1;33m)\u001b[0m\u001b[1;33m\u001b[0m\u001b[0m\n\u001b[0;32m     36\u001b[0m     \u001b[1;32mreturn\u001b[0m \u001b[0mrandom_index_list\u001b[0m\u001b[1;33m\u001b[0m\u001b[0m\n\u001b[1;32m---> 37\u001b[1;33m \u001b[0mprint\u001b[0m\u001b[1;33m(\u001b[0m\u001b[0mshuffle\u001b[0m\u001b[1;33m(\u001b[0m\u001b[1;33m[\u001b[0m\u001b[1;36m1\u001b[0m\u001b[1;33m,\u001b[0m\u001b[1;36m2\u001b[0m\u001b[1;33m,\u001b[0m\u001b[1;36m3\u001b[0m\u001b[1;33m]\u001b[0m\u001b[1;33m)\u001b[0m\u001b[1;33m)\u001b[0m\u001b[1;33m\u001b[0m\u001b[0m\n\u001b[0m\u001b[0;32m     38\u001b[0m \u001b[1;33m\u001b[0m\u001b[0m\n\u001b[0;32m     39\u001b[0m \u001b[1;33m\u001b[0m\u001b[0m\n",
      "\u001b[1;32m<ipython-input-14-855ffd7d8a9d>\u001b[0m in \u001b[0;36mshuffle\u001b[1;34m(L)\u001b[0m\n\u001b[0;32m     32\u001b[0m         \u001b[1;32mwhile\u001b[0m \u001b[0mrandom_index_list\u001b[0m\u001b[1;33m.\u001b[0m\u001b[0mcount\u001b[0m\u001b[1;33m(\u001b[0m\u001b[0mrandom_num\u001b[0m\u001b[1;33m)\u001b[0m\u001b[1;33m>\u001b[0m\u001b[1;36m1\u001b[0m\u001b[1;33m:\u001b[0m\u001b[1;33m\u001b[0m\u001b[0m\n\u001b[0;32m     33\u001b[0m             \u001b[0mrandom_num\u001b[0m \u001b[1;33m=\u001b[0m \u001b[0mrandom\u001b[0m\u001b[1;33m.\u001b[0m\u001b[0mrandint\u001b[0m\u001b[1;33m(\u001b[0m\u001b[1;36m0\u001b[0m\u001b[1;33m,\u001b[0m \u001b[0mlen\u001b[0m\u001b[1;33m(\u001b[0m\u001b[0mL\u001b[0m\u001b[1;33m)\u001b[0m\u001b[1;33m)\u001b[0m\u001b[1;33m\u001b[0m\u001b[0m\n\u001b[1;32m---> 34\u001b[1;33m             \u001b[0mrandom_index_list\u001b[0m\u001b[1;33m.\u001b[0m\u001b[0mpop\u001b[0m\u001b[1;33m[\u001b[0m\u001b[0mi\u001b[0m\u001b[1;33m]\u001b[0m\u001b[1;33m\u001b[0m\u001b[0m\n\u001b[0m\u001b[0;32m     35\u001b[0m             \u001b[0mrandom_index_list\u001b[0m\u001b[1;33m.\u001b[0m\u001b[0mappend\u001b[0m\u001b[1;33m(\u001b[0m\u001b[0mrandom_num\u001b[0m\u001b[1;33m)\u001b[0m\u001b[1;33m\u001b[0m\u001b[0m\n\u001b[0;32m     36\u001b[0m     \u001b[1;32mreturn\u001b[0m \u001b[0mrandom_index_list\u001b[0m\u001b[1;33m\u001b[0m\u001b[0m\n",
      "\u001b[1;31mTypeError\u001b[0m: 'builtin_function_or_method' object is not subscriptable"
     ]
    }
   ],
   "source": [
    "# Task 6.1\n",
    "import random\n",
    "n = int(input())\n",
    "full_num_list = []\n",
    "num_list = []\n",
    "for i in range(0, 1000):\n",
    "    random_num = random.randint(1, n)\n",
    "    full_num_list.append(random_num)\n",
    "for i in range(1, n+1):\n",
    "    each_num_count = full_num_list.count(i)\n",
    "    num_list.append(each_num_count)\n",
    "print(\"integer frequency\")\n",
    "for i in range(1, n+1):\n",
    "    print(f\"   {i}       {num_list[i-1]}\")\n",
    "    \n",
    "# Task 6.2\n",
    "m = int(input(\"Value of m:\"))\n",
    "n = int(input(\"Value of n:\")) #assume m <= n\n",
    "new_list = []\n",
    "for i in range(0, m):\n",
    "    random_num = random.randint(1, n)\n",
    "    while new_list.count(random_num) > 0:\n",
    "        random_num = random.randint(1, n)\n",
    "    new_list.append(random_num)\n",
    "\n",
    "# Task 6.3\n",
    "def shuffle(L):\n",
    "    random_index_list = []\n",
    "    for i in range(0, len(L)):\n",
    "        random_num = random.randint(0, len(L)-1)\n",
    "        random_index_list.append(random_num)\n",
    "        while random_index_list.count(random_num)>1:\n",
    "            random_num = random.randint(0, len(L))\n",
    "            random_index_list.pop[i]\n",
    "            random_index_list.append(random_num)\n",
    "    return random_index_list\n",
    "print(shuffle([1,2,3]))\n",
    "    \n",
    "    \n"
   ]
  },
  {
   "cell_type": "markdown",
   "metadata": {},
   "source": [
    "##### "
   ]
  }
 ],
 "metadata": {
  "kernelspec": {
   "display_name": "Python 3",
   "language": "python",
   "name": "python3"
  },
  "language_info": {
   "codemirror_mode": {
    "name": "ipython",
    "version": 3
   },
   "file_extension": ".py",
   "mimetype": "text/x-python",
   "name": "python",
   "nbconvert_exporter": "python",
   "pygments_lexer": "ipython3",
   "version": "3.6.4"
  }
 },
 "nbformat": 4,
 "nbformat_minor": 2
}
