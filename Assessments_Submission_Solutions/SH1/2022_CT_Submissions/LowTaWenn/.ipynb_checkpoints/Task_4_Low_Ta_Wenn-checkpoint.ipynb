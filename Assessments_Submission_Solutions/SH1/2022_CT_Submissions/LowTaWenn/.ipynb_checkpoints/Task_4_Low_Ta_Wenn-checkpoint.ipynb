{
 "cells": [
  {
   "cell_type": "code",
   "execution_count": 17,
   "metadata": {},
   "outputs": [
    {
     "name": "stdout",
     "output_type": "stream",
     "text": [
      "[['Amelia Davis', ' Clerk', '3100', '', '', ''], ['Jessica Martinez', ' Sales Executive', '3500', '', '0.005', '120000'], ['Sophie Johnson', ' Logistics Dept Head', '6800', '1.5', '', ''], ['Emily Smith', ' Receptionist', '3200', '', '', ''], ['William Johnson', ' Receptionist', '3000', '', '', ''], ['Joshua Davis', ' Admin Officer', '3200', '', '', ''], ['Grace Brown', ' Admin Manager', '5900', '2.2', '', ''], ['Oliver Rodriguez', ' Vice President', '12000', '1.8', '', ''], ['James Martinez', ' Sales Dept Head', '6800', '', '0.007', '80000'], ['Jack Smith', ' Logistics Executive', '4500', '2.6', '', ''], ['Chloe Miller', ' Sales Executive', '3300', '', '0.005', '90000']]\n"
     ]
    },
    {
     "ename": "RecursionError",
     "evalue": "maximum recursion depth exceeded while getting the str of an object",
     "output_type": "error",
     "traceback": [
      "\u001b[1;31m---------------------------------------------------------------------------\u001b[0m",
      "\u001b[1;31mRecursionError\u001b[0m                            Traceback (most recent call last)",
      "\u001b[1;32m<ipython-input-17-7187744c5f73>\u001b[0m in \u001b[0;36m<module>\u001b[1;34m()\u001b[0m\n\u001b[0;32m     59\u001b[0m     \u001b[0ma\u001b[0m \u001b[1;33m=\u001b[0m \u001b[0mStaff\u001b[0m\u001b[1;33m(\u001b[0m\u001b[0mfile_list\u001b[0m\u001b[1;33m[\u001b[0m\u001b[0mi\u001b[0m\u001b[1;33m]\u001b[0m\u001b[1;33m[\u001b[0m\u001b[1;36m0\u001b[0m\u001b[1;33m]\u001b[0m\u001b[1;33m,\u001b[0m \u001b[0mfile_list\u001b[0m\u001b[1;33m[\u001b[0m\u001b[0mi\u001b[0m\u001b[1;33m]\u001b[0m\u001b[1;33m[\u001b[0m\u001b[1;36m1\u001b[0m\u001b[1;33m]\u001b[0m\u001b[1;33m,\u001b[0m \u001b[0mfloat\u001b[0m\u001b[1;33m(\u001b[0m\u001b[0mfile_list\u001b[0m\u001b[1;33m[\u001b[0m\u001b[0mi\u001b[0m\u001b[1;33m]\u001b[0m\u001b[1;33m[\u001b[0m\u001b[1;36m2\u001b[0m\u001b[1;33m]\u001b[0m\u001b[1;33m)\u001b[0m\u001b[1;33m)\u001b[0m\u001b[1;33m\u001b[0m\u001b[0m\n\u001b[0;32m     60\u001b[0m     \u001b[0mstaff_obj_list\u001b[0m\u001b[1;33m.\u001b[0m\u001b[0mappend\u001b[0m\u001b[1;33m(\u001b[0m\u001b[0ma\u001b[0m\u001b[1;33m)\u001b[0m\u001b[1;33m\u001b[0m\u001b[0m\n\u001b[1;32m---> 61\u001b[1;33m \u001b[0mprint\u001b[0m\u001b[1;33m(\u001b[0m\u001b[0mstaff_obj_list\u001b[0m\u001b[1;33m)\u001b[0m\u001b[1;33m\u001b[0m\u001b[0m\n\u001b[0m\u001b[0;32m     62\u001b[0m \u001b[1;33m\u001b[0m\u001b[0m\n\u001b[0;32m     63\u001b[0m \u001b[1;33m\u001b[0m\u001b[0m\n",
      "\u001b[1;32m<ipython-input-17-7187744c5f73>\u001b[0m in \u001b[0;36m__repr__\u001b[1;34m(self)\u001b[0m\n\u001b[0;32m     14\u001b[0m         \u001b[1;32mreturn\u001b[0m \u001b[0mself\u001b[0m\u001b[1;33m.\u001b[0m\u001b[0m__base_salary\u001b[0m \u001b[1;33m*\u001b[0m \u001b[1;36m12\u001b[0m\u001b[1;33m\u001b[0m\u001b[0m\n\u001b[0;32m     15\u001b[0m     \u001b[1;32mdef\u001b[0m \u001b[0m__repr__\u001b[0m\u001b[1;33m(\u001b[0m\u001b[0mself\u001b[0m\u001b[1;33m)\u001b[0m\u001b[1;33m:\u001b[0m\u001b[1;33m\u001b[0m\u001b[0m\n\u001b[1;32m---> 16\u001b[1;33m         \u001b[1;32mreturn\u001b[0m \u001b[1;34mf\"<{self.__name}:{self.__appt}:{self.calc_annual_salary}>\"\u001b[0m\u001b[1;33m\u001b[0m\u001b[0m\n\u001b[0m\u001b[0;32m     17\u001b[0m \u001b[1;33m\u001b[0m\u001b[0m\n\u001b[0;32m     18\u001b[0m \u001b[1;31m# Task 4.2\u001b[0m\u001b[1;33m\u001b[0m\u001b[1;33m\u001b[0m\u001b[0m\n",
      "... last 1 frames repeated, from the frame below ...\n",
      "\u001b[1;32m<ipython-input-17-7187744c5f73>\u001b[0m in \u001b[0;36m__repr__\u001b[1;34m(self)\u001b[0m\n\u001b[0;32m     14\u001b[0m         \u001b[1;32mreturn\u001b[0m \u001b[0mself\u001b[0m\u001b[1;33m.\u001b[0m\u001b[0m__base_salary\u001b[0m \u001b[1;33m*\u001b[0m \u001b[1;36m12\u001b[0m\u001b[1;33m\u001b[0m\u001b[0m\n\u001b[0;32m     15\u001b[0m     \u001b[1;32mdef\u001b[0m \u001b[0m__repr__\u001b[0m\u001b[1;33m(\u001b[0m\u001b[0mself\u001b[0m\u001b[1;33m)\u001b[0m\u001b[1;33m:\u001b[0m\u001b[1;33m\u001b[0m\u001b[0m\n\u001b[1;32m---> 16\u001b[1;33m         \u001b[1;32mreturn\u001b[0m \u001b[1;34mf\"<{self.__name}:{self.__appt}:{self.calc_annual_salary}>\"\u001b[0m\u001b[1;33m\u001b[0m\u001b[0m\n\u001b[0m\u001b[0;32m     17\u001b[0m \u001b[1;33m\u001b[0m\u001b[0m\n\u001b[0;32m     18\u001b[0m \u001b[1;31m# Task 4.2\u001b[0m\u001b[1;33m\u001b[0m\u001b[1;33m\u001b[0m\u001b[0m\n",
      "\u001b[1;31mRecursionError\u001b[0m: maximum recursion depth exceeded while getting the str of an object"
     ]
    }
   ],
   "source": [
    "# Task 4.1\n",
    "class Staff:\n",
    "    def __init__(self, name, appt, base_salary):\n",
    "        self.__name = name\n",
    "        self.__appt = appt\n",
    "        self.__base_salary = base_salary\n",
    "    def get_name(self):\n",
    "        return self.__name\n",
    "    def get_appt(self):\n",
    "        return self.__appt\n",
    "    def get_base_salary(self):\n",
    "        return self.__base_salary\n",
    "    def calc_annual_salary(self):\n",
    "        return self.__base_salary * 12\n",
    "    def __repr__(self):\n",
    "        return f\"<{self.__name}:{self.__appt}:{self.calc_annual_salary}>\"\n",
    "\n",
    "# Task 4.2\n",
    "class Premstaff(Staff):\n",
    "    def __init__(self, name, appt, base_salary, bonus_rating):\n",
    "        self.__bonus_rating = bonus_rating\n",
    "        super().__init__(self, name, appt, base_salary)\n",
    "    def get_bonus_rating(self):\n",
    "        return self.__bonus_rating\n",
    "    def set_bonus_rating(self, new_rating):\n",
    "        self.__bonus_rating = new_rating\n",
    "        return self.__bonus_rating\n",
    "    def calc_annual_salary(self):\n",
    "        initial_salary = super().calc_annual_salary\n",
    "        new_salary = initial_salary + (1000 * 12 * get_bonus_rating)\n",
    "        return new_salary\n",
    "    \n",
    "class CommissionStaff(Staff):\n",
    "    def __init__(self, name, appt, base_salary, commission_rate, revenue_generated):\n",
    "        self.__commission_rate = commission_rate\n",
    "        self.__revenue_generated = revenue_generated\n",
    "        super().__init__(self, name, appt, base_salary)\n",
    "    def get_commission_rate(self):\n",
    "        return self.__commission_rate\n",
    "    def get_revenue_generated(self):\n",
    "        return self.__revenue_generated\n",
    "    def set_commission_rate(self, new_rate):\n",
    "        self.__commission_rate = new_rate\n",
    "        return self.__commission_rate\n",
    "    def set_revenue_generated(self, new_revenue):\n",
    "        self.__revenue_generated = new_revenue\n",
    "        return self.__revenue_generated\n",
    "    def calc_annual_salary(self):\n",
    "        return get_revenue_generated + get_commission_rate\n",
    "\n",
    "# Task 4.3\n",
    "staff_obj_list = []\n",
    "file_list = []\n",
    "with open(\"STAFF.CSV\") as f:\n",
    "    for i in f:\n",
    "        file_list.append(i.strip().split(\",\"))\n",
    "file_list.pop(0)\n",
    "print(file_list)\n",
    "for i in range(0, len(file_list)):\n",
    "    a = Staff(file_list[i][0], file_list[i][1], float(file_list[i][2]))\n",
    "    staff_obj_list.append(a)\n",
    "print(staff_obj_list)\n",
    "\n",
    "\n",
    "\n",
    "\n",
    "\n",
    "\n",
    "#Task 4.6 \n",
    "# Encapsulation, Inheritance and Polymorphism. \n",
    "# Encapsulation is making the attributes and methods private, for example, in Staff class, using self.__name = name as an attribute to store the data for name\n",
    "# Inheritance is used to create parent class and a child class, where methods and attributes are inherited from parent class to child class. For example, PremStaff class and CommissionStaff class inherits from Staff class, which is the parent class.\n",
    "# Polymorphism is changing the same method that is present in the parent class in the child class. For example, overriding calc_annual_salary() from parent class to child class.\n"
   ]
  },
  {
   "cell_type": "code",
   "execution_count": null,
   "metadata": {},
   "outputs": [],
   "source": []
  }
 ],
 "metadata": {
  "kernelspec": {
   "display_name": "Python 3",
   "language": "python",
   "name": "python3"
  },
  "language_info": {
   "codemirror_mode": {
    "name": "ipython",
    "version": 3
   },
   "file_extension": ".py",
   "mimetype": "text/x-python",
   "name": "python",
   "nbconvert_exporter": "python",
   "pygments_lexer": "ipython3",
   "version": "3.6.4"
  }
 },
 "nbformat": 4,
 "nbformat_minor": 2
}
