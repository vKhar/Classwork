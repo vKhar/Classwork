{
 "cells": [
  {
   "cell_type": "code",
   "execution_count": 6,
   "metadata": {},
   "outputs": [
    {
     "name": "stdout",
     "output_type": "stream",
     "text": [
      "9\n"
     ]
    }
   ],
   "source": [
    "#Task 1.1\n",
    "def generate_digit(start_str):\n",
    "    total_value = 0\n",
    "    for i in range(0, len(start_str)):\n",
    "        if (i+1)%2 == 0:\n",
    "            change_num = int(start_str[i])\n",
    "            new_num = change_num*1\n",
    "            total_value += new_num\n",
    "        else:\n",
    "            change_num = int(start_str[i])\n",
    "            new_num = change_num*3\n",
    "            total_value += new_num\n",
    "    final_value = total_value%10\n",
    "    check_digit = 0\n",
    "    while final_value != 0:\n",
    "        check_digit += 1\n",
    "        total_value += 1\n",
    "        final_value = total_value%10\n",
    "    return check_digit\n",
    "print(generate_digit(\"2814307\"))\n",
    "\n",
    "            \n",
    "#Task 1.2\n",
    "digits_list = []\n",
    "with open(\"7DIGITS_CODE.TXT\") as f:\n",
    "    for i in f:\n",
    "        digits_list.append(i.strip())\n",
    "valid_list = []\n",
    "for i in range(0, len(digits_list)):\n",
    "    check_digit = generate_digit(digits_list[i])\n",
    "    valid_id = digits_list[i] + str(check_digit)\n",
    "    valid_list.append(valid_id)\n",
    "f = open(\"GTIN.TXT\", \"w\")\n",
    "for i in range(0, len(valid_list)):\n",
    "    f.write(f\"{valid_list[i]} \\n\")\n",
    "f.close()\n",
    "    \n",
    "\n",
    "#Task 1.3\n",
    "# If the user does not enter the full GTIN identifier by accident on a web form, the check digit can help find the last value in the identifier\n",
    "\n",
    "#Task 1.4\n",
    "# One usability principle is the affordance of the web form, where the web app gives prompts on how to use it\n",
    "# Another principle is consistency, where the design of the web app is intuitive and logical\n",
    "\n",
    "\n",
    "\n",
    "\n",
    "    \n"
   ]
  },
  {
   "cell_type": "code",
   "execution_count": null,
   "metadata": {},
   "outputs": [],
   "source": []
  },
  {
   "cell_type": "code",
   "execution_count": null,
   "metadata": {},
   "outputs": [],
   "source": []
  }
 ],
 "metadata": {
  "kernelspec": {
   "display_name": "Python 3",
   "language": "python",
   "name": "python3"
  },
  "language_info": {
   "codemirror_mode": {
    "name": "ipython",
    "version": 3
   },
   "file_extension": ".py",
   "mimetype": "text/x-python",
   "name": "python",
   "nbconvert_exporter": "python",
   "pygments_lexer": "ipython3",
   "version": "3.6.4"
  }
 },
 "nbformat": 4,
 "nbformat_minor": 2
}
