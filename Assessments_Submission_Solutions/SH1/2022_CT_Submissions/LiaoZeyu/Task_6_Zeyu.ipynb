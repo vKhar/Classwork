{
 "cells": [
  {
   "cell_type": "code",
   "execution_count": null,
   "metadata": {
    "scrolled": true
   },
   "outputs": [],
   "source": [
    "##Task 6.1\n",
    "import random\n",
    "try:\n",
    "    n=int(input(\"What is your desire input of n?\"))\n",
    "    occurDict={}\n",
    "    for i in range(1000):\n",
    "        rand=random.randint(1,n)\n",
    "        if rand in occurDict:\n",
    "            occurDict[rand]+=1\n",
    "        else:\n",
    "            occurDict[rand]=1\n",
    "    print('integer   frequency')\n",
    "    for i in range(1,n+1):\n",
    "        if i in occurDict:\n",
    "            print(f\"{i}         {occurDict[i]}\")\n",
    "        else:\n",
    "            print(f\"{i}         0\")\n",
    "except:\n",
    "    pass"
   ]
  },
  {
   "cell_type": "markdown",
   "metadata": {},
   "source": [
    "8/8"
   ]
  },
  {
   "cell_type": "code",
   "execution_count": null,
   "metadata": {},
   "outputs": [],
   "source": [
    "##6.2\n",
    "m=int(input(\"Input m value.\"))\n",
    "n=int(input(\"Input n value.\"))\n",
    "genList=[]\n",
    "while len(genList)!=m:\n",
    "    rand=random.randint(1, n)\n",
    "    if rand not in genList:\n",
    "        genList.append(rand)\n",
    "print(genList)"
   ]
  },
  {
   "cell_type": "markdown",
   "metadata": {},
   "source": [
    "4/4"
   ]
  },
  {
   "cell_type": "code",
   "execution_count": null,
   "metadata": {},
   "outputs": [],
   "source": [
    "##6.3\n",
    "def shuffle(L):\n",
    "    newIndex=[]\n",
    "    while len(newIndex)!=len(L):\n",
    "        rand=random.randint(1, n)\n",
    "    if rand not in newIndex:\n",
    "        newIndex.append(rand)\n",
    "    placeholder=[]\n",
    "    for i in range(len(L)):\n",
    "        placeholder.append('')\n",
    "    for i in range(len(L)):\n",
    "        placeholder[newIndex[i]]=L[i]\n",
    "    L=placeholder\n",
    "    return L\n",
    "print(shuffle([1,2,3,4,5,6,7]))  "
   ]
  },
  {
   "cell_type": "markdown",
   "metadata": {},
   "source": [
    "- line 5 indexes should be 0 to len(L), where did n come from ?!! CUT and PASTE !!\n",
    "- line 6 should be inside the while loop\n",
    "- 2/4"
   ]
  },
  {
   "cell_type": "markdown",
   "metadata": {},
   "source": [
    "### Total\n",
    "14/16"
   ]
  },
  {
   "cell_type": "markdown",
   "metadata": {},
   "source": []
  }
 ],
 "metadata": {
  "interpreter": {
   "hash": "f4e9cda46bb2d9d7fe6ecdff0f8336a934348bf06cb492f2f42f60739b3403b4"
  },
  "kernelspec": {
   "display_name": "Python 3.6.4 64-bit",
   "language": "python",
   "name": "python3"
  },
  "language_info": {
   "codemirror_mode": {
    "name": "ipython",
    "version": 3
   },
   "file_extension": ".py",
   "mimetype": "text/x-python",
   "name": "python",
   "nbconvert_exporter": "python",
   "pygments_lexer": "ipython3",
   "version": "3.6.4"
  }
 },
 "nbformat": 4,
 "nbformat_minor": 2
}
