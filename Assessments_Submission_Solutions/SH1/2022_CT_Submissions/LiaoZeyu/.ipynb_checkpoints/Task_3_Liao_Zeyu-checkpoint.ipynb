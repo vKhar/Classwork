{
 "cells": [
  {
   "cell_type": "code",
   "execution_count": 66,
   "metadata": {
    "scrolled": true
   },
   "outputs": [
    {
     "name": "stdout",
     "output_type": "stream",
     "text": [
      "['Ruthi', 'Xenia', 'Terrie', 'Jillian', 'Leela', 'Josefa', 'Kellen', 'Joe', 'Joanne', 'Mareah', 'Carri', 'Theresita', 'Erna', 'Kristan', 'Merrie', 'Lem', 'Johnette', 'Riki', 'Adler', 'Juan', 'Fifi', 'Xylina', 'Thatcher', 'Meridel', 'Hillard', 'Billy', 'Jdavie', 'Denver', 'Vanda', 'Teodora', 'Daniella', 'Abie', 'Kimberlyn', 'Janetta', 'Ches', 'Barr', 'Oran', 'Cathe', 'Casper', 'Reba', 'Patti', 'Berk', 'Jessey', 'Sallyanne', 'Gardy', 'Reagan', 'Lettie', 'Sherye', 'Nerty', 'Dorisa', 'Arie', 'Aarika', 'Bearnard', 'Inglebert', 'Emily', 'Phyllida', 'Cecelia', 'Manya', 'Xylia', 'Myrilla', 'Alameda', 'Mariana', 'Wakefield']\n"
     ]
    }
   ],
   "source": [
    "##Task 3.1\n",
    "with open('NAMES.txt') as f:\n",
    "    players=[]\n",
    "    for i in f:\n",
    "        players.append(i.strip())"
   ]
  },
  {
   "cell_type": "code",
   "execution_count": 67,
   "metadata": {
    "scrolled": false
   },
   "outputs": [
    {
     "name": "stdout",
     "output_type": "stream",
     "text": [
      "Terrie\n",
      "Jillian\n",
      "Leela\n",
      "Josefa\n",
      "Kellen\n",
      "Joe\n",
      "Joanne\n",
      "Mareah\n",
      "Carri\n",
      "Theresita\n",
      "Erna\n",
      "Kristan\n",
      "Merrie\n",
      "Lem\n",
      "Johnette\n",
      "Riki\n",
      "Adler\n",
      "Juan\n",
      "Fifi\n",
      "Xylina\n",
      "Thatcher\n",
      "Meridel\n",
      "Hillard\n",
      "Billy\n",
      "Jdavie\n",
      "Denver\n",
      "Vanda\n",
      "Teodora\n",
      "Daniella\n",
      "Abie\n",
      "Kimberlyn\n",
      "Janetta\n",
      "Ches\n",
      "Barr\n",
      "Oran\n",
      "Cathe\n",
      "Casper\n",
      "Reba\n",
      "Patti\n",
      "Berk\n",
      "Jessey\n",
      "Sallyanne\n",
      "Gardy\n",
      "Reagan\n",
      "Lettie\n",
      "Sherye\n",
      "Nerty\n",
      "Dorisa\n",
      "Arie\n",
      "Aarika\n",
      "Bearnard\n",
      "Inglebert\n",
      "Emily\n",
      "Phyllida\n",
      "Cecelia\n",
      "Manya\n",
      "Xylia\n",
      "Myrilla\n",
      "Alameda\n",
      "Mariana\n",
      "Wakefield\n",
      "Ruthi\n"
     ]
    },
    {
     "data": {
      "text/plain": [
       "'Xenia'"
      ]
     },
     "execution_count": 67,
     "metadata": {},
     "output_type": "execute_result"
    }
   ],
   "source": [
    "##Task 3.2\n",
    "def whoWins(players, m):\n",
    "        if type(players)!=list:\n",
    "            return None\n",
    "        if len(players)==1 or m<1:\n",
    "            return None\n",
    "        if m==0 or players==[]:\n",
    "            return None\n",
    "        passes=m\n",
    "        while len(players)>1:\n",
    "            if passes>=len(players):\n",
    "                passes=m%len(players)\n",
    "            else:\n",
    "                passes=m\n",
    "            players.remove(players[passes])\n",
    "        return players[0]\n",
    "whoWins(players, 2)"
   ]
  },
  {
   "cell_type": "code",
   "execution_count": null,
   "metadata": {},
   "outputs": [],
   "source": []
  }
 ],
 "metadata": {
  "kernelspec": {
   "display_name": "Python 3",
   "language": "python",
   "name": "python3"
  },
  "language_info": {
   "codemirror_mode": {
    "name": "ipython",
    "version": 3
   },
   "file_extension": ".py",
   "mimetype": "text/x-python",
   "name": "python",
   "nbconvert_exporter": "python",
   "pygments_lexer": "ipython3",
   "version": "3.6.4"
  }
 },
 "nbformat": 4,
 "nbformat_minor": 2
}
