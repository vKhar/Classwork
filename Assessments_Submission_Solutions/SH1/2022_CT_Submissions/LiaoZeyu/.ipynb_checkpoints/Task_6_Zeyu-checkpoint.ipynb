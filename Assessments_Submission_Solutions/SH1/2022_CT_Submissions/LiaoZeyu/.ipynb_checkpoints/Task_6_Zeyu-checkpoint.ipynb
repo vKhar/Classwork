{
 "cells": [
  {
   "cell_type": "code",
   "execution_count": 1,
   "metadata": {
    "scrolled": true
   },
   "outputs": [
    {
     "name": "stdout",
     "output_type": "stream",
     "text": [
      "What is your desire input of n?1\n",
      "integer   frequency\n",
      "1         1000\n"
     ]
    }
   ],
   "source": [
    "##Task 6.1\n",
    "import random\n",
    "try:\n",
    "    n=int(input(\"What is your desire input of n?\"))\n",
    "    occurDict={}\n",
    "    for i in range(1000):\n",
    "        rand=random.randint(1,n)\n",
    "        if rand in occurDict:\n",
    "            occurDict[rand]+=1\n",
    "        else:\n",
    "            occurDict[rand]=1\n",
    "    print('integer   frequency')\n",
    "    for i in range(1,n+1):\n",
    "        if i in occurDict:\n",
    "            print(f\"{i}         {occurDict[i]}\")\n",
    "        else:\n",
    "            print(f\"{i}         0\")\n",
    "except:\n",
    "    pass"
   ]
  },
  {
   "cell_type": "code",
   "execution_count": 2,
   "metadata": {},
   "outputs": [
    {
     "name": "stdout",
     "output_type": "stream",
     "text": [
      "Input m value.1\n",
      "Input n value.1\n",
      "[1]\n"
     ]
    }
   ],
   "source": [
    "##6.2\n",
    "m=int(input(\"Input m value.\"))\n",
    "n=int(input(\"Input n value.\"))\n",
    "genList=[]\n",
    "while len(genList)!=m:\n",
    "    rand=random.randint(1, n)\n",
    "    if rand not in genList:\n",
    "        genList.append(rand)\n",
    "print(genList)"
   ]
  },
  {
   "cell_type": "code",
   "execution_count": null,
   "metadata": {},
   "outputs": [],
   "source": [
    "##6.3\n",
    "def shuffle(L):\n",
    "    newIndex=[]\n",
    "    while len(newIndex)!=len(L):\n",
    "        rand=random.randint(1, n)\n",
    "    if rand not in newIndex:\n",
    "        newIndex.append(rand)\n",
    "    placeholder=[]\n",
    "    for i in range(len(L)):\n",
    "        placeholder.append('')\n",
    "    for i in range(len(L)):\n",
    "        placeholder[newIndex[i]]=L[i]\n",
    "    L=placeholder\n",
    "    return L\n",
    "print(shuffle([1,2,3,4,5,6,7]))        "
   ]
  },
  {
   "cell_type": "code",
   "execution_count": null,
   "metadata": {},
   "outputs": [],
   "source": []
  }
 ],
 "metadata": {
  "kernelspec": {
   "display_name": "Python 3",
   "language": "python",
   "name": "python3"
  },
  "language_info": {
   "codemirror_mode": {
    "name": "ipython",
    "version": 3
   },
   "file_extension": ".py",
   "mimetype": "text/x-python",
   "name": "python",
   "nbconvert_exporter": "python",
   "pygments_lexer": "ipython3",
   "version": "3.6.4"
  }
 },
 "nbformat": 4,
 "nbformat_minor": 2
}
