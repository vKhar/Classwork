{
 "cells": [
  {
   "cell_type": "code",
   "execution_count": 1,
   "metadata": {},
   "outputs": [
    {
     "data": {
      "text/plain": [
       "9"
      ]
     },
     "execution_count": 1,
     "metadata": {},
     "output_type": "execute_result"
    }
   ],
   "source": [
    "##Task 1.1\n",
    "def generate_digit(n): ##assume sum of resulting 8 products modulo 10 is not under 0 or above 9.\n",
    "    try:\n",
    "        sum0=0\n",
    "        for i in range(len(n)):\n",
    "            if i%2==0:\n",
    "                sum0+=int(n[i])\n",
    "            else:\n",
    "                sum0+=int(n[i])*3\n",
    "        return sum0%10\n",
    "    except:\n",
    "        print(\"an exception has occured.\")"
   ]
  },
  {
   "cell_type": "code",
   "execution_count": 17,
   "metadata": {
    "scrolled": true
   },
   "outputs": [
    {
     "name": "stdout",
     "output_type": "stream",
     "text": [
      "GTIN.txt has been generated\n"
     ]
    }
   ],
   "source": [
    "##Task 1.2\n",
    "gtin=[]\n",
    "with open(\"7DIGITS_CODE.txt\") as f:\n",
    "    for digit in f:\n",
    "        digitStrip=digit.strip()\n",
    "        addDigit=str(generate_digit(digitStrip))\n",
    "        gtin.append(digitStrip+addDigit)\n",
    "with open('GTIN.txt', 'w') as fw:\n",
    "    combinedStr=''\n",
    "    for i in gtin:\n",
    "        combinedStr=combinedStr+i+','\n",
    "    combinedStr=combinedStr[0:-1]\n",
    "    fw.write(combinedStr)\n",
    "    print(\"GTIN.txt has been generated.\")     "
   ]
  },
  {
   "cell_type": "code",
   "execution_count": 18,
   "metadata": {},
   "outputs": [],
   "source": [
    "##Task 1.3\n",
    "##It can help the server identify if the user has entered a valid code. Thus the server is able to differentiate between codes it does not have in its database and invalid codes, and provide appropiate feedback to the user.\n"
   ]
  },
  {
   "cell_type": "code",
   "execution_count": null,
   "metadata": {},
   "outputs": [],
   "source": [
    "##Task 1.4\n",
    "##The use of a appropriate input type. For example, radial input for questions that only have one selection, and checkboxes for where multiple selections are possible. This prevents the user from submitting invalid data to the server and prevents user confusion.\n",
    "##It must be made clear which areas are buttons that are clickable. This way users of the web form will not become frustrated trying to figure how to enter their input or submit the form."
   ]
  }
 ],
 "metadata": {
  "kernelspec": {
   "display_name": "Python 3",
   "language": "python",
   "name": "python3"
  },
  "language_info": {
   "codemirror_mode": {
    "name": "ipython",
    "version": 3
   },
   "file_extension": ".py",
   "mimetype": "text/x-python",
   "name": "python",
   "nbconvert_exporter": "python",
   "pygments_lexer": "ipython3",
   "version": "3.6.4"
  }
 },
 "nbformat": 4,
 "nbformat_minor": 2
}
