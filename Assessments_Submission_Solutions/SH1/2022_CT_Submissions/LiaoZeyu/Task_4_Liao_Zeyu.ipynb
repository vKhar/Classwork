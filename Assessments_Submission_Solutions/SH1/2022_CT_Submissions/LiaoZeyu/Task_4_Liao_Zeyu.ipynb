{
 "cells": [
  {
   "cell_type": "code",
   "execution_count": null,
   "metadata": {},
   "outputs": [],
   "source": [
    "##Task 4.1\n",
    "class Staff:\n",
    "    def __init__(self, n, appt, base):\n",
    "        self.__name=n\n",
    "        self.__appt=appt\n",
    "        self.__base_salary=base\n",
    "    def calc_annual_salary(self):\n",
    "        return self.__base_salary*12\n",
    "    def __repr__(self):\n",
    "        return f\"<{self.__name}:{self.__appt}:{self.calc_annual_salary()}>\"\n",
    "    def d(self):\n",
    "        return self.__repr__()\n",
    "x=Staff('1', '1', 10)\n",
    "print(x.d())\n"
   ]
  },
  {
   "cell_type": "markdown",
   "metadata": {},
   "source": [
    "- no getters/setters\n",
    "- d() ?? You do not know how __repr__ is called ??!! just print(x)\n",
    "- 3/4"
   ]
  },
  {
   "cell_type": "code",
   "execution_count": null,
   "metadata": {
    "scrolled": true
   },
   "outputs": [],
   "source": [
    "##Task 4.2\n",
    "class PermStaff(Staff):\n",
    "    def __init__(self, n, appt, base, bonus):\n",
    "        super().__init__(n, appt, base)\n",
    "        self.__bonus=bonus\n",
    "    def changeBonus(self, b):\n",
    "        self.__bonus=b\n",
    "    def calc_annual_salary(self):\n",
    "        return super().calc_annual_salary()+self.__bonus*super().__base_salary\n",
    "x=PermStaff('1', '1', 10, 2)\n",
    "print(x.calc_annual_salary())\n",
    "class CommissionStaff(Staff):\n",
    "    def __init__(self, n, appt, base, b):\n",
    "        super().__init__(n, appt, base)\n",
    "        if b:\n",
    "            self.__commision_rate=b\n",
    "        else:\n",
    "            self.__commission_rate=0.05\n",
    "    def changeCom(self, b):\n",
    "        self.__commission_rate=b\n",
    "    \n",
    "    "
   ]
  },
  {
   "cell_type": "markdown",
   "metadata": {},
   "source": [
    "- line 9 you have no access to super().__base_salary, you need to use a getter\n",
    "- no calc_annual_salary for CommisionStaff ??\n",
    "- no getters/settres for additional attributes\n",
    "- 1/4"
   ]
  },
  {
   "cell_type": "markdown",
   "metadata": {},
   "source": [
    "Task 4.3\n",
    "- 0/4\n",
    "\n",
    "Task 4.5\n",
    "- 0/4\n",
    "\n",
    "Task 4.6\n",
    " - 3/6\n",
    "\n",
    " ### Total\n",
    " 7/22"
   ]
  }
 ],
 "metadata": {
  "interpreter": {
   "hash": "f4e9cda46bb2d9d7fe6ecdff0f8336a934348bf06cb492f2f42f60739b3403b4"
  },
  "kernelspec": {
   "display_name": "Python 3.6.4 64-bit",
   "language": "python",
   "name": "python3"
  },
  "language_info": {
   "codemirror_mode": {
    "name": "ipython",
    "version": 3
   },
   "file_extension": ".py",
   "mimetype": "text/x-python",
   "name": "python",
   "nbconvert_exporter": "python",
   "pygments_lexer": "ipython3",
   "version": "3.6.4"
  }
 },
 "nbformat": 4,
 "nbformat_minor": 2
}
