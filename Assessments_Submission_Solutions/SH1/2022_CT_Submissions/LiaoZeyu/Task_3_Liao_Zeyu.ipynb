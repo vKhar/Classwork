{
 "cells": [
  {
   "cell_type": "code",
   "execution_count": null,
   "metadata": {
    "scrolled": true
   },
   "outputs": [],
   "source": [
    "##Task 3.1\n",
    "with open('NAMES.txt') as f:\n",
    "    players=[]\n",
    "    for i in f:\n",
    "        players.append(i.strip())"
   ]
  },
  {
   "cell_type": "markdown",
   "metadata": {},
   "source": [
    "2/2"
   ]
  },
  {
   "cell_type": "code",
   "execution_count": null,
   "metadata": {
    "scrolled": false
   },
   "outputs": [],
   "source": [
    "##Task 3.2\n",
    "def whoWins(players, m):\n",
    "        if type(players)!=list:\n",
    "            return None\n",
    "        if len(players)==1 or m<1:\n",
    "            return None\n",
    "        if m==0 or players==[]:\n",
    "            return None\n",
    "        passes=m\n",
    "        while len(players)>1:\n",
    "            if passes>=len(players):\n",
    "                passes=m%len(players)\n",
    "            else:\n",
    "                passes=m\n",
    "            players.remove(players[passes])\n",
    "        return players[0]\n",
    "whoWins(players, 2)"
   ]
  },
  {
   "cell_type": "markdown",
   "metadata": {},
   "source": [
    "- your omb always starts with the first player in the list\n",
    "- 2/6"
   ]
  },
  {
   "cell_type": "markdown",
   "metadata": {},
   "source": [
    "3.3\n",
    "- 2/2\n",
    "\n",
    "3.4\n",
    "- no test code\n",
    "- 4/5"
   ]
  },
  {
   "cell_type": "markdown",
   "metadata": {},
   "source": [
    "### Total\n",
    "8/15"
   ]
  }
 ],
 "metadata": {
  "kernelspec": {
   "display_name": "Python 3",
   "language": "python",
   "name": "python3"
  },
  "language_info": {
   "codemirror_mode": {
    "name": "ipython",
    "version": 3
   },
   "file_extension": ".py",
   "mimetype": "text/x-python",
   "name": "python",
   "nbconvert_exporter": "python",
   "pygments_lexer": "ipython3",
   "version": "3.6.4"
  }
 },
 "nbformat": 4,
 "nbformat_minor": 2
}
