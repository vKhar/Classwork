{
 "cells": [
  {
   "cell_type": "code",
   "execution_count": 10,
   "metadata": {},
   "outputs": [],
   "source": [
    "##Task 2.1\n",
    "def re_sum(a,r,m): ##assume a, r and m are all inputted correctly as integer\n",
    "    def find_num(a,r,n):\n",
    "        if n==1:\n",
    "            return a\n",
    "        elif n<1:\n",
    "            return None\n",
    "        else:\n",
    "            lastNum=find_num(a,r,n-1)\n",
    "            return lastNum*r\n",
    "    allTerms=''\n",
    "    sum0=0\n",
    "    for i in range(1, m+1):\n",
    "        num=find_num(a,r,i)\n",
    "        allTerms=allTerms+str(num)+' '\n",
    "        sum0=sum0+num\n",
    "    return (sum0,allTerms[0:-1])"
   ]
  },
  {
   "cell_type": "markdown",
   "metadata": {},
   "source": [
    "2.1\n",
    "- NOT a fully recursive algorithm, line 11 - 16 can be written in a recusrive form\n",
    "- 5/6\n",
    "\n",
    "Task 2.2\n",
    "- 0/4"
   ]
  },
  {
   "cell_type": "code",
   "execution_count": null,
   "metadata": {},
   "outputs": [],
   "source": [
    "##Task 2.3\n",
    "##One advantage of an iterative approach is that there is no recursion depth limit. Thus the function would work for high values of m where the recursive version would fail. One disadvantage is that the iterative code would take more lines to write and would thus take longer and be more complicated, with a higher chance of a logic error."
   ]
  },
  {
   "cell_type": "markdown",
   "metadata": {},
   "source": [
    "- \n",
    "- 2/2\n",
    "\n",
    "### Total\n",
    "7/12"
   ]
  }
 ],
 "metadata": {
  "kernelspec": {
   "display_name": "Python 3",
   "language": "python",
   "name": "python3"
  },
  "language_info": {
   "codemirror_mode": {
    "name": "ipython",
    "version": 3
   },
   "file_extension": ".py",
   "mimetype": "text/x-python",
   "name": "python",
   "nbconvert_exporter": "python",
   "pygments_lexer": "ipython3",
   "version": "3.6.4"
  }
 },
 "nbformat": 4,
 "nbformat_minor": 2
}
