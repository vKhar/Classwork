{
 "cells": [
  {
   "cell_type": "code",
   "execution_count": 1,
   "metadata": {},
   "outputs": [
    {
     "data": {
      "text/plain": [
       "(7, ' 1 2 4')"
      ]
     },
     "execution_count": 1,
     "metadata": {},
     "output_type": "execute_result"
    }
   ],
   "source": [
    "#Task 2.1\n",
    "def re_sum_total(a, r, m):\n",
    "    if m == 0:\n",
    "        return 0\n",
    "    else:\n",
    "        return a*r**(m-1) + re_sum_total(a, r, m-1)\n",
    "    \n",
    "def re_sum_terms(a,r,m):\n",
    "    if m == 0:\n",
    "        return [\"\"]\n",
    "    else:\n",
    "        return [str(a*r**(m-1))] + re_sum_terms(a, r, m-1)\n",
    "\n",
    "def re_sum(a,r,m):\n",
    "    k = re_sum_terms(a,r,m)\n",
    "    k.reverse()\n",
    "    return (re_sum_total(a,r,m), \" \".join(k))\n",
    "\n",
    "re_sum(1,2,3)\n",
    "\n",
    "#Task 2.2\n",
    "#On paper\n",
    "\n",
    "#Task 2.3\n",
    "#The benefits of the iterative approach is that it is faster and does not need to create a frame in the call stack for every iteration. This makes it less expensive to do an iterative operation than a recursive operation.\n",
    "#The disadvantage is that iterative approach is less intuitive than the recursive approach. Besides, for situations where there is need to operate on a piece of data with unknown length or depth, the recursive approach will make more sense because a function can be called to operate on identical child data. An instance of this is when we need to traverse through a list of unknown levels of nesting, a recursive function is more practical than the iterative version here.\n"
   ]
  }
 ],
 "metadata": {
  "kernelspec": {
   "display_name": "Python 3",
   "language": "python",
   "name": "python3"
  },
  "language_info": {
   "codemirror_mode": {
    "name": "ipython",
    "version": 3
   },
   "file_extension": ".py",
   "mimetype": "text/x-python",
   "name": "python",
   "nbconvert_exporter": "python",
   "pygments_lexer": "ipython3",
   "version": "3.6.4"
  }
 },
 "nbformat": 4,
 "nbformat_minor": 2
}
