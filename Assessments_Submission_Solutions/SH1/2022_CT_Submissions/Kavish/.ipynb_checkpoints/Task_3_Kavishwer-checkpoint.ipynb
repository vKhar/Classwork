{
 "cells": [
  {
   "cell_type": "code",
   "execution_count": 1,
   "metadata": {},
   "outputs": [
    {
     "name": "stdout",
     "output_type": "stream",
     "text": [
      "['Ruthi', 'Xenia', 'Terrie', 'Jillian', 'Leela', 'Josefa', 'Kellen', 'Joe', 'Joanne', 'Mareah', 'Carri', 'Theresita', 'Erna', 'Kristan', 'Merrie', 'Lem', 'Johnette', 'Riki', 'Adler', 'Juan', 'Fifi', 'Xylina', 'Thatcher', 'Meridel', 'Hillard', 'Billy', 'Jdavie', 'Denver', 'Vanda', 'Teodora', 'Daniella', 'Abie', 'Kimberlyn', 'Janetta', 'Ches', 'Barr', 'Oran', 'Cathe', 'Casper', 'Reba', 'Patti', 'Berk', 'Jessey', 'Sallyanne', 'Gardy', 'Reagan', 'Lettie', 'Sherye', 'Nerty', 'Dorisa', 'Arie', 'Aarika', 'Bearnard', 'Inglebert', 'Emily', 'Phyllida', 'Cecelia', 'Manya', 'Xylia', 'Myrilla', 'Alameda', 'Mariana', 'Wakefield']\n"
     ]
    },
    {
     "data": {
      "text/plain": [
       "'Arie'"
      ]
     },
     "execution_count": 1,
     "metadata": {},
     "output_type": "execute_result"
    }
   ],
   "source": [
    "#Task 3.1\n",
    "f = open(\"NAMES.TXT\")\n",
    "arr = f.read().strip().split(\"\\n\")\n",
    "print(arr)\n",
    "\n",
    "#Task 3.2\n",
    "def whoWins(players, m, position=1):\n",
    "    if len(players) == 1:\n",
    "        return players[0]\n",
    "    else:\n",
    "        temp_pos = (position + m)%len(players)\n",
    "        players.pop((position + m)%len(players))\n",
    "        return whoWins(players, m, temp_pos)\n",
    "\n",
    "whoWins(arr, 2)\n",
    "\n",
    "#Task 3.3\n",
    "#The difference between white box testing and black box testing is that code is visible to the tester in white box testing whereas it is not in black_box testing.\n",
    "\n",
    "#Task 3.4\n",
    "#boundary case\n",
    "whoWins([], 2)\n",
    "\n",
    "\n"
   ]
  }
 ],
 "metadata": {
  "kernelspec": {
   "display_name": "Python 3",
   "language": "python",
   "name": "python3"
  },
  "language_info": {
   "codemirror_mode": {
    "name": "ipython",
    "version": 3
   },
   "file_extension": ".py",
   "mimetype": "text/x-python",
   "name": "python",
   "nbconvert_exporter": "python",
   "pygments_lexer": "ipython3",
   "version": "3.6.4"
  }
 },
 "nbformat": 4,
 "nbformat_minor": 2
}
