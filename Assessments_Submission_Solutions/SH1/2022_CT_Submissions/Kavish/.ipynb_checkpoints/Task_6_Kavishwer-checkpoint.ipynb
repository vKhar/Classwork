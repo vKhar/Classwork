{
 "cells": [
  {
   "cell_type": "code",
   "execution_count": 1,
   "metadata": {},
   "outputs": [
    {
     "name": "stdout",
     "output_type": "stream",
     "text": [
      "5\n",
      "{2: 186, 3: 234, 1: 179, 5: 191, 4: 210}\n",
      "68\n",
      "69\n",
      "[14, 69, 24, 26, 39, 20, 67, 21, 4, 40, 58, 27, 60, 38, 49, 19, 56, 44, 61, 10, 59, 41, 47, 9, 3, 45, 12, 46, 52, 43, 36, 32, 23, 50, 31, 30, 18, 48, 8, 57, 37, 25, 54, 7, 11, 62, 65, 42, 16, 2, 64, 63, 1, 53, 6, 66, 33, 55, 17, 22, 28, 13, 34, 5, 35, 68, 15, 29]\n"
     ]
    },
    {
     "ename": "IndexError",
     "evalue": "list index out of range",
     "output_type": "error",
     "traceback": [
      "\u001b[1;31m---------------------------------------------------------------------------\u001b[0m",
      "\u001b[1;31mIndexError\u001b[0m                                Traceback (most recent call last)",
      "\u001b[1;32m<ipython-input-1-c07bd7bc2038>\u001b[0m in \u001b[0;36m<module>\u001b[1;34m()\u001b[0m\n\u001b[0;32m     37\u001b[0m                 \u001b[0mtaken_index\u001b[0m\u001b[1;33m.\u001b[0m\u001b[0mappend\u001b[0m\u001b[1;33m(\u001b[0m\u001b[0mindex\u001b[0m\u001b[1;33m)\u001b[0m\u001b[1;33m\u001b[0m\u001b[0m\n\u001b[0;32m     38\u001b[0m     \u001b[1;32mreturn\u001b[0m \u001b[0mshuffled_list\u001b[0m\u001b[1;33m\u001b[0m\u001b[0m\n\u001b[1;32m---> 39\u001b[1;33m \u001b[0mprint\u001b[0m\u001b[1;33m(\u001b[0m\u001b[0mshuffle\u001b[0m\u001b[1;33m(\u001b[0m\u001b[0mrandom_list\u001b[0m\u001b[1;33m)\u001b[0m\u001b[1;33m)\u001b[0m\u001b[1;33m\u001b[0m\u001b[0m\n\u001b[0m",
      "\u001b[1;32m<ipython-input-1-c07bd7bc2038>\u001b[0m in \u001b[0;36mshuffle\u001b[1;34m(L)\u001b[0m\n\u001b[0;32m     33\u001b[0m             \u001b[0mindex\u001b[0m \u001b[1;33m=\u001b[0m \u001b[0mrandom\u001b[0m\u001b[1;33m.\u001b[0m\u001b[0mrandint\u001b[0m\u001b[1;33m(\u001b[0m\u001b[1;36m0\u001b[0m\u001b[1;33m,\u001b[0m \u001b[0mlen\u001b[0m\u001b[1;33m(\u001b[0m\u001b[0mL\u001b[0m\u001b[1;33m)\u001b[0m\u001b[1;33m-\u001b[0m\u001b[1;36m1\u001b[0m\u001b[1;33m)\u001b[0m\u001b[1;33m\u001b[0m\u001b[0m\n\u001b[0;32m     34\u001b[0m             \u001b[1;32mif\u001b[0m \u001b[0mindex\u001b[0m \u001b[1;32mnot\u001b[0m \u001b[1;32min\u001b[0m \u001b[0mtaken_index\u001b[0m\u001b[1;33m:\u001b[0m\u001b[1;33m\u001b[0m\u001b[0m\n\u001b[1;32m---> 35\u001b[1;33m                 \u001b[0mshuffled_list\u001b[0m\u001b[1;33m[\u001b[0m\u001b[0mindex\u001b[0m\u001b[1;33m]\u001b[0m \u001b[1;33m=\u001b[0m \u001b[0mL\u001b[0m\u001b[1;33m[\u001b[0m\u001b[0mi\u001b[0m\u001b[1;33m]\u001b[0m\u001b[1;33m\u001b[0m\u001b[0m\n\u001b[0m\u001b[0;32m     36\u001b[0m                 \u001b[0mL\u001b[0m\u001b[1;33m.\u001b[0m\u001b[0mpop\u001b[0m\u001b[1;33m(\u001b[0m\u001b[0mi\u001b[0m\u001b[1;33m)\u001b[0m\u001b[1;33m\u001b[0m\u001b[0m\n\u001b[0;32m     37\u001b[0m                 \u001b[0mtaken_index\u001b[0m\u001b[1;33m.\u001b[0m\u001b[0mappend\u001b[0m\u001b[1;33m(\u001b[0m\u001b[0mindex\u001b[0m\u001b[1;33m)\u001b[0m\u001b[1;33m\u001b[0m\u001b[0m\n",
      "\u001b[1;31mIndexError\u001b[0m: list index out of range"
     ]
    }
   ],
   "source": [
    "#Task 6.1\n",
    "import random\n",
    "\n",
    "freq_table = {}\n",
    "n = int(input())\n",
    "for i in range(1000):\n",
    "    number = random.randint(1, n)\n",
    "    if number in freq_table:\n",
    "        freq_table[number] += 1\n",
    "    else:\n",
    "        freq_table[number] = 1\n",
    "        \n",
    "print(freq_table)\n",
    "\n",
    "#Task 6.2\n",
    "m = int(input())\n",
    "n = int(input())\n",
    "\n",
    "if m <= n:\n",
    "    random_list = []\n",
    "    while len(random_list) != m:\n",
    "        number = random.randint(1, n)\n",
    "        if number not in random_list:\n",
    "            random_list.append(number)\n",
    "\n",
    "print(random_list)\n",
    "#Task 6.3\n",
    "def shuffle(L):\n",
    "    shuffled_list = [ 0 for _ in range(len(L))]\n",
    "    taken_index = []\n",
    "    while len(taken_index) != len(L):\n",
    "        for i in range(len(L)):\n",
    "            index = random.randint(0, len(L)-1)\n",
    "            if index not in taken_index:\n",
    "                shuffled_list[index] = L[i]\n",
    "                L.pop(i)\n",
    "                taken_index.append(index)\n",
    "    return shuffled_list\n",
    "print(shuffle(random_list))"
   ]
  }
 ],
 "metadata": {
  "kernelspec": {
   "display_name": "Python 3",
   "language": "python",
   "name": "python3"
  },
  "language_info": {
   "codemirror_mode": {
    "name": "ipython",
    "version": 3
   },
   "file_extension": ".py",
   "mimetype": "text/x-python",
   "name": "python",
   "nbconvert_exporter": "python",
   "pygments_lexer": "ipython3",
   "version": "3.6.4"
  }
 },
 "nbformat": 4,
 "nbformat_minor": 2
}
