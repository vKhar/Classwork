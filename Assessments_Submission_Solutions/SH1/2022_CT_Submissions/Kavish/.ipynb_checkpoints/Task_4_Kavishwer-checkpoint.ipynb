{
 "cells": [
  {
   "cell_type": "code",
   "execution_count": 1,
   "metadata": {},
   "outputs": [
    {
     "name": "stdout",
     "output_type": "stream",
     "text": [
      "[< Amelia Davis: Clerk:3100>, < Jessica Martinez: Sales Executive:3500>, < Sophie Johnson: Logistics Dept Head:6800>, < Emily Smith: Receptionist:3200>, < William Johnson: Receptionist:3000>, < Joshua Davis: Admin Officer:3200>, < Grace Brown: Admin Manager:5900>, < Oliver Rodriguez: Vice President:12000>, < James Martinez: Sales Dept Head:6800>, < Jack Smith: Logistics Executive:4500>, < Chloe Miller: Sales Executive:3300>]\n"
     ]
    }
   ],
   "source": [
    "#Task 4.1 \n",
    "class Staff():\n",
    "    def __init__(self, name, appt, base_salary):\n",
    "        self.__name = name\n",
    "        self.__appt = appt\n",
    "        self.__base_salary = float(base_salary)\n",
    "    def calc_annual_salary(self):\n",
    "        return self.__base_salary * 12\n",
    "    def __repr__(self):\n",
    "        return f'<{self.__name}:{self.__appt}:{self.__base_salary}>'\n",
    "    def get_name(self):\n",
    "        return self.__name\n",
    "    def get_base_salary(self):\n",
    "        return self.__base_salary\n",
    "    def get_appt(self):\n",
    "        return self.__appt\n",
    "    def set_name(self,name):\n",
    "        self.__name = name\n",
    "    def set_base_salary(self,salary):\n",
    "        self.__base_salary = float(salary)\n",
    "    def set_appt(self,appt):\n",
    "        self.__appt = appt\n",
    "        \n",
    "#Task 4.2 \n",
    "class PermStaff(Staff):\n",
    "    def __init__(self, name, appt, base_salary):\n",
    "        self.__bonus_rating = 0\n",
    "        super().__init__(name, appt, base_salary)\n",
    "    def calc_annual_salary(self):\n",
    "        return self.__base_salary * 12 + (self.__base_salary * 12 * self.__bonus_rating)\n",
    "    def set_bonus_rating(self,bonus):\n",
    "        self.__bonus_rating = float(bonus)\n",
    "    def get_bonus_rating(self):\n",
    "        return self.__bonus_rating\n",
    "\n",
    "class CommisionStaff(Staff):\n",
    "    def __init__(self, name, appt, base_salary):\n",
    "        self.__commision_rate = 0.005\n",
    "        self.__revenue_generated = 0\n",
    "    def calc_annual_salary(self):\n",
    "        return self.__base_salary * 12 + (self.__revenue_generated * self.__commision_rate)\n",
    "    def set_commision_rate(self, commision):\n",
    "        self.__commision_rate = float(commision)\n",
    "    def set_revenue_generated(self, revenue):\n",
    "        self.__revenue_generated = float(revenue)\n",
    "    def get_commision_rate(self):\n",
    "        return self.__commision_rate\n",
    "    def get_revenue_generated(self):\n",
    "        return self.__revenue_generated\n",
    "    \n",
    "#Task 4.3\n",
    "staff_list =[]\n",
    "f = open(\"STAFF.CSV\")\n",
    "data = f.read().strip().split(\"\\n\")\n",
    "for i in range(len(data)):\n",
    "    if i == 0:\n",
    "        pass\n",
    "    else:\n",
    "        line = data[i].split(\",\")\n",
    "        staff = Staff(line[0], line[1], line[2])\n",
    "        staff_list.append(staff)\n",
    "print(staff_list)\n",
    "\n",
    "#Task 4.4\n",
    "\n",
    "#Task 4.6\n",
    "#The first principle of OOP is encapsulation, where the data and the methods that operate on the data are bundled into a single unit as can be seen in this case, where for instance, the base_salary and calc_annual_salary are bundled together and are seperated from the rest of the objects.\n",
    "#The second principle of OOP is inheritance, where a class can be derived from another class, to allow for code to be reused. In this context, inheritance is used when creating the classes PermStaff and CommisionStaff, where these classes inherit the attributes and the methods of the Staff class\n",
    "#The third principle of OOP is polymorphism, where the methods and data can exist in different forms in different classes/environments. In this case, we can see that the calc_annual_salary method is a method that uses the concept of polymporphism because it functions differently across all three classes even though it is meant to do the same thing, calculate salary.\n",
    "        \n",
    "    "
   ]
  }
 ],
 "metadata": {
  "kernelspec": {
   "display_name": "Python 3",
   "language": "python",
   "name": "python3"
  },
  "language_info": {
   "codemirror_mode": {
    "name": "ipython",
    "version": 3
   },
   "file_extension": ".py",
   "mimetype": "text/x-python",
   "name": "python",
   "nbconvert_exporter": "python",
   "pygments_lexer": "ipython3",
   "version": "3.6.4"
  }
 },
 "nbformat": 4,
 "nbformat_minor": 2
}
