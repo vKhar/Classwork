{
 "cells": [
  {
   "cell_type": "code",
   "execution_count": null,
   "metadata": {},
   "outputs": [],
   "source": [
    "#Task 6.1\n",
    "import random\n",
    "\n",
    "freq_table = {}\n",
    "n = int(input())\n",
    "for i in range(1000):\n",
    "    number = random.randint(1, n)\n",
    "    if number in freq_table:\n",
    "        freq_table[number] += 1\n",
    "    else:\n",
    "        freq_table[number] = 1\n",
    "        \n",
    "print(freq_table)\n",
    "\n",
    "#Task 6.2\n",
    "m = int(input())\n",
    "n = int(input())\n",
    "\n",
    "if m <= n:\n",
    "    random_list = []\n",
    "    while len(random_list) != m:\n",
    "        number = random.randint(1, n)\n",
    "        if number not in random_list:\n",
    "            random_list.append(number)\n",
    "\n",
    "print(random_list)\n",
    "#Task 6.3\n",
    "def shuffle(L):\n",
    "    shuffled_list = [ 0 for _ in range(len(L))]\n",
    "    taken_index = []\n",
    "    while len(taken_index) != len(L):\n",
    "        for i in range(len(L)):\n",
    "            index = random.randint(0, len(L)-1)\n",
    "            if index not in taken_index:\n",
    "                shuffled_list[index] = L[i]\n",
    "                L.pop(i)\n",
    "                taken_index.append(index)\n",
    "    return shuffled_list\n",
    "print(shuffle(random_list))"
   ]
  },
  {
   "cell_type": "markdown",
   "metadata": {},
   "source": [
    "### 6.1\n",
    "8/8\n",
    "### 6.2\n",
    "4/4\n",
    "### 6.3\n",
    "line 32 iterate over len(L) and you are mutating L in line 36  inside the loop!!   \n",
    "1/4\n",
    "\n",
    "### Total\n",
    "13/16"
   ]
  }
 ],
 "metadata": {
  "kernelspec": {
   "display_name": "Python 3",
   "language": "python",
   "name": "python3"
  },
  "language_info": {
   "codemirror_mode": {
    "name": "ipython",
    "version": 3
   },
   "file_extension": ".py",
   "mimetype": "text/x-python",
   "name": "python",
   "nbconvert_exporter": "python",
   "pygments_lexer": "ipython3",
   "version": "3.6.4"
  }
 },
 "nbformat": 4,
 "nbformat_minor": 2
}
