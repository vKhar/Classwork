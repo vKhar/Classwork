{
 "cells": [
  {
   "cell_type": "code",
   "execution_count": null,
   "metadata": {},
   "outputs": [],
   "source": [
    "#Task 3.1\n",
    "f = open(\"NAMES.TXT\")\n",
    "arr = f.read().strip().split(\"\\n\")\n",
    "print(arr)\n",
    "\n",
    "#Task 3.2\n",
    "def whoWins(players, m, position=1):\n",
    "    if len(players) == 1:\n",
    "        return players[0]\n",
    "    else:\n",
    "        temp_pos = (position + m)%len(players)\n",
    "        players.pop((position + m)%len(players))\n",
    "        return whoWins(players, m, temp_pos)\n",
    "\n",
    "#whoWins(arr, 2)\n",
    "\n",
    "#Task 3.3\n",
    "#The difference between white box testing and black box testing is that code is visible to the tester in white box testing whereas it is not in black_box testing.\n",
    "\n",
    "#Task 3.4\n",
    "#boundary case\n",
    "#whoWins([], 2)\n",
    "\n",
    "\n"
   ]
  },
  {
   "cell_type": "markdown",
   "metadata": {},
   "source": [
    "### 3.1\n",
    "- READ the question, what do you need to do?!!   \n",
    "\n",
    "1/2\n",
    "\n",
    "### 3.2\n",
    "- List index starts with 0, default position is not 1\n",
    "\n",
    "5/6\n",
    "\n",
    "### 3.3\n",
    "2/2\n",
    "\n",
    "### 3.4\n",
    "1/5\n",
    "\n",
    "### Total\n",
    "9/15"
   ]
  }
 ],
 "metadata": {
  "interpreter": {
   "hash": "f4e9cda46bb2d9d7fe6ecdff0f8336a934348bf06cb492f2f42f60739b3403b4"
  },
  "kernelspec": {
   "display_name": "Python 3.6.4 64-bit",
   "language": "python",
   "name": "python3"
  },
  "language_info": {
   "codemirror_mode": {
    "name": "ipython",
    "version": 3
   },
   "file_extension": ".py",
   "mimetype": "text/x-python",
   "name": "python",
   "nbconvert_exporter": "python",
   "pygments_lexer": "ipython3",
   "version": "3.6.4"
  }
 },
 "nbformat": 4,
 "nbformat_minor": 2
}
