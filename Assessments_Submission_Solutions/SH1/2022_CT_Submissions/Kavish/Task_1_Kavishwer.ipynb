{
 "cells": [
  {
   "cell_type": "code",
   "execution_count": null,
   "metadata": {},
   "outputs": [],
   "source": [
    "#Task 1.1\n",
    "def generate_digit(n):\n",
    "    sum = 0\n",
    "    for i in range(len(n)):\n",
    "        if i % 2 != 0:\n",
    "            sum += int(n[i])*3\n",
    "        else:\n",
    "            sum += int(n[i])\n",
    "    return sum % 10\n",
    "\n",
    "#Task 1.2\n",
    "f = open(\"7DIGITS_CODE.TXT\")\n",
    "data = f.read().strip().split(\"\\n\")\n",
    "updated = []\n",
    "for i in data:\n",
    "    updated.append(i + str(generate_digit(i)))\n",
    "newf = open(\"GTIN.TXT\", \"w\")\n",
    "newf.write(\"\\n\".join(updated))\n",
    "newf.close()\n",
    "print(\"\\n\".join(updated))\n",
    "\n",
    "#Task 1.3\n",
    "#The GTIN can help solve problems in scenarios where we need to check if the input that the person has entered is valid or invalid\n",
    "\n",
    "#Task 1.4\n",
    "#The first usability principle that needs to be adopted is affordance, where the interface is capable enough of giving clues and restrictions on how a certain system works. This can help the user get started quickly and help provide good user experience. This is because the user will be less likely to make errors while navigating the interface and more likely to conduct successful operations\n",
    "#The second usability principle that needs to be adopted is consistency, where the interface looks, acts and operates the same way throughout the system, this can help the user navigate the interface better as the user will be better able to comprehend how each of the components in an interface works and is less likely to make mistakes. The user will also enjoy a much greater consistency overall, leading to a higher productivity."
   ]
  },
  {
   "cell_type": "markdown",
   "metadata": {},
   "source": [
    "### 1.1\n",
    "- leftmost digit is 1 NOT 0\n",
    "- incorrect calculation of check digit\n",
    "\n",
    "2/5"
   ]
  },
  {
   "cell_type": "markdown",
   "metadata": {},
   "source": [
    "### 1.2\n",
    "4/4"
   ]
  },
  {
   "cell_type": "markdown",
   "metadata": {},
   "source": [
    "### 1.3\n",
    "\n",
    "1/1"
   ]
  },
  {
   "cell_type": "markdown",
   "metadata": {},
   "source": [
    "### 1.4\n",
    "\n",
    "4/4"
   ]
  },
  {
   "cell_type": "markdown",
   "metadata": {},
   "source": [
    "### Total\n",
    "11/14"
   ]
  },
  {
   "cell_type": "markdown",
   "metadata": {},
   "source": []
  }
 ],
 "metadata": {
  "interpreter": {
   "hash": "f4e9cda46bb2d9d7fe6ecdff0f8336a934348bf06cb492f2f42f60739b3403b4"
  },
  "kernelspec": {
   "display_name": "Python 3.6.4 64-bit",
   "language": "python",
   "name": "python3"
  },
  "language_info": {
   "codemirror_mode": {
    "name": "ipython",
    "version": 3
   },
   "file_extension": ".py",
   "mimetype": "text/x-python",
   "name": "python",
   "nbconvert_exporter": "python",
   "pygments_lexer": "ipython3",
   "version": "3.6.4"
  }
 },
 "nbformat": 4,
 "nbformat_minor": 2
}
