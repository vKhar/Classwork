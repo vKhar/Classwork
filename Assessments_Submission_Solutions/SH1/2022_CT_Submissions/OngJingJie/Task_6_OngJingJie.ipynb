{
 "cells": [
  {
   "cell_type": "code",
   "execution_count": 1,
   "metadata": {},
   "outputs": [
    {
     "name": "stdout",
     "output_type": "stream",
     "text": [
      "integer  frequency\n",
      "   1       219\n",
      "   2       208\n",
      "   3       190\n",
      "   4       186\n",
      "   5       197\n"
     ]
    }
   ],
   "source": [
    "#Task 6.1\n",
    "\n",
    "import random\n",
    "n = input(\"Input an integer:\") ##assume user inputs a positive integer\n",
    "number_list = []\n",
    "number_dict = {}\n",
    "for i in range(1000):\n",
    "    number_list.append(random.randint(1, int(n)))\n",
    "for i in range(len(number_list)):\n",
    "    if number_list[i] not in number_dict:\n",
    "        number_dict[number_list[i]] = 1\n",
    "    else:\n",
    "        number_dict[number_list[i]] += 1\n",
    "\n",
    "print(f\"integer  frequency\")\n",
    "for i in range(int(n)):\n",
    "    print(f\"   {i+1}{' '*(8-(len(str(i+1))))}{number_dict[i+1]}\")"
   ]
  },
  {
   "cell_type": "markdown",
   "metadata": {},
   "source": [
    "8/8"
   ]
  },
  {
   "cell_type": "code",
   "execution_count": 2,
   "metadata": {},
   "outputs": [],
   "source": [
    "#Task 6.2\n",
    "\n",
    "#assume m is an integer le3\n",
    "# ss than or equal to n\n",
    "\n",
    "m = input(\"Input an integer:\")\n",
    "num_list = []\n",
    "while len(num_list)!=int(m):\n",
    "    num_list.append(random.randint(1, int(n)))\n",
    "    num_list = list(set(num_list))"
   ]
  },
  {
   "cell_type": "markdown",
   "metadata": {},
   "source": [
    "- input for n ?\n",
    "\n",
    "3/4"
   ]
  },
  {
   "cell_type": "code",
   "execution_count": null,
   "metadata": {},
   "outputs": [],
   "source": [
    "#Task 6.3\n",
    "\n",
    "def shuffle(L):\n",
    "    random_index = []\n",
    "    size = len(L)\n",
    "    while len(numbers_list)!=size:\n",
    "        numbers_list.append(random.randint(0, len(L)-1)\n",
    "        numbers_list = list(set(num_list))\n",
    "    for i in range(size):\n",
    "        L[i] = L[numbers_list[i]]\n",
    "    return L"
   ]
  },
  {
   "cell_type": "markdown",
   "metadata": {},
   "source": [
    "- number_list, num_list  ??   \n",
    "- line 8 will not give you a random order   \n",
    "1/4\n",
    "### Total\n",
    "12/16"
   ]
  },
  {
   "cell_type": "markdown",
   "metadata": {},
   "source": []
  }
 ],
 "metadata": {
  "interpreter": {
   "hash": "f4e9cda46bb2d9d7fe6ecdff0f8336a934348bf06cb492f2f42f60739b3403b4"
  },
  "kernelspec": {
   "display_name": "Python 3.6.4 64-bit",
   "language": "python",
   "name": "python3"
  },
  "language_info": {
   "codemirror_mode": {
    "name": "ipython",
    "version": 3
   },
   "file_extension": ".py",
   "mimetype": "text/x-python",
   "name": "python",
   "nbconvert_exporter": "python",
   "pygments_lexer": "ipython3",
   "version": "3.6.4"
  }
 },
 "nbformat": 4,
 "nbformat_minor": 2
}
