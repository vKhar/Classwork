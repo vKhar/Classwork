{
 "cells": [
  {
   "cell_type": "markdown",
   "metadata": {},
   "source": [
    "Task 5.1\n",
    "\n",
    "Syntax error, Runtime error and logic error"
   ]
  },
  {
   "cell_type": "markdown",
   "metadata": {},
   "source": [
    "3/3"
   ]
  },
  {
   "cell_type": "markdown",
   "metadata": {},
   "source": [
    "Task 5.2\n",
    "\n",
    "First type of error possible is IndexError, a type of runtime error. In line 8 and 9, the list random_index_A can contain integers from 0 to size_A, inclusive of both  0 and size_A, due to random.randint(0, size_a) being inclusive. However, the indexes of the elements in the list A are only from 0 to size_A-1. Thus, the reference index will be out of range of the actual indexes present in list A. The same problem occurs in line 10 and 11 for list B. The error will pop up in line 13 or 15 when appending the elements of the two lists to the random_list.\n",
    "\n",
    "Second type of error is logic error. Since the integers chosen from range 0 to size A in line 9 and line 11 are randomised. This means that the integers that are addded into the lists random_index_A and random_index_B can be repeated. Since the number of integers added to these random index lists will have the same length as the original input lists, this implies that if any integers repeat, not all indexes of the input lists will be added to the random index lists and some will be left out. This means that when the random_list is formed, it may included repeated element from list A and/or list B. It may not contain all the elements from both input Lists and thus is functionally flawed."
   ]
  },
  {
   "cell_type": "markdown",
   "metadata": {},
   "source": [
    "2/3"
   ]
  },
  {
   "cell_type": "markdown",
   "metadata": {},
   "source": [
    "### Total\n",
    "5/6"
   ]
  }
 ],
 "metadata": {
  "interpreter": {
   "hash": "f4e9cda46bb2d9d7fe6ecdff0f8336a934348bf06cb492f2f42f60739b3403b4"
  },
  "kernelspec": {
   "display_name": "Python 3.6.4 64-bit",
   "language": "python",
   "name": "python3"
  },
  "language_info": {
   "codemirror_mode": {
    "name": "ipython",
    "version": 3
   },
   "file_extension": ".py",
   "mimetype": "text/x-python",
   "name": "python",
   "nbconvert_exporter": "python",
   "pygments_lexer": "ipython3",
   "version": "3.6.4"
  }
 },
 "nbformat": 4,
 "nbformat_minor": 2
}
