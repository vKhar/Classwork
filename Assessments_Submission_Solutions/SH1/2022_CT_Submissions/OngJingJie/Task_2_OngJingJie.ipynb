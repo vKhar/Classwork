{
 "cells": [
  {
   "cell_type": "code",
   "execution_count": null,
   "metadata": {},
   "outputs": [],
   "source": [
    "#Task 2.1\n",
    "\n",
    "def re_sum_code(a, r, m, sequence_list, total, sequence):\n",
    "    if len(sequence_list) == m:\n",
    "        return total, sequence\n",
    "    else:\n",
    "        cur_num = a*r**len(sequence_list)\n",
    "        sequence = sequence + f\" {str(cur_num)}\"\n",
    "        sequence_list.append(cur_num)\n",
    "        total += cur_num\n",
    "        return re_sum_code(a, r, m, sequence_list, total, sequence)\n",
    "        \n",
    "def re_sum(a, r, m):\n",
    "    return re_sum_code(a, r, m, [a], a, f\"{a}\")\n",
    "\n",
    "print(re_sum(1, 2, 10))"
   ]
  },
  {
   "cell_type": "markdown",
   "metadata": {},
   "source": [
    "6/6"
   ]
  },
  {
   "cell_type": "markdown",
   "metadata": {},
   "source": [
    "### Task 2.2\n",
    "4/4"
   ]
  },
  {
   "cell_type": "markdown",
   "metadata": {},
   "source": [
    "#Task 2.3\n",
    "\n",
    "Iterative approach has a higher term number limit than the recursive approach, since the recursive approach is limited by the stack, and if too many terms is requested, the recursion depth will be exceeded. The disadvantage of the iterative approach is that "
   ]
  },
  {
   "cell_type": "markdown",
   "metadata": {},
   "source": [
    "1/2\n",
    "\n",
    "### Total\n",
    "11/12"
   ]
  }
 ],
 "metadata": {
  "interpreter": {
   "hash": "f4e9cda46bb2d9d7fe6ecdff0f8336a934348bf06cb492f2f42f60739b3403b4"
  },
  "kernelspec": {
   "display_name": "Python 3.6.4 64-bit",
   "language": "python",
   "name": "python3"
  },
  "language_info": {
   "codemirror_mode": {
    "name": "ipython",
    "version": 3
   },
   "file_extension": ".py",
   "mimetype": "text/x-python",
   "name": "python",
   "nbconvert_exporter": "python",
   "pygments_lexer": "ipython3",
   "version": "3.6.4"
  }
 },
 "nbformat": 4,
 "nbformat_minor": 2
}
