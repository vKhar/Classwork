{
 "cells": [
  {
   "cell_type": "code",
   "execution_count": null,
   "metadata": {},
   "outputs": [],
   "source": [
    "#Task 4.1\n",
    "\n",
    "class Staff:\n",
    "    def __init__(self, name, appt, base_salary):\n",
    "        self.__name = name\n",
    "        self.__appt = appt\n",
    "        self.__base_salary = base_salary\n",
    "    def get_base_salary(self):\n",
    "        return self.__base_salary\n",
    "    def calc_annual_salary(self):\n",
    "        return self.__base_salary*12\n",
    "    def __repr__(self):\n",
    "        return f\"{name}:{appointment}:{calc_annual_salary}\""
   ]
  },
  {
   "cell_type": "markdown",
   "metadata": {},
   "source": [
    "- No getters/setters\n",
    "- 3/4"
   ]
  },
  {
   "cell_type": "code",
   "execution_count": null,
   "metadata": {},
   "outputs": [],
   "source": [
    "#Task 4.2\n",
    "\n",
    "class PermStaff(Staff):\n",
    "    def\n",
    "    \n",
    "class ComissionStaff(Staff):\n",
    "    def"
   ]
  },
  {
   "cell_type": "markdown",
   "metadata": {},
   "source": [
    "0/4"
   ]
  },
  {
   "cell_type": "code",
   "execution_count": null,
   "metadata": {},
   "outputs": [],
   "source": [
    "#Task 4.3\n",
    "\n",
    "f = open(\"STAFF.CSV\")\n",
    "\n",
    "staffs = f.readlines()\n",
    "staff_list = []\n",
    "for staff in staffs:\n",
    "    staff_list.append(staff.strip(\"\\n\").split(\",\"))\n",
    "staff_list.pop(0)\n",
    "print(staff_list)\n",
    "f.close()"
   ]
  },
  {
   "cell_type": "markdown",
   "metadata": {},
   "source": [
    "2/4"
   ]
  },
  {
   "cell_type": "markdown",
   "metadata": {},
   "source": [
    "### Task 4.5\n",
    "0/4"
   ]
  },
  {
   "cell_type": "markdown",
   "metadata": {},
   "source": [
    "#Task 4.6\n",
    "\n",
    "The first principle of object oriented programming(OOP) is encapsulation. Encapsulation binds the attributes and methods to the respective class. For example, under the class Staff, the properties name and appt and binded to the class. This property allows for abstraction, as the attributes and methods can be made private, such as the name and appt attribute are made private. This allows users to use methods related to the class without knowing the code behind the processes, and with only knowledge on how to use it. The second property of OOP is inheritence. This allows classes to reuse code from other classes, inheriting their methods. This can be seen as the child classes PermStaff and ComissionStaff class have inherited from the parent class Staff, and the child classes can use the methods defined in the parent class. The third property of OOP is polymorphism. This is usually seen in parent and child classes, where the method defined in the parent class is inherited by the child class, but the method is slightly different in the child class as the method is redefined. This allows for the same method to carry out different function depending on which class it is under"
   ]
  },
  {
   "cell_type": "markdown",
   "metadata": {},
   "source": [
    "6/6"
   ]
  },
  {
   "cell_type": "markdown",
   "metadata": {},
   "source": [
    "### Total\n",
    "11/22"
   ]
  }
 ],
 "metadata": {
  "kernelspec": {
   "display_name": "Python 3",
   "language": "python",
   "name": "python3"
  },
  "language_info": {
   "codemirror_mode": {
    "name": "ipython",
    "version": 3
   },
   "file_extension": ".py",
   "mimetype": "text/x-python",
   "name": "python",
   "nbconvert_exporter": "python",
   "pygments_lexer": "ipython3",
   "version": "3.6.4"
  }
 },
 "nbformat": 4,
 "nbformat_minor": 2
}
