{
 "cells": [
  {
   "cell_type": "code",
   "execution_count": null,
   "metadata": {},
   "outputs": [],
   "source": [
    "#Task 3.1\n",
    "\n",
    "f = open(\"NAMES.TXT\")\n",
    "\n",
    "players = []\n",
    "\n",
    "lines = f.readlines()\n",
    "for line in lines:\n",
    "    players.append(line.strip(\"\\n\"))"
   ]
  },
  {
   "cell_type": "markdown",
   "metadata": {},
   "source": [
    "2/2"
   ]
  },
  {
   "cell_type": "code",
   "execution_count": null,
   "metadata": {},
   "outputs": [],
   "source": [
    "#Task 3.2\n",
    "\n",
    "#assume m is larger than or equals to 0\n",
    "def whoWins(players, m):\n",
    "    player_list = players[::]\n",
    "    while len(player_list) != 1:\n",
    "        if m< len(player_list):\n",
    "            player_list = player_list[m+1:] + player_list[0:m]\n",
    "        else:\n",
    "            player_list = player_list[m%len(player_list)+1:] + player_list[0:m%len(player_list)]\n",
    "    return player_list[0]\n",
    "\n",
    "print(whoWins(players, 3))"
   ]
  },
  {
   "cell_type": "code",
   "execution_count": null,
   "metadata": {},
   "outputs": [],
   "source": [
    "whoWins([], 2)"
   ]
  },
  {
   "cell_type": "markdown",
   "metadata": {},
   "source": [
    "6/6"
   ]
  },
  {
   "cell_type": "markdown",
   "metadata": {},
   "source": [
    "#Task 3.3\n",
    "\n",
    "Black box testing is when the tester does not know the actal conent of the code that is being implemented and only had an idea of what the code should do. White box testing is when the tester does know the actual content of the code and prepares test cases with knowledge of the code that has been written. The different between the two is whether or not the tester knows the contents of the code that has been written."
   ]
  },
  {
   "cell_type": "markdown",
   "metadata": {},
   "source": [
    "2/2"
   ]
  },
  {
   "cell_type": "markdown",
   "metadata": {},
   "source": [
    "#Task 3.4\n",
    "\n",
    "Test type      Input                   Expected Output        Actual Output\n",
    "\n",
    "Valid          whoWins(players, 1)     Wakefield              Wakefield\n",
    "Valid          whoWins(players, 2)     Dorisa                 Dorisa\n",
    "Invalid        whoWins(players, \"a\")   TypeError              TypeError\n",
    "Boundary       whoWins(players, 0)     Wakefield              Wakefield"
   ]
  },
  {
   "cell_type": "markdown",
   "metadata": {},
   "source": [
    "- You need to execute all the 4 cases  \n",
    "- Test for empty list ( your code will give division by 0 error)   \n",
    "4/5"
   ]
  },
  {
   "cell_type": "markdown",
   "metadata": {},
   "source": [
    "### Total\n",
    "\n",
    "14/15"
   ]
  },
  {
   "cell_type": "markdown",
   "metadata": {},
   "source": []
  }
 ],
 "metadata": {
  "interpreter": {
   "hash": "f4e9cda46bb2d9d7fe6ecdff0f8336a934348bf06cb492f2f42f60739b3403b4"
  },
  "kernelspec": {
   "display_name": "Python 3.6.4 64-bit",
   "language": "python",
   "name": "python3"
  },
  "language_info": {
   "codemirror_mode": {
    "name": "ipython",
    "version": 3
   },
   "file_extension": ".py",
   "mimetype": "text/x-python",
   "name": "python",
   "nbconvert_exporter": "python",
   "pygments_lexer": "ipython3",
   "version": "3.6.4"
  }
 },
 "nbformat": 4,
 "nbformat_minor": 2
}
