{
 "cells": [
  {
   "cell_type": "code",
   "execution_count": null,
   "metadata": {},
   "outputs": [],
   "source": [
    "#Task 3.1\n",
    "with open(\"LeeZiZhuo/NAMES.TXT\",\"r\") as f:\n",
    "    players = list()\n",
    "    words = f.readlines()\n",
    "    for word in words:\n",
    "        word = word.strip()\n",
    "        players.append(word)\n",
    "    print(players)\n",
    "        \n"
   ]
  },
  {
   "cell_type": "markdown",
   "metadata": {},
   "source": [
    "2/2"
   ]
  },
  {
   "cell_type": "code",
   "execution_count": 3,
   "metadata": {},
   "outputs": [],
   "source": [
    "#Task 3.2\n",
    "def whoWins(players,m):\n",
    "    if m <1 :\n",
    "        print(\"invalid bomb turn\")\n",
    "        quit()\n",
    "    \n",
    "    count = 0\n",
    "    while len(players) != 1:\n",
    "        for player in players:\n",
    "            count += 1\n",
    "            if count == m:\n",
    "                players.remove(player)\n",
    "                \n",
    "                count = 0\n",
    "    return(str(players).strip(\"[]\")) "
   ]
  },
  {
   "cell_type": "markdown",
   "metadata": {},
   "source": [
    "- DO NOT use quit() inside a function, read my comment in Task 1!!\n",
    "- you are iterating through players in line 9 and removing the players in line 12, the next player in the for loop is undeterministic because the indexes will be pointing at the wrong elements.   \n",
    "Example L = [\"a\",\"b\",\"c\",\"d\",\"e]   \n",
    "when for loop is used to iterate through L, the indexes are 0,1,2,3,4\n",
    "so when indexes 0, 1, 2  are iterate over you will get \"a\", \"b\" ,\"c\" respectively, when \"c\" is pop out the L becomes [\"a\",\"b\",\"d\",\"e\"], the next index  is 3 which will access \"e\", \"d\" is not accessed at all.\n",
    "- line 15 ??!!! don't you know how to access an element in a list , why do you need to convert to a str??!! again read my comment in Task 1\n",
    "- 2/6"
   ]
  },
  {
   "cell_type": "code",
   "execution_count": null,
   "metadata": {},
   "outputs": [],
   "source": [
    "#Task 3.3\n",
    "#Black box testing involve use of test cases where you do not see the code of the function while knowing what the fucntion does and use test cases to test for errors .\n",
    "#White box testing is when you look directly at the source code of the function to spot errors"
   ]
  },
  {
   "cell_type": "markdown",
   "metadata": {},
   "source": [
    "2/2"
   ]
  },
  {
   "cell_type": "code",
   "execution_count": null,
   "metadata": {},
   "outputs": [],
   "source": [
    "#Task 3.4 ##start all test cases after running task 3.1 each time \n",
    "#normal case\n",
    "print(whoWins(players,5))\n"
   ]
  },
  {
   "cell_type": "code",
   "execution_count": null,
   "metadata": {},
   "outputs": [],
   "source": [
    "#boundary case\n",
    "print(whoWins(players,0))"
   ]
  },
  {
   "cell_type": "code",
   "execution_count": null,
   "metadata": {},
   "outputs": [],
   "source": [
    "#Invalid Case\n",
    "print(whoWins(players,-1))"
   ]
  },
  {
   "cell_type": "markdown",
   "metadata": {},
   "source": [
    "- I ask for 4 test cases\n",
    "- 4/5"
   ]
  },
  {
   "cell_type": "markdown",
   "metadata": {},
   "source": [
    "### Total\n",
    "- 10/15"
   ]
  }
 ],
 "metadata": {
  "interpreter": {
   "hash": "f4e9cda46bb2d9d7fe6ecdff0f8336a934348bf06cb492f2f42f60739b3403b4"
  },
  "kernelspec": {
   "display_name": "Python 3.6.4 64-bit",
   "language": "python",
   "name": "python3"
  },
  "language_info": {
   "codemirror_mode": {
    "name": "ipython",
    "version": 3
   },
   "file_extension": ".py",
   "mimetype": "text/x-python",
   "name": "python",
   "nbconvert_exporter": "python",
   "pygments_lexer": "ipython3",
   "version": "3.6.4"
  }
 },
 "nbformat": 4,
 "nbformat_minor": 2
}
