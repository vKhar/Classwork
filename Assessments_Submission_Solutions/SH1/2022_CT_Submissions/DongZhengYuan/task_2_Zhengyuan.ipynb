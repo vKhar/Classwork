{
 "cells": [
  {
   "cell_type": "code",
   "execution_count": null,
   "metadata": {},
   "outputs": [],
   "source": [
    "#Task 2.1\n",
    "l = []\n",
    "n = 9\n",
    "\n",
    "def re_sum(a,r,m):\n",
    "    if m == 0:\n",
    "        return \",\".join(l.sort(reverse=True))\n",
    "    else:\n",
    "        l.append(a*(r**(m-1)))\n",
    "        print(r)\n",
    "        return re_sum(a,(r**(m-n),(m-1))\n",
    "\n",
    "print(re_sum(1,2,10))"
   ]
  },
  {
   "cell_type": "markdown",
   "metadata": {},
   "source": [
    "Task 2.1   \n",
    "- 0/6\n",
    "\n",
    "Task 2.2\n",
    "- 0/4\n",
    "\n",
    "Task 2.3\n",
    "- 0/2\n",
    "\n",
    "### Total\n",
    "0/12"
   ]
  }
 ],
 "metadata": {
  "interpreter": {
   "hash": "f4e9cda46bb2d9d7fe6ecdff0f8336a934348bf06cb492f2f42f60739b3403b4"
  },
  "kernelspec": {
   "display_name": "Python 3.6.4 64-bit",
   "language": "python",
   "name": "python3"
  },
  "language_info": {
   "codemirror_mode": {
    "name": "ipython",
    "version": 3
   },
   "file_extension": ".py",
   "mimetype": "text/x-python",
   "name": "python",
   "nbconvert_exporter": "python",
   "pygments_lexer": "ipython3",
   "version": "3.6.4"
  }
 },
 "nbformat": 4,
 "nbformat_minor": 2
}
