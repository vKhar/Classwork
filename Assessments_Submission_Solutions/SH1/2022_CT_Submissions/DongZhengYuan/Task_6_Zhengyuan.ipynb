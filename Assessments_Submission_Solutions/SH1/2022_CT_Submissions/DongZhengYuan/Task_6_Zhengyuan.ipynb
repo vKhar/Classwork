{
 "cells": [
  {
   "cell_type": "code",
   "execution_count": null,
   "metadata": {},
   "outputs": [],
   "source": [
    "#Task 6.1\n",
    "import random\n",
    "n = input(\"Please input a value\")\n",
    "L = []\n",
    "for i in range(0,1000):\n",
    "    L.append(random.randint(1,n))\n",
    "\n",
    "#Task 6.2\n",
    "\n",
    "def rng():\n",
    "    n = input(\"Please input a value for n\")\n",
    "    m = input(\"Please input a value for m\")\n",
    "    if m > n:\n",
    "        return rng()\n",
    "    else:\n",
    "        l = []\n",
    "        m = int(m)\n",
    "        n = int(n)\n",
    "        for i in range(0,m):\n",
    "            l.append(random.randint(1,n))\n",
    "        return l\n",
    "print(rng())\n",
    "\n",
    "#Task 6.3\n",
    "def shuffle(L:list):\n",
    "    ret = []\n",
    "    for i in L:\n",
    "        ret.insert(random.randint(0,len(L)-1), i)\n",
    "    return ret\n",
    "print(shuffle([1,2,3,5,6]))"
   ]
  },
  {
   "cell_type": "markdown",
   "metadata": {},
   "source": [
    "6.1   \n",
    "- 2/8\n",
    "\n",
    "6.2\n",
    "- line 13,  you are doing str compare ?!!!, doing recusrive calls to re-do is NOT APPROPITAE HERE\n",
    "- You will NOT get unique random numbers \n",
    "- 1/4\n",
    "\n",
    "6.3\n",
    "- 0/4\n",
    "### Total\n",
    "3/16\n"
   ]
  }
 ],
 "metadata": {
  "kernelspec": {
   "display_name": "Python 3",
   "language": "python",
   "name": "python3"
  },
  "language_info": {
   "codemirror_mode": {
    "name": "ipython",
    "version": 3
   },
   "file_extension": ".py",
   "mimetype": "text/x-python",
   "name": "python",
   "nbconvert_exporter": "python",
   "pygments_lexer": "ipython3",
   "version": "3.6.4"
  }
 },
 "nbformat": 4,
 "nbformat_minor": 2
}
