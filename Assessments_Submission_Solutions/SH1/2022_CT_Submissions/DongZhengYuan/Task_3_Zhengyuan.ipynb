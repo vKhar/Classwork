{
 "cells": [
  {
   "cell_type": "code",
   "execution_count": null,
   "metadata": {},
   "outputs": [],
   "source": [
    "#Task 3.1\n",
    "try:\n",
    "    f = open(\"NAMES.txt\",\"r\")\n",
    "    players = f.readlines()\n",
    "    l = []\n",
    "    for i in players:\n",
    "        l.append(str(i).strip())\n",
    "        \n",
    "    def whoWins(players:list, m:int):\n",
    "        time = 0\n",
    "        while len(players) > 1:\n",
    "            for i in players:\n",
    "                time += 1\n",
    "                if time == m:\n",
    "                    players.pop(players.index(i))\n",
    "                    time = 0\n",
    "        return players\n",
    "    print(whoWins(l,2)) #Valid test case, Expected result: ['Josefa'], Actual Result: ['Josefa']\n",
    "    print(whoWins(l,7)) #Valid test case, Expected result: ['Josefa'], Actual Result: ['Josefa']\n",
    "    print(whoWins(l,0)) #Boundary test case, Expected result: ['Josefa'], Actual Result: ['Josefa']\n",
    "    print(l)\n",
    "    print(whoWins(l,\"hi\")) #Inalid test case, Expected result: ['Josefa'], Actual Result: ['Josefa']\n",
    "    f.close()\n",
    "except Exception as e:\n",
    "    print(str(e))"
   ]
  },
  {
   "cell_type": "markdown",
   "metadata": {},
   "source": [
    "Task 3.1\n",
    "- players should contain a list of names which is your l\n",
    "- READ THE QUESTION!!!\n",
    "- 1/2\n",
    "\n",
    "Task 3.2\n",
    "- you are iterating through players in line 12 and removing the players in line 15, the next player in the for loop is undeterministic because the indexes will be pointing at the wrong elements.   \n",
    "Example L = [\"a\",\"b\",\"c\",\"d\",\"e]   \n",
    "when for loop is used to iterate through L, the indexes are 0,1,2,3,4\n",
    "so when indexes 0, 1, 2  are iterate over you will get \"a\", \"b\" ,\"c\" respectively, when \"c\" is pop out the L becomes [\"a\",\"b\",\"d\",\"e\"], the next index  is 3 which will access \"e\", \"d\" is not accessed at all.\n",
    "-  3/6\n",
    "\n",
    "Task 3.3\n",
    "- 2/2\n",
    "\n",
    "Task 3.4\n",
    " - all test cases must be tested after reading the file\n",
    " - NEVER indicate where your answer is \n",
    " - 3/5\n",
    "\n",
    " ### Total\n",
    " 9/15"
   ]
  }
 ],
 "metadata": {
  "interpreter": {
   "hash": "f4e9cda46bb2d9d7fe6ecdff0f8336a934348bf06cb492f2f42f60739b3403b4"
  },
  "kernelspec": {
   "display_name": "Python 3.6.4 64-bit",
   "language": "python",
   "name": "python3"
  },
  "language_info": {
   "codemirror_mode": {
    "name": "ipython",
    "version": 3
   },
   "file_extension": ".py",
   "mimetype": "text/x-python",
   "name": "python",
   "nbconvert_exporter": "python",
   "pygments_lexer": "ipython3",
   "version": "3.6.4"
  }
 },
 "nbformat": 4,
 "nbformat_minor": 2
}
