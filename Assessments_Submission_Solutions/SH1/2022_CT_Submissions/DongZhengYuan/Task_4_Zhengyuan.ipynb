{
 "cells": [
  {
   "cell_type": "code",
   "execution_count": null,
   "metadata": {},
   "outputs": [],
   "source": [
    "#Task 4.1\n",
    "class Staff:\n",
    "    def __init__(self, name, appt, base_salary):\n",
    "        self.__name = str(name)\n",
    "        self.__appt = str(appt)\n",
    "        self.__base_salary = float(base_salary)\n",
    "    def calc_annual_salary(self):\n",
    "        return f\"{self.__base_salary*12}\"\n",
    "    def __repr__(self):\n",
    "        return f\"{self.__name}:{self.__appt}:{self.__base_salary*12}\"\n",
    "#Task 4.2\n",
    "class PermStaff(Staff):\n",
    "    def __init__(self, name, appt, base_salary, bonus):\n",
    "        self.__bonus_rating = float(bonus)\n",
    "        super().__init__(name, appt, base_salary)\n",
    "    def calc_annual_salary(self):\n",
    "        return f\"{(self.__base_salary*12) + ((self.__base_salary*12)*12*0.8)}\"\n",
    "\n",
    "class CommissionStaff(Staff):\n",
    "    def __init__(self, name, appt, base_salary, commission, revenue):\n",
    "        self.__commission_rate = float(commission)\n",
    "        self.__revenue_generated = float(revenue)\n",
    "        super().__init__(name, appt, base_salary)\n",
    "    def calc_annual_salary(self):\n",
    "        return f\"{(self.__base_salary*12) + (self.__revenue_generated*self.__commission_rate)}\"\n",
    "#Task 4.3\n",
    "f = open(\"STAFF.CSV\",\"r\")\n",
    "staffObj = []\n",
    "for i in f.readlines():\n",
    "    n = i.strip().split(\",\")\n",
    "    if n[2] == \"Base Salary\":\n",
    "        continue\n",
    "    elif len(n[3]) == 0 and len(n[4])==0:\n",
    "        staffObj.append(Staff(n[0],n[1],n[2]))\n",
    "    elif len(n[3]) > 0:\n",
    "        staffObj.append(PermStaff(n[0],n[1],n[2],n[3]))\n",
    "    elif len(n[4]) > 0:\n",
    "        staffObj.append(CommissionStaff(n[0],n[1],n[2],n[4],n[5]))\n",
    "print(staffObj)\n",
    "top_earners = []\n",
    "for i in staffObj:\n",
    "    print(i.calc_annual_salary())\n",
    "f.close()\n",
    "   \n"
   ]
  },
  {
   "cell_type": "markdown",
   "metadata": {},
   "source": [
    "4.1\n",
    "- getters/setters ?\n",
    "- WHY A string for calc_annual_salary\n",
    "- 2/4\n",
    "\n",
    "4.2\n",
    "- line 17 wrong calculation for calc_annual_salary, 0.8 ?!!!\n",
    "- getters/setters for additional attributes\n",
    "- 2/4\n",
    "\n",
    "4.3\n",
    "- 4/4\n",
    "\n",
    "4.5\n",
    "- 0/5\n",
    "\n",
    "4.6\n",
    "- 5/6\n",
    "\n",
    "### Total\n",
    "13/22\n",
    "\n"
   ]
  },
  {
   "cell_type": "markdown",
   "metadata": {},
   "source": []
  }
 ],
 "metadata": {
  "kernelspec": {
   "display_name": "Python 3",
   "language": "python",
   "name": "python3"
  },
  "language_info": {
   "codemirror_mode": {
    "name": "ipython",
    "version": 3
   },
   "file_extension": ".py",
   "mimetype": "text/x-python",
   "name": "python",
   "nbconvert_exporter": "python",
   "pygments_lexer": "ipython3",
   "version": "3.6.4"
  }
 },
 "nbformat": 4,
 "nbformat_minor": 2
}
