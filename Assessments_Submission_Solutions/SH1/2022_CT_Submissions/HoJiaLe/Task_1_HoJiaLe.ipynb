{
 "cells": [
  {
   "cell_type": "code",
   "execution_count": null,
   "metadata": {},
   "outputs": [],
   "source": [
    "# Task 1.1\n",
    "def generate_digit(input1):\n",
    "    total = 0\n",
    "    for i in range(len(input1)):\n",
    "        if (i+1) % 2 != 0:\n",
    "            total += int(input1[i])*3\n",
    "        elif (i+1) % 2 == 0:\n",
    "            total += int(input1[i])\n",
    "    checksum = 0\n",
    "    while total % 10 != 0:\n",
    "            total += checksum\n",
    "            checksum += 1\n",
    "    return (checksum)\n",
    "# Task 1.2 \n",
    "with open(\"7DIGITS_CODE.TXT\",\"r\") as f, open(\"GTIN.TXT\",\"w\") as wf:\n",
    "    digits = f.readlines()\n",
    "    digits = [i.strip() for i in digits]\n",
    "    for i in digits:\n",
    "        wf.write(i+f\"{generate_digit(i)}\\n\")\n",
    "\n",
    "\n",
    "#Task 1.3\n",
    "#Data might be lost during transmittion, check digit allows us to check if all data is present\n",
    "\n",
    "#Task 1.4\n",
    "#Affordance gives clues to the user on how to input data into the web application.\n",
    "\n"
   ]
  },
  {
   "cell_type": "markdown",
   "metadata": {},
   "source": [
    "### Task 1.1\n",
    "- incorrect calculation of checksum\n",
    "- infinite loop line 11\n",
    "- 2/5"
   ]
  },
  {
   "cell_type": "markdown",
   "metadata": {},
   "source": [
    "### Task 1.2\n",
    "- incorrect output format\n",
    "- close file\n",
    "- 2/4\n"
   ]
  },
  {
   "cell_type": "markdown",
   "metadata": {},
   "source": [
    "### Task 1.3\n",
    "0/1\n",
    "### Task 1.4\n",
    "2/4\n",
    "### Total\n",
    "6/14"
   ]
  }
 ],
 "metadata": {
  "interpreter": {
   "hash": "f4e9cda46bb2d9d7fe6ecdff0f8336a934348bf06cb492f2f42f60739b3403b4"
  },
  "kernelspec": {
   "display_name": "Python 3.6.4 64-bit",
   "language": "python",
   "name": "python3"
  },
  "language_info": {
   "codemirror_mode": {
    "name": "ipython",
    "version": 3
   },
   "file_extension": ".py",
   "mimetype": "text/x-python",
   "name": "python",
   "nbconvert_exporter": "python",
   "pygments_lexer": "ipython3",
   "version": "3.6.4"
  }
 },
 "nbformat": 4,
 "nbformat_minor": 2
}
