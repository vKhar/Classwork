{
 "cells": [
  {
   "cell_type": "code",
   "execution_count": null,
   "metadata": {},
   "outputs": [],
   "source": [
    "#Task 4.1\n",
    "class Staff:\n",
    "    def __init__(self,name,appt,base_salary):\n",
    "        self.name = name\n",
    "        self.appt = appt\n",
    "        self.base_salary = base_salary\n",
    "    def calc_annual_salary(self):\n",
    "        return self.base_salary * 12\n",
    "    def __repr__(self):\n",
    "        return (f\"{self.name}:{self.appt}:{self.base_salary*12}\")\n",
    "\n",
    "#Task 4.2\n",
    "class PermStaff(Staff):\n",
    "    def __init__(self,name,appt,base_salary,bonus_rating = 0):   \n",
    "        super().__init__(name,appt,base_salary)\n",
    "        self.bonus = 0\n",
    "        self.bonus = bonus_rating\n",
    "    def calc_annual_salary(self):\n",
    "        return self.base_salary * 12 + self.base_salary * 12 * self.bonus\n",
    "    \n",
    "class CommisionStaff(Staff):\n",
    "    def __init__(self,name,appt,base_salary,commision_rate = 0, revenue_generated = 0):\n",
    "        super().__init__(name,appt,base_salary)\n",
    "        self.commrate = commision_rate\n",
    "        self.revgen = revenue_generated\n",
    "    def calc_annual_salary(self):\n",
    "        return self.base_salary + (self.revgen*self.commrate)\n",
    "#Task 4.3\n",
    "with open(\"Staff.csv\",\"r\") as f:\n",
    "    stafflist = f.readlines()\n",
    "    stafflist = [i.strip().split(\",\") for i in stafflist]\n",
    "    stafflist = stafflist[1:]\n",
    "#Task 4.5\n",
    "\n",
    "#Task 4.6\n",
    "#Capsulation is the process of incapsuating functions and attributes into a single class\n",
    "#Inheritence is the process of creating a child and parent class where the child class has the same functions as the parent class\n",
    "#Polymorphism is the ability for one function to have different uses based on different scenarios"
   ]
  },
  {
   "cell_type": "markdown",
   "metadata": {},
   "source": [
    "Task 4.1   \n",
    "- attributes are private, need getters/setters\n",
    "- 3/4\n",
    "\n",
    "Task 4.2\n",
    "- getters/setters for additional attributes\n",
    "- wrong calculation for calc_annual_salary() for CommisionStaff\n",
    "- 2/4\n",
    "\n",
    "Task 4.3\n",
    "- 1/4\n",
    "\n",
    "Task 4.5\n",
    "- 0/4\n",
    "\n",
    "Task 4.6\n",
    "- I am asking for principles. \n",
    "- 0/6\n",
    "\n",
    "### Total\n",
    "6/22\n"
   ]
  },
  {
   "cell_type": "markdown",
   "metadata": {},
   "source": []
  }
 ],
 "metadata": {
  "kernelspec": {
   "display_name": "Python 3.6.4 64-bit",
   "language": "python",
   "name": "python3"
  },
  "language_info": {
   "codemirror_mode": {
    "name": "ipython",
    "version": 3
   },
   "file_extension": ".py",
   "mimetype": "text/x-python",
   "name": "python",
   "nbconvert_exporter": "python",
   "pygments_lexer": "ipython3",
   "version": "3.6.4"
  },
  "vscode": {
   "interpreter": {
    "hash": "f4e9cda46bb2d9d7fe6ecdff0f8336a934348bf06cb492f2f42f60739b3403b4"
   }
  }
 },
 "nbformat": 4,
 "nbformat_minor": 2
}
