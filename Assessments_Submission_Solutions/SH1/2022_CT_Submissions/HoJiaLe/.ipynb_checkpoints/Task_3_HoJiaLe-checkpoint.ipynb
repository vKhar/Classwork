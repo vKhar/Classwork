{
 "cells": [
  {
   "cell_type": "code",
   "execution_count": 2,
   "metadata": {},
   "outputs": [],
   "source": [
    "#  Task 3.1\n",
    "with open(\"NAMES.TXT\") as f:\n",
    "    players = f.readlines()\n",
    "    players = [i.strip() for i in players]\n",
    "#Task 3.2\n",
    "def whoWins(players,m):\n",
    "    winlist = players\n",
    "    while len(winlist) != 1:\n",
    "        if len(winlist) > m:\n",
    "            dead = (len(winlist) % m)\n",
    "            print(winlist,dead)\n",
    "            winlist.pop(len(winlist) % m)\n",
    "        elif len(winlist) < m:\n",
    "            dead = (len(winlist) % m)\n",
    "            if dead > len(winlist) - 1:\n",
    "                winlist.pop(dead - 1)\n",
    "            else:\n",
    "                print(winlist,dead)\n",
    "                winlist.pop(len(winlist) % m)     \n",
    "        elif len(winlist) == m:\n",
    "            winlist.pop(0)\n",
    "    return winlist\n",
    "#Task 3.3\n",
    "#White box testing is testing a programme when you already know the base code, while black box testing is testing the programme \n",
    "    "
   ]
  },
  {
   "cell_type": "code",
   "execution_count": null,
   "metadata": {},
   "outputs": [],
   "source": []
  }
 ],
 "metadata": {
  "kernelspec": {
   "display_name": "Python 3",
   "language": "python",
   "name": "python3"
  },
  "language_info": {
   "codemirror_mode": {
    "name": "ipython",
    "version": 3
   },
   "file_extension": ".py",
   "mimetype": "text/x-python",
   "name": "python",
   "nbconvert_exporter": "python",
   "pygments_lexer": "ipython3",
   "version": "3.6.4"
  }
 },
 "nbformat": 4,
 "nbformat_minor": 2
}
