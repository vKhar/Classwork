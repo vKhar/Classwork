{
 "cells": [
  {
   "cell_type": "code",
   "execution_count": null,
   "metadata": {},
   "outputs": [],
   "source": [
    "# Task 1.1\n",
    "def generate_digit(input1):\n",
    "    total = 0\n",
    "    for i in range(len(input1)):\n",
    "        if (i+1) % 2 != 0:\n",
    "            total += int(input1[i])*3\n",
    "        elif (i+1) % 2 == 0:\n",
    "            total += int(input1[i])\n",
    "    checksum = 0\n",
    "    while total % 10 != 0:\n",
    "            total += checksum\n",
    "            checksum += 1\n",
    "    return (checksum)\n",
    "# Task 1.2 \n",
    "with open(\"7DIGITS_CODE.TXT\",\"r\") as f, open(\"GTIN.TXT\",\"w\") as wf:\n",
    "    digits = f.readlines()\n",
    "    digits = [i.strip() for i in digits]\n",
    "    for i in digits:\n",
    "        wf.write(i+f\"{generate_digit(i)}\\n\")\n",
    "\n",
    "\n",
    "#Task 1.3\n",
    "#Data might be lost during transmittion, check digit allows us to check if all data is present\n",
    "\n",
    "#Task 1.4\n",
    "#Affordance gives clues to the user on how to input data into the web application.\n",
    "\n"
   ]
  }
 ],
 "metadata": {
  "kernelspec": {
   "display_name": "Python 3",
   "language": "python",
   "name": "python3"
  },
  "language_info": {
   "codemirror_mode": {
    "name": "ipython",
    "version": 3
   },
   "file_extension": ".py",
   "mimetype": "text/x-python",
   "name": "python",
   "nbconvert_exporter": "python",
   "pygments_lexer": "ipython3",
   "version": "3.6.4"
  }
 },
 "nbformat": 4,
 "nbformat_minor": 2
}
