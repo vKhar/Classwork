{
 "cells": [
  {
   "cell_type": "code",
   "execution_count": 33,
   "metadata": {},
   "outputs": [
    {
     "name": "stdout",
     "output_type": "stream",
     "text": [
      "[['Amelia Davis', ' Clerk', '3100', '', '', ''], ['Jessica Martinez', ' Sales Executive', '3500', '', '0.005', '120000'], ['Sophie Johnson', ' Logistics Dept Head', '6800', '1.5', '', ''], ['Emily Smith', ' Receptionist', '3200', '', '', ''], ['William Johnson', ' Receptionist', '3000', '', '', ''], ['Joshua Davis', ' Admin Officer', '3200', '', '', ''], ['Grace Brown', ' Admin Manager', '5900', '2.2', '', ''], ['Oliver Rodriguez', ' Vice President', '12000', '1.8', '', ''], ['James Martinez', ' Sales Dept Head', '6800', '', '0.007', '80000'], ['Jack Smith', ' Logistics Executive', '4500', '2.6', '', ''], ['Chloe Miller', ' Sales Executive', '3300', '', '0.005', '90000']]\n"
     ]
    },
    {
     "data": {
      "text/plain": [
       "4201.72"
      ]
     },
     "execution_count": 33,
     "metadata": {},
     "output_type": "execute_result"
    }
   ],
   "source": [
    "#Task 4.1\n",
    "class Staff:\n",
    "    def __init__(self,name,appt,base_salary):\n",
    "        self.name = name\n",
    "        self.appt = appt\n",
    "        self.base_salary = base_salary\n",
    "    def calc_annual_salary(self):\n",
    "        return self.base_salary * 12\n",
    "    def __repr__(self):\n",
    "        return (f\"{self.name}:{self.appt}:{self.base_salary*12}\")\n",
    "\n",
    "#Task 4.2\n",
    "class PermStaff(Staff):\n",
    "    def __init__(self,name,appt,base_salary,bonus_rating = 0):   \n",
    "        super().__init__(name,appt,base_salary)\n",
    "        self.bonus = 0\n",
    "        self.bonus = bonus_rating\n",
    "    def calc_annual_salary(self):\n",
    "        return self.base_salary * 12 + self.base_salary * 12 * self.bonus\n",
    "    \n",
    "class CommisionStaff(Staff):\n",
    "    def __init__(self,name,appt,base_salary,commision_rate = 0, revenue_generated = 0):\n",
    "        super().__init__(name,appt,base_salary)\n",
    "        self.commrate = commision_rate\n",
    "        self.revgen = revenue_generated\n",
    "    def calc_annual_salary(self):\n",
    "        return self.base_salary + (self.revgen*self.commrate)\n",
    "#Task 4.3\n",
    "with open(\"Staff.csv\",\"r\") as f:\n",
    "    stafflist = f.readlines()\n",
    "    stafflist = [i.strip().split(\",\") for i in stafflist]\n",
    "    stafflist = stafflist[1:]\n",
    "#Task 4.5\n",
    "\n",
    "#Task 4.6\n",
    "#Capsulation is the process of incapsuating functions and attributes into a single class\n",
    "#Inheritence is the process of creating a child and parent class where the child class has the same functions as the parent class\n",
    "#Polymorphism is the ability for one function to have different uses based on different scenarios"
   ]
  },
  {
   "cell_type": "code",
   "execution_count": null,
   "metadata": {},
   "outputs": [],
   "source": []
  },
  {
   "cell_type": "code",
   "execution_count": null,
   "metadata": {},
   "outputs": [],
   "source": []
  }
 ],
 "metadata": {
  "kernelspec": {
   "display_name": "Python 3",
   "language": "python",
   "name": "python3"
  },
  "language_info": {
   "codemirror_mode": {
    "name": "ipython",
    "version": 3
   },
   "file_extension": ".py",
   "mimetype": "text/x-python",
   "name": "python",
   "nbconvert_exporter": "python",
   "pygments_lexer": "ipython3",
   "version": "3.6.4"
  }
 },
 "nbformat": 4,
 "nbformat_minor": 2
}
