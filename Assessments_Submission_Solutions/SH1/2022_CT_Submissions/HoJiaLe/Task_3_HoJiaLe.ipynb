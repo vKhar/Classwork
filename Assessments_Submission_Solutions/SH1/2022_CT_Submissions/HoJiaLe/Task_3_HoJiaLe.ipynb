{
 "cells": [
  {
   "cell_type": "code",
   "execution_count": 2,
   "metadata": {},
   "outputs": [],
   "source": [
    "#  Task 3.1\n",
    "with open(\"NAMES.TXT\") as f:\n",
    "    players = f.readlines()\n",
    "    players = [i.strip() for i in players]\n",
    "#Task 3.2\n",
    "def whoWins(players,m):\n",
    "    winlist = players\n",
    "    while len(winlist) != 1:\n",
    "        if len(winlist) > m:\n",
    "            dead = (len(winlist) % m)\n",
    "            print(winlist,dead)\n",
    "            winlist.pop(len(winlist) % m)\n",
    "        elif len(winlist) < m:\n",
    "            dead = (len(winlist) % m)\n",
    "            if dead > len(winlist) - 1:\n",
    "                winlist.pop(dead - 1)\n",
    "            else:\n",
    "                print(winlist,dead)\n",
    "                winlist.pop(len(winlist) % m)     \n",
    "        elif len(winlist) == m:\n",
    "            winlist.pop(0)\n",
    "    return winlist\n",
    "#Task 3.3\n",
    "#White box testing is testing a programme when you already know the base code, while black box testing is testing the programme \n",
    "    "
   ]
  },
  {
   "cell_type": "markdown",
   "metadata": {},
   "source": [
    "Task 3.1   \n",
    "2/2\n",
    "\n",
    "Task 3.2\n",
    "- You do not understand the problem at all!\n",
    "- 0/6\n",
    "\n",
    "Task 3.3\n",
    "- What is base code ?\n",
    "- 1/2\n",
    "\n",
    "Task 3.4\n",
    "- 0/5\n",
    "\n",
    "### Total\n",
    "3/15"
   ]
  }
 ],
 "metadata": {
  "interpreter": {
   "hash": "f4e9cda46bb2d9d7fe6ecdff0f8336a934348bf06cb492f2f42f60739b3403b4"
  },
  "kernelspec": {
   "display_name": "Python 3.6.4 64-bit",
   "language": "python",
   "name": "python3"
  },
  "language_info": {
   "codemirror_mode": {
    "name": "ipython",
    "version": 3
   },
   "file_extension": ".py",
   "mimetype": "text/x-python",
   "name": "python",
   "nbconvert_exporter": "python",
   "pygments_lexer": "ipython3",
   "version": "3.6.4"
  }
 },
 "nbformat": 4,
 "nbformat_minor": 2
}
