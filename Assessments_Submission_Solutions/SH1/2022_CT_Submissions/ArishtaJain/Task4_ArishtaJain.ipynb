{
 "cells": [
  {
   "cell_type": "code",
   "execution_count": null,
   "metadata": {},
   "outputs": [],
   "source": [
    "Class Staff:\n",
    "    def __init__(self,name,appt,base_salary):\n",
    "        name=self.name\n",
    "        appt=self.appt\n",
    "        base_salary=self.base_salary\n",
    "    def calc_annual_salary():\n",
    "        annual_income==base_salary*12\n",
    "    def __repr__():\n",
    "        return(f{<(self.name):(self.appt):(annual_income)>})"
   ]
  },
  {
   "cell_type": "markdown",
   "metadata": {},
   "source": [
    "\n",
    "- 0/4"
   ]
  },
  {
   "cell_type": "code",
   "execution_count": null,
   "metadata": {},
   "outputs": [],
   "source": [
    "Class PermStaff(Staff):\n",
    "    def __init__(self,bonus_rating=0):\n",
    "        bonus_rating=self.bonus_rating\n",
    "    def calc_annual_salary():\n",
    "        annual_income==base_salary*12*(1+bonus_rating)\n",
    "Class CommissionStaff(Staff):\n",
    "    def __init__(self,commission_rate=0.005,revenue_generated=0):\n",
    "        commission_rate=self.commission_rate\n",
    "        revenue_generated=self.revenue_generated\n",
    "    def calc_annual_salary():\n",
    "        annual_income==(base_salary*12)+(commission_rate*revenue_generated)"
   ]
  },
  {
   "cell_type": "markdown",
   "metadata": {},
   "source": [
    "0/4"
   ]
  },
  {
   "cell_type": "markdown",
   "metadata": {},
   "source": [
    "Task 4.3\n",
    "- 0/4\n",
    "\n",
    "Task 4.5\n",
    " - 0/4\n",
    "\n",
    " Task 4.6\n",
    " - 0/6\n",
    "\n",
    " ### Total\n",
    " 0/22\n"
   ]
  },
  {
   "cell_type": "markdown",
   "metadata": {},
   "source": []
  }
 ],
 "metadata": {
  "kernelspec": {
   "display_name": "Python 3",
   "language": "python",
   "name": "python3"
  },
  "language_info": {
   "codemirror_mode": {
    "name": "ipython",
    "version": 3
   },
   "file_extension": ".py",
   "mimetype": "text/x-python",
   "name": "python",
   "nbconvert_exporter": "python",
   "pygments_lexer": "ipython3",
   "version": "3.6.4"
  }
 },
 "nbformat": 4,
 "nbformat_minor": 2
}
