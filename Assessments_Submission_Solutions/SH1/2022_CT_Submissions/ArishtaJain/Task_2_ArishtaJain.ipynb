{
 "cells": [
  {
   "cell_type": "code",
   "execution_count": 4,
   "metadata": {},
   "outputs": [
    {
     "name": "stdout",
     "output_type": "stream",
     "text": [
      "512 256 128 64 32 16 8 4 2 1 "
     ]
    }
   ],
   "source": [
    "def re_sum(a,r,m):\n",
    "    x=0\n",
    "    ratio = int(r/a)\n",
    "    res = a*(ratio**m)\n",
    "    if res == a:\n",
    "        return \n",
    "    else:\n",
    "        res = int(res/ratio)\n",
    "        print (res, end=' ')\n",
    "        return re_sum(a,r,m-1)\n",
    "      \n",
    "re_sum(1,2,10)"
   ]
  },
  {
   "cell_type": "markdown",
   "metadata": {},
   "source": [
    "- base case return None ?\n",
    "- incorrect recusive case\n",
    "- incorrect calculation of term\n",
    "- did not do sum\n",
    "- 0/6"
   ]
  },
  {
   "cell_type": "markdown",
   "metadata": {},
   "source": [
    "2.2\n",
    "- 0/4\n",
    "\n",
    "2.3\n",
    "- 0/6\n",
    "\n",
    "### Total\n",
    "- 0/12"
   ]
  },
  {
   "cell_type": "markdown",
   "metadata": {},
   "source": []
  }
 ],
 "metadata": {
  "interpreter": {
   "hash": "f4e9cda46bb2d9d7fe6ecdff0f8336a934348bf06cb492f2f42f60739b3403b4"
  },
  "kernelspec": {
   "display_name": "Python 3.6.4 64-bit",
   "language": "python",
   "name": "python3"
  },
  "language_info": {
   "codemirror_mode": {
    "name": "ipython",
    "version": 3
   },
   "file_extension": ".py",
   "mimetype": "text/x-python",
   "name": "python",
   "nbconvert_exporter": "python",
   "pygments_lexer": "ipython3",
   "version": "3.6.4"
  }
 },
 "nbformat": 4,
 "nbformat_minor": 2
}
