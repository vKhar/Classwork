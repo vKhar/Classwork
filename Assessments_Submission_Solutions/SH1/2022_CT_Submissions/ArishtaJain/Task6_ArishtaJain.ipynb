{
 "cells": [
  {
   "cell_type": "code",
   "execution_count": 15,
   "metadata": {},
   "outputs": [
    {
     "name": "stdout",
     "output_type": "stream",
     "text": [
      "[1, 1, 0, 0, 5]\n"
     ]
    }
   ],
   "source": [
    "import random\n",
    "def randomise2lists(A):\n",
    "    size_a = len(A)\n",
    "    random_list = []\n",
    "    random_index_A = []\n",
    "    for i in range(size_a):\n",
    "        random_index_A.append( random.randint(0,size_a))\n",
    "    \n",
    "    \n",
    "    print (random_index_A)\n",
    "\n",
    "\n",
    "A=[1234,4,355,6,7]\n",
    "randomise2lists(A)"
   ]
  },
  {
   "cell_type": "markdown",
   "metadata": {},
   "source": [
    "### Total\n",
    "0/16"
   ]
  }
 ],
 "metadata": {
  "interpreter": {
   "hash": "f4e9cda46bb2d9d7fe6ecdff0f8336a934348bf06cb492f2f42f60739b3403b4"
  },
  "kernelspec": {
   "display_name": "Python 3.6.4 64-bit",
   "language": "python",
   "name": "python3"
  },
  "language_info": {
   "codemirror_mode": {
    "name": "ipython",
    "version": 3
   },
   "file_extension": ".py",
   "mimetype": "text/x-python",
   "name": "python",
   "nbconvert_exporter": "python",
   "pygments_lexer": "ipython3",
   "version": "3.6.4"
  }
 },
 "nbformat": 4,
 "nbformat_minor": 2
}
