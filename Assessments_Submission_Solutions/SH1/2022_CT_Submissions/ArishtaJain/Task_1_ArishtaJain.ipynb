{
 "cells": [
  {
   "cell_type": "code",
   "execution_count": null,
   "metadata": {},
   "outputs": [],
   "source": [
    "#Task 1.1\n",
    "def generate_digit(n):\n",
    "    sum=0\n",
    "    for i in n:\n",
    "        if (n.index(i)+1)%2==0:\n",
    "            sum=sum+int(i)\n",
    "        else:\n",
    "            sum=sum+int(i)+int(i)+int(i)\n",
    "    a=10-sum%10\n",
    "    print(a)\n",
    "\n",
    "generate_digit('2814307')"
   ]
  },
  {
   "cell_type": "markdown",
   "metadata": {},
   "source": [
    "- line 5 using index to get the position will not work if there are duplicate digits in n\n",
    "- if sum%10 is 0 , checkdigit will be 10\n",
    "- 3/5"
   ]
  },
  {
   "cell_type": "code",
   "execution_count": null,
   "metadata": {},
   "outputs": [],
   "source": [
    "#Task 1.3\n",
    "A check didgit can help eliminate a lot of invalid data easily without checking our database and simply removing them with an algorithm thus saving us loads of time and computational power."
   ]
  },
  {
   "cell_type": "markdown",
   "metadata": {},
   "source": [
    "1/1"
   ]
  },
  {
   "cell_type": "markdown",
   "metadata": {},
   "source": [
    "Task 1.2\n",
    "- 0/4\n",
    "\n",
    "Task 1.4\n",
    "- 0/4\n",
    "\n",
    "### Total\n",
    "4/14"
   ]
  }
 ],
 "metadata": {
  "kernelspec": {
   "display_name": "Python 3",
   "language": "python",
   "name": "python3"
  },
  "language_info": {
   "codemirror_mode": {
    "name": "ipython",
    "version": 3
   },
   "file_extension": ".py",
   "mimetype": "text/x-python",
   "name": "python",
   "nbconvert_exporter": "python",
   "pygments_lexer": "ipython3",
   "version": "3.6.4"
  }
 },
 "nbformat": 4,
 "nbformat_minor": 2
}
