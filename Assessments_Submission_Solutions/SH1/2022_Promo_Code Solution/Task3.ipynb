{
 "cells": [
  {
   "cell_type": "code",
   "execution_count": 8,
   "metadata": {},
   "outputs": [],
   "source": [
    "### Task 3.1\n",
    "import string\n",
    "def hex_dec(hex_str):\n",
    "    map = string.digits+string.ascii_lowercase[:6] #[1]\n",
    "    ret = 0\n",
    "    for i in range(len(hex_str)): #[1]\n",
    "        digit_value = map.index(hex_str[i].lower())\n",
    "        place_value = len(hex_str)-1-i #[1]\n",
    "        ret += digit_value * ( 16 ** place_value) #[1]\n",
    "    return ret #[1]\n"
   ]
  },
  {
   "cell_type": "code",
   "execution_count": 4,
   "metadata": {},
   "outputs": [],
   "source": [
    "## Task 3.2\n",
    "import csv\n",
    "f = open(\"HEX_SCORES.TXT\",\"r\")\n",
    "reader = csv.reader(f)\n",
    "competitors = []\n",
    "for row in reader: #[1]\n",
    "    player_scores = 0\n",
    "    for score in row[2:]: #[1]\n",
    "        player_scores += hex_dec(score)\n",
    "    competitors.append( (row[0],row[1],player_scores))#[1]"
   ]
  },
  {
   "cell_type": "code",
   "execution_count": 5,
   "metadata": {},
   "outputs": [
    {
     "name": "stdout",
     "output_type": "stream",
     "text": [
      " Rank     ID    Score \n",
      "  1   Player175  1734 \n",
      "  2   Player299  1724 \n",
      "  3   Player173  1723 \n",
      "  4   Player168  1678 \n",
      "  5   Player166  1670 \n",
      "  6   Player213  1609 \n",
      "  7   Player193  1558 \n",
      "  8   Player305  1535 \n",
      "  9   Player189  1519 \n",
      "  10  Player102  1499 \n",
      "  11  Player170  1475 \n",
      "  12  Player231  1466 \n",
      "  13  Player233  1454 \n",
      "  14  Player232  1431 \n",
      "  15  Player285  1426 \n",
      "  16  Player287  1400 \n",
      "  17  Player136  1394 \n",
      "  18  Player157  1375 \n",
      "  19  Player113  1362 \n",
      "  20  Player245  1270 \n"
     ]
    }
   ],
   "source": [
    "## Bubble sort competitors by players-score in desc and print List\n",
    "for i in range(len(competitors)-1): #[1]\n",
    "    for j in range(len(competitors)-1-i): #[1]\n",
    "        if competitors[j][2] < competitors[j+1][2]: #[1]\n",
    "            competitors[j], competitors[j+1] = competitors[j+1], competitors[j]\n",
    "print(f\"{'Rank':^6}{'ID':^10}{'Score':^6}\")\n",
    "for i,player in enumerate(competitors,1):\n",
    "    print(f\"{i:^6}{player[0]:^10}{player[2]:^6}\")"
   ]
  },
  {
   "cell_type": "code",
   "execution_count": 6,
   "metadata": {},
   "outputs": [
    {
     "name": "stdout",
     "output_type": "stream",
     "text": [
      "Country Num.Players Score \n",
      "  KOR        2       1509 \n",
      "  IND        4       1539 \n",
      "  MAS        3       1438 \n",
      "  SIN        5       1594 \n",
      "  TPE        3       1506 \n",
      "  MAC        3       1440 \n"
     ]
    }
   ],
   "source": [
    "## Task 3.3\n",
    "import csv\n",
    "f = open(\"HEX_SCORES.TXT\",\"r\")\n",
    "reader = csv.reader(f)\n",
    "countries = {} #[1]\n",
    "for row in reader:\n",
    "    player_scores = 0\n",
    "    for score in row[2:]:\n",
    "        player_scores += hex_dec(score)\n",
    "    if row[1] in countries: #[1]\n",
    "        countries[row[1]][0]+=1#[1]\n",
    "        countries[row[1]][1]+= player_scores#[1]\n",
    "    else:\n",
    "        countries[row[1]] = [1, player_scores] #[1]\n",
    "\n",
    "## Print countries\n",
    "print(f\"{'Country':^8}{'Num.Players':^12}{'Score':^6}\")\n",
    "for c in countries:\n",
    "    print( f\"{c:^8}{countries[c][0]:^12}{countries[c][1]//countries[c][0]:^6}\")\n"
   ]
  }
 ],
 "metadata": {
  "kernelspec": {
   "display_name": "Python 3.6.4 64-bit",
   "language": "python",
   "name": "python3"
  },
  "language_info": {
   "codemirror_mode": {
    "name": "ipython",
    "version": 3
   },
   "file_extension": ".py",
   "mimetype": "text/x-python",
   "name": "python",
   "nbconvert_exporter": "python",
   "pygments_lexer": "ipython3",
   "version": "3.6.4"
  },
  "orig_nbformat": 4,
  "vscode": {
   "interpreter": {
    "hash": "f4e9cda46bb2d9d7fe6ecdff0f8336a934348bf06cb492f2f42f60739b3403b4"
   }
  }
 },
 "nbformat": 4,
 "nbformat_minor": 2
}
