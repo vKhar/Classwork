{
 "cells": [
  {
   "cell_type": "code",
   "execution_count": null,
   "metadata": {},
   "outputs": [],
   "source": [
    "#Task 4.2\n",
    "import sqlite3\n",
    "def open_DB(db):\n",
    "    connection = sqlite3.connect(db)\n",
    "    connection.row_factory = sqlite3.Row\n",
    "    return connection\n",
    "\n",
    "with open(\"COUNTRY.TXT\") as f: #with open automatically closes the file after the code below is executed\n",
    "    try:\n",
    "        con = open_DB(\"Task4.db\")\n",
    "        con.execute(\"DELETE FROM Country\")\n",
    "        for line in f:\n",
    "            temp = line.strip().split(',')\n",
    "            con.execute(\"INSERT INTO Country(CountryCode,CountryName) VALUES(?,?)\",(temp[1],temp[0]))\n",
    "        con.commit()\n",
    "    finally:\n",
    "        con.close()"
   ]
  },
  {
   "cell_type": "markdown",
   "metadata": {},
   "source": [
    "### The code below should be implemnted in a .py\n",
    "### This is for reference only"
   ]
  },
  {
   "cell_type": "code",
   "execution_count": null,
   "metadata": {},
   "outputs": [],
   "source": [
    "import sqlite3\n",
    "from flask import *\n",
    "\n",
    "def open_DB(db):\n",
    "    connection = sqlite3.connect(db)\n",
    "    connection.row_factory = sqlite3.Row\n",
    "    return connection\n",
    "app = Flask(__name__)\n",
    "\n",
    "@app.route(\"/\",methods=[\"GET\"])\n",
    "def root():\n",
    "    try:\n",
    "        con = open_DB(\"Task4.db\")\n",
    "        cur = con.execute(\"SELECT * FROM Player\")\n",
    "        rows = cur.fetchall()\n",
    "    except:\n",
    "        print(\"ERROR\")\n",
    "    finally:\n",
    "        con.close()\n",
    "    return render_template(\"home.html\",data=rows) ##[2] contains the form\n",
    "\n",
    "@app.route(\"/submit\",methods=[\"POST\"])\n",
    "def submit():\n",
    "    try:\n",
    "        con = open_DB(\"Task4.db\") \n",
    "        con.execute(\"INSERT INTO Player(Name,CountryCode,Gender,DateOfBirth) VALUES(?,?,?,?)\",(request.form[\"name\"],request.form[\"code\"],request.form[\"gender\"],request.form[\"date\"]))\n",
    "        #[1]\n",
    "        con.commit()\n",
    "    except Exception as e:# Runtime error [1]\n",
    "        print(str(e))\n",
    "    finally:\n",
    "        con.close() #[1] open and close\n",
    "    return redirect(\"/\") #[1]\n",
    "app.run()"
   ]
  }
 ],
 "metadata": {
  "kernelspec": {
   "display_name": "Python 3.6.4 64-bit",
   "language": "python",
   "name": "python3"
  },
  "language_info": {
   "codemirror_mode": {
    "name": "ipython",
    "version": 3
   },
   "file_extension": ".py",
   "mimetype": "text/x-python",
   "name": "python",
   "nbconvert_exporter": "python",
   "pygments_lexer": "ipython3",
   "version": "3.6.4"
  },
  "vscode": {
   "interpreter": {
    "hash": "f4e9cda46bb2d9d7fe6ecdff0f8336a934348bf06cb492f2f42f60739b3403b4"
   }
  }
 },
 "nbformat": 4,
 "nbformat_minor": 2
}
