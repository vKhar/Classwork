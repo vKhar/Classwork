{
 "cells": [
  {
   "cell_type": "markdown",
   "metadata": {},
   "source": [
    "Iterative version"
   ]
  },
  {
   "cell_type": "markdown",
   "metadata": {},
   "source": [
    "```\n",
    "FUNCTION Throw2Score(throw: STRING) RETURNS INTEGER\n",
    "    IF throw = \"X\" THEN\n",
    "        RETURN 10\n",
    "    ELSE:\n",
    "        RETURN INTEGER(throw) // Convert to integer\n",
    "    ENDIF\n",
    "ENDFUNCTION\n",
    "\n",
    "FUNCTION Calc_Score(throws: STRING) RETURNS INTEGER\n",
    "// Assume that the input string is valid\n",
    "    total_score <- 0\n",
    "    FOR frame = 1 TO 10 DO\n",
    "        IF throws[1] = \"X\" THEN // first character of STRING starts at index 1\n",
    "            frame_score <- SUM(10,Throw2Score(),Throw2Score())\n",
    "            throws <- SUB_STR(throws, 2, LEN(throws)) \n",
    "            // creates a sub string  by removing the first character\n",
    "        ELSE\n",
    "            frame_score <- SUM(Throw2Score(throws[1]), Throw2Score(throws[2]) )\n",
    "            IF frame_score = 10 THEN\n",
    "                frame_score <- frame_score + Throw2Score(throws[3])\n",
    "            ENDIF\n",
    "            throws <- SUB_STR(throws, 3, LEN(throws))   \n",
    "            // creates a sub string  by removing the first two characters   \n",
    "        ENDIF\n",
    "        total_score <- total_score + frame_score\n",
    "    ENDFOR\n",
    "    RETURN total_score\n",
    "ENDFUNCTION\n",
    "```"
   ]
  },
  {
   "cell_type": "code",
   "execution_count": 1,
   "metadata": {},
   "outputs": [],
   "source": [
    "## 2.1\n",
    "def calc_score(throws):\n",
    "\n",
    "    def throw2score(throw:str)->int:\n",
    "        if throw == \"X\":\n",
    "            return 10\n",
    "        else:\n",
    "            return int(throw)\n",
    "    total_score = 0\n",
    "    for _ in range(10):\n",
    "        if throws[0] == \"X\":\n",
    "            frame_score = 10 + throw2score(throws[1]) + throw2score(throws[2])\n",
    "            # 1m\n",
    "            throws=throws[1:] #1m\n",
    "        else:\n",
    "            frame_score = throw2score(throws[0]) + throw2score(throws[1])\n",
    "            #1m\n",
    "            if frame_score == 10:\n",
    "                frame_score += throw2score(throws[2]) #1m\n",
    "            throws=throws[2:] #1m\n",
    "        total_score += frame_score\n",
    "    return total_score"
   ]
  },
  {
   "cell_type": "code",
   "execution_count": 2,
   "metadata": {},
   "outputs": [
    {
     "name": "stdout",
     "output_type": "stream",
     "text": [
      "168 97 193\n"
     ]
    }
   ],
   "source": [
    "print(\n",
    "calc_score(\"X737291XXX2364733\"),\n",
    "calc_score(\"0580X05X6405819150\"),\n",
    "calc_score(\"XXXX91X002282XXX\")\n",
    ")"
   ]
  },
  {
   "cell_type": "code",
   "execution_count": 3,
   "metadata": {},
   "outputs": [],
   "source": [
    "#2.2\n",
    "def calc_score2(throws, player_name):\n",
    "    def throw2score(throw:str)->int:\n",
    "        if throw == \"X\":\n",
    "            return 10\n",
    "        else:\n",
    "            return int(throw)\n",
    "    try:\n",
    "        f = open(f\"SCORE_{player_name}.txt\", \"w\")\n",
    "        ##[1] for initialising variables to store pins hits, frame score and cum. score\n",
    "        frames = []\n",
    "        frame_scores = []\n",
    "        cumulative_scores= [] \n",
    "        total_score = 0\n",
    "        \n",
    "        ## frame output\n",
    "        ## frame 1 to 9 outputs for strike, non-strike\n",
    "        ## frame 10 output for strike/spare, non-strike\n",
    "        ## [4]\n",
    "        for f_no in range(10):\n",
    "            if throws[0] == \"X\":\n",
    "                frame_score = 10 + throw2score(throws[1]) + throw2score(throws[2])\n",
    "                if f_no == 9: \n",
    "                    ## last frame for strike\n",
    "                    frames.append(f\"[{throws[0]}|{throws[1]}|{throws[2]}]\")\n",
    "                else:\n",
    "                    frames.append(f\"[{throws[0]:^3}]\") \n",
    "                    ##frame 1 to 9 for strike\n",
    "                throws=throws[1:] \n",
    "            else:\n",
    "                frame_score = throw2score(throws[0]) + throw2score(throws[1])\n",
    "                if frame_score == 10:\n",
    "                    frame_score += throw2score(throws[2])\n",
    "                    if f_no == 9:\n",
    "                        frames.append(f\"[{throws[0]}|{throws[1]}|{throws[2]}]\")\n",
    "                        ##spare for last frame \n",
    "                    else:\n",
    "                        frames.append(f\"[{throws[0]}|{throws[1]}]\")\n",
    "                        ##spare for frame 1-9\n",
    "                else:\n",
    "                    frames.append(f\"[{throws[0]}|{throws[1]}]\") \n",
    "                    ## not spare not strike\n",
    "                \n",
    "                throws=throws[2:]\n",
    "        ## [1] frame_score, cumulative_score output        \n",
    "            frame_scores.append(f\"{frame_score:^5}\")\n",
    "            total_score += frame_score\n",
    "            cumulative_scores.append(f\"{total_score:^5}\")\n",
    "        \n",
    "        ## [4] file output\n",
    "        f.write(f\"{player_name} Scoresheet\\n\")\n",
    "        f.write(f\"{'Frame':<12}\"+\"\".join([ f\"{f:^5}\"for f in  range(1,11)])+\"\\n\" )\n",
    "        f.write(f\"{'Pins hit':<12}\"+\"\".join(frames)+\"\\n\")\n",
    "        f.write(f\"{'FrameScore':<12}\" + \"\".join(frame_scores) +\"\\n\")\n",
    "        f.write(f\"{'Cum. Score':<12}\"+\"\".join(cumulative_scores)+\"\\n\") ##1m\n",
    "    finally:\n",
    "        f.close()\n",
    "    return total_score"
   ]
  },
  {
   "cell_type": "code",
   "execution_count": 4,
   "metadata": {},
   "outputs": [
    {
     "data": {
      "text/plain": [
       "193"
      ]
     },
     "execution_count": 4,
     "metadata": {},
     "output_type": "execute_result"
    }
   ],
   "source": [
    "calc_score2(\"X737291XXX2364733\",\"Player 1\")\n",
    "calc_score2(\"0580X05X6405819150\",\"Player 2\")\n",
    "calc_score2(\"XXXX91X002282XXX\",\"Player 3\")"
   ]
  },
  {
   "cell_type": "code",
   "execution_count": 6,
   "metadata": {},
   "outputs": [],
   "source": [
    "def validate(throws, frame=1):\n",
    "    if not throws: ## [1] Base case 1: not enough values to compute 10 frames\n",
    "        print(f\"Frame {frame} is invalid\")\n",
    "        return False\n",
    "    if frame == 10: ## [1] Base case 2: check frame 10\n",
    "        if throws[0] == \"X\": ## [1] A Strike needs 2 more throws\n",
    "            if len(throws) == 3:\n",
    "                return True\n",
    "            else:\n",
    "                return False\n",
    "        elif len(throws) == 3 and sum( [int(throws[0]), int(throws[1])]) == 10:\n",
    "            return True ## [1] A spare needs 1 more throw\n",
    "        elif len(throws) == 2 and sum( [int(throws[0]), int(throws[1])]) < 10:\n",
    "            return True ## [1] if not strike or spare frame should have only 2 throws\n",
    "        else:\n",
    "            print(\"Frame 10 is invalid\")\n",
    "            return False ## [1]\n",
    "    else: ## Recusrive case \n",
    "        if throws[0] == \"X\":\n",
    "            return validate(throws[1:], frame+1) #[1]\n",
    "        else:\n",
    "            if throws[:2].isdigit() and ( int(throws[0]) + int(throws[1]) <= 10):\n",
    "                return validate(throws[2:], frame+1) #[2]\n",
    "            else:\n",
    "                print(f\"Frame {frame} is invalid\")\n",
    "                return False\n"
   ]
  },
  {
   "cell_type": "code",
   "execution_count": 7,
   "metadata": {},
   "outputs": [
    {
     "name": "stdout",
     "output_type": "stream",
     "text": [
      "Frame 10 is invalid\n",
      "Frame 6 is invalid\n",
      "True True False False\n"
     ]
    }
   ],
   "source": [
    "print(\n",
    "validate(\"XXXX91X00228291X\"),\n",
    "validate(\"XXXX91X00228290\"),\n",
    "validate(\"XXXX91X00228291\"),\n",
    "validate(\"XXXX91\")  \n",
    ")\n",
    "\n",
    "\n"
   ]
  },
  {
   "cell_type": "code",
   "execution_count": 8,
   "metadata": {},
   "outputs": [
    {
     "name": "stdout",
     "output_type": "stream",
     "text": [
      "Frame 2 is invalid\n",
      "False False True False\n"
     ]
    }
   ],
   "source": [
    "print(\n",
    "    \tvalidate(\"XX90XXX90XXX8\"),\n",
    "        validate(\"XX90XXX90XXX\") ,\n",
    "        validate(\"XX90XXX90XXX80\"),\n",
    "        validate(\"Xz90XXX90XXX80\") \n",
    ")"
   ]
  },
  {
   "cell_type": "code",
   "execution_count": null,
   "metadata": {},
   "outputs": [],
   "source": [
    "print(validate(\"X737291XXX2364733\"))\n",
    "print(validate(\"X737291XXX2364737\"))\n",
    "print(validate(9))"
   ]
  },
  {
   "cell_type": "code",
   "execution_count": 9,
   "metadata": {},
   "outputs": [
    {
     "name": "stdout",
     "output_type": "stream",
     "text": [
      "True\n"
     ]
    },
    {
     "data": {
      "text/plain": [
       "182"
      ]
     },
     "execution_count": 9,
     "metadata": {},
     "output_type": "execute_result"
    }
   ],
   "source": [
    "print(validate(\"XXXX91X00228291X\"))\n",
    "calc_score2(\"XXXX91X00228291X\",\"Anon\")"
   ]
  }
 ],
 "metadata": {
  "kernelspec": {
   "display_name": "Python 3.6.4 64-bit",
   "language": "python",
   "name": "python3"
  },
  "language_info": {
   "codemirror_mode": {
    "name": "ipython",
    "version": 3
   },
   "file_extension": ".py",
   "mimetype": "text/x-python",
   "name": "python",
   "nbconvert_exporter": "python",
   "pygments_lexer": "ipython3",
   "version": "3.6.4"
  },
  "orig_nbformat": 2,
  "vscode": {
   "interpreter": {
    "hash": "f4e9cda46bb2d9d7fe6ecdff0f8336a934348bf06cb492f2f42f60739b3403b4"
   }
  }
 },
 "nbformat": 4,
 "nbformat_minor": 2
}
