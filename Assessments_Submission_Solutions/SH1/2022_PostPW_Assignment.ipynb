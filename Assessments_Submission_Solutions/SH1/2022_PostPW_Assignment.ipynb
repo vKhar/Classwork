{
 "cells": [
  {
   "cell_type": "markdown",
   "metadata": {},
   "source": [
    "#### Sample Solution for Question 2"
   ]
  },
  {
   "cell_type": "code",
   "execution_count": 22,
   "metadata": {},
   "outputs": [],
   "source": [
    "## From 2022 SH1 promo exam Task 1\n",
    "class Matrix:\n",
    "    def __init__(self,m,n):\n",
    "        self.__buffer = [[ None for n in range(n)] for _ in range(m)]\n",
    "        self.__m = m\n",
    "        self.__n = n\n",
    "\n",
    "    def get_dimension(self):\n",
    "        return (self.__m, self.__n)\n",
    "        \n",
    "    def init(self, value):\n",
    "        for r in range(self.__m):\n",
    "            for c in range(self.__n):\n",
    "                self.__buffer[r][c] = value\n",
    "\n",
    "    def __repr__(self):\n",
    "        ret=\"[\"\n",
    "        for r in range(self.__m):\n",
    "            ret+=\"\\n \"\n",
    "            for c in range(self.__n):\n",
    "                ret+=f\"{str(self.__buffer[r][c]):^4} \"\n",
    "        return ret +\"\\n]\"\n",
    "\n",
    "    def get_value(self, r, c):\n",
    "        if (0 < r <= self.__m) and (0 < c <= self.__n):  \n",
    "            return self.__buffer[r-1][c-1]\n",
    "        else:\n",
    "            raise Exception(\"row,column error\")\n",
    "\n",
    "    def set_value(self, r,c,value):\n",
    "        self.__buffer[r-1][c-1] = value\n",
    "\n",
    "    def get_row(self, r):\n",
    "        if 0 < r <= self.__m :\n",
    "            return self.__buffer[r-1][:] ## return a copy not a ref\n",
    "        else:\n",
    "            raise Exception(\"row error\")\n",
    "\n",
    "    def set_row(self, r, vector): \n",
    "        if len(vector) == self.__n and 0 < r <= self.__m :\n",
    "            self.__buffer[r-1] = vector[:] ##  update with a copy of vector\n",
    "        else:\n",
    "            raise (Exception(\"Vector or row number length does not match matrix dimension\"))\n",
    "\n",
    "    def get_column(self, c):\n",
    "        if 0 < c <= self.__n:\n",
    "            ret = []\n",
    "            for r in range(self.__m):\n",
    "                ret.append(self.__buffer[r][c-1])\n",
    "            return ret\n",
    "        else:\n",
    "            raise(Exception(\"column error\"))       \n",
    "\n",
    "    def set_column(self, c, vector): \n",
    "        if len(vector) == self.__m and 0 < c <= self.__n:\n",
    "            for r in range(self.__m):\n",
    "                self.__buffer[r][c-1] = vector[r]\n",
    "        else:\n",
    "            raise (Exception(\"Vector length or column number does not match matrix dimension\"))\n"
   ]
  },
  {
   "cell_type": "code",
   "execution_count": 28,
   "metadata": {},
   "outputs": [],
   "source": [
    "class SparseMatrix:\n",
    "    def __init__(self, row=0, col=0, M=None):\n",
    "        self.buffer = {}\n",
    "        \n",
    "        if M:\n",
    "            self.row_count, self.col_count = M.get_dimension()\n",
    "            for r in range(1, self.row_count+1):\n",
    "                for c in range(1, self.col_count+1):\n",
    "                    if M.get_value(r,c) != 0:\n",
    "                        self.buffer[(r,c)] = M.get_value(r,c)\n",
    "        else:\n",
    "            self.row_count = row\n",
    "            self.col_count = col\n",
    "\n",
    "    def get_dimension(self):\n",
    "        return (self.row_count, self.col_count)\n",
    "\n",
    "    def __repr__(self):\n",
    "        ret=\"[\"\n",
    "        r = 0\n",
    "        for k in sorted(self.buffer.keys()):\n",
    "            if k[0] != r: ## print a new row\n",
    "                r = k[0]\n",
    "                ret+=\"\\n\"\n",
    "            ret+=f\"({k[0]},{k[1]}:{self.buffer[k]})\"\n",
    "        return ret +\"\\n]\"\n",
    "        \n",
    "    def get_value(self, r, c):\n",
    "        value = self.buffer.get((r,c))\n",
    "        return value if value else 0\n",
    "    def set_value(self, r,c,value):\n",
    "        self.buffer[(r,c)] = value\n",
    "\n",
    "    def get_row(self, r):\n",
    "        ret = []\n",
    "        for col in range(1, self.col_count+1):\n",
    "            val = self.buffer.get((r,col))\n",
    "            ret.append(val if val else 0 )\n",
    "        return ret\n",
    "        \n",
    "    def set_row(self, r, vector): \n",
    "        if len(vector) != self.col_count:\n",
    "            print(\"Invalid row size\")\n",
    "            return\n",
    "        for col in range(len(vector)):\n",
    "            if vector[col] != 0:\n",
    "                self.buffer[(r,col+1)] = vector[col]\n",
    "\n",
    "    def get_column(self, c):\n",
    "        ret = []\n",
    "        for row in range(1, self.row_count+1):\n",
    "            val = self.buffer.get((row,c))\n",
    "            ret.append(val if val else 0 )\n",
    "        return ret\n",
    "\n",
    "    def set_column(self, c, vector): \n",
    "        if len(vector) != self.row_count:\n",
    "            print(\"Invalid row size\")\n",
    "            return\n",
    "        for row in range(len(vector)):\n",
    "            if vector[row] != 0:\n",
    "                self.buffer[(row+1,c)] = vector[row]\n",
    "    \n",
    "    def expand(self):\n",
    "        ret=Matrix(self.row_count, self.col_count)\n",
    "        ret.init(0)\n",
    "        for key in self.buffer:\n",
    "            ret.set_value( key[0], key[1],self.buffer[key])\n",
    "        return ret\n",
    "\n",
    "    def transpose(self):\n",
    "        ret= SparseMatrix(self.col_count, self.row_count)\n",
    "        for key in self.buffer:\n",
    "            ret.set_value(key[1], key[0], self.buffer[key])\n",
    "        return ret\n"
   ]
  },
  {
   "cell_type": "code",
   "execution_count": 31,
   "metadata": {},
   "outputs": [
    {
     "name": "stdout",
     "output_type": "stream",
     "text": [
      "[\n",
      "  99   0    88   0   \n",
      "  0    0    0    0   \n",
      "  0    0    0    0   \n",
      "  0    0    3    0   \n",
      "  0    0    0    0   \n",
      "]\n",
      "[\n",
      "(1,1:99)(1,3:88)\n",
      "(4,3:3)\n",
      "]\n"
     ]
    }
   ],
   "source": [
    "M = Matrix(5,4)\n",
    "M.init(0)\n",
    "M.set_value(1,1,99)\n",
    "M.set_value(1,3,88)\n",
    "M.set_value(4,3, 3)\n",
    "print(M)\n",
    "SM = SparseMatrix( *M.get_dimension(),M )\n",
    "print(SM)\n"
   ]
  },
  {
   "cell_type": "markdown",
   "metadata": {},
   "source": [
    "#### Sample solution for Question 3"
   ]
  },
  {
   "cell_type": "code",
   "execution_count": 19,
   "metadata": {},
   "outputs": [],
   "source": [
    "def m_merge(*L):\n",
    "    M = [ l for l in L ] ## List of sorted lists\n",
    "    ret=[]\n",
    "    while any (M): ## continue while there is still a non-empty list\n",
    "        val, i  = min([ (l[0],i) for i, l  in enumerate(M) if len(l) ])\n",
    "        ## get the smallest 1st element among all the list , a tuple is is used to include the index to that list\n",
    "        ret.append(val)\n",
    "        M[i].pop(0)\n",
    "    return ret"
   ]
  },
  {
   "cell_type": "code",
   "execution_count": 20,
   "metadata": {},
   "outputs": [],
   "source": [
    "def merge_sort(L):\n",
    "    ## convert each element in L into a list\n",
    "    L = [ [e] for e in L]\n",
    "    return m_merge(*L)"
   ]
  },
  {
   "cell_type": "code",
   "execution_count": 21,
   "metadata": {},
   "outputs": [
    {
     "name": "stdout",
     "output_type": "stream",
     "text": [
      "[54, 61, 77, 67, 11, 6, 31, 72, 98, 45]\n",
      "[6, 11, 31, 45, 54, 61, 67, 72, 77, 98]\n"
     ]
    }
   ],
   "source": [
    "import random\n",
    "L = [random.randint(0,99) for _ in range(10)]\n",
    "print(L)\n",
    "print( merge_sort(L))"
   ]
  }
 ],
 "metadata": {
  "kernelspec": {
   "display_name": "Python 3.10.8 64-bit",
   "language": "python",
   "name": "python3"
  },
  "language_info": {
   "codemirror_mode": {
    "name": "ipython",
    "version": 3
   },
   "file_extension": ".py",
   "mimetype": "text/x-python",
   "name": "python",
   "nbconvert_exporter": "python",
   "pygments_lexer": "ipython3",
   "version": "3.10.8"
  },
  "orig_nbformat": 4,
  "vscode": {
   "interpreter": {
    "hash": "b149ba615515c9ec6719835bf72ba4a036d1526aa57fa533d4f86333c39ad666"
   }
  }
 },
 "nbformat": 4,
 "nbformat_minor": 2
}
