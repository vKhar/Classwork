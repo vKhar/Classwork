{
 "cells": [
  {
   "cell_type": "code",
   "execution_count": null,
   "metadata": {},
   "outputs": [],
   "source": [
    "## 4.1\n",
    "from flask import Flask, render_template, request\n",
    "import sqlite3, csv\n",
    "\n",
    "app = Flask(__name__)\n",
    "cache=\"\"\n",
    "\n",
    "@app.route('/', methods=['GET','POST'])\n",
    "def index():\n",
    "    global cache\n",
    "\n",
    "## connect to DB\n",
    "    con = sqlite3.connect('TASK4.db')\n",
    "## retrieve all records from Event\n",
    "   \n",
    "\n",
    "    records = list( con.execute('''\n",
    "            SELECT * FROM event\n",
    "            \n",
    "            '''))\n",
    "    con.close()\n",
    "    cache = render_template('index.html', rows=records)\n",
    "    return cache\n",
    "\n",
    "@app.route('/select/<id>', methods=['GET','POST'])\n",
    "def select(id):\n",
    "    con = sqlite3.connect('TASK4.db')\n",
    "    con.row_factory = sqlite3.Row\n",
    "    records = list( con.execute('''\n",
    "            SELECT Event.name, TimeTable.Date,TimeTable.Time,TimeTable.Venue\n",
    "            FROM TimeTable INNER JOIN\n",
    "            Event ON TimeTable.event_id = Event.id\n",
    "            WHERE TimeTable.event_id = ?\n",
    "            \n",
    "            ''',(id,)))\n",
    "    con.close()\n",
    "    return cache + render_template(\"dates.html\", name=records[0][\"name\"],rows=records)\n",
    "\n",
    "app.run()"
   ]
  },
  {
   "cell_type": "markdown",
   "metadata": {},
   "source": [
    "- use css [1]\n",
    "- landing page html [1]\n",
    "- user input for selecting event details, can be a form or url [1]\n",
    "- result page html in table form [1]\n",
    "- db open/close [1]\n",
    "- landing page view function [1]\n",
    "- SQL select all events [1]\n",
    "- result page view function [1]\n",
    "- retrieve selected event as input or form data [1]\n",
    "- SQL select dates for event [1]"
   ]
  },
  {
   "cell_type": "code",
   "execution_count": null,
   "metadata": {},
   "outputs": [],
   "source": [
    "# 4.2\n",
    "import sqlite3, csv\n",
    "con = sqlite3.connect(\"TASK4.db\")\n",
    "con.row_factory = sqlite3.Row\n",
    "\n",
    "rows = csv.reader(open(\"ADDITIONS.CSV\")) #[1]\n",
    "for row in rows: #[1]\n",
    "    cursor = con.execute('''  \n",
    "        SELECT id FROM Event WHERE\n",
    "        Event.name = ? AND artist = ?\n",
    "        ''', (row[0],row[1])) #[1] get the PK for event\n",
    "    id = cursor.fetchone()[0] #[1]\n",
    "    status = con.execute(''' \n",
    "        INSERT INTO TimeTable(event_id, Date, Time, Venue)\n",
    "        VALUES (?,?,?,?)\n",
    "        ''', (id, row[2],row[3],row[4])) #[1]\n",
    "con.commit() #[1]\n",
    "con.close()"
   ]
  },
  {
   "cell_type": "markdown",
   "metadata": {},
   "source": [
    "_____"
   ]
  }
 ],
 "metadata": {
  "kernelspec": {
   "display_name": "Python 3",
   "language": "python",
   "name": "python3"
  },
  "language_info": {
   "codemirror_mode": {
    "name": "ipython",
    "version": 3
   },
   "file_extension": ".py",
   "mimetype": "text/x-python",
   "name": "python",
   "nbconvert_exporter": "python",
   "pygments_lexer": "ipython3",
   "version": "3.6.4"
  },
  "orig_nbformat": 4
 },
 "nbformat": 4,
 "nbformat_minor": 2
}
