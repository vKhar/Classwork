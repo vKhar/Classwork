{
 "cells": [
  {
   "cell_type": "code",
   "execution_count": 16,
   "metadata": {},
   "outputs": [],
   "source": [
    "## 3.1\n",
    "def qsort(words):\n",
    "    if len(words) < 2:\n",
    "        return words #[1]\n",
    "    else:\n",
    "        pivot = words[0][0] #[1]\n",
    "        left = []\n",
    "        right = []\n",
    "        for i in words[1:]: #[2]\n",
    "            if i[0] < pivot:\n",
    "                left.append(i) \n",
    "            else:\n",
    "                right.append(i)\n",
    "        return qsort(left) + [words[0]] + qsort(right) #[1]\n",
    "\n"
   ]
  },
  {
   "cell_type": "code",
   "execution_count": null,
   "metadata": {},
   "outputs": [],
   "source": [
    "## 3.2\n",
    "## Valid case\n",
    "print(\n",
    "    qsort([(\"Hello\",1),(\"Bye\",2),(\"zoo\",3),(\"python\",4)])\n",
    ")\n",
    "\n",
    "# Boundary\n",
    "print(\n",
    "    qsort([])\n",
    ")\n",
    "\n",
    "print(\n",
    "    qsort([(\"Hello\",1), (\"Hello\",1),(\"Hello\",1)])\n",
    ")\n",
    "\n",
    "##  stack overflow\n",
    "numbers = sorted ([ (str(i),i) for i in range(1,3000) ], reverse=True)\n",
    "qsort(numbers)\n",
    "\n",
    "\n"
   ]
  },
  {
   "cell_type": "markdown",
   "metadata": {},
   "source": [
    "___\n",
    "##### There are 3 solutions "
   ]
  },
  {
   "cell_type": "code",
   "execution_count": null,
   "metadata": {},
   "outputs": [],
   "source": [
    "## 3.3 using merge with 2 list\n",
    "words = [ (word,i) for i, word in enumerate (open(\"WORDS.TXT\").read().split(\"\\n\")[:-1],1 )]\n",
    "#[1]\n",
    "sorted_partial = []\n",
    "while words: # [3] while, truncate, sort\n",
    "    cluster = words[:3000]\n",
    "    words = words[3000:] \n",
    "    sorted_partial.append( qsort(cluster))\n",
    "\n",
    "\n",
    "def merge(A, B): \n",
    "        ret=[]\n",
    "        while A and B: #[2],loop, pop, concat\n",
    "            if A[0] < B[0]:\n",
    "                ret.append(A.pop(0))\n",
    "            else:\n",
    "                ret.append(B.pop(0))\n",
    "        return ret + A + B #[1]\n",
    "\n",
    "sorted_all = []\n",
    "while sorted_partial: #[3], loop, pop, merge\n",
    "    sorted_all = merge(sorted_all, sorted_partial.pop(0))\n"
   ]
  },
  {
   "cell_type": "code",
   "execution_count": null,
   "metadata": {},
   "outputs": [],
   "source": [
    "## 3.3 using m-way merge\n",
    "words = [ (word,i) for i, word in enumerate (open(\"WORDS.TXT\").read().split(\"\\n\")[:-1],1 )]\n",
    "\n",
    "sorted_partial = []\n",
    "while words: # [3] while, truncate, sort\n",
    "    cluster = words[:3000]\n",
    "    words = words[3000:] \n",
    "    sorted_partial.append( qsort(cluster))\n",
    "\n",
    "def m_merge(sorted_partial): # [7]\n",
    "    ret = []\n",
    "    while sorted_partial:\n",
    "        m = min(sorted_partial) # the default value when comparing list is the first element of the list, then the first element in the tuple\n",
    "        if m:\n",
    "            ret.append(m.pop(0))\n",
    "        else:\n",
    "            sorted_partial.remove(m) # removes empty list\n",
    "    return ret\n",
    "\n",
    "\n",
    "#sorted_all = m_merge(sorted_partial)\n"
   ]
  },
  {
   "cell_type": "code",
   "execution_count": 17,
   "metadata": {},
   "outputs": [],
   "source": [
    "# task 3.3 Modifies msort to merge \n",
    "def merge(a, b): # a and b are sorted lists\n",
    "    ret = []\n",
    "    while len(a) and len(b):\n",
    "        if a[0] > b[0]: # compares each item in a and b and appends smaller item to ret, making ret sorted\n",
    "            ret.append(b.pop(0))\n",
    "        else:\n",
    "            ret.append(a.pop(0))\n",
    "    return ret + a + b\n",
    "\n",
    "def m_sort(arr): ## arr is a list of list\n",
    "    if len(arr) < 2: ## arr has only 1 list return  that list\n",
    "        return arr[0] ## merge will handle only a and b as lists\n",
    "        # This will break only if the sorted_partial is empty\n",
    "    else:\n",
    "        mid = len(arr)//2\n",
    "        return merge(m_sort(arr[:mid]), m_sort(arr[mid:]))\n",
    "\n",
    "words = [ (word,i) for i, word in enumerate (open(\"WORDS.TXT\").read().split(\"\\n\")[:-1],1 )]\n",
    "#[1]\n",
    "sorted_partial = []\n",
    "while words: # [3] while, truncate, sort\n",
    "    cluster = words[:3000]\n",
    "    words = words[3000:] \n",
    "    sorted_partial.append( qsort(cluster))\n",
    "sorted_all = m_sort(sorted_partial) if sorted_partial else []"
   ]
  },
  {
   "cell_type": "code",
   "execution_count": null,
   "metadata": {},
   "outputs": [],
   "source": [
    "# Task 3.4\n",
    "def bin_search(sorted_all,word):\n",
    "    l = sorted_all[:]\n",
    "    mid = len(l)//2\n",
    "    if len(l) == 1 and l[0][0] != word:\n",
    "        return None\n",
    "    if l[mid][0] == word:\n",
    "        return l[mid]\n",
    "    elif l[mid][0] > word:\n",
    "        return bin_search(l[:mid],word)\n",
    "    else:\n",
    "        return bin_search(l[mid:],word)"
   ]
  },
  {
   "cell_type": "code",
   "execution_count": null,
   "metadata": {},
   "outputs": [],
   "source": [
    "## 3.5\n",
    "def is_prefix(word,prefix): #[1]\n",
    "    sub_str = word[:len(prefix)]\n",
    "    if sub_str == prefix:\n",
    "        return True\n",
    "    else:\n",
    "        return False\n",
    "    \n",
    "def prefix_search(sorted_all, target):\n",
    "    ret = []\n",
    "    def search(lb, ub):\n",
    "        if lb > ub: #[1]\n",
    "            return\n",
    "        else:\n",
    "            mid = (lb+ub)//2\n",
    "            if is_prefix(sorted_all[mid][0],target):\n",
    "                ret.append(sorted_all[mid]) #[1]\n",
    "                search(lb, mid-1) #[1]\n",
    "                search(mid+1, ub)\n",
    "            elif target < sorted_all[mid][0]: #[1]\n",
    "                search(lb, mid-1)\n",
    "            else:\n",
    "                search(mid+1, ub)\n",
    "    search (0, len(sorted_all)-1)\n",
    "    return ret"
   ]
  },
  {
   "cell_type": "code",
   "execution_count": null,
   "metadata": {},
   "outputs": [],
   "source": [
    "## 3.6\n",
    "\n",
    "def is_suffix(suffix, word):\n",
    "    sub_str = word[-len(suffix):]\n",
    "    if sub_str == suffix:\n",
    "        return True\n",
    "    else:\n",
    "        return False\n",
    "\n",
    "def suffix_search( sorted_all, target): ## this is actually a linear search\n",
    "    found = []\n",
    "    def bin_search(lb, ub):\n",
    "        if lb > ub:\n",
    "            return\n",
    "        mid = (lb+ub)//2\n",
    "\n",
    "        if is_suffix(target, sorted_all[mid][0]):\n",
    "            found.append(sorted_all[mid])\n",
    "        bin_search(lb,mid-1)\n",
    "        bin_search(mid+1,ub)\n",
    "\n",
    "    bin_search(0, len(sorted_all)-1)\n",
    "    return found\n"
   ]
  },
  {
   "cell_type": "code",
   "execution_count": null,
   "metadata": {},
   "outputs": [],
   "source": [
    "def is_suffix(suffix, word): #[1]\n",
    "    sub_str = word[-len(suffix):]\n",
    "    if sub_str == suffix:\n",
    "        return True\n",
    "    else:\n",
    "        return False\n",
    "    \n",
    "def suffix_search( sorted_all, target): #[2]\n",
    "    ## linear search\n",
    "    found = []\n",
    "    for t in sorted_all:\n",
    "        if is_suffix(target, t[0]):\n",
    "            found.append(t)\n",
    "    return found\n",
    "        \n",
    "        "
   ]
  },
  {
   "cell_type": "markdown",
   "metadata": {},
   "source": [
    "___ \n",
    "Perform suffix search by \n",
    "-   re-sorting the words list after reversing the words:\n",
    "    re(group)<-> (puorg)er\n",
    "-   use pre-fix search to search for the reversed-suffix, puorp"
   ]
  },
  {
   "cell_type": "code",
   "execution_count": null,
   "metadata": {},
   "outputs": [],
   "source": [
    "def reverse_words(sorted_all):\n",
    "    # reverse all the words in sorted_all\n",
    "    for i in range(len(sorted_all)):\n",
    "        sorted_all[i] = ( sorted_all[i][0][::-1], sorted_all[i][1])\n",
    "    return sorted_all"
   ]
  },
  {
   "cell_type": "code",
   "execution_count": null,
   "metadata": {},
   "outputs": [],
   "source": [
    "suffix = \"rusty\"\n",
    "sorted_reverse = sorted(reverse_words(sorted_all)) ## using the built-in sort\n",
    "prefix_search(sorted_reverse,suffix[::-1])"
   ]
  }
 ],
 "metadata": {
  "kernelspec": {
   "display_name": "Python 3",
   "language": "python",
   "name": "python3"
  },
  "language_info": {
   "codemirror_mode": {
    "name": "ipython",
    "version": 3
   },
   "file_extension": ".py",
   "mimetype": "text/x-python",
   "name": "python",
   "nbconvert_exporter": "python",
   "pygments_lexer": "ipython3",
   "version": "3.6.13"
  }
 },
 "nbformat": 4,
 "nbformat_minor": 2
}
