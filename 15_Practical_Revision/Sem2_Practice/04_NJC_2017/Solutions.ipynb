{
 "cells": [
  {
   "cell_type": "code",
   "execution_count": null,
   "metadata": {},
   "outputs": [],
   "source": [
    "#task 4.1\n",
    "\n",
    "def get_hash(string,arrLen): ##no need to input arrLen, hard code 97\n",
    "    total = 0\n",
    "    for i in range(len(string)):\n",
    "        total += ord(string[i]) * (i+1)\n",
    "    return total%arrLen"
   ]
  },
  {
   "cell_type": "code",
   "execution_count": null,
   "metadata": {},
   "outputs": [],
   "source": [
    "#task 4.2\n",
    "\n",
    "def get_next_empty(arr,index):\n",
    "    for i in range(len(arr)):\n",
    "        if arr[index%len(arr)] == None:\n",
    "            return index%len(arr)\n",
    "        else:\n",
    "            index += 1\n",
    "## what happens if there are no free slots\n",
    "\n",
    "def insert(title, borrower, loans, ht1, ht2):\n",
    "    hash1 = get_hash(title,len(ht1))\n",
    "    hash2 = get_hash(borrower,len(ht2))\n",
    "\n",
    "    position = get_next_empty(loans,0)\n",
    "    if position == None: ##\n",
    "        return False\n",
    "    loans[position] = (title,borrower)\n",
    "    ht1[get_next_empty(ht1,hash1)] = position\n",
    "    ht2[get_next_empty(ht2,hash2)] = position\n",
    "    return True\n"
   ]
  },
  {
   "cell_type": "code",
   "execution_count": 33,
   "metadata": {},
   "outputs": [
    {
     "data": {
      "text/plain": [
       "True"
      ]
     },
     "execution_count": 33,
     "metadata": {},
     "output_type": "execute_result"
    }
   ],
   "source": [
    "S=7\n",
    "loans = [None for i in range(S)]\n",
    "ht1 = [None for i in range(S)]\n",
    "ht2 = [None for i in range(S)]\n",
    "insert(\"Python\", \"Mr Lee\", loans, ht1, ht2)\n",
    "insert(\"C\", \"Mr Chan\", loans, ht1, ht2)\n",
    "insert(\"Pythons\", \"Mr Li\", loans, ht1, ht2)\n",
    "insert(\"CPythons\", \"Mr Lam\", loans, ht1, ht2)"
   ]
  },
  {
   "cell_type": "code",
   "execution_count": 34,
   "metadata": {},
   "outputs": [
    {
     "name": "stdout",
     "output_type": "stream",
     "text": [
      "[('Python', 'Mr Lee'), ('C', 'Mr Chan'), ('Pythons', 'Mr Li'), ('CPythons', 'Mr Lam'), None, None, None]\n",
      "[None, None, None, 3, 1, 0, 2]\n",
      "[1, None, None, 0, 3, 2, None]\n"
     ]
    }
   ],
   "source": [
    "print(loans)\n",
    "print(ht1)\n",
    "print(ht2)"
   ]
  },
  {
   "cell_type": "code",
   "execution_count": 39,
   "metadata": {},
   "outputs": [],
   "source": [
    "def find_loan_by_string(string,loan,pos, ht): #pos is the index of the title/person in the tuple\n",
    "    hashh = get_hash(string,len(loan))\n",
    "\n",
    "    index = hashh\n",
    "    for _ in range(S):\n",
    "        if ht[index] != None  and loan[ht[index]][pos] == string:\n",
    "            return loan[ ht[index]]\n",
    "        else:\n",
    "            index = (index+1)%S\n",
    "    else:\n",
    "        return None\n",
    "\n",
    "def find_loan_by_title(title,loan):\n",
    "    return find_loan_by_string(title,loan,0, ht1)\n",
    "\n",
    "def find_loan_by_person(person,loan):\n",
    "    return find_loan_by_string(person,loan,1, ht2)"
   ]
  },
  {
   "cell_type": "code",
   "execution_count": 43,
   "metadata": {},
   "outputs": [
    {
     "data": {
      "text/plain": [
       "('C', 'Mr Chan')"
      ]
     },
     "execution_count": 43,
     "metadata": {},
     "output_type": "execute_result"
    }
   ],
   "source": [
    "find_loan_by_person(\"Mr Chan\",loans)"
   ]
  },
  {
   "cell_type": "code",
   "execution_count": null,
   "metadata": {},
   "outputs": [],
   "source": [
    "def del_loan_by_string(string,loan,pos, ht): #pos is the index of the title/person in the tuple\n",
    "    hashh = get_hash(string,len(loan))\n",
    "\n",
    "    index = hashh\n",
    "    for _ in range(S):\n",
    "        if ht[index] != None  and loan[ht[index]][pos] == string:\n",
    "            loan[ht[index]] = None\n",
    "            ht[index] = None\n",
    "            return True\n",
    "        else:\n",
    "            index = (index+1)%S\n",
    "    else:\n",
    "        return False\n",
    "\n",
    "def del_loan_by_title(title,loan):\n",
    "    return del_loan_by_string(title,loan,0, ht1)\n",
    "\n",
    "def del_loan_by_person(person,loan):\n",
    "    return del_loan_by_string(person,loan,1, ht2)"
   ]
  }
 ],
 "metadata": {
  "kernelspec": {
   "display_name": "Python 3",
   "language": "python",
   "name": "python3"
  },
  "language_info": {
   "codemirror_mode": {
    "name": "ipython",
    "version": 3
   },
   "file_extension": ".py",
   "mimetype": "text/x-python",
   "name": "python",
   "nbconvert_exporter": "python",
   "pygments_lexer": "ipython3",
   "version": "3.6.4"
  },
  "orig_nbformat": 4
 },
 "nbformat": 4,
 "nbformat_minor": 2
}
