{
 "cells": [
  {
   "cell_type": "code",
   "execution_count": 2,
   "metadata": {},
   "outputs": [],
   "source": [
    "S=7\n",
    "# 4.1\n",
    "def get_hash(s):\n",
    "    ret=0\n",
    "    for i,c in enumerate(s,1):\n",
    "        ret+= ord(c)*i\n",
    "    return ret%S\n",
    "\n",
    "#4.2\n",
    "## init code\n",
    "Loans = [ None for _ in range(S)]\n",
    "HT1 = [ None for _ in range(S)]\n",
    "HT2 = [ None for _ in range(S)]\n",
    "\n",
    "def get_free(Loans):\n",
    "    for i in range(len(Loans)):\n",
    "        if Loans[i] == None:\n",
    "            return i\n",
    "    else:\n",
    "        return None\n",
    "\n",
    "def insert(bk_title, person):\n",
    "    ## Two probe needed\n",
    "    loans_index = get_free(Loans)\n",
    "    if loans_index != None:\n",
    "        Loans[loans_index] = (bk_title, person)\n",
    "       \n",
    "        ## insert into HT1\n",
    "        h1_index = get_hash(bk_title)\n",
    "        if HT1[h1_index] == None:\n",
    "            HT1[h1_index] = loans_index\n",
    "        else:\n",
    "            i = (h1_index+1)%S\n",
    "            while i != h1_index:\n",
    "                if HT1[i] == None:\n",
    "                    HT1[i] = loans_index\n",
    "                    break\n",
    "                else:\n",
    "                    i = (i+1)%S\n",
    "            else:\n",
    "                raise Exception(\"Title Hash table is full\")\n",
    "\n",
    "        ## insert into HT2\n",
    "        h2_index = get_hash(person)\n",
    "        if HT2[h2_index] == None:\n",
    "            HT2[h2_index] = loans_index\n",
    "        else:\n",
    "            i = (h2_index+1)%S\n",
    "            while i != h2_index:\n",
    "                if HT2[i] == None:\n",
    "                    HT2[i] = loans_index \n",
    "                    break\n",
    "                else:\n",
    "                    i = (i+1)%S\n",
    "            else:\n",
    "                raise Exception(\"Person Hash table is full\")\n",
    "    else:\n",
    "        raise Exception(\"Loans array is full\")\n",
    "        "
   ]
  },
  {
   "cell_type": "code",
   "execution_count": 3,
   "metadata": {},
   "outputs": [],
   "source": [
    "#4.3\n",
    "def probe(index,ht,target): ## \n",
    "    ## check for title or person\n",
    "    j = 0 if id(ht) == id(HT1) else 1\n",
    "    \n",
    "    i = (index+1)%S\n",
    "    while i != index:\n",
    "        if ht[i] and Loans[ht[i]][j] == target:\n",
    "            return Loans[ht[i]]\n",
    "        else:\n",
    "            i = (i+1)%S\n",
    "    else:\n",
    "        return ()\n",
    "def find_loan_by_title(title):\n",
    "    title_index = get_hash(title)\n",
    "    loan_index = HT1[title_index] # loan_index may be None after removal\n",
    "    if loan_index and Loans[loan_index][0] == title:\n",
    "        return Loans[loan_index]\n",
    "    else:\n",
    "        return probe(title_index,HT1,title)\n",
    "    \n",
    "def find_loan_by_person(person):\n",
    "    person_index = get_hash(person)\n",
    "    loan_index = HT2[person_index]\n",
    "    if Loans[loan_index][1] == person:\n",
    "        return Loans[loan_index]\n",
    "    else:\n",
    "        return probe(person_index,HT2,person)"
   ]
  },
  {
   "cell_type": "code",
   "execution_count": 4,
   "metadata": {},
   "outputs": [],
   "source": [
    "def remove_loan_by_title(title):\n",
    "    title_index = get_hash(title)\n",
    "    if find_loan_by_title(title) == ():\n",
    "        return\n",
    "    if Loans[ HT1[title_index] ][0] == title:\n",
    "        Loans[ HT1[title_index] ] = None\n",
    "        HT1[title_index] = None\n",
    "    else:\n",
    "        i = (title_index+1)%S\n",
    "        while i != title_index:\n",
    "            if Loans[ HT1[i] ][0] == title:\n",
    "                Loans[ HT1[i] ] = None\n",
    "                HT1[i] = None\n",
    "                break\n",
    "            else:\n",
    "                i=(i+1)%S"
   ]
  },
  {
   "cell_type": "code",
   "execution_count": 5,
   "metadata": {},
   "outputs": [],
   "source": [
    "## with probe count\n",
    "def insert(bk_title, person):\n",
    "    ## Two probe needed\n",
    "    loans_index = get_free(Loans)\n",
    "    if loans_index != None:\n",
    "        Loans[loans_index] = (bk_title, person)\n",
    "       \n",
    "        ## insert into HT1\n",
    "        count = 0\n",
    "        h1_index = get_hash(bk_title)\n",
    "        if HT1[h1_index] == None:\n",
    "            HT1[h1_index] = loans_index\n",
    "        else:\n",
    "            ## extra probing\n",
    "            i = (h1_index+1)%S\n",
    "            while i != h1_index:\n",
    "                count+=1\n",
    "                if HT1[i] == None:\n",
    "                    HT1[i] = loans_index\n",
    "                    break\n",
    "                else:\n",
    "                    i = (i+1)%S\n",
    "            else:\n",
    "                raise Exception(\"Title Hash table is full\")\n",
    "\n",
    "        ## insert into HT2\n",
    "        h2_index = get_hash(person)\n",
    "        if HT2[h2_index] == None:\n",
    "            HT2[h2_index] = loans_index\n",
    "        else:\n",
    "            count+=1\n",
    "            i = (h2_index+1)%S\n",
    "            while i != h2_index:\n",
    "                if HT2[i] == None:\n",
    "                    HT2[i] = loans_index \n",
    "                    break\n",
    "                else:\n",
    "                    i = (i+1)%S\n",
    "            else:\n",
    "                raise Exception(\"Person Hash table is full\")\n",
    "    else:\n",
    "        raise Exception(\"Loans array is full\")\n",
    "    print(f\"Probing count {count}\")"
   ]
  },
  {
   "cell_type": "code",
   "execution_count": 12,
   "metadata": {},
   "outputs": [
    {
     "name": "stdout",
     "output_type": "stream",
     "text": [
      "Probing count 0\n",
      "Probing count 0\n",
      "Probing count 1\n",
      "Probing count 1\n"
     ]
    }
   ],
   "source": [
    "Loans = [ None for _ in range(S)]\n",
    "HT1 = [ None for _ in range(S)]\n",
    "HT2 = [ None for _ in range(S)]\n",
    "\n",
    "insert(\"Python\",\"Mr Lee\")\n",
    "\n",
    "insert(\"C\",\"Mr Chan\")\n",
    "insert(\"Pythons\",\"Mr Li\")\n",
    "insert(\"CPython\",\"Mr Lam\")"
   ]
  },
  {
   "cell_type": "code",
   "execution_count": 13,
   "metadata": {},
   "outputs": [
    {
     "name": "stdout",
     "output_type": "stream",
     "text": [
      "[('Python', 'Mr Lee'), ('C', 'Mr Chan'), ('Pythons', 'Mr Li'), ('CPython', 'Mr Lam'), None, None, None]\n",
      "[3, None, None, None, 1, 0, 2]\n",
      "[1, None, None, 0, 3, 2, None]\n"
     ]
    }
   ],
   "source": [
    "print(Loans)\n",
    "print(HT1)\n",
    "print(HT2)"
   ]
  },
  {
   "cell_type": "code",
   "execution_count": 58,
   "metadata": {},
   "outputs": [
    {
     "data": {
      "text/plain": [
       "('Pythons', 'Mr Li')"
      ]
     },
     "execution_count": 58,
     "metadata": {},
     "output_type": "execute_result"
    }
   ],
   "source": [
    "find_loan_by_title(\"Pythons\")"
   ]
  },
  {
   "cell_type": "code",
   "execution_count": null,
   "metadata": {},
   "outputs": [],
   "source": [
    "remove_loan_by_title(\"Python\")"
   ]
  },
  {
   "cell_type": "code",
   "execution_count": null,
   "metadata": {},
   "outputs": [],
   "source": [
    "print(Loans)\n",
    "print(HT1)\n",
    "print(HT2)"
   ]
  }
 ],
 "metadata": {
  "kernelspec": {
   "display_name": "Python 3",
   "language": "python",
   "name": "python3"
  },
  "language_info": {
   "codemirror_mode": {
    "name": "ipython",
    "version": 3
   },
   "file_extension": ".py",
   "mimetype": "text/x-python",
   "name": "python",
   "nbconvert_exporter": "python",
   "pygments_lexer": "ipython3",
   "version": "3.6.4"
  },
  "orig_nbformat": 4
 },
 "nbformat": 4,
 "nbformat_minor": 2
}
