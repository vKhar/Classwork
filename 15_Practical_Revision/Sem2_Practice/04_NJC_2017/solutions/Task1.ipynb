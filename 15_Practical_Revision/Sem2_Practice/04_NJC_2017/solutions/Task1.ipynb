{
 "cells": [
  {
   "cell_type": "code",
   "execution_count": null,
   "metadata": {},
   "outputs": [],
   "source": [
    "## 1.1\n",
    "def base_n_denary(val_str, n):\n",
    "    map=\"0123456789ABCDEF\"    \n",
    "    ub = len(val_str)-1\n",
    "    ret=0\n",
    "    for i in range(len(val_str)):\n",
    "        #extract digits by digits from LS\n",
    "        digit = val_str[ub-i].upper()\n",
    "        ret+= map.index(digit) * (n**i)\n",
    "    return ret\n",
    "        \n",
    "\n",
    "        "
   ]
  },
  {
   "cell_type": "code",
   "execution_count": null,
   "metadata": {},
   "outputs": [],
   "source": [
    "def quick_sort(L):\n",
    "    if len(L) <= 2:\n",
    "        return L\n",
    "    pivot = L[0]\n",
    "    left=[]\n",
    "    right=[]\n",
    "    for i in L[1:]:\n",
    "        if i > pivot:\n",
    "            left.append(i)\n",
    "        else:\n",
    "            right.append(i)\n",
    "    return quick_sort(left) + [pivot] + quick_sort(right)"
   ]
  },
  {
   "cell_type": "code",
   "execution_count": null,
   "metadata": {},
   "outputs": [],
   "source": [
    "#1.2\n",
    "import csv\n",
    "ranking = []\n",
    "contents={\"2A_SCORES.TXT\":[],\n",
    "          \"2B_SCORES.TXT\":[],\n",
    "          \"2C_SCORES.TXT\":[],\n",
    "          }\n",
    "# (score, index, class)\n",
    "for file_name, base in zip(contents.keys(), (2,8,16)):\n",
    "    class_list = list(map( lambda x: (base_n_denary(x[1],base),x[0], file_name[:2]),csv.reader(open(file_name))))\n",
    "    contents[file_name] = class_list\n",
    "    ranking+=class_list\n",
    "\n",
    "ranking = quick_sort(ranking)"
   ]
  },
  {
   "cell_type": "code",
   "execution_count": null,
   "metadata": {},
   "outputs": [],
   "source": [
    "ranking[:10]"
   ]
  },
  {
   "cell_type": "code",
   "execution_count": null,
   "metadata": {},
   "outputs": [],
   "source": [
    "highest = ranking[0][0]\n",
    "lowest = ranking[-1][0]\n",
    "total_score = 0\n",
    "for score in ranking:\n",
    "    total_score += score[0]\n",
    "average= round( total_score / len(ranking), 1)\n",
    "print(f\"Mathematics results for {','.join([ k[:2] for k in contents.keys()]) }:\")\n",
    "print(f'''\n",
    "Highest score = {highest:<2.1f}\n",
    "Average score = {average:<2.1f}\n",
    "Lowest  score = {lowest:<2.1f}    \n",
    "      ''')\n",
    "print(\"The top 3 students are:\")\n",
    "print(f\"{'Class':^10}{'Index':^10}{'Marks':^10}\")\n",
    "for i in range(3):\n",
    "    print(f\"{ranking[i][2]:^10}{ranking[i][1]:^10}{ranking[i][0]:^10}\")\n"
   ]
  },
  {
   "cell_type": "code",
   "execution_count": null,
   "metadata": {},
   "outputs": [],
   "source": [
    "## using built-in functions\n",
    "highest = ranking[0][0]\n",
    "lowest = ranking[-1][0]\n",
    "average = round( sum (map( lambda x:x[0] ,ranking))/len(ranking),0)\n",
    "\n",
    "print(highest, lowest, average)\n",
    "ranking[:3]\n"
   ]
  }
 ],
 "metadata": {
  "kernelspec": {
   "display_name": "Python 3",
   "language": "python",
   "name": "python3"
  },
  "language_info": {
   "codemirror_mode": {
    "name": "ipython",
    "version": 3
   },
   "file_extension": ".py",
   "mimetype": "text/x-python",
   "name": "python",
   "nbconvert_exporter": "python",
   "pygments_lexer": "ipython3",
   "version": "3.6.4"
  },
  "orig_nbformat": 4
 },
 "nbformat": 4,
 "nbformat_minor": 2
}
