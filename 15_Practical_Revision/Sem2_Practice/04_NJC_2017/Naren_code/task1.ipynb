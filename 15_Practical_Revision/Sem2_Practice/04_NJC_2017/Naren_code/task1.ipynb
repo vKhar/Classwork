{
 "cells": [
  {
   "attachments": {},
   "cell_type": "markdown",
   "metadata": {},
   "source": [
    "# Task 1\n",
    "\n",
    "The head of the mathematics department would like to combine and rank the examination\n",
    "results from 3 classes so that a summary report can be generated. The mathematics teachers\n",
    "from these classes were instructed to use the following format (on each line of a text file) when\n",
    "collating the results:\n",
    "<student index number>,<student examination score>\n",
    "After the results from each class had been collated, the following was discovered. Each\n",
    "<student index number> was stored as a denary value. However, the mathematics teachers\n",
    "stored <student examination score> values using different base number systems.\n",
    "The following were the base number systems utilised:\n",
    "- Class 2A: binary\n",
    "- Class 2B: octal\n",
    "- Class 2C: hexadecimal\n",
    "It should be noted that all index numbers and examination scores correspond to non-negative\n",
    "integer values.\n"
   ]
  },
  {
   "attachments": {},
   "cell_type": "markdown",
   "metadata": {},
   "source": [
    "## Task 1.1\n",
    "Write the program code for the function base_n_to_denary(value_str, n), which\n",
    "converts the given base n, non-negative integer value, value_str, into its\n",
    "corresponding denary value, and then returns it.\n",
    "More specifically, this function should take the following arguments.\n",
    "- value_str: a string corresponding to a base n value.\n",
    "- n: a positive integer between 2 and 16 corresponding to the base number\n",
    "system used to represent value_str.\n",
    "The function should then return an integer (i.e., a denary value), whose value is equal to\n",
    "value_str. You may not use any inbuilt functionality to perform this conversion."
   ]
  },
  {
   "cell_type": "code",
   "execution_count": null,
   "metadata": {},
   "outputs": [],
   "source": [
    "def base_n_to_denary(value_str, n):\n",
    "    # Function to convert a base n value to denary (base 10)\n",
    "    denary_value = 0\n",
    "    power = 1\n",
    "\n",
    "    # Iterate through the digits of the value_str in reverse order\n",
    "    for digit in value_str[::-1]:\n",
    "        # Convert hexadecimal letters to their respective values\n",
    "        if digit.isdigit():\n",
    "            denary_value += int(digit) * power\n",
    "        else:\n",
    "            denary_value += (ord(digit.upper()) - ord('A') + 10) * power\n",
    "        power *= n\n",
    "\n",
    "    return denary_value\n"
   ]
  },
  {
   "attachments": {},
   "cell_type": "markdown",
   "metadata": {},
   "source": [
    "As mentioned above, the head of the mathematics department would like to generate a\n",
    "summary report of the examination.\n",
    "The format of this summary report is as follows:\n",
    "Mathematics results for classes 2A, 2B and 2C:\n",
    "- The highest examination score: 100.0\n",
    "- The average examination score: 50.0\n",
    "- The lowest examination score: 0.0\n",
    "\n",
    "\n",
    "The top 3 students are:\n",
    "- Class Index Mark\n",
    "- 2A     1   100\n",
    "- 2C    10   98\n",
    "- 2B     3   96"
   ]
  },
  {
   "cell_type": "markdown",
   "metadata": {},
   "source": [
    "## Task 1.2\n",
    "Write the program code to perform the following.\n",
    "- Read and store the contents of the files:\n",
    "  - 2A_SCORES.TXT\n",
    "  - 2B_SCORES.TXT\n",
    "  - 2C_SCORES.TXT\n",
    "- When storing this data, utilise the function base_n_to_denary(value_str,\n",
    "n) to convert the scores in each file to their corresponding denary values."
   ]
  },
  {
   "cell_type": "code",
   "execution_count": null,
   "metadata": {},
   "outputs": [],
   "source": [
    "\n",
    "def read_scores_file(filename, base, class_name):\n",
    "    with open(filename, 'r') as file:\n",
    "        scores_data = file.readlines()\n",
    "\n",
    "    scores_list = []\n",
    "    for line in scores_data:\n",
    "        index_str, score_str = line.strip().split(',')\n",
    "        score_denary = base_n_to_denary(score_str, base)\n",
    "        scores_list.append((int(index_str), score_denary, class_name))\n",
    "\n",
    "    return scores_list\n",
    "\n",
    "# Reading and storing scores from the files\n",
    "scores_2A = read_scores_file('2A_SCORES.TXT', 2, \"2A\")  # Binary scores\n",
    "scores_2B = read_scores_file('2B_SCORES.TXT', 8, \"2B\")  # Octal scores\n",
    "scores_2C = read_scores_file('2C_SCORES.TXT', 16, \"2C\")  # Hexadecimal scores\n"
   ]
  },
  {
   "cell_type": "markdown",
   "metadata": {},
   "source": [
    "## Task 1.3\n",
    "Write the program code for the function sort_student_scores(…), which uses the\n",
    "class, index and score data (i.e., the data retrieved from the 3 files listed in Task 1.2),\n",
    "and returns the same information, but sorted in descending order based on score.\n",
    "\n",
    "When considering the parameters and return value for sort_student_scores(…),\n",
    "your decision(s) should be based upon the usage of this information to produce the\n",
    "summary report described earlier in this question.\n",
    "\n",
    "Note that you are to utilise the quicksort algorithm to perform the required sorting. Also\n",
    "note that you may not utilise any inbuilt functionality to search or sort when writing this\n",
    "function."
   ]
  },
  {
   "cell_type": "code",
   "execution_count": 1,
   "metadata": {},
   "outputs": [],
   "source": [
    "def quicksort(scores_list):\n",
    "    if len(scores_list) <= 1:\n",
    "        return scores_list\n",
    "\n",
    "    pivot = scores_list[0][1]\n",
    "    left = [x for x in scores_list if x[1] > pivot]\n",
    "    middle = [x for x in scores_list if x[1] == pivot]\n",
    "    right = [x for x in scores_list if x[1] < pivot]\n",
    "\n",
    "    return quicksort(left) + middle + quicksort(right)\n",
    "\n",
    "def sort_student_scores(scores_2A, scores_2B, scores_2C):\n",
    "    # Combine all the scores and sort them in descending order based on score\n",
    "    all_scores = scores_2A + scores_2B + scores_2C\n",
    "    sorted_scores = quicksort(all_scores)\n",
    "\n",
    "    return sorted_scores"
   ]
  },
  {
   "cell_type": "code",
   "execution_count": 2,
   "metadata": {},
   "outputs": [
    {
     "ename": "NameError",
     "evalue": "name 'scores_2A' is not defined",
     "output_type": "error",
     "traceback": [
      "\u001b[1;31m---------------------------------------------------------------------------\u001b[0m",
      "\u001b[1;31mNameError\u001b[0m                                 Traceback (most recent call last)",
      "\u001b[1;32m<ipython-input-2-f85873892032>\u001b[0m in \u001b[0;36m<module>\u001b[1;34m()\u001b[0m\n\u001b[1;32m----> 1\u001b[1;33m \u001b[0msort_student_scores\u001b[0m\u001b[1;33m(\u001b[0m\u001b[0mscores_2A\u001b[0m\u001b[1;33m,\u001b[0m \u001b[0mscores_2B\u001b[0m\u001b[1;33m,\u001b[0m \u001b[0mscores_2C\u001b[0m\u001b[1;33m)\u001b[0m\u001b[1;33m\u001b[0m\u001b[0m\n\u001b[0m",
      "\u001b[1;31mNameError\u001b[0m: name 'scores_2A' is not defined"
     ]
    }
   ],
   "source": [
    "sort_student_scores(scores_2A, scores_2B, scores_2C)"
   ]
  },
  {
   "cell_type": "markdown",
   "metadata": {},
   "source": [
    "## Task 1.4\n",
    "Utilise the data from Task 1.2, and the function implemented in Task 1.3 – i.e.,\n",
    "sort_student_scores(…), to produce the summary report described earlier in this\n",
    "question.\n",
    "\n",
    "Note that you may not use any inbuilt functionality to find the:\n",
    "- Average score\n",
    "- Maximum score\n",
    "- Minimum score"
   ]
  },
  {
   "cell_type": "code",
   "execution_count": 6,
   "metadata": {},
   "outputs": [
    {
     "name": "stdout",
     "output_type": "stream",
     "text": [
      "Mathematics results for classes 2A, 2B and 2C:\n",
      "The highest examination score: 100.0\n",
      "The average examination score: 64.3\n",
      "The lowest examination score: 30.0\n",
      "The top 3 students are:\n",
      "Class Index Mark\n",
      " 2A     1   100.0\n",
      " 2A    24   98.0\n",
      " 2A     4   95.0\n"
     ]
    }
   ],
   "source": [
    "def print_summary_report(sorted_scores):\n",
    "    # Calculate highest, average, and lowest scores\n",
    "    highest_score = sorted_scores[0][1]\n",
    "    lowest_score = sorted_scores[-1][1]\n",
    "    total_scores = sum(score[1] for score in sorted_scores)\n",
    "    average_score = total_scores / len(sorted_scores)\n",
    "\n",
    "    # Print the summary report\n",
    "    print(\"Mathematics results for classes 2A, 2B and 2C:\")\n",
    "    print(f\"The highest examination score: {highest_score:.1f}\")\n",
    "    print(f\"The average examination score: {average_score:.1f}\")\n",
    "    print(f\"The lowest examination score: {lowest_score:.1f}\")\n",
    "    print(\"The top 3 students are:\")\n",
    "    print(\"Class Index Mark\")\n",
    "\n",
    "    for i in range(3):\n",
    "        class_name = sorted_scores[i][2]\n",
    "        index = sorted_scores[i][0]\n",
    "        score = sorted_scores[i][1]\n",
    "        print(f\"{class_name : ^5} {index : ^5} {score: ^4.1f}\")\n",
    "\n",
    "sorted_scores = sort_student_scores(scores_2A, scores_2B, scores_2C)\n",
    "print_summary_report(sorted_scores)\n"
   ]
  },
  {
   "cell_type": "code",
   "execution_count": null,
   "metadata": {},
   "outputs": [],
   "source": []
  },
  {
   "cell_type": "code",
   "execution_count": null,
   "metadata": {},
   "outputs": [],
   "source": []
  }
 ],
 "metadata": {
  "kernelspec": {
   "display_name": "base",
   "language": "python",
   "name": "python3"
  },
  "language_info": {
   "codemirror_mode": {
    "name": "ipython",
    "version": 3
   },
   "file_extension": ".py",
   "mimetype": "text/x-python",
   "name": "python",
   "nbconvert_exporter": "python",
   "pygments_lexer": "ipython3",
   "version": "3.6.4"
  },
  "orig_nbformat": 4
 },
 "nbformat": 4,
 "nbformat_minor": 2
}
