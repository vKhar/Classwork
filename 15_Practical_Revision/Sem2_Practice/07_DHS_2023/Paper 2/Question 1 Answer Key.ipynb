{
 "cells": [
  {
   "cell_type": "code",
   "execution_count": 1,
   "metadata": {},
   "outputs": [
    {
     "name": "stdout",
     "output_type": "stream",
     "text": [
      "['SGC2783', 'SDH942', 'SER12532', 'SGA98', 'SJE9483', 'GG5', 'SLM23981', 'SM#1423', 'SDJ842', 'SBK9533']\n",
      "10\n"
     ]
    }
   ],
   "source": [
    "#Task 1.1 (Total: 3 + 2 marks)\n",
    "\n",
    "def task1_1(filename):\n",
    "    infile = open(filename, \"r\") #1 mark to open, readlines & close file correctly\n",
    "    lines = infile.readlines()\n",
    "\n",
    "    carlist = []\n",
    "    for line in lines: #1 mark to loop through the records\n",
    "        #print(line[:-1])\n",
    "        carlist.append(line[:-1]) #1 mark to append to list correctly, including removing the \\n\n",
    "\n",
    "    infile.close()\n",
    "    return carlist \n",
    "\n",
    "\n",
    "#main\n",
    "result = task1_1(\"CARPLATES.txt\")\n",
    "print(result) #1 mark for correct output\n",
    "print(len(result)) #1 mark for correct output\n",
    "\n"
   ]
  },
  {
   "cell_type": "code",
   "execution_count": 7,
   "metadata": {},
   "outputs": [
    {
     "data": {
      "text/plain": [
       "True"
      ]
     },
     "execution_count": 7,
     "metadata": {},
     "output_type": "execute_result"
    }
   ],
   "source": [
    "\"SDH94\" < \"SGC278\" #older is smaller"
   ]
  },
  {
   "cell_type": "code",
   "execution_count": 2,
   "metadata": {},
   "outputs": [
    {
     "name": "stdout",
     "output_type": "stream",
     "text": [
      "['GG5', 'SBK9533', 'SDH942', 'SDJ842', 'SER12532', 'SGA98', 'SGC2783', 'SJE9483', 'SLM23981', 'SM#1423']\n"
     ]
    }
   ],
   "source": [
    "#Task 1.2 (7 + 1 marks)\n",
    "\n",
    "def task1_2(list_of_strings):\n",
    "    if len(list_of_strings) <= 1: #1 mark for terminating case\n",
    "        return list_of_strings\n",
    "    else:\n",
    "        pivot = list_of_strings[0] #1 mark for selecting a pivot\n",
    "        older = [] #1 mark for having a \"older\" and a \"younger\" list - if it is in-place algo, as long as the concept of the 2 list is there\n",
    "        younger = []\n",
    "        \n",
    "        for i in range(1, len(list_of_strings)): #1 mark for looping through the rest of the items in the list, other than the pivot\n",
    "            if list_of_strings[i] < pivot: # 1 mark for correct condition and adding each item into the correct list\n",
    "                older.append(list_of_strings[i])\n",
    "            else:\n",
    "                younger.append(list_of_strings[i])\n",
    "        \n",
    "        older = task1_2(older) #1 mark for recursively calling itself to sort the \"older\" & \"younger\" list\n",
    "        younger = task1_2(younger)\n",
    "        \n",
    "        #print(\"combining\", older + [pivot] + younger)\n",
    "        return older + [pivot] + younger #1 mark for putting the \"older\" list, pivot and \"younger\" list in the correct order\n",
    "    \n",
    "#main\n",
    "print(task1_2(task1_1(\"CARPLATES.txt\"))) #1 mark for correct output"
   ]
  },
  {
   "cell_type": "code",
   "execution_count": 7,
   "metadata": {},
   "outputs": [
    {
     "data": {
      "text/plain": [
       "'E'"
      ]
     },
     "execution_count": 7,
     "metadata": {},
     "output_type": "execute_result"
    }
   ],
   "source": [
    "#Task 1.3\n",
    "\n",
    "def task1_3(input_value):\n",
    "    if input_value[0] != 'S': #1 mark for validating the \"S\" and the next 2 alphabets\n",
    "        return \"error\"\n",
    "    elif not input_value[1:3].isalpha():\n",
    "        return \"error\"\n",
    "    elif int(input_value[3:]) < 1 or int(input_value[3:]) > 9999: #1 mark for validating number range\n",
    "        return \"error\"\n",
    "    else:\n",
    "        alphabet_val_dict = {\"A\":1,\"B\":2,\"C\":3,\"D\":4,\"E\":5,\"F\":6,\"G\":7,\"H\":8,\"I\":9,\"J\":10,\"K\":11,\"L\":12,\"M\":13,\\\n",
    "                             \"N\":14,\"O\":15,\"P\":16,\"Q\":17,\"R\":18,\"S\":19,\"T\":20,\"U\":21,\"V\":22,\"W\":23,\"X\":24,\"Y\":25,\"Z\":26}\n",
    "        \n",
    "        checksum_dict = {0:\"A\", 1:\"Z\", 2:\"Y\", 3:\"X\", 4:\"U\", 5:\"T\", 6:\"S\", 7:\"R\", 8:\"P\", 9:\"M\", \\\n",
    "                      10:\"L\", 11:\"K\", 12:\"J\", 13:\"H\", 14:\"G\", 15:\"E\", 16:\"D\", 17:\"C\", 18:\"B\"}\n",
    "        \n",
    "        converted = []\n",
    "        converted.append(alphabet_val_dict[input_value[1]]) #1 mark for correctly converting the 2 alphabets to number\n",
    "        converted.append(alphabet_val_dict[input_value[2]])\n",
    "        \n",
    "        for i in range(4-len(input_value[3:])): #1 mark for adding leading 0s correctly\n",
    "            converted.append(0)\n",
    "        for j in range(len(input_value[3:])):\n",
    "            converted.append(int(input_value[j+3]))\n",
    "            \n",
    "        #print(converted)\n",
    "        \n",
    "        multiplier = [9, 4, 5, 4, 3, 2]\n",
    "        total = 0\n",
    "        for k in range(len(multiplier)):\n",
    "            total = total + converted[k]*multiplier[k] # 1 mark for multiplying to the fixed numbers correctly and adding the total\n",
    "            \n",
    "        checksum_digit = total % 19\n",
    "        checksum_letter = checksum_dict[checksum_digit] #1 mark for selecting the right checksum based on the remainder\n",
    "        #print(checksum_letter)\n",
    "        return checksum_letter\n",
    "\n",
    "#main\n",
    "task1_3(\"SBC9533\")"
   ]
  },
  {
   "cell_type": "code",
   "execution_count": 8,
   "metadata": {},
   "outputs": [],
   "source": [
    "#Task 1.4\n",
    "\n",
    "def task1_4(input_filename, valid_filename, invalid_filename):\n",
    "    carlist = task1_1(input_filename) #1 mark for calling task1_1 function correctly\n",
    "    #print(carlist)\n",
    "    \n",
    "    outfile_valid = open(valid_filename, \"a\") # 1 mark for opening both output files to append mode and closing the files at the end\n",
    "    outfile_invalid = open(invalid_filename, \"a\")\n",
    "\n",
    "    for i in range(len(carlist)): # 1 mark for looping through the entire list of vehicle registration numbers\n",
    "        #print(task1_3(carlist[i]))\n",
    "        checksum_letter = task1_3(carlist[i]) # 1 mark for calling task 1_3 function correctly\n",
    "        if checksum_letter == \"error\": #1 mark for writing to valid and invalid output files accordingly\n",
    "            outfile_invalid.write(carlist[i])\n",
    "            outfile_invalid.write(\"\\n\")\n",
    "        else:\n",
    "            outfile_valid.write(carlist[i] + checksum_letter) #1 mark for concatenating the check digit to the back of valid vehicle registration numbers\n",
    "            outfile_valid.write(\"\\n\")\n",
    "    \n",
    "    outfile_valid.close()\n",
    "    outfile_invalid.close()\n",
    "    \n",
    "#main\n",
    "task1_4(\"CARPLATES.txt\", \"valid.txt\", \"invalid.txt\")"
   ]
  },
  {
   "cell_type": "code",
   "execution_count": null,
   "metadata": {},
   "outputs": [],
   "source": []
  }
 ],
 "metadata": {
  "kernelspec": {
   "display_name": "Python 3",
   "language": "python",
   "name": "python3"
  },
  "language_info": {
   "codemirror_mode": {
    "name": "ipython",
    "version": 3
   },
   "file_extension": ".py",
   "mimetype": "text/x-python",
   "name": "python",
   "nbconvert_exporter": "python",
   "pygments_lexer": "ipython3",
   "version": "3.6.4"
  }
 },
 "nbformat": 4,
 "nbformat_minor": 2
}
