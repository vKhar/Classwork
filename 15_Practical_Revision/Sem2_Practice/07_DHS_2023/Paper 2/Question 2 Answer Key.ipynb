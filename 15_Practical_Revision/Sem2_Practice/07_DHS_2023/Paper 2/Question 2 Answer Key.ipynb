{
 "cells": [
  {
   "cell_type": "code",
   "execution_count": 1,
   "metadata": {},
   "outputs": [],
   "source": [
    "#Task 2.1\n",
    "\n",
    "class Queue:\n",
    "    def __init__(self): #1 mark for replicating exactly from pseudocode\n",
    "        self.max = 10\n",
    "        self.queue = []\n",
    "        for i in range(self.max):\n",
    "            self.queue.append(None)\n",
    "        self.front = 0\n",
    "        self.rear = -1\n",
    "        \n",
    "    def is_full(self): #1 mark for implementing is_full() correctly\n",
    "        if self.rear + 1 == self.max:\n",
    "            return True\n",
    "        else:\n",
    "            return False\n",
    "        \n",
    "    def is_empty(self):  #1 mark for implementing is_empty() correctly\n",
    "        if self.front > self.rear:\n",
    "            return True\n",
    "        else:\n",
    "            return False\n",
    "        \n",
    "    def enqueue(self, data):\n",
    "        if self.is_full() == True: #1 mark for checking if the queue is full\n",
    "            print(\"Queue is full\")\n",
    "        else:\n",
    "            self.rear = self.rear + 1 #1 mark for moving the rear pointer and adding the data to the queue correctly\n",
    "            self.queue[self.rear] = data\n",
    "        \n",
    "    def dequeue(self):\n",
    "        if self.is_empty() == True:  #1 mark for checking if the queue is empty\n",
    "            print(\"Queue is empty\")\n",
    "            dequeued_item = None\n",
    "        else:\n",
    "            dequeued_item = self.queue[self.front] #1 mark for moving the front pointer and removing the data from the queue correctly\n",
    "            self.front = self.front + 1\n",
    "        \n",
    "        return dequeued_item\n",
    "    \n",
    "    def display(self): #1 mark for displaying the content of the queue correctly\n",
    "        for i in range(len(self.queue)):\n",
    "            print(self.queue[i], end = ' ')\n",
    "        print()\n",
    "        print(\"front: \", self.front, end = ' ')\n",
    "        print(\"rear: \", self.rear, end = ' ')\n",
    "        print()"
   ]
  },
  {
   "cell_type": "code",
   "execution_count": 3,
   "metadata": {},
   "outputs": [
    {
     "name": "stdout",
     "output_type": "stream",
     "text": [
      "None None None None None None None None None None \n",
      "front:  0 rear:  -1 \n",
      "Juice Milk Chips Eggs Bread Cereal Pizza Water Fruits Yoghurt \n",
      "front:  0 rear:  9 \n"
     ]
    }
   ],
   "source": [
    "#Task2data.py\n",
    "queue1 = Queue()\n",
    "queue1.display()\n",
    "\n",
    "queue1.enqueue('Juice')\n",
    "queue1.enqueue('Milk')\n",
    "queue1.enqueue('Chips')\n",
    "queue1.enqueue('Eggs')\n",
    "queue1.enqueue('Bread')\n",
    "queue1.enqueue('Cereal')\n",
    "queue1.enqueue('Pizza')\n",
    "queue1.enqueue('Water')\n",
    "queue1.enqueue('Fruits')\n",
    "queue1.enqueue('Yoghurt')\n",
    "\n",
    "queue1.display()"
   ]
  },
  {
   "cell_type": "code",
   "execution_count": 4,
   "metadata": {},
   "outputs": [
    {
     "name": "stdout",
     "output_type": "stream",
     "text": [
      "Bread Cereal Chips Eggs Fruits Juice Milk Pizza Water Yoghurt "
     ]
    }
   ],
   "source": [
    "#Task 2.2\n",
    "\n",
    "class BST:\n",
    "\n",
    "    def __init__(self, data): #2 marks for initialising correctly\n",
    "        self.data = data\n",
    "        self.left = None\n",
    "        self.right = None\n",
    "\n",
    "    def insert(self, value):\n",
    "        if value < self.data: #1 mark for correct comparison with root node value - going left when value is smaller than root node value\n",
    "            if self.left is None: #1 mark for inserting as leaf node if possible\n",
    "                self.left = BST(value)\n",
    "            else: # 1 mark for recursively inserting to left subtree if not possible to insert as leaf node at the current position \n",
    "                self.left.insert(value)\n",
    "        else: # value > self.data #1 mark if adding to right side is correct as well\n",
    "            if self.right is None: # can insert as right leaf node\n",
    "                self.right = BST(value)\n",
    "            else: # recursively insert to right subtree\n",
    "                self.right.insert(value)      \n",
    "                \n",
    "    def inorder(self): # 1 mark for correct order - left root right \n",
    "        if self.left: # recursive 1: go left because left subtree exists\n",
    "            self.left.inorder() #1 mark for calling recursively - both left and right\n",
    "        print(self.data, end=' ') # anchor/terminating case\n",
    "        if self.right: # recursive 2: go right because right subtree exists\n",
    "            self.right.inorder()\n",
    "            \n",
    "            \n",
    "#main\n",
    "tree1 = BST(queue1.dequeue()) #1 mark for initialising Tree with Queue's fist dequeue() value\n",
    "while not queue1.is_empty(): #1 mark for looping through to dequeue all items\n",
    "    tree1.insert(queue1.dequeue())\n",
    "    \n",
    "tree1.inorder() #1 mark for correct output"
   ]
  },
  {
   "cell_type": "code",
   "execution_count": null,
   "metadata": {},
   "outputs": [],
   "source": []
  }
 ],
 "metadata": {
  "kernelspec": {
   "display_name": "Python 3",
   "language": "python",
   "name": "python3"
  },
  "language_info": {
   "codemirror_mode": {
    "name": "ipython",
    "version": 3
   },
   "file_extension": ".py",
   "mimetype": "text/x-python",
   "name": "python",
   "nbconvert_exporter": "python",
   "pygments_lexer": "ipython3",
   "version": "3.6.4"
  }
 },
 "nbformat": 4,
 "nbformat_minor": 2
}
