{
 "cells": [
  {
   "cell_type": "code",
   "execution_count": null,
   "metadata": {},
   "outputs": [],
   "source": [
    "def task1_1(filename):\n",
    "    return list( map( lambda x: x.strip(),open(filename)))"
   ]
  },
  {
   "cell_type": "code",
   "execution_count": null,
   "metadata": {},
   "outputs": [],
   "source": [
    "result=task1_1(\"CARPLATES.txt\")\n",
    "print(result, len(result))"
   ]
  },
  {
   "cell_type": "code",
   "execution_count": null,
   "metadata": {},
   "outputs": [],
   "source": [
    "def task1_2(L):\n",
    "    def qs(L):\n",
    "        if len(L) < 2:\n",
    "            return L\n",
    "        else:\n",
    "            pivot = L[0]\n",
    "            left =[]\n",
    "            right = []\n",
    "            for item in L[1:]:\n",
    "                if item[1:3] < pivot[1:3]:\n",
    "                    left.append(item)\n",
    "                else:\n",
    "                    right.append(item)\n",
    "            return qs(left) + [pivot] + qs(right)\n",
    "    return qs(L)"
   ]
  },
  {
   "cell_type": "code",
   "execution_count": null,
   "metadata": {},
   "outputs": [],
   "source": [
    "task1_2(result)"
   ]
  },
  {
   "cell_type": "code",
   "execution_count": 53,
   "metadata": {},
   "outputs": [],
   "source": [
    "## using re\n",
    "import re, string\n",
    "def gen_check(data):\n",
    "    valid_letters=list(string.ascii_uppercase)\n",
    "    output_letters =\"AZYXUTSRPMLKJHGEDCB\"\n",
    "    weights = [9, 4, 5, 4, 3, 2]\n",
    "    pattern =r\"S([A-HJNP-Z]{2})(\\d{1,4})\"\n",
    "    ma = re.search(pattern,data)\n",
    "    if ma:\n",
    "        values = [ i for i in map ( lambda x: valid_letters.index(x)+1, ma.group(1))] \\\n",
    "        + list(map(int,\"0\"*(4-len(ma.group(2)))+ma.group(2)))\n",
    "        return output_letters [ \n",
    "            sum([values[i]*weights[i] for i in range(len(values))])%len(output_letters)\n",
    "        ]\n",
    "    else:\n",
    "        return \"error\""
   ]
  },
  {
   "cell_type": "code",
   "execution_count": 55,
   "metadata": {},
   "outputs": [],
   "source": [
    "import string\n",
    "def task1_3(input_str):\n",
    "    \n",
    "    valid_letters=list(string.ascii_uppercase)\n",
    "\n",
    "    letters = input_str[1:3]\n",
    "    digits = input_str[3:]\n",
    "    # check 1st 3 chars, S\n",
    "    if input_str[0] != \"S\":\n",
    "        return \"error\" # 1st letter error\n",
    "    if letters.isalpha() and \"O\" not in letters and \"I\" not in letters:\n",
    "        ##convert the 2 letters into numbers\n",
    "        numbers_list=  list(map(lambda x: valid_letters.index(x)+1, letters))\n",
    "\n",
    "        if digits.isdigit() and 0 < len(digits ) < 5:\n",
    "            # padding\n",
    "            padding = \"0\"*(4-len(digits))\n",
    "            digits = padding+digits\n",
    "            numbers_list += [ int(d) for d in digits]\n",
    "            weights = [9, 4, 5, 4, 3, 2]\n",
    "            check_sum = 0\n",
    "            for i in range(len(weights)):\n",
    "                check_sum += weights[i] * numbers_list[i]\n",
    "            check_sum_letters = \"AZYXUTSRPMLKJHGEDCB\"\n",
    "            return check_sum_letters[check_sum % 19]\n",
    "       \n",
    "        else:\n",
    "            return \"error\" # digits error\n",
    "    else:\n",
    "        return \"error\" # letters error\n",
    "\n"
   ]
  },
  {
   "cell_type": "code",
   "execution_count": 59,
   "metadata": {},
   "outputs": [
    {
     "data": {
      "text/plain": [
       "('B', 'B')"
      ]
     },
     "execution_count": 59,
     "metadata": {},
     "output_type": "execute_result"
    }
   ],
   "source": [
    "plate = \"SYZ92\"\n",
    "gen_check(plate), task1_3(plate)"
   ]
  },
  {
   "cell_type": "code",
   "execution_count": null,
   "metadata": {},
   "outputs": [],
   "source": [
    "def task1_4(input_filename,valid_filename, invalid_filename):\n",
    "    data = task1_1(input_filename)\n",
    "    valid_file = open(valid_filename,\"w\")\n",
    "    invalid_file = open(invalid_filename,\"w\")\n",
    "    for plate in data:\n",
    "        check = task1_3(plate)\n",
    "        if check == \"error\":\n",
    "            invalid_file.write(plate+\"\\n\")\n",
    "        else:\n",
    "            valid_file.write(plate+check+\"\\n\")\n",
    "    valid_file.close()\n",
    "    invalid_file.close()\n"
   ]
  },
  {
   "cell_type": "code",
   "execution_count": null,
   "metadata": {},
   "outputs": [],
   "source": [
    "task1_4(\"CARPLATES.txt\",\"V.TXT\", \"IV.TXT\")"
   ]
  },
  {
   "cell_type": "markdown",
   "metadata": {},
   "source": [
    "___"
   ]
  },
  {
   "cell_type": "code",
   "execution_count": null,
   "metadata": {},
   "outputs": [],
   "source": [
    "## Task 2\n",
    "\n",
    "class Queue:\n",
    "    def __init__(self):\n",
    "        self.max_size = 5\n",
    "        self.array = [ None for _ in range(self.max_size)]\n",
    "        self.front = 0 # first item in queue\n",
    "        self.rear = -1 # last item in queue\n",
    "\n",
    "    def is_empty(self):\n",
    "        return self.rear == -1\n",
    "    \n",
    "    def is_full(self):\n",
    "        return (self.rear+1)%self.max_size == self.front\n",
    "    \n",
    "    def __repr__(self):\n",
    "        ret = []\n",
    "        if self.is_empty():\n",
    "            return f\"{ret} {self.front}/{self.rear}\"\n",
    "        cur = self.front\n",
    "        while True:\n",
    "            ret.append(self.array[cur])\n",
    "            cur = (cur+1) % self.max_size\n",
    "            if cur == self.front:\n",
    "                break\n",
    "        return f\"{ret} {self.front}/{self.rear}\"\n",
    "    \n",
    "    def enqueue(self, data):\n",
    "        ## empty and full condition is the same\n",
    "        if self.is_empty() or not self.is_full():\n",
    "            self.rear = (self.rear+1)%self.max_size\n",
    "            self.array[self.rear] = data\n",
    "        else: # full\n",
    "            pass\n",
    "\n",
    "\n",
    "    def dequeue(self):\n",
    "        if self.is_empty():\n",
    "            return None\n",
    "        ret = self.array[self.front]\n",
    "        self.array[self.front] = None\n",
    "        if self.front == self.rear: ## last item in queue\n",
    "            self.front = 0\n",
    "            self.rear = -1\n",
    "        else:\n",
    "            self.front = (self.front+1)%self.max_size\n",
    "        return ret"
   ]
  },
  {
   "cell_type": "code",
   "execution_count": null,
   "metadata": {},
   "outputs": [],
   "source": [
    "queue1 = Queue()\n",
    "print(queue1)\n",
    "\n",
    "queue1.enqueue('Juice')\n",
    "queue1.enqueue('Milk')\n",
    "queue1.enqueue('Chips')\n",
    "queue1.dequeue()\n",
    "print(queue1)\n",
    "queue1.dequeue()\n",
    "queue1.dequeue()\n",
    "print(queue1)\n",
    "\n",
    "queue1.enqueue('Eggs')\n",
    "queue1.enqueue('Bread')\n",
    "queue1.enqueue('Cereal')\n",
    "queue1.enqueue('Pizza')\n",
    "queue1.dequeue()\n",
    "queue1.dequeue()\n",
    "queue1.enqueue('Water')\n",
    "queue1.enqueue('Fruits')\n",
    "queue1.enqueue('Yoghurt')\n",
    "print(queue1)"
   ]
  }
 ],
 "metadata": {
  "kernelspec": {
   "display_name": "Python 3",
   "language": "python",
   "name": "python3"
  },
  "language_info": {
   "codemirror_mode": {
    "name": "ipython",
    "version": 3
   },
   "file_extension": ".py",
   "mimetype": "text/x-python",
   "name": "python",
   "nbconvert_exporter": "python",
   "pygments_lexer": "ipython3",
   "version": "3.6.4"
  },
  "orig_nbformat": 4
 },
 "nbformat": 4,
 "nbformat_minor": 2
}
