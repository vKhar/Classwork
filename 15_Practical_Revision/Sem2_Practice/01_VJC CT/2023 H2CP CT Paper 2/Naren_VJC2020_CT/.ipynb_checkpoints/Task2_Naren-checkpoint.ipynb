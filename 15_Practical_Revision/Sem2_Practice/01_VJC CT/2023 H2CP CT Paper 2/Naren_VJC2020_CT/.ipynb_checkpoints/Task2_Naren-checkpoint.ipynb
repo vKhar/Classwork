{
 "cells": [
  {
   "cell_type": "code",
   "execution_count": 20,
   "id": "8b2930cc",
   "metadata": {},
   "outputs": [],
   "source": [
    "# task 2.1\n",
    "class Tree:\n",
    "    def __init__(self, data):\n",
    "        self.data = data\n",
    "        self.left_pointer = None\n",
    "        self.right_pointer = None\n",
    "        self.output = []\n",
    "\n",
    "    def insert(self, value):\n",
    "        new_node = Tree(value)  # Create a new node with the given value\n",
    "        if value <= self.data:\n",
    "            if self.left_pointer is None:\n",
    "                self.left_pointer = new_node\n",
    "            else:\n",
    "                self.left_pointer.insert(value)\n",
    "        else:\n",
    "            if self.right_pointer is None:\n",
    "                self.right_pointer = new_node\n",
    "            else:\n",
    "                self.right_pointer.insert(value)\n",
    "    def print_tree(self) :\n",
    "        def output_node(node) :\n",
    "            if root.left_pointer != None and root.right_pointer != None :\n",
    "                print(f\"Data : {root.data}\\nRightPointer : {root.right_pointer.data}\\nLeftPointer : {root.left_pointer.data}\")\n",
    "            elif root.left_pointer == None and root.right_pointer != None :\n",
    "                print(f\"Data : {root.data}\\nRightPointer : {root.right_pointer.data}\\nLeftPointer : {root.left_pointer}\")\n",
    "            elif root.left_pointer !=  None and root.right_pointer == None :\n",
    "                print(f\"Data : {root.data}\\nRightPointer : {root.right_pointer}\\nLeftPointer : {root.left_pointer.data}\")\n",
    "            elif root.left_pointer == None and root.right_pointer == None :\n",
    "                print(f\"Data : {root.data}\\nRightPointer: {root.right_pointer}\\nLeftPointer : {root.left_pointer}\")\n",
    "        root = self\n",
    "        output_node(root)\n",
    "        print(\"----------------------\\n\")\n",
    "        if root.left_pointer == None and root.right_pointer == None :\n",
    "            #self.output.append([root.data, None, None])\n",
    "            return \n",
    "        elif root.left_pointer == None and root.right_pointer != None :\n",
    "            root.right_pointer.print_tree()\n",
    "        elif root.left_pointer != None and root.right_pointer == None :\n",
    "            root.left_pointer.print_tree()\n",
    "        elif root.left_pointer != None and root.right_pointer != None :\n",
    "            root.left_pointer.print_tree()\n",
    "            root.right_pointer.print_tree()\n",
    "        \n",
    "#????"
   ]
  },
  {
   "cell_type": "code",
   "execution_count": 21,
   "id": "31e4435f",
   "metadata": {
    "scrolled": true
   },
   "outputs": [],
   "source": [
    "dd = Tree(2)\n",
    "dd.insert(1)"
   ]
  },
  {
   "cell_type": "code",
   "execution_count": 24,
   "id": "55674fa9",
   "metadata": {},
   "outputs": [
    {
     "name": "stdout",
     "output_type": "stream",
     "text": [
      "[90, 80, 75, 70, 65, 60, 55, 45, 40, 35, 30, 25, 20, 10]\n"
     ]
    }
   ],
   "source": [
    "# task 2.2\n",
    "def quicksort(lst):\n",
    "    if len(lst) < 2 :\n",
    "        return lst\n",
    "    else :\n",
    "        pivot = lst[0]\n",
    "        left = []\n",
    "        right = []\n",
    "        for i in lst[1:] :\n",
    "            if i > pivot :\n",
    "                left.append(i)\n",
    "            else :\n",
    "                right.append(i)\n",
    "        return quicksort(left) + [pivot] + quicksort(right)\n",
    "\n",
    "#test\n",
    "sorted_data = quicksort([25, 70, 20, 90, 55, 45, 65, 35, 75, 40, 30, 60, 10, 80])\n",
    "print(sorted_data)"
   ]
  },
  {
   "cell_type": "code",
   "execution_count": 25,
   "id": "b4aca6a9",
   "metadata": {
    "scrolled": true
   },
   "outputs": [
    {
     "name": "stdout",
     "output_type": "stream",
     "text": [
      "Data : 90\n",
      "RightPointer : None\n",
      "LeftPointer : 80\n",
      "----------------------\n",
      "\n",
      "Data : 80\n",
      "RightPointer : None\n",
      "LeftPointer : 75\n",
      "----------------------\n",
      "\n",
      "Data : 75\n",
      "RightPointer : None\n",
      "LeftPointer : 70\n",
      "----------------------\n",
      "\n",
      "Data : 70\n",
      "RightPointer : None\n",
      "LeftPointer : 65\n",
      "----------------------\n",
      "\n",
      "Data : 65\n",
      "RightPointer : None\n",
      "LeftPointer : 60\n",
      "----------------------\n",
      "\n",
      "Data : 60\n",
      "RightPointer : None\n",
      "LeftPointer : 55\n",
      "----------------------\n",
      "\n",
      "Data : 55\n",
      "RightPointer : None\n",
      "LeftPointer : 45\n",
      "----------------------\n",
      "\n",
      "Data : 45\n",
      "RightPointer : None\n",
      "LeftPointer : 40\n",
      "----------------------\n",
      "\n",
      "Data : 40\n",
      "RightPointer : None\n",
      "LeftPointer : 35\n",
      "----------------------\n",
      "\n",
      "Data : 35\n",
      "RightPointer : None\n",
      "LeftPointer : 30\n",
      "----------------------\n",
      "\n",
      "Data : 30\n",
      "RightPointer : None\n",
      "LeftPointer : 25\n",
      "----------------------\n",
      "\n",
      "Data : 25\n",
      "RightPointer : None\n",
      "LeftPointer : 20\n",
      "----------------------\n",
      "\n",
      "Data : 20\n",
      "RightPointer : None\n",
      "LeftPointer : 10\n",
      "----------------------\n",
      "\n",
      "Data : 10\n",
      "RightPointer: None\n",
      "LeftPointer : None\n",
      "----------------------\n",
      "\n"
     ]
    }
   ],
   "source": [
    "# task 2.3\n",
    "tree = Tree(sorted_data[0])\n",
    "for value in sorted_data[1:]:\n",
    "    tree.insert(value)\n",
    "\n",
    "tree.print_tree()"
   ]
  },
  {
   "cell_type": "code",
   "execution_count": null,
   "id": "1d6dd29b",
   "metadata": {},
   "outputs": [],
   "source": []
  }
 ],
 "metadata": {
  "kernelspec": {
   "display_name": "Python 3 (ipykernel)",
   "language": "python",
   "name": "python3"
  },
  "language_info": {
   "codemirror_mode": {
    "name": "ipython",
    "version": 3
   },
   "file_extension": ".py",
   "mimetype": "text/x-python",
   "name": "python",
   "nbconvert_exporter": "python",
   "pygments_lexer": "ipython3",
   "version": "3.9.13"
  }
 },
 "nbformat": 4,
 "nbformat_minor": 5
}
