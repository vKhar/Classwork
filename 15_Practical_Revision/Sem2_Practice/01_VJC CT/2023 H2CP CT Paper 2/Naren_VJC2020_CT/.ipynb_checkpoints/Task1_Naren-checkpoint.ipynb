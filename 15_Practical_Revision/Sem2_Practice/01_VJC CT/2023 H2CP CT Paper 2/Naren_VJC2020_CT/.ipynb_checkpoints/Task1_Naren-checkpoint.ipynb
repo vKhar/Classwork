{
 "cells": [
  {
   "cell_type": "code",
   "execution_count": 1,
   "id": "837df062",
   "metadata": {},
   "outputs": [],
   "source": [
    "## Task1.1\n",
    "\n",
    "def encrypt_char(char):\n",
    "    ascii_value = ord(char)  # Get the ASCII value of the character\n",
    "    \n",
    "    if 'A' <= char <= 'Z':\n",
    "        # Encrypt uppercase letters\n",
    "        encrypted_ascii = (ascii_value - 65 + 13) % 26 + 65\n",
    "    elif 'a' <= char <= 'z':\n",
    "        # Encrypt lowercase letters\n",
    "        encrypted_ascii = (ascii_value - 97 + 13) % 26 + 97\n",
    "    else:\n",
    "        # Non-letter character, return the same character\n",
    "        encrypted_ascii = ascii_value\n",
    "    \n",
    "    return chr(encrypted_ascii)  # Convert the encrypted ASCII value back to a character\n"
   ]
  },
  {
   "cell_type": "code",
   "execution_count": 5,
   "id": "8d7fc184",
   "metadata": {
    "scrolled": true
   },
   "outputs": [
    {
     "name": "stdout",
     "output_type": "stream",
     "text": [
      "\n",
      "Enter a character: A\n",
      "Encrypted character: N\n",
      "\n",
      "Enter a character: a\n",
      "Encrypted character: n\n",
      "\n",
      "Enter a character: #\n",
      "Encrypted character: #\n",
      "\n",
      "Enter a character: 3\n",
      "Encrypted character: 3\n"
     ]
    }
   ],
   "source": [
    "# task 1.2\n",
    "for i in range(4) :\n",
    "    character = input(\"\\nEnter a character: \")\n",
    "    encrypted_character = encrypt_char(character)\n",
    "    print(\"Encrypted character:\", encrypted_character)"
   ]
  },
  {
   "cell_type": "code",
   "execution_count": 6,
   "id": "0956fda5",
   "metadata": {},
   "outputs": [
    {
     "name": "stdout",
     "output_type": "stream",
     "text": [
      "Enter a text message: Why did the chicken cross 20 Marine Vista?\n",
      "Encrypted message: Jul qvq gur puvpxra pebff 20 Znevar Ivfgn?\n"
     ]
    }
   ],
   "source": [
    "# task 1.3\n",
    "\n",
    "message = input(\"Enter a text message: \")\n",
    "# Encrypt each character in the message\n",
    "encrypted_message = \"\"\n",
    "for char in message:\n",
    "    encrypted_message += encrypt_char(char)\n",
    "\n",
    "# Output the encrypted message\n",
    "print(\"Encrypted message:\", encrypted_message)"
   ]
  }
 ],
 "metadata": {
  "kernelspec": {
   "display_name": "Python 3 (ipykernel)",
   "language": "python",
   "name": "python3"
  },
  "language_info": {
   "codemirror_mode": {
    "name": "ipython",
    "version": 3
   },
   "file_extension": ".py",
   "mimetype": "text/x-python",
   "name": "python",
   "nbconvert_exporter": "python",
   "pygments_lexer": "ipython3",
   "version": "3.9.13"
  }
 },
 "nbformat": 4,
 "nbformat_minor": 5
}
