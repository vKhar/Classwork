{
 "cells": [
  {
   "cell_type": "code",
   "execution_count": 4,
   "id": "e936fc71",
   "metadata": {},
   "outputs": [
    {
     "ename": "OperationalError",
     "evalue": "table Employee already exists",
     "output_type": "error",
     "traceback": [
      "\u001b[1;31m---------------------------------------------------------------------------\u001b[0m",
      "\u001b[1;31mOperationalError\u001b[0m                          Traceback (most recent call last)",
      "\u001b[1;32m~\\AppData\\Local\\Temp\\ipykernel_19648\\3659150142.py\u001b[0m in \u001b[0;36m<module>\u001b[1;34m\u001b[0m\n\u001b[0;32m      9\u001b[0m \u001b[1;33m\u001b[0m\u001b[0m\n\u001b[0;32m     10\u001b[0m \u001b[1;31m# Create the Employee table\u001b[0m\u001b[1;33m\u001b[0m\u001b[1;33m\u001b[0m\u001b[0m\n\u001b[1;32m---> 11\u001b[1;33m cursor.execute('''\n\u001b[0m\u001b[0;32m     12\u001b[0m     CREATE TABLE Employee (\n\u001b[0;32m     13\u001b[0m         \u001b[0mEmployeeID\u001b[0m \u001b[0mTEXT\u001b[0m \u001b[0mPRIMARY\u001b[0m \u001b[0mKEY\u001b[0m\u001b[1;33m,\u001b[0m\u001b[1;33m\u001b[0m\u001b[1;33m\u001b[0m\u001b[0m\n",
      "\u001b[1;31mOperationalError\u001b[0m: table Employee already exists"
     ]
    }
   ],
   "source": [
    "# task 3.1\n",
    "import sqlite3\n",
    "\n",
    "# Connect to the database (creates a new database if it doesn't exist)\n",
    "conn = sqlite3.connect('COMPANY.db')\n",
    "\n",
    "# Create a cursor object to execute SQL commands\n",
    "cursor = conn.cursor()\n",
    "\n",
    "# Create the Employee table\n",
    "cursor.execute('''\n",
    "    CREATE TABLE Employee (\n",
    "        EmployeeID TEXT PRIMARY KEY,\n",
    "        Employee_name TEXT,\n",
    "        Home_address TEXT\n",
    "    )\n",
    "''')\n",
    "\n",
    "# Create the Department table\n",
    "cursor.execute('''\n",
    "    CREATE TABLE Department (\n",
    "        DepartmentID TEXT PRIMARY KEY,\n",
    "        Department_name TEXT,\n",
    "        Location TEXT,\n",
    "        Manager TEXT\n",
    "    )\n",
    "''')\n",
    "\n",
    "# Create the Employee_deployment table\n",
    "cursor.execute('''\n",
    "    CREATE TABLE Employee_deployment (\n",
    "        EmployeeID TEXT,\n",
    "        DepartmentID TEXT,\n",
    "        Date_of_joining TEXT,\n",
    "        Active BOOLEAN,\n",
    "        PRIMARY KEY (EmployeeID, DepartmentID, Date_of_joining),\n",
    "        FOREIGN KEY (EmployeeID) REFERENCES Employee (EmployeeID),\n",
    "        FOREIGN KEY (DepartmentID) REFERENCES Department (DepartmentID)\n",
    "    )\n",
    "''')\n",
    "\n",
    "# Commit the changes and close the connection\n",
    "conn.commit()\n",
    "conn.close()"
   ]
  },
  {
   "cell_type": "code",
   "execution_count": 5,
   "id": "fb82c919",
   "metadata": {},
   "outputs": [],
   "source": [
    "import sqlite3\n",
    "\n",
    "def read_data_and_insert(table_name, file_path):\n",
    "    with open(file_path, 'r') as file:\n",
    "        lines = file.readlines()\n",
    "\n",
    "    # Connect to the database\n",
    "    conn = sqlite3.connect('COMPANY.db')\n",
    "    cursor = conn.cursor()\n",
    "\n",
    "    # Process each line and insert the data into the table\n",
    "    for line in lines[1:]:\n",
    "        data = line.strip().split(',')\n",
    "        if len(data) == 3 :\n",
    "            cursor.execute(f\"INSERT INTO {table_name} VALUES (?, ?, ?)\", data)\n",
    "        elif len(data) == 4 :\n",
    "            cursor.execute(f\"INSERT INTO {table_name} VALUES (?, ?, ?, ?)\", data)\n",
    "    # Commit the changes and close the connection\n",
    "    conn.commit()\n",
    "    conn.close()\n",
    "\n",
    "# Insert data into the Employee table\n",
    "read_data_and_insert('Employee', 'EMPLOYEE.txt')\n",
    "\n",
    "# Insert data into the Department table\n",
    "read_data_and_insert('Department', 'DEPARTMENT.txt')\n",
    "\n",
    "# Insert data into the Employee_deployment table\n",
    "read_data_and_insert('Employee_deployment', 'EMPLOYEE_DEPLOYMENT.txt')\n"
   ]
  },
  {
   "cell_type": "code",
   "execution_count": 6,
   "id": "b9f2466f",
   "metadata": {},
   "outputs": [
    {
     "name": "stdout",
     "output_type": "stream",
     "text": [
      "Enter the employee number: E101\n",
      "Employee E101 has been deployed in the following departments:\n",
      "Department: Operations, Active: active\n"
     ]
    }
   ],
   "source": [
    "import sqlite3\n",
    "\n",
    "def search_departments(employee_id):\n",
    "    # Connect to the database\n",
    "    conn = sqlite3.connect('COMPANY.db')\n",
    "    cursor = conn.cursor()\n",
    "\n",
    "    # Execute the query to retrieve the departments for the employee\n",
    "    cursor.execute('''\n",
    "        SELECT Department.Department_name, Employee_deployment.Active\n",
    "        FROM Employee_deployment\n",
    "        JOIN Department ON Employee_deployment.DepartmentID = Department.DepartmentID\n",
    "        WHERE Employee_deployment.EmployeeID = ?\n",
    "    ''', (employee_id,))\n",
    "\n",
    "    # Fetch all the results\n",
    "    results = cursor.fetchall()\n",
    "\n",
    "    # Close the connection\n",
    "    conn.close()\n",
    "\n",
    "    return results\n",
    "\n",
    "# Input the employee number\n",
    "employee_id = input(\"Enter the employee number: \")\n",
    "\n",
    "# Search for departments and active status for the employee\n",
    "departments = search_departments(employee_id)\n",
    "\n",
    "# Display the results\n",
    "if departments:\n",
    "    print(f\"Employee {employee_id} has been deployed in the following departments:\")\n",
    "    for department in departments:\n",
    "        department_name, active_status = department\n",
    "        active_status_text = \"active\" if active_status else \"inactive\"\n",
    "        print(f\"Department: {department_name}, Active: {active_status_text}\")\n",
    "else:\n",
    "    print(f\"No departments found for employee {employee_id}.\")"
   ]
  },
  {
   "cell_type": "code",
   "execution_count": null,
   "id": "298bb654",
   "metadata": {},
   "outputs": [],
   "source": []
  }
 ],
 "metadata": {
  "kernelspec": {
   "display_name": "Python 3 (ipykernel)",
   "language": "python",
   "name": "python3"
  },
  "language_info": {
   "codemirror_mode": {
    "name": "ipython",
    "version": 3
   },
   "file_extension": ".py",
   "mimetype": "text/x-python",
   "name": "python",
   "nbconvert_exporter": "python",
   "pygments_lexer": "ipython3",
   "version": "3.9.13"
  }
 },
 "nbformat": 4,
 "nbformat_minor": 5
}
