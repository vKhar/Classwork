{
 "cells": [
  {
   "cell_type": "code",
   "execution_count": 1,
   "metadata": {},
   "outputs": [],
   "source": [
    "def rot13(char):\n",
    "    if not char.isalpha():\n",
    "        return char\n",
    "    else:\n",
    "        ascii_val = ord(char)\n",
    "        if char.islower():\n",
    "            new_val = ((ascii_val - 97 + 13) % 26) + 97\n",
    "        else:\n",
    "            new_val = ((ascii_val - 65 + 13) % 26) + 65\n",
    "        return new_val"
   ]
  },
  {
   "cell_type": "code",
   "execution_count": 2,
   "metadata": {},
   "outputs": [
    {
     "name": "stdout",
     "output_type": "stream",
     "text": [
      "Enter a character: A\n",
      "Encrypted character: N\n",
      "Enter a character: a\n",
      "Encrypted character: n\n",
      "Enter a character: 3\n",
      "Character not encrypted: 3\n",
      "Enter a character: #\n",
      "Character not encrypted: #\n"
     ]
    }
   ],
   "source": [
    "for i in range(4):\n",
    "    input_char = input(\"Enter a character: \")\n",
    "    encrypted_char = rot13(input_char)\n",
    "    if encrypted_char == input_char:\n",
    "        print(\"Character not encrypted:\", input_char)\n",
    "    else:\n",
    "        encrypted_char = chr(rot13(input_char))\n",
    "        print(\"Encrypted character:\", encrypted_char)\n"
   ]
  },
  {
   "cell_type": "code",
   "execution_count": 3,
   "metadata": {},
   "outputs": [
    {
     "name": "stdout",
     "output_type": "stream",
     "text": [
      "Enter a text message: Why did the chicken cross 20 Marine Vista?\n",
      "Encrypted message: Jul qvq gur puvpxra pebff 20 Znevar Ivfgn?\n"
     ]
    }
   ],
   "source": [
    "input_text = input(\"Enter a text message: \")\n",
    "encrypted_text = \"\"\n",
    "for char in input_text:\n",
    "    encrypted_char = rot13(char)\n",
    "    if encrypted_char == char:\n",
    "        encrypted_text += char\n",
    "    else:\n",
    "        encrypted_char = chr(rot13(char))\n",
    "        encrypted_text += encrypted_char\n",
    "\n",
    "print(\"Encrypted message:\", encrypted_text)\n"
   ]
  },
  {
   "cell_type": "code",
   "execution_count": null,
   "metadata": {},
   "outputs": [],
   "source": []
  }
 ],
 "metadata": {
  "kernelspec": {
   "display_name": "Python 3",
   "language": "python",
   "name": "python3"
  },
  "language_info": {
   "codemirror_mode": {
    "name": "ipython",
    "version": 3
   },
   "file_extension": ".py",
   "mimetype": "text/x-python",
   "name": "python",
   "nbconvert_exporter": "python",
   "pygments_lexer": "ipython3",
   "version": "3.6.4"
  }
 },
 "nbformat": 4,
 "nbformat_minor": 2
}
