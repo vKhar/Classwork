{
 "cells": [
  {
   "cell_type": "code",
   "execution_count": 21,
   "metadata": {
    "collapsed": true
   },
   "outputs": [],
   "source": [
    "#Task 3.1\n",
    "\n",
    "import sqlite3\n",
    "\n",
    "connection = sqlite3.connect(\"COMPANY.db\")\n",
    "\n",
    "\n",
    "connection.execute(\"\"\"CREATE TABLE IF NOT EXISTS Employee (\n",
    "                        EmployeeID TEXT PRIMARY KEY,\n",
    "                        Employee_name TEXT NOT NULL,\n",
    "                        Home_address TEXT NOT NULL\n",
    "                        )\"\"\")\n",
    "\n",
    "connection.execute(\"\"\"CREATE TABLE IF NOT EXISTS Department (\n",
    "                        DepartmentID TEXT PRIMARY KEY,\n",
    "                        Department_name TEXT NOT NULL,\n",
    "                        Location TEXT NOT NULL,\n",
    "                        Manager TEXT NOT NULL,\n",
    "                        FOREIGN KEY (Manager) REFERENCES Employee(EmployeeID)\n",
    "                        )\"\"\")\n",
    "\n",
    "connection.execute(\"\"\"CREATE TABLE IF NOT EXISTS Employee_deployment (\n",
    "                        EmployeeID TEXT NOT NULL,\n",
    "                        DepartmentID TEXT NOT NULL,\n",
    "                        Date_of_joining TEXT NOT NULL,\n",
    "                        ACTIVE INTEGER NOT NULL,\n",
    "                        PRIMARY KEY(EmployeeID, DepartmentID, Date_of_joining)\n",
    "                        FOREIGN KEY (EmployeeID) REFERENCES Employee(EmployeeID)\n",
    "                        FOREIGN KEY (DepartmentID) REFERENCES Department(DepartmentID)\n",
    "                        )\"\"\")\n",
    "\n",
    "connection.commit()\n",
    "connection.close()\n"
   ]
  },
  {
   "cell_type": "code",
   "execution_count": 22,
   "metadata": {},
   "outputs": [],
   "source": [
    "# Task 3.2\n",
    "\n",
    "\n",
    "import sqlite3, csv\n",
    "\n",
    "connection = sqlite3.connect(\"COMPANY.db\")\n",
    "\n",
    "with open (\"EMPLOYEE.txt\") as f:\n",
    "    data = csv.reader(f)\n",
    "    header = next(data)\n",
    "    for row in data:\n",
    "        connection.execute(\"INSERT INTO Employee (EmployeeID, Employee_name, Home_address) VALUES (?,?,?)\", \n",
    "                           tuple(row))    \n",
    "\n",
    "with open (\"DEPARTMENT.txt\") as f:\n",
    "    data = csv.reader(f)\n",
    "    header = next(data)\n",
    "    for row in data:\n",
    "        connection.execute(\"INSERT INTO Department (DepartmentID, Department_name, Location, Manager) VALUES (?,?,?,?)\", \n",
    "                           tuple(row))\n",
    "\n",
    "with open (\"EMPLOYEE_DEPLOYMENT.txt\") as f:\n",
    "    data = csv.reader(f)\n",
    "    header = next(data)\n",
    "    for row in data:\n",
    "        connection.execute(\"\"\"INSERT INTO Employee_deployment (EmployeeID, DepartmentID, Date_of_joining, Active) \n",
    "                           VALUES (?,?,?,?)\"\"\", (row[0],row[1],row[2], 1 if row[3] == 'TRUE' else 0))\n",
    "\n",
    "\n",
    "connection.commit()\n",
    "connection.close()"
   ]
  },
  {
   "cell_type": "code",
   "execution_count": 13,
   "metadata": {},
   "outputs": [
    {
     "name": "stdout",
     "output_type": "stream",
     "text": [
      "Please enter employee number: E108\n",
      "Department\n",
      "Operations: Inactive\n",
      "Sales: Active\n"
     ]
    }
   ],
   "source": [
    "#Task 3.3\n",
    "\n",
    "import sqlite3, csv\n",
    "\n",
    "connection = sqlite3.connect(\"COMPANY.db\")\n",
    "\n",
    "employee_id = input(\"Please enter employee number: \")\n",
    "\n",
    "cursor = connection.execute(\"\"\"SELECT Department.Department_name, Employee_deployment.Active\n",
    "                              FROM Employee, Department, Employee_deployment \n",
    "                              WHERE Employee.EmployeeID = Employee_deployment.EmployeeID and\n",
    "                                    Department.DepartmentID = Employee_deployment.DepartmentID and\n",
    "                                    Employee.EmployeeID = ?\n",
    "                            \"\"\", (employee_id,))\n",
    "\n",
    "dept = list(cursor)\n",
    "print(\"Department\")\n",
    "for row in dept:\n",
    "    print(\"{}: {}\".format(row[0], \"Active\" if row[1] == 1 else \"Inactive\"))\n",
    "\n",
    "connection.commit()\n",
    "connection.close()"
   ]
  }
 ],
 "metadata": {
  "kernelspec": {
   "display_name": "Python 3",
   "language": "python",
   "name": "python3"
  },
  "language_info": {
   "codemirror_mode": {
    "name": "ipython",
    "version": 3
   },
   "file_extension": ".py",
   "mimetype": "text/x-python",
   "name": "python",
   "nbconvert_exporter": "python",
   "pygments_lexer": "ipython3",
   "version": "3.6.4"
  }
 },
 "nbformat": 4,
 "nbformat_minor": 2
}
