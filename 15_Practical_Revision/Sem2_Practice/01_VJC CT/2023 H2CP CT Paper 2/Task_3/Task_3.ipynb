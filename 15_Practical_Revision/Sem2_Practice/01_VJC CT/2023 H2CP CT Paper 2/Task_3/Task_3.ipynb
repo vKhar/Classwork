{
 "cells": [
  {
   "cell_type": "code",
   "execution_count": null,
   "metadata": {},
   "outputs": [],
   "source": [
    "# task 3.1\n",
    "import sqlite3\n",
    "\n",
    "con = sqlite3.connect(\"company.db\")\n",
    "con.execute(\"\"\"\n",
    "CREATE TABLE \"Employee\" (\n",
    "\"EmployeeID\" TEXT NOT NULL,\n",
    "\"Employee_name\" TEXT NOT NULL,\n",
    "\"Home_address\" TEXT NOT NULL,\n",
    "PRIMARY KEY(\"EmployeeID\")\n",
    ");\n",
    "\"\"\")\n",
    "\n",
    "con.execute(\"\"\"\n",
    "CREATE TABLE \"Department\" (\n",
    "\"DepartmentID\" TEXT NOT NULL,\n",
    "\"Department_name\" TEXT NOT NULL,\n",
    "\"Location\" TEXT NOT NULL,\n",
    "\"Manager\" TEXT NOT NULL,\n",
    "PRIMARY KEY(\"DepartmentID\")\n",
    ");\n",
    "\"\"\")\n",
    "\n",
    "con.execute(\"\"\"\n",
    "CREATE TABLE \"Employee_Deployment\" (\n",
    "\"EmployeeID\" TEXT NOT NULL,\n",
    "\"DepartmentID\" TEXT NOT NULL,\n",
    "\"Date_of_joining\" TEXT NOT NULL,\n",
    "\"Active\" TEXT NOT NULL,\n",
    "FOREIGN KEY(\"EmployeeID\") REFERENCES \"Employee\"(\"EmployeeID\"),\n",
    "FOREIGN KEY(\"DepartmentID\") REFERENCES \"Department\"(\"DepartmentID\"),\n",
    "PRIMARY KEY(\"EmployeeID\",\"DepartmentID\",\"Date_of_joining\")\n",
    ");\n",
    "\"\"\")\n",
    "\n",
    "con.commit()\n",
    "con.close()"
   ]
  },
  {
   "cell_type": "code",
   "execution_count": null,
   "metadata": {},
   "outputs": [],
   "source": [
    "# 3.2\n",
    "import sqlite3\n",
    "employee_data = []\n",
    "with open(\"EMPLOYEE.txt\") as f:\n",
    "    for line in f:\n",
    "        employee_data.append(line.strip().split(\",\"))\n",
    "employee_data = employee_data[1:] # remove header\n",
    "\n",
    "con = sqlite3.connect(\"company.db\")\n",
    "for data in employee_data: # inserting into employee table\n",
    "    con.execute(\"INSERT INTO Employee VALUES (?,?,?)\", (data[0], data[1], data[2]))\n",
    "con.commit()\n",
    "\n",
    "depart_data = []\n",
    "with open(\"DEPARTMENT.txt\") as f:\n",
    "    for line in f:\n",
    "        depart_data.append(line.strip().split(\",\"))\n",
    "depart_data = depart_data[1:] # remove header\n",
    "for data in depart_data: # inserting into department table\n",
    "    con.execute(\"INSERT INTO Department VALUES (?,?,?,?)\", (data[0], data[1], data[2], data[3]))\n",
    "con.commit()\n",
    "\n",
    "employ_depart_data = []\n",
    "with open(\"EMPLOYEE_DEPLOYMENT.txt\") as f:\n",
    "    for line in f:\n",
    "        employ_depart_data.append(line.strip().split(\",\"))\n",
    "employ_depart_data = employ_depart_data[1:] # remove header\n",
    "for data in employ_depart_data:\n",
    "    con.execute(\"INSERT INTO Employee_Deployment VALUES (?,?,?,?)\", (data[0], data[1], data[2], data[3]))\n",
    "con.commit()\n",
    "\n",
    "con.close()\n"
   ]
  },
  {
   "cell_type": "code",
   "execution_count": 1,
   "metadata": {},
   "outputs": [
    {
     "name": "stdout",
     "output_type": "stream",
     "text": [
      "[('Operations', 'FALSE'), ('Sales', 'TRUE')]\n"
     ]
    }
   ],
   "source": [
    "# task 3.3\n",
    "import sqlite3\n",
    "con = sqlite3.connect(\"company.db\")\n",
    "num_input = input()\n",
    "department_list = list(con.execute(\"\"\"\n",
    "SELECT Department.Department_name, Employee_Deployment.Active FROM Department\n",
    "INNER JOIN Employee_Deployment on Employee_Deployment.DepartmentID = Department.DepartmentID\n",
    "WHERE Employee_Deployment.EmployeeID = ?\n",
    "\"\"\", (num_input, ))) \n",
    "\n",
    "print(department_list)\n"
   ]
  }
 ],
 "metadata": {
  "kernelspec": {
   "display_name": "Python 3",
   "language": "python",
   "name": "python3"
  },
  "language_info": {
   "codemirror_mode": {
    "name": "ipython",
    "version": 3
   },
   "file_extension": ".py",
   "mimetype": "text/x-python",
   "name": "python",
   "nbconvert_exporter": "python",
   "pygments_lexer": "ipython3",
   "version": "3.6.4"
  }
 },
 "nbformat": 4,
 "nbformat_minor": 2
}
