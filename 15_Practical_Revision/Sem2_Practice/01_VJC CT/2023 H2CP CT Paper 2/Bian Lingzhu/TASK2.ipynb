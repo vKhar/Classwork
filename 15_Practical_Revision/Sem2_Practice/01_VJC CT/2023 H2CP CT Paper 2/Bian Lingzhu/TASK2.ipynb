{
 "cells": [
  {
   "cell_type": "code",
   "execution_count": 32,
   "id": "6ef0fb02",
   "metadata": {},
   "outputs": [],
   "source": [
    "class Tree:\n",
    "    def __init__(self):\n",
    "        self.data = None #should be integer\n",
    "        self.left_pt = None\n",
    "        self.right_pt = None\n",
    "        \n",
    "    def get_data(self):\n",
    "        return self.data\n",
    "    \n",
    "    def set_data(self,data):\n",
    "        self.data = data\n",
    "        \n",
    "    def insert(self,data):\n",
    "        #empty tree, root is empty\n",
    "        if self.data == None:\n",
    "            self.data = data\n",
    "            return True\n",
    "        else:\n",
    "            root = self.data\n",
    "            if data < self.data:\n",
    "                if self.left_pt != None:\n",
    "                    self.left_pt.insert(data)\n",
    "                else:\n",
    "                    self.left_pt = Tree()\n",
    "                    self.left_pt.set_data(data)\n",
    "            else:\n",
    "                if self.right_pt != None:\n",
    "                    self.right_pt.insert(data)\n",
    "                else:\n",
    "                    self.right_pt = Tree()\n",
    "                    self.right_pt.set_data(data)\n",
    "            return True\n",
    "                \n",
    "    def preOrder(self):\n",
    "        if self.data == None:\n",
    "            return\n",
    "        print(self.data)\n",
    "        if self.left_pt != None:\n",
    "            self.left_pt.preOrder()\n",
    "        if self.right_pt != None:\n",
    "            self.right_pt.preOrder()\n",
    "\n"
   ]
  },
  {
   "cell_type": "code",
   "execution_count": 33,
   "id": "6841f694",
   "metadata": {},
   "outputs": [
    {
     "name": "stdout",
     "output_type": "stream",
     "text": [
      "2\n",
      "1\n",
      "3\n",
      "4\n"
     ]
    }
   ],
   "source": [
    "x = Tree()\n",
    "x.insert(2)\n",
    "x.insert(3)\n",
    "x.insert(4)\n",
    "x.insert(1)\n",
    "x.preOrder()"
   ]
  },
  {
   "cell_type": "code",
   "execution_count": 37,
   "id": "64f5c5fc",
   "metadata": {},
   "outputs": [
    {
     "data": {
      "text/plain": [
       "[10, 20, 25, 30, 35, 40, 45, 55, 60, 65, 70, 75, 80, 90]"
      ]
     },
     "execution_count": 37,
     "metadata": {},
     "output_type": "execute_result"
    }
   ],
   "source": [
    "#Task 2.3\n",
    "def quicksort(l):\n",
    "    if len(l) < 2:\n",
    "        return l\n",
    "    piv = l[0]\n",
    "    left = []\n",
    "    right = []\n",
    "    for i in range(1,len(l)):\n",
    "        if l[i] < piv:\n",
    "            left.append(l[i])\n",
    "        else:\n",
    "            right.append(l[i])\n",
    "    return quicksort(left) + [piv] + quicksort(right)\n",
    "\n",
    "quicksort([25, 70, 20, 90, 55, 45, 65, 35, 75, 40, 30, 60, 10, 80])\n",
    "            \n",
    "            "
   ]
  },
  {
   "cell_type": "code",
   "execution_count": 38,
   "id": "8c6043d2",
   "metadata": {},
   "outputs": [
    {
     "name": "stdout",
     "output_type": "stream",
     "text": [
      "10\n",
      "20\n",
      "25\n",
      "30\n",
      "35\n",
      "40\n",
      "45\n",
      "55\n",
      "60\n",
      "65\n",
      "70\n",
      "75\n",
      "80\n",
      "90\n"
     ]
    }
   ],
   "source": [
    "#Task 2.3\n",
    "tree = Tree()\n",
    "sortedList = quicksort([25, 70, 20, 90, 55, 45, 65, 35, 75, 40, 30, 60, 10, 80])\n",
    "for i in sortedList:\n",
    "    tree.insert(i)\n",
    "tree.preOrder()"
   ]
  },
  {
   "cell_type": "code",
   "execution_count": null,
   "id": "21adc13d",
   "metadata": {},
   "outputs": [],
   "source": []
  }
 ],
 "metadata": {
  "kernelspec": {
   "display_name": "Python 3 (ipykernel)",
   "language": "python",
   "name": "python3"
  },
  "language_info": {
   "codemirror_mode": {
    "name": "ipython",
    "version": 3
   },
   "file_extension": ".py",
   "mimetype": "text/x-python",
   "name": "python",
   "nbconvert_exporter": "python",
   "pygments_lexer": "ipython3",
   "version": "3.9.12"
  }
 },
 "nbformat": 4,
 "nbformat_minor": 5
}
