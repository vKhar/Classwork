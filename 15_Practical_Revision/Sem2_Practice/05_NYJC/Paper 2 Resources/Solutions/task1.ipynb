{
 "cells": [
  {
   "cell_type": "code",
   "execution_count": null,
   "metadata": {},
   "outputs": [],
   "source": [
    "## Task 1.1\n",
    "import csv, datetime\n",
    "csv_cursor = csv.reader(open(\"SUNSHINE.csv\"))\n",
    "next(csv_cursor)\n",
    "data = list(\n",
    "    filter(lambda x: x[0] < datetime.datetime(year=2023, month=1, day=1),\n",
    "    map(lambda x: (datetime.datetime.strptime(x[0],\"%Y-%m\"),float(x[1])),csv_cursor)\n",
    "    )\n",
    "    )\n",
    "\n",
    "def insert_sort(data):\n",
    "    for i in range(1, len(data)):\n",
    "        j = i\n",
    "        while j> 0 and data[j][0] < data[j-1][0]:\n",
    "            data[j], data[j-1] = data[j-1], data[j]\n",
    "            j-= 1\n",
    "        \n"
   ]
  },
  {
   "cell_type": "code",
   "execution_count": null,
   "metadata": {},
   "outputs": [],
   "source": [
    "## for verification\n",
    "insert_sort(data)\n",
    "'''\n",
    "f=open(\"sorted.csv\",\"w\")\n",
    "for record in data:\n",
    "    f.write(f\"{record[0].year},{record[0].month},{record[1]}\\n\")\n",
    "f.close()\n",
    "'''\n",
    "pass"
   ]
  },
  {
   "cell_type": "code",
   "execution_count": null,
   "metadata": {},
   "outputs": [],
   "source": [
    "from datetime import datetime\n",
    "## Task 1.2 group by year\n",
    "def mean_by_year(data):\n",
    "    cur_year = data[0][0].year\n",
    "    lowest = data[0][1]\n",
    "    highest = data[0][1]\n",
    "\n",
    "    for _date , _mean in data[1:]:\n",
    "        if _date.year  != cur_year: # change grouping\n",
    "            #print statistics for previous grouping\n",
    "            print(f\"{cur_year} : Lowest:{lowest} Highest{highest} Range:{highest-lowest:.2f}\" )\n",
    "\n",
    "            cur_year = _date.year\n",
    "            lowest = _mean\n",
    "            highest = _mean\n",
    "        else: # same grouping\n",
    "            if _mean < lowest:\n",
    "                lowest = _mean\n",
    "            if _mean > highest:\n",
    "                highest = _mean\n",
    "    else:\n",
    "        # print last group\n",
    "        print(f\"{cur_year} : Lowest:{lowest} Highest: {highest} Range:{highest-lowest:.2f}\" )"
   ]
  },
  {
   "cell_type": "code",
   "execution_count": null,
   "metadata": {},
   "outputs": [],
   "source": [
    "mean_by_year(data)"
   ]
  },
  {
   "cell_type": "code",
   "execution_count": null,
   "metadata": {},
   "outputs": [],
   "source": [
    "## Task 1.3 group by months 1, to 12\n",
    "from datetime import datetime\n",
    "def mean_by_months(data):\n",
    "    months = {} # {month:[]} ## all the means for month 1\n",
    "    for _date , _mean in data:\n",
    "        if _date.month in months:\n",
    "            months[_date.month].append(_mean)\n",
    "        else:\n",
    "            months[_date.month] = []\n",
    "    for month in months.keys():\n",
    "        print(f\"Month {month}: average daily sunshine duration 1982-2022 was { sum(months[month])/len(months[month]):.2f} hours\")\n",
    "\n",
    "    "
   ]
  },
  {
   "cell_type": "code",
   "execution_count": null,
   "metadata": {},
   "outputs": [],
   "source": [
    "mean_by_months(data)"
   ]
  },
  {
   "cell_type": "markdown",
   "metadata": {},
   "source": [
    "___ \n",
    "##### Using SQLite3"
   ]
  },
  {
   "cell_type": "code",
   "execution_count": null,
   "metadata": {},
   "outputs": [],
   "source": [
    "import sqlite3, csv\n",
    "mem = sqlite3.connect(\":memory:\")\n",
    "mem.execute(''' \n",
    "CREATE TABLE IF NOT EXISTS stats  ( \n",
    "    Year INTEGER,\n",
    "    Month INTEGER,\n",
    "    Value REAL\n",
    ")\n",
    "''')\n",
    "csv_cursor = csv.reader(open(\"SUNSHINE.csv\"))\n",
    "next(csv_cursor)\n",
    "data = list(\n",
    "    filter(lambda x: x[0] < 2023,\n",
    "    map(lambda x: (int(x[0][:4]),int(x[0][5:]),float(x[1])),csv_cursor)\n",
    "    )\n",
    "    )\n",
    "for row in data:\n",
    "    mem.execute(''' \n",
    "    INSERT INTO stats VALUES (?,?,?)\n",
    "    ''', row)\n",
    "mem.commit()\n"
   ]
  },
  {
   "cell_type": "code",
   "execution_count": null,
   "metadata": {},
   "outputs": [],
   "source": [
    "## Task 1.2\n",
    "cursor = mem.execute('''\n",
    "SELECT Year, MIN(Value) Lowest , MAX(Value) Highest, MAX(Value)-MIN(VAlue) Range\n",
    "FROM stats\n",
    "GROUP BY Year\n",
    "ORDER By Year\n",
    "''')\n",
    "for result in cursor:\n",
    "    print(f\"{result[0]} : Lowest:{result[1]} Highest: {result[2]} Range:{result[3]:.2f}\" )\n",
    "    "
   ]
  },
  {
   "cell_type": "code",
   "execution_count": 29,
   "metadata": {},
   "outputs": [
    {
     "name": "stdout",
     "output_type": "stream",
     "text": [
      "Month 1: average daily sunshine duration 1982-2022 was 5.72 hours\n",
      "Month 2: average daily sunshine duration 1982-2022 was 7.10 hours\n",
      "Month 3: average daily sunshine duration 1982-2022 was 6.30 hours\n",
      "Month 4: average daily sunshine duration 1982-2022 was 6.03 hours\n",
      "Month 5: average daily sunshine duration 1982-2022 was 5.96 hours\n",
      "Month 6: average daily sunshine duration 1982-2022 was 5.93 hours\n",
      "Month 7: average daily sunshine duration 1982-2022 was 6.10 hours\n",
      "Month 8: average daily sunshine duration 1982-2022 was 5.85 hours\n",
      "Month 9: average daily sunshine duration 1982-2022 was 5.27 hours\n",
      "Month 10: average daily sunshine duration 1982-2022 was 5.02 hours\n",
      "Month 11: average daily sunshine duration 1982-2022 was 4.44 hours\n",
      "Month 12: average daily sunshine duration 1982-2022 was 4.34 hours\n"
     ]
    }
   ],
   "source": [
    "# Task 1.3\n",
    "cursor = mem.execute('''\n",
    "SELECT Month, AVG(Value)\n",
    "FROM stats\n",
    "GROUP BY Month\n",
    "''')\n",
    "for result in cursor:\n",
    "    print(f\"Month {result[0]}: average daily sunshine duration 1982-2022 was { result[1]:.2f} hours\")"
   ]
  },
  {
   "cell_type": "code",
   "execution_count": 30,
   "metadata": {},
   "outputs": [],
   "source": [
    "mem.close()"
   ]
  }
 ],
 "metadata": {
  "kernelspec": {
   "display_name": "Python 3",
   "language": "python",
   "name": "python3"
  },
  "language_info": {
   "codemirror_mode": {
    "name": "ipython",
    "version": 3
   },
   "file_extension": ".py",
   "mimetype": "text/x-python",
   "name": "python",
   "nbconvert_exporter": "python",
   "pygments_lexer": "ipython3",
   "version": "3.6.4"
  },
  "orig_nbformat": 4
 },
 "nbformat": 4,
 "nbformat_minor": 2
}
