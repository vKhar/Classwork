{
 "cells": [
  {
   "cell_type": "code",
   "execution_count": null,
   "metadata": {},
   "outputs": [],
   "source": [
    "#2.1\n",
    "class Node:\n",
    "    def __init__(self, data:dict): \n",
    "        self.data = data           #String data type\n",
    "        self.left_pointer = None   #Node object\n",
    "        self.right_pointer = None  #Node object\n",
    "    def __repr__(self):\n",
    "        return f\"{self.data['word']}\"\n",
    "\n",
    "\n",
    "class BST:\n",
    "    def __init__(self):\n",
    "        self.root = None    #Node object\n",
    "\n",
    "    def insert(self,data:dict):\n",
    "  \n",
    "        if self.root == None:\n",
    "            self.root = Node(data)\n",
    "            return\n",
    "        cur = self.root\n",
    "        while True:\n",
    "            if data[\"word\"] < cur.data[\"word\"]:\n",
    "                if cur.left_pointer == None:\n",
    "                    cur.left_pointer = Node(data)\n",
    "                    return \n",
    "                else:\n",
    "                    cur = cur.left_pointer\n",
    "            elif data[\"word\"] > cur.data[\"word\"]:\n",
    "                if cur.right_pointer == None:\n",
    "                    cur.right_pointer = Node(data)\n",
    "                    return\n",
    "                else:\n",
    "                    cur = cur.right_pointer\n",
    "            else:\n",
    "                raise Exception(\"word already exist\")\n",
    "\n",
    "    def find(self, target):\n",
    "        cur  = self.root\n",
    "        while cur:\n",
    "            if cur.data[\"word\"] == target:\n",
    "                return cur.data\n",
    "            elif target < cur.data[\"word\"]:\n",
    "                cur = cur.left_pointer\n",
    "            else:\n",
    "                cur = cur.right_pointer\n",
    "        else:\n",
    "            return None\n",
    "\n",
    "    \n",
    "    def in_order(self):\n",
    "        def traverse(node, ret):\n",
    "            if node.left_pointer:\n",
    "                traverse(node.left_pointer, ret)\n",
    "            ret.append(node.data)\n",
    "            if node.right_pointer:\n",
    "                traverse(node.right_pointer, ret)\n",
    "            return ret\n",
    "\n",
    "        if self.root == None:\n",
    "            return []\n",
    "        else:\n",
    "            ret=[]\n",
    "            return traverse(self.root, ret)\n",
    "\n",
    "            "
   ]
  },
  {
   "cell_type": "code",
   "execution_count": 31,
   "metadata": {},
   "outputs": [],
   "source": [
    "import json\n",
    "tree = BST()\n",
    "\n",
    "f = open(\"WORDS.txt\")\n",
    "for line in f:\n",
    "   jason = json.loads(line.strip().replace(\"'\",'\"') ) # jason is a dict\n",
    "   tree.insert(jason)\n",
    "\n",
    "in_order_list = tree.in_order()"
   ]
  },
  {
   "cell_type": "code",
   "execution_count": 32,
   "metadata": {},
   "outputs": [
    {
     "data": {
      "text/plain": [
       "{'word': 'yield', 'definition': 'give or supply'}"
      ]
     },
     "execution_count": 32,
     "metadata": {},
     "output_type": "execute_result"
    }
   ],
   "source": [
    "tree.find(\"yield\")"
   ]
  },
  {
   "cell_type": "code",
   "execution_count": 36,
   "metadata": {},
   "outputs": [],
   "source": [
    "def b_search(L, target):\n",
    "    if len(L) == 0:\n",
    "        return None\n",
    "    else:\n",
    "        mid = len(L)//2\n",
    "        if L[mid]['word'] == target:\n",
    "            return L[mid]\n",
    "        elif target < L[mid]['word']:\n",
    "            return b_search(L[:mid], target)\n",
    "        else:\n",
    "            return b_search(L[mid+1:], target)"
   ]
  },
  {
   "cell_type": "code",
   "execution_count": 38,
   "metadata": {},
   "outputs": [
    {
     "data": {
      "text/plain": [
       "{'word': 'stock',\n",
       " 'definition': 'capital raised by a corporation through the issue of shares'}"
      ]
     },
     "execution_count": 38,
     "metadata": {},
     "output_type": "execute_result"
    }
   ],
   "source": [
    "b_search(in_order_list,\"stock\")"
   ]
  }
 ],
 "metadata": {
  "kernelspec": {
   "display_name": "Python 3",
   "language": "python",
   "name": "python3"
  },
  "language_info": {
   "codemirror_mode": {
    "name": "ipython",
    "version": 3
   },
   "file_extension": ".py",
   "mimetype": "text/x-python",
   "name": "python",
   "nbconvert_exporter": "python",
   "pygments_lexer": "ipython3",
   "version": "3.6.4"
  },
  "orig_nbformat": 4
 },
 "nbformat": 4,
 "nbformat_minor": 2
}
