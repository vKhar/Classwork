{
 "cells": [
  {
   "cell_type": "code",
   "execution_count": null,
   "metadata": {},
   "outputs": [],
   "source": [
    "## 3.1\n",
    "def parse(req_str):\n",
    "    return tuple( req_str.split(\"\\n\")[0].split(\" \"))\n",
    "\n",
    "def response(status_code:int, message):\n",
    "    return f\"HTTP/1.1 {status_code}\\r\\nContent-Length: {len(message)}\\r\\n\\r\\n{message}\"\n"
   ]
  },
  {
   "cell_type": "code",
   "execution_count": null,
   "metadata": {},
   "outputs": [],
   "source": [
    "import socket\n",
    "\n",
    "listen_s = socket.socket()\n",
    "listen_s.bind(('127.0.0.1',65535))\n",
    "listen_s.listen()\n",
    "while True:\n",
    "    s, addr = listen_s.accept()\n",
    "    req = s.recv(1024).decode()\n",
    "    if req == None:\n",
    "        break\n",
    "    method, path, protocol = parse(req)\n",
    "    print( method, path, protocol)\n",
    "    if path not in (\"/\", \"/index.html\"):\n",
    "        s.sendall( response(404,\"Not found\").encode())\n",
    "    else:\n",
    "        s.sendall( response(200,\"Hello World\").encode())\n",
    "    s.close()\n",
    "print('Server terminated')\n"
   ]
  }
 ],
 "metadata": {
  "kernelspec": {
   "display_name": "Python 3",
   "language": "python",
   "name": "python3"
  },
  "language_info": {
   "codemirror_mode": {
    "name": "ipython",
    "version": 3
   },
   "file_extension": ".py",
   "mimetype": "text/x-python",
   "name": "python",
   "nbconvert_exporter": "python",
   "pygments_lexer": "ipython3",
   "version": "3.6.4"
  },
  "orig_nbformat": 4
 },
 "nbformat": 4,
 "nbformat_minor": 2
}
