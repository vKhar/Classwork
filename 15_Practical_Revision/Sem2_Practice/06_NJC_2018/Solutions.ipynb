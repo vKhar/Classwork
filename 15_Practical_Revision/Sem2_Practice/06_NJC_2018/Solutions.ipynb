{
 "cells": [
  {
   "cell_type": "markdown",
   "metadata": {},
   "source": [
    "##### Task 1"
   ]
  },
  {
   "cell_type": "code",
   "execution_count": null,
   "metadata": {},
   "outputs": [],
   "source": [
    "from datetime import *\n",
    "start=date(1965,8,9)\n",
    "delta = timedelta(days=1)\n",
    "f=open(\"DATA.TXT\")\n",
    "data_str=[]\n",
    "data_date = []\n",
    "for line in f:\n",
    "    index, v1, v2, v3 = line.strip().split(\"V\")\n",
    "    _date = start + timedelta(days=int(index[1:]))\n",
    "    data_str.append ( (_date.strftime(\"%d%m%Y\"), float(v1), float(v2), float(v3)))\n",
    "    data_str.append ( (_date, float(v1), float(v2), float(v3)))\n",
    "\n",
    "## data_date is in ascending order of datetime objects from 9/8/1965 onwards\n",
    "## data_str is  not in lexicographic ascending order since they are strings\n"
   ]
  },
  {
   "cell_type": "code",
   "execution_count": null,
   "metadata": {},
   "outputs": [],
   "source": [
    "def mean(*values):\n",
    "    return sum(values)/len(values)\n",
    "\n",
    "def bubble_sort_means(L):\n",
    "    for i in range(len(L)-1):\n",
    "        swap = False\n",
    "        for j in range(len(L)-1-i):\n",
    "            if mean( *L[j][1:]) > mean( *L[j+1][1:]):\n",
    "                L[j], L[j+1] = L[j+1], L[j]\n",
    "                swap = True\n",
    "        if not swap:\n",
    "            break"
   ]
  },
  {
   "cell_type": "code",
   "execution_count": null,
   "metadata": {},
   "outputs": [],
   "source": [
    "bubble_sort_means(data_str)"
   ]
  },
  {
   "cell_type": "code",
   "execution_count": null,
   "metadata": {},
   "outputs": [],
   "source": [
    "## find median value\n",
    "mid = len(data_str)//2\n",
    "if len(data_str)%2 == 0:\n",
    "    print( \n",
    "        mean(*data_str[mid-1][1:]) + mean( *data_str[mid][1:] )/2\n",
    "        )\n",
    "else:\n",
    "    print( mean(*data_str[mid][1:]))\n"
   ]
  },
  {
   "cell_type": "code",
   "execution_count": null,
   "metadata": {},
   "outputs": [],
   "source": [
    "## insertion sort based on the date str\n",
    "for i in range(1, len(data)):\n",
    "    j = i\n",
    "    while j > 0 and data_str[j-1][0] > data_str[j][0]:\n",
    "        data_str[j-1], data_str[j] = data_str[j], data_str[j-1]\n",
    "        j-=1\n"
   ]
  },
  {
   "cell_type": "code",
   "execution_count": null,
   "metadata": {},
   "outputs": [],
   "source": [
    "year, month, day = input(\"Year\"), input(\"Month 01-12\"), input(\"Day 01-31\")\n",
    "target = day+month+year\n",
    "lb = 0\n",
    "ub = len(data_str)-1\n",
    "while lb <= ub:\n",
    "    mid = (lb+ub)//2\n",
    "    if data_str[mid][0] == target:\n",
    "        print(data_str[mid])\n",
    "        break\n",
    "    elif target < data_str[mid][0]:\n",
    "        ub = mid - 1\n",
    "    else:\n",
    "        lb = mid + 1\n",
    "else:\n",
    "    print(\"Not found\")\n"
   ]
  },
  {
   "cell_type": "markdown",
   "metadata": {},
   "source": [
    "____\n",
    "#### Task 2"
   ]
  },
  {
   "cell_type": "code",
   "execution_count": null,
   "metadata": {},
   "outputs": [],
   "source": [
    "## Convert decimal fractions to base n fractionsl\n",
    "def frac_n(fraction:float,b:int, prec:int):\n",
    "    digits = string.digits + string.ascii_lowercase\n",
    "    ans=[]\n",
    "    while len(ans) < prec:\n",
    "        res = fraction * b\n",
    "        n=int(res)\n",
    "        fraction=res-n\n",
    "        ans.append(n)\n",
    "    return \"\"+\"\".join([ digits[c] for c in ans])\n",
    "\n",
    "\n",
    "## convert decimal integers to base n integers\n",
    "import string\n",
    "def int_n(dec:int, base:int)->str:\n",
    "    digits = string.digits + string.ascii_lowercase\n",
    "    ret=\"\"\n",
    "    while dec:\n",
    "        ret = digits[dec%base] + ret\n",
    "        dec = dec//base\n",
    "    return ret"
   ]
  },
  {
   "cell_type": "code",
   "execution_count": null,
   "metadata": {},
   "outputs": [],
   "source": [
    "frac_n(0.745,16,3)"
   ]
  },
  {
   "cell_type": "code",
   "execution_count": null,
   "metadata": {},
   "outputs": [],
   "source": [
    "def universal_base_conversion(dividend, dividend_base, divisor, divisor_base, result_base):\n",
    "    dividend_10 = int(dividend, dividend_base) \n",
    "    divisor_10 = int(divisor, divisor_base)\n",
    "    result = dividend_10/divisor_10\n",
    "    int_part,  fract_part = int(result), result - int(result)\n",
    "    return  int_n(int_part,result_base)+\".\" + frac_n(fract_part,result_base,5)\n"
   ]
  },
  {
   "cell_type": "code",
   "execution_count": null,
   "metadata": {},
   "outputs": [],
   "source": [
    "universal_base_conversion(\"mma01\",23,\"30501\",6,2)"
   ]
  },
  {
   "cell_type": "markdown",
   "metadata": {},
   "source": [
    "___\n",
    "Task 4"
   ]
  },
  {
   "cell_type": "code",
   "execution_count": null,
   "metadata": {},
   "outputs": [],
   "source": [
    "## permutaions of a str with at least 2 chars\n",
    "\n",
    "def generate_substrings(s):\n",
    "    if len(s) == 1:\n",
    "        return s\n",
    "    ret = []\n",
    "    for i in range(len(s)):\n",
    "        for subs in generate_substrings(s[:i] + s[i+1:]):\n",
    "            ret.append(subs) if len(subs) > 1 else \"\"\n",
    "            ret.append(s[i]+subs)\n",
    "    return ret\n",
    "        \n",
    "        "
   ]
  },
  {
   "cell_type": "code",
   "execution_count": 109,
   "metadata": {},
   "outputs": [],
   "source": [
    "def starts_with(source, key):\n",
    "    if source[: len(key)] == key:\n",
    "        return True\n",
    "    else:\n",
    "        return False"
   ]
  },
  {
   "cell_type": "code",
   "execution_count": 110,
   "metadata": {},
   "outputs": [],
   "source": [
    "def ends_with(source, key):\n",
    "    if source[-len(key):] == key:\n",
    "        return True\n",
    "    else:\n",
    "        return False"
   ]
  },
  {
   "cell_type": "code",
   "execution_count": 104,
   "metadata": {},
   "outputs": [],
   "source": [
    "def contains(source, key):\n",
    "    return key in source"
   ]
  },
  {
   "cell_type": "code",
   "execution_count": 121,
   "metadata": {},
   "outputs": [],
   "source": [
    "def task4_3(s:str, f)->dict:\n",
    "    ## put sub_strs of \"s\" into a dict\n",
    "    sub_strs = generate_substrings(s)\n",
    "    sub_str_counter = dict( zip(sub_strs, [ 0 for _ in range(len(sub_strs))]))\n",
    "\n",
    "    for sub_str in sub_str_counter.keys():\n",
    "        for word in map( lambda x: x.strip(),open(\"STRINGS.TXT\")):\n",
    "            if f(word, sub_str):\n",
    "                sub_str_counter[sub_str]+=1\n",
    "    return sub_str_counter \n"
   ]
  },
  {
   "cell_type": "code",
   "execution_count": 131,
   "metadata": {},
   "outputs": [
    {
     "data": {
      "text/plain": [
       "{'BC': 1668,\n",
       " 'ABC': 1621,\n",
       " 'CB': 1674,\n",
       " 'ACB': 1650,\n",
       " 'AC': 1650,\n",
       " 'BAC': 1705,\n",
       " 'CA': 1682,\n",
       " 'BCA': 1668,\n",
       " 'AB': 1621,\n",
       " 'CAB': 1682,\n",
       " 'BA': 1705,\n",
       " 'CBA': 1674}"
      ]
     },
     "execution_count": 131,
     "metadata": {},
     "output_type": "execute_result"
    }
   ],
   "source": [
    "task4_3(\"ABC\", starts_with)"
   ]
  }
 ],
 "metadata": {
  "kernelspec": {
   "display_name": "Python 3",
   "language": "python",
   "name": "python3"
  },
  "language_info": {
   "codemirror_mode": {
    "name": "ipython",
    "version": 3
   },
   "file_extension": ".py",
   "mimetype": "text/x-python",
   "name": "python",
   "nbconvert_exporter": "python",
   "pygments_lexer": "ipython3",
   "version": "3.6.4"
  }
 },
 "nbformat": 4,
 "nbformat_minor": 2
}
