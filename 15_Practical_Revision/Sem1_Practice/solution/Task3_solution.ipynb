{
 "cells": [
  {
   "cell_type": "code",
   "execution_count": 1,
   "metadata": {},
   "outputs": [],
   "source": [
    "def left_child(n):\n",
    "    return 2 * n +1 \n",
    "def right_child(n):\n",
    "    return 2*n + 2"
   ]
  },
  {
   "cell_type": "code",
   "execution_count": 4,
   "metadata": {},
   "outputs": [],
   "source": [
    "class MinHeap:\n",
    "    # this is a minHeap that only handles only positive integers\n",
    "    def __init__(self, size):\n",
    "        # _count stores the number of node currently in minHeap\n",
    "        self._count = 0\n",
    "        # _size stores the maximum number of node minHeap can take\n",
    "        self._size = size\n",
    "        # _tree is a 1D array which stores the nodes in minHeap\n",
    "        # -1 means there is no item\n",
    "        self._tree = [-1]*size\n",
    "    def __str__(self):\n",
    "        return str(self._tree)+str([self._count])\n",
    "\n",
    "    def is_full(self):\n",
    "        return self._count == self._size\n",
    "    \n",
    "    def add(self, newItem):\n",
    "        if self.is_full():\n",
    "            print(\"Heap is full\")\n",
    "            return\n",
    "        cur = self._count\n",
    "        parent = (cur -1)//2\n",
    "        self._tree[cur] = newItem\n",
    "        while cur != 0 and self._tree[parent] > newItem:\n",
    "            self._tree[parent], self._tree[cur] = self._tree[cur],self._tree[parent]\n",
    "            cur = parent\n",
    "            parent = (cur -1)//2\n",
    "        self._count+=1\n",
    "\n",
    "    def remove_minimum(self):\n",
    "        if self._count != 0:\n",
    "            root = self._tree[0]\n",
    "            self._count -= 1\n",
    "            temp = self._tree[self._count]\n",
    "            self._tree[0] = temp\n",
    "            self._tree[self._count] = -1\n",
    "            \n",
    "            done = False\n",
    "            curr_ptr = 0\n",
    "            left_ptr = curr_ptr*2 + 1\n",
    "            right_ptr = curr_ptr*2 + 2\n",
    "            while not done and left_ptr < self._count:\n",
    "                if right_ptr < self._count:\n",
    "                    #has left and right children\n",
    "                    if self._tree[left_ptr] < self._tree[right_ptr] and self._tree[left_ptr] < self._tree[curr_ptr]:\n",
    "                        self._tree[curr_ptr], self._tree[left_ptr] = self._tree[left_ptr], self._tree[curr_ptr]\n",
    "                        curr_ptr = left_ptr\n",
    "                    elif self._tree[right_ptr] < self._tree[left_ptr] and self._tree[right_ptr] < self._tree[curr_ptr]:\n",
    "                        self._tree[curr_ptr], self._tree[right_ptr] = self._tree[right_ptr], self._tree[curr_ptr]\n",
    "                        curr_ptr = right_ptr\n",
    "                    else:\n",
    "                        done = True                    \n",
    "                else:\n",
    "                    #has only left child\n",
    "                    if self._tree[left_ptr] < self._tree[curr_ptr]:\n",
    "                        self._tree[curr_ptr], self._tree[left_ptr] = self._tree[left_ptr], self._tree[curr_ptr]\n",
    "                        curr_ptr = left_ptr\n",
    "                    else:\n",
    "                        done = True\n",
    "\n",
    "                left_ptr = curr_ptr*2 + 1\n",
    "                right_ptr = curr_ptr*2 + 2\n",
    "            return root\n",
    "        else:\n",
    "            print(\"Tree is empty. Cannot remove.\")\n",
    "            return -1\n",
    "    \n",
    "    def sort(self):\n",
    "        ret = []\n",
    "        for i in range(self._count):\n",
    "            ret.append( self.remove_minimum())\n",
    "        return ret\n",
    "        \n",
    "    def display_all_paths(self):\n",
    "        def recur(cur, partial_path):\n",
    "            left_c = left_child(cur)\n",
    "            right_c = right_child(cur) \n",
    "            if cur < self._count and left_c >= self._count and right_c >= self._count: ## leaf node\n",
    "                print( \" \".join(partial_path)+ \" \" + str(self._tree[cur]))\n",
    "                return\n",
    "            partial_path.append(str(self._tree[cur]))\n",
    "            if left_c < self._count:\n",
    "                recur(left_c,  partial_path[:])\n",
    "            if right_c < self._count:\n",
    "                recur(right_c, partial_path[:])\n",
    "        return recur(0,[])\n"
   ]
  },
  {
   "cell_type": "code",
   "execution_count": 11,
   "metadata": {},
   "outputs": [
    {
     "name": "stdout",
     "output_type": "stream",
     "text": [
      "1 3 7 10 17\n",
      "1 3 7 10 15\n",
      "1 3 7 9 20\n",
      "1 3 7 9 11\n",
      "1 3 6 8 16\n",
      "1 3 6 13\n",
      "1 2 4 19\n",
      "1 2 4 12\n",
      "1 2 5 18\n",
      "1 2 5 14\n"
     ]
    },
    {
     "data": {
      "text/plain": [
       "[1, 2, 3, 4, 5, 6, 7, 8, 9, 10, 11, 12, 13, 14, 15, 16, 17, 18, 19, 20]"
      ]
     },
     "execution_count": 11,
     "metadata": {},
     "output_type": "execute_result"
    }
   ],
   "source": [
    "import random\n",
    "h = MinHeap(50)\n",
    "for i in random.sample( range(1,21),20):\n",
    "    h.add(i)\n",
    "h.display_all_paths()\n",
    "h.sort()"
   ]
  }
 ],
 "metadata": {
  "kernelspec": {
   "display_name": "Python 3",
   "language": "python",
   "name": "python3"
  },
  "language_info": {
   "codemirror_mode": {
    "name": "ipython",
    "version": 3
   },
   "file_extension": ".py",
   "mimetype": "text/x-python",
   "name": "python",
   "nbconvert_exporter": "python",
   "pygments_lexer": "ipython3",
   "version": "3.6.4"
  },
  "orig_nbformat": 4
 },
 "nbformat": 4,
 "nbformat_minor": 2
}
