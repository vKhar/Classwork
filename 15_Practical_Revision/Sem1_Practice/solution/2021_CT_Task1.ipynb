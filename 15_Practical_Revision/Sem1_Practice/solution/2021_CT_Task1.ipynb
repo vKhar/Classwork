{
 "cells": [
  {
   "cell_type": "code",
   "execution_count": 1,
   "metadata": {},
   "outputs": [],
   "source": [
    "## Solution using build-in sorted\n",
    "## Task 1.1\n",
    "import csv\n",
    "from datetime import datetime, timedelta\n",
    "f = open(\"FILE_LIST.CSV\",\"r\")\n",
    "\n",
    "##  base values for comparison [3]\n",
    "today = datetime.now()\n",
    "hundred_days_ago = timedelta(days=100)\n",
    "one_year_ago = timedelta(days=365)\n",
    "\n",
    "\n",
    "tier_1, tier_2, tier_3 =[], [], [] ## list for 3 tiers [1]\n",
    "\n",
    "for r in list(csv.reader(f))[1:]: ## loop for file traversal, skip header line [1]\n",
    "    time_stamp = datetime.strptime(r[1].strip(), \"%d/%m/%y  %H:%M\") \n",
    "    # parse timestamp str into a data type used for comparison [2] \n",
    "    # using datetime or \"YYMMDDHHmm\" format \n",
    "    file_name = r[0]\n",
    "    if today - time_stamp >= one_year_ago: ## 2 comparisons [2] to seperate into 3 groups\n",
    "        tier_3.append([file_name, r[1], r[2].strip()]) ## [1] add to appropiate containers * take  care of  white spaces in timestamp*\n",
    "    elif today - time_stamp >= hundred_days_ago:\n",
    "        tier_2.append([file_name, r[1], r[2].strip()])\n",
    "    else:\n",
    "        tier_1.append([file_name, r[1], r[2].strip()])\n",
    "\n",
    "### sorting using the timestamp key \n",
    "##  \n",
    "sorted_1 = sorted(tier_1, key = lambda x: datetime.strptime(x[1],\"%d/%m/%y  %H:%M\"), reverse=True)\n",
    "sorted_2 = sorted(tier_2, key = lambda x: datetime.strptime(x[1],\"%d/%m/%y  %H:%M\"), reverse=True)\n",
    "sorted_3 = sorted(tier_3, key = lambda x: datetime.strptime(x[1],\"%d/%m/%y  %H:%M\"), reverse=True)\n",
    "f.close()\n"
   ]
  },
  {
   "cell_type": "code",
   "execution_count": 2,
   "metadata": {},
   "outputs": [
    {
     "name": "stdout",
     "output_type": "stream",
     "text": [
      "WindowsUpdate.log,29/03/23 12:54,276\n",
      "bootstat.dat,29/03/23 10:04,67584\n",
      "setupact.log,26/03/23 13:43,103608\n",
      "explorer.exe,21/03/23 13:17,4704744\n",
      "notepad.exe,06/02/23 08:59,202240\n",
      "HelpPane.exe,06/02/23 08:58,1076224\n",
      "regedit.exe,06/02/23 08:58,370176\n",
      "Hello,World.txt,06/02/23 08:56,77824\n",
      "splwow64.exe,06/02/23 08:56,136192\n",
      "diagerr.xml,05/02/23 17:58,19053\n",
      "diagwrn.xml,05/02/23 17:58,19053\n",
      "comsetup.log,05/02/23 17:54,25848\n",
      "setuperr.log,05/02/23 17:21,0\n"
     ]
    }
   ],
   "source": [
    "for line in sorted_1:\n",
    "    print( f\"{','.join(line)}\")"
   ]
  },
  {
   "cell_type": "code",
   "execution_count": null,
   "metadata": {},
   "outputs": [],
   "source": [
    "sorted_2"
   ]
  },
  {
   "cell_type": "code",
   "execution_count": null,
   "metadata": {},
   "outputs": [],
   "source": [
    "sorted_3"
   ]
  },
  {
   "cell_type": "code",
   "execution_count": null,
   "metadata": {},
   "outputs": [],
   "source": [
    "## Task 1.1 quick sort [5]\n",
    "from datetime import datetime, timedelta\n",
    "def quick_sort(A): ## A: list of list\n",
    "    if len(A) < 2: ## may have empty list in base case [1]\n",
    "        return A\n",
    "    else:\n",
    "        left=[]\n",
    "        right=[]\n",
    "        pivot_record = A[0] \n",
    "        pivot_dt = datetime.strptime(A[0][1], \"%d/%m/%y  %H:%M\") # initialisation, convert to a form used for comparison [1]\n",
    "        \n",
    "        for d in A[1:]: ## partition [2]\n",
    "            if datetime.strptime(d[1], \"%d/%m/%y  %H:%M\") > pivot_dt :\n",
    "                left.append(d)\n",
    "            else:\n",
    "                right.append(d)\n",
    "    ##recusrive step [1]\n",
    "    return quick_sort(left) + [pivot_record] + quick_sort(right)"
   ]
  },
  {
   "cell_type": "code",
   "execution_count": null,
   "metadata": {},
   "outputs": [],
   "source": [
    "## Task 1.2\n",
    "### file extension extraction\n",
    "def get_extension(s):\n",
    "    str_li = list(s) #[1]\n",
    "    for i in range(len(str_li)-1, -1, -1): # [1]\n",
    "        if str_li[i] == \".\":  # [1]\n",
    "            return \"\".join(str_li[i+1:]) #[1]\n",
    "    else:\n",
    "        return \"\"\n"
   ]
  },
  {
   "cell_type": "code",
   "execution_count": null,
   "metadata": {},
   "outputs": [],
   "source": [
    "def get_extension(s):\n",
    "    if '.' in s: #[1m]\n",
    "        return (s.split('.')[-1])#[2m]\n",
    "    return '' #[1m]"
   ]
  },
  {
   "cell_type": "code",
   "execution_count": null,
   "metadata": {},
   "outputs": [],
   "source": [
    "## Task 1.3\n",
    "import csv, pymongo\n",
    "client=pymongo.MongoClient(\"127.0.0.1\",27017)\n",
    "db=client.get_database(\"file_stats\")\n",
    "coll=db.get_collection(\"storage\")\n",
    "coll.drop() ## [1]\n",
    "\n",
    "for i in range(1,4):## iterare through the 3 files [1]\n",
    "    reader = csv.reader(open(f\"TIER_{i}.CSV\",\"r\")) \n",
    "    extension_count={}\n",
    "    file_names=[]\n",
    "    file_count=0 # counters [1]\n",
    "    for line in reader: # iterate through tier file\n",
    "        file_count+=1\n",
    "        file_names.append(line[0])\n",
    "        extension = get_extension(line[0])\n",
    "        if extension_count.get(extension ) == None:\n",
    "            extension_count[extension] = 1 # create dict key [1]\n",
    "        else:\n",
    "            extension_count[extension] = extension_count[extension] + 1 # update dict key [1]\n",
    "    doc = {}\n",
    "    doc[\"storage_tier\"] = i\n",
    "    doc[\"file_count\"] = file_count\n",
    "    doc[\"file_names\"] = file_names\n",
    "    doc[\"file_types\"] = extension_count\n",
    "    coll.insert_one(doc)\n",
    "\n",
    "\n",
    "\n",
    "\n"
   ]
  },
  {
   "cell_type": "code",
   "execution_count": null,
   "metadata": {},
   "outputs": [],
   "source": [
    "## Tasl 1.4 update\n",
    "import csv, pymongo\n",
    "client=pymongo.MongoClient(\"127.0.0.1\",27017)\n",
    "db=client.get_database(\"file_stats\")\n",
    "coll=db.get_collection(\"storage\")\n",
    "reader = csv.reader(open(\"TIER_3_UPDATE.CSV\",\"r\")) \n",
    "extension_count={}\n",
    "file_names=[]\n",
    "file_count=0 # counters [1]\n",
    "for line in reader: # iterate through tier file\n",
    "    file_count+=1\n",
    "    file_names.append(line[0])\n",
    "    extension = get_extension(line[0])\n",
    "    if extension_count.get(extension ) == None:\n",
    "        extension_count[extension] = 1 # create dict key [1]\n",
    "    else:\n",
    "        extension_count[extension] = extension_count[extension] + 1 # update dict key [1]\n",
    "\n",
    "doc = {}\n",
    "doc[\"file_count\"] = file_count\n",
    "doc[\"file_names\"] = file_names\n",
    "doc[\"file_types\"] = extension_count\n",
    "coll.update_one( { \"storage_tier\": 3}, {\"$set\": doc}) ## [2]\n",
    "    "
   ]
  },
  {
   "cell_type": "code",
   "execution_count": null,
   "metadata": {},
   "outputs": [],
   "source": [
    "def wrap(lb,rb,array):\n",
    "    index = lb\n",
    "    pivot = array[index]\n",
    "    while lb < rb:\n",
    "        while lb < len(array) and array[lb] <= pivot:\n",
    "            lb += 1\n",
    "\n",
    "        while array[rb] > pivot:\n",
    "            rb -= 1\n",
    "\n",
    "        if lb < rb:\n",
    "            array[lb],array[rb] = array[rb],array[lb]\n",
    "    array[rb],array[index] = array[index], array[rb]\n",
    "    return rb\n",
    "\n",
    "def qs(array):\n",
    "    def inner(lb, rb, array):\n",
    "        if lb < rb :\n",
    "            partition = wrap(lb,rb,array)\n",
    "            inner(lb, partition-1,array)\n",
    "            inner(partition+1, rb, array)\n",
    "    lb = 0\n",
    "    rb = len(array) -1\n",
    "    inner(lb, rb, array)\n"
   ]
  }
 ],
 "metadata": {
  "interpreter": {
   "hash": "f7291e4b392a32fbfa525b87d1bbd0a3d888adf3d0deca0c205c61b9e7284b82"
  },
  "kernelspec": {
   "display_name": "Python 3.6.4 64-bit",
   "name": "python3"
  },
  "language_info": {
   "codemirror_mode": {
    "name": "ipython",
    "version": 3
   },
   "file_extension": ".py",
   "mimetype": "text/x-python",
   "name": "python",
   "nbconvert_exporter": "python",
   "pygments_lexer": "ipython3",
   "version": "3.6.4"
  },
  "orig_nbformat": 2
 },
 "nbformat": 4,
 "nbformat_minor": 2
}
