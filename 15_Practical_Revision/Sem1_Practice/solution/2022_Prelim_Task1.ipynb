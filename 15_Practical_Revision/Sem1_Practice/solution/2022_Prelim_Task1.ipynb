{
 "cells": [
  {
   "cell_type": "code",
   "execution_count": 7,
   "metadata": {},
   "outputs": [],
   "source": [
    "## 1.1\n",
    "def fun(exp, num):\n",
    "    new_exp=exp.replace(\"x\", f\"({num})\")\n",
    "    return eval(new_exp)"
   ]
  },
  {
   "cell_type": "code",
   "execution_count": 5,
   "metadata": {},
   "outputs": [],
   "source": [
    "##1.2\n",
    "def left_sum(exp,a,b,num):\n",
    "    delta_x = (b-a)/num\n",
    "    x = a\n",
    "    sum_area = 0\n",
    "    while x < b:\n",
    "        y = fun(exp,x)\n",
    "        area = y * delta_x\n",
    "        sum_area = sum_area + area\n",
    "        x += delta_x\n",
    "    return sum_area"
   ]
  },
  {
   "cell_type": "code",
   "execution_count": 16,
   "metadata": {},
   "outputs": [],
   "source": [
    "## 1.3 \n",
    "import random\n",
    "def random_sum(exp,a,b,num):\n",
    "    rand_points = [a]\n",
    "    for i in range(num-1):\n",
    "        rand_points.append( random.uniform(a,b))\n",
    "    rand_points.append(b)\n",
    "    rand_points.sort()\n",
    "    ret = 0\n",
    "    for i in range(len(rand_points)-1):\n",
    "        mid = (rand_points[i] + rand_points[i+1])/2 \n",
    "        width = rand_points[i+1] - rand_points[i]\n",
    "        ret += ( fun(exp,mid) * width )\n",
    "    return ret\n",
    " "
   ]
  },
  {
   "cell_type": "code",
   "execution_count": 17,
   "metadata": {},
   "outputs": [],
   "source": [
    "exp = '8*x**3-5*x+6'"
   ]
  },
  {
   "cell_type": "code",
   "execution_count": null,
   "metadata": {},
   "outputs": [],
   "source": [
    "#1.1\n",
    "fun(exp, 5)"
   ]
  },
  {
   "cell_type": "code",
   "execution_count": 14,
   "metadata": {},
   "outputs": [
    {
     "data": {
      "text/plain": [
       "457.62960000000055"
      ]
     },
     "execution_count": 14,
     "metadata": {},
     "output_type": "execute_result"
    }
   ],
   "source": [
    "#1.2\n",
    "left_sum(exp, 2, 4, 100)"
   ]
  },
  {
   "cell_type": "code",
   "execution_count": 18,
   "metadata": {},
   "outputs": [
    {
     "data": {
      "text/plain": [
       "461.9578117495812"
      ]
     },
     "execution_count": 18,
     "metadata": {},
     "output_type": "execute_result"
    }
   ],
   "source": [
    "#1.3\n",
    "random_sum(exp, 2, 4, 100)"
   ]
  }
 ],
 "metadata": {
  "kernelspec": {
   "display_name": "Python 3",
   "language": "python",
   "name": "python3"
  },
  "language_info": {
   "codemirror_mode": {
    "name": "ipython",
    "version": 3
   },
   "file_extension": ".py",
   "mimetype": "text/x-python",
   "name": "python",
   "nbconvert_exporter": "python",
   "pygments_lexer": "ipython3",
   "version": "3.6.4"
  },
  "orig_nbformat": 4
 },
 "nbformat": 4,
 "nbformat_minor": 2
}
