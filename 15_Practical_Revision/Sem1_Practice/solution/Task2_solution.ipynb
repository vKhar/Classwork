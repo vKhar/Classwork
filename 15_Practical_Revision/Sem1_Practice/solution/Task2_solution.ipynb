{
 "cells": [
  {
   "attachments": {},
   "cell_type": "markdown",
   "metadata": {},
   "source": [
    "##### Exercise 1: \n",
    "Implement a recursive version of the Insertion Sort using the function :\n",
    "```\n",
    "FUNCTION r_insert_sort(A: ARRAY[0:19] OF INTEGERS) RETURNS ARRAY[0:19] OF INTEGERS\n"
   ]
  },
  {
   "cell_type": "code",
   "execution_count": null,
   "metadata": {},
   "outputs": [],
   "source": [
    "## Recursive insert sort\n",
    "def r_insert_sort(L):\n",
    "    def insert(left, right):\n",
    "        if len(right) == 0:\n",
    "            return left\n",
    "        new = right.pop(0)\n",
    "        for i in range(len(left)):\n",
    "            if new < left[i]:\n",
    "                left.insert(i, new)\n",
    "                break\n",
    "        else:\n",
    "            left.append(new)\n",
    "        return insert(left, right)\n",
    "    left = L[0:1]\n",
    "    right = L[1:]\n",
    "    return insert(left, right)"
   ]
  },
  {
   "cell_type": "code",
   "execution_count": null,
   "metadata": {},
   "outputs": [],
   "source": [
    "def insert_sort(A):\n",
    "    def recur(lb,right,ub):\n",
    "        if right > ub:\n",
    "            return\n",
    "        i = right\n",
    "        while i > 0 and (A[i] < A[i-1]):\n",
    "            A[i], A[i-1] = A[i-1], A[i]\n",
    "            i -=1    \n",
    "        recur(lb, right+1, ub)\n",
    "    lb = 0\n",
    "    ub = len(A)-1\n",
    "    right = 1\n",
    "    recur(lb,right,ub,)"
   ]
  },
  {
   "attachments": {},
   "cell_type": "markdown",
   "metadata": {},
   "source": [
    "##### Exercise 2:\n",
    "Implement a recursive version of the quicksort algorithm using random pivots\n",
    "```\n",
    "FUNCTION r_quick_sort(A: ARRAY[0:19] OF INTEGERS) RETURNS A: ARRAY[0:19] OF INTEGERS\n"
   ]
  },
  {
   "cell_type": "code",
   "execution_count": null,
   "metadata": {},
   "outputs": [],
   "source": [
    "import random\n",
    "def r_quick_sort(A):\n",
    "    if len(A) < 2:\n",
    "        return A\n",
    "    else:\n",
    "        pivot_i = random.randint(0, len(A)-1)\n",
    "        A[0], A[pivot_i] = A[pivot_i], A[0]\n",
    "        pivot = A[0]\n",
    "        left=[]\n",
    "        right=[]\n",
    "        for i in A[1:]:\n",
    "            if i < pivot:\n",
    "                left.append(i)\n",
    "            else:\n",
    "                right.append(i)\n",
    "\n",
    "        return r_quick_sort(left) + [pivot] + r_quick_sort(right)"
   ]
  },
  {
   "cell_type": "code",
   "execution_count": null,
   "metadata": {},
   "outputs": [],
   "source": [
    "r_quick_sort( [3,2,2,1])"
   ]
  },
  {
   "attachments": {},
   "cell_type": "markdown",
   "metadata": {},
   "source": [
    "##### Exercise 3:\n",
    "Implement an iterative version of the merge sort algorithm.\n",
    "```\n",
    "FUNCTION iter_merge_sort(A: ARRAY[0:19] OF INTEGERS) RETURNS A: ARRAY[0:19] OF INTEGERS"
   ]
  },
  {
   "cell_type": "code",
   "execution_count": null,
   "metadata": {},
   "outputs": [],
   "source": [
    "def iter_merge(L):\n",
    "\n",
    "    def m_merge(*L): ## m way merge\n",
    "        merged=[]\n",
    "        L = list(L)\n",
    "        while L:\n",
    "            min_L = min(L,key=lambda x: x[0])\n",
    "            merged.append(min_L.pop(0))\n",
    "            if len(min_L) == 0:\n",
    "                L.remove(min_L)\n",
    "        return merged\n",
    "    return m_merge(*[[i] for i in L])\n"
   ]
  },
  {
   "attachments": {},
   "cell_type": "markdown",
   "metadata": {},
   "source": [
    "##### Exercise 4:\n",
    "Implement a binary search algorithm to return the line number of a word found in the file WORDS.TXT. Returns -1 if word is not found.\n",
    "```\n",
    "FUNCTION b_search(file_name:STR, word:STR) RETURNS INTEGER"
   ]
  },
  {
   "cell_type": "code",
   "execution_count": null,
   "metadata": {},
   "outputs": [],
   "source": [
    "def b_search( file_name, target):\n",
    "    f = open(file_name)\n",
    "    words =  [ (i,word.strip()) for  i, word in enumerate(f,1) ]\n",
    "    f.close()\n",
    "    sorted_words = sorted(words, key=lambda x: x[1])\n",
    "    def bin_search(lb, ub):\n",
    "        if lb > ub:\n",
    "            return -1\n",
    "        mid = (lb+ub)//2\n",
    "\n",
    "        if sorted_words[mid][1] == target:\n",
    "            return sorted_words[mid][0]\n",
    "        elif target < sorted_words[mid][1]:\n",
    "            ub = mid - 1\n",
    "        else:\n",
    "            lb = mid + 1\n",
    "        return bin_search(lb, ub)\n",
    "\n",
    "\n",
    "    return bin_search(0, len(sorted_words)-1)\n"
   ]
  },
  {
   "cell_type": "code",
   "execution_count": null,
   "metadata": {},
   "outputs": [],
   "source": [
    "b_search(\"..\\WORDS.TXT\",\"PROBABLY\")"
   ]
  },
  {
   "cell_type": "code",
   "execution_count": null,
   "metadata": {},
   "outputs": [],
   "source": [
    "def partial_match( file_name, target):\n",
    "    f = open(file_name)\n",
    "    words =  [ (i,word.strip()) for  i, word in enumerate(f,1) ]\n",
    "    f.close()\n",
    "    sorted_words = sorted(words, key=lambda x: x[1])\n",
    "    found = []\n",
    "    def bin_search(lb, ub):\n",
    "        if lb > ub:\n",
    "            return\n",
    "\n",
    "        mid = (lb+ub)//2\n",
    "\n",
    "        if target in sorted_words[mid][1]:\n",
    "            found.append(sorted_words[mid][1])\n",
    "        bin_search(lb,mid-1)\n",
    "        bin_search(mid+1,ub)\n",
    "\n",
    "    bin_search(0, len(sorted_words)-1)\n",
    "    return found\n"
   ]
  },
  {
   "cell_type": "code",
   "execution_count": null,
   "metadata": {},
   "outputs": [],
   "source": [
    "partial_match(\"..\\WORDS.TXT\",\"TR\")\n"
   ]
  }
 ],
 "metadata": {
  "kernelspec": {
   "display_name": "Python 3",
   "language": "python",
   "name": "python3"
  },
  "language_info": {
   "codemirror_mode": {
    "name": "ipython",
    "version": 3
   },
   "file_extension": ".py",
   "mimetype": "text/x-python",
   "name": "python",
   "nbconvert_exporter": "python",
   "pygments_lexer": "ipython3",
   "version": "3.6.4"
  },
  "orig_nbformat": 4
 },
 "nbformat": 4,
 "nbformat_minor": 2
}
