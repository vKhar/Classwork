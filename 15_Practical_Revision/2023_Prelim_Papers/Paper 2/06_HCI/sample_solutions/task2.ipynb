{
 "cells": [
  {
   "cell_type": "code",
   "execution_count": null,
   "metadata": {},
   "outputs": [],
   "source": [
    "import os\n",
    "os.chdir(\"..\")"
   ]
  },
  {
   "cell_type": "code",
   "execution_count": null,
   "metadata": {},
   "outputs": [],
   "source": [
    "class Person:\n",
    "    def __init__(self, name, age):\n",
    "        self.name = name\n",
    "        self.age = age\n",
    "    def __repr__(self):\n",
    "        return f\"{self.name}:{self.age}\"\n"
   ]
  },
  {
   "cell_type": "code",
   "execution_count": null,
   "metadata": {},
   "outputs": [],
   "source": [
    "\n",
    "def task2_2(filename):\n",
    "    return map(lambda record: Person( record[0], record[1]),\n",
    "                map (lambda line: line.strip().split(\",\"),open(filename))\n",
    "              )\n"
   ]
  },
  {
   "cell_type": "code",
   "execution_count": null,
   "metadata": {},
   "outputs": [],
   "source": [
    "for person in task2_2(\"PERSON.txt\"):\n",
    "    print(person)"
   ]
  },
  {
   "cell_type": "code",
   "execution_count": null,
   "metadata": {},
   "outputs": [],
   "source": [
    "def compare(a, b, key, order): # returns True if a is in correct order wrt to b\n",
    "    if order == \"asc\":\n",
    "        if key == \"name\":\n",
    "            return a.name <= b.name\n",
    "        else:\n",
    "            return a.age <= b.age\n",
    "    else:\n",
    "        if key == \"name\":\n",
    "            return a.name >= b.name\n",
    "        else:\n",
    "            return a.age > b.age\n",
    "        \n",
    "def task2_3(list_of_person, key, order):\n",
    "    for i in range(1,len(list_of_person)):\n",
    "        j = i\n",
    "        while j > 0 and not compare(list_of_person[j-1], list_of_person[j], key, order):\n",
    "            list_of_person[j-1], list_of_person[j] = list_of_person[j], list_of_person[j-1]\n",
    "            j -= 1\n",
    "    return list_of_person\n",
    "\n",
    "def task2_4(list_of_person, key, order):\n",
    "    if len(list_of_person) < 2:\n",
    "        return list_of_person\n",
    "    else:\n",
    "        pivot = list_of_person[0]\n",
    "        left = []\n",
    "        right = []\n",
    "        for person in list_of_person[1:]:\n",
    "            if compare(person, pivot, key, order):\n",
    "                left.append(person)\n",
    "            else:\n",
    "                right.append(person)\n",
    "        return task2_4(left, key, order) + [pivot] + task2_4(right, key, order)"
   ]
  },
  {
   "cell_type": "code",
   "execution_count": null,
   "metadata": {},
   "outputs": [],
   "source": [
    "list_of_person = list(task2_2(\"PERSON.txt\") )\n",
    "for person in task2_3(list_of_person,\"name\",\"desc\" ):\n",
    "    print(person)"
   ]
  },
  {
   "cell_type": "code",
   "execution_count": null,
   "metadata": {},
   "outputs": [],
   "source": [
    "list_of_person = list(task2_2(\"PERSON.txt\") )\n",
    "for person in task2_4(list_of_person,\"age\",\"asc\" ):\n",
    "    print(person)"
   ]
  },
  {
   "cell_type": "code",
   "execution_count": 21,
   "metadata": {},
   "outputs": [],
   "source": [
    "def task2_5(list_of_person, method,key, order):\n",
    "    sorting_methods = {\n",
    "        \"insertion sort\": task2_3,\n",
    "        \"quick sort\": task2_4\n",
    "    }\n",
    "    return sorting_methods[method](list_of_person, key, order)"
   ]
  },
  {
   "cell_type": "code",
   "execution_count": 27,
   "metadata": {},
   "outputs": [
    {
     "name": "stdout",
     "output_type": "stream",
     "text": [
      "Adam: 16\n",
      "Alice: 18\n",
      "Amelia: 17\n",
      "Arthur: 20\n",
      "Austin: 19\n",
      "Bailey: 18\n",
      "Bella: 17\n",
      "Benjamin: 16\n",
      "Bob: 20\n",
      "Brian: 19\n",
      "Caleb: 16\n",
      "Catherine: 18\n",
      "Charlie: 17\n",
      "Chloe: 19\n",
      "Cole: 20\n",
      "Daisy: 18\n",
      "Daniel: 19\n",
      "David: 16\n",
      "Delilah: 20\n",
      "Dylan: 17\n",
      "Eleanor: 16\n",
      "Ella: 18\n",
      "Emily: 19\n",
      "Ethan: 17\n",
      "Eva: 20\n"
     ]
    }
   ],
   "source": [
    "list_of_person = list(task2_2(\"PERSON.txt\") )\n",
    "for person in task2_5(list_of_person,\"quick sort\",\"name\",\"asc\" ):\n",
    "    print(person)"
   ]
  }
 ],
 "metadata": {
  "kernelspec": {
   "display_name": "a_level",
   "language": "python",
   "name": "python3"
  },
  "language_info": {
   "codemirror_mode": {
    "name": "ipython",
    "version": 3
   },
   "file_extension": ".py",
   "mimetype": "text/x-python",
   "name": "python",
   "nbconvert_exporter": "python",
   "pygments_lexer": "ipython3",
   "version": "3.6.13"
  },
  "orig_nbformat": 4
 },
 "nbformat": 4,
 "nbformat_minor": 2
}
