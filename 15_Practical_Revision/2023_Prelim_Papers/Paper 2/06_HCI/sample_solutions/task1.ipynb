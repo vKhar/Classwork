{
 "cells": [
  {
   "cell_type": "code",
   "execution_count": null,
   "metadata": {},
   "outputs": [],
   "source": [
    "import os\n",
    "os.chdir(\"..\")"
   ]
  },
  {
   "cell_type": "code",
   "execution_count": null,
   "metadata": {},
   "outputs": [],
   "source": [
    "import random\n",
    "## config consists of ( grid, (row, col) of robot, (row, col) of exit )\n",
    "def init_config(filename):\n",
    "    ## beware of empty lines in file\n",
    "    grid = list(\n",
    "        map(lambda line: list(line.strip()),open(filename))\n",
    "    )[:-1]\n",
    "    exit_column = random.randint(1,4)\n",
    "    grid[-1][exit_column] = \".\"\n",
    "    return grid, (0,4), (5,exit_column)\n",
    "\n",
    "def draw(config):\n",
    "    for row in config[0]:\n",
    "        print(f\"{ ''.join(row)}\")\n",
    "\n",
    "\n",
    "\n",
    "def make_move(config, prev_move=None):\n",
    "    valid_letters = ('U','D','L','R','')\n",
    "    global count\n",
    "    while True:\n",
    "        move = input(\n",
    "            f\"Enter direction ({','.join(map(lambda x: f'`{x}`', valid_letters))}):\"\n",
    "            )\n",
    "        count+=1\n",
    "        if move in valid_letters:\n",
    "            if move == \"\":\n",
    "                if prev_move:\n",
    "                    move = prev_move\n",
    "                else:\n",
    "                    print(\"No previous move\")\n",
    "                    continue\n",
    "            ## find new position of robot\n",
    "            grid, (row, col), exit_pos = config\n",
    "            if move == \"U\":\n",
    "                new_row = row - 1\n",
    "                if new_row > 0 and  grid[new_row][col] == \".\":\n",
    "                    return update_config(config, (new_row, col) ), move\n",
    "            elif move == \"D\":\n",
    "                new_row = row + 1\n",
    "                if new_row < len(grid) and ( grid[new_row][col] == \".\" or grid[new_row][col] ==\"a\" ):\n",
    "                    return update_config(config, (new_row, col) ), move\n",
    "            elif move == \"L\":\n",
    "                new_col = col - 1\n",
    "                if new_col > 0 and grid[row][new_col] == \".\":\n",
    "                    return update_config(config, (row, new_col) ), move\n",
    "            elif move == \"R\":\n",
    "                new_col = col + 1\n",
    "                if new_col < len(grid[row]) and grid[row][new_col] == \".\":\n",
    "                    return update_config(config, (row, new_col) ), move    \n",
    "        print(\"Invalid Move!\")\n",
    "\n",
    "\n",
    "def update_config(config, new_pos):\n",
    "    grid, (row, col), exit_pos = config\n",
    "    if exit_pos == new_pos: ## reach the end\n",
    "        return None\n",
    "    new_row, new_col = new_pos\n",
    "    grid[row][col] = \"X\"\n",
    "    grid[new_row][new_col] = \"T\"\n",
    "\n",
    "    return grid, (new_row, new_col), exit_pos"
   ]
  },
  {
   "cell_type": "code",
   "execution_count": null,
   "metadata": {},
   "outputs": [],
   "source": [
    "config = init_config(\"MAZE.txt\")\n",
    "prev_move = None\n",
    "count = 0\n",
    "while config:\n",
    "    draw(config)\n",
    "    config, prev_move = make_move(config, prev_move)\n",
    "print(f\"You complete in {count} moves\")\n",
    "\n"
   ]
  }
 ],
 "metadata": {
  "kernelspec": {
   "display_name": "base",
   "language": "python",
   "name": "python3"
  },
  "language_info": {
   "codemirror_mode": {
    "name": "ipython",
    "version": 3
   },
   "file_extension": ".py",
   "mimetype": "text/x-python",
   "name": "python",
   "nbconvert_exporter": "python",
   "pygments_lexer": "ipython3",
   "version": "3.11.5"
  },
  "orig_nbformat": 4
 },
 "nbformat": 4,
 "nbformat_minor": 2
}
