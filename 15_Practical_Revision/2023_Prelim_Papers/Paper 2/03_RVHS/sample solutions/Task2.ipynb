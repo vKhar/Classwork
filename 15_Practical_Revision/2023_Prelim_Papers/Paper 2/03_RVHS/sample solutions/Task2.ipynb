{
 "cells": [
  {
   "cell_type": "code",
   "execution_count": null,
   "metadata": {},
   "outputs": [],
   "source": [
    "# 2.1 \n",
    "class Node:\n",
    "    def __init__(self, data = None) -> None:\n",
    "        self.data = data\n",
    "        self.next_ptr = -1\n",
    "    def __repr__(self):\n",
    "        return f\"{self.data}:{self.next_ptr}\"\n",
    "\n",
    "class SortedLinkedList:\n",
    "    def __init__(self):\n",
    "        self.start = -1\n",
    "        self.next_free = 0\n",
    "        self.nodes = [ Node() for _ in range(50) ]\n",
    "        for i in range( len(self.nodes)-1):\n",
    "            self.nodes[i].next_ptr = i + 1\n",
    "\n",
    "    def __getFree__(self):\n",
    "\n",
    "        #ret = -1 if self.next_free == -1 else self.next_free\n",
    "        if self.next_free == -1:\n",
    "            return -1\n",
    "        else:\n",
    "            ret = self.next_free\n",
    "\n",
    "        self.next_free = self.nodes[self.next_free].next_ptr\n",
    "        return ret\n",
    "\n",
    "    def addNode(self, data):\n",
    "        if (index := self.__getFree__()) == -1:\n",
    "            return ## No more free nodes, question does not specify how to handle\n",
    "        self.nodes[index].data = data # new node with data\n",
    "        if self.start == -1:\n",
    "            ## Empty linked list\n",
    "            self.start = index\n",
    "            self.nodes[index].next_ptr = -1\n",
    "            return\n",
    "        elif data < self.nodes[self.start].data:\n",
    "            # insert before the first node\n",
    "            self.nodes[index].next_ptr = self.start\n",
    "            self.start = index\n",
    "            return\n",
    "        else:\n",
    "            # traverse linked list to position\n",
    "            prev = self.start\n",
    "            cur = self.nodes[self.start].next_ptr\n",
    "            while cur != -1 and data > self.nodes[cur].data:\n",
    "                prev = cur\n",
    "                cur = self.nodes[cur].next_ptr\n",
    "            else:\n",
    "                ## insertion point is between prev and cur\n",
    "                self.nodes[index].next_ptr = cur\n",
    "                self.nodes[prev].next_ptr = index\n",
    "                return\n",
    "            \n",
    "    ## This code allows a link list traversal to be returned as an iterator      \n",
    "    def items(self): ## a generator is an iterable\n",
    "        cur = self.start\n",
    "        while cur != -1:\n",
    "            ret = self.nodes[cur].data\n",
    "            cur = self.nodes[cur].next_ptr\n",
    "            yield ret\n",
    "\n",
    "    def displayContent(self):\n",
    "        for data in self.items():\n",
    "            print(data)\n",
    "    \n",
    "    ## cross multiplication\n",
    "    def _findCommon(self, sorted_list): ## O(n^2)\n",
    "        ret = []\n",
    "        for item_1 in self.items():\n",
    "            for item_2 in sorted_list.items():\n",
    "                if item_1 == item_2:\n",
    "                    ret.append(item_1)\n",
    "        return ret\n",
    "        \n",
    "    ## without using the items iterator:\n",
    "    def findCommon(self, sorted_list): ## O(n^2)\n",
    "        ret=[]\n",
    "        cur_1 = self.start\n",
    "        while cur_1 != -1:\n",
    "            cur_2 = sorted_list.start\n",
    "            while cur_2 != -1:\n",
    "                if self.nodes[cur_1].data == sorted_list.nodes[cur_2].data:\n",
    "                    ret.append(self.nodes[cur_1].data)\n",
    "                cur_2 = sorted_list.nodes[cur_2].next_ptr\n",
    "            cur_1 = self.nodes[cur_1].next_ptr\n",
    "        return ret\n",
    "                \n",
    "\n",
    "    def __repr__(self): ## for debugging \n",
    "        return f\"<{self.start}/{self.next_free}>{self.nodes}\"\n"
   ]
  },
  {
   "cell_type": "code",
   "execution_count": null,
   "metadata": {},
   "outputs": [],
   "source": [
    "# 2.2\n",
    "ll = SortedLinkedList()\n",
    "for word in [\"Orange\",\"Banana\",\"Grapes\",\"Apple\",\"Lemon\",\"Eggplant\"]:\n",
    "    ll.addNode(word)\n",
    "ll.displayContent()"
   ]
  },
  {
   "cell_type": "code",
   "execution_count": null,
   "metadata": {},
   "outputs": [],
   "source": [
    "# 2.3\n",
    "def read_file(filename):\n",
    "    return open(filename).read().strip().split(\",\")"
   ]
  },
  {
   "cell_type": "code",
   "execution_count": null,
   "metadata": {},
   "outputs": [],
   "source": [
    "import os\n",
    "os.chdir(\"..\\\\student_submission_folder\")"
   ]
  },
  {
   "cell_type": "code",
   "execution_count": null,
   "metadata": {},
   "outputs": [],
   "source": [
    "# 2.4\n",
    "sl1 = SortedLinkedList()\n",
    "sl2 = SortedLinkedList()\n",
    "for item in read_file(\"Task2a.txt\"):\n",
    "    sl1.addNode(item)\n",
    "for item in read_file(\"Task2b.txt\"):\n",
    "    sl2.addNode(item)\n",
    "\n",
    "sl1.findCommon(sl2)"
   ]
  },
  {
   "cell_type": "code",
   "execution_count": 19,
   "metadata": {},
   "outputs": [
    {
     "name": "stdout",
     "output_type": "stream",
     "text": [
      "Bicycle\n",
      "Boardgame\n",
      "Buildingblocks\n",
      "Cantaloupe\n",
      "Cardgame\n",
      "Checkersboard\n",
      "Chessboard\n",
      "Doctorset\n",
      "Dollhouse\n",
      "Dollset\n",
      "Eraser\n",
      "Firefighterhat\n",
      "Grapes\n",
      "Honeydew\n",
      "Jigsawpuzzle\n",
      "Kitchenplayset\n",
      "Lego\n",
      "Notebook\n",
      "Pencil\n",
      "Playhouse\n",
      "Policehat\n",
      "Puzzlebo\n",
      "Rubikscube\n",
      "Ruler\n",
      "Sandpit\n",
      "Scissors\n",
      "Scooter\n",
      "Slide\n",
      "Swing\n",
      "Teddybear\n",
      "Toolset\n",
      "Toybox\n",
      "Trainset\n",
      "Trampoline\n"
     ]
    },
    {
     "ename": "StopIteration",
     "evalue": "",
     "output_type": "error",
     "traceback": [
      "\u001b[1;31m---------------------------------------------------------------------------\u001b[0m",
      "\u001b[1;31mStopIteration\u001b[0m                             Traceback (most recent call last)",
      "\u001b[1;32mg:\\.shortcut-targets-by-id\\1qjt4bMcEhLRA5vpo3kVZ4LfRR2WhmEVoQ_aAgO4q1CmPo-5lDSH65cp995vzGI_EIXFwU7xE\\2022_cz2a\\Classwork\\15_Practical_Revision\\2023_Prelim_Papers\\03_RVHS\\sample solutions\\Task2.ipynb Cell 6\u001b[0m line \u001b[0;36m3\n\u001b[0;32m      <a href='vscode-notebook-cell:/g%3A/.shortcut-targets-by-id/1qjt4bMcEhLRA5vpo3kVZ4LfRR2WhmEVoQ_aAgO4q1CmPo-5lDSH65cp995vzGI_EIXFwU7xE/2022_cz2a/Classwork/15_Practical_Revision/2023_Prelim_Papers/03_RVHS/sample%20solutions/Task2.ipynb#X11sZmlsZQ%3D%3D?line=0'>1</a>\u001b[0m it \u001b[39m=\u001b[39m sl1\u001b[39m.\u001b[39mitems()\n\u001b[0;32m      <a href='vscode-notebook-cell:/g%3A/.shortcut-targets-by-id/1qjt4bMcEhLRA5vpo3kVZ4LfRR2WhmEVoQ_aAgO4q1CmPo-5lDSH65cp995vzGI_EIXFwU7xE/2022_cz2a/Classwork/15_Practical_Revision/2023_Prelim_Papers/03_RVHS/sample%20solutions/Task2.ipynb#X11sZmlsZQ%3D%3D?line=1'>2</a>\u001b[0m \u001b[39mwhile\u001b[39;00m \u001b[39mTrue\u001b[39;00m:\n\u001b[1;32m----> <a href='vscode-notebook-cell:/g%3A/.shortcut-targets-by-id/1qjt4bMcEhLRA5vpo3kVZ4LfRR2WhmEVoQ_aAgO4q1CmPo-5lDSH65cp995vzGI_EIXFwU7xE/2022_cz2a/Classwork/15_Practical_Revision/2023_Prelim_Papers/03_RVHS/sample%20solutions/Task2.ipynb#X11sZmlsZQ%3D%3D?line=2'>3</a>\u001b[0m     \u001b[39mprint\u001b[39m( \u001b[39mnext\u001b[39m(it) )\n",
      "\u001b[1;31mStopIteration\u001b[0m: "
     ]
    }
   ],
   "source": [
    "it = sl1.items()\n",
    "while True:\n",
    "    print( next(it) )"
   ]
  },
  {
   "cell_type": "markdown",
   "metadata": {},
   "source": [
    "___"
   ]
  },
  {
   "cell_type": "code",
   "execution_count": null,
   "metadata": {},
   "outputs": [],
   "source": [
    "## This implementation is O(n) making use of the sorted order of the 2 list\n",
    "## can also implement without using the items() iterator\n",
    "def findCommon(self, sorted_list): \n",
    "        ret = []\n",
    "        try:\n",
    "            iter1 = self.items()\n",
    "            iter2 = sorted_list.items()\n",
    "            item1 = next(iter1)\n",
    "            item2 = next(iter2)\n",
    "            while True:\n",
    "                if item1 == item2:\n",
    "                    ret.append(item1)\n",
    "                    item1 = next(iter1)\n",
    "                    item2 = next(iter2)\n",
    "                elif item1 < item2:\n",
    "                    item1 = next(iter1)\n",
    "                else:\n",
    "                    item2 = next(iter2)\n",
    "        except StopIteration:\n",
    "            return ret"
   ]
  }
 ],
 "metadata": {
  "kernelspec": {
   "display_name": "base",
   "language": "python",
   "name": "python3"
  },
  "language_info": {
   "codemirror_mode": {
    "name": "ipython",
    "version": 3
   },
   "file_extension": ".py",
   "mimetype": "text/x-python",
   "name": "python",
   "nbconvert_exporter": "python",
   "pygments_lexer": "ipython3",
   "version": "3.11.5"
  },
  "orig_nbformat": 4
 },
 "nbformat": 4,
 "nbformat_minor": 2
}
