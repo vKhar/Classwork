{
 "cells": [
  {
   "cell_type": "markdown",
   "metadata": {},
   "source": [
    "# 2023 YIJC J2 Prelim Paper 2 - Suggested Solutions"
   ]
  },
  {
   "cell_type": "markdown",
   "metadata": {},
   "source": [
    "# Question 1 (30 marks)"
   ]
  },
  {
   "cell_type": "code",
   "execution_count": 1,
   "metadata": {},
   "outputs": [
    {
     "name": "stdout",
     "output_type": "stream",
     "text": [
      "[60, 62, 17, 82, 40, 0, 8, 13, 20, 45, 68, 75, 27, 64, 98, 9, 79, 95, 89, 55, 65, 43, 23, 51, 96, 3, 85, 29, 81, 1, 53, 61, 46, 56, 15, 47, 16, 42, 18, 59, 97, 12, 94, 21, 36, 19, 83, 69, 77, 50, 24, 73, 74, 44, 87, 78, 22, 26, 41, 99, 52, 63, 58, 25, 86, 5, 32, 38, 49, 35, 88, 72, 33, 91, 70, 100, 84, 10, 11, 66, 30, 31, 6, 48, 28, 34, 76, 57, 71, 92, 39, 37, 54, 14, 67, 90, 4, 93, 2, 7]\n"
     ]
    }
   ],
   "source": [
    "#Task 1.1 (3 marks)\n",
    "\n",
    "from random import *\n",
    "\n",
    "def generate():\n",
    "    n = 100\n",
    "    seq =  []\n",
    "    while len(seq) < n:        #[1]generate 100 numbers\n",
    "        num = randint(0,n)     #[1]use randint(0,n)\n",
    "        if num not in seq:     #[1]check unique\n",
    "            seq.append(num)\n",
    "    return seq\n",
    "\n",
    "lst = generate()\n",
    "print(lst)"
   ]
  },
  {
   "cell_type": "code",
   "execution_count": 2,
   "metadata": {},
   "outputs": [],
   "source": [
    "#Task 1.2 (3 marks)\n",
    "\n",
    "file = open('GENERATE100.TXT', 'w')      #[1]write to file with write()\n",
    "\n",
    "for i in range(len(lst)):\n",
    "    if i != len(lst)-1:\n",
    "        file.write(str(lst[i]) + ',')    #[1]separate by comma\n",
    "    else:\n",
    "        file.write(str(lst[i]))\n",
    "\n",
    "file.close()                             #[1]close file"
   ]
  },
  {
   "cell_type": "code",
   "execution_count": 26,
   "metadata": {},
   "outputs": [
    {
     "name": "stdout",
     "output_type": "stream",
     "text": [
      "[197, 180, 118, 188, 125, 157, 168, 170, 172, 148, 174, 124, 126, 107, 105, 198, 143, 150, 196, 146, 153, 145, 142, 164, 147, 111, 119, 109, 120, 127, 114, 139, 134, 182, 100, 152, 194, 155, 177, 189, 175, 108, 199, 101, 186, 141, 117, 166, 138, 102, 132, 122, 116, 156, 173, 181, 160, 151, 178, 104, 184, 115, 144, 200, 193, 179, 190, 176, 106, 112, 135, 113, 192, 161, 195, 110, 137, 187, 103, 167, 129, 191, 159, 121, 162, 165, 130, 140, 131, 158, 183, 163, 133, 149, 185, 154, 136, 171, 128, 123]\n"
     ]
    }
   ],
   "source": [
    "#Task 1.3 (3 marks)\n",
    "\n",
    "def read():\n",
    "    file = open('RANDOM100.TXT')     #[1]open and close file\n",
    "    lines = file.readlines()\n",
    "\n",
    "    seq = []\n",
    "\n",
    "    for num in lines:\n",
    "        num = num.strip()            #[1]remove the \\n\n",
    "        seq.append(int(num))         #[1]convert to integer\n",
    "\n",
    "    file.close()\n",
    "    \n",
    "    return seq\n",
    "\n",
    "lst = read()\n",
    "print(lst)"
   ]
  },
  {
   "cell_type": "code",
   "execution_count": 1,
   "metadata": {},
   "outputs": [
    {
     "name": "stdout",
     "output_type": "stream",
     "text": [
      "[0, 1, 2, 3, 5, 6]\n"
     ]
    }
   ],
   "source": [
    "#Task 1.4 (4 marks)\n",
    "\n",
    "sortlist = [1,3,5]\n",
    "\n",
    "def insert(item):\n",
    "    \n",
    "    if sortlist == [] or item > sortlist[-1]:    #[1]check it item larger than all element\n",
    "        sortlist.append(item)                    #[1]insert large item at the end\n",
    "    else:\n",
    "        \n",
    "        i = 0  \n",
    "        while item > sortlist[i]:    #[1]iterate thru each element\n",
    "            i += 1\n",
    "        sortlist.insert(i,item)      #[1]insert item in front of larger element\n",
    "\n",
    "\n",
    "\n",
    "insert(0)\n",
    "insert(2)\n",
    "insert(6)\n",
    "print(sortlist)"
   ]
  },
  {
   "cell_type": "code",
   "execution_count": 13,
   "metadata": {},
   "outputs": [
    {
     "name": "stdout",
     "output_type": "stream",
     "text": [
      "Insertion Sort: [100, 101, 102, 103, 104, 105, 106, 107, 108, 109, 110, 111, 112, 113, 114, 115, 116, 117, 118, 119, 120, 121, 122, 123, 124, 125, 126, 127, 128, 129, 130, 131, 132, 133, 134, 135, 136, 137, 138, 139, 140, 141, 142, 143, 144, 145, 146, 147, 148, 149, 150, 151, 152, 153, 154, 155, 156, 157, 158, 159, 160, 161, 162, 163, 164, 165, 166, 167, 168, 170, 171, 172, 173, 174, 175, 176, 177, 178, 179, 180, 181, 182, 183, 184, 185, 186, 187, 188, 189, 190, 191, 192, 193, 194, 195, 196, 197, 198, 199, 200]\n"
     ]
    }
   ],
   "source": [
    "#Task 1.5 (2 marks)\n",
    "\n",
    "sortlist = []\n",
    "\n",
    "def insertionsort(seq):\n",
    "    for i in range(len(seq)):    #[1]read all data in seq\n",
    "        insert(seq[i])           #[1]use insert()\n",
    "\n",
    "insertionsort(lst)\n",
    "\n",
    "print('Insertion Sort:', sortlist)"
   ]
  },
  {
   "cell_type": "code",
   "execution_count": 14,
   "metadata": {},
   "outputs": [
    {
     "name": "stdout",
     "output_type": "stream",
     "text": [
      "Bubble Sort: [100, 101, 102, 103, 104, 105, 106, 107, 108, 109, 110, 111, 112, 113, 114, 115, 116, 117, 118, 119, 120, 121, 122, 123, 124, 125, 126, 127, 128, 129, 130, 131, 132, 133, 134, 135, 136, 137, 138, 139, 140, 141, 142, 143, 144, 145, 146, 147, 148, 149, 150, 151, 152, 153, 154, 155, 156, 157, 158, 159, 160, 161, 162, 163, 164, 165, 166, 167, 168, 170, 171, 172, 173, 174, 175, 176, 177, 178, 179, 180, 181, 182, 183, 184, 185, 186, 187, 188, 189, 190, 191, 192, 193, 194, 195, 196, 197, 198, 199, 200]\n"
     ]
    }
   ],
   "source": [
    "#Task 1.6 (4 marks)\n",
    "\n",
    "def bubblesort(seq):\n",
    "    for i in range(len(seq)):                         #[1]iterate for all elements\n",
    "        for j in range(len(seq)-1):                   #[1]iterate for a pass\n",
    "            if seq[j] > seq[j+1]:                     #[1]compare\n",
    "                seq[j], seq[j+1] = seq[j+1], seq[j]   #[1]swap\n",
    "    return seq\n",
    "\n",
    "\n",
    "print('Bubble Sort:', bubblesort(lst))\n"
   ]
  },
  {
   "cell_type": "code",
   "execution_count": 15,
   "metadata": {},
   "outputs": [
    {
     "name": "stdout",
     "output_type": "stream",
     "text": [
      "In-place Quicksort: [100, 101, 102, 103, 104, 105, 106, 107, 108, 109, 110, 111, 112, 113, 114, 115, 116, 117, 118, 119, 120, 121, 122, 123, 124, 125, 126, 127, 128, 129, 130, 131, 132, 133, 134, 135, 136, 137, 138, 139, 140, 141, 142, 143, 144, 145, 146, 147, 148, 149, 150, 151, 152, 153, 154, 155, 156, 157, 158, 159, 160, 161, 162, 163, 164, 165, 166, 167, 168, 170, 171, 172, 173, 174, 175, 176, 177, 178, 179, 180, 181, 182, 183, 184, 185, 186, 187, 188, 189, 190, 191, 192, 193, 194, 195, 196, 197, 198, 199, 200]\n"
     ]
    }
   ],
   "source": [
    "#Task 1.7 (6 marks)\n",
    "\n",
    "#In-place Quicksort:\n",
    "def partition(seq, start, end):\n",
    "    pivot = seq[end]                        #[1]use last element as pivot\n",
    "    lo = start\n",
    "    hi = end - 1       \n",
    "    while lo <= hi:\n",
    "        while lo <= hi and seq[lo] < pivot:\n",
    "            lo = lo + 1\n",
    "        while lo <= hi and seq[hi] > pivot:\n",
    "            hi = hi - 1\n",
    "        if lo <= hi:\n",
    "            seq[lo], seq[hi] = seq[hi], seq[lo]   #[1] swap the small and large elements\n",
    "    seq[end], seq[lo] = seq[lo], seq[end]         #[1] swap to put pivot in between the partitions\n",
    "    return lo\n",
    "\n",
    "def qsort(seq, start, end): \n",
    "    if start < end:                        #[1] stop when only one element\n",
    "        mid = partition(seq, start, end)\n",
    "        qsort(seq, start, mid-1)           #[1] recursively partition left\n",
    "        qsort(seq, mid+1, end)             #[1] recursively partition right\n",
    "    return seq\n",
    "\n",
    "print('In-place Quicksort:', qsort(lst, 0, len(lst)-1))\n"
   ]
  },
  {
   "cell_type": "code",
   "execution_count": 16,
   "metadata": {},
   "outputs": [
    {
     "name": "stdout",
     "output_type": "stream",
     "text": [
      "Non in-place Quicksort: [100, 101, 102, 103, 104, 105, 106, 107, 108, 109, 110, 111, 112, 113, 114, 115, 116, 117, 118, 119, 120, 121, 122, 123, 124, 125, 126, 127, 128, 129, 130, 131, 132, 133, 134, 135, 136, 137, 138, 139, 140, 141, 142, 143, 144, 145, 146, 147, 148, 149, 150, 151, 152, 153, 154, 155, 156, 157, 158, 159, 160, 161, 162, 163, 164, 165, 166, 167, 168, 170, 171, 172, 173, 174, 175, 176, 177, 178, 179, 180, 181, 182, 183, 184, 185, 186, 187, 188, 189, 190, 191, 192, 193, 194, 195, 196, 197, 198, 199, 200]\n"
     ]
    }
   ],
   "source": [
    "#Task 1.7 (6 marks)\n",
    "\n",
    "#Non in-place Quicksort:\n",
    "def nqsort(seq):\n",
    "    if len(seq) < 2:                   #[1] stop when only one element\n",
    "        return seq\n",
    "    \n",
    "    pivot_index = len(seq) - 1         #[1] use last element as pivot\n",
    "    pivot = seq[pivot_index]\n",
    "    left = []\n",
    "    right = []\n",
    "\n",
    "    for ele in seq[:-1]:\n",
    "        if ele < pivot:\n",
    "            left.append(ele)           #[1] smaller elements in left partition\n",
    "        else:\n",
    "            right.append(ele)          #[1] larger elements in right partition\n",
    "            \n",
    "    left = nqsort(left)                 #[1] recursively partition left\n",
    "    right = nqsort(right)               #[1] recursively partition right\n",
    "\n",
    "    return left + [pivot] + right\n",
    "\n",
    "print('Non in-place Quicksort:', nqsort(lst))\n"
   ]
  },
  {
   "cell_type": "code",
   "execution_count": 25,
   "metadata": {},
   "outputs": [
    {
     "name": "stdout",
     "output_type": "stream",
     "text": [
      "Insertion Sort: 0.001727299999998877\n",
      "Bubble Sort: 0.0008870999999999185\n",
      "In-place Quick Sort: 0.00023939999999811334\n",
      "Non in-place Quick Sort: 0.00027080000000978544\n"
     ]
    }
   ],
   "source": [
    "#Task 1.8 (5 marks)\n",
    "\n",
    "from timeit import * \n",
    "\n",
    "lst = read()\n",
    "insert100 = timeit(lambda: insertionsort(lst), number=1)\n",
    "print('Insertion Sort:', insert100)\n",
    "\n",
    "lst = read()\n",
    "bubble100 = timeit(lambda: bubblesort(lst), number=1)\n",
    "print('Bubble Sort:', bubble100)\n",
    "\n",
    "lst = read()\n",
    "quick100 = timeit(lambda: qsort(lst, 0, len(lst)-1), number=1)\n",
    "print('In-place Quick Sort:', quick100)        \n",
    "\n",
    "lst = read()\n",
    "nquick100 = timeit(lambda: nqsort(lst), number=1)\n",
    "print('Non in-place Quick Sort:', nquick100) \n"
   ]
  },
  {
   "cell_type": "code",
   "execution_count": null,
   "metadata": {},
   "outputs": [],
   "source": [
    "Compare Insertion Sort, Bubble Sort and Quicksort:\n",
    "\n",
    "No. of Data       Time taken    Order of Growth\n",
    "Insertion Sort    0.0017273     Average: O(n^2)     Worst Case: O(n)   \n",
    "Bubble Sort       0.0008871     Average: O(n^2)     Worst Case: O(n^2)\n",
    "Quicksort         0.0002394     Average: O(n log n) Worst Case: O(n^2)\n",
    "\n",
    "1 marks - 3 timings\n",
    "1 marks - correct timing comparison (Insertion>Bubble>Quick sort)\n",
    "3 marks - 3 Orders of Growth"
   ]
  },
  {
   "cell_type": "markdown",
   "metadata": {},
   "source": [
    "# Question 2 (20 marks)"
   ]
  },
  {
   "cell_type": "code",
   "execution_count": 2,
   "metadata": {},
   "outputs": [
    {
     "name": "stdout",
     "output_type": "stream",
     "text": [
      "\\ABCDEFGHIJ\n",
      "1..........\n",
      "2..........\n",
      "3..........\n",
      "4..........\n",
      "5..........\n",
      "6..........\n",
      "7..........\n"
     ]
    }
   ],
   "source": [
    "#Task 2.1 (4 marks)\n",
    "\n",
    "def new_board():\n",
    "    board = ['']*7              # 1m: 7 columns (correct)\n",
    "    for x in range(7):\n",
    "        board[x] = ['.']*10     #     10 rows   (dimensions)\n",
    "    return board\n",
    "\n",
    "def print_board(board):\n",
    "    print(\"\\ABCDEFGHIJ\")        # 1m: column label\n",
    "    for y in range(7):\n",
    "        line = str(y+1)         #    and row label\n",
    "        for x in range(10):\n",
    "            line += board[y][x] # 1m: double loop/print all coords\n",
    "        print(line)\n",
    "\n",
    "board1 = new_board()            #\n",
    "print_board(board1)             # 1m: print board"
   ]
  },
  {
   "cell_type": "code",
   "execution_count": 3,
   "metadata": {},
   "outputs": [
    {
     "name": "stdout",
     "output_type": "stream",
     "text": [
      "\\ABCDEFGHIJ\n",
      "1..........\n",
      "2R......SR.\n",
      "3.......S.R\n",
      "4R...R..S..\n",
      "5.......S..\n",
      "6..R......R\n",
      "7..........\n"
     ]
    }
   ],
   "source": [
    "#Task 2.2 (6 marks)\n",
    "\n",
    "import random                       \n",
    "def setup(board):\n",
    "    direction = random.randint(0,1) # 1m randomly determine direction    \n",
    "    if direction == 0: #right (horz)\n",
    "        x = random.randint(0,6)     # 1m suitable random numbers (horz)\n",
    "        y = random.randint(0,6)     #    that does not go out of index\n",
    "        for xdir in range(4):\n",
    "            board[y][x+xdir] = 'S'  # 1m assign 'S' to 4 consecutive coords\n",
    "\n",
    "    else:              #down (vertical)\n",
    "        x = random.randint(0,9)     #    suitable random number (vert)\n",
    "        y = random.randint(0,3)     #    that does not go out of index\n",
    "        for ydir in range(4):\n",
    "            board[y+ydir][x] = 'S'\n",
    "\n",
    "    rocks = 0\n",
    "    while rocks != 7:               # 1m loop 7 rocks  \n",
    "        x = random.randint(0,9)\n",
    "        y = random.randint(0,6)\n",
    "        if board[y][x] == '.':      # 1m place rock on empty coordinate\n",
    "            board[y][x] = 'R'       # 1m assign 'R' to 7 empty coords\n",
    "            rocks += 1\n",
    "\n",
    "setup(board1)                       #    marks for testing awarded in 2.1\n",
    "print_board(board1)\n"
   ]
  },
  {
   "cell_type": "code",
   "execution_count": 5,
   "metadata": {},
   "outputs": [
    {
     "name": "stdout",
     "output_type": "stream",
     "text": [
      "\n",
      " ABCDEFGHIJ\n",
      "1.........R\n",
      "2..........\n",
      "3.....R....\n",
      "4........R.\n",
      "5.R.......R\n",
      "6..........\n",
      "7.R.R......\n",
      "Enter a coordinate (e.g. a5):b2\n",
      "\n",
      " ABCDEFGHIJ\n",
      "1.........R\n",
      "2.M........\n",
      "3.....R....\n",
      "4........R.\n",
      "5.R.......R\n",
      "6..........\n",
      "7.R.R......\n",
      "Enter a coordinate (e.g. a5):c3\n",
      "\n",
      " ABCDEFGHIJ\n",
      "1.........R\n",
      "2.M........\n",
      "3..M..R....\n",
      "4........R.\n",
      "5.R.......R\n",
      "6..........\n",
      "7.R.R......\n",
      "Enter a coordinate (e.g. a5):d4\n",
      "\n",
      " ABCDEFGHIJ\n",
      "1.........R\n",
      "2.M........\n",
      "3..M..R....\n",
      "4...M....R.\n",
      "5.R.......R\n",
      "6..........\n",
      "7.R.R......\n",
      "Enter a coordinate (e.g. a5):e5\n",
      "\n",
      " ABCDEFGHIJ\n",
      "1.........R\n",
      "2.M........\n",
      "3..M..R....\n",
      "4...M....R.\n",
      "5.R..M....R\n",
      "6..........\n",
      "7.R.R......\n",
      "Enter a coordinate (e.g. a5):f6\n",
      "\n",
      " ABCDEFGHIJ\n",
      "1.........R\n",
      "2.M........\n",
      "3..M..R....\n",
      "4...M....R.\n",
      "5.R..M....R\n",
      "6.....M....\n",
      "7.R.R......\n",
      "Enter a coordinate (e.g. a5):g7\n",
      "\n",
      " ABCDEFGHIJ\n",
      "1.........R\n",
      "2.M........\n",
      "3..M..R....\n",
      "4...M....R.\n",
      "5.R..M....R\n",
      "6.....M....\n",
      "7.R.R..M...\n",
      "Enter a coordinate (e.g. a5):e1\n",
      "\n",
      " ABCDEFGHIJ\n",
      "1....M....R\n",
      "2.M........\n",
      "3..M..R....\n",
      "4...M....R.\n",
      "5.R..M....R\n",
      "6.....M....\n",
      "7.R.R..M...\n",
      "Enter a coordinate (e.g. a5):f2\n",
      "\n",
      " ABCDEFGHIJ\n",
      "1....M....R\n",
      "2.M...M....\n",
      "3..M..R....\n",
      "4...M....R.\n",
      "5.R..M....R\n",
      "6.....M....\n",
      "7.R.R..M...\n",
      "Enter a coordinate (e.g. a5):g3\n",
      "Hit!\n",
      "\n",
      " ABCDEFGHIJ\n",
      "1....M....R\n",
      "2.M...M....\n",
      "3..M..RH...\n",
      "4...M....R.\n",
      "5.R..M....R\n",
      "6.....M....\n",
      "7.R.R..M...\n",
      "Enter a coordinate (e.g. a5):h3\n",
      "\n",
      " ABCDEFGHIJ\n",
      "1....M....R\n",
      "2.M...M....\n",
      "3..M..RHM..\n",
      "4...M....R.\n",
      "5.R..M....R\n",
      "6.....M....\n",
      "7.R.R..M...\n",
      "Enter a coordinate (e.g. a5):g2\n",
      "\n",
      " ABCDEFGHIJ\n",
      "1....M....R\n",
      "2.M...MM...\n",
      "3..M..RHM..\n",
      "4...M....R.\n",
      "5.R..M....R\n",
      "6.....M....\n",
      "7.R.R..M...\n",
      "Enter a coordinate (e.g. a5):g4\n",
      "Hit!\n",
      "\n",
      " ABCDEFGHIJ\n",
      "1....M....R\n",
      "2.M...MM...\n",
      "3..M..RHM..\n",
      "4...M..H.R.\n",
      "5.R..M....R\n",
      "6.....M....\n",
      "7.R.R..M...\n",
      "Enter a coordinate (e.g. a5):g5\n",
      "Hit!\n",
      "\n",
      " ABCDEFGHIJ\n",
      "1....M....R\n",
      "2.M...MM...\n",
      "3..M..RHM..\n",
      "4...M..H.R.\n",
      "5.R..M.H..R\n",
      "6.....M....\n",
      "7.R.R..M...\n",
      "Enter a coordinate (e.g. a5):g6\n",
      "Hit!\n",
      " ABCDEFGHIJ\n",
      "1....M....R\n",
      "2.M...MM...\n",
      "3..M..RHM..\n",
      "4...M..H.R.\n",
      "5.R..M.H..R\n",
      "6.....MH...\n",
      "7.R.R..M...\n",
      "You have fired 14 missiles.\n"
     ]
    }
   ],
   "source": [
    "# Task 2.3 (10 marks)\n",
    "\n",
    "# Modified display to hide ship\n",
    "def print_board(board):\n",
    "    print(\" ABCDEFGHIJ\")\n",
    "    for y in range(7):\n",
    "        line = str(y+1) \n",
    "        for x in range(10):\n",
    "            if board[y][x] == 'S':\n",
    "                line += '.'     # 1m hide ship\n",
    "            else:\n",
    "                line += board[y][x]\n",
    "        print(line)\n",
    "\n",
    "def game():\n",
    "    x = 0\n",
    "    d = {} \n",
    "    for letter in \"ABCDEFGHIJ\":\n",
    "        d[letter] = x\n",
    "        x += 1\n",
    "\n",
    "    hits = 0                  \n",
    "    b = new_board()             #    misses and hits/counter\n",
    "    setup(b)\n",
    "\n",
    "    counter = 0                 # 1m initialise counter\n",
    "    while hits < 4:             # 1m while loop until exit/win\n",
    "        print()\n",
    "        print_board(b)          # 1m display\n",
    "                                # 1m get input\n",
    "        coord = input(\"Enter a coordinate (e.g. a5):\").upper() \n",
    "        if not coord or len(coord)!=2:\n",
    "            continue\n",
    "        if coord[0] not in \"ABCDEFGHIJ\":\n",
    "            continue                     \n",
    "        else:\n",
    "            x = d[coord[0]]     # 1m convert input coord\n",
    "        if coord[1] not in \"1234567\":\n",
    "            continue\n",
    "        y = int(coord[1])-1     #    convert input coord\n",
    "        counter += 1            # 1m increment counter for missile\n",
    "        if b[y][x] == 'S':      # 1m identify hit and assign 'H'\n",
    "            print(\"Hit!\")\n",
    "            b[y][x] = 'H'\n",
    "            hits += 1\n",
    "        elif b[y][x] == 'H' or b[y][x] == 'R': \n",
    "            print(\"Invalid coordinate.\")\n",
    "        else:\n",
    "            b[y][x] = 'M'       # 1m correctly assign 'M'iss\n",
    "    print_board(b)\n",
    "    print('You have fired', counter, 'missiles.') \n",
    "                                # 1m display score\n",
    "game()"
   ]
  },
  {
   "cell_type": "markdown",
   "metadata": {},
   "source": [
    "# Question 3 (20 marks)"
   ]
  },
  {
   "cell_type": "code",
   "execution_count": 14,
   "metadata": {},
   "outputs": [],
   "source": [
    "#Task 3.1   (5 marks)\n",
    "#Write program code to declare the class Tree, its constructor, accessors and modifiers.\n",
    "\n",
    "class Tree:   \n",
    "    def __init__(self, data):            \n",
    "        self.data = data                  #[1] data attribute\n",
    "        self.left_pointer = None          #[1] left_pointer \n",
    "        self.right_pointer = None         #[1] right_pointer\n",
    "        \n",
    "    def getData(self):                    #[1] all the getters\n",
    "        return self.data\n",
    "    \n",
    "    def getLeft(self):\n",
    "        return self.left_pointer\n",
    "        \n",
    "    def getRight(self):\n",
    "        return self.right_pointer\n",
    "\n",
    "    def setData(self, newdata):           #[1] all the setters\n",
    "        self.data = newdata\n",
    "    \n",
    "    def setLeft(self, newleft):\n",
    "        self.left_pointer = newleft\n",
    "        \n",
    "    def setRight(self, newright):\n",
    "        self.right_pointer = newright \n",
    "        "
   ]
  },
  {
   "cell_type": "code",
   "execution_count": 15,
   "metadata": {},
   "outputs": [
    {
     "name": "stdout",
     "output_type": "stream",
     "text": [
      "100\n",
      "None\n",
      "None\n"
     ]
    }
   ],
   "source": [
    "#Test cases for Task 3.1\n",
    "\n",
    "tree = Tree(100)   # create a tree that stores 100\n",
    "\n",
    "print(tree.getData())\n",
    "print(tree.getLeft())\n",
    "print(tree.getRight())"
   ]
  },
  {
   "cell_type": "code",
   "execution_count": 16,
   "metadata": {},
   "outputs": [],
   "source": [
    "#Task 3.2 (part 1)\n",
    "#Write the recursive method to insert an integer value into the tree. [6m]\n",
    "\n",
    "class Tree:   \n",
    "    def __init__(self, data):  #constructor\n",
    "        self.data = data\n",
    "        self.left_pointer = None\n",
    "        self.right_pointer = None     \n",
    "        \n",
    "    def getData(self):\n",
    "        return self.data\n",
    "    \n",
    "    def getLeft(self):\n",
    "        return self.left_pointer\n",
    "        \n",
    "    def getRight(self):\n",
    "        return self.right_pointer\n",
    "\n",
    "    def setData(self, newdata):\n",
    "        self.data = newdata\n",
    "    \n",
    "    def setLeft(self, newleft):\n",
    "        self.left_pointer = newleft\n",
    "        \n",
    "    def setRight(self, newright):\n",
    "        self.right_pointer = newright \n",
    "\n",
    "    #Task 3.2 (part 1)\n",
    "    def insert(self, newdata): \n",
    "        if newdata < self.data:                   #[1] compare newdata with self.data\n",
    "            if self.getLeft() == None:\n",
    "                self.setLeft(Tree(newdata))       #[1] insert left if none\n",
    "            else:\n",
    "                self.getLeft().insert(newdata)    #[1] traverse left if smaller\n",
    "        else:\n",
    "            if self.getRight() == None:           #[1] insert right if none\n",
    "                self.setRight(Tree(newdata))\n",
    "            else:\n",
    "                self.getRight().insert(newdata)   #[1] traverse right if larger       \n",
    "        \n",
    "        "
   ]
  },
  {
   "cell_type": "code",
   "execution_count": 17,
   "metadata": {},
   "outputs": [
    {
     "name": "stdout",
     "output_type": "stream",
     "text": [
      "100 None None\n",
      "100 None 101\n",
      "100 99 101\n"
     ]
    }
   ],
   "source": [
    "tree = Tree(100)\n",
    "print(tree.data, tree.left_pointer, tree.right_pointer)\n",
    "\n",
    "tree.insert(101)\n",
    "print(tree.data, tree.left_pointer, tree.right_pointer.data)\n",
    "\n",
    "tree.insert(99)\n",
    "print(tree.data, tree.left_pointer.data, tree.right_pointer.data)"
   ]
  },
  {
   "cell_type": "code",
   "execution_count": 42,
   "metadata": {},
   "outputs": [],
   "source": [
    "#Task 3.2 (part 2)    (3 marks)\n",
    "\n",
    "lst = [356, 809, 695, 911, 703, 748, 877, 938, 928, 416]\n",
    "\n",
    "tree = Tree(lst[0])        #[1] create a tree with the first number\n",
    "\n",
    "for i in range(1,10):      #[1] iterate thru the list\n",
    "    tree.insert(lst[i])    #[1] insert 9 numbers into tree\n",
    "    "
   ]
  },
  {
   "cell_type": "code",
   "execution_count": 37,
   "metadata": {},
   "outputs": [
    {
     "name": "stdout",
     "output_type": "stream",
     "text": [
      "356\n",
      "809\n",
      "695\n",
      "911\n",
      "416 703\n",
      "877 938\n",
      "748\n",
      "928\n"
     ]
    }
   ],
   "source": [
    "print(tree.data)\n",
    "print(tree.right_pointer.data)\n",
    "print(tree.right_pointer.left_pointer.data)\n",
    "print(tree.right_pointer.right_pointer.data)\n",
    "print(tree.right_pointer.left_pointer.left_pointer.data, tree.right_pointer.left_pointer.right_pointer.data)\n",
    "print(tree.right_pointer.right_pointer.left_pointer.data, tree.right_pointer.right_pointer.right_pointer.data)\n",
    "print(tree.right_pointer.left_pointer.right_pointer.right_pointer.data)\n",
    "print(tree.right_pointer.right_pointer.right_pointer.left_pointer.data)"
   ]
  },
  {
   "cell_type": "markdown",
   "metadata": {},
   "source": [
    "lst = [356, 809, 695, 911, 703, 748, 877, 938, 928, 416]\n",
    "\n",
    "            356\n",
    "              \\\n",
    "              809\n",
    "              / \\\n",
    "           695   911 \n",
    "          / \\    / \\\n",
    "       416 703  877 938\n",
    "            \\       /\n",
    "            748    928\n"
   ]
  },
  {
   "cell_type": "code",
   "execution_count": 44,
   "metadata": {},
   "outputs": [],
   "source": [
    "#Task 3.3     (4 marks)\n",
    "#Write the recursive method to use in-order traversal to output the data in the BST.\n",
    "\n",
    "class Tree:   \n",
    "    def __init__(self, data):  #constructor\n",
    "        self.data = data\n",
    "        self.left_pointer = None\n",
    "        self.right_pointer = None     \n",
    "        \n",
    "    def getData(self):\n",
    "        return self.data\n",
    "    \n",
    "    def getLeft(self):\n",
    "        return self.left_pointer\n",
    "        \n",
    "    def getRight(self):\n",
    "        return self.right_pointer\n",
    "\n",
    "    def setData(self, newdata):\n",
    "        self.data = newdata\n",
    "    \n",
    "    def setLeft(self, newleft):\n",
    "        self.left_pointer = newleft\n",
    "        \n",
    "    def setRight(self, newright):\n",
    "        self.right_pointer = newright \n",
    "\n",
    "    #Task 3.2 (part 1)\n",
    "    def insert(self, newdata): \n",
    "        if newdata < self.data:                   \n",
    "            if self.getLeft() == None:\n",
    "                self.setLeft(Tree(newdata))      \n",
    "            else:\n",
    "                self.getLeft().insert(newdata)   \n",
    "        else:\n",
    "            if self.getRight() == None:           \n",
    "                self.setRight(Tree(newdata))\n",
    "            else:\n",
    "                self.getRight().insert(newdata)  \n",
    "        \n",
    "\n",
    "    #Task 3.3     (4 marks)\n",
    "    def in_order(self):\n",
    "        if self.getLeft():               #[1] Traverse left\n",
    "            self.getLeft().in_order()\n",
    "        \n",
    "        print(self.getData())            #[1] print node\n",
    "        \n",
    "        if self.getRight():\n",
    "            self.getRight().in_order()   #[1] Traverse right\n",
    "            "
   ]
  },
  {
   "cell_type": "code",
   "execution_count": 45,
   "metadata": {},
   "outputs": [
    {
     "name": "stdout",
     "output_type": "stream",
     "text": [
      "Output for in-order Traveral:\n",
      "356\n",
      "416\n",
      "695\n",
      "703\n",
      "748\n",
      "809\n",
      "877\n",
      "911\n",
      "928\n",
      "938\n"
     ]
    }
   ],
   "source": [
    "lst = [356, 809, 695, 911, 703, 748, 877, 938, 928, 416]\n",
    "\n",
    "tree = Tree(lst[0])        \n",
    "\n",
    "for i in range(1,10):      \n",
    "    tree.insert(lst[i])   \n",
    "    \n",
    "print('Output for in-order Traveral:')\n",
    "tree.in_order()                          #[1] Calling in_order()"
   ]
  },
  {
   "cell_type": "code",
   "execution_count": 48,
   "metadata": {},
   "outputs": [],
   "source": [
    "#Task 3.4   (3 marks)\n",
    "#Write the recursive method to search for an integer in the BST.\n",
    "#Return True if it exists; Otherwise, return False.\n",
    "\n",
    "class Tree:   \n",
    "    def __init__(self, data):            \n",
    "        self.data = data                  #[1] data attribute\n",
    "        self.left_pointer = None          #[1] left_pointer \n",
    "        self.right_pointer = None         #[1] right_pointer\n",
    "        \n",
    "    def getData(self):                    #[1] all the getters\n",
    "        return self.data\n",
    "    \n",
    "    def getLeft(self):\n",
    "        return self.left_pointer\n",
    "        \n",
    "    def getRight(self):\n",
    "        return self.right_pointer\n",
    "\n",
    "    def setData(self, newdata):           #[1] all the setters\n",
    "        self.data = newdata\n",
    "    \n",
    "    def setLeft(self, newleft):\n",
    "        self.left_pointer = newleft\n",
    "        \n",
    "    def setRight(self, newright):\n",
    "        self.right_pointer = newright \n",
    "\n",
    "        \n",
    "    #Task 3.2 (part 1)\n",
    "    def insert(self, newdata): \n",
    "        if newdata < self.data:                   #[1] compare newdata with self.data\n",
    "            if self.getLeft() == None:\n",
    "                self.setLeft(Tree(newdata))       #[1] insert left if none\n",
    "            else:\n",
    "                self.getLeft().insert(newdata)    #[1] traverse left if smaller\n",
    "        else:\n",
    "            if self.getRight() == None:           #[1] insert right if none\n",
    "                self.setRight(Tree(newdata))\n",
    "            else:\n",
    "                self.getRight().insert(newdata)   #[1] traverse right if larger    \n",
    "        \n",
    "\n",
    "    #Task 3.3     (4 marks)\n",
    "    def in_order(self):\n",
    "        if self.getLeft():               #[1] Traverse left\n",
    "            self.getLeft().in_order()\n",
    "        \n",
    "        print(self.getData())            #[1] print node\n",
    "        \n",
    "        if self.getRight():\n",
    "            self.getRight().in_order()   #[1] Traverse right\n",
    "                                         #[1] Calling in_order()\n",
    "\n",
    "            \n",
    "    #Task 3.4   (3 marks)\n",
    "    def search(self, item):\n",
    "        \n",
    "        if item == self.getData():                    #[1] Return True if found\n",
    "            return True\n",
    "                     \n",
    "        elif item < self.getData():\n",
    "            if self.getLeft() == None:\n",
    "                return False\n",
    "            else:\n",
    "                return self.getLeft().search(item)    #[1] search left if not None\n",
    "        else:\n",
    "            if self.getRight() == None:\n",
    "                return False\n",
    "            else:\n",
    "                return self.getRight().search(item)   #[1] search right if not None"
   ]
  },
  {
   "cell_type": "code",
   "execution_count": 49,
   "metadata": {},
   "outputs": [
    {
     "name": "stdout",
     "output_type": "stream",
     "text": [
      "True\n",
      "True\n",
      "True\n",
      "True\n",
      "True\n",
      "True\n",
      "True\n",
      "True\n",
      "True\n",
      "True\n",
      "False\n",
      "False\n",
      "False\n"
     ]
    }
   ],
   "source": [
    "lst = [356, 809, 695, 911, 703, 748, 877, 938, 928, 416]\n",
    "\n",
    "tree = Tree(lst[0])        \n",
    "\n",
    "for i in range(1,10):      \n",
    "    tree.insert(lst[i])   \n",
    "    \n",
    "\n",
    "for ele in lst:\n",
    "    print(tree.search(ele))\n",
    "\n",
    "print(tree.search(99))\n",
    "print(tree.search(599))\n",
    "print(tree.search(9999))\n"
   ]
  },
  {
   "cell_type": "code",
   "execution_count": 2,
   "metadata": {},
   "outputs": [],
   "source": [
    "#Alternative solution (without using getters and setters):\n",
    "\n",
    "#Task 3.1   (3 out of 5 marks)\n",
    "class Tree:   \n",
    "    def __init__(self, data):  #constructor       \n",
    "        self.data = data                  #[1] data attribute\n",
    "        self.left_pointer = None          #[1] left_pointer \n",
    "        self.right_pointer = None         #[1] right_pointer \n",
    "    \n",
    "    \n",
    "    #Task 3.2 (part 1) (5 marks)\n",
    "    def insert(self, newdata):  \n",
    "        if newdata < self.data:                      #[1] compare newdata with self.data\n",
    "            if self.left_pointer == None:\n",
    "                self.left_pointer = Tree(newdata)    #[1] insert left if none\n",
    "                return\n",
    "            else:\n",
    "                self.left_pointer.insert(newdata)    #[1] traverse left if smaller\n",
    "        else:                                        \n",
    "            if self.right_pointer == None:\n",
    "                self.right_pointer = Tree(newdata)   #[1] insert right if none\n",
    "                return\n",
    "            else:\n",
    "                self.right_pointer.insert(newdata)   #[1] traverse right if larger\n",
    "                \n",
    "\n",
    "    #Task 3.3     (4 marks)\n",
    "    def in_order(self):\n",
    "        if self.left_pointer:             #[1] Traverse left\n",
    "            self.left_pointer.in_order()\n",
    "        \n",
    "        print(self.data)                  #[1] print node\n",
    "        \n",
    "        if self.right_pointer:\n",
    "            self.right_pointer.in_order()  #[1] Traverse right\n",
    "                                           #[1] Calling in_order()\n",
    "\n",
    "            \n",
    "    #Task 3.4   (3 marks)\n",
    "    def search(self, item):\n",
    "        \n",
    "        if item == self.data:                     #[1] Return True if found\n",
    "            return True\n",
    "                     \n",
    "        elif item < self.data:\n",
    "            if self.left_pointer == None:\n",
    "                return False\n",
    "            else:\n",
    "                return self.left_pointer.search(item)    #[1] search left if not None\n",
    "        else:\n",
    "            if self.right_pointer == None:\n",
    "                return False\n",
    "            else:\n",
    "                return self.right_pointer.search(item)   #[1] search right if not None\n",
    "            "
   ]
  },
  {
   "cell_type": "code",
   "execution_count": 3,
   "metadata": {},
   "outputs": [
    {
     "name": "stdout",
     "output_type": "stream",
     "text": [
      "Output for in-order Traveral:\n",
      "356\n",
      "416\n",
      "695\n",
      "703\n",
      "748\n",
      "809\n",
      "877\n",
      "911\n",
      "928\n",
      "938\n"
     ]
    }
   ],
   "source": [
    "lst = [356, 809, 695, 911, 703, 748, 877, 938, 928, 416]\n",
    "\n",
    "tree = Tree(lst[0])        \n",
    "\n",
    "for i in range(1,10):      \n",
    "    tree.insert(lst[i])   \n",
    "    \n",
    "print('Output for in-order Traveral:')\n",
    "tree.in_order()                          "
   ]
  },
  {
   "cell_type": "code",
   "execution_count": 55,
   "metadata": {},
   "outputs": [
    {
     "name": "stdout",
     "output_type": "stream",
     "text": [
      "True\n",
      "True\n",
      "True\n",
      "True\n",
      "True\n",
      "True\n",
      "True\n",
      "True\n",
      "True\n",
      "True\n",
      "False\n",
      "False\n",
      "False\n"
     ]
    }
   ],
   "source": [
    "lst = [356, 809, 695, 911, 703, 748, 877, 938, 928, 416]\n",
    "\n",
    "tree = Tree(lst[0])        \n",
    "\n",
    "for i in range(1,10):      \n",
    "    tree.insert(lst[i])   \n",
    "    \n",
    "\n",
    "for ele in lst:\n",
    "    print(tree.search(ele))\n",
    "\n",
    "print(tree.search(99))\n",
    "print(tree.search(599))\n",
    "print(tree.search(9999))\n"
   ]
  },
  {
   "cell_type": "code",
   "execution_count": null,
   "metadata": {},
   "outputs": [],
   "source": []
  },
  {
   "cell_type": "code",
   "execution_count": null,
   "metadata": {},
   "outputs": [],
   "source": []
  }
 ],
 "metadata": {
  "kernelspec": {
   "display_name": "Python 3",
   "language": "python",
   "name": "python3"
  },
  "language_info": {
   "codemirror_mode": {
    "name": "ipython",
    "version": 3
   },
   "file_extension": ".py",
   "mimetype": "text/x-python",
   "name": "python",
   "nbconvert_exporter": "python",
   "pygments_lexer": "ipython3",
   "version": "3.6.4"
  }
 },
 "nbformat": 4,
 "nbformat_minor": 2
}
