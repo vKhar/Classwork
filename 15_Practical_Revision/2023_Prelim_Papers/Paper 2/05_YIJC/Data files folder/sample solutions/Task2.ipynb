{
 "cells": [
  {
   "cell_type": "code",
   "execution_count": null,
   "metadata": {},
   "outputs": [],
   "source": [
    "#2.1\n",
    "# Co-ordinate system :\n",
    "# (x, y) x is the row index in the board [1:7], 0 index is unused\n",
    "#        y is the column index [0:9]\n",
    "\n",
    "def create_grid():\n",
    "    return [ [\".\" for j in range(10)] for i in range(8)]\n",
    "\n",
    "def display_grid(grid, x_labels,y_labels, ship, rocks, guesses,flag=False):\n",
    "\n",
    "    # update ship display if flag is True\n",
    "    if flag:\n",
    "        for x, y in ship:\n",
    "            grid[y][x] = \"S\"\n",
    "    else:\n",
    "        ## only display if hit\n",
    "        for guess in guesses:\n",
    "            if guess in ship:\n",
    "                grid[guess[1]][guess[0]] = \"H\"\n",
    "            else:\n",
    "                grid[guess[1]][guess[0]] = \"M\"\n",
    "    \n",
    "    #upate rocks display\n",
    "    for x, y in rocks:\n",
    "        grid[y][x] = \"R\"\n",
    "\n",
    "    print(\"\\\\\"+ x_labels )\n",
    "    for row in y_labels: # row number [1:7]\n",
    "        print(row,end=\"\")\n",
    "        for letter in x_labels:\n",
    "            print(grid[row][x_labels.index(letter)], end=\"\" )\n",
    "        print()\n"
   ]
  },
  {
   "cell_type": "code",
   "execution_count": null,
   "metadata": {},
   "outputs": [],
   "source": [
    "# 2.2\n",
    "import random\n",
    "def generate_ship():\n",
    "    position = []\n",
    "    if random.randint(0,1) == 0:\n",
    "        # horizontal\n",
    "        y = random.randint(1,7)\n",
    "        x = random.randint(0,6)\n",
    "        for i in range(4):\n",
    "            position.append( (x+i,y))\n",
    "    else:\n",
    "        #vertical\n",
    "        x = random.randint(0,9)\n",
    "        y = random.randint(1,4)\n",
    "        for i in range(4):\n",
    "            position.append( (x,y+i))\n",
    "    return position"
   ]
  },
  {
   "cell_type": "code",
   "execution_count": null,
   "metadata": {},
   "outputs": [],
   "source": [
    "def generate_rocks(ship):\n",
    "    positions = []\n",
    "    for i in range(7):\n",
    "        while True:\n",
    "            y = random.randint(1,7)\n",
    "            x = random.randint(0,9)\n",
    "            if (x, y) not in ship + positions:\n",
    "                break\n",
    "        positions.append( (x, y))\n",
    "    return positions"
   ]
  },
  {
   "cell_type": "code",
   "execution_count": null,
   "metadata": {},
   "outputs": [],
   "source": [
    "x_labels = \"ABCDEFGHIJ\"\n",
    "grid = create_grid()\n",
    "ship = generate_ship() ## ship can be anywhere in the grid\n",
    "rocks = generate_rocks(ship) # rocks cannot be on a ship\n",
    "guesses = []\n",
    "correct = 0\n",
    "display_grid(\n",
    "    grid,\n",
    "    x_labels,\n",
    "    range(1,8),\n",
    "    ship,\n",
    "    rocks,[],True\n",
    ")\n",
    "while correct < 4:\n",
    "    try:\n",
    "        response= input(\"Enter co-ordinates: XY:\")\n",
    "        x = x_labels.index(response[0])\n",
    "        y = int(response[1])\n",
    "    except:\n",
    "        print(\"Invalid input\")\n",
    "        continue\n",
    "    guesses.append( (x,y) )\n",
    "    if (x,y) in ship:\n",
    "        correct +=1\n",
    "        print(\"You have hit:\", correct)\n",
    "    display_grid(grid, x_labels, range(1,8),ship,rocks,guesses)\n",
    "    "
   ]
  }
 ],
 "metadata": {
  "kernelspec": {
   "display_name": "a_level",
   "language": "python",
   "name": "python3"
  },
  "language_info": {
   "codemirror_mode": {
    "name": "ipython",
    "version": 3
   },
   "file_extension": ".py",
   "mimetype": "text/x-python",
   "name": "python",
   "nbconvert_exporter": "python",
   "pygments_lexer": "ipython3",
   "version": "3.6.13"
  },
  "orig_nbformat": 4
 },
 "nbformat": 4,
 "nbformat_minor": 2
}
