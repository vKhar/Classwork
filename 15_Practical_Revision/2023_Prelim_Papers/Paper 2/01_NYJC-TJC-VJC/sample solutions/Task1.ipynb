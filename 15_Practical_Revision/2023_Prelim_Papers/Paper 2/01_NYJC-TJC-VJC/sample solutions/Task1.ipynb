{
 "cells": [
  {
   "cell_type": "code",
   "execution_count": 1,
   "metadata": {},
   "outputs": [],
   "source": [
    "def task1_1(input_value):\n",
    "    ## validation\n",
    "    if len(input_value) != 11:\n",
    "        return False\n",
    "    if not ( input_value[:4].isalpha() and input_value[:4].isupper() ):\n",
    "        return False\n",
    "\n",
    "    if input_value[4:].isdigit():\n",
    "        return True\n",
    "    else:\n",
    "        return False"
   ]
  },
  {
   "cell_type": "code",
   "execution_count": null,
   "metadata": {},
   "outputs": [],
   "source": [
    "##  using re\n",
    "import re\n",
    "def re_validate(input_value):\n",
    "    return True if re.match(r\"[A-Z]{4}\\d{7}\",input_value) else False\n"
   ]
  },
  {
   "cell_type": "code",
   "execution_count": 2,
   "metadata": {},
   "outputs": [],
   "source": [
    "## data maps for all sub-tasks\n",
    "map=  dict (zip( [ chr(i) for i in range( ord(\"A\"), ord(\"Z\")+1)], [i for i in range(10, 39) if i%11]))\n",
    "map_list = [k for k in map.keys()]"
   ]
  },
  {
   "cell_type": "code",
   "execution_count": 3,
   "metadata": {},
   "outputs": [
    {
     "data": {
      "text/plain": [
       "{'A': 10,\n",
       " 'B': 12,\n",
       " 'C': 13,\n",
       " 'D': 14,\n",
       " 'E': 15,\n",
       " 'F': 16,\n",
       " 'G': 17,\n",
       " 'H': 18,\n",
       " 'I': 19,\n",
       " 'J': 20,\n",
       " 'K': 21,\n",
       " 'L': 23,\n",
       " 'M': 24,\n",
       " 'N': 25,\n",
       " 'O': 26,\n",
       " 'P': 27,\n",
       " 'Q': 28,\n",
       " 'R': 29,\n",
       " 'S': 30,\n",
       " 'T': 31,\n",
       " 'U': 32,\n",
       " 'V': 34,\n",
       " 'W': 35,\n",
       " 'X': 36,\n",
       " 'Y': 37,\n",
       " 'Z': 38}"
      ]
     },
     "execution_count": 3,
     "metadata": {},
     "output_type": "execute_result"
    }
   ],
   "source": [
    "map"
   ]
  },
  {
   "cell_type": "code",
   "execution_count": null,
   "metadata": {},
   "outputs": [],
   "source": [
    "def task1_3(input_value): # input_value has 10 valid chars\n",
    "    \n",
    "    #check digit computation\n",
    "    result=0\n",
    "    for i in range(10):\n",
    "        if i < 4:\n",
    "           result += map[input_value[i]] * (2**i)\n",
    "        else:\n",
    "            result += int(input_value[i]) * (2**i)\n",
    "    return (result%11)%10"
   ]
  },
  {
   "cell_type": "code",
   "execution_count": null,
   "metadata": {},
   "outputs": [],
   "source": [
    "#1.4\n",
    "def task1_4(input_value):\n",
    "\n",
    "    if task1_1(input_value):\n",
    "        check_digit = task1_3(input_value[:10])\n",
    "        if check_digit == int(input_value[-1]):\n",
    "            return True\n",
    "        else:\n",
    "            return False # invalid check digit\n",
    "    else:\n",
    "        return False # invalid input\n",
    "    "
   ]
  },
  {
   "cell_type": "code",
   "execution_count": null,
   "metadata": {},
   "outputs": [],
   "source": [
    "print(task1_4('PONU2079674'))\n",
    "print(task1_4('XONU2079674'))"
   ]
  },
  {
   "cell_type": "markdown",
   "metadata": {},
   "source": [
    "___ \n",
    "``` \n",
    "(a + b + ... + n) mod m == ( (a mod m) + (b mod m) + ... + (n mod m) ) mod m\n",
    "\n",
    "find a and a' such that (a mod m) == (a' mod m )\n",
    "\n",
    "a' = a + m\n",
    "```"
   ]
  },
  {
   "cell_type": "code",
   "execution_count": null,
   "metadata": {},
   "outputs": [],
   "source": [
    "map"
   ]
  },
  {
   "cell_type": "code",
   "execution_count": null,
   "metadata": {},
   "outputs": [],
   "source": [
    "### Given a valid input , find another valid input that differs only by 1 digit\n",
    "### For this solution the first digit must be from A to P, no wraparound\n",
    "reverse_map = dict(zip( map.values(), map.keys()))\n",
    "reverse_map\n",
    "value1 = 'FONU257967'\n",
    "value2 =  reverse_map[ (map[value1[0]] +11)] + value1[1:] \n",
    "print(value2)"
   ]
  },
  {
   "cell_type": "code",
   "execution_count": null,
   "metadata": {},
   "outputs": [],
   "source": [
    "## Solution with wrap around\n",
    "import string\n",
    "value1 = 'TONU257967'\n",
    "value2 = reverse_map[ (map[value1[0]] +11)] + value1[1:] if map[value1[0]] < 28 else reverse_map [(map[value1[0]] + 11 -10)%11 + 10] + value1[1:]\n",
    "print(value2)"
   ]
  },
  {
   "cell_type": "code",
   "execution_count": null,
   "metadata": {},
   "outputs": [],
   "source": [
    "## task 1.5 letter at position 0, map.index(letter) + 11\n",
    "print(CD1:=task1_3(value1), CD2:=task1_3(value2))\n",
    "print( task1_4(value1+str(CD1)), task1_4(value2+str(CD2)))\n"
   ]
  }
 ],
 "metadata": {
  "kernelspec": {
   "display_name": "a_level",
   "language": "python",
   "name": "python3"
  },
  "language_info": {
   "codemirror_mode": {
    "name": "ipython",
    "version": 3
   },
   "file_extension": ".py",
   "mimetype": "text/x-python",
   "name": "python",
   "nbconvert_exporter": "python",
   "pygments_lexer": "ipython3",
   "version": "3.6.13"
  },
  "orig_nbformat": 4
 },
 "nbformat": 4,
 "nbformat_minor": 2
}
