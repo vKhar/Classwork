{
 "cells": [
  {
   "cell_type": "code",
   "execution_count": 1,
   "metadata": {},
   "outputs": [],
   "source": [
    "import os\n",
    "os.chdir(\"..\\\\Resources Folder\")"
   ]
  },
  {
   "cell_type": "code",
   "execution_count": null,
   "metadata": {},
   "outputs": [],
   "source": [
    "import csv\n",
    "facilities = list( csv.reader( open(\"SPORTS-FACILITIES.txt\")))"
   ]
  },
  {
   "cell_type": "markdown",
   "metadata": {},
   "source": [
    "##### Task 2.1"
   ]
  },
  {
   "cell_type": "code",
   "execution_count": null,
   "metadata": {},
   "outputs": [],
   "source": [
    "# insertion sort\n",
    "for i in range(1,len(facilities)):\n",
    "    j = i\n",
    "    while j > 0 and int(facilities[j][1]) > int(facilities[j-1][1]):\n",
    "        facilities[j], facilities[j-1] = facilities[j-1], facilities[j]\n",
    "        j-=1 "
   ]
  },
  {
   "cell_type": "markdown",
   "metadata": {},
   "source": [
    "##### Task 2.2"
   ]
  },
  {
   "cell_type": "code",
   "execution_count": null,
   "metadata": {},
   "outputs": [],
   "source": [
    "## quick sort\n",
    "def partition(array, lb, ub): # Lomuto's partitioning\n",
    "        pivot = int(array[lb][1])\n",
    "        left = lb+1\n",
    "        right = ub\n",
    "        while left <= right:\n",
    "            ## left should move until it is pointing at a value > pivot or > ub\n",
    "            while left <= ub and int(array[left][1]) >= pivot:\n",
    "                left +=1\n",
    "            ## right should be pointing at a value <= pivot \n",
    "            while int(array[right][1]) < pivot:\n",
    "                right -= 1\n",
    "\n",
    "            if left < right:\n",
    "                array[left], array[right] = array[right], array[left]\n",
    "                left +=1\n",
    "                right-=1\n",
    "        #complete scan right should be pointing at the pivot location\n",
    "        array[lb], array[right] = array[right], array[lb]\n",
    "        return right\n",
    "def qsort(array):\n",
    "    def recur_sort(array, lb, ub):\n",
    "        if lb >= ub:\n",
    "            return\n",
    "        pivot_idx = partition(array, lb, ub)\n",
    "        recur_sort(array,lb,pivot_idx-1)\n",
    "        recur_sort(array,pivot_idx+1, ub)\n",
    "    lb = 0\n",
    "    ub = len(array)-1\n",
    "    recur_sort(array, lb, ub)\n",
    "    "
   ]
  },
  {
   "cell_type": "markdown",
   "metadata": {},
   "source": [
    "##### Task 2.3"
   ]
  },
  {
   "cell_type": "code",
   "execution_count": null,
   "metadata": {},
   "outputs": [],
   "source": [
    "## 2.3 inplace quick sort counting comparisons\n",
    "def qsort(array,count):\n",
    "    def partition(array, lb, ub):\n",
    "        nonlocal count\n",
    "        pivot = int(array[lb])\n",
    "        left = lb+1\n",
    "        right = ub\n",
    "        while left <= right:\n",
    "            ## left should move right until it is pointing at a value > pivot or > ub\n",
    "            while left <= ub:\n",
    "                count+=1\n",
    "                if int(array[left][1]) >= pivot:\n",
    "                    left +=1\n",
    "                else:\n",
    "                    break\n",
    "            ## right should be pointing at a value <= pivot \n",
    "            while int(array[right][1]) < pivot:\n",
    "                count+=1\n",
    "                right -= 1\n",
    "\n",
    "            if left < right:\n",
    "                array[left], array[right] = array[right], array[left]\n",
    "                left +=1\n",
    "                right-=1\n",
    "            count+=1\n",
    "        #complete scan right should be pointing at the pivot location\n",
    "        array[lb], array[right] = array[right], array[lb]\n",
    "        return right\n",
    "\n",
    "    def recur_sort(array, lb, ub):\n",
    "        if lb >= ub:\n",
    "            return\n",
    "        pivot_idx = partition(array, lb, ub)\n",
    "        recur_sort(array,lb,pivot_idx-1)\n",
    "        recur_sort(array,pivot_idx+1, ub)\n",
    "    lb = 0\n",
    "    ub = len(array)-1\n",
    "    recur_sort(array, lb, ub)\n",
    "    return count\n",
    "    "
   ]
  },
  {
   "cell_type": "code",
   "execution_count": null,
   "metadata": {},
   "outputs": [],
   "source": [
    "## non-inplace quick sort count returns sorted list and count\n",
    "def qsort2(array, count) -> (list, int) :\n",
    "    if len(array) < 2:\n",
    "        return array,count\n",
    "    pivot = array[0]\n",
    "    left=[]\n",
    "    right=[]\n",
    "    for i in array[1:]:\n",
    "        count+=1\n",
    "        if int(i[1]) > int(pivot[1]):\n",
    "            left.append(i)\n",
    "        else:\n",
    "            right.append(i)\n",
    "    left, count = qsort2(left,count)\n",
    "    right,count = qsort2(right, count)\n",
    "    return left + [pivot] + right , count\n"
   ]
  },
  {
   "cell_type": "code",
   "execution_count": null,
   "metadata": {},
   "outputs": [],
   "source": [
    "## Task 2.3\n",
    "# insertion sort count comparisons\n",
    "def insert_sort(array,count):\n",
    "    for i in range(1,len(array)):\n",
    "        j = i\n",
    "        while j > 0:\n",
    "            count+=1\n",
    "            if int(array[j][1]) > int(array[j-1][1]):\n",
    "                array[j], array[j-1] = array[j-1], array[j]\n",
    "                j-=1 \n",
    "            else:\n",
    "                break\n",
    "    return count"
   ]
  },
  {
   "cell_type": "code",
   "execution_count": null,
   "metadata": {},
   "outputs": [],
   "source": [
    "count=0\n",
    "import random, math\n",
    "test_data = [(0,random.randint(1,100)) for _ in range(100)]\n",
    "#test_data = [i for i in range(10000,0,-1)]\n",
    "test_data2 = test_data[:]\n",
    "\n",
    "\n",
    "count1 = qsort(test_data, 0)\n",
    "print(f\"{'qsort1 comparisons:':<20} {count1:<20}\",)\n",
    "\n",
    "\n",
    "\n",
    "count2=insert_sort(test_data2, 0)\n",
    "print(f\"{'insert comparisons:':<20} {count2:<20}\",)\n",
    "#n = len(test_data)\n",
    "#print(\"insert / qsort ratio is \", round(count2/count1,2), round( (math.pow(n,2))/(n*math.log2(n))))\n"
   ]
  },
  {
   "cell_type": "code",
   "execution_count": null,
   "metadata": {},
   "outputs": [],
   "source": [
    "facilities, count = qsort2(facilities,0)\n",
    "print(f\"{'Facility':<28} {'Bookings':<8}\")\n",
    "for item in facilities:\n",
    "    print(f\"{item[0]:<28} {item[1]:<8}\")\n",
    "print(\"Total comparisons is\", count)\n"
   ]
  },
  {
   "cell_type": "code",
   "execution_count": null,
   "metadata": {},
   "outputs": [],
   "source": [
    "count = insert_sort(facilities,0)\n",
    "print(f\"{'Facility':<28} {'Bookings':<8}\")\n",
    "for item in facilities:\n",
    "    print(f\"{item[0]:<28} {item[1]:<8}\")\n",
    "print(\"Total comparisons is\", count)\n"
   ]
  }
 ],
 "metadata": {
  "kernelspec": {
   "display_name": "a_level",
   "language": "python",
   "name": "python3"
  },
  "language_info": {
   "codemirror_mode": {
    "name": "ipython",
    "version": 3
   },
   "file_extension": ".py",
   "mimetype": "text/x-python",
   "name": "python",
   "nbconvert_exporter": "python",
   "pygments_lexer": "ipython3",
   "version": "3.6.13"
  },
  "orig_nbformat": 4
 },
 "nbformat": 4,
 "nbformat_minor": 2
}
