{
 "cells": [
  {
   "cell_type": "code",
   "execution_count": null,
   "metadata": {},
   "outputs": [],
   "source": [
    "# Task 3.1\n",
    "## getters/setters ?\n",
    "class Process:\n",
    "    def __init__(self, name, execute_time):\n",
    "        self.name = name\n",
    "        self.time_remaining = execute_time\n",
    "    def is_completed(self):\n",
    "        return self.time_remaining <= 0\n",
    "    def execute(self, t):\n",
    "        if not self.is_completed():\n",
    "            self.time_remaining -= t\n",
    "    def __repr__(self):\n",
    "        return f\"{self.name}:{self.time_remaining}\"\n",
    "    "
   ]
  },
  {
   "cell_type": "code",
   "execution_count": null,
   "metadata": {},
   "outputs": [],
   "source": [
    "#Task 3.2\n",
    "class CircularQueue:\n",
    "    ## assume size is n \n",
    "    def __init__(self, n):\n",
    "        self.items = [ None for _ in range(n)]\n",
    "        self.front = -1 # index to dequee from\n",
    "        self.rear = 0 # index to insert to\n",
    "    def is_empty(self):\n",
    "        return self.front == -1\n",
    "    def is_full(self):\n",
    "        return self.front == self.rear\n",
    "    def enqueue(self, item):\n",
    "        if self.is_full():\n",
    "            print(\"Queue is full\")\n",
    "            return \n",
    "        self.items[self.rear] = item\n",
    "        if self.front == -1:\n",
    "            self.front = 0\n",
    "        self.rear = (self.rear + 1) % len(self.items)\n",
    "    def dequeue(self):\n",
    "        if self.is_empty():\n",
    "            print(\"Queue is empty\")\n",
    "            return None\n",
    "        ret = self.items[self.front]\n",
    "        self.items[self.front] = None\n",
    "        self.front = (self.front+1) % len(self.items)\n",
    "        if self.front == self.rear: #empty\n",
    "            self.front = -1\n",
    "            self.rear = 0\n",
    "        return ret\n",
    "    def display(self):\n",
    "        if self.is_empty():\n",
    "            print(\"Empty\")\n",
    "            return\n",
    "        ret=[]\n",
    "        cur = self.front\n",
    "        while True:\n",
    "            ret.append(self.items[cur])\n",
    "            cur = (cur+1)%len(self.items)\n",
    "            if cur == self.rear:\n",
    "                break ## end of queue\n",
    "        return \",\".join( map(str,ret))\n",
    "            "
   ]
  },
  {
   "cell_type": "code",
   "execution_count": null,
   "metadata": {},
   "outputs": [],
   "source": [
    "# Task 3.3\n",
    "class FCFSScheduler(CircularQueue):\n",
    "    def init(self, n):\n",
    "        super().__init__(n)\n",
    "    def start(self):\n",
    "        while not self.is_empty():\n",
    "            process = self.dequeue()\n",
    "            if process :\n",
    "                process.execute(process.time_remaining)\n",
    "                print(f\"{process.name} completed\")   \n",
    "\n",
    "class RRScheduler(CircularQueue):\n",
    "    def init(self, n):\n",
    "        super().__init__(n)\n",
    "    def start(self):\n",
    "        while not self.is_empty():\n",
    "            process = self.dequeue()\n",
    "            process.execute(0.5)\n",
    "            if process.is_completed():\n",
    "                print(f\"{process.name} completed\")  \n",
    "            else:\n",
    "                print(f\"{process.name} {process.time_remaining}s remainig\")  \n",
    "                self.enqueue(process)"
   ]
  },
  {
   "cell_type": "code",
   "execution_count": null,
   "metadata": {},
   "outputs": [],
   "source": [
    "# Task 3.4\n",
    "import csv\n",
    "fcfs = RRScheduler(5) # FCFSSCheduler(20)\n",
    "for n, t in list(csv.reader(open(\"CPU-PROCESSES.csv\")))[1:]:\n",
    "    fcfs.enqueue(Process(n,int(t)))\n",
    "fcfs.display()\n",
    "fcfs.start()"
   ]
  }
 ],
 "metadata": {
  "kernelspec": {
   "display_name": "a_level",
   "language": "python",
   "name": "python3"
  },
  "language_info": {
   "codemirror_mode": {
    "name": "ipython",
    "version": 3
   },
   "file_extension": ".py",
   "mimetype": "text/x-python",
   "name": "python",
   "nbconvert_exporter": "python",
   "pygments_lexer": "ipython3",
   "version": "3.6.13"
  },
  "orig_nbformat": 4
 },
 "nbformat": 4,
 "nbformat_minor": 2
}
