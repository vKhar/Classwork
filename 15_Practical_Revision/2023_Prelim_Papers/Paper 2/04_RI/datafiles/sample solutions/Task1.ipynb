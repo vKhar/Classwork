{
 "cells": [
  {
   "cell_type": "code",
   "execution_count": 10,
   "metadata": {},
   "outputs": [],
   "source": [
    "import os\n",
    "os.chdir(\"..\")"
   ]
  },
  {
   "cell_type": "code",
   "execution_count": 12,
   "metadata": {},
   "outputs": [
    {
     "name": "stdout",
     "output_type": "stream",
     "text": [
      "sugar 11\n"
     ]
    }
   ],
   "source": [
    "#1.1\n",
    "f = open(\"RECIPES.txt\")\n",
    "recipe = []\n",
    "items = f.read().split(\"\\n\\n\")\n",
    "for item in items[:-1]:\n",
    "    item = item.split(\"\\n\")\n",
    "    recipe.append(item)\n",
    "\n",
    "ingredient_count = {}\n",
    "for item in recipe: # list of items, item <- [name,\"ingredient_name, amount, unit\"]\n",
    "    ingredients = item[1:]\n",
    "    for ingredient in ingredients:\n",
    "        ingredient_name = ingredient.split(\",\")[0]\n",
    "        if ingredient_count.get(ingredient_name):\n",
    "            ingredient_count[ingredient_name] += 1\n",
    "        else:\n",
    "            ingredient_count[ingredient_name] = 1\n",
    "max_ingredient = max (ingredient_count.keys(), key=lambda x: ingredient_count[x])\n",
    "print(f\"{max_ingredient}\", ingredient_count[max_ingredient])"
   ]
  },
  {
   "cell_type": "code",
   "execution_count": 14,
   "metadata": {},
   "outputs": [],
   "source": [
    "# 1.2\n",
    "def insert_sort(data):\n",
    "    for i in range(1, len(data)):\n",
    "        j = i\n",
    "        while j > 0 and data[j] < data[j-1]:\n",
    "            data[j], data[j-1] = data[j-1], data[j]\n",
    "            j -= 1\n"
   ]
  },
  {
   "cell_type": "code",
   "execution_count": null,
   "metadata": {},
   "outputs": [],
   "source": [
    "import random\n",
    "A = [ random.randint(1,10) for _ in range(50)]\n",
    "insert_sort(A)\n",
    "A"
   ]
  },
  {
   "cell_type": "code",
   "execution_count": null,
   "metadata": {},
   "outputs": [],
   "source": [
    "#1.3\n",
    "f = open(\"RECIPES.txt\")\n",
    "recipe = []\n",
    "items = f.read().split(\"\\n\\n\")\n",
    "for item in items[:-1]:\n",
    "    item = item.split(\"\\n\")\n",
    "    recipe.append(item)\n",
    "\n",
    "ingredient_amount = {} # key: name, value (quantity,unit)\n",
    "for item in recipe: # list of items, item <- [name,\"ingredient_name, amount, unit\"]\n",
    "    ingredients = item[1:]\n",
    "    for ingredient in ingredients:\n",
    "        ingredient_name, quantity, unit = ingredient.split(\",\")\n",
    "        if ingredient_amount.get(ingredient_name):\n",
    "            if ingredient_amount[ingredient_name][1] == unit:\n",
    "                ingredient_amount[ingredient_name][0] += float(quantity)\n",
    "        else:\n",
    "            ingredient_amount[ingredient_name] = [float(quantity), unit]  \n",
    "\n",
    "keys = list(ingredient_amount.keys())\n",
    "insert_sort(keys)\n",
    "for k in keys:\n",
    "    print(f\"{k}:{ingredient_amount[k][0]} {ingredient_amount[k][1]}\")"
   ]
  }
 ],
 "metadata": {
  "kernelspec": {
   "display_name": "a_level",
   "language": "python",
   "name": "python3"
  },
  "language_info": {
   "codemirror_mode": {
    "name": "ipython",
    "version": 3
   },
   "file_extension": ".py",
   "mimetype": "text/x-python",
   "name": "python",
   "nbconvert_exporter": "python",
   "pygments_lexer": "ipython3",
   "version": "3.6.13"
  },
  "orig_nbformat": 4
 },
 "nbformat": 4,
 "nbformat_minor": 2
}
