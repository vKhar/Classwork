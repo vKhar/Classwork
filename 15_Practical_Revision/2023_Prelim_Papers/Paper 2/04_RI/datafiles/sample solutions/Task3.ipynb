{
 "cells": [
  {
   "cell_type": "code",
   "execution_count": null,
   "metadata": {},
   "outputs": [],
   "source": [
    "import os\n",
    "os.chdir(\"..\")"
   ]
  },
  {
   "cell_type": "markdown",
   "metadata": {},
   "source": [
    "##### Task 3.1"
   ]
  },
  {
   "cell_type": "code",
   "execution_count": null,
   "metadata": {},
   "outputs": [],
   "source": [
    "class Node:\n",
    "    def __init__(self, data):\n",
    "        self.data = data\n",
    "        self.next = None\n",
    "    def __repr__(self):\n",
    "        return f\"{self.data}\"\n",
    "    \n",
    "class LinkedList:\n",
    "    def __init__(self):\n",
    "        self.start = None\n",
    "\n",
    "    def display(self, n = float(\"inf\")):\n",
    "        ret = []\n",
    "        cur = self.start\n",
    "        count = 0\n",
    "        while cur and count < n:\n",
    "            ret.append(cur.data)\n",
    "            cur = cur.next\n",
    "            count +=1\n",
    "        return f\"{ret}\"\n",
    "    \n",
    "    def insert_last(self, data):\n",
    "        def recur(node):\n",
    "            if node.next == None:\n",
    "                node.next = Node(data)\n",
    "            else:\n",
    "                recur(node.next)\n",
    "\n",
    "        if self.start == None:\n",
    "            self.start = Node(data)\n",
    "            return\n",
    "        else:\n",
    "            recur(self.start)"
   ]
  },
  {
   "cell_type": "code",
   "execution_count": null,
   "metadata": {},
   "outputs": [],
   "source": [
    "## Test Driver\n",
    "import csv\n",
    "ll = LinkedList()\n",
    "for id, name, score in list(csv.reader(open(\"GAMERS.txt\"))):\n",
    "    # id, name, score\n",
    "    ll.insert_last (\n",
    "        (int(id), name, int(score))\n",
    "    )\n",
    "ll.display()"
   ]
  },
  {
   "cell_type": "code",
   "execution_count": null,
   "metadata": {},
   "outputs": [],
   "source": [
    "# 3.2\n",
    "class HashTable:\n",
    "    def __init__(self, n):\n",
    "        self.size = n\n",
    "        self.slots = [LinkedList() for _ in range(n)]\n",
    "    def hasher(self, key):\n",
    "        return key%self.size\n",
    "    def insert_record(self, data): # data <- (id:int, name:str, score:int)\n",
    "        index = self.hasher( data[0])\n",
    "        self.slots[index].insert_last( data )\n",
    "    def display_records(self, index):\n",
    "        print(self.slots[index].display())\n",
    "\n",
    "    "
   ]
  },
  {
   "cell_type": "code",
   "execution_count": null,
   "metadata": {},
   "outputs": [],
   "source": [
    "def linked_list_to_hash_table(ll, ht):\n",
    "    ## Breaking Abstraction Barrier by exposing the Node object!!!\n",
    "    cur = ll.start\n",
    "    while cur:\n",
    "        ht.insert_record(cur.data)\n",
    "        cur = cur.next\n",
    "\n",
    "ht = HashTable(401)\n",
    "## ll is created above\n",
    "linked_list_to_hash_table(ll, ht)\n"
   ]
  },
  {
   "cell_type": "code",
   "execution_count": null,
   "metadata": {},
   "outputs": [],
   "source": [
    "ht.display_records(14)"
   ]
  }
 ],
 "metadata": {
  "kernelspec": {
   "display_name": "a_level",
   "language": "python",
   "name": "python3"
  },
  "language_info": {
   "codemirror_mode": {
    "name": "ipython",
    "version": 3
   },
   "file_extension": ".py",
   "mimetype": "text/x-python",
   "name": "python",
   "nbconvert_exporter": "python",
   "pygments_lexer": "ipython3",
   "version": "3.6.13"
  },
  "orig_nbformat": 4
 },
 "nbformat": 4,
 "nbformat_minor": 2
}
