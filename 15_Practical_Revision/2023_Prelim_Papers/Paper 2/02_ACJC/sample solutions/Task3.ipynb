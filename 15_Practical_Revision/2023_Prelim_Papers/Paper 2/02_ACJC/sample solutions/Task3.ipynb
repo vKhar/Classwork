{
 "cells": [
  {
   "cell_type": "code",
   "execution_count": null,
   "metadata": {},
   "outputs": [],
   "source": [
    "# 3.1\n",
    "import csv, pymongo\n",
    "client = pymongo.MongoClient('localhost', 27017)\n",
    "col = client[\"school\"][\"teacher\"]\n",
    "for doc in csv.DictReader(open(\"Teachers.csv\")):\n",
    "    insert_d = {}\n",
    "    for k in doc.keys():\n",
    "        if doc[k] != \"\":\n",
    "            insert_d[k] = doc[k]\n",
    "        if insert_d.get(\"Ratings\"):\n",
    "            insert_d[\"Ratings\"] = int(insert_d[\"Ratings\"])\n",
    "    col.insert_one(insert_d)\n",
    "    "
   ]
  },
  {
   "cell_type": "code",
   "execution_count": null,
   "metadata": {},
   "outputs": [],
   "source": [
    "# 3.2\n",
    "client = pymongo.MongoClient('localhost', 27017)\n",
    "col = client[\"school\"][\"teacher\"]\n",
    "query = {\n",
    "\n",
    "}\n",
    "results = col.find(query)\n",
    "print(f\"{'_id':<4}{'Name':<20}{'Department':<12}{'Contact':<10}{'Role':<20}{'Ratings':<8}\")\n",
    "for doc in results:\n",
    "    id = doc['_id'] if doc.get('_id')  else \"-\"\n",
    "    Name = doc['Name'] if doc.get('Name')  else \"-\"\n",
    "    Department = doc['Department'] if doc.get('Department')  else \"-\"\n",
    "    Contact = doc['Contact'] if doc.get('Contact')  else \"-\"\n",
    "    Role = doc['Role'] if doc.get('Role')  else \"-\"\n",
    "    Ratings = doc['Ratings'] if doc.get('Ratings')  else \"-\"\n",
    "\n",
    "    print(f\"{id:<4}{Name:<20}{Department:<12}{Contact:<10}{Role:<20}{Ratings:<8}\")"
   ]
  },
  {
   "cell_type": "code",
   "execution_count": null,
   "metadata": {},
   "outputs": [],
   "source": [
    "# 3.3\n",
    "client = pymongo.MongoClient('localhost', 27017)\n",
    "col = client[\"school\"][\"teacher\"]\n",
    "query = {\n",
    "\"$or\":\n",
    "    [\n",
    "        { \"$and\" : [{'Contact':{'$exists':0}},{'Role':{'$exists':0}}] },\n",
    "        {\"Ratings\": {\"$lt\": 1600} }\n",
    "\n",
    "    ]\n",
    "}\n",
    "projection = {\n",
    "'Name':1,\n",
    "}\n",
    "results = col.find(query)\n",
    "print(f\"{'_id':<4}{'Name':<20}{'Department':<12}{'Contact':<10}{'Role':<20}{'Ratings':<8}\")\n",
    "for doc in results:\n",
    "    id = doc['_id'] if doc.get('_id')  else \"-\"\n",
    "    Name = doc['Name'] if doc.get('Name')  else \"-\"\n",
    "    Department = doc['Department'] if doc.get('Department')  else \"-\"\n",
    "    Contact = doc['Contact'] if doc.get('Contact')  else \"-\"\n",
    "    Role = doc['Role'] if doc.get('Role')  else \"-\"\n",
    "    Ratings = doc['Ratings'] if doc.get('Ratings')  else \"-\"\n",
    "\n",
    "    print(f\"{id:<4}{Name:<20}{Department:<12}{Contact:<10}{Role:<20}{Ratings:<8}\")\n"
   ]
  },
  {
   "cell_type": "code",
   "execution_count": 39,
   "metadata": {},
   "outputs": [
    {
     "data": {
      "text/plain": [
       "<pymongo.results.UpdateResult at 0x2327e69edc8>"
      ]
     },
     "execution_count": 39,
     "metadata": {},
     "output_type": "execute_result"
    }
   ],
   "source": [
    "# 3.4\n",
    "client = pymongo.MongoClient('localhost', 27017)\n",
    "col = client[\"school\"][\"teacher\"]\n",
    "query = {\n",
    "    \"Department\": \"Physics\"\n",
    "}\n",
    "update = {\n",
    "    \"$set\":\n",
    "    {\n",
    "        \"Department\": 'Computing'\n",
    "    }\n",
    "}\n",
    "col.update_one(query, update)\n"
   ]
  }
 ],
 "metadata": {
  "kernelspec": {
   "display_name": "a_level",
   "language": "python",
   "name": "python3"
  },
  "language_info": {
   "codemirror_mode": {
    "name": "ipython",
    "version": 3
   },
   "file_extension": ".py",
   "mimetype": "text/x-python",
   "name": "python",
   "nbconvert_exporter": "python",
   "pygments_lexer": "ipython3",
   "version": "3.6.13"
  },
  "orig_nbformat": 4
 },
 "nbformat": 4,
 "nbformat_minor": 2
}
