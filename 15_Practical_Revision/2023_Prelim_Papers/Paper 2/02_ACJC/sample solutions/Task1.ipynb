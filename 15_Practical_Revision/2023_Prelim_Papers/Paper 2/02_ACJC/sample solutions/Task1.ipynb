{
 "cells": [
  {
   "cell_type": "code",
   "execution_count": 2,
   "metadata": {},
   "outputs": [],
   "source": [
    "## Task 1\n",
    "def addition(s1:str, s2:str)->int:\n",
    "    # assume non empty strs\n",
    "    result=\"\"\n",
    "    s1_len = len(s1)\n",
    "    s2_len =  len(s2)\n",
    "    max_len = s1_len\n",
    "    if s1_len < s2_len:\n",
    "        s1 = \"0\"*( s2_len- s1_len) + s1\n",
    "        max_len = s2_len\n",
    "    elif s2_len < s1_len:\n",
    "        s2 = \"0\"*(s1_len - s2_len) + s2\n",
    "        max_len = s1_len\n",
    "    carry = 0\n",
    "\n",
    "    for i in range(max_len-1, -1, -1):\n",
    "        carry, digit = divmod(carry + int(s1[i]) + int(s2[i]), 10)\n",
    "        result = str(digit) + result\n",
    "    return int(str(carry)+result)\n",
    "\n",
    "        \n"
   ]
  },
  {
   "cell_type": "code",
   "execution_count": 3,
   "metadata": {},
   "outputs": [
    {
     "name": "stdout",
     "output_type": "stream",
     "text": [
      "True\n",
      "True\n",
      "True\n"
     ]
    }
   ],
   "source": [
    "print(addition('12','34') == 46)\n",
    "print(addition('1234','222') == 1456)\n",
    "print(addition('999','1') == 1000)"
   ]
  },
  {
   "cell_type": "code",
   "execution_count": 4,
   "metadata": {},
   "outputs": [],
   "source": [
    "def karatsuba(s1, s2):\n",
    "    s1_len = len(s1)\n",
    "    s2_len =  len(s2)\n",
    "    \n",
    "    if s1_len == 1 and s2_len ==1:\n",
    "        return int(s1) * int(s2)\n",
    "    \n",
    "    if s1_len < s2_len:\n",
    "        s1 = \"0\"*( s2_len- s1_len) + s1\n",
    "\n",
    "    elif s2_len < s1_len:\n",
    "        s2 = \"0\"*(s1_len - s2_len) + s2\n",
    "\n",
    "    leng = len(s1) # re-calculate length after concatenation\n",
    "    mid = leng // 2\n",
    "    a = s1[:leng-mid] ## length of a, c must be longer or equal to than b, d when the length is odd number\n",
    "    b = s1[leng-mid:] ## THIS is not communicated in the question\n",
    "    c = s2[:leng-mid]\n",
    "    d = s2[leng-mid:]\n",
    "\n",
    "    ac = str(karatsuba(a,c))\n",
    "    ad = str(karatsuba(a,d))\n",
    "    bc = str(karatsuba(b,c))\n",
    "    bd = str(karatsuba(b,d))\n",
    "    ac = ac + \"0\"*(2*mid)\n",
    "    ad = ad + \"0\"*mid\n",
    "    bc = bc + \"0\"*mid\n",
    "  \n",
    "    return int(ac) + int(ad) + int(bc) + int(bd)\n",
    "\n",
    "    "
   ]
  },
  {
   "cell_type": "code",
   "execution_count": 5,
   "metadata": {},
   "outputs": [
    {
     "name": "stdout",
     "output_type": "stream",
     "text": [
      "True\n",
      "True\n",
      "True\n"
     ]
    }
   ],
   "source": [
    "print(karatsuba('15','20') == 300)\n",
    "print(karatsuba('1234','22') == 27148)\n",
    "print(karatsuba('999','222') == 221778)"
   ]
  },
  {
   "cell_type": "code",
   "execution_count": 6,
   "metadata": {},
   "outputs": [
    {
     "name": "stdout",
     "output_type": "stream",
     "text": [
      "2476 1415872567359897177252730400603568788688112412103762896379825377771520000000000\n",
      "2476 1415872567359897177252730400603568788688112412103762896379825377771520000000000\n"
     ]
    }
   ],
   "source": [
    "# 1.5\n",
    "import random, math\n",
    "lst1 = [random.randint(1,100) for _ in range(50)]\n",
    "total_sum = 0\n",
    "total_prod = 1\n",
    "for i in lst1:\n",
    "    total_sum = addition(str(total_sum), str(i))\n",
    "    total_prod = karatsuba(str(total_prod), str(i))\n",
    "\n",
    "print(total_sum, total_prod)\n",
    "## for verification\n",
    "print(sum(lst1), math.prod(lst1))"
   ]
  }
 ],
 "metadata": {
  "kernelspec": {
   "display_name": "a_level",
   "language": "python",
   "name": "python3"
  },
  "language_info": {
   "codemirror_mode": {
    "name": "ipython",
    "version": 3
   },
   "file_extension": ".py",
   "mimetype": "text/x-python",
   "name": "python",
   "nbconvert_exporter": "python",
   "pygments_lexer": "ipython3",
   "version": "3.11.5"
  },
  "orig_nbformat": 4
 },
 "nbformat": 4,
 "nbformat_minor": 2
}
