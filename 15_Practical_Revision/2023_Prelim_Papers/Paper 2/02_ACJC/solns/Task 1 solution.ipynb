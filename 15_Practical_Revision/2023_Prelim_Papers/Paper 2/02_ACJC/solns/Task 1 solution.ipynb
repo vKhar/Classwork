{
 "cells": [
  {
   "cell_type": "code",
   "execution_count": 11,
   "id": "467fe1d2",
   "metadata": {},
   "outputs": [],
   "source": [
    "#Task 1.1\n",
    "def addition(s1, s2):\n",
    "    carry = 0\n",
    "    result = \"\"\n",
    "    if len(s1) > len(s2):\n",
    "        s2 = (len(s1) - len(s2))*'0' + s2\n",
    "    elif len(s2) > len(s1):\n",
    "        s1 = (len(s2) - len(s1))*'0' + s1\n",
    "        \n",
    "    for i in range(len(s1) -1, -1, -1):#iterate from last index number to 0\n",
    "        column_sum = int(s1[i]) + int(s2[i]) + carry\n",
    "        result = str(column_sum%10) + result\n",
    "        carry = column_sum // 10\n",
    "    \n",
    "    if carry > 0:\n",
    "        result = str(carry) + result\n",
    "    \n",
    "    return int(result)\n"
   ]
  },
  {
   "cell_type": "code",
   "execution_count": 12,
   "id": "329a5b00",
   "metadata": {},
   "outputs": [
    {
     "name": "stdout",
     "output_type": "stream",
     "text": [
      "True\n",
      "True\n",
      "True\n"
     ]
    }
   ],
   "source": [
    "#Task 1.2\n",
    "print(addition('12','34') == 46)\n",
    "print(addition('1234','222') == 1456)\n",
    "print(addition('999','1') == 1000)"
   ]
  },
  {
   "cell_type": "code",
   "execution_count": 13,
   "id": "ff85641c",
   "metadata": {},
   "outputs": [],
   "source": [
    "#Task 1.3\n",
    "def karatsuba(s1, s2):\n",
    "    #base case\n",
    "    if int(s1) < 10 and int(s2) < 10: #1\n",
    "        return int(s1)*int(s2)\n",
    "    \n",
    "    #padding code\n",
    "    if len(s1) > len(s2): #2\n",
    "        s2 = '0'*(len(s1) - len(s2)) + s2\n",
    "    elif len(s2) > len(s1):\n",
    "        s1 = '0'*(len(s2) - len(s1)) + s1\n",
    "\n",
    "    n = len(s1) #1\n",
    "    mid = n // 2 \n",
    "    a = s1[0:-mid]\n",
    "    b = s1[-mid:] \n",
    "    c = s2[0:-mid]\n",
    "    d = s2[-mid:]\n",
    "    ac = str(karatsuba(a, c)) #1\n",
    "    bd = str(karatsuba(b, d))\n",
    "    ad = str(karatsuba(a, d))\n",
    "    bc = str(karatsuba(b, c))#1\n",
    "    ac = ac + '0'*(2*mid)\n",
    "    ad = ad + '0'*(mid)\n",
    "    bc = bc + '0'*(mid)\n",
    "\n",
    "    return int(ac) + int(ad) + int(bc) + int(bd)\n",
    "    "
   ]
  },
  {
   "cell_type": "code",
   "execution_count": 14,
   "id": "1a289680",
   "metadata": {},
   "outputs": [
    {
     "name": "stdout",
     "output_type": "stream",
     "text": [
      "True\n",
      "True\n",
      "True\n"
     ]
    }
   ],
   "source": [
    "#Task 1.4\n",
    "print(karatsuba('15','20')== 300)\n",
    "print(karatsuba('1234','22')== 27148)\n",
    "print(karatsuba('999','222')== 221778)"
   ]
  },
  {
   "cell_type": "code",
   "execution_count": 16,
   "id": "fca9658b",
   "metadata": {},
   "outputs": [
    {
     "name": "stdout",
     "output_type": "stream",
     "text": [
      "2647\n",
      "44480979846060304322815401908126559792007639683184656564278299459584000000000000000\n"
     ]
    }
   ],
   "source": [
    "#task 1.5\n",
    "import random\n",
    "lst1 = []\n",
    "for i in range(50):\n",
    "    lst1.append(random.randint(1, 100))\n",
    "    \n",
    "total_sum = 0\n",
    "total_prod = 1\n",
    "for item in lst1:\n",
    "    total_sum = addition(str(total_sum), str(item))\n",
    "    total_prod = karatsuba(str(total_prod), str(item))\n",
    "\n",
    "print(total_sum)\n",
    "print(total_prod)\n",
    "\n",
    "\n"
   ]
  },
  {
   "cell_type": "code",
   "execution_count": null,
   "id": "9cb86ef1",
   "metadata": {},
   "outputs": [],
   "source": []
  }
 ],
 "metadata": {
  "kernelspec": {
   "display_name": "Python 3 (ipykernel)",
   "language": "python",
   "name": "python3"
  },
  "language_info": {
   "codemirror_mode": {
    "name": "ipython",
    "version": 3
   },
   "file_extension": ".py",
   "mimetype": "text/x-python",
   "name": "python",
   "nbconvert_exporter": "python",
   "pygments_lexer": "ipython3",
   "version": "3.10.9"
  }
 },
 "nbformat": 4,
 "nbformat_minor": 5
}
