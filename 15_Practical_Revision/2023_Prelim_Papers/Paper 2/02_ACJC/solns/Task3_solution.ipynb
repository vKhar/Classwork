{
 "cells": [
  {
   "cell_type": "code",
   "execution_count": 1,
   "metadata": {},
   "outputs": [],
   "source": [
    "# Task 3.1\n",
    "\n",
    "def insertion_sort(lis):\n",
    "    length = len(lis)\n",
    "    for i in range(1, length-1): # 1 mark\n",
    "        j = i+1\n",
    "        while lis[j] < lis[j-1] and j > 0: # 1 mark\n",
    "            lis[j], lis[j-1] = lis[j-1], lis[j] # 1 mark\n",
    "            j -= 1 # 1 mark\n",
    "    return lis"
   ]
  },
  {
   "cell_type": "code",
   "execution_count": 2,
   "metadata": {},
   "outputs": [],
   "source": [
    "# Task 3.2\n",
    "\n",
    "f = open('numbers.txt') # 1 mark\n",
    "numlist = f.readlines() # 1 mark\n",
    "f.close()\n",
    "for i in range(len(numlist)):\n",
    "    numlist[i] = int(numlist[i].strip()) # 1 mark\n",
    "\n",
    "numlist = insertion_sort(numlist) # 1 mark\n",
    "\n",
    "f2 = open(\"sorted.txt\", \"w\")\n",
    "\n",
    "for item in numlist:\n",
    "    f2.write(str(item)) # 1 mark\n",
    "\n",
    "f2.close() # 1 mark (both files)"
   ]
  },
  {
   "cell_type": "code",
   "execution_count": 3,
   "metadata": {},
   "outputs": [
    {
     "name": "stdout",
     "output_type": "stream",
     "text": [
      "𓐁\n",
      "𓍨𓎇𓐂\n",
      "𓆼𓍩𓎈𓏾\n",
      "𓆿\n",
      "𓂯𓍣𓎆\n",
      "𓂲𓍩𓏻\n"
     ]
    }
   ],
   "source": [
    "# Task 3.3\n",
    "\n",
    "def egyptian(x):\n",
    "    x = str(x) # 1 mark\n",
    "    digitlist = []\n",
    "    for char in x[::-1]:\n",
    "        digitlist.append(char) # 1 mark\n",
    "    unicodelist = [78841, 78725, 78689, 78267, 77996] # 1 mark\n",
    "    \n",
    "    result = ''\n",
    "    \n",
    "    for i in range(len(digitlist)): # 1 mark\n",
    "        digit = int(digitlist[i])\n",
    "        if digit > 0:\n",
    "            unicode_no = unicodelist[i] + digit # 1 mark\n",
    "            char = chr(unicode_no)\n",
    "            result += char # 1 mark\n",
    "    \n",
    "    return result[::-1] # 1 mark\n",
    "\n",
    "for item in numlist:\n",
    "    print(egyptian(item)) # 1 mark (with output)"
   ]
  }
 ],
 "metadata": {
  "kernelspec": {
   "display_name": "Python 3",
   "language": "python",
   "name": "python3"
  },
  "language_info": {
   "codemirror_mode": {
    "name": "ipython",
    "version": 3
   },
   "file_extension": ".py",
   "mimetype": "text/x-python",
   "name": "python",
   "nbconvert_exporter": "python",
   "pygments_lexer": "ipython3",
   "version": "3.6.4"
  }
 },
 "nbformat": 4,
 "nbformat_minor": 2
}
