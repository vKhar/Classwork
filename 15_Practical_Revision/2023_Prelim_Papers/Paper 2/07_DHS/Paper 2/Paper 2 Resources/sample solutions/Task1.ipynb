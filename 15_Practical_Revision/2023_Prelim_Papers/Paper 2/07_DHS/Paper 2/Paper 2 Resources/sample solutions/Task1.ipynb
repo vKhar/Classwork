{
 "cells": [
  {
   "cell_type": "code",
   "execution_count": null,
   "metadata": {},
   "outputs": [],
   "source": [
    "import os\n",
    "os.chdir(\"..\")\n",
    "!dir"
   ]
  },
  {
   "cell_type": "code",
   "execution_count": null,
   "metadata": {},
   "outputs": [],
   "source": [
    "# 1.1a\n",
    "## Using the ascii values and wraparound the range of ascii values\n",
    "## 32, 33, ..., 126\n",
    "## n in [lb:ub], wrap around (n + step - lb)%(ub-lb+1) + lba\n",
    "def encrypt1(msg): \n",
    "    lb, ub  = 32, 126\n",
    "    ret=\"\"\n",
    "    size = len(msg)\n",
    "    for i in range(size):\n",
    "        step = size - i\n",
    "        ret += chr((ord(msg[i])+step-lb)%(ub-lb+1) + lb)\n",
    "    return ret\n",
    "        "
   ]
  },
  {
   "cell_type": "code",
   "execution_count": null,
   "metadata": {},
   "outputs": [],
   "source": [
    "# 1.1b\n",
    "## using a map/index\n",
    "map = [ chr(i) for i in range(32, 127)]\n",
    "def encrypt2(msg):\n",
    "    ret =\"\"\n",
    "    for i in range(len(msg)):\n",
    "        index = map.index( msg[i])\n",
    "        step = len(msg) - i\n",
    "        ret += map[(index + step ) % len(map)]\n",
    "    return ret\n"
   ]
  },
  {
   "cell_type": "code",
   "execution_count": 75,
   "metadata": {},
   "outputs": [],
   "source": [
    "# 1.2a\n",
    "## Using the ascii values and wraparound the range of ascii values\n",
    "## 32, 33, ..., 126\n",
    "## n in [lb:ub], wrap around (n + step - lb)%(ub-lb+1) + lba\n",
    "def decrypt1(msg): \n",
    "    lb, ub  = 32, 126\n",
    "    ret=\"\"\n",
    "    size = len(msg)\n",
    "    for i in range(size):\n",
    "        step = size - i\n",
    "        ret += chr((ord(msg[i])- step-lb)%(ub-lb+1) + lb)\n",
    "    return ret\n",
    "        "
   ]
  },
  {
   "cell_type": "code",
   "execution_count": 71,
   "metadata": {},
   "outputs": [],
   "source": [
    "## 1.2b\n",
    "def decrypt2(msg):\n",
    "    ret = \"\"\n",
    "    for i in range(len(msg)):\n",
    "        index = map.index(msg[i])\n",
    "        step = len(msg) - i\n",
    "        ret += map[\n",
    "            (index - step ) % len(map)\n",
    "        ]\n",
    "    return ret"
   ]
  },
  {
   "cell_type": "code",
   "execution_count": 78,
   "metadata": {},
   "outputs": [
    {
     "name": "stdout",
     "output_type": "stream",
     "text": [
      "1\\l}| vxi555_ 1\\l}| vxi555_\n"
     ]
    }
   ],
   "source": [
    "msg = \"$Password123^\"\n",
    "print(\n",
    "em1 := encrypt1(msg),\n",
    "em2 := encrypt2(msg)\n",
    ")"
   ]
  },
  {
   "cell_type": "code",
   "execution_count": 79,
   "metadata": {},
   "outputs": [
    {
     "name": "stdout",
     "output_type": "stream",
     "text": [
      "$Password123^ $Password123^\n"
     ]
    }
   ],
   "source": [
    "print(\n",
    "    decrypt1(em1),\n",
    "    decrypt2(em2)\n",
    ")"
   ]
  }
 ],
 "metadata": {
  "kernelspec": {
   "display_name": "a_level",
   "language": "python",
   "name": "python3"
  },
  "language_info": {
   "codemirror_mode": {
    "name": "ipython",
    "version": 3
   },
   "file_extension": ".py",
   "mimetype": "text/x-python",
   "name": "python",
   "nbconvert_exporter": "python",
   "pygments_lexer": "ipython3",
   "version": "3.11.5"
  },
  "orig_nbformat": 4
 },
 "nbformat": 4,
 "nbformat_minor": 2
}
