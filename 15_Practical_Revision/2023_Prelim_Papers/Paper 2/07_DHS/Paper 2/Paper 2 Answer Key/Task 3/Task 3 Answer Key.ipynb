{
 "cells": [
  {
   "cell_type": "code",
   "execution_count": 1,
   "metadata": {},
   "outputs": [],
   "source": [
    "import datetime\n",
    "\n",
    "class Student:\n",
    "\n",
    "    def __init__(self, name, gender, date_of_birth): #1 mark for constructor and correct assignment of values to the private attributes\n",
    "        self.__name = name \n",
    "        self.__gender = gender\n",
    "        self.__date_of_birth = date_of_birth\n",
    "    \n",
    "    def get_name(self): #1 mark for all getters\n",
    "        return self.__name\n",
    "\n",
    "    def get_gender(self):\n",
    "        return self.__gender\n",
    "\n",
    "    def get_date_of_birth(self):\n",
    "        return self.__date_of_birth\n",
    "    \n",
    "    #additional method needed\n",
    "    def get_age(self): #1 mark for correct implementation of get_age method\n",
    "        dob_year = int(self.__date_of_birth[:4])\n",
    "        this_year = datetime.datetime.now().year\n",
    "        age = this_year - dob_year\n",
    "        return age\n",
    "\n",
    "    def set_name(self, name): #1 mark for all setters\n",
    "        self.__name = name\n",
    "\n",
    "    def set_gender(self, gender):\n",
    "        self.__gender = gender\n",
    "\n",
    "    def set_date_of_birth(self, date_of_birth):\n",
    "        self.__date_of_birth = date_of_birth"
   ]
  },
  {
   "cell_type": "code",
   "execution_count": 2,
   "metadata": {},
   "outputs": [],
   "source": [
    "# For this question, for similar portions of the code, give the marks as long as JuniorHigh or SeniorHigh is correct\n",
    "\n",
    "class JuniorHigh(Student): # 1 mark for inheritance\n",
    "    \n",
    "    def __init__(self, name, gender, date_of_birth): #1 mark for the constructor\n",
    "        super().__init__(name, gender, date_of_birth)\n",
    "    \n",
    "    def get_zoom_name(self): #1 mark for correct construction of Zoom name\n",
    "        screen_name = \"[JH]\"\n",
    "        for char in super().get_name():\n",
    "            if char.isalpha():\n",
    "                screen_name += char\n",
    "        screen_name += str(super().get_age())\n",
    "        return screen_name"
   ]
  },
  {
   "cell_type": "code",
   "execution_count": 3,
   "metadata": {},
   "outputs": [],
   "source": [
    "class SeniorHigh(Student):\n",
    "    \n",
    "    def __init__(self, name, gender, date_of_birth, house): #1 mark for modifying constructor and data field to include house\n",
    "        super().__init__(name, gender, date_of_birth)\n",
    "        self.__house = house\n",
    "    \n",
    "    def get_zoom_name(self):\n",
    "        screen_name = \"[SH]\"\n",
    "        for char in super().get_name():\n",
    "            if char.isalpha():\n",
    "                screen_name += char\n",
    "        screen_name += str(super().get_age())\n",
    "        return screen_name"
   ]
  },
  {
   "cell_type": "code",
   "execution_count": 4,
   "metadata": {},
   "outputs": [
    {
     "name": "stdout",
     "output_type": "stream",
     "text": [
      "[JH]PhoonYongChang13\n",
      "[JH]ShenSiYing14\n",
      "[JH]GohZiRui14\n",
      "[JH]PoonZiRui14\n",
      "[JH]HaoYiMin14\n",
      "[JH]LawDeMing15\n",
      "[JH]ChooSiYing15\n",
      "[JH]YeungYongRui16\n",
      "[JH]OonJiaYu16\n",
      "[JH]FangJiaSheng16\n",
      "[SH]EngJunCheng17\n",
      "[SH]ChuaJunMing18\n",
      "[SH]LiKaiFeng18\n",
      "[SH]TeeXinLing18\n",
      "[SH]ChuaJunMing18\n"
     ]
    }
   ],
   "source": [
    "import csv\n",
    "import datetime\n",
    "\n",
    "student_list = []\n",
    "\n",
    "with open(\"STUDENTS.csv\", \"r\", newline=\"\") as infile: #1 mark for extracting all data successfully\n",
    "  records = csv.reader(infile, delimiter = \",\")\n",
    "  for record in records:\n",
    "    #print(len(record))\n",
    "    name = record[0]\n",
    "    gender = record[1]\n",
    "    dob = record[2]\n",
    "    \n",
    "    if len(record) == 4:\n",
    "        #print(\"Enter SH\")\n",
    "        house = record[3]\n",
    "        temp = SeniorHigh(name, gender, dob, house) #1 mark - create SeniorHigh object when there is House\n",
    "        student_list.append(temp)\n",
    "    else:\n",
    "        #print(\"Enter JH\")\n",
    "        temp = JuniorHigh(name, gender, dob)  #1 mark - create JuniorHigh object when there is no House\n",
    "        student_list.append(temp)\n",
    "\n",
    "#sort using python sort function - during corrections show students how to use sort on list and also how to reverse in descending order\n",
    "student_list.sort(key=lambda x: x.get_age())\n",
    "\n",
    "for student in student_list:\n",
    "    print(student.get_zoom_name()) #1 mark - show all students' zoom name"
   ]
  },
  {
   "cell_type": "code",
   "execution_count": null,
   "metadata": {},
   "outputs": [],
   "source": []
  }
 ],
 "metadata": {
  "kernelspec": {
   "display_name": "Python 3",
   "language": "python",
   "name": "python3"
  },
  "language_info": {
   "codemirror_mode": {
    "name": "ipython",
    "version": 3
   },
   "file_extension": ".py",
   "mimetype": "text/x-python",
   "name": "python",
   "nbconvert_exporter": "python",
   "pygments_lexer": "ipython3",
   "version": "3.6.4"
  }
 },
 "nbformat": 4,
 "nbformat_minor": 2
}
