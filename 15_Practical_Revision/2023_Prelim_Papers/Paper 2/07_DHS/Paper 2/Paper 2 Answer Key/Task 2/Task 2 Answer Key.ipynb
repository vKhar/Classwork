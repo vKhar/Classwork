{
 "cells": [
  {
   "cell_type": "code",
   "execution_count": 1,
   "metadata": {},
   "outputs": [
    {
     "name": "stdout",
     "output_type": "stream",
     "text": [
      "Contents (50 random numbers): [506, 709, 883, 147, 898, 213, 130, 148, 915, 914, 13, 220, 243, 978, 780, 748, 414, 38, 200, 546, 564, 868, 44, 18, 139, 115, 256, 980, 618, 195, 813, 392, 652, 949, 610, 177, 963, 61, 950, 239, 859, 565, 155, 323, 267, 37, 937, 606, 27, 313]\n"
     ]
    }
   ],
   "source": [
    "import random\n",
    "\n",
    "def task2_1():\n",
    "    global lst                       # 1 mark to initialise global 1-d list\n",
    "    lst = []\n",
    "    for i in range(50):\n",
    "        lst.append(random.randint(1,1000))   # 1 mark to generate & store 50 random integers in list\n",
    "    print(\"Contents (50 random numbers):\", lst)      # output contents\n",
    "\n",
    "#main\n",
    "task2_1() #1 mark for correct output"
   ]
  },
  {
   "cell_type": "code",
   "execution_count": 2,
   "metadata": {},
   "outputs": [],
   "source": [
    "class Node:\n",
    "\n",
    "    def __init__(self, data): #1 mark for constructor\n",
    "        self.data = data\n",
    "        self.next = None\n",
    "\n",
    "    def get_data(self): #1 marks if all getters and setters are correct.\n",
    "        return self.data\n",
    "\n",
    "    def get_next(self):\n",
    "        return self.next\n",
    "\n",
    "    def set_data(self, value):\n",
    "        self.data = value\n",
    "\n",
    "    def set_next(self, nextNode):\n",
    "        self.next = nextNode\n",
    "        \n",
    "class LinkedList:\n",
    "\n",
    "    def __init__(self): #1 mark for constructor\n",
    "        self.head = None\n",
    "                \n",
    "    def add_to_end(self, newdata):\n",
    "        new_node = Node(newdata) #1 mark for creating new Node object\n",
    "        if self.head == None: #1 mark for adding Node to self.head if it is the first Node in the Linked List\n",
    "            self.head = new_node\n",
    "        else:\n",
    "            last_node = self.head\n",
    "            while last_node.get_next() != None: #1 mark for looping successfully to the last Node to insert the new Node if self.head is not empty\n",
    "                last_node = last_node.get_next()\n",
    "            last_node.set_next(new_node)\n",
    "            \n",
    "    def search(self, target):\n",
    "        current_node = self.head\n",
    "        while current_node: # 1 mark for looping through each node until the end of the linked list to find the target value\n",
    "            if current_node.get_data() == target: \n",
    "                return True #1 mark for returning True if target value is found\n",
    "            else:\n",
    "                current_node = current_node.get_next() #continue searching rightward\n",
    "        if current_node == None: #end of the list and still not found\n",
    "            return False #1 mark for returning False if target value is not found\n",
    "        \n",
    "    def get_values(self):\n",
    "        if self.head == None: #1 mark for correct implementation when there are no nodes\n",
    "            return \"Empty Linked List\"\n",
    "        else:\n",
    "            array = []\n",
    "            printval = self.head\n",
    "            while printval != None: #1 mark for looping through each node until the end of the linked list (correct use of while loop & using Node.get_next() method to get the next Node) and appending each data to a list\n",
    "                array.append(printval.get_data())\n",
    "                printval = printval.get_next() \n",
    "            return array"
   ]
  },
  {
   "cell_type": "code",
   "execution_count": 3,
   "metadata": {},
   "outputs": [],
   "source": [
    "class HashTable:\n",
    "\n",
    "    def __init__(self):  #1 mark for constructor\n",
    "        self.size = 10\n",
    "        self.array = []\n",
    "        for i in range(self.size):  \n",
    "            newLinkedList = LinkedList()\n",
    "            self.array.append(newLinkedList)\n",
    "\n",
    "    def hash(self, value): #1 mark for correct hash method\n",
    "        return value % self.size\n",
    "\n",
    "    def insert(self, value): #1 mark for correct insert method\n",
    "        index = self.hash(value)\n",
    "        self.array[index].add_to_end(value)\n",
    "\n",
    "    def search(self, value): #1 mark for correct search method\n",
    "        index = self.hash(value)\n",
    "        found_value = self.array[index].search(value)\n",
    "        \n",
    "        return found_value\n",
    "\n",
    "    def display(self): #1 mark for correct display method\n",
    "        for i in range(self.size):\n",
    "            print(\"index \" + str(i) + \": \" + str(self.array[i].get_values()))"
   ]
  },
  {
   "cell_type": "code",
   "execution_count": 4,
   "metadata": {},
   "outputs": [
    {
     "name": "stdout",
     "output_type": "stream",
     "text": [
      "index 0: [130, 220, 780, 200, 980, 610, 950]\n",
      "index 1: [61]\n",
      "index 2: [392, 652]\n",
      "index 3: [883, 213, 13, 243, 813, 963, 323, 313]\n",
      "index 4: [914, 414, 564, 44]\n",
      "index 5: [915, 115, 195, 565, 155]\n",
      "index 6: [506, 546, 256, 606]\n",
      "index 7: [147, 177, 267, 37, 937, 27]\n",
      "index 8: [898, 148, 978, 748, 38, 868, 18, 618]\n",
      "index 9: [709, 139, 949, 239, 859]\n"
     ]
    }
   ],
   "source": [
    "my_hash_table = HashTable() #1 mark for creating hash table and inserting all values from global list into the hash table\n",
    "#my_hash_table.display()\n",
    "\n",
    "for num in lst:\n",
    "    my_hash_table.insert(num)\n",
    "\n",
    "my_hash_table.display()"
   ]
  },
  {
   "cell_type": "code",
   "execution_count": 5,
   "metadata": {},
   "outputs": [
    {
     "name": "stdout",
     "output_type": "stream",
     "text": [
      "50\n"
     ]
    }
   ],
   "source": [
    "#main\n",
    "def task2_3(): \n",
    "    true_count = 0 #not needed, for my own checks\n",
    "    for num in lst: #1 mark for looping through all values in global list\n",
    "        found = my_hash_table.search(num) #1 mark for correct call of search method\n",
    "        if found:\n",
    "            true_count += 1\n",
    "    print(true_count)\n",
    "    \n",
    "task2_3()"
   ]
  },
  {
   "cell_type": "code",
   "execution_count": 6,
   "metadata": {},
   "outputs": [],
   "source": [
    "def merge_sort(alist):\n",
    "\n",
    "    #print(\"Splitting\", alist)\n",
    "\n",
    "    if len(alist) <=1: #1 mark for correct base case\n",
    "        return alist\n",
    "    else:\n",
    "        #1 mark for splitting the given list into half\n",
    "        midpoint = len(alist) // 2\n",
    "        left = alist[:midpoint]\n",
    "        right = alist[midpoint:]\n",
    "\n",
    "        #1 mark for calling merge sort recursively for both left and right list\n",
    "        left = merge_sort(left)\n",
    "        right = merge_sort(right)\n",
    "\n",
    "\n",
    "        #this part is to do the merging\n",
    "        merged_list = []\n",
    "        index_left = 0\n",
    "        index_right = 0\n",
    "\n",
    "        while index_left < len(left) and index_right < len(right): #1 mark for correct loop condition for merging\n",
    "\n",
    "            if left[index_left] < right[index_right]: #1 mark for selecting the correct element to be added to merge_list\n",
    "                merged_list.append(left[index_left])\n",
    "                index_left = index_left + 1\n",
    "            else:\n",
    "                merged_list.append(right[index_right])\n",
    "                index_right = index_right + 1\n",
    "\n",
    "        #1 mark for appending the remaining elements in left/right list into the merged list\n",
    "        while index_left < len(left): #if there are any remaining elements in the left list \n",
    "            merged_list.append(left[index_left])\n",
    "            index_left = index_left + 1\n",
    "\n",
    "        while index_right < len(right): #if there are any remaining elements in the right list\n",
    "            merged_list.append(right[index_right])\n",
    "            index_right = index_right + 1\n",
    "\n",
    "        #print(\"Merging \",merged_list)\n",
    "        return merged_list"
   ]
  },
  {
   "cell_type": "code",
   "execution_count": 7,
   "metadata": {},
   "outputs": [],
   "source": [
    "def binary_search_recursive(items, search_item, first, last):\n",
    "    if first > last: # Base case for recursion: The recursion will stop when the index of the first item is greater than the index of last\n",
    "        return False #1 mark for correct condition to return False when value cannot be found (if using recursion then when first > last)\n",
    "    \n",
    "    else: # Recursively call the function\n",
    "        midpoint = (first + last) // 2 \n",
    "\n",
    "        if search_item == items[midpoint]: #1 mark for checking if the search_item is the value at midpoint and returning True when found\n",
    "            #return midpoint\n",
    "            return True \n",
    "        elif search_item > items[midpoint]:  # 1 mark for correct code when search item is more than the item at the midpoint\n",
    "            first = midpoint + 1\n",
    "            return binary_search_recursive(items, search_item, first, last) # Focus on the items after the midpoint\n",
    "        else: # 1 mark for correct code when search item is less than the item at the midpoint\n",
    "            last = midpoint - 1\n",
    "            return binary_search_recursive(items, search_item, first, last) # Focus on the items before the midpoint"
   ]
  },
  {
   "cell_type": "code",
   "execution_count": 8,
   "metadata": {},
   "outputs": [
    {
     "name": "stdout",
     "output_type": "stream",
     "text": [
      "50\n"
     ]
    }
   ],
   "source": [
    "def task2_4():\n",
    "    sorted_list = merge_sort(lst) #1 mark for correct call of merge sort\n",
    "    true_count = 0\n",
    "    for num in lst: #1 mark for looping through all values in global list and calling of binary search\n",
    "        found = binary_search_recursive(sorted_list, num, 0, len(sorted_list) - 1) \n",
    "        if found:\n",
    "            true_count += 1\n",
    "    print(true_count)\n",
    "\n",
    "task2_4()"
   ]
  },
  {
   "cell_type": "code",
   "execution_count": 9,
   "metadata": {},
   "outputs": [
    {
     "name": "stdout",
     "output_type": "stream",
     "text": [
      "50\n",
      "50\n",
      "8.36e-05\n",
      "0.00013859999999999998\n"
     ]
    }
   ],
   "source": [
    "#1 mark for using timeit correctly and showing the results\n",
    "import timeit \n",
    "\n",
    "# use the timeit function to call the task2_2(), run this just once \n",
    "time2_3 = timeit.timeit(lambda: task2_3(), number=1)\n",
    "# use the timeit function to call the task2_3(), run this just once \n",
    "time2_4 = timeit.timeit(lambda: task2_4(), number=1)\n",
    "\n",
    "# print out the time, in seconds\n",
    "print(time2_3)\n",
    "print(time2_4)"
   ]
  },
  {
   "cell_type": "code",
   "execution_count": null,
   "metadata": {},
   "outputs": [],
   "source": []
  }
 ],
 "metadata": {
  "kernelspec": {
   "display_name": "Python 3",
   "language": "python",
   "name": "python3"
  },
  "language_info": {
   "codemirror_mode": {
    "name": "ipython",
    "version": 3
   },
   "file_extension": ".py",
   "mimetype": "text/x-python",
   "name": "python",
   "nbconvert_exporter": "python",
   "pygments_lexer": "ipython3",
   "version": "3.6.4"
  }
 },
 "nbformat": 4,
 "nbformat_minor": 2
}
