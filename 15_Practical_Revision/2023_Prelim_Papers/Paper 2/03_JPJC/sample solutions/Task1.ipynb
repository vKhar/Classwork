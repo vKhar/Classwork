{
 "cells": [
  {
   "cell_type": "code",
   "execution_count": null,
   "metadata": {},
   "outputs": [],
   "source": [
    "## 1.1 and 1.2\n",
    "\n",
    "def linear_search_outliers(data, max_value):\n",
    "    return [ i for i in range(len(data)) if data[i] > max_value]\n",
    "\n",
    "Data = [\n",
    "    51.1, 77.3, 82.4, 97.5, 104.6, 69.8, 105.2, 95.7, 62.3, 109.1,\n",
    "    76.9, 81.5, 68.2, 53.9, 59.6, 88.4, 85.0, 55.6, 67.7, 86.3,\n",
    "    89.9, 75.0, 79.2, 52.4, 99.8, 92.1, 92.3, 91.2, 93.7, 103.0,\n",
    "    107.5, 94.6, 60.1, 100.9, 73.5, 103.5, 98.4, 51.6, 78.7, 74.2,\n",
    "    101.4, 106.8, 63.7, 72.8, 87.6, 58.8, 66.4, 56.1, 84.3, 61.9\n",
    "]\n",
    "\n",
    "\n"
   ]
  },
  {
   "cell_type": "code",
   "execution_count": null,
   "metadata": {},
   "outputs": [],
   "source": [
    "## works for duplicates\n",
    "for outlier in  [ Data[i] for i in linear_search_outliers(Data,90)]:\n",
    "    Data.remove(outlier)\n",
    "Data"
   ]
  },
  {
   "cell_type": "code",
   "execution_count": null,
   "metadata": {},
   "outputs": [],
   "source": [
    "def partition(data, lb, ub): # Hoare's partitioning\n",
    "    #                                   i\n",
    "    ##left of [:i] <= pivot, [i:] > pivot\n",
    "    ## j unknown\n",
    "    pivot = data[lb]\n",
    "    i = lb+1\n",
    "    for j in range(i, ub+1):\n",
    "        if data[j] <= pivot:\n",
    "            data[j], data[i] = data[i], data[j]\n",
    "            i+=1\n",
    "    ## pivot index is at i-1\n",
    "    data[lb],data[i-1] = data[i-1], data[lb]\n",
    "    return i-1\n",
    "\n",
    "def qsort(data):\n",
    "    def _recur(data, lb, ub):\n",
    "        if lb > ub:\n",
    "            return\n",
    "        pivot_index = partition(data, lb, ub)\n",
    "        _recur(data, lb, pivot_index-1)\n",
    "        _recur(data, pivot_index+1, ub)\n",
    "\n",
    "    _recur(data, 0, len(data)-1)"
   ]
  },
  {
   "cell_type": "code",
   "execution_count": null,
   "metadata": {},
   "outputs": [],
   "source": [
    "qsort(Data)"
   ]
  }
 ],
 "metadata": {
  "kernelspec": {
   "display_name": "a_level",
   "language": "python",
   "name": "python3"
  },
  "language_info": {
   "codemirror_mode": {
    "name": "ipython",
    "version": 3
   },
   "file_extension": ".py",
   "mimetype": "text/x-python",
   "name": "python",
   "nbconvert_exporter": "python",
   "pygments_lexer": "ipython3",
   "version": "3.6.13"
  },
  "orig_nbformat": 4
 },
 "nbformat": 4,
 "nbformat_minor": 2
}
