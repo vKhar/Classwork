{
 "cells": [
  {
   "cell_type": "markdown",
   "metadata": {
    "id": "tJaEWstf1KGj"
   },
   "source": [
    "## Sorting \n",
    "- Iterative vs Recursive\n",
    "- Inplace vs Non inplace\n",
    "    - Does algorithm uses another array ?\n",
    "- Stable vs Non Stable\n",
    "    - Does the items/object maintain their order in the unsorted and sorted state ?\n",
    "    - Example , a list of (name, age): \n",
    "    ```\n",
    "    unsorted : \n",
    "    [ (\"Harry\", 12), ('Mary\", 20),(\"John\",12),(\"Elliot\",10) ]\n",
    "    \n",
    "    sorted in ascending order of age:\n",
    "\n",
    "     [(\"Elliot\",10),(\"Harry\", 12),(\"John\",12),('Mary\", 20) ] ## Stable\n",
    "     \n",
    "     VS\n",
    "\n",
    "     [(\"Elliot\",10),(\"John\",12),(\"Harry\", 12),('Mary\", 20) ]\n",
    "     ```"
   ]
  },
  {
   "cell_type": "code",
   "execution_count": null,
   "metadata": {
    "id": "hC8nZF8O1KGl"
   },
   "outputs": [],
   "source": [
    "## Test Cases\n",
    "import random\n",
    "#A = [2,3,2,9,1,5,8,7,3,3]\n",
    "#A = [ random.randint(1,10) for _ in range(10)]\n",
    "#A = [1]*10 ## Best Case\n",
    "#A = [ i for i in range(1,11)] ## Best Case\n",
    "A = [ i for i in range(10,0,-1)]  ## Worst Case\n",
    "print(A)"
   ]
  },
  {
   "cell_type": "markdown",
   "metadata": {
    "id": "0y5-qYkC1KGn"
   },
   "source": [
    "### Bubble Sort\n",
    "1. How do you get the largest element to the end of the array\n",
    "2. Repeat (1) for the 2nd largest, 3rd largest .. till the array is sorted"
   ]
  },
  {
   "cell_type": "code",
   "execution_count": null,
   "metadata": {
    "id": "krbvw-GX1KGo"
   },
   "outputs": [],
   "source": [
    "## Code O(n**2)\n",
    "## It is a inplace and stable algorithm\n",
    "for i in range(len(A)-1):\n",
    "    swap = False\n",
    "    for j in range(len(A)-1-i):\n",
    "        if A[j] > A[j+1]:\n",
    "            A[j], A[j+1] = A[j+1], A[j]\n",
    "            swap = True\n",
    "    if swap == False:\n",
    "        break\n",
    "print(A)"
   ]
  },
  {
   "cell_type": "code",
   "execution_count": null,
   "metadata": {
    "id": "xFfaa1_b1KGv"
   },
   "outputs": [],
   "source": [
    "## Add an outer loop\n",
    "## reduce the number of comparisons in each inner loop\n"
   ]
  },
  {
   "cell_type": "code",
   "execution_count": null,
   "metadata": {
    "id": "zf6IvW1s1KGw"
   },
   "outputs": [],
   "source": [
    "## Optimised by detecting no swaps\n"
   ]
  },
  {
   "cell_type": "markdown",
   "metadata": {
    "id": "ljBr80kd1KGw"
   },
   "source": [
    "### Exercise 1\n",
    "- A billard ball has a colour (Yellow, Red, Blue, Green) and a Number (1 to 15)\n",
    "1. Implement a bubble sort to sort a list of billard balls in ascending order of their numbers\n",
    "2. Implement a bubble sort to sort based on their colour(lexicographic order), then their numbers"
   ]
  },
  {
   "cell_type": "code",
   "execution_count": null,
   "metadata": {
    "id": "l0Rvl4wN1KGx"
   },
   "outputs": [],
   "source": [
    "## A billard ball is represented by a tuple (Colour, Number)\n",
    "## A list of billard balls is implemented in Python as follows:\n",
    "b_balls = [ (\"Red\", 2), (\"Green\", 6), (\"Yellow\",1),(\"Green\", 4),(\"Blue\",2), (\"Red\",7) ]\n",
    "## a) Perform a bubble sort on ascending order of numbers\n",
    "\n",
    "\n",
    "## b) Perform a bubble sort on ascending lexicographic order of their colurs, then their numbers\n",
    "\n",
    "## Can it do both ascending and descending ??\n",
    "\n"
   ]
  },
  {
   "cell_type": "code",
   "execution_count": null,
   "metadata": {
    "id": "aiXaf1WgLwD1"
   },
   "outputs": [],
   "source": [
    "## a) Perform a bubble sort on ascending order of numbers\n",
    "# Zeyu\n",
    "b_balls=[(\"Red\", 2), (\"Green\", 6), (\"Yellow\",1),(\"Green\", 4),(\"Blue\",2), (\"Red\",7)]\n",
    "for i in range(len(b_balls)-1):\n",
    "    swap=False\n",
    "    for z in range(len(b_balls)-1-i):\n",
    "        if b_balls[z][1]<b_balls[z+1][1]:\n",
    "            b_balls[z], b_balls[z+1]=b_balls[z+1], b_balls[z]\n",
    "            swap=True\n",
    "    if swap==False:\n",
    "        break\n",
    "print(b_balls)"
   ]
  },
  {
   "cell_type": "code",
   "execution_count": null,
   "metadata": {
    "id": "SUXX_QWQLwD2"
   },
   "outputs": [],
   "source": [
    "## b) Perform a bubble sort on ascending lexicographic order of their colurs, then their numbers\n",
    "## Jia Le\n",
    "def bubble_sort(array):#O(n**2)\n",
    "    swap = False\n",
    "    while swap == False:\n",
    "        for i in range(len(array)-1):\n",
    "            for j in range(len(array)-1-i):\n",
    "                if array[j][0] > array[j+1][0]:\n",
    "                    array[j+1],array[j] = array[j],array[j+1]\n",
    "                    swap = True\n",
    "                elif array[j][0] == array[j+1][0]:\n",
    "                    if array[j][1] > array[j+1][1]:\n",
    "                        array[j+1],array[j] = array[j],array[j+1]\n",
    "                        swap = True\n",
    "\n",
    "    return array\n",
    "## This is integrated into above \n",
    "def number_bubble_sort(array):\n",
    "    swap = False\n",
    "    while swap == False:\n",
    "        for i in range(len(array)-1):\n",
    "            for j in range(len(array)-1-i):\n",
    "                if array[j][1] > array[j+1][1] and array[j][0] == array[j+1][0]:\n",
    "                    array[j+1],array[j] = array[j],array[j+1]\n",
    "                    swap = True\n",
    "    return array"
   ]
  },
  {
   "cell_type": "code",
   "execution_count": null,
   "metadata": {},
   "outputs": [],
   "source": [
    "bubble_sort(b_balls)"
   ]
  },
  {
   "cell_type": "markdown",
   "metadata": {
    "id": "uavFwrqd1KGy"
   },
   "source": [
    "___\n",
    "### Insertion sort into a new List (Non-inplace)"
   ]
  },
  {
   "cell_type": "code",
   "execution_count": null,
   "metadata": {
    "id": "qgp86BIM1KGy"
   },
   "outputs": [],
   "source": [
    "### Test Cases\n",
    "import random\n",
    "#A = [2,3,9,1,5,8,2,7,3,3]\n",
    "#A = [ random.randint(1,10) for _ in range(10)]\n",
    "#A = [1]*10 ## Best Case\n",
    "#A = [ i for i in range(1,11)] ## Best Case\n",
    "A = [ i for i in range(10,0,-1)]  ## Worst Case\n",
    "#A=[] ## Boundary\n",
    "#A=[1] ## Boundary\n",
    "print(A)"
   ]
  },
  {
   "cell_type": "code",
   "execution_count": null,
   "metadata": {
    "id": "04s7mICH1KGz"
   },
   "outputs": [],
   "source": [
    "sorted_A = []\n",
    "if len(A):\n",
    "    sorted_A.append(A.pop(0))\n",
    "    while(len(A)):\n",
    "        data = A.pop(0)\n",
    "        for i in range(len(sorted_A)):\n",
    "            if data < sorted_A[i]:\n",
    "                sorted_A.insert(i,data)\n",
    "                break\n",
    "        else:\n",
    "            sorted_A.append(data)\n",
    "print(sorted_A)  "
   ]
  },
  {
   "cell_type": "markdown",
   "metadata": {
    "id": "-EpjE8ri1KGz"
   },
   "source": [
    "### Insertion Sort\n",
    "- Move pointer from 2nd element to last element of array\n",
    "    - Anything left of the pointer is already sorted\n",
    "    - Compare pointer element with left element\n",
    "        - if smaller swap with left element\n",
    "            - move pointer to left element and repeat till there is no element on the left of pointer\n",
    "        -else ( already in correct position)\n",
    "            - Continue with pointer to next element in array\n",
    "- Reset pointer to next element in array"
   ]
  },
  {
   "cell_type": "code",
   "execution_count": null,
   "metadata": {
    "id": "kslXoCKK1KG0"
   },
   "outputs": [],
   "source": [
    "def insert_sort1(A):\n",
    "    for right_pointer in range(1, len(A)):\n",
    "        left_pointer = right_pointer\n",
    "        while left_pointer > 0 :\n",
    "            if A[left_pointer] < A[left_pointer-1]:\n",
    "                A[left_pointer], A[left_pointer-1] = A[left_pointer-1],A[left_pointer]\n",
    "                left_pointer -= 1\n",
    "            else:\n",
    "                break\n",
    "#import dis\n",
    "#dis.dis(insert_sort1)"
   ]
  },
  {
   "cell_type": "code",
   "execution_count": null,
   "metadata": {
    "id": "kslXoCKK1KG0"
   },
   "outputs": [],
   "source": [
    "## Re-factored version\n",
    "def insert_sort2(A):\n",
    "    for pointer in range(1, len(A)):\n",
    "        while pointer > 0  and A[pointer] < A[pointer-1]:\n",
    "            A[pointer], A[pointer-1] = A[pointer-1],A[pointer]\n",
    "            pointer -= 1\n",
    "#import dis\n",
    "#dis.dis(insert_sort2)"
   ]
  },
  {
   "cell_type": "markdown",
   "metadata": {},
   "source": [
    "***If you compare the byte code generated you will notice that there is not much difference in the number of operations between the 2 versions***"
   ]
  },
  {
   "cell_type": "markdown",
   "metadata": {
    "id": "oKc9mpEg1KG0"
   },
   "source": [
    "### Exercise 2\n",
    "\n",
    "Given a list of floating point values, `L`. Write the code to output:\n",
    "- The Minimum Value\n",
    "- The First Quartile Value\n",
    "- The Median Value\n",
    "- The Third Quartile Value\n",
    "- The Maximum Value\n",
    "\n",
    "You must implement the Insertion sort algorithm to perform the necessary sorting."
   ]
  },
  {
   "cell_type": "markdown",
   "metadata": {
    "id": "oOlNlJ_W1KG0"
   },
   "source": [
    "___\n",
    "### Quick Sort\n",
    "- Base Case, when there is only 0 or 1 element nothing to sort\n",
    "- Pick a pivot (let's choose leftmost)\n",
    "- Anything less than pivot value , put in left bucket, else put in right bucket\n",
    "- Quick Sort left bucket , Quick Sort right bucket\n",
    "- Put pivot between left and right bucket"
   ]
  },
  {
   "cell_type": "code",
   "execution_count": null,
   "metadata": {
    "id": "lodGgc0s1KG1"
   },
   "outputs": [],
   "source": [
    "def q_sort(A: list) -> list:\n",
    "    if len(A) < 2:\n",
    "        return A\n",
    "    else:\n",
    "        pivot = A[0]\n",
    "        left=[]\n",
    "        right=[]\n",
    "        for item in A[1:]:\n",
    "            if item < pivot:\n",
    "                left.append(item)\n",
    "            else:\n",
    "                right.append(item)\n",
    "        return q_sort(left) + [pivot] + q_sort(right)\n",
    "q_sort(A)"
   ]
  },
  {
   "cell_type": "code",
   "execution_count": null,
   "metadata": {
    "id": "CfZeslX_1KG1"
   },
   "outputs": [],
   "source": [
    "import random\n",
    "#A = [2,3,2,9,1,5,8,7,3,3]\n",
    "A = [ random.randint(1,10) for _ in range(10)]\n",
    "#A = [1]*10 ## Best Case\n",
    "#A = [ i for i in range(1,11)] ## Best Case\n",
    "#A = [ i for i in range(1000,0,-1)]  ## Worst Case\n",
    "#print(A)\n",
    "\n"
   ]
  },
  {
   "cell_type": "markdown",
   "metadata": {
    "id": "ZmQSbk321KG1"
   },
   "source": [
    "## Exercise 3 2015/A Level/P1/Q1 H2 Computing\n",
    "\n",
    "The file `ADMISSIONS—DATA.TXT` contains the daily total admissions to a theme park over a period of 50 days.\n",
    "\n",
    "The task is to read the numbers from the file and display a sorted list.\n",
    "\n",
    "You will program two different sort algorithms:\n",
    "\n",
    "- A bubble sort.\n",
    "- A quick sort.\n",
    "\n",
    "### Task 1\n",
    "Write code for a procedure to display a menu with the following options:\n",
    "\n",
    ">```python\n",
    ">1. Read file data\n",
    ">2. Bubble sort\n",
    ">3. Quick sort \n",
    ">4. End\n",
    ">```\n",
    "\n",
    "### Task 2\n",
    "Write the program code for a procedure to implement menu option 1.\n",
    "\n",
    "#### Evidence 1\n",
    "- The program code for the menu.\n",
    "- Program code for menu option 1.\n",
    "\n",
    "<div style=\"text-align: right\">[5]</div>\n",
    "\n",
    "Options 2 and 3 will sort and display the sorted data.\n",
    "\n",
    "The algorithm for a bubble sort is given in file `BUBBLE.TXT`.\n",
    "\n",
    "### Task 3\n",
    "Write program code as a procedure to implement the bubble sort.\n",
    "\n",
    "#### Evidence 2\n",
    ". The bubble sort code procedure.\n",
    "<div style=\"text-align: right\">[1]</div>\n",
    "\n",
    "### Task 4\n",
    "Write program code as a function to implement the quick sort.\n",
    "\n",
    "#### Evidence 3\n",
    "The quick sort code function.\n",
    "\n",
    "<div style=\"text-align: right\">[4]</div>"
   ]
  },
  {
   "cell_type": "markdown",
   "metadata": {
    "id": "paemd39b1KG2"
   },
   "source": [
    "___\n",
    "### Merge Sort\n",
    "\n",
    "- divide array into 2 half, left and right\n",
    "- merge ( merge_sort(left), merge_sort(right) )\n"
   ]
  },
  {
   "cell_type": "markdown",
   "metadata": {
    "id": "t55szPTu1KG2"
   },
   "source": [
    "Merge (left, right):\n",
    "- compare first element of left and right\n",
    "- put smaller of the two in sorted list, remove the smaller element from left or right\n",
    "- repeat until either left or right is empty\n",
    "append non-empty left or right into sorted list"
   ]
  },
  {
   "cell_type": "code",
   "execution_count": null,
   "metadata": {
    "id": "eisKbHOv1KG2"
   },
   "outputs": [],
   "source": [
    "def merge(A:list, B:list)-> list:\n",
    "    pass"
   ]
  },
  {
   "cell_type": "code",
   "execution_count": null,
   "metadata": {
    "id": "NEru7R_U1KG3"
   },
   "outputs": [],
   "source": [
    "def merge_sort(A):\n",
    "    pass"
   ]
  },
  {
   "cell_type": "code",
   "execution_count": null,
   "metadata": {
    "id": "SY9O4iAW1KG3"
   },
   "outputs": [],
   "source": [
    "import random\n",
    "#A = [2,3,2,9,1,5,8,7,3,3]\n",
    "A = [ random.randint(1,10) for _ in range(10)]\n",
    "#A = [1]*10 ## Best Case\n",
    "#A = [ i for i in range(1,11)] ## Best Case\n",
    "#A = [ i for i in range(10,0,-1)]  ## Worst Case\n",
    "print(A)\n",
    "merge_sort(A)"
   ]
  },
  {
   "cell_type": "markdown",
   "metadata": {},
   "source": [
    "# Exercide 4 A Level/2020/P2/Q2 \n",
    "[Link to paper](/../Revision/A%20Level%202020%20paper%202/9569_2020_P2.pdf)"
   ]
  },
  {
   "cell_type": "code",
   "execution_count": 2,
   "metadata": {},
   "outputs": [
    {
     "data": {
      "text/plain": [
       "'G:\\\\My Drive\\\\Classroom\\\\2022_cz2a\\\\Classwork\\\\6_Algorithms'"
      ]
     },
     "execution_count": 2,
     "metadata": {},
     "output_type": "execute_result"
    }
   ],
   "source": [
    "%pwd"
   ]
  },
  {
   "cell_type": "code",
   "execution_count": 3,
   "metadata": {},
   "outputs": [
    {
     "name": "stdout",
     "output_type": "stream",
     "text": [
      "G:\\My Drive\\Classroom\\2022_cz2a\\Classwork\n"
     ]
    }
   ],
   "source": [
    "%cd ../"
   ]
  },
  {
   "cell_type": "code",
   "execution_count": 4,
   "metadata": {},
   "outputs": [
    {
     "name": "stdout",
     "output_type": "stream",
     "text": [
      "G:\\My Drive\\Classroom\\2022_cz2a\\Classwork\\Revision\n"
     ]
    }
   ],
   "source": [
    "%cd Revision"
   ]
  },
  {
   "cell_type": "code",
   "execution_count": 5,
   "metadata": {},
   "outputs": [
    {
     "name": "stdout",
     "output_type": "stream",
     "text": [
      " Volume in drive G is Google Drive\n",
      " Volume Serial Number is 1983-1116\n",
      "\n",
      " Directory of G:\\My Drive\\Classroom\\2022_cz2a\\Classwork\\Revision\n",
      "\n",
      "18/08/2022  08:49 AM    <DIR>          .\n",
      "05/08/2022  11:26 AM    <DIR>          ..\n",
      "18/08/2022  08:49 AM    <DIR>          A Level 2020 paper 2\n",
      "05/08/2022  10:58 AM                87 results.txt\n",
      "05/08/2022  11:22 AM               913 revision1.ipynb\n",
      "               2 File(s)          1,000 bytes\n",
      "               3 Dir(s)  702,073,962,496 bytes free\n"
     ]
    }
   ],
   "source": [
    "%ls"
   ]
  },
  {
   "cell_type": "code",
   "execution_count": 6,
   "metadata": {},
   "outputs": [
    {
     "name": "stdout",
     "output_type": "stream",
     "text": [
      "[WinError 2] The system cannot find the file specified: 'A Level 2020 paper2'\n",
      "G:\\My Drive\\Classroom\\2022_cz2a\\Classwork\\Revision\n"
     ]
    }
   ],
   "source": [
    "cd \"A Level 2020 paper2\""
   ]
  },
  {
   "cell_type": "code",
   "execution_count": null,
   "metadata": {},
   "outputs": [],
   "source": []
  }
 ],
 "metadata": {
  "colab": {
   "collapsed_sections": [],
   "name": "4_Sort.ipynb",
   "provenance": []
  },
  "kernelspec": {
   "display_name": "Python 3",
   "language": "python",
   "name": "python3"
  },
  "language_info": {
   "codemirror_mode": {
    "name": "ipython",
    "version": 3
   },
   "file_extension": ".py",
   "mimetype": "text/x-python",
   "name": "python",
   "nbconvert_exporter": "python",
   "pygments_lexer": "ipython3",
   "version": "3.6.4"
  },
  "vscode": {
   "interpreter": {
    "hash": "f4e9cda46bb2d9d7fe6ecdff0f8336a934348bf06cb492f2f42f60739b3403b4"
   }
  }
 },
 "nbformat": 4,
 "nbformat_minor": 1
}
