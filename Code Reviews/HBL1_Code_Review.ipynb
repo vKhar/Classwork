{
 "cells": [
  {
   "cell_type": "code",
   "execution_count": null,
   "metadata": {},
   "outputs": [],
   "source": [
    "while True:\n",
    "    try:\n",
    "        filenamecheck = input('Enter file name here: ')\n",
    "        test = open(filenamecheck, \"r\").read()\n",
    "    except:\n",
    "        print(\"Invalid file name, please re-enter.\")\n",
    "        continue\n",
    "    else:\n",
    "        l = open(filenamecheck,\"r\").read().split(\"\\n\")\n",
    "        print(l)\n",
    "        count = len(l[0].split(','))\n",
    "        w = open(\"LOG.TXT\",\"w\")\n",
    "        w.write(f\"Statistics for: {filenamecheck} \\nTotal Lines: {len(l)} \\nItems per line: {count}\")\n",
    "        break"
   ]
  },
  {
   "attachments": {},
   "cell_type": "markdown",
   "metadata": {},
   "source": [
    "##### Search Algoithms"
   ]
  },
  {
   "cell_type": "code",
   "execution_count": null,
   "metadata": {},
   "outputs": [],
   "source": [
    "def binary_search(array, target):  \n",
    "\tfront = 0\n",
    "\tback = len(array) - 1\n",
    "\twhile front < back:   \n",
    "\t\tmid = (front + back) // 2\n",
    "\t\tif array[mid] == target:\n",
    "\t\t\treturn mid\n",
    "\t\telif array[mid] < target:\n",
    "\t\t\tfront = mid + 1\n",
    "\t\telse:\n",
    "\t\t\tback = mid - 1\n",
    "\treturn -1\t"
   ]
  },
  {
   "cell_type": "code",
   "execution_count": null,
   "metadata": {},
   "outputs": [],
   "source": [
    "def binary_search(obj_array, target):\n",
    "    if len(obj_array) == 0:\n",
    "        return -1\n",
    "    else:\n",
    "        pointer = len(obj_array) // 2\n",
    "        if target == obj_array[pointer]:\n",
    "            return pointer\n",
    "        elif target<obj_array[pointer]:\n",
    "            return binary_search(obj_array[:pointer], target)\n",
    "        else:\n",
    "            return binary_search(obj_array[pointer+1:], target)"
   ]
  },
  {
   "cell_type": "code",
   "execution_count": 11,
   "metadata": {},
   "outputs": [
    {
     "data": {
      "text/plain": [
       "0"
      ]
     },
     "execution_count": 11,
     "metadata": {},
     "output_type": "execute_result"
    }
   ],
   "source": [
    "## Valid\n",
    "\n",
    "\n",
    "## Boundary\n",
    "\n",
    "## Invalid"
   ]
  },
  {
   "attachments": {},
   "cell_type": "markdown",
   "metadata": {},
   "source": [
    "Sorting Algorithms"
   ]
  },
  {
   "cell_type": "code",
   "execution_count": null,
   "metadata": {},
   "outputs": [],
   "source": [
    "### \n",
    "def bubbleSort(arr):\n",
    "    swap = False\n",
    "    for i in range(len(arr)-1):\n",
    "        for j in range(len(arr)-1):\n",
    "            if arr[j] > arr[j+1]:\n",
    "                arr[j],arr[j+1] = arr[j+1],arr[j]\n",
    "                print(arr)\n",
    "                swap = True\n",
    "        if swap == False:\n",
    "                break\n",
    "    return arr"
   ]
  },
  {
   "attachments": {},
   "cell_type": "markdown",
   "metadata": {},
   "source": [
    "What is the purpose of swap ?\n"
   ]
  },
  {
   "cell_type": "markdown",
   "metadata": {},
   "source": []
  },
  {
   "cell_type": "code",
   "execution_count": null,
   "metadata": {},
   "outputs": [],
   "source": [
    "def bbsort(arr):\n",
    "    for i in range(len(arr)):\n",
    "        if arr[i] > arr[i+1]:\n",
    "            arr[i], arr[i+1] = arr[i+1], arr[i]\n",
    "            bbsort(arr)\n",
    "    return arr"
   ]
  },
  {
   "attachments": {},
   "cell_type": "markdown",
   "metadata": {},
   "source": [
    "____\n",
    "##### Base conversion"
   ]
  },
  {
   "cell_type": "code",
   "execution_count": 14,
   "metadata": {},
   "outputs": [],
   "source": [
    "## base k to 10\n",
    "def convert(input_str, base):\n",
    "    ret = 0\n",
    "    for i in range(0, len(input_str)):\n",
    "        ret += int(input_str[i]) * (base**(len(input_str)-1-i))\n",
    "    return ret"
   ]
  },
  {
   "cell_type": "code",
   "execution_count": null,
   "metadata": {},
   "outputs": [],
   "source": [
    "import string\n",
    "def base10_k(n,k):\n",
    "    res = \"\"\n",
    "    map = string.digits + string.ascii_uppercase\n",
    "    while n>0:\n",
    "        res += map[n%k]\n",
    "        n = n//k\n",
    "    return res"
   ]
  },
  {
   "cell_type": "code",
   "execution_count": null,
   "metadata": {},
   "outputs": [],
   "source": [
    "def denary_to_basek(n, k):\n",
    "    temp_n = n\n",
    "    res = \"\"\n",
    "    while(temp_n > 0):\n",
    "        res = res + str(temp_n % k)\n",
    "        temp_n = int(temp_n / k)\n",
    "    return res"
   ]
  },
  {
   "attachments": {},
   "cell_type": "markdown",
   "metadata": {},
   "source": [
    "____\n",
    "Iterative Merger Sort"
   ]
  },
  {
   "cell_type": "code",
   "execution_count": null,
   "metadata": {},
   "outputs": [],
   "source": [
    "def m_merge(*L): ## L is a tuple for the list of variable arguments \n",
    "    M = [ l for l in L ] ## List of sorted lists, need a List because we need to mutate it\n",
    "    ret=[]\n",
    "    while any (M): ## continue while there is still a non-empty list\n",
    "        val, i  = min([ (l[0],i) for i, l  in enumerate(M) if len(l) ])\n",
    "        ## get the smallest 1st element among all the list , a tuple is is used to include the index to that list\n",
    "        ret.append(val)\n",
    "        M[i].pop(0)\n",
    "    return ret"
   ]
  },
  {
   "cell_type": "code",
   "execution_count": null,
   "metadata": {},
   "outputs": [],
   "source": [
    "## Jia Le\n",
    "def merge_sort(l):\n",
    "    temp = []\n",
    "    for i in range(0,len(l),2):\n",
    "        try:\n",
    "            temp.append(m_merge([l[i]],[l[i+1]]))\n",
    "        except:\n",
    "            temp.append([l[i]])\n",
    "    while True:\n",
    "        temp2 = []\n",
    "        for i in range(0, len(temp), 2):\n",
    "            try:\n",
    "                temp2.append(m_merge(temp[i], temp[i + 1]))\n",
    "            except:\n",
    "                temp2.append(temp[i])\n",
    "        if len(temp2) == 1:\n",
    "            break\n",
    "        else:\n",
    "            temp = temp2\n",
    "    return temp2[0]"
   ]
  },
  {
   "cell_type": "code",
   "execution_count": 16,
   "metadata": {},
   "outputs": [
    {
     "data": {
      "text/plain": [
       "3"
      ]
     },
     "execution_count": 16,
     "metadata": {},
     "output_type": "execute_result"
    }
   ],
   "source": [
    "binary_search([2,4,6,8,8,8,10,20],8)"
   ]
  },
  {
   "attachments": {},
   "cell_type": "markdown",
   "metadata": {},
   "source": [
    "____\n",
    "Priority Queue"
   ]
  },
  {
   "cell_type": "code",
   "execution_count": null,
   "metadata": {},
   "outputs": [],
   "source": [
    "## LZ modified Queue Code here\n",
    "#task 1\n",
    "class Queue:\n",
    "  def __init__(self,size): \n",
    "    self.__arr = [None for i in range(size)] # fixed size\n",
    "    self.size = size\n",
    "    self.head = 0 ##\n",
    "    self.tail = 0 ##\n",
    "    self.queueSize = 0\n",
    "  def getArr(self):\n",
    "    return self.__arr\n",
    "  ### \n",
    "  def __repr__(self):\n",
    "    ret = []\n",
    "    if self.isempty():\n",
    "      return f\"{ret}\"\n",
    "    cur = self.head\n",
    "    while True:\n",
    "      ret.append( self.__arr[cur])\n",
    "      cur = (cur+1)%self.size\n",
    "      if cur == self.tail:\n",
    "        break\n",
    "    return f\"{ret}\"\n",
    "\n",
    "  def isempty(self):\n",
    "    if self.queueSize == 0:\n",
    "      return True\n",
    "    else:\n",
    "      return False\n",
    "  def isFull(self):\n",
    "    if self.size == self.queueSize:\n",
    "      return True\n",
    "    else:\n",
    "      return False\n",
    "  def enqueue(self,itm):\n",
    "    if self.isFull(): \n",
    "      print(\"Queue is full\")\n",
    "      return\n",
    "    else:\n",
    "      self.__arr[self.tail] = itm\n",
    "      self.tail = (self.tail+1)% self.size ##\n",
    "      self.queueSize += 1\n",
    "\n",
    "  def dequeue(self):\n",
    "    if self.isempty(): #meaning empty array\n",
    "      print('Queue is alr empty')\n",
    "    else:\n",
    "      ret = self.__arr[self.head]\n",
    "      self.__arr[self.head] = None\n",
    "      self.head = (self.head+1)%self.size ##\n",
    "      self.queueSize -= 1\n",
    "      return ret\n",
    "\n",
    "#Task 2 \n",
    "class Job:\n",
    "    def __init__(self,w):\n",
    "        self.weight = w\n",
    "    \n",
    "    def __str__(self):\n",
    "        return f'{self.weight}'\n",
    "    \n",
    " "
   ]
  },
  {
   "cell_type": "code",
   "execution_count": null,
   "metadata": {},
   "outputs": [],
   "source": []
  }
 ],
 "metadata": {
  "kernelspec": {
   "display_name": "Python 3",
   "language": "python",
   "name": "python3"
  },
  "language_info": {
   "codemirror_mode": {
    "name": "ipython",
    "version": 3
   },
   "file_extension": ".py",
   "mimetype": "text/x-python",
   "name": "python",
   "nbconvert_exporter": "python",
   "pygments_lexer": "ipython3",
   "version": "3.6.4"
  },
  "orig_nbformat": 4,
  "vscode": {
   "interpreter": {
    "hash": "f4e9cda46bb2d9d7fe6ecdff0f8336a934348bf06cb492f2f42f60739b3403b4"
   }
  }
 },
 "nbformat": 4,
 "nbformat_minor": 2
}
