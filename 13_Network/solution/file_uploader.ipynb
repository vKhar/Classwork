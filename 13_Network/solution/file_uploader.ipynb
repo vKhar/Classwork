{
 "cells": [
  {
   "cell_type": "code",
   "execution_count": null,
   "metadata": {},
   "outputs": [],
   "source": [
    "## File upload server, Iterarive mode\n",
    "\n",
    "from socket import socket\n",
    "\n",
    "listen_socket = socket() ## ipv4, TCP\n",
    "listen_socket.bind( ('127.0.0.1', 1234) )\n",
    "print(\"Server in listen mode ...\")\n",
    "listen_socket.listen() ## default argument\n",
    "while True:\n",
    "    client_socket, remote_address = listen_socket.accept() ## blocks and wait for client connection\n",
    "    print( f\"Acception connection from {remote_address[0]}:{remote_address[1]}\")\n",
    "    message =\"\"\n",
    "    while True:\n",
    "        data = client_socket.recv(4096) ## max size from client is 4K\n",
    "        data = data.decode()\n",
    "        message += data\n",
    "        if not data or chr(0) in data:\n",
    "            break\n",
    "    i = message.index(\"\\n\")\n",
    "    f = open(message[:i],\"w\")\n",
    "    f.write(message[i+1:-1])\n",
    "    f.close()\n",
    "    client_socket.close()\n",
    "\n",
    "listen_socket.close()\n",
    "print(\"Closing listen socket\")"
   ]
  },
  {
   "cell_type": "code",
   "execution_count": null,
   "metadata": {},
   "outputs": [],
   "source": [
    "### Client Code\n",
    "from socket import socket\n",
    "f = open(\"HAMLET.txt\", \"r\")\n",
    "bytes_stream = f.read().encode() + chr(0).encode()\n",
    "f.close()\n",
    "print(\"Start of File Transfer\")\n",
    "s = socket()\n",
    "s.connect( ('127.0.0.1',1234)  )\n",
    "s.sendall(b\"hamster.txt\\n\")\n",
    "s.sendall(bytes_stream)\n",
    "print(\"End of File Transfer\")"
   ]
  },
  {
   "cell_type": "code",
   "execution_count": null,
   "metadata": {},
   "outputs": [],
   "source": [
    "## Echo Server, unknown size of received message\n",
    "\n",
    "import socket\n",
    "\n",
    "listen_socket = socket.socket() ## ipv4, TCP\n",
    "listen_socket.bind( ('127.0.0.1', 1234) )\n",
    "print(\"Server in listen mode ...\")\n",
    "listen_socket.listen() ## default argument\n",
    "while True:\n",
    "    client_socket, remote_address = listen_socket.accept() ## blocks and wait for client connection\n",
    "    print( f\"Acception connection from {remote_address[0]}:{remote_address[1]}\")\n",
    "    message=b\"\"\n",
    "    while True:\n",
    "        chunk = client_socket.recv(123) ## how big ??\n",
    "        message += chunk\n",
    "        if chr(0).encode() in chunk:\n",
    "            break\n",
    "    message = message.decode()\n",
    "    print(message)\n",
    "    ## Terminate Server\n",
    "    if message[:-1] == \"bye\":\n",
    "        break\n",
    "listen_socket.close()\n",
    "print(\"Closing listen socket\")"
   ]
  }
 ],
 "metadata": {
  "kernelspec": {
   "display_name": "Python 3",
   "language": "python",
   "name": "python3"
  },
  "language_info": {
   "codemirror_mode": {
    "name": "ipython",
    "version": 3
   },
   "file_extension": ".py",
   "mimetype": "text/x-python",
   "name": "python",
   "nbconvert_exporter": "python",
   "pygments_lexer": "ipython3",
   "version": "3.6.4"
  },
  "orig_nbformat": 4
 },
 "nbformat": 4,
 "nbformat_minor": 2
}
